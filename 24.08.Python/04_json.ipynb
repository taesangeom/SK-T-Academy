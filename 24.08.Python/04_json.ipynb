{
  "nbformat": 4,
  "nbformat_minor": 0,
  "metadata": {
    "colab": {
      "provenance": [],
      "authorship_tag": "ABX9TyNkZm7kb2fYBS+L+rTPTX5I",
      "include_colab_link": true
    },
    "kernelspec": {
      "name": "python3",
      "display_name": "Python 3"
    },
    "language_info": {
      "name": "python"
    }
  },
  "cells": [
    {
      "cell_type": "markdown",
      "metadata": {
        "id": "view-in-github",
        "colab_type": "text"
      },
      "source": [
        "<a href=\"https://colab.research.google.com/github/taesangeom/SK-T-Academy/blob/main/24.08.Python/04_json.ipynb\" target=\"_parent\"><img src=\"https://colab.research.google.com/assets/colab-badge.svg\" alt=\"Open In Colab\"/></a>"
      ]
    },
    {
      "cell_type": "code",
      "execution_count": null,
      "metadata": {
        "id": "g1F8Tt2txKvV"
      },
      "outputs": [],
      "source": [
        "# JSON : 서로 다른 프로그램 /서비스/ 어플리케이션 사이에\n",
        "#        데이터를 주고 받을 때 사용하는 양식 중 하나..\n",
        "#        ==> 어떤 값은 뭐구요~~~, 그 값은 어떤 양식 해당!!!!\n",
        "#        파이썬의 리스트와 dict 상당히 유사함!!!!!\n",
        "\n",
        "# 실제 JSON 데이터 : 문자열로 작성된어 있는 text 데이트!!!\n",
        "# ---> 보면 양식이 거의 파이썬의 리스트, dict에 대응!!!\n",
        "# ---> re정규식을 활용해서 정보들을 추출해야하는데..,,\n",
        "#      json양식은 파이썬의 자료형으로 변환해주는 패키지!!!\n",
        "#      json 패키지를 사용(anaconda, colba 기본 패키지..)\n",
        "#      정규식안 써도 파이썬의 리스트./dict 값을 접근할 수 있도록 변환!!!!"
      ]
    },
    {
      "cell_type": "code",
      "source": [
        "import json"
      ],
      "metadata": {
        "id": "SUjKUWJkyBlX"
      },
      "execution_count": null,
      "outputs": []
    },
    {
      "cell_type": "code",
      "source": [
        "json_data1= \"\"\"{\n",
        "    \"color\":\"red\",\n",
        "    \"value\":\"$100\"\n",
        "}\n",
        "\"\"\"\n",
        "json_data1"
      ],
      "metadata": {
        "colab": {
          "base_uri": "https://localhost:8080/",
          "height": 35
        },
        "id": "_epi1OhgyEO1",
        "outputId": "056cc9a3-b803-4418-d945-a26dbb16bdb2"
      },
      "execution_count": null,
      "outputs": [
        {
          "output_type": "execute_result",
          "data": {
            "text/plain": [
              "'{\\n    \"color\":\"red\",\\n    \"value\":\"$100\"\\n}\\n'"
            ],
            "application/vnd.google.colaboratory.intrinsic+json": {
              "type": "string"
            }
          },
          "metadata": {},
          "execution_count": 2
        }
      ]
    },
    {
      "cell_type": "code",
      "source": [
        "json_data1[\"color\"]"
      ],
      "metadata": {
        "colab": {
          "base_uri": "https://localhost:8080/",
          "height": 145
        },
        "id": "6nnahiKjyE7d",
        "outputId": "e9e3b1b5-950f-4835-d22c-f956529a5285"
      },
      "execution_count": null,
      "outputs": [
        {
          "output_type": "error",
          "ename": "TypeError",
          "evalue": "string indices must be integers",
          "traceback": [
            "\u001b[0;31m---------------------------------------------------------------------------\u001b[0m",
            "\u001b[0;31mTypeError\u001b[0m                                 Traceback (most recent call last)",
            "\u001b[0;32m<ipython-input-3-9a0e7eebb0be>\u001b[0m in \u001b[0;36m<cell line: 1>\u001b[0;34m()\u001b[0m\n\u001b[0;32m----> 1\u001b[0;31m \u001b[0mjson_data1\u001b[0m\u001b[0;34m[\u001b[0m\u001b[0;34m\"color\"\u001b[0m\u001b[0;34m]\u001b[0m\u001b[0;34m\u001b[0m\u001b[0;34m\u001b[0m\u001b[0m\n\u001b[0m",
            "\u001b[0;31mTypeError\u001b[0m: string indices must be integers"
          ]
        }
      ]
    },
    {
      "cell_type": "code",
      "source": [
        "result = json.loads(json_data1)\n",
        "result"
      ],
      "metadata": {
        "colab": {
          "base_uri": "https://localhost:8080/"
        },
        "id": "zx1glNKfyH_n",
        "outputId": "e85d6401-cb55-419b-d1ab-d11e99e2a591"
      },
      "execution_count": null,
      "outputs": [
        {
          "output_type": "execute_result",
          "data": {
            "text/plain": [
              "{'color': 'red', 'value': '$100'}"
            ]
          },
          "metadata": {},
          "execution_count": 4
        }
      ]
    },
    {
      "cell_type": "code",
      "source": [
        "type(result)"
      ],
      "metadata": {
        "colab": {
          "base_uri": "https://localhost:8080/"
        },
        "id": "mbcASoGpyMCN",
        "outputId": "1b7cbce4-fb81-4eeb-cffe-3ccd8ba1af45"
      },
      "execution_count": null,
      "outputs": [
        {
          "output_type": "execute_result",
          "data": {
            "text/plain": [
              "dict"
            ]
          },
          "metadata": {},
          "execution_count": 5
        }
      ]
    },
    {
      "cell_type": "code",
      "source": [
        "result[\"color\"]"
      ],
      "metadata": {
        "colab": {
          "base_uri": "https://localhost:8080/",
          "height": 35
        },
        "id": "-umB3770ycOt",
        "outputId": "4cfa52d5-e784-43a9-fe8f-d943b0f22ac2"
      },
      "execution_count": null,
      "outputs": [
        {
          "output_type": "execute_result",
          "data": {
            "text/plain": [
              "'red'"
            ],
            "application/vnd.google.colaboratory.intrinsic+json": {
              "type": "string"
            }
          },
          "metadata": {},
          "execution_count": 6
        }
      ]
    },
    {
      "cell_type": "code",
      "source": [
        "json_data2 = \"\"\"{\n",
        "    \"id\" : \"0001\",\n",
        "    \"type\" : \"donut\",\n",
        "    \"name\" : \"Cake\",\n",
        "    \"ppu\" : 0.55,\n",
        "    \"groups\" : {\n",
        "        \"group\" : [\n",
        "                    {\"id\":\"1001\", \"type\":\"Regular\"},\n",
        "                    {\"id\":\"1002\", \"type\":\"Choco\"},\n",
        "                    {\"id\":\"1003\", \"type\":\"Cream\"}\n",
        "                ]\n",
        "    },\n",
        "    \"topping\" : [\n",
        "        {\"id\":\"5001\", \"type\":\"None\"},\n",
        "        {\"id\":\"5002\", \"type\":\"Sugar\"},\n",
        "        {\"id\":\"5003\", \"type\":\"Choco\"}\n",
        "    ]\n",
        "}\n",
        "\"\"\"\n",
        "json_data2"
      ],
      "metadata": {
        "colab": {
          "base_uri": "https://localhost:8080/",
          "height": 71
        },
        "id": "Fyi6MWfwyg1d",
        "outputId": "b6dc74ed-5949-4a3c-ec72-80a05386ff04"
      },
      "execution_count": null,
      "outputs": [
        {
          "output_type": "execute_result",
          "data": {
            "text/plain": [
              "'{\\n    \"id\" : \"0001\",\\n    \"type\" : \"donut\",\\n    \"name\" : \"Cake\",\\n    \"ppu\" : 0.55,\\n    \"groups\" : {\\n        \"group\" : [\\n                    {\"id\":\"1001\", \"type\":\"Regular\"},\\n                    {\"id\":\"1002\", \"type\":\"Choco\"},\\n                    {\"id\":\"1003\", \"type\":\"Cream\"}\\n                ]\\n    },\\n    \"topping\" : [\\n        {\"id\":\"5001\", \"type\":\"None\"},\\n        {\"id\":\"5002\", \"type\":\"Sugar\"},\\n        {\"id\":\"5003\", \"type\":\"Choco\"}\\n    ]\\n}\\n'"
            ],
            "application/vnd.google.colaboratory.intrinsic+json": {
              "type": "string"
            }
          },
          "metadata": {},
          "execution_count": 7
        }
      ]
    },
    {
      "cell_type": "code",
      "source": [
        "data = json.loads(json_data2)\n",
        "data\n",
        "# json 양식으로 작성된 문자열을\n",
        "# ==> 파이썬의 자료형으로 변환을 해준다!!!! json 패키지!!!\n",
        "# ==> 원하는 값의 접근을 정규식이 아니라,,,\n",
        "#     정수인덱스, 키값 중심으로 접근을 할 수 있다!!!!!"
      ],
      "metadata": {
        "colab": {
          "base_uri": "https://localhost:8080/"
        },
        "id": "9Wn8KYgqyjuV",
        "outputId": "522c0239-3f93-4978-e671-6ce825ba3922"
      },
      "execution_count": null,
      "outputs": [
        {
          "output_type": "execute_result",
          "data": {
            "text/plain": [
              "{'id': '0001',\n",
              " 'type': 'donut',\n",
              " 'name': 'Cake',\n",
              " 'ppu': 0.55,\n",
              " 'groups': {'group': [{'id': '1001', 'type': 'Regular'},\n",
              "   {'id': '1002', 'type': 'Choco'},\n",
              "   {'id': '1003', 'type': 'Cream'}]},\n",
              " 'topping': [{'id': '5001', 'type': 'None'},\n",
              "  {'id': '5002', 'type': 'Sugar'},\n",
              "  {'id': '5003', 'type': 'Choco'}]}"
            ]
          },
          "metadata": {},
          "execution_count": 8
        }
      ]
    },
    {
      "cell_type": "code",
      "source": [
        "type(data)"
      ],
      "metadata": {
        "colab": {
          "base_uri": "https://localhost:8080/"
        },
        "id": "bB4zzC3qzVu9",
        "outputId": "1e3defd4-65e5-4913-db4c-8fb7f80a693e"
      },
      "execution_count": null,
      "outputs": [
        {
          "output_type": "execute_result",
          "data": {
            "text/plain": [
              "dict"
            ]
          },
          "metadata": {},
          "execution_count": 9
        }
      ]
    },
    {
      "cell_type": "code",
      "source": [
        "data.keys()"
      ],
      "metadata": {
        "colab": {
          "base_uri": "https://localhost:8080/"
        },
        "id": "CD3v8VuZzXRd",
        "outputId": "0862682c-bae1-4cca-8820-ab056029643e"
      },
      "execution_count": null,
      "outputs": [
        {
          "output_type": "execute_result",
          "data": {
            "text/plain": [
              "dict_keys(['id', 'type', 'name', 'ppu', 'groups', 'topping'])"
            ]
          },
          "metadata": {},
          "execution_count": 10
        }
      ]
    },
    {
      "cell_type": "code",
      "source": [
        "data[\"id\"]"
      ],
      "metadata": {
        "colab": {
          "base_uri": "https://localhost:8080/",
          "height": 35
        },
        "id": "8kKkWb3azbUV",
        "outputId": "f940567c-cf2c-4ebd-d4e2-470be72810eb"
      },
      "execution_count": null,
      "outputs": [
        {
          "output_type": "execute_result",
          "data": {
            "text/plain": [
              "'0001'"
            ],
            "application/vnd.google.colaboratory.intrinsic+json": {
              "type": "string"
            }
          },
          "metadata": {},
          "execution_count": 11
        }
      ]
    },
    {
      "cell_type": "code",
      "source": [
        "# ex) 받은 데이터 주엥서 topping 항목 중에서\n",
        "#     처음 토핑항목의 id 값은 얼마?\n",
        "data[\"topping\"][0][\"id\"]"
      ],
      "metadata": {
        "colab": {
          "base_uri": "https://localhost:8080/",
          "height": 35
        },
        "id": "PGigAI6NzmU9",
        "outputId": "6f36df13-00db-4c5d-8d5e-0f264d52b21b"
      },
      "execution_count": null,
      "outputs": [
        {
          "output_type": "execute_result",
          "data": {
            "text/plain": [
              "'5001'"
            ],
            "application/vnd.google.colaboratory.intrinsic+json": {
              "type": "string"
            }
          },
          "metadata": {},
          "execution_count": 12
        }
      ]
    },
    {
      "cell_type": "code",
      "source": [
        "data[\"groups\"]['group'][1]['type']"
      ],
      "metadata": {
        "colab": {
          "base_uri": "https://localhost:8080/",
          "height": 35
        },
        "id": "euozbSMUz8tc",
        "outputId": "6e3e16bb-36fa-4208-e98f-7486cdb3d780"
      },
      "execution_count": null,
      "outputs": [
        {
          "output_type": "execute_result",
          "data": {
            "text/plain": [
              "'Choco'"
            ],
            "application/vnd.google.colaboratory.intrinsic+json": {
              "type": "string"
            }
          },
          "metadata": {},
          "execution_count": 14
        }
      ]
    }
  ]
}