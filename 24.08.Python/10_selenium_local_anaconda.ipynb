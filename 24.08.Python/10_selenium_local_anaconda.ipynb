{
  "cells": [
    {
      "cell_type": "markdown",
      "metadata": {
        "id": "view-in-github",
        "colab_type": "text"
      },
      "source": [
        "<a href=\"https://colab.research.google.com/github/taesangeom/SK-T-Academy/blob/main/24.08.Python/10_selenium_local_anaconda.ipynb\" target=\"_parent\"><img src=\"https://colab.research.google.com/assets/colab-badge.svg\" alt=\"Open In Colab\"/></a>"
      ]
    },
    {
      "cell_type": "code",
      "execution_count": null,
      "id": "09489e22-7b37-4394-8b8d-fe84e3c2dbe1",
      "metadata": {
        "id": "09489e22-7b37-4394-8b8d-fe84e3c2dbe1"
      },
      "outputs": [],
      "source": [
        "import selenium"
      ]
    },
    {
      "cell_type": "code",
      "execution_count": null,
      "id": "1191e0f9-fc8f-4530-ab9d-829768590dc1",
      "metadata": {
        "id": "1191e0f9-fc8f-4530-ab9d-829768590dc1"
      },
      "outputs": [],
      "source": [
        "from selenium import webdriver\n",
        "from selenium.webdriver.chrome.service import Service"
      ]
    },
    {
      "cell_type": "code",
      "execution_count": null,
      "id": "d742a9ef-692c-4c50-b7de-f7cb04b8a4f8",
      "metadata": {
        "id": "d742a9ef-692c-4c50-b7de-f7cb04b8a4f8"
      },
      "outputs": [],
      "source": [
        "# 필요한 정보들을 접근 -> By. 찾을요소  -> 4.X 주된 변화 중 하나\n",
        "from selenium.webdriver.common.by import By"
      ]
    },
    {
      "cell_type": "code",
      "execution_count": null,
      "id": "d69e6197-827d-40a6-8015-bfe9571110c2",
      "metadata": {
        "id": "d69e6197-827d-40a6-8015-bfe9571110c2"
      },
      "outputs": [],
      "source": [
        "from selenium.webdriver.common.keys import Keys  # 마우스 스크롤을 해야 한다면"
      ]
    },
    {
      "cell_type": "code",
      "execution_count": null,
      "id": "0801b652-0cf3-40ab-b8db-833b0d5b85a4",
      "metadata": {
        "id": "0801b652-0cf3-40ab-b8db-833b0d5b85a4"
      },
      "outputs": [],
      "source": [
        "# webdriver 는 브라우저 마다 다 있음"
      ]
    },
    {
      "cell_type": "code",
      "execution_count": null,
      "id": "6af3c75b-a844-4619-b24d-a88ee22a027c",
      "metadata": {
        "id": "6af3c75b-a844-4619-b24d-a88ee22a027c"
      },
      "outputs": [],
      "source": [
        "path=r\"C:\\Users\\NT551_11TH\\Desktop\\chromedriver.exe\"  #개인마다 경로 맞춰서"
      ]
    },
    {
      "cell_type": "code",
      "execution_count": null,
      "id": "12b731f4-f07c-4c65-bbb9-03aebeada54a",
      "metadata": {
        "id": "12b731f4-f07c-4c65-bbb9-03aebeada54a"
      },
      "outputs": [],
      "source": [
        "# 참고 : 셀레니움 4.xx 접속도 변경이 좀 되었음\n",
        "s=Service(path)\n",
        "#컨트롤 하려는 브라우저에 대한 변수화 : driver\n",
        "driver=webdriver.Chrome(service=s)\n",
        "\n",
        "#내가 가려는 url  에 대해서 접속하자\n",
        "driver.set_window_size(1000,1000)\n",
        "url=\"https://naver.com\"\n",
        "driver.get(url)\n",
        "#혹시 이 페이지의 소스코드를 봐야 한다면\n",
        "#driver.page_source\n",
        "#네이버 창에 검색어를 입력하고 싶다면\n",
        "# 검색창의 검색어는\n",
        "query_text=\"bts\"\n",
        "#네이버 사이트의 어느 위치에 어디에 이 검색어를 입력할지 찾아야 함.\n",
        "# 그 요소의 경로 xpath등\n",
        "# 규칙이 안잡히면 full_xpath 혹은 css,js 등\n",
        "element=driver.find_element(By.XPATH,'//*[@id=\"query\"]')  # element 는 하나만\n",
        "#/html/body/div[2]/div[1]/div/div[3]/div/div/form/fieldset/div/input  <- full_xpath 이다.태그 중심으로\n",
        "element.send_keys(query_text)\n",
        "\n",
        "#-> 그 검색어로 결과를 요청 (엔터) 해야함\n",
        "driver.find_element(By.XPATH,'//*[@id=\"search-btn\"]').click()\n",
        "\n",
        "#참고 ) 화면 캡쳐\n",
        "driver.save_screenshot(\"test_bts.png\")\n",
        "\n",
        "#참고 자동으로 브라우저 종료\n",
        "driver.quit()\n"
      ]
    }
  ],
  "metadata": {
    "kernelspec": {
      "display_name": "Python 3 (ipykernel)",
      "language": "python",
      "name": "python3"
    },
    "language_info": {
      "codemirror_mode": {
        "name": "ipython",
        "version": 3
      },
      "file_extension": ".py",
      "mimetype": "text/x-python",
      "name": "python",
      "nbconvert_exporter": "python",
      "pygments_lexer": "ipython3",
      "version": "3.12.4"
    },
    "colab": {
      "provenance": [],
      "include_colab_link": true
    }
  },
  "nbformat": 4,
  "nbformat_minor": 5
}