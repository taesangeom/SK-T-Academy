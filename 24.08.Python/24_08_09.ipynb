{
  "nbformat": 4,
  "nbformat_minor": 0,
  "metadata": {
    "colab": {
      "provenance": [],
      "authorship_tag": "ABX9TyPEh8LLI8us4FPXVI00vdrq",
      "include_colab_link": true
    },
    "kernelspec": {
      "name": "python3",
      "display_name": "Python 3"
    },
    "language_info": {
      "name": "python"
    }
  },
  "cells": [
    {
      "cell_type": "markdown",
      "metadata": {
        "id": "view-in-github",
        "colab_type": "text"
      },
      "source": [
        "<a href=\"https://colab.research.google.com/github/taesangeom/SK-T-Academy/blob/main/24.08.Python/24_08_09.ipynb\" target=\"_parent\"><img src=\"https://colab.research.google.com/assets/colab-badge.svg\" alt=\"Open In Colab\"/></a>"
      ]
    },
    {
      "cell_type": "code",
      "execution_count": null,
      "metadata": {
        "id": "LpSm2OAcd9IT"
      },
      "outputs": [],
      "source": [
        "# 어제까지는 파이썬 자료형 + 반복문 + 제어\n",
        "\n",
        "#numpy 사용해서 더 다차원적으로 표현\n",
        "#리스트 - append,제거 + 코테를 위해서는 기능 더 학습할것  []\n",
        "#튜플 - 수정불가 , 값의 접근만 가능  ()\n",
        "#튜플과 리스트 개별 접근 : 정수 인덱스 / 슬라이싱\n",
        "\n",
        "#set -> 수학적인 집합 : 중복제거,순서 없음,유니크한 값, 위치인덱스 불가 -> 형변환 필요 {}\n",
        "#dict -> {key:value} : 접근은 인덱스 자리에 [키] 로 접근 keys,values,items() 등 응용가능\n",
        "# 리스트는 enumerate(리스트) -> 정수인덱스\n",
        "#잡다한 기능까지 머리에 정리하기\n",
        "\n",
        "#반복과 제어 잘 사용하기\n",
        "\n",
        "#제어 if elif else (크게 잘 걸리는 조건 위로) else는 pass 아니면 생략하기 오류제어위해\n",
        "\n",
        "# 반복문 : 주로 for문\n",
        "#코테에서는 for와 while 사용\n",
        "# 딱 정해진 여러개의 값들을 롤링\n",
        "# for 대표문자들 in 여러개의 값\n",
        "#while 문 : 조건이 만족할 때 까지 주구장창 + 탈출조건에 대한 설계 range(시작점, 끝점, 간격) 끝점에 대해서는 체크 필요\n",
        "\n"
      ]
    },
    {
      "cell_type": "code",
      "source": [
        "#리스트 필터링 보충 설명\n",
        "\n",
        "#필터링 하려는 것 여러개 나열\n",
        "\n",
        "a=[1,1,2,3,3,4,4,4,4,5,5,5,6,6]\n",
        "b=[1,3,5]\n",
        "for i in a:\n",
        "  if i in b:         # in/not in 을 적극적으로 활용\n",
        "    print(i)\n",
        "\n",
        "# for 문의 in 은 돌릴 대상 지정 / 조건문에서의 in은 필터링 대상들 리스트업할때"
      ],
      "metadata": {
        "colab": {
          "base_uri": "https://localhost:8080/"
        },
        "id": "LT08zEMLj8al",
        "outputId": "77c672cf-3d12-4d69-eace-41659683dbf1"
      },
      "execution_count": 1,
      "outputs": [
        {
          "output_type": "stream",
          "name": "stdout",
          "text": [
            "1\n",
            "1\n",
            "3\n",
            "3\n",
            "5\n",
            "5\n",
            "5\n"
          ]
        }
      ]
    },
    {
      "cell_type": "code",
      "source": [
        "a=[1,2,2,2,3,3,3,4,4,4,5,5]\n",
        "b=[1,3,5]\n",
        "# 리스트 컴프리헨션\n",
        "\n"
      ],
      "metadata": {
        "id": "NIAXTTnQkzJ2"
      },
      "execution_count": 7,
      "outputs": []
    },
    {
      "cell_type": "code",
      "source": [
        "[i+10 for i in a if i not in b]\n"
      ],
      "metadata": {
        "colab": {
          "base_uri": "https://localhost:8080/"
        },
        "id": "NrU91EfulNx9",
        "outputId": "2055a233-5703-430b-bf2b-39b4e5e1d4a9"
      },
      "execution_count": 9,
      "outputs": [
        {
          "output_type": "execute_result",
          "data": {
            "text/plain": [
              "[12, 12, 12, 14, 14, 14]"
            ]
          },
          "metadata": {},
          "execution_count": 9
        }
      ]
    },
    {
      "cell_type": "code",
      "source": [
        "a=[90,34,78,23,90,57,68,60,34,58]"
      ],
      "metadata": {
        "id": "iv9tyjztmNlM"
      },
      "execution_count": 10,
      "outputs": []
    },
    {
      "cell_type": "code",
      "source": [
        "b=[i for i in a if i>=60]\n",
        "len(b)"
      ],
      "metadata": {
        "colab": {
          "base_uri": "https://localhost:8080/"
        },
        "id": "iNRHIcvYmWXj",
        "outputId": "80fb4610-38ea-4a27-906d-8eb60398c9d9"
      },
      "execution_count": 11,
      "outputs": [
        {
          "output_type": "execute_result",
          "data": {
            "text/plain": [
              "5"
            ]
          },
          "metadata": {},
          "execution_count": 11
        }
      ]
    },
    {
      "cell_type": "code",
      "source": [
        "# 코테: 규칙이 없다면 최소한으로 리스트업하는 방식도 고민하기 ( 규칙에 대해 생각하기)\n",
        "\n",
        "# 리스트 컴프리헨션 적극 사용 파이썬에서는"
      ],
      "metadata": {
        "id": "s1rTGCvgs-NH"
      },
      "execution_count": null,
      "outputs": []
    },
    {
      "cell_type": "code",
      "source": [
        "# 딕셔너리 관련\n",
        "\n",
        "#문제) a={\"A\":90,\"B\":80,\"C\":70} 이중에서 B의 점수 출력하세요\n",
        "\n",
        "a={\"A\":90,\"B\":80,\"C\":70}\n",
        "a\n",
        "\n"
      ],
      "metadata": {
        "colab": {
          "base_uri": "https://localhost:8080/"
        },
        "id": "2Ght8liVtR5W",
        "outputId": "3d82c6c1-18b9-4ccd-98d4-1d46b37e5728"
      },
      "execution_count": 12,
      "outputs": [
        {
          "output_type": "execute_result",
          "data": {
            "text/plain": [
              "{'A': 90, 'B': 80, 'C': 70}"
            ]
          },
          "metadata": {},
          "execution_count": 12
        }
      ]
    },
    {
      "cell_type": "code",
      "source": [
        "a[\"B\"] #대소문자, 공백 주의 (키 입력시)"
      ],
      "metadata": {
        "colab": {
          "base_uri": "https://localhost:8080/"
        },
        "id": "d88JuxPytq4W",
        "outputId": "2d46af0e-b32d-415c-ec30-cddbdfed9f7a"
      },
      "execution_count": 13,
      "outputs": [
        {
          "output_type": "execute_result",
          "data": {
            "text/plain": [
              "80"
            ]
          },
          "metadata": {},
          "execution_count": 13
        }
      ]
    },
    {
      "cell_type": "code",
      "source": [
        "#파이썬의 자료형 인덱싱할때는 자료형에 상관없이 대부분 [] 사용해보자\n",
        "\n",
        "#numpy의 array 차이점 -> []안에 리스트도 전달 가능\n",
        "#pandas의 DataFrame/Series 자료형 -> a[내가만든인덱스] 자유롭게 접근가능\n"
      ],
      "metadata": {
        "colab": {
          "base_uri": "https://localhost:8080/"
        },
        "id": "epgpAy9Ht_k0",
        "outputId": "a65226f8-3e77-4db8-df06-92f4cd6f0f61"
      },
      "execution_count": 14,
      "outputs": [
        {
          "output_type": "execute_result",
          "data": {
            "text/plain": [
              "3"
            ]
          },
          "metadata": {},
          "execution_count": 14
        }
      ]
    },
    {
      "cell_type": "code",
      "source": [
        "#문제) a={\"A\":30,\"B\":50,\"C\":60,\"D\":39,\"E\":67,\"F\":98}\n",
        "#최고점 최저점 찾기\n",
        "a={\"A\":30,\"B\":50,\"C\":60,\"D\":39,\"E\":67,\"F\":98}\n",
        "a"
      ],
      "metadata": {
        "colab": {
          "base_uri": "https://localhost:8080/"
        },
        "id": "TdoLcFOyvSN2",
        "outputId": "f41ca932-3418-482f-9ed8-6ef57ec9ae31"
      },
      "execution_count": 15,
      "outputs": [
        {
          "output_type": "execute_result",
          "data": {
            "text/plain": [
              "{'A': 30, 'B': 50, 'C': 60, 'D': 39, 'E': 67, 'F': 98}"
            ]
          },
          "metadata": {},
          "execution_count": 15
        }
      ]
    },
    {
      "cell_type": "code",
      "source": [
        "mx=max(a.values())\n",
        "mn=min(a.values())\n",
        "print(mx,mn)\n",
        "#딕셔너리는 항상 key 중심의 세상, key나 value 중 대상 탐색"
      ],
      "metadata": {
        "colab": {
          "base_uri": "https://localhost:8080/"
        },
        "id": "qCwJvLgkvkr8",
        "outputId": "6fa0a0f0-b737-4634-9b44-bbec41727709"
      },
      "execution_count": 17,
      "outputs": [
        {
          "output_type": "stream",
          "name": "stdout",
          "text": [
            "98 30\n"
          ]
        }
      ]
    },
    {
      "cell_type": "code",
      "source": [
        "ord(\"a\") # 소문자가 대문자보다 더 크다\n"
      ],
      "metadata": {
        "colab": {
          "base_uri": "https://localhost:8080/"
        },
        "id": "PmertcQ5wb8t",
        "outputId": "403ded67-b92d-4d00-ec86-e258b0bf97e9"
      },
      "execution_count": 20,
      "outputs": [
        {
          "output_type": "execute_result",
          "data": {
            "text/plain": [
              "97"
            ]
          },
          "metadata": {},
          "execution_count": 20
        }
      ]
    },
    {
      "cell_type": "code",
      "source": [
        "#최고,최저의 이름\n",
        "mx=max(a.values())\n",
        "mn=min(a.values())\n",
        "\n",
        "aa=a.items()\n",
        "# k, v가 모두 같은 레벨에서 필요함\n",
        "#mxname=([i for i in aa if i[1]==mx])[0]\n",
        "#mnname=([i for i in aa if i[1]==mn])[0]\n",
        "#print(mxname,mnname)\n",
        "\n",
        "# 다른 풀이\n",
        "\n",
        "for name,score in a.items():\n",
        "  if score==mx:\n",
        "    print(name)\n",
        "  elif score==mn:\n",
        "    print(name)\n",
        "  else:\n",
        "    pass\n",
        "# 파이썬의 반복문 안의 변수의 스코프는 반복문 밖에서도 유효함 .특이함"
      ],
      "metadata": {
        "colab": {
          "base_uri": "https://localhost:8080/"
        },
        "id": "vdZDNagXxJVV",
        "outputId": "8419483a-546f-4f13-e535-4dc1ef582da8"
      },
      "execution_count": 31,
      "outputs": [
        {
          "output_type": "stream",
          "name": "stdout",
          "text": [
            "A\n",
            "F\n"
          ]
        }
      ]
    },
    {
      "cell_type": "code",
      "source": [
        "# 범위(inbound/outbound)\n",
        "\n",
        "#문제) 한점을 구성하는 x,y의 좌표 입력 받아서 (50,40) , (50,80) , (100,40), (100,80) 를 꼭짓점으로 하는 사각형의 내부에 있는지 외부에 있는지 판별하세요\n",
        "\n",
        "x=int(input(\"x좌표입력\"))\n",
        "y=int(input(\"y좌표입력\"))\n",
        "\n",
        "if(x>=50 and x<=100) and (y>=40 and y<=80):\n",
        "  print(\"사각형내부\")\n",
        "else:\n",
        "  print(\"사각형 외부\")\n",
        "\n",
        "\n",
        "# 판대기가 2d,3d 좌표, 기하문제를 도입해서 함수, 방정식으로\n",
        "# 코테의 목적은 100점은 아니고, 기준점을 통과핮\n",
        "\n",
        "#최근의 경향은 조금 지저분해지고 있다 -> 문제상황이 여러 케이스로 늘어나고 있다;\n",
        "# 문제 스타일 -> 일반적으로 코드를 빠르게 잘 짜는 친구들 -> 빠르고 정확하게\n",
        "#여러 문제들 중 내가 쉽게 할 수 있는 것들 -> 보통 문제번호순으로 쉽긴 하다\n",
        "# 여러 기본 문제들을 손이 바로 갈 정도 연습 필요\n",
        "# 요즘 앞의 문제들은 좀 쉽지만 귀찮아지고 있다 킬러문항은 알고리즘 사용\n",
        "# 킬러 에서 탐색이 많이 나오고 있다. 최단거리,DP 버려도..\n",
        "#기본으로 자주 나오는 주제, 카테고리들을 연습\n",
        "# 제일 중요한 문제분석 : 문제 정리하고 가자\n",
        "# 바로 손이 나갈 정도로 본인 사고체계로 이해를 하자\n",
        "# 남의 코드 자주 보고 / 시험이니까 정해진 것들이 있다.\n"
      ],
      "metadata": {
        "id": "CvJFqxLOz0pz"
      },
      "execution_count": null,
      "outputs": []
    },
    {
      "cell_type": "code",
      "source": [
        "# 공부하는 입장\n",
        "# 1. 기본 유형 / 주제 : 정확하게 스스로 정리!!!\n",
        "#    ==> 본인 사고체계로 이해를 하고\n",
        "#        기본 코드를 본인 화 작업\n",
        "#    ==> 바로 손이 나갈 정도로 달달달~~~~\n",
        "# 2. 다른 사람들의 정답들을 검색!!!!!\n",
        "#    ==> 내가 편한 스타일의 정답을 골라서 본인 스타일로 코드 정리\n",
        "#    ==> 다른 사람들이나 ,다른 방식이 뭔지 참고!!!!\n",
        "#    --> 본인 코드를 좀 더 가다듬는 방식!!!!\n",
        "# 3. 실제 보는 회사의 기출 분석 + 회사마다 잡다하게 필요한 것들\n",
        "\n",
        "# 제일 중요 : 매일 꾸준히 하셔야 함!!--> 파이썬도 실력이 올라감!!\n",
        "#   --> 시험: 정해져있는 것들이 있고, 약간의 스타일/패턴...\n",
        "\n",
        "# 참고) 카카오 문제를 주로 하는 이유 : 제일 난도가 좀 있음.\n",
        "#                                      (문제가 길어요;;;)\n",
        "# --> 정답률도 공개, 출제 의도, 응시자들의 접근 대표 방식도..\n",
        "# ==> 프로그래머스 사이트에서 체크!!!"
      ],
      "metadata": {
        "id": "ur0HXj8J-uoS"
      },
      "execution_count": null,
      "outputs": []
    },
    {
      "cell_type": "code",
      "source": [
        "# 코테 연습 플랫폼\n",
        "# 국내 전통적인 플랫폼 : 백준 --> 입력도 직접 다 만들어야 함...\n",
        "#                                 함수로 안 해도 줄 코드를 해도 됨!!\n",
        "# 국내 신규 플랫폼 : 프래그래머스 --> 입력에 대한 부분은 신경X\n",
        "#                                     입력 인자들로 들어옴!!!\n",
        "#                                     구성을 함수로 만들어서 제출!!\n",
        "# 해외 유명 플랫폼 : LeetCode ( 알고리즘 대회 )\n",
        "#                     --> 오래된 사이트/ 세계적\n",
        "#                     --> 코드의 효율성이 엄청 중요함!!!\n",
        "#                     --> 클래스로 제출을 하도록 되어 있음.\n",
        "#                     --> 취업용으로는 좀 과하지 않음...\n",
        "#                         (문제들에 대해서 취사 선별 잘 하셔야..)\n",
        "# ++++ 주된 주제별로 접근!!!!"
      ],
      "metadata": {
        "id": "tC3veeU7-vZ4"
      },
      "execution_count": null,
      "outputs": []
    },
    {
      "cell_type": "code",
      "source": [
        "# 딕셔너리로 처리하면 수월할 것 같이 보임"
      ],
      "metadata": {
        "colab": {
          "base_uri": "https://localhost:8080/"
        },
        "id": "7Ksxi54N_o7y",
        "outputId": "4d0df330-ffef-4f5b-b47e-584af9b1324d"
      },
      "execution_count": 37,
      "outputs": [
        {
          "output_type": "stream",
          "name": "stdout",
          "text": [
            "3 4\n"
          ]
        }
      ]
    },
    {
      "cell_type": "code",
      "source": [
        "## 리스트 컴프리핸션 정리\n",
        "# --> 여러개의 값들을 돌려가면서 모은다!!!!\n",
        "# 장점 : 코드가 간결!\n",
        "# 단점 : 너무 중첩한 경우는 오히려 가독성에 문제가 있음!\n",
        "#  ===> 1개 for문이나, 2개 for 이정도까지는 할 수 있다...\n",
        "# 기능 : 값을 돌려가면서(for문), 원하는 값들을 모은다(리스트)\n",
        "# 형식 : [ 모을값 for i in 여러개값]\n",
        "\n",
        "a=[\"a\",\"b\",\"c\",\"d\",\"e\",\"f\",\"g\",\"c\",\"i\"]"
      ],
      "metadata": {
        "id": "zhXj0yGD0dIg"
      },
      "execution_count": 1,
      "outputs": []
    },
    {
      "cell_type": "code",
      "source": [
        "#예) a에서 c인 원소를 제거해주세요\n",
        "[i for i in a if i!=\"c\"]"
      ],
      "metadata": {
        "colab": {
          "base_uri": "https://localhost:8080/"
        },
        "id": "V2EYL_WW1Gpw",
        "outputId": "ade3ecd1-52e5-4b0b-b93a-202f3b7ed6a9"
      },
      "execution_count": 2,
      "outputs": [
        {
          "output_type": "execute_result",
          "data": {
            "text/plain": [
              "['a', 'b', 'd', 'e', 'f', 'g', 'i']"
            ]
          },
          "metadata": {},
          "execution_count": 2
        }
      ]
    },
    {
      "cell_type": "code",
      "source": [
        "# 예) a에서 사람기준으로 홀수번째 위치한 값들에 대해서만\n",
        "#     \"h\"문자를 추가하려고 하려고 함!!!\n",
        "# ==> 결과 : [\"ah\",\"ch\",\"fh\",ch]"
      ],
      "metadata": {
        "id": "P74aDg8I2GRZ"
      },
      "execution_count": null,
      "outputs": []
    },
    {
      "cell_type": "code",
      "source": [
        "[ a[i]+\"h\" for i in range(len(a)) if i % 2==0]"
      ],
      "metadata": {
        "id": "7Q3xs_382HFH"
      },
      "execution_count": null,
      "outputs": []
    },
    {
      "cell_type": "code",
      "source": [
        "[v+\"h\" for i,v in enumerate(a) if i%2==0]"
      ],
      "metadata": {
        "colab": {
          "base_uri": "https://localhost:8080/"
        },
        "id": "QQl3PgIu2HHo",
        "outputId": "56d2f93e-2cfb-49e6-c51e-d5e61894170f"
      },
      "execution_count": 3,
      "outputs": [
        {
          "output_type": "execute_result",
          "data": {
            "text/plain": [
              "['ah', 'ch', 'eh', 'gh', 'ih']"
            ]
          },
          "metadata": {},
          "execution_count": 3
        }
      ]
    },
    {
      "cell_type": "code",
      "source": [
        "# 예) a의 원소들 중에서 짝수번째는 e문자를 더하고,\n",
        "#                       홀수번째는 o문자를 더해주세요!!!\n",
        "\n",
        "[v+\"h\" if i%2==0 else v+\"o\" for i,v in enumerate(a)] # 조건 두개일경우에는 if 문이 앞으로 간다"
      ],
      "metadata": {
        "colab": {
          "base_uri": "https://localhost:8080/"
        },
        "id": "4J86SDop2cB_",
        "outputId": "1211deed-622f-4514-8cd1-d9961fb57cc4"
      },
      "execution_count": 4,
      "outputs": [
        {
          "output_type": "execute_result",
          "data": {
            "text/plain": [
              "['ah', 'bo', 'ch', 'do', 'eh', 'fo', 'gh', 'co', 'ih']"
            ]
          },
          "metadata": {},
          "execution_count": 4
        }
      ]
    },
    {
      "cell_type": "code",
      "source": [
        "# 정리!!!\n",
        "# ==> 리스트 컴프리핸션을 자유 자재로 하실 수 있어야 함!!\n",
        "#     돌리는 것도 다양하게 : a, range, .items(), enumerate() etc\n",
        "#     조건이 있다면 [ 모을값 for 롤링 if 조건]\n",
        "#                   [ 모을값1 if조건 else 모을값2 for 롤링 ]"
      ],
      "metadata": {
        "id": "TLx6E8fe39_v"
      },
      "execution_count": null,
      "outputs": []
    },
    {
      "cell_type": "code",
      "source": [
        "# 가장 기본적인 구조화 : 함수\n",
        "# --> 3가지 요소 : 입력, 출력, 입출력에 대한 관계(기능)\n",
        "# --> 중심은 무엇을 수행할지 기능 중심으로 작성!!!\n",
        "# --> 코드를 읽을 때 기능 중심으로 읽힘!!!!\n",
        "#     ( 한 번 만들거나, 가지고오면,,,여러번 재사용이 가능함!!)"
      ],
      "metadata": {
        "id": "3VYv6ZgI43IV"
      },
      "execution_count": null,
      "outputs": []
    },
    {
      "cell_type": "code",
      "source": [
        "# 함수를 만드는 기본적인 방법\n",
        "def 함수명(입력인자): # --> x:입력에  대한 세팅!!!\n",
        "    무엇을 할지에 대한 구현!!!!!  # 입력/출력에 대한 관계/기능\n",
        "    return 출력1, 츌력2"
      ],
      "metadata": {
        "id": "MQRae3fG434d"
      },
      "execution_count": null,
      "outputs": []
    },
    {
      "cell_type": "code",
      "source": [
        "# 예) 파이썬에 물론 더하는 함수 --> sum()\n",
        "#     조금 불편한 점  sum( [10,20] )\n",
        "#     --> 내가 원하는 더하는 함수생성 : sum2(10,20) => 30\n",
        "\n",
        "# 입력 : 숫자 2개를 받아서,,\n",
        "# 기능 : 입력받은 2개 숫자를 합을 출력\n",
        "# 출력 : 합의 결과를 출력하려고 함.\n",
        "# --> 이러한 기능을 한 번이 아니라 여러번 반복해서 필요하거나\n",
        "#      코드의 가독성을 위해서 기능 중심으로 정리할 때...\n",
        "def sum2( a,b):\n",
        "    # 입력으로 받은 a,b를 가지고 무엇을 할지 기술!!!!\n",
        "    # + 파이썬의 문법을 활용해서..\n",
        "    result = a + b\n",
        "    return result\n",
        "# 참고) 함수 내에서 만든 변수들은 함수내에서만 생존함!!"
      ],
      "metadata": {
        "id": "2zybYMEX6Tkq"
      },
      "execution_count": null,
      "outputs": []
    },
    {
      "cell_type": "code",
      "source": [
        "# 10 + 20 + 30 + 90\n",
        "# 1+1+1+12+2+2+33+3+3\n",
        "# ==> 입력이 가변적으로 여러개가 들어와도,,처리를 하면 어떨까!!!\n",
        "# ==> 여러개의 가변적인 입력을 처리를 할 때 : *args\n",
        "#     --> 파이썬의 리스트처럼!!!!!\n",
        "# sumrandom(10,20,30)\n",
        "# sumrandom(1,2,2,3,3,2,2,3,44,444)"
      ],
      "metadata": {
        "id": "f6aczaiW6YLy"
      },
      "execution_count": null,
      "outputs": []
    },
    {
      "cell_type": "code",
      "source": [
        "def sumrandom( *args): #args를 파이썬의 리스트처럼 생각\n",
        "  temp=0\n",
        "  #입력으로 받은 것들을 다 롤링\n",
        "  for i in args:\n",
        "    temp+=i\n",
        "  return temp\n"
      ],
      "metadata": {
        "id": "QJjaIraC7Hyr"
      },
      "execution_count": 5,
      "outputs": []
    },
    {
      "cell_type": "code",
      "source": [
        "sumrandom(10,20,30,45,45,67,54,32)"
      ],
      "metadata": {
        "colab": {
          "base_uri": "https://localhost:8080/"
        },
        "id": "eJejxdfa7r7P",
        "outputId": "2f52818c-be87-4f44-8bac-d25a05eed380"
      },
      "execution_count": 6,
      "outputs": [
        {
          "output_type": "execute_result",
          "data": {
            "text/plain": [
              "303"
            ]
          },
          "metadata": {},
          "execution_count": 6
        }
      ]
    },
    {
      "cell_type": "code",
      "source": [
        "# 출력이 여러개인 것들 내보내기 -> 입력 2개, 출력은 사칙연산 결과 4개 출력\n",
        "def multiple2(a,b):\n",
        "  return a+b,a-b,a*b,a/b  # return에 , 가 있을경우 튜플형식으로 반환됨\n",
        ""
      ],
      "metadata": {
        "id": "nRvDcPcn8dmR"
      },
      "execution_count": 8,
      "outputs": []
    },
    {
      "cell_type": "code",
      "source": [
        "multiple2(3,4)"
      ],
      "metadata": {
        "colab": {
          "base_uri": "https://localhost:8080/"
        },
        "id": "whXWDalk9JSt",
        "outputId": "69478704-cd26-4d6d-ca01-4ac7fbe81157"
      },
      "execution_count": 9,
      "outputs": [
        {
          "output_type": "execute_result",
          "data": {
            "text/plain": [
              "(7, -1, 12, 0.75)"
            ]
          },
          "metadata": {},
          "execution_count": 9
        }
      ]
    },
    {
      "cell_type": "code",
      "source": [
        "# 참고) 여러번은 아닌데,,,,,뭔가 기능적으로 표현!!!\n",
        "# --> 한 번 정도, 2번 정도???? 사용성이 낮지만,,,기능적인 표현!!!\n",
        "# ==> 각 잡고 함수로 만들기에는 좀 귀찮은데,,,,\n",
        "#     lambda 함수 : 데이터 전처리!!! + 코테(정렬구현)\n",
        "\n",
        "# 람다함수는 정렬알고리즘에 많이 쓰인다.\n",
        "\n",
        "#간단한 기능 중심의 람다함수\n",
        "\n",
        "(lambda a,b : a+b)(10,20)"
      ],
      "metadata": {
        "colab": {
          "base_uri": "https://localhost:8080/"
        },
        "id": "EUEGJX5p9xiB",
        "outputId": "2aafaab4-6e78-406c-d055-4bdca448ddff"
      },
      "execution_count": 10,
      "outputs": [
        {
          "output_type": "execute_result",
          "data": {
            "text/plain": [
              "30"
            ]
          },
          "metadata": {},
          "execution_count": 10
        }
      ]
    },
    {
      "cell_type": "code",
      "source": [
        "# lambda 함수는 중요 -> 데이터 전처리 : apply + 어떤일을 처리할지에 대한 기술\n",
        "# 코테: 정렬을 활용할때 주어진 특수한 정렬의 기준을 기술\n",
        "#    ***최종 정답 제출 전에 1줄 정도 ***"
      ],
      "metadata": {
        "id": "oPV9g_Q5-60z"
      },
      "execution_count": null,
      "outputs": []
    }
  ]
}