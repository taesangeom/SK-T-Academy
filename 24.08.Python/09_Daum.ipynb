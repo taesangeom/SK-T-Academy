{
  "nbformat": 4,
  "nbformat_minor": 0,
  "metadata": {
    "colab": {
      "provenance": [],
      "authorship_tag": "ABX9TyOIEvK64FtpBqnV1MfKx0RG",
      "include_colab_link": true
    },
    "kernelspec": {
      "name": "python3",
      "display_name": "Python 3"
    },
    "language_info": {
      "name": "python"
    }
  },
  "cells": [
    {
      "cell_type": "markdown",
      "metadata": {
        "id": "view-in-github",
        "colab_type": "text"
      },
      "source": [
        "<a href=\"https://colab.research.google.com/github/taesangeom/SK-T-Academy/blob/main/24.08.Python/09_Daum.ipynb\" target=\"_parent\"><img src=\"https://colab.research.google.com/assets/colab-badge.svg\" alt=\"Open In Colab\"/></a>"
      ]
    },
    {
      "cell_type": "code",
      "execution_count": null,
      "metadata": {
        "id": "f8aDPuCJrGUr"
      },
      "outputs": [],
      "source": [
        "### 웹에 있는 데이터를 수집을 하는 것!!!!\n",
        "# 1) API : 메뉴얼을 잘 살펴보고, 정의된 사항대로 요청하고 받음!\n",
        "# 2) 일반적인 사이트\n",
        "#    2-1) 전자공시사이트 : 숨겨진 주소만 잘 찾아서 하면 됨!!!\n",
        "#                          다만, 속도나 그 쪽에서 방어할 수는 있음.\n",
        "#    2-2) daum --> 금융  : 숨겨진 주소를 찾아도 안 되는 경우도 있음..\n",
        "#                        : 웹브라우저에서는 되는데,,파이썬 코드상 안 될때\n",
        "#                          ==> 코드가 아니라 웹브라우저인 것 처럼\n",
        "#                              user-agent : 접속하는 sw의 정보\n",
        "#                              referer : 해당 주소에 대한 정보를\n",
        "#                                        부를 대상이 지정해서 사용!!!\n",
        "#                              etc : cookies etc\n",
        "############################################################\n",
        "# (+++) 웹드라이버 : 직접 브라우저를 컨트롤 해서 접근!!!!\n",
        "#       --> 패키지 : 셀레니움(단, 느려요;;;;)\n",
        "#           로그인을 해야하는 사이트에 있어서는\n",
        "#           웹드라이버랑 코드랑 함께......\n",
        "# ===> 결론) 정해진 것들은 없음!!!\n",
        "#            내가 해야하는 사이트에/ api에 맞춰서 해보는 것!!!\n",
        "#            사이트마다 다 달라서 직접 & 실험!!!!!!"
      ]
    },
    {
      "cell_type": "code",
      "source": [
        "import urllib.request"
      ],
      "metadata": {
        "id": "SZmloBwurM62"
      },
      "execution_count": null,
      "outputs": []
    },
    {
      "cell_type": "code",
      "source": [
        "url = \"https://finance.daum.net/\"\n",
        "res = urllib.request.urlopen(url)\n",
        "res.read().decode(\"utf-8\")\n",
        "# 종종 : 403 Forbidden error???"
      ],
      "metadata": {
        "colab": {
          "base_uri": "https://localhost:8080/",
          "height": 126
        },
        "id": "Nit1rLAPrO02",
        "outputId": "d0ad27aa-cbfb-4ad3-8344-32a842e0cca6"
      },
      "execution_count": null,
      "outputs": [
        {
          "output_type": "execute_result",
          "data": {
            "text/plain": [
              "'\\n<!DOCTYPE html>\\n<html lang=\"ko\" class=\"os_mac\"><head>\\n<meta http-equiv=\"Content-Type\" content=\"text/html; charset=utf-8\" />\\n<meta http-equiv=\"X-UA-Compatible\" content=\"IE=edge\" />\\n<meta property=\"og:site_name\" content=\"다음금융\" />\\n<meta property=\"og:image\" content=\"https://t1.daumcdn.net/media/finance_og.png\" />\\n<link rel=\"shortcut icon\" href=\"https://t1.daumcdn.net/top/favicon.ico\">\\n\\n\\t<title>다음 금융</title>\\n\\n<link rel=\"stylesheet\" type=\"text/css\" href=\"https://t1.daumcdn.net/media/kraken/finance/resources/dist/240827160156/commonCSSBundle.merged.css\" />\\n\\n<script src=\"https://t1.daumcdn.net/media/kraken/finance/resources/dist/240827160156/pcFramework.merged.js\"></script>\\n\\n<script>\\n\\twindow.REQUEST_URI = \\'/home\\';\\n\\twindow.CURRENT_URL = encodeURIComponent(\\n\\t\\t\"\".concat(\\n\\t\\t\\twindow.location.protocol,\\n\\t\\t\\t\"//\",\\n\\t\\t\\twindow.location.host,\\n\\t\\t\\twindow.location.pathname,\\n\\t\\t\\twindow.location.search\\n\\t\\t)\\n\\t);\\n\\n\\twindow.FINANCE = {};\\n\\twindow.FINANCE.API_URL = \\'\\';\\n\\twindow.FINANCE._PERIOD = \\'\\';\\n\\twindow.FINANCE.DAUM_NEWS_HOST = \\'https://v.daum.net/v\\';\\n\\twindow.FINANCE.BOARD_HOST = \\'https://board2.finance.daum.net\\';\\n\\twindow.FINANCE.WISE_FN_HOST = \\'https://wisefn.finance.daum.net/v1\\';\\n</script>\\n\\n<script type=\"text/javascript\" src=\"https://t1.daumcdn.net/tiara/js/v1/tiara.min.js\"></script>\\n\\n</head>\\n<body class=\"finance\">\\n\\t<div id=\"wrap\">\\n<div id=\"kakaoWrap\">\\n\\t<div id=\"wrapMinidaum\"></div>\\n</div>\\n\\n<script src=\"https://t1.daumcdn.net/media/kraken/finance/resources/dist/240827160156/miniDaum.merged.js\"></script>\\n\\n<div class=\"header\">\\n\\t<div class=\"head_media f_clear\">\\n\\t\\t<h1><a href=\"/\" id=\"kakaoServiceLogo\" class=\"#gnb #default #service_finance\"><span class=\"ir_wa\">금융</span></a></h1>\\n\\t\\t<strong class=\"screen_out\">관련서비스</strong>\\n\\t\\t<ul class=\"kakaoRelServices\">\\n\\t\\t\\t<li><a href=\"http://realestate.daum.net\"><span class=\"ir_wa\">부동산</span></a></li>\\n\\t\\t</ul>\\n\\t\\t<h2 class=\"screen_out\">검색</h2>\\n\\t\\t<div class=\"search_news\" id=\"boxSearch\"></div>\\n\\n\\t\\t<script src=\"https://t1.daumcdn.net/media/kraken/finance/resources/dist/240827160156/searchBundle.merged.js\"></script>\\n\\n\\t</div>\\n\\t<div id=\"kakaoGnb\" role=\"navigation\">\\n\\t\\t<div class=\"inner_gnb\">\\n\\t\\t\\t<h2 class=\"screen_out\">금융 메인메뉴</h2>\\n\\t\\t\\t<ul class=\"gnb_comm\">\\n\\t\\t\\t\\t<li class=\"on\">\\n\\t\\t\\t\\t\\t<a href=\"/\" class=\"link_gnb link_gnb1\">\\n\\t\\t\\t\\t\\t\\t<span class=\"screen_out\">선택됨</span>\\n\\t\\t\\t\\t\\t\\t<span class=\"ir_wa\">홈</span>\\n\\t\\t\\t\\t\\t\\t<span class=\"bar_gnb\"><span class=\"inner_bar\"></span></span>\\n\\t\\t\\t\\t\\t</a>\\n\\t\\t\\t\\t</li>\\n\\t\\t\\t\\t<li class=\"\">\\n\\t\\t\\t\\t\\t<a href=\"/domestic\" class=\"link_gnb link_gnb2\">\\n\\t\\t\\t\\t\\t\\t<span class=\"ir_wa\">국내</span>\\n\\t\\t\\t\\t\\t\\t<span class=\"bar_gnb\"><span class=\"inner_bar\"></span></span>\\n\\t\\t\\t\\t\\t</a>\\n\\t\\t\\t\\t</li>\\n\\t\\t\\t\\t<li class=\"\">\\n\\t\\t\\t\\t\\t<a href=\"/global\" class=\"link_gnb link_gnb3\">\\n\\t\\t\\t\\t\\t\\t<span class=\"ir_wa\">해외</span>\\n\\t\\t\\t\\t\\t\\t<span class=\"bar_gnb\"><span class=\"inner_bar\"></span></span>\\n\\t\\t\\t\\t\\t</a>\\n\\t\\t\\t\\t</li>\\n\\t\\t\\t\\t<li class=\"\">\\n\\t\\t\\t\\t\\t<a href=\"/news\" class=\"link_gnb link_gnb4\">\\n\\t\\t\\t\\t\\t\\t<span class=\"ir_wa\">뉴스</span>\\n\\t\\t\\t\\t\\t\\t<span class=\"bar_gnb\"><span class=\"inner_bar\"></span></span>\\n\\t\\t\\t\\t\\t</a>\\n\\t\\t\\t\\t</li>\\n\\t\\t\\t\\t<li class=\"\">\\n\\t\\t\\t\\t\\t<a href=\"/investment\" class=\"link_gnb link_gnb5\">\\n\\t\\t\\t\\t\\t\\t<span class=\"ir_wa\">투자정보</span>\\n\\t\\t\\t\\t\\t\\t<span class=\"bar_gnb\"><span class=\"inner_bar\"></span></span>\\n\\t\\t\\t\\t\\t</a>\\n\\t\\t\\t\\t</li>\\n\\t\\t\\t\\t<li class=\"\">\\n\\t\\t\\t\\t\\t<a href=\"/talks\" class=\"link_gnb link_gnb6\">\\n\\t\\t\\t\\t\\t\\t<span class=\"ir_wa\">종목토론</span>\\n\\t\\t\\t\\t\\t\\t<span class=\"bar_gnb\"><span class=\"inner_bar\"></span></span>\\n\\t\\t\\t\\t\\t</a>\\n\\t\\t\\t\\t</li>\\n\\t\\t\\t\\t<li class=\"\">\\n\\t\\t\\t\\t\\t<a href=\"/my\" class=\"link_gnb link_gnb8\">\\n\\t\\t\\t\\t\\t\\t<span class=\"ir_wa\">MY</span>\\n\\t\\t\\t\\t\\t\\t<span class=\"bar_gnb\"><span class=\"inner_bar\"></span></span>\\n\\t\\t\\t\\t\\t</a>\\n\\t\\t\\t\\t</li>\\n\\t\\t\\t</ul>\\n\\t\\t\\t<div class=\"gnb_etc\">\\n\\t\\t\\t\\t<ul class=\"gnb_with\">\\n\\t\\t\\t\\t\\t<li class=\"\">\\n\\t\\t\\t\\t\\t\\t<a href=\"/exchanges\" class=\"link_gnb link_gnb1\">\\n\\t\\t\\t\\t\\t\\t\\t<span class=\"ir_wa\">환율</span>\\n\\t\\t\\t\\t\\t\\t\\t<span class=\"bar_gnb\"><span class=\"inner_bar\"></span></span>\\n\\t\\t\\t\\t\\t\\t</a>\\n\\t\\t\\t\\t\\t</li>\\n\\t\\t\\t\\t</ul>\\n\\t\\t\\t</div>\\n\\t\\t</div>\\n\\t</div>\\n</div>\\n<div id=\"notice\"></div>\\n\\n\\n\\n<link rel=\"stylesheet\" type=\"text/css\" href=\"https://t1.daumcdn.net/media/kraken/finance/resources/dist/240827160156/layerpopupCSS.merged.css\" />\\n<div class=\"stockB\" id=\"boxTodayIndexes\">\\n\\t<div class=\"center\">\\n\\t\\t<div class=\"stock\" id=\"boxIndexes\"></div>\\n\\t\\t<div class=\"stockTab\" id=\"boxIndexTabs\">\\n\\t\\t\\t<span>\\n\\t\\t\\t\\t<h4>오늘의 증시</h4>\\n\\t\\t\\t\\t<p id=\"labTodayDate\"></p>\\n\\t\\t\\t\\t<p id=\"labGlobalTodayDate\">현지시간 기준</p>\\n\\t\\t\\t</span>\\n\\t\\t\\t<ul>\\n\\t\\t\\t\\t<li><a href=\"javascript:void(0)\" data-type=\"DOMESTIC\" class=\"on\" title=\"국내 지수\">국내 지수</a></li>\\n\\t\\t\\t\\t<li><a href=\"javascript:void(0)\" data-type=\"USA\" title=\"미국 지수\">미국 지수</a></li>\\n\\t\\t\\t\\t<li><a href=\"javascript:void(0)\" data-type=\"ASIA\" title=\"아시아 지수\">아시아 지수</a></li>\\n\\t\\t\\t\\t<li><a href=\"javascript:void(0)\" data-type=\"EUROPE\" title=\"유럽 지수\">유럽 지수</a></li>\\n\\t\\t\\t</ul>\\n\\t\\t</div>\\n\\t</div>\\n</div>\\n<div class=\"mainB\">\\n\\t<div class=\"leftW\">\\n\\t\\t<div class=\"topNews\" id=\"boxTodayNews\"></div>\\n\\t\\t<div class=\"rankingB\" id=\"boxBestSearchs\"></div>\\n\\t\\t<div class=\"rankingB line\" id=\"boxTopSectors\">\\n\\t\\t</div>\\n\\t</div>\\n\\t<div class=\"rightW\" id=\"boxRightSidebar\">\\n\\t\\t<div class=\"btnB\">\\n\\t\\t\\t<a href=\"javascript:void(0)\" title=\"전 종목 시세 보기\" id=\"btnAllQuotes\"><i>-</i>전 종목 시세 보기</a>\\n\\t\\t</div>\\n\\t\\t<div class=\"myB\" id=\"boxMy\"></div>\\n\\t\\t<div class=\"sponsor\"></div>\\n\\t</div>\\n</div>\\n<div class=\"investmentB\">\\n\\t<div class=\"center\" id=\"boxColumns\">\\n\\t</div>\\n</div>\\n<div class=\"mainB last\">\\n\\t<div class=\"leftW max\">\\n\\t\\t<div class=\"rankingB\" id=\"boxMarketTrend\"></div>\\n\\t</div>\\n</div>\\n\\n<script src=\"https://t1.daumcdn.net/media/kraken/finance/resources/dist/240827160156/homeBundle.merged.js\"></script>\\n\\n\\n\\n\\t\\t<div class=\"footer\">\\n\\t<span>\\n\\t\\t<div class=\"fl\">\\n\\t\\t\\t<ul>\\n\\t\\t\\t\\t<li><a target=\\'_blank\\' href=\"http://policy.daum.net/info/info\" title=\"서비스 약관/정책\">서비스 약관/정책</a></li>\\n\\t\\t\\t\\t<li><a target=\\'_blank\\' href=\"http://cs.daum.net/faq/19.html\" title=\"금융 고객센터\">금융 고객센터</a></li>\\n\\t\\t\\t\\t<li><a target=\\'_blank\\' href=\"https://cs.daum.net/question/19.html\" title=\"금융 문의하기\">금융 문의하기</a></li>\\n\\t\\t\\t</ul>\\n\\t\\t\\t<p>카카오가 제공하는 증권정보는 단순히 정보의 제공을 목적으로 하고 있으며, 사이트에서 제공되는 정보는 오류 및 지연이<br>발생될 수 있습니다. 제공된 정보이용에 따르는 책임은 이용자 본인에게 있으며, 카카오는 이용자의 투자결과에 따른<br>법적 책임을 지지 않습니다.</p>\\n\\t\\t</div>\\n\\t\\t<div class=\"fr\">\\n\\t\\t\\t<p>위 내용에 대한 저작권 및 법적 책임은 자료제공사 또는<br>글쓴이에 있으며 카카오의 입장과 다를 수 있습니다.</p>\\n\\t\\t\\t<p>Copyright (C) Kakao Corp. All rights reserved.</p>\\n\\t\\t</div>\\n\\t</span>\\n\\n\\t</div>\\n\\n\\n\\n<script>\\n\\twindow._TIARA_OPTIONS = {\\n\\t\\tsection: \\'홈\\',\\n\\t\\tpage: \\'홈\\'\\n\\t}\\n</script>\\n\\n<script src=\"https://t1.daumcdn.net/media/kraken/finance/resources/dist/240827160156/tiara.merged.js\"></script>\\n\\n\\t</div>\\n</body>\\n</html>\\n'"
            ],
            "application/vnd.google.colaboratory.intrinsic+json": {
              "type": "string"
            }
          },
          "metadata": {},
          "execution_count": 2
        }
      ]
    },
    {
      "cell_type": "code",
      "source": [
        "url=\"https://finance.daum.net/api/search/ranks?limit=10\"\n",
        "res = urllib.request.urlopen(url)\n",
        "res.read().decode(\"utf-8\")\n"
      ],
      "metadata": {
        "colab": {
          "base_uri": "https://localhost:8080/",
          "height": 126
        },
        "id": "baoMbAxgtWbV",
        "outputId": "ce3d4d32-e804-440d-9acf-36970e6e97e8"
      },
      "execution_count": null,
      "outputs": [
        {
          "output_type": "execute_result",
          "data": {
            "text/plain": [
              "'{\\n  \"data\" : [ {\\n    \"rank\" : 1,\\n    \"rankChange\" : 1,\\n    \"symbolCode\" : \"A005930\",\\n    \"shortCode\" : \"A005930\",\\n    \"code\" : \"KR7005930003\",\\n    \"name\" : \"삼성전자\",\\n    \"isNew\" : false,\\n    \"tradePrice\" : 74300,\\n    \"change\" : \"RISE\",\\n    \"changePrice\" : 300,\\n    \"changeRate\" : 0.0040540541,\\n    \"signedChangeRate\" : 0.0040540541,\\n    \"accTradeVolume\" : 2386945,\\n    \"accTradePrice\" : 177555543400,\\n    \"chartSlideImage\" : null,\\n    \"boardUrl\" : \"https://finance.daum.net/quotes/A005930#talks\"\\n  }, {\\n    \"rank\" : 2,\\n    \"rankChange\" : -1,\\n    \"symbolCode\" : \"A035720\",\\n    \"shortCode\" : \"A035720\",\\n    \"code\" : \"KR7035720002\",\\n    \"name\" : \"카카오\",\\n    \"isNew\" : false,\\n    \"tradePrice\" : 37500,\\n    \"change\" : \"RISE\",\\n    \"changePrice\" : 500,\\n    \"changeRate\" : 0.0135135135,\\n    \"signedChangeRate\" : 0.0135135135,\\n    \"accTradeVolume\" : 199172,\\n    \"accTradePrice\" : 7443587200,\\n    \"chartSlideImage\" : null,\\n    \"boardUrl\" : \"https://finance.daum.net/quotes/A035720#talks\"\\n  }, {\\n    \"rank\" : 3,\\n    \"rankChange\" : 0,\\n    \"symbolCode\" : \"A000100\",\\n    \"shortCode\" : \"A000100\",\\n    \"code\" : \"KR7000100008\",\\n    \"name\" : \"유한양행\",\\n    \"isNew\" : false,\\n    \"tradePrice\" : 133900,\\n    \"change\" : \"FALL\",\\n    \"changePrice\" : -3200,\\n    \"changeRate\" : -0.0233406273,\\n    \"signedChangeRate\" : -0.0233406273,\\n    \"accTradeVolume\" : 1125378,\\n    \"accTradePrice\" : 152574402800,\\n    \"chartSlideImage\" : null,\\n    \"boardUrl\" : \"https://finance.daum.net/quotes/A000100#talks\"\\n  }, {\\n    \"rank\" : 4,\\n    \"rankChange\" : 0,\\n    \"symbolCode\" : \"A000660\",\\n    \"shortCode\" : \"A000660\",\\n    \"code\" : \"KR7000660001\",\\n    \"name\" : \"SK하이닉스\",\\n    \"isNew\" : false,\\n    \"tradePrice\" : 170000,\\n    \"change\" : \"RISE\",\\n    \"changePrice\" : 300,\\n    \"changeRate\" : 0.0017678256,\\n    \"signedChangeRate\" : 0.0017678256,\\n    \"accTradeVolume\" : 1009734,\\n    \"accTradePrice\" : 172261056500,\\n    \"chartSlideImage\" : null,\\n    \"boardUrl\" : \"https://finance.daum.net/quotes/A000660#talks\"\\n  }, {\\n    \"rank\" : 5,\\n    \"rankChange\" : 4,\\n    \"symbolCode\" : \"A461300\",\\n    \"shortCode\" : \"A461300\",\\n    \"code\" : \"KR7461300006\",\\n    \"name\" : \"아이스크림미디어\",\\n    \"isNew\" : false,\\n    \"tradePrice\" : 27000,\\n    \"change\" : \"FALL\",\\n    \"changePrice\" : -5000,\\n    \"changeRate\" : -0.15625,\\n    \"signedChangeRate\" : -0.15625,\\n    \"accTradeVolume\" : 4020404,\\n    \"accTradePrice\" : 117236050150,\\n    \"chartSlideImage\" : null,\\n    \"boardUrl\" : \"https://finance.daum.net/quotes/A461300#talks\"\\n  }, {\\n    \"rank\" : 6,\\n    \"rankChange\" : -1,\\n    \"symbolCode\" : \"A034020\",\\n    \"shortCode\" : \"A034020\",\\n    \"code\" : \"KR7034020008\",\\n    \"name\" : \"두산에너빌리티\",\\n    \"isNew\" : false,\\n    \"tradePrice\" : 18050,\\n    \"change\" : \"RISE\",\\n    \"changePrice\" : 300,\\n    \"changeRate\" : 0.0169014085,\\n    \"signedChangeRate\" : 0.0169014085,\\n    \"accTradeVolume\" : 1563070,\\n    \"accTradePrice\" : 28505104850,\\n    \"chartSlideImage\" : null,\\n    \"boardUrl\" : \"https://finance.daum.net/quotes/A034020#talks\"\\n  }, {\\n    \"rank\" : 7,\\n    \"rankChange\" : 0,\\n    \"symbolCode\" : \"A068270\",\\n    \"shortCode\" : \"A068270\",\\n    \"code\" : \"KR7068270008\",\\n    \"name\" : \"셀트리온\",\\n    \"isNew\" : false,\\n    \"tradePrice\" : 204000,\\n    \"change\" : \"RISE\",\\n    \"changePrice\" : 5000,\\n    \"changeRate\" : 0.0251256281,\\n    \"signedChangeRate\" : 0.0251256281,\\n    \"accTradeVolume\" : 146695,\\n    \"accTradePrice\" : 29562696000,\\n    \"chartSlideImage\" : null,\\n    \"boardUrl\" : \"https://finance.daum.net/quotes/A068270#talks\"\\n  }, {\\n    \"rank\" : 8,\\n    \"rankChange\" : 0,\\n    \"symbolCode\" : \"A373220\",\\n    \"shortCode\" : \"A373220\",\\n    \"code\" : \"KR7373220003\",\\n    \"name\" : \"LG에너지솔루션\",\\n    \"isNew\" : false,\\n    \"tradePrice\" : 385500,\\n    \"change\" : \"FALL\",\\n    \"changePrice\" : -5500,\\n    \"changeRate\" : -0.0140664962,\\n    \"signedChangeRate\" : -0.0140664962,\\n    \"accTradeVolume\" : 60608,\\n    \"accTradePrice\" : 23498441500,\\n    \"chartSlideImage\" : null,\\n    \"boardUrl\" : \"https://finance.daum.net/quotes/A373220#talks\"\\n  }, {\\n    \"rank\" : 9,\\n    \"rankChange\" : 0,\\n    \"symbolCode\" : \"A005380\",\\n    \"shortCode\" : \"A005380\",\\n    \"code\" : \"KR7005380001\",\\n    \"name\" : \"현대차\",\\n    \"isNew\" : true,\\n    \"tradePrice\" : 262000,\\n    \"change\" : \"RISE\",\\n    \"changePrice\" : 3500,\\n    \"changeRate\" : 0.0135396518,\\n    \"signedChangeRate\" : 0.0135396518,\\n    \"accTradeVolume\" : 290083,\\n    \"accTradePrice\" : 76314961500,\\n    \"chartSlideImage\" : null,\\n    \"boardUrl\" : \"https://finance.daum.net/quotes/A005380#talks\"\\n  }, {\\n    \"rank\" : 10,\\n    \"rankChange\" : 0,\\n    \"symbolCode\" : \"A066570\",\\n    \"shortCode\" : \"A066570\",\\n    \"code\" : \"KR7066570003\",\\n    \"name\" : \"LG전자\",\\n    \"isNew\" : true,\\n    \"tradePrice\" : 100000,\\n    \"change\" : \"RISE\",\\n    \"changePrice\" : 2700,\\n    \"changeRate\" : 0.0277492292,\\n    \"signedChangeRate\" : 0.0277492292,\\n    \"accTradeVolume\" : 488925,\\n    \"accTradePrice\" : 49746554200,\\n    \"chartSlideImage\" : null,\\n    \"boardUrl\" : \"https://finance.daum.net/quotes/A066570#talks\"\\n  } ]\\n}'"
            ],
            "application/vnd.google.colaboratory.intrinsic+json": {
              "type": "string"
            }
          },
          "metadata": {},
          "execution_count": 3
        }
      ]
    },
    {
      "cell_type": "code",
      "source": [
        "# ==> 403에러나,, 접근 권한 없어요..에러가 발생하면,,,\n",
        "#     간다하게는 내가 브라우저에요!!! user-agent\n",
        "#                내가 직접 호출한 것이 아니라\n",
        "#                특정 사이트에서 호출한거에요!! referer"
      ],
      "metadata": {
        "id": "zNOaj0QpvcDE"
      },
      "execution_count": null,
      "outputs": []
    },
    {
      "cell_type": "code",
      "source": [
        "url=\"https://finance.daum.net/api/search/ranks?limit=10\"\n",
        "req = urllib.request.Request(\n",
        "    url,\n",
        "    data=None,\n",
        "    headers={\n",
        "        \"referer\" : \"https://finance.daum.net/\",\n",
        "        \"user-agent\":\"Mozilla/5.0 (Windows NT 10.0; Win64; x64) AppleWebKit/537.36 (KHTML, like Gecko) Chrome/128.0.0.0 Safari/537.36\"\n",
        "    }\n",
        "    )\n",
        "# ==> 브라우저가 요청했던 실질적인 주소에 대해서 다 완성!!!!\n",
        "res = urllib.request.urlopen(req ).read().decode(\"utf-8\")\n",
        "res"
      ],
      "metadata": {
        "colab": {
          "base_uri": "https://localhost:8080/",
          "height": 126
        },
        "id": "w3HE-eyWuBid",
        "outputId": "b624801a-39e3-47bb-dfb5-8bc38f0bbd10"
      },
      "execution_count": null,
      "outputs": [
        {
          "output_type": "execute_result",
          "data": {
            "text/plain": [
              "'{\\n  \"data\" : [ {\\n    \"rank\" : 1,\\n    \"rankChange\" : 1,\\n    \"symbolCode\" : \"A005930\",\\n    \"shortCode\" : \"A005930\",\\n    \"code\" : \"KR7005930003\",\\n    \"name\" : \"삼성전자\",\\n    \"isNew\" : false,\\n    \"tradePrice\" : 74600,\\n    \"change\" : \"RISE\",\\n    \"changePrice\" : 600,\\n    \"changeRate\" : 0.0081081081,\\n    \"signedChangeRate\" : 0.0081081081,\\n    \"accTradeVolume\" : 2721063,\\n    \"accTradePrice\" : 202424370200,\\n    \"chartSlideImage\" : null,\\n    \"boardUrl\" : \"https://finance.daum.net/quotes/A005930#talks\"\\n  }, {\\n    \"rank\" : 2,\\n    \"rankChange\" : -1,\\n    \"symbolCode\" : \"A035720\",\\n    \"shortCode\" : \"A035720\",\\n    \"code\" : \"KR7035720002\",\\n    \"name\" : \"카카오\",\\n    \"isNew\" : false,\\n    \"tradePrice\" : 37400,\\n    \"change\" : \"RISE\",\\n    \"changePrice\" : 400,\\n    \"changeRate\" : 0.0108108108,\\n    \"signedChangeRate\" : 0.0108108108,\\n    \"accTradeVolume\" : 220758,\\n    \"accTradePrice\" : 8252838950,\\n    \"chartSlideImage\" : null,\\n    \"boardUrl\" : \"https://finance.daum.net/quotes/A035720#talks\"\\n  }, {\\n    \"rank\" : 3,\\n    \"rankChange\" : 0,\\n    \"symbolCode\" : \"A000100\",\\n    \"shortCode\" : \"A000100\",\\n    \"code\" : \"KR7000100008\",\\n    \"name\" : \"유한양행\",\\n    \"isNew\" : false,\\n    \"tradePrice\" : 134500,\\n    \"change\" : \"FALL\",\\n    \"changePrice\" : -2600,\\n    \"changeRate\" : -0.0189642597,\\n    \"signedChangeRate\" : -0.0189642597,\\n    \"accTradeVolume\" : 1253508,\\n    \"accTradePrice\" : 169773561100,\\n    \"chartSlideImage\" : null,\\n    \"boardUrl\" : \"https://finance.daum.net/quotes/A000100#talks\"\\n  }, {\\n    \"rank\" : 4,\\n    \"rankChange\" : 0,\\n    \"symbolCode\" : \"A000660\",\\n    \"shortCode\" : \"A000660\",\\n    \"code\" : \"KR7000660001\",\\n    \"name\" : \"SK하이닉스\",\\n    \"isNew\" : false,\\n    \"tradePrice\" : 170600,\\n    \"change\" : \"RISE\",\\n    \"changePrice\" : 900,\\n    \"changeRate\" : 0.0053034767,\\n    \"signedChangeRate\" : 0.0053034767,\\n    \"accTradeVolume\" : 1076052,\\n    \"accTradePrice\" : 183561733100,\\n    \"chartSlideImage\" : null,\\n    \"boardUrl\" : \"https://finance.daum.net/quotes/A000660#talks\"\\n  }, {\\n    \"rank\" : 5,\\n    \"rankChange\" : 4,\\n    \"symbolCode\" : \"A461300\",\\n    \"shortCode\" : \"A461300\",\\n    \"code\" : \"KR7461300006\",\\n    \"name\" : \"아이스크림미디어\",\\n    \"isNew\" : false,\\n    \"tradePrice\" : 26700,\\n    \"change\" : \"FALL\",\\n    \"changePrice\" : -5300,\\n    \"changeRate\" : -0.165625,\\n    \"signedChangeRate\" : -0.165625,\\n    \"accTradeVolume\" : 4437177,\\n    \"accTradePrice\" : 128447985450,\\n    \"chartSlideImage\" : null,\\n    \"boardUrl\" : \"https://finance.daum.net/quotes/A461300#talks\"\\n  }, {\\n    \"rank\" : 6,\\n    \"rankChange\" : -1,\\n    \"symbolCode\" : \"A034020\",\\n    \"shortCode\" : \"A034020\",\\n    \"code\" : \"KR7034020008\",\\n    \"name\" : \"두산에너빌리티\",\\n    \"isNew\" : false,\\n    \"tradePrice\" : 18150,\\n    \"change\" : \"RISE\",\\n    \"changePrice\" : 400,\\n    \"changeRate\" : 0.0225352113,\\n    \"signedChangeRate\" : 0.0225352113,\\n    \"accTradeVolume\" : 1653568,\\n    \"accTradePrice\" : 30143782540,\\n    \"chartSlideImage\" : null,\\n    \"boardUrl\" : \"https://finance.daum.net/quotes/A034020#talks\"\\n  }, {\\n    \"rank\" : 7,\\n    \"rankChange\" : 0,\\n    \"symbolCode\" : \"A068270\",\\n    \"shortCode\" : \"A068270\",\\n    \"code\" : \"KR7068270008\",\\n    \"name\" : \"셀트리온\",\\n    \"isNew\" : false,\\n    \"tradePrice\" : 202500,\\n    \"change\" : \"RISE\",\\n    \"changePrice\" : 3500,\\n    \"changeRate\" : 0.0175879397,\\n    \"signedChangeRate\" : 0.0175879397,\\n    \"accTradeVolume\" : 166652,\\n    \"accTradePrice\" : 33620198000,\\n    \"chartSlideImage\" : null,\\n    \"boardUrl\" : \"https://finance.daum.net/quotes/A068270#talks\"\\n  }, {\\n    \"rank\" : 8,\\n    \"rankChange\" : 0,\\n    \"symbolCode\" : \"A373220\",\\n    \"shortCode\" : \"A373220\",\\n    \"code\" : \"KR7373220003\",\\n    \"name\" : \"LG에너지솔루션\",\\n    \"isNew\" : false,\\n    \"tradePrice\" : 388500,\\n    \"change\" : \"FALL\",\\n    \"changePrice\" : -2500,\\n    \"changeRate\" : -0.0063938619,\\n    \"signedChangeRate\" : -0.0063938619,\\n    \"accTradeVolume\" : 66321,\\n    \"accTradePrice\" : 25708346500,\\n    \"chartSlideImage\" : null,\\n    \"boardUrl\" : \"https://finance.daum.net/quotes/A373220#talks\"\\n  }, {\\n    \"rank\" : 9,\\n    \"rankChange\" : 0,\\n    \"symbolCode\" : \"A005380\",\\n    \"shortCode\" : \"A005380\",\\n    \"code\" : \"KR7005380001\",\\n    \"name\" : \"현대차\",\\n    \"isNew\" : true,\\n    \"tradePrice\" : 261000,\\n    \"change\" : \"RISE\",\\n    \"changePrice\" : 2500,\\n    \"changeRate\" : 0.0096711799,\\n    \"signedChangeRate\" : 0.0096711799,\\n    \"accTradeVolume\" : 307690,\\n    \"accTradePrice\" : 80921033000,\\n    \"chartSlideImage\" : null,\\n    \"boardUrl\" : \"https://finance.daum.net/quotes/A005380#talks\"\\n  }, {\\n    \"rank\" : 10,\\n    \"rankChange\" : 0,\\n    \"symbolCode\" : \"A066570\",\\n    \"shortCode\" : \"A066570\",\\n    \"code\" : \"KR7066570003\",\\n    \"name\" : \"LG전자\",\\n    \"isNew\" : true,\\n    \"tradePrice\" : 100300,\\n    \"change\" : \"RISE\",\\n    \"changePrice\" : 3000,\\n    \"changeRate\" : 0.0308324769,\\n    \"signedChangeRate\" : 0.0308324769,\\n    \"accTradeVolume\" : 506399,\\n    \"accTradePrice\" : 51497633500,\\n    \"chartSlideImage\" : null,\\n    \"boardUrl\" : \"https://finance.daum.net/quotes/A066570#talks\"\\n  } ]\\n}'"
            ],
            "application/vnd.google.colaboratory.intrinsic+json": {
              "type": "string"
            }
          },
          "metadata": {},
          "execution_count": 5
        }
      ]
    },
    {
      "cell_type": "code",
      "source": [
        "import requests\n",
        "url=\"https://finance.daum.net/api/search/ranks?limit=10\"\n",
        "\n",
        "headers={\n",
        "        \"referer\" : \"https://finance.daum.net/\",  # 나는 사이트에서 호출한 거에여\n",
        "        \"user-agent\":\"Mozilla/5.0 (Windows NT 10.0; Win64; x64) AppleWebKit/537.36 (KHTML, like Gecko) Chrome/128.0.0.0 Safari/537.36\"  # 나는 브라우저야\n",
        "}\n",
        "res = requests.get(url,headers=headers)\n",
        "temp=res.text\n",
        "temp\n"
      ],
      "metadata": {
        "colab": {
          "base_uri": "https://localhost:8080/",
          "height": 126
        },
        "id": "rK1qHmOqvwHD",
        "outputId": "efd426ce-c645-403d-adfe-42d89b15c35b"
      },
      "execution_count": null,
      "outputs": [
        {
          "output_type": "execute_result",
          "data": {
            "text/plain": [
              "'{\\n  \"data\" : [ {\\n    \"rank\" : 1,\\n    \"rankChange\" : 1,\\n    \"symbolCode\" : \"A005930\",\\n    \"shortCode\" : \"A005930\",\\n    \"code\" : \"KR7005930003\",\\n    \"name\" : \"삼성전자\",\\n    \"isNew\" : false,\\n    \"tradePrice\" : 74600,\\n    \"change\" : \"RISE\",\\n    \"changePrice\" : 600,\\n    \"changeRate\" : 0.0081081081,\\n    \"signedChangeRate\" : 0.0081081081,\\n    \"accTradeVolume\" : 2834316,\\n    \"accTradePrice\" : 210876629200,\\n    \"chartSlideImage\" : null,\\n    \"boardUrl\" : \"https://finance.daum.net/quotes/A005930#talks\"\\n  }, {\\n    \"rank\" : 2,\\n    \"rankChange\" : -1,\\n    \"symbolCode\" : \"A035720\",\\n    \"shortCode\" : \"A035720\",\\n    \"code\" : \"KR7035720002\",\\n    \"name\" : \"카카오\",\\n    \"isNew\" : false,\\n    \"tradePrice\" : 37400,\\n    \"change\" : \"RISE\",\\n    \"changePrice\" : 400,\\n    \"changeRate\" : 0.0108108108,\\n    \"signedChangeRate\" : 0.0108108108,\\n    \"accTradeVolume\" : 225977,\\n    \"accTradePrice\" : 8448033950,\\n    \"chartSlideImage\" : null,\\n    \"boardUrl\" : \"https://finance.daum.net/quotes/A035720#talks\"\\n  }, {\\n    \"rank\" : 3,\\n    \"rankChange\" : 0,\\n    \"symbolCode\" : \"A000100\",\\n    \"shortCode\" : \"A000100\",\\n    \"code\" : \"KR7000100008\",\\n    \"name\" : \"유한양행\",\\n    \"isNew\" : false,\\n    \"tradePrice\" : 133600,\\n    \"change\" : \"FALL\",\\n    \"changePrice\" : -3500,\\n    \"changeRate\" : -0.0255288111,\\n    \"signedChangeRate\" : -0.0255288111,\\n    \"accTradeVolume\" : 1309561,\\n    \"accTradePrice\" : 177283880300,\\n    \"chartSlideImage\" : null,\\n    \"boardUrl\" : \"https://finance.daum.net/quotes/A000100#talks\"\\n  }, {\\n    \"rank\" : 4,\\n    \"rankChange\" : 0,\\n    \"symbolCode\" : \"A000660\",\\n    \"shortCode\" : \"A000660\",\\n    \"code\" : \"KR7000660001\",\\n    \"name\" : \"SK하이닉스\",\\n    \"isNew\" : false,\\n    \"tradePrice\" : 170900,\\n    \"change\" : \"RISE\",\\n    \"changePrice\" : 1200,\\n    \"changeRate\" : 0.0070713023,\\n    \"signedChangeRate\" : 0.0070713023,\\n    \"accTradeVolume\" : 1109582,\\n    \"accTradePrice\" : 189289293600,\\n    \"chartSlideImage\" : null,\\n    \"boardUrl\" : \"https://finance.daum.net/quotes/A000660#talks\"\\n  }, {\\n    \"rank\" : 5,\\n    \"rankChange\" : 4,\\n    \"symbolCode\" : \"A461300\",\\n    \"shortCode\" : \"A461300\",\\n    \"code\" : \"KR7461300006\",\\n    \"name\" : \"아이스크림미디어\",\\n    \"isNew\" : false,\\n    \"tradePrice\" : 26050,\\n    \"change\" : \"FALL\",\\n    \"changePrice\" : -5950,\\n    \"changeRate\" : -0.1859375,\\n    \"signedChangeRate\" : -0.1859375,\\n    \"accTradeVolume\" : 4686978,\\n    \"accTradePrice\" : 134977912850,\\n    \"chartSlideImage\" : null,\\n    \"boardUrl\" : \"https://finance.daum.net/quotes/A461300#talks\"\\n  }, {\\n    \"rank\" : 6,\\n    \"rankChange\" : -1,\\n    \"symbolCode\" : \"A034020\",\\n    \"shortCode\" : \"A034020\",\\n    \"code\" : \"KR7034020008\",\\n    \"name\" : \"두산에너빌리티\",\\n    \"isNew\" : false,\\n    \"tradePrice\" : 18120,\\n    \"change\" : \"RISE\",\\n    \"changePrice\" : 370,\\n    \"changeRate\" : 0.0208450704,\\n    \"signedChangeRate\" : 0.0208450704,\\n    \"accTradeVolume\" : 1673473,\\n    \"accTradePrice\" : 30504936560,\\n    \"chartSlideImage\" : null,\\n    \"boardUrl\" : \"https://finance.daum.net/quotes/A034020#talks\"\\n  }, {\\n    \"rank\" : 7,\\n    \"rankChange\" : 0,\\n    \"symbolCode\" : \"A068270\",\\n    \"shortCode\" : \"A068270\",\\n    \"code\" : \"KR7068270008\",\\n    \"name\" : \"셀트리온\",\\n    \"isNew\" : false,\\n    \"tradePrice\" : 202000,\\n    \"change\" : \"RISE\",\\n    \"changePrice\" : 3000,\\n    \"changeRate\" : 0.0150753769,\\n    \"signedChangeRate\" : 0.0150753769,\\n    \"accTradeVolume\" : 171252,\\n    \"accTradePrice\" : 34551784000,\\n    \"chartSlideImage\" : null,\\n    \"boardUrl\" : \"https://finance.daum.net/quotes/A068270#talks\"\\n  }, {\\n    \"rank\" : 8,\\n    \"rankChange\" : 0,\\n    \"symbolCode\" : \"A373220\",\\n    \"shortCode\" : \"A373220\",\\n    \"code\" : \"KR7373220003\",\\n    \"name\" : \"LG에너지솔루션\",\\n    \"isNew\" : false,\\n    \"tradePrice\" : 389000,\\n    \"change\" : \"FALL\",\\n    \"changePrice\" : -2000,\\n    \"changeRate\" : -0.0051150895,\\n    \"signedChangeRate\" : -0.0051150895,\\n    \"accTradeVolume\" : 68399,\\n    \"accTradePrice\" : 26515370500,\\n    \"chartSlideImage\" : null,\\n    \"boardUrl\" : \"https://finance.daum.net/quotes/A373220#talks\"\\n  }, {\\n    \"rank\" : 9,\\n    \"rankChange\" : 0,\\n    \"symbolCode\" : \"A005380\",\\n    \"shortCode\" : \"A005380\",\\n    \"code\" : \"KR7005380001\",\\n    \"name\" : \"현대차\",\\n    \"isNew\" : true,\\n    \"tradePrice\" : 261000,\\n    \"change\" : \"RISE\",\\n    \"changePrice\" : 2500,\\n    \"changeRate\" : 0.0096711799,\\n    \"signedChangeRate\" : 0.0096711799,\\n    \"accTradeVolume\" : 309968,\\n    \"accTradePrice\" : 81516160500,\\n    \"chartSlideImage\" : null,\\n    \"boardUrl\" : \"https://finance.daum.net/quotes/A005380#talks\"\\n  }, {\\n    \"rank\" : 10,\\n    \"rankChange\" : 0,\\n    \"symbolCode\" : \"A066570\",\\n    \"shortCode\" : \"A066570\",\\n    \"code\" : \"KR7066570003\",\\n    \"name\" : \"LG전자\",\\n    \"isNew\" : true,\\n    \"tradePrice\" : 101200,\\n    \"change\" : \"RISE\",\\n    \"changePrice\" : 3900,\\n    \"changeRate\" : 0.0400822199,\\n    \"signedChangeRate\" : 0.0400822199,\\n    \"accTradeVolume\" : 544819,\\n    \"accTradePrice\" : 55379150000,\\n    \"chartSlideImage\" : null,\\n    \"boardUrl\" : \"https://finance.daum.net/quotes/A066570#talks\"\\n  } ]\\n}'"
            ],
            "application/vnd.google.colaboratory.intrinsic+json": {
              "type": "string"
            }
          },
          "metadata": {},
          "execution_count": 7
        }
      ]
    },
    {
      "cell_type": "code",
      "source": [
        "temp=res.json()\n",
        "temp"
      ],
      "metadata": {
        "colab": {
          "base_uri": "https://localhost:8080/"
        },
        "id": "PIXu2y58wHlT",
        "outputId": "381a4404-dc15-402f-f4ad-e33f0378ccac"
      },
      "execution_count": null,
      "outputs": [
        {
          "output_type": "execute_result",
          "data": {
            "text/plain": [
              "{'data': [{'rank': 1,\n",
              "   'rankChange': 1,\n",
              "   'symbolCode': 'A005930',\n",
              "   'shortCode': 'A005930',\n",
              "   'code': 'KR7005930003',\n",
              "   'name': '삼성전자',\n",
              "   'isNew': False,\n",
              "   'tradePrice': 74600,\n",
              "   'change': 'RISE',\n",
              "   'changePrice': 600,\n",
              "   'changeRate': 0.0081081081,\n",
              "   'signedChangeRate': 0.0081081081,\n",
              "   'accTradeVolume': 2834316,\n",
              "   'accTradePrice': 210876629200,\n",
              "   'chartSlideImage': None,\n",
              "   'boardUrl': 'https://finance.daum.net/quotes/A005930#talks'},\n",
              "  {'rank': 2,\n",
              "   'rankChange': -1,\n",
              "   'symbolCode': 'A035720',\n",
              "   'shortCode': 'A035720',\n",
              "   'code': 'KR7035720002',\n",
              "   'name': '카카오',\n",
              "   'isNew': False,\n",
              "   'tradePrice': 37400,\n",
              "   'change': 'RISE',\n",
              "   'changePrice': 400,\n",
              "   'changeRate': 0.0108108108,\n",
              "   'signedChangeRate': 0.0108108108,\n",
              "   'accTradeVolume': 225977,\n",
              "   'accTradePrice': 8448033950,\n",
              "   'chartSlideImage': None,\n",
              "   'boardUrl': 'https://finance.daum.net/quotes/A035720#talks'},\n",
              "  {'rank': 3,\n",
              "   'rankChange': 0,\n",
              "   'symbolCode': 'A000100',\n",
              "   'shortCode': 'A000100',\n",
              "   'code': 'KR7000100008',\n",
              "   'name': '유한양행',\n",
              "   'isNew': False,\n",
              "   'tradePrice': 133600,\n",
              "   'change': 'FALL',\n",
              "   'changePrice': -3500,\n",
              "   'changeRate': -0.0255288111,\n",
              "   'signedChangeRate': -0.0255288111,\n",
              "   'accTradeVolume': 1309561,\n",
              "   'accTradePrice': 177283880300,\n",
              "   'chartSlideImage': None,\n",
              "   'boardUrl': 'https://finance.daum.net/quotes/A000100#talks'},\n",
              "  {'rank': 4,\n",
              "   'rankChange': 0,\n",
              "   'symbolCode': 'A000660',\n",
              "   'shortCode': 'A000660',\n",
              "   'code': 'KR7000660001',\n",
              "   'name': 'SK하이닉스',\n",
              "   'isNew': False,\n",
              "   'tradePrice': 170900,\n",
              "   'change': 'RISE',\n",
              "   'changePrice': 1200,\n",
              "   'changeRate': 0.0070713023,\n",
              "   'signedChangeRate': 0.0070713023,\n",
              "   'accTradeVolume': 1109582,\n",
              "   'accTradePrice': 189289293600,\n",
              "   'chartSlideImage': None,\n",
              "   'boardUrl': 'https://finance.daum.net/quotes/A000660#talks'},\n",
              "  {'rank': 5,\n",
              "   'rankChange': 4,\n",
              "   'symbolCode': 'A461300',\n",
              "   'shortCode': 'A461300',\n",
              "   'code': 'KR7461300006',\n",
              "   'name': '아이스크림미디어',\n",
              "   'isNew': False,\n",
              "   'tradePrice': 26050,\n",
              "   'change': 'FALL',\n",
              "   'changePrice': -5950,\n",
              "   'changeRate': -0.1859375,\n",
              "   'signedChangeRate': -0.1859375,\n",
              "   'accTradeVolume': 4686978,\n",
              "   'accTradePrice': 134977912850,\n",
              "   'chartSlideImage': None,\n",
              "   'boardUrl': 'https://finance.daum.net/quotes/A461300#talks'},\n",
              "  {'rank': 6,\n",
              "   'rankChange': -1,\n",
              "   'symbolCode': 'A034020',\n",
              "   'shortCode': 'A034020',\n",
              "   'code': 'KR7034020008',\n",
              "   'name': '두산에너빌리티',\n",
              "   'isNew': False,\n",
              "   'tradePrice': 18120,\n",
              "   'change': 'RISE',\n",
              "   'changePrice': 370,\n",
              "   'changeRate': 0.0208450704,\n",
              "   'signedChangeRate': 0.0208450704,\n",
              "   'accTradeVolume': 1673473,\n",
              "   'accTradePrice': 30504936560,\n",
              "   'chartSlideImage': None,\n",
              "   'boardUrl': 'https://finance.daum.net/quotes/A034020#talks'},\n",
              "  {'rank': 7,\n",
              "   'rankChange': 0,\n",
              "   'symbolCode': 'A068270',\n",
              "   'shortCode': 'A068270',\n",
              "   'code': 'KR7068270008',\n",
              "   'name': '셀트리온',\n",
              "   'isNew': False,\n",
              "   'tradePrice': 202000,\n",
              "   'change': 'RISE',\n",
              "   'changePrice': 3000,\n",
              "   'changeRate': 0.0150753769,\n",
              "   'signedChangeRate': 0.0150753769,\n",
              "   'accTradeVolume': 171252,\n",
              "   'accTradePrice': 34551784000,\n",
              "   'chartSlideImage': None,\n",
              "   'boardUrl': 'https://finance.daum.net/quotes/A068270#talks'},\n",
              "  {'rank': 8,\n",
              "   'rankChange': 0,\n",
              "   'symbolCode': 'A373220',\n",
              "   'shortCode': 'A373220',\n",
              "   'code': 'KR7373220003',\n",
              "   'name': 'LG에너지솔루션',\n",
              "   'isNew': False,\n",
              "   'tradePrice': 389000,\n",
              "   'change': 'FALL',\n",
              "   'changePrice': -2000,\n",
              "   'changeRate': -0.0051150895,\n",
              "   'signedChangeRate': -0.0051150895,\n",
              "   'accTradeVolume': 68399,\n",
              "   'accTradePrice': 26515370500,\n",
              "   'chartSlideImage': None,\n",
              "   'boardUrl': 'https://finance.daum.net/quotes/A373220#talks'},\n",
              "  {'rank': 9,\n",
              "   'rankChange': 0,\n",
              "   'symbolCode': 'A005380',\n",
              "   'shortCode': 'A005380',\n",
              "   'code': 'KR7005380001',\n",
              "   'name': '현대차',\n",
              "   'isNew': True,\n",
              "   'tradePrice': 261000,\n",
              "   'change': 'RISE',\n",
              "   'changePrice': 2500,\n",
              "   'changeRate': 0.0096711799,\n",
              "   'signedChangeRate': 0.0096711799,\n",
              "   'accTradeVolume': 309968,\n",
              "   'accTradePrice': 81516160500,\n",
              "   'chartSlideImage': None,\n",
              "   'boardUrl': 'https://finance.daum.net/quotes/A005380#talks'},\n",
              "  {'rank': 10,\n",
              "   'rankChange': 0,\n",
              "   'symbolCode': 'A066570',\n",
              "   'shortCode': 'A066570',\n",
              "   'code': 'KR7066570003',\n",
              "   'name': 'LG전자',\n",
              "   'isNew': True,\n",
              "   'tradePrice': 101200,\n",
              "   'change': 'RISE',\n",
              "   'changePrice': 3900,\n",
              "   'changeRate': 0.0400822199,\n",
              "   'signedChangeRate': 0.0400822199,\n",
              "   'accTradeVolume': 544819,\n",
              "   'accTradePrice': 55379150000,\n",
              "   'chartSlideImage': None,\n",
              "   'boardUrl': 'https://finance.daum.net/quotes/A066570#talks'}]}"
            ]
          },
          "metadata": {},
          "execution_count": 8
        }
      ]
    },
    {
      "cell_type": "code",
      "source": [
        "for i in temp['data']:\n",
        "    print(i['rank'], i['name'])\n"
      ],
      "metadata": {
        "colab": {
          "base_uri": "https://localhost:8080/"
        },
        "id": "z81U4gN2wY4K",
        "outputId": "3a474b0a-4557-4857-ec40-58c31d8ef481"
      },
      "execution_count": null,
      "outputs": [
        {
          "output_type": "stream",
          "name": "stdout",
          "text": [
            "1 삼성전자\n",
            "2 카카오\n",
            "3 유한양행\n",
            "4 SK하이닉스\n",
            "5 아이스크림미디어\n",
            "6 두산에너빌리티\n",
            "7 셀트리온\n",
            "8 LG에너지솔루션\n",
            "9 현대차\n",
            "10 LG전자\n"
          ]
        }
      ]
    },
    {
      "cell_type": "code",
      "source": [
        "# 정말 심한 보안처리하는 사이트는 이 정도로 안된다 -> 많이 고민해야함.."
      ],
      "metadata": {
        "id": "6SHbI-81xFTs"
      },
      "execution_count": null,
      "outputs": []
    }
  ]
}