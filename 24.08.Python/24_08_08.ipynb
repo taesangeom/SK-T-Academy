{
  "nbformat": 4,
  "nbformat_minor": 0,
  "metadata": {
    "colab": {
      "provenance": [],
      "authorship_tag": "ABX9TyMLeCODR65jzEBuwG6T/WXj",
      "include_colab_link": true
    },
    "kernelspec": {
      "name": "python3",
      "display_name": "Python 3"
    },
    "language_info": {
      "name": "python"
    }
  },
  "cells": [
    {
      "cell_type": "markdown",
      "metadata": {
        "id": "view-in-github",
        "colab_type": "text"
      },
      "source": [
        "<a href=\"https://colab.research.google.com/github/taesangeom/SK-T-Academy/blob/main/24.08.Python/24_08_08.ipynb\" target=\"_parent\"><img src=\"https://colab.research.google.com/assets/colab-badge.svg\" alt=\"Open In Colab\"/></a>"
      ]
    },
    {
      "cell_type": "code",
      "execution_count": 1,
      "metadata": {
        "id": "_M6P-u94kE9N"
      },
      "outputs": [],
      "source": [
        "# Python 시작"
      ]
    },
    {
      "cell_type": "markdown",
      "source": [
        "## Python 시작\n",
        "문서 양식은 주로 markdown 문법 사용"
      ],
      "metadata": {
        "id": "SRyR7s9jlx-z"
      }
    },
    {
      "cell_type": "code",
      "source": [
        "a=200\n",
        "a"
      ],
      "metadata": {
        "colab": {
          "base_uri": "https://localhost:8080/"
        },
        "id": "1QcUUYkGkXir",
        "outputId": "3d7aeb07-ad0a-4415-fe64-58b860bfaf2c"
      },
      "execution_count": 2,
      "outputs": [
        {
          "output_type": "execute_result",
          "data": {
            "text/plain": [
              "200"
            ]
          },
          "metadata": {},
          "execution_count": 2
        }
      ]
    },
    {
      "cell_type": "markdown",
      "source": [
        "# 값 할당\n",
        "코테에서는 += 이런거 잘 이용하기"
      ],
      "metadata": {
        "id": "N-TnFoej0_AT"
      }
    },
    {
      "cell_type": "code",
      "source": [
        "n=10"
      ],
      "metadata": {
        "id": "4POqkP6P1DiR"
      },
      "execution_count": 3,
      "outputs": []
    },
    {
      "cell_type": "code",
      "source": [
        "n=n+1 #기존 값에다가 값갱신\n",
        "n"
      ],
      "metadata": {
        "colab": {
          "base_uri": "https://localhost:8080/"
        },
        "id": "yg21DnWa1HaB",
        "outputId": "10385f1e-317a-4ea0-9710-c9f89ec3c86c"
      },
      "execution_count": 4,
      "outputs": [
        {
          "output_type": "execute_result",
          "data": {
            "text/plain": [
              "11"
            ]
          },
          "metadata": {},
          "execution_count": 4
        }
      ]
    },
    {
      "cell_type": "code",
      "source": [
        "#파이썬의 멀티할당 -> 주로 코테, 코드가 상당히 간결해짐\n",
        "#정렬 알고리즘의 기본적인 구현에서 주로 사용됨\n",
        "\n",
        "#최근 코테의 정렬은 구현 중심"
      ],
      "metadata": {
        "id": "sKtMx_Qq2rYJ"
      },
      "execution_count": null,
      "outputs": []
    },
    {
      "cell_type": "code",
      "source": [
        "# 예) 두 변수 값 교환\n",
        "a=10\n",
        "b=20\n",
        "print(a,b)\n",
        "\n",
        "a,b=b,a\n",
        "print(a,b)"
      ],
      "metadata": {
        "colab": {
          "base_uri": "https://localhost:8080/"
        },
        "id": "Ba_xUvkg3IS0",
        "outputId": "5c64dbaf-806a-4995-8921-31704e530f38"
      },
      "execution_count": 7,
      "outputs": [
        {
          "output_type": "stream",
          "name": "stdout",
          "text": [
            "10 20\n",
            "20 10\n"
          ]
        }
      ]
    },
    {
      "cell_type": "markdown",
      "source": [
        "# 자료구조"
      ],
      "metadata": {
        "id": "BeCpvkA24IcG"
      }
    },
    {
      "cell_type": "code",
      "source": [
        "# 1개의 값 대상 :\n",
        "#               값의 종류 : 숫자\n",
        "#                           문자\n",
        "#                           논리값\n",
        "#여러개의 값 대상\n",
        "#   -> 값들을 나열한다. (ㅁ,ㅁ,ㅁ,ㅁ)\n",
        "#   -> 리스트 [ㅁ,ㅁ,ㅁ] : 가장 대표적, 수정가능\n",
        "#   -> 튜플 (ㅁ,ㅁ,ㅁ) : 한번 만들면 수정 불가\n",
        "#   -> set {ㅁ,ㅁ,ㅁ} : 중복제거, 순서 없음 -> 유니크한 값 체크가능 : 자료형 만으로 자동\n",
        "#   -> dict {key:value, key:value, key:value} : 미니 데이터베이스, 데이터 분석 간혹 등장\n",
        "#   코테에서는 중요함.코드가 간결하고 빠름.내부에 HashTable 적용, 속도이슈시 딕셔너리 사용\n",
        "\n",
        "#1000000(사람 백만명)\n",
        "# ->case1) list: 순서 탐색 필요\n",
        "# ->case2) dict: key 값만 알면 value 값 산출 가능 (책 뒤에 있는 index 느낌)\n",
        "\n",
        "#리스트에서 원하는 원소를 찾는 시간의 복잡도 : O(n)\n",
        "#딕셔너리에서 \" : O(1) , 이유: HashTable 알고리즘의 내부화\n"
      ],
      "metadata": {
        "id": "hFzodDrX4GvB"
      },
      "execution_count": null,
      "outputs": []
    },
    {
      "cell_type": "code",
      "source": [
        "#예) 반에서 3명의 a,b,c 친구들 존재. 수학점수 : 80,70,95점 총점?\n",
        "\n",
        "a,b,c=80,70,95\n",
        "total=a+b+c\n",
        "print(total)"
      ],
      "metadata": {
        "colab": {
          "base_uri": "https://localhost:8080/"
        },
        "id": "1-Iw3Jr37Qdk",
        "outputId": "1d44f563-e1d8-4a46-a04c-b492f6b0a864"
      },
      "execution_count": 9,
      "outputs": [
        {
          "output_type": "stream",
          "name": "stdout",
          "text": [
            "245\n"
          ]
        }
      ]
    },
    {
      "cell_type": "code",
      "source": [
        "#Q: 우리,반의 학생이 100명으로 늘어나면?\n",
        "scores=[90,80,70]\n",
        "#장점: 변수가 심플 , 단점: 누가 몇점인지 모름\n",
        "\n",
        "# 해결 -> dict 사용 (단, 동명이인 없음)"
      ],
      "metadata": {
        "id": "0bK7tbJf759b"
      },
      "execution_count": null,
      "outputs": []
    },
    {
      "cell_type": "code",
      "source": [
        "# LIST\n",
        "\n",
        "#기본 구조 : []\n",
        "#기본 기능 : append 값추가 / insert(어디에,뭐를) 중간에 삽입 / pop 제거 , 위치 중심 (기본값 맨 뒤)\n",
        "# remove : 값 중심으로 제거 , (중복시, 맨 앞의 1개만 제거)\n",
        "#파이썬 코테는 리스트의 잡다한 기능들도 섭렵하자\n",
        "# 코테를 위한 자료구조인 stack 과 queue -> 리스트의 append, pop으로 구현\n",
        "#-> 탐색 알고리즘 구현 + 최단거리\n",
        "\n",
        "a_list=[10,20,30,40]\n",
        "a_list"
      ],
      "metadata": {
        "colab": {
          "base_uri": "https://localhost:8080/"
        },
        "id": "Wf-ou_ANY2HV",
        "outputId": "685e7a2a-3449-46f0-926e-10c579db77d0"
      },
      "execution_count": 13,
      "outputs": [
        {
          "output_type": "execute_result",
          "data": {
            "text/plain": [
              "[10, 20, 30, 40]"
            ]
          },
          "metadata": {},
          "execution_count": 13
        }
      ]
    },
    {
      "cell_type": "code",
      "source": [
        "a_list.append(50)\n",
        "a_list"
      ],
      "metadata": {
        "colab": {
          "base_uri": "https://localhost:8080/"
        },
        "id": "9_MYZWMlaJI-",
        "outputId": "dd3dd3ef-d225-417d-e99e-e4b39c25c831"
      },
      "execution_count": 14,
      "outputs": [
        {
          "output_type": "execute_result",
          "data": {
            "text/plain": [
              "[10, 20, 30, 40, 50]"
            ]
          },
          "metadata": {},
          "execution_count": 14
        }
      ]
    },
    {
      "cell_type": "code",
      "source": [
        "#값의 종류가 꼭 일치하지 않아도 됨. 그냥 여러개를 묶어둔다.\n",
        "# 그냥 여러개를 묶어둔다. 이질적인 변수들도 같이 담을 수 있고, 용량이 클 수도 있음.\n",
        "\n",
        "b_list =[1,2, 22332,\"hello\", [1,2,3,4]]\n",
        "b_list[3]"
      ],
      "metadata": {
        "colab": {
          "base_uri": "https://localhost:8080/",
          "height": 35
        },
        "id": "lxJGQsFIaTLi",
        "outputId": "c708d47e-4eba-4a47-f8a8-0c4bdaffa4f2"
      },
      "execution_count": 16,
      "outputs": [
        {
          "output_type": "execute_result",
          "data": {
            "text/plain": [
              "'hello'"
            ],
            "application/vnd.google.colaboratory.intrinsic+json": {
              "type": "string"
            }
          },
          "metadata": {},
          "execution_count": 16
        }
      ]
    },
    {
      "cell_type": "code",
      "source": [
        "b_list.append(100)\n",
        "b_list"
      ],
      "metadata": {
        "colab": {
          "base_uri": "https://localhost:8080/"
        },
        "id": "Maxkxc-aayNN",
        "outputId": "b310755a-0a94-4c8d-ba25-a23c70d60af1"
      },
      "execution_count": 17,
      "outputs": [
        {
          "output_type": "execute_result",
          "data": {
            "text/plain": [
              "[1, 2, 22332, 'hello', [1, 2, 3, 4], 100]"
            ]
          },
          "metadata": {},
          "execution_count": 17
        }
      ]
    },
    {
      "cell_type": "code",
      "source": [
        "b_list.insert(2,\"aa\")\n",
        "b_list"
      ],
      "metadata": {
        "colab": {
          "base_uri": "https://localhost:8080/"
        },
        "id": "h1KsXt5ta4xm",
        "outputId": "064a2399-0d0a-429d-ad4a-11d086fa9236"
      },
      "execution_count": 18,
      "outputs": [
        {
          "output_type": "execute_result",
          "data": {
            "text/plain": [
              "[1, 2, 'aa', 22332, 'hello', [1, 2, 3, 4], 100]"
            ]
          },
          "metadata": {},
          "execution_count": 18
        }
      ]
    },
    {
      "cell_type": "code",
      "source": [
        "len(b_list)"
      ],
      "metadata": {
        "colab": {
          "base_uri": "https://localhost:8080/"
        },
        "id": "DKbtgOiYbALL",
        "outputId": "0b4f418c-257b-4489-8c6a-2dbf83a74b63"
      },
      "execution_count": 20,
      "outputs": [
        {
          "output_type": "execute_result",
          "data": {
            "text/plain": [
              "7"
            ]
          },
          "metadata": {},
          "execution_count": 20
        }
      ]
    },
    {
      "cell_type": "code",
      "source": [
        "b_list.pop()\n",
        "b_list"
      ],
      "metadata": {
        "colab": {
          "base_uri": "https://localhost:8080/"
        },
        "id": "Vi_KGGEybXKO",
        "outputId": "94b58336-6084-41aa-fee3-1b2de00b2f52"
      },
      "execution_count": 21,
      "outputs": [
        {
          "output_type": "execute_result",
          "data": {
            "text/plain": [
              "[1, 2, 'aa', 22332, 'hello', [1, 2, 3, 4]]"
            ]
          },
          "metadata": {},
          "execution_count": 21
        }
      ]
    },
    {
      "cell_type": "code",
      "source": [
        "b_list.append(3)\n",
        "b_list.append(3)\n",
        "b_list"
      ],
      "metadata": {
        "colab": {
          "base_uri": "https://localhost:8080/"
        },
        "id": "tZFh9kckbfC0",
        "outputId": "c58c961d-3381-4ba2-dc83-0d6a95101dc2"
      },
      "execution_count": 22,
      "outputs": [
        {
          "output_type": "execute_result",
          "data": {
            "text/plain": [
              "[1, 2, 'aa', 22332, 'hello', [1, 2, 3, 4], 3, 3]"
            ]
          },
          "metadata": {},
          "execution_count": 22
        }
      ]
    },
    {
      "cell_type": "code",
      "source": [
        "b_list.remove(3)\n",
        "b_list   #remove는 중복시 앞에 1개만 지운다."
      ],
      "metadata": {
        "colab": {
          "base_uri": "https://localhost:8080/"
        },
        "id": "pFOXlHH5bnXT",
        "outputId": "64ec0820-5a2b-4ac9-9b2a-611f9b74a92a"
      },
      "execution_count": 23,
      "outputs": [
        {
          "output_type": "execute_result",
          "data": {
            "text/plain": [
              "[1, 2, 'aa', 22332, 'hello', [1, 2, 3, 4], 3]"
            ]
          },
          "metadata": {},
          "execution_count": 23
        }
      ]
    },
    {
      "cell_type": "code",
      "source": [
        "# 여러 개 값들에 대한 접근\n",
        "#-> 몇번 째 나와 (위치정보)\n",
        "# 순방향 :0, 양의 정수 , 역방향은 음의 정수 -> 정수 인덱스\n",
        "\n",
        "# 하나의 값 가져온다 : 정수 인덱스 / 여러개의 값 가져온다 : 슬라이싱\n",
        "# 중요: 기준이 0 번째이다.\n",
        "b_list\n"
      ],
      "metadata": {
        "colab": {
          "base_uri": "https://localhost:8080/"
        },
        "id": "PuDDqxLxcfQV",
        "outputId": "91dfea7b-8bd4-47d6-cc09-03e777e61271"
      },
      "execution_count": 24,
      "outputs": [
        {
          "output_type": "execute_result",
          "data": {
            "text/plain": [
              "[1, 2, 'aa', 22332, 'hello', [1, 2, 3, 4], 3]"
            ]
          },
          "metadata": {},
          "execution_count": 24
        }
      ]
    },
    {
      "cell_type": "code",
      "source": [
        "b_list[-1] #맨 뒤에서 첫번째 원소"
      ],
      "metadata": {
        "colab": {
          "base_uri": "https://localhost:8080/"
        },
        "id": "xxc50j2Cc0Ab",
        "outputId": "28ff5943-c229-49bf-b18e-e2204a91ca29"
      },
      "execution_count": 25,
      "outputs": [
        {
          "output_type": "execute_result",
          "data": {
            "text/plain": [
              "3"
            ]
          },
          "metadata": {},
          "execution_count": 25
        }
      ]
    },
    {
      "cell_type": "code",
      "source": [
        "b_list[0:3] # 인덱스 자리 슬라이싱\n",
        "# 시작점 에서 끝점 전 까지 : 간격도 설정 가능\n"
      ],
      "metadata": {
        "colab": {
          "base_uri": "https://localhost:8080/"
        },
        "id": "6yfnLSdbdMps",
        "outputId": "eeff4ef2-d167-4d45-a193-d9f54ff1c490"
      },
      "execution_count": 26,
      "outputs": [
        {
          "output_type": "execute_result",
          "data": {
            "text/plain": [
              "[1, 2, 'aa']"
            ]
          },
          "metadata": {},
          "execution_count": 26
        }
      ]
    },
    {
      "cell_type": "code",
      "source": [
        "b_list[0:5:2]"
      ],
      "metadata": {
        "colab": {
          "base_uri": "https://localhost:8080/"
        },
        "id": "_WJ0PR1VdcM5",
        "outputId": "a8667119-6e1a-4571-c7fb-bc6210cda5c4"
      },
      "execution_count": 27,
      "outputs": [
        {
          "output_type": "execute_result",
          "data": {
            "text/plain": [
              "[1, 'aa', 'hello']"
            ]
          },
          "metadata": {},
          "execution_count": 27
        }
      ]
    },
    {
      "cell_type": "code",
      "source": [
        "b_list[::] # 자기 자신 리턴"
      ],
      "metadata": {
        "colab": {
          "base_uri": "https://localhost:8080/"
        },
        "id": "raj92RYXdmCy",
        "outputId": "f3c1e0ac-c495-4c6d-b8a3-c78bf03d2636"
      },
      "execution_count": 28,
      "outputs": [
        {
          "output_type": "execute_result",
          "data": {
            "text/plain": [
              "[1, 2, 'aa', 22332, 'hello', [1, 2, 3, 4], 3]"
            ]
          },
          "metadata": {},
          "execution_count": 28
        }
      ]
    },
    {
      "cell_type": "code",
      "source": [
        "b_list[::-1] # 역순 , reverse 함수도 따로 있음"
      ],
      "metadata": {
        "colab": {
          "base_uri": "https://localhost:8080/"
        },
        "id": "A96_j8wqdyE6",
        "outputId": "8f832d77-d354-4346-9ea5-11cd8229effa"
      },
      "execution_count": 29,
      "outputs": [
        {
          "output_type": "execute_result",
          "data": {
            "text/plain": [
              "[3, [1, 2, 3, 4], 'hello', 22332, 'aa', 2, 1]"
            ]
          },
          "metadata": {},
          "execution_count": 29
        }
      ]
    },
    {
      "cell_type": "code",
      "source": [
        "b_list[ [1,2,3] ]\n",
        "# 쌩 파이썬에서는 인덱스 자리에 정수나 슬라이스만 가능, 하지만\n",
        "#Numpy에서의 array 자료형에서는 위가 가능"
      ],
      "metadata": {
        "id": "mZr7e7WJeHgx"
      },
      "execution_count": null,
      "outputs": []
    },
    {
      "cell_type": "code",
      "source": [
        "#리스트에 대한 간단한 정리\n",
        "# 값을 접근하는 방식 : 정수 인덱스, 여러개는 슬라이싱\n",
        "#기본 적인 동작 : 추가 append,insert / 제거 pop,reomve\n",
        "# 리스트의 메소드 활용해서 조작한다면 메모리에 바로 반영 -> 재할당이 필요없다\n",
        "# 코테: 리스트의 잡다한 기능(여러 메서드에 대해 알아놔야 함)"
      ],
      "metadata": {
        "id": "6BPFe2mmeWzQ"
      },
      "execution_count": null,
      "outputs": []
    },
    {
      "cell_type": "markdown",
      "source": [
        "# 연산자"
      ],
      "metadata": {
        "id": "ZH29Li0fVKqY"
      }
    },
    {
      "cell_type": "code",
      "source": [
        "# 연산자 중에서 나눗셈 주요하게\n",
        "# / : 몫에 대한 소수나눗셈\n",
        "# 파이썬의 기본 나눗셈 연산자: 적당히 뒤에서 반올림 -> 수치 연산 중요한 모델링, 모델링 성능\n",
        "# DL에서는 더욱 긴 자료형 필요 -> tensorflow, pytorch\n",
        "\n",
        "#코테에서 자주 활용 99건의 데이터 중 10건 단위 처리 -> 코드화 작업 -> DART에서 공시 수집"
      ],
      "metadata": {
        "id": "8CNKgxMOVL8-"
      },
      "execution_count": null,
      "outputs": []
    },
    {
      "cell_type": "code",
      "source": [
        "#파이썬 공식 함수 divmod() -> 입력: 무엇을 무엇으로 나눌지,\n",
        "# 기능 : 나눗셈을 통해 몫과 나머지 한번에 리턴\n",
        "divmod(5,3)"
      ],
      "metadata": {
        "colab": {
          "base_uri": "https://localhost:8080/"
        },
        "id": "8DciqKOuWjau",
        "outputId": "a0b03d68-53ba-4e0d-a233-6a1a0892d983"
      },
      "execution_count": 10,
      "outputs": [
        {
          "output_type": "execute_result",
          "data": {
            "text/plain": [
              "(1, 2)"
            ]
          },
          "metadata": {},
          "execution_count": 10
        }
      ]
    },
    {
      "cell_type": "code",
      "source": [
        "divmod(5,3)[0] #첫번째 값 즉, 몫임 -> 5//3"
      ],
      "metadata": {
        "colab": {
          "base_uri": "https://localhost:8080/"
        },
        "id": "2zxvLy6FXLBp",
        "outputId": "f8c4cb39-4ae6-459d-bc6b-7d92f650f944"
      },
      "execution_count": 11,
      "outputs": [
        {
          "output_type": "execute_result",
          "data": {
            "text/plain": [
              "1"
            ]
          },
          "metadata": {},
          "execution_count": 11
        }
      ]
    },
    {
      "cell_type": "code",
      "source": [
        "#코테에 적용 -> 멀티 할당 -> for 문에 이용\n",
        "q,m = divmod(5,3)\n",
        "print(q,m)"
      ],
      "metadata": {
        "colab": {
          "base_uri": "https://localhost:8080/"
        },
        "id": "lA1mZv0NXYIP",
        "outputId": "f6f6a375-5513-43f8-e5e0-4cf0f41e2eee"
      },
      "execution_count": 12,
      "outputs": [
        {
          "output_type": "stream",
          "name": "stdout",
          "text": [
            "1 2\n"
          ]
        }
      ]
    },
    {
      "cell_type": "code",
      "source": [],
      "metadata": {
        "id": "gtwxBxwoY0hH"
      },
      "execution_count": null,
      "outputs": []
    }
  ]
}