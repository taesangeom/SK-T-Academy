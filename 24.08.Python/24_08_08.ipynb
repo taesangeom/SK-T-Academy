{
  "nbformat": 4,
  "nbformat_minor": 0,
  "metadata": {
    "colab": {
      "provenance": [],
      "authorship_tag": "ABX9TyMKGCIQlGZ3EFD4bgqV2HSX",
      "include_colab_link": true
    },
    "kernelspec": {
      "name": "python3",
      "display_name": "Python 3"
    },
    "language_info": {
      "name": "python"
    }
  },
  "cells": [
    {
      "cell_type": "markdown",
      "metadata": {
        "id": "view-in-github",
        "colab_type": "text"
      },
      "source": [
        "<a href=\"https://colab.research.google.com/github/taesangeom/SK-T-Academy/blob/main/24.08.Python/24_08_08.ipynb\" target=\"_parent\"><img src=\"https://colab.research.google.com/assets/colab-badge.svg\" alt=\"Open In Colab\"/></a>"
      ]
    },
    {
      "cell_type": "code",
      "execution_count": 1,
      "metadata": {
        "id": "_M6P-u94kE9N"
      },
      "outputs": [],
      "source": [
        "# Python 시작"
      ]
    },
    {
      "cell_type": "markdown",
      "source": [
        "## Python 시작\n",
        "문서 양식은 주로 markdown 문법 사용"
      ],
      "metadata": {
        "id": "SRyR7s9jlx-z"
      }
    },
    {
      "cell_type": "code",
      "source": [
        "a=200\n",
        "a"
      ],
      "metadata": {
        "colab": {
          "base_uri": "https://localhost:8080/"
        },
        "id": "1QcUUYkGkXir",
        "outputId": "3d7aeb07-ad0a-4415-fe64-58b860bfaf2c"
      },
      "execution_count": 2,
      "outputs": [
        {
          "output_type": "execute_result",
          "data": {
            "text/plain": [
              "200"
            ]
          },
          "metadata": {},
          "execution_count": 2
        }
      ]
    },
    {
      "cell_type": "markdown",
      "source": [
        "# 값 할당\n",
        "코테에서는 += 이런거 잘 이용하기"
      ],
      "metadata": {
        "id": "N-TnFoej0_AT"
      }
    },
    {
      "cell_type": "code",
      "source": [
        "n=10"
      ],
      "metadata": {
        "id": "4POqkP6P1DiR"
      },
      "execution_count": 3,
      "outputs": []
    },
    {
      "cell_type": "code",
      "source": [
        "n=n+1 #기존 값에다가 값갱신\n",
        "n"
      ],
      "metadata": {
        "colab": {
          "base_uri": "https://localhost:8080/"
        },
        "id": "yg21DnWa1HaB",
        "outputId": "10385f1e-317a-4ea0-9710-c9f89ec3c86c"
      },
      "execution_count": 4,
      "outputs": [
        {
          "output_type": "execute_result",
          "data": {
            "text/plain": [
              "11"
            ]
          },
          "metadata": {},
          "execution_count": 4
        }
      ]
    },
    {
      "cell_type": "code",
      "source": [
        "#파이썬의 멀티할당 -> 주로 코테, 코드가 상당히 간결해짐\n",
        "#정렬 알고리즘의 기본적인 구현에서 주로 사용됨\n",
        "\n",
        "#최근 코테의 정렬은 구현 중심"
      ],
      "metadata": {
        "id": "sKtMx_Qq2rYJ"
      },
      "execution_count": null,
      "outputs": []
    },
    {
      "cell_type": "code",
      "source": [
        "# 예) 두 변수 값 교환\n",
        "a=10\n",
        "b=20\n",
        "print(a,b)\n",
        "\n",
        "a,b=b,a\n",
        "print(a,b)"
      ],
      "metadata": {
        "colab": {
          "base_uri": "https://localhost:8080/"
        },
        "id": "Ba_xUvkg3IS0",
        "outputId": "5c64dbaf-806a-4995-8921-31704e530f38"
      },
      "execution_count": 7,
      "outputs": [
        {
          "output_type": "stream",
          "name": "stdout",
          "text": [
            "10 20\n",
            "20 10\n"
          ]
        }
      ]
    },
    {
      "cell_type": "markdown",
      "source": [
        "# 자료구조"
      ],
      "metadata": {
        "id": "BeCpvkA24IcG"
      }
    },
    {
      "cell_type": "code",
      "source": [
        "# 1개의 값 대상 :\n",
        "#               값의 종류 : 숫자\n",
        "#                           문자\n",
        "#                           논리값\n",
        "#여러개의 값 대상\n",
        "#   -> 값들을 나열한다. (ㅁ,ㅁ,ㅁ,ㅁ)\n",
        "#   -> 리스트 [ㅁ,ㅁ,ㅁ] : 가장 대표적, 수정가능\n",
        "#   -> 튜플 (ㅁ,ㅁ,ㅁ) : 한번 만들면 수정 불가\n",
        "#   -> set {ㅁ,ㅁ,ㅁ} : 중복제거, 순서 없음 -> 유니크한 값 체크가능 : 자료형 만으로 자동\n",
        "#   -> dict {key:value, key:value, key:value} : 미니 데이터베이스, 데이터 분석 간혹 등장\n",
        "#   코테에서는 중요함.코드가 간결하고 빠름.내부에 HashTable 적용, 속도이슈시 딕셔너리 사용\n",
        "\n",
        "#1000000(사람 백만명)\n",
        "# ->case1) list: 순서 탐색 필요\n",
        "# ->case2) dict: key 값만 알면 value 값 산출 가능 (책 뒤에 있는 index 느낌)\n",
        "\n",
        "#리스트에서 원하는 원소를 찾는 시간의 복잡도 : O(n)\n",
        "#딕셔너리에서 \" : O(1) , 이유: HashTable 알고리즘의 내부화\n"
      ],
      "metadata": {
        "id": "hFzodDrX4GvB"
      },
      "execution_count": null,
      "outputs": []
    },
    {
      "cell_type": "code",
      "source": [
        "#예) 반에서 3명의 a,b,c 친구들 존재. 수학점수 : 80,70,95점 총점?\n",
        "\n",
        "a,b,c=80,70,95\n",
        "total=a+b+c\n",
        "print(total)"
      ],
      "metadata": {
        "colab": {
          "base_uri": "https://localhost:8080/"
        },
        "id": "1-Iw3Jr37Qdk",
        "outputId": "1d44f563-e1d8-4a46-a04c-b492f6b0a864"
      },
      "execution_count": 9,
      "outputs": [
        {
          "output_type": "stream",
          "name": "stdout",
          "text": [
            "245\n"
          ]
        }
      ]
    },
    {
      "cell_type": "code",
      "source": [
        "#Q: 우리,반의 학생이 100명으로 늘어나면?\n",
        "scores=[90,80,70]\n",
        "#장점: 변수가 심플 , 단점: 누가 몇점인지 모름\n",
        "\n",
        "# 해결 -> dict 사용 (단, 동명이인 없음)"
      ],
      "metadata": {
        "id": "0bK7tbJf759b"
      },
      "execution_count": null,
      "outputs": []
    },
    {
      "cell_type": "code",
      "source": [
        "# LIST\n",
        "\n",
        "#기본 구조 : []\n",
        "#기본 기능 : append 값추가 / insert(어디에,뭐를) 중간에 삽입 / pop 제거 , 위치 중심 (기본값 맨 뒤)\n",
        "# remove : 값 중심으로 제거 , (중복시, 맨 앞의 1개만 제거)\n",
        "#파이썬 코테는 리스트의 잡다한 기능들도 섭렵하자\n",
        "# 코테를 위한 자료구조인 stack 과 queue -> 리스트의 append, pop으로 구현\n",
        "#-> 탐색 알고리즘 구현 + 최단거리\n",
        "\n",
        "a_list=[10,20,30,40]\n",
        "a_list"
      ],
      "metadata": {
        "colab": {
          "base_uri": "https://localhost:8080/"
        },
        "id": "Wf-ou_ANY2HV",
        "outputId": "685e7a2a-3449-46f0-926e-10c579db77d0"
      },
      "execution_count": 13,
      "outputs": [
        {
          "output_type": "execute_result",
          "data": {
            "text/plain": [
              "[10, 20, 30, 40]"
            ]
          },
          "metadata": {},
          "execution_count": 13
        }
      ]
    },
    {
      "cell_type": "code",
      "source": [
        "a_list.append(50)\n",
        "a_list"
      ],
      "metadata": {
        "colab": {
          "base_uri": "https://localhost:8080/"
        },
        "id": "9_MYZWMlaJI-",
        "outputId": "dd3dd3ef-d225-417d-e99e-e4b39c25c831"
      },
      "execution_count": 14,
      "outputs": [
        {
          "output_type": "execute_result",
          "data": {
            "text/plain": [
              "[10, 20, 30, 40, 50]"
            ]
          },
          "metadata": {},
          "execution_count": 14
        }
      ]
    },
    {
      "cell_type": "code",
      "source": [
        "#값의 종류가 꼭 일치하지 않아도 됨. 그냥 여러개를 묶어둔다.\n",
        "# 그냥 여러개를 묶어둔다. 이질적인 변수들도 같이 담을 수 있고, 용량이 클 수도 있음.\n",
        "\n",
        "b_list =[1,2, 22332,\"hello\", [1,2,3,4]]\n",
        "b_list[3]"
      ],
      "metadata": {
        "colab": {
          "base_uri": "https://localhost:8080/",
          "height": 35
        },
        "id": "lxJGQsFIaTLi",
        "outputId": "c708d47e-4eba-4a47-f8a8-0c4bdaffa4f2"
      },
      "execution_count": 16,
      "outputs": [
        {
          "output_type": "execute_result",
          "data": {
            "text/plain": [
              "'hello'"
            ],
            "application/vnd.google.colaboratory.intrinsic+json": {
              "type": "string"
            }
          },
          "metadata": {},
          "execution_count": 16
        }
      ]
    },
    {
      "cell_type": "code",
      "source": [
        "b_list.append(100)\n",
        "b_list"
      ],
      "metadata": {
        "colab": {
          "base_uri": "https://localhost:8080/"
        },
        "id": "Maxkxc-aayNN",
        "outputId": "b310755a-0a94-4c8d-ba25-a23c70d60af1"
      },
      "execution_count": 17,
      "outputs": [
        {
          "output_type": "execute_result",
          "data": {
            "text/plain": [
              "[1, 2, 22332, 'hello', [1, 2, 3, 4], 100]"
            ]
          },
          "metadata": {},
          "execution_count": 17
        }
      ]
    },
    {
      "cell_type": "code",
      "source": [
        "b_list.insert(2,\"aa\")\n",
        "b_list"
      ],
      "metadata": {
        "colab": {
          "base_uri": "https://localhost:8080/"
        },
        "id": "h1KsXt5ta4xm",
        "outputId": "064a2399-0d0a-429d-ad4a-11d086fa9236"
      },
      "execution_count": 18,
      "outputs": [
        {
          "output_type": "execute_result",
          "data": {
            "text/plain": [
              "[1, 2, 'aa', 22332, 'hello', [1, 2, 3, 4], 100]"
            ]
          },
          "metadata": {},
          "execution_count": 18
        }
      ]
    },
    {
      "cell_type": "code",
      "source": [
        "len(b_list)"
      ],
      "metadata": {
        "colab": {
          "base_uri": "https://localhost:8080/"
        },
        "id": "DKbtgOiYbALL",
        "outputId": "0b4f418c-257b-4489-8c6a-2dbf83a74b63"
      },
      "execution_count": 20,
      "outputs": [
        {
          "output_type": "execute_result",
          "data": {
            "text/plain": [
              "7"
            ]
          },
          "metadata": {},
          "execution_count": 20
        }
      ]
    },
    {
      "cell_type": "code",
      "source": [
        "b_list.pop()\n",
        "b_list"
      ],
      "metadata": {
        "colab": {
          "base_uri": "https://localhost:8080/"
        },
        "id": "Vi_KGGEybXKO",
        "outputId": "94b58336-6084-41aa-fee3-1b2de00b2f52"
      },
      "execution_count": 21,
      "outputs": [
        {
          "output_type": "execute_result",
          "data": {
            "text/plain": [
              "[1, 2, 'aa', 22332, 'hello', [1, 2, 3, 4]]"
            ]
          },
          "metadata": {},
          "execution_count": 21
        }
      ]
    },
    {
      "cell_type": "code",
      "source": [
        "b_list.append(3)\n",
        "b_list.append(3)\n",
        "b_list"
      ],
      "metadata": {
        "colab": {
          "base_uri": "https://localhost:8080/"
        },
        "id": "tZFh9kckbfC0",
        "outputId": "c58c961d-3381-4ba2-dc83-0d6a95101dc2"
      },
      "execution_count": 22,
      "outputs": [
        {
          "output_type": "execute_result",
          "data": {
            "text/plain": [
              "[1, 2, 'aa', 22332, 'hello', [1, 2, 3, 4], 3, 3]"
            ]
          },
          "metadata": {},
          "execution_count": 22
        }
      ]
    },
    {
      "cell_type": "code",
      "source": [
        "b_list.remove(3)\n",
        "b_list   #remove는 중복시 앞에 1개만 지운다."
      ],
      "metadata": {
        "colab": {
          "base_uri": "https://localhost:8080/"
        },
        "id": "pFOXlHH5bnXT",
        "outputId": "64ec0820-5a2b-4ac9-9b2a-611f9b74a92a"
      },
      "execution_count": 23,
      "outputs": [
        {
          "output_type": "execute_result",
          "data": {
            "text/plain": [
              "[1, 2, 'aa', 22332, 'hello', [1, 2, 3, 4], 3]"
            ]
          },
          "metadata": {},
          "execution_count": 23
        }
      ]
    },
    {
      "cell_type": "code",
      "source": [
        "# 여러 개 값들에 대한 접근\n",
        "#-> 몇번 째 나와 (위치정보)\n",
        "# 순방향 :0, 양의 정수 , 역방향은 음의 정수 -> 정수 인덱스\n",
        "\n",
        "# 하나의 값 가져온다 : 정수 인덱스 / 여러개의 값 가져온다 : 슬라이싱\n",
        "# 중요: 기준이 0 번째이다.\n",
        "b_list\n"
      ],
      "metadata": {
        "colab": {
          "base_uri": "https://localhost:8080/"
        },
        "id": "PuDDqxLxcfQV",
        "outputId": "91dfea7b-8bd4-47d6-cc09-03e777e61271"
      },
      "execution_count": 24,
      "outputs": [
        {
          "output_type": "execute_result",
          "data": {
            "text/plain": [
              "[1, 2, 'aa', 22332, 'hello', [1, 2, 3, 4], 3]"
            ]
          },
          "metadata": {},
          "execution_count": 24
        }
      ]
    },
    {
      "cell_type": "code",
      "source": [
        "b_list[-1] #맨 뒤에서 첫번째 원소"
      ],
      "metadata": {
        "colab": {
          "base_uri": "https://localhost:8080/"
        },
        "id": "xxc50j2Cc0Ab",
        "outputId": "28ff5943-c229-49bf-b18e-e2204a91ca29"
      },
      "execution_count": 25,
      "outputs": [
        {
          "output_type": "execute_result",
          "data": {
            "text/plain": [
              "3"
            ]
          },
          "metadata": {},
          "execution_count": 25
        }
      ]
    },
    {
      "cell_type": "code",
      "source": [
        "b_list[0:3] # 인덱스 자리 슬라이싱\n",
        "# 시작점 에서 끝점 전 까지 : 간격도 설정 가능\n"
      ],
      "metadata": {
        "colab": {
          "base_uri": "https://localhost:8080/"
        },
        "id": "6yfnLSdbdMps",
        "outputId": "eeff4ef2-d167-4d45-a193-d9f54ff1c490"
      },
      "execution_count": 26,
      "outputs": [
        {
          "output_type": "execute_result",
          "data": {
            "text/plain": [
              "[1, 2, 'aa']"
            ]
          },
          "metadata": {},
          "execution_count": 26
        }
      ]
    },
    {
      "cell_type": "code",
      "source": [
        "b_list[0:5:2]"
      ],
      "metadata": {
        "colab": {
          "base_uri": "https://localhost:8080/"
        },
        "id": "_WJ0PR1VdcM5",
        "outputId": "a8667119-6e1a-4571-c7fb-bc6210cda5c4"
      },
      "execution_count": 27,
      "outputs": [
        {
          "output_type": "execute_result",
          "data": {
            "text/plain": [
              "[1, 'aa', 'hello']"
            ]
          },
          "metadata": {},
          "execution_count": 27
        }
      ]
    },
    {
      "cell_type": "code",
      "source": [
        "b_list[::] # 자기 자신 리턴"
      ],
      "metadata": {
        "colab": {
          "base_uri": "https://localhost:8080/"
        },
        "id": "raj92RYXdmCy",
        "outputId": "f3c1e0ac-c495-4c6d-b8a3-c78bf03d2636"
      },
      "execution_count": 28,
      "outputs": [
        {
          "output_type": "execute_result",
          "data": {
            "text/plain": [
              "[1, 2, 'aa', 22332, 'hello', [1, 2, 3, 4], 3]"
            ]
          },
          "metadata": {},
          "execution_count": 28
        }
      ]
    },
    {
      "cell_type": "code",
      "source": [
        "b_list[::-1] # 역순 , reverse 함수도 따로 있음"
      ],
      "metadata": {
        "colab": {
          "base_uri": "https://localhost:8080/"
        },
        "id": "A96_j8wqdyE6",
        "outputId": "8f832d77-d354-4346-9ea5-11cd8229effa"
      },
      "execution_count": 29,
      "outputs": [
        {
          "output_type": "execute_result",
          "data": {
            "text/plain": [
              "[3, [1, 2, 3, 4], 'hello', 22332, 'aa', 2, 1]"
            ]
          },
          "metadata": {},
          "execution_count": 29
        }
      ]
    },
    {
      "cell_type": "code",
      "source": [
        "b_list[ [1,2,3] ]\n",
        "# 쌩 파이썬에서는 인덱스 자리에 정수나 슬라이스만 가능, 하지만\n",
        "#Numpy에서의 array 자료형에서는 위가 가능"
      ],
      "metadata": {
        "id": "mZr7e7WJeHgx"
      },
      "execution_count": null,
      "outputs": []
    },
    {
      "cell_type": "code",
      "source": [
        "#리스트에 대한 간단한 정리\n",
        "# 값을 접근하는 방식 : 정수 인덱스, 여러개는 슬라이싱\n",
        "#기본 적인 동작 : 추가 append,insert / 제거 pop,reomve\n",
        "# 리스트의 메소드 활용해서 조작한다면 메모리에 바로 반영 -> 재할당이 필요없다\n",
        "# 코테: 리스트의 잡다한 기능(여러 메서드에 대해 알아놔야 함)"
      ],
      "metadata": {
        "id": "6BPFe2mmeWzQ"
      },
      "execution_count": null,
      "outputs": []
    },
    {
      "cell_type": "markdown",
      "source": [
        "# 연산자"
      ],
      "metadata": {
        "id": "ZH29Li0fVKqY"
      }
    },
    {
      "cell_type": "code",
      "source": [
        "# 연산자 중에서 나눗셈 주요하게\n",
        "# / : 몫에 대한 소수나눗셈\n",
        "# 파이썬의 기본 나눗셈 연산자: 적당히 뒤에서 반올림 -> 수치 연산 중요한 모델링, 모델링 성능\n",
        "# DL에서는 더욱 긴 자료형 필요 -> tensorflow, pytorch\n",
        "\n",
        "#코테에서 자주 활용 99건의 데이터 중 10건 단위 처리 -> 코드화 작업 -> DART에서 공시 수집"
      ],
      "metadata": {
        "id": "8CNKgxMOVL8-"
      },
      "execution_count": null,
      "outputs": []
    },
    {
      "cell_type": "code",
      "source": [
        "#파이썬 공식 함수 divmod() -> 입력: 무엇을 무엇으로 나눌지,\n",
        "# 기능 : 나눗셈을 통해 몫과 나머지 한번에 리턴\n",
        "divmod(5,3)"
      ],
      "metadata": {
        "colab": {
          "base_uri": "https://localhost:8080/"
        },
        "id": "8DciqKOuWjau",
        "outputId": "a0b03d68-53ba-4e0d-a233-6a1a0892d983"
      },
      "execution_count": 10,
      "outputs": [
        {
          "output_type": "execute_result",
          "data": {
            "text/plain": [
              "(1, 2)"
            ]
          },
          "metadata": {},
          "execution_count": 10
        }
      ]
    },
    {
      "cell_type": "code",
      "source": [
        "divmod(5,3)[0] #첫번째 값 즉, 몫임 -> 5//3"
      ],
      "metadata": {
        "colab": {
          "base_uri": "https://localhost:8080/"
        },
        "id": "2zxvLy6FXLBp",
        "outputId": "f8c4cb39-4ae6-459d-bc6b-7d92f650f944"
      },
      "execution_count": 11,
      "outputs": [
        {
          "output_type": "execute_result",
          "data": {
            "text/plain": [
              "1"
            ]
          },
          "metadata": {},
          "execution_count": 11
        }
      ]
    },
    {
      "cell_type": "code",
      "source": [
        "#코테에 적용 -> 멀티 할당 -> for 문에 이용\n",
        "q,m = divmod(5,3)\n",
        "print(q,m)"
      ],
      "metadata": {
        "colab": {
          "base_uri": "https://localhost:8080/"
        },
        "id": "lA1mZv0NXYIP",
        "outputId": "f6f6a375-5513-43f8-e5e0-4cf0f41e2eee"
      },
      "execution_count": 12,
      "outputs": [
        {
          "output_type": "stream",
          "name": "stdout",
          "text": [
            "1 2\n"
          ]
        }
      ]
    },
    {
      "cell_type": "code",
      "source": [
        "# 리스트와 거의 유사한 튜플\n",
        "#-> 조작 불가능 (추가, 제거 X), 그외 값의 접근등은 리스트와 동일\n",
        "# 바꾸고 싶으면 리스트로 형변환\n",
        "\n",
        "a_tuple=(1,2,3,4,\"hello\",100)\n",
        "a_tuple"
      ],
      "metadata": {
        "colab": {
          "base_uri": "https://localhost:8080/"
        },
        "id": "gtwxBxwoY0hH",
        "outputId": "bae07586-603c-4155-ca4a-598fbb2358f6"
      },
      "execution_count": 30,
      "outputs": [
        {
          "output_type": "execute_result",
          "data": {
            "text/plain": [
              "(1, 2, 3, 4, 'hello', 100)"
            ]
          },
          "metadata": {},
          "execution_count": 30
        }
      ]
    },
    {
      "cell_type": "code",
      "source": [
        "a_tuple[:3]"
      ],
      "metadata": {
        "colab": {
          "base_uri": "https://localhost:8080/"
        },
        "id": "OyTRDPPVi2qm",
        "outputId": "d86f90c7-0f03-4e61-8af4-b775074065ab"
      },
      "execution_count": 32,
      "outputs": [
        {
          "output_type": "execute_result",
          "data": {
            "text/plain": [
              "(1, 2, 3)"
            ]
          },
          "metadata": {},
          "execution_count": 32
        }
      ]
    },
    {
      "cell_type": "code",
      "source": [
        "t= list(a_tuple)\n",
        "t.append(100)\n",
        "t"
      ],
      "metadata": {
        "colab": {
          "base_uri": "https://localhost:8080/"
        },
        "id": "Gb2F7Tvmi9Jt",
        "outputId": "8f104ccc-8d8e-4b45-a43b-0728ef52b2a4"
      },
      "execution_count": 33,
      "outputs": [
        {
          "output_type": "execute_result",
          "data": {
            "text/plain": [
              "[1, 2, 3, 4, 'hello', 100, 100]"
            ]
          },
          "metadata": {},
          "execution_count": 33
        }
      ]
    },
    {
      "cell_type": "code",
      "source": [
        "#문자열 , 1개 -> 문자 / 여러개 : 문자열\n",
        "# 표기양식 : \" \", ' ', \"\"\" \"\"\", ''' '''\n",
        "# 자체적인 문장 부호로 사용될 수도 있어 구별을 위해 존재"
      ],
      "metadata": {
        "id": "DkIFrL9ojyYW"
      },
      "execution_count": null,
      "outputs": []
    },
    {
      "cell_type": "code",
      "source": [
        "\"hello\"[0:3]"
      ],
      "metadata": {
        "colab": {
          "base_uri": "https://localhost:8080/",
          "height": 35
        },
        "id": "D3iU42JDkKIb",
        "outputId": "22d7e21e-fbb0-4810-ec2c-d42429c99039"
      },
      "execution_count": 35,
      "outputs": [
        {
          "output_type": "execute_result",
          "data": {
            "text/plain": [
              "'hel'"
            ],
            "application/vnd.google.colaboratory.intrinsic+json": {
              "type": "string"
            }
          },
          "metadata": {},
          "execution_count": 35
        }
      ]
    },
    {
      "cell_type": "code",
      "source": [
        "' 탐은 \"나는 집에 간다\" 고 헸다' # 다 문자열"
      ],
      "metadata": {
        "id": "WU36OaqQk7jk"
      },
      "execution_count": null,
      "outputs": []
    },
    {
      "cell_type": "code",
      "source": [
        "\" 탐은 \\\"나는 집에 간다\\\" 고 말했다\" #역슬래쉬 \\ 사용"
      ],
      "metadata": {
        "id": "yFsNxEZWlDhS"
      },
      "execution_count": null,
      "outputs": []
    },
    {
      "cell_type": "code",
      "source": [
        "# 나중에 문자열을 좀 더 정확하게, 규칙적으로 사용시\n",
        "# -> 정규식\n",
        "# -> 자연어처리 치할 수 없음 데이터 수집을 할 때 , 카카오계열은 코테에 종종 정규식이 나옴(나중 설명)\n",
        "\n",
        "# 참고: 파이썬에 특별 메소드 : 향후 클래스시간에 구현 할 예정"
      ],
      "metadata": {
        "id": "VWc1sjtUlRgQ"
      },
      "execution_count": null,
      "outputs": []
    },
    {
      "cell_type": "code",
      "source": [
        "a=\"hi\"\n",
        "b=\"kelly\"\n",
        "a+b"
      ],
      "metadata": {
        "colab": {
          "base_uri": "https://localhost:8080/",
          "height": 35
        },
        "id": "hgr_aWRMlrp6",
        "outputId": "f205ccd5-a31a-47dd-dc85-32c92593bfe9"
      },
      "execution_count": 36,
      "outputs": [
        {
          "output_type": "execute_result",
          "data": {
            "text/plain": [
              "'hikelly'"
            ],
            "application/vnd.google.colaboratory.intrinsic+json": {
              "type": "string"
            }
          },
          "metadata": {},
          "execution_count": 36
        }
      ]
    },
    {
      "cell_type": "code",
      "source": [
        "a=[1,2,3]\n",
        "b=[\"a\",\"b\",\"c\"]\n",
        "a+b"
      ],
      "metadata": {
        "colab": {
          "base_uri": "https://localhost:8080/"
        },
        "id": "pSFjFsejmGAJ",
        "outputId": "f6725b88-461d-4b79-d199-6b50f1549283"
      },
      "execution_count": 37,
      "outputs": [
        {
          "output_type": "execute_result",
          "data": {
            "text/plain": [
              "[1, 2, 3, 'a', 'b', 'c']"
            ]
          },
          "metadata": {},
          "execution_count": 37
        }
      ]
    },
    {
      "cell_type": "code",
      "source": [
        "int(\"1\") + int(\"2\")"
      ],
      "metadata": {
        "colab": {
          "base_uri": "https://localhost:8080/"
        },
        "id": "q24vzbMcmNxo",
        "outputId": "530de18e-f0d9-4a7e-9199-7fce34d8ef5c"
      },
      "execution_count": 38,
      "outputs": [
        {
          "output_type": "execute_result",
          "data": {
            "text/plain": [
              "3"
            ]
          },
          "metadata": {},
          "execution_count": 38
        }
      ]
    },
    {
      "cell_type": "code",
      "source": [
        "#요점은 나의 필요에 따라서 형을 왔다갔다 할 수 있어야 한다."
      ],
      "metadata": {
        "id": "_GAZRzDUmbtA"
      },
      "execution_count": null,
      "outputs": []
    },
    {
      "cell_type": "code",
      "source": [
        "#dict 자료형\n",
        "#-> 기본 틀 은 여러개의 값들을 모아두는 것 (키:값)을 중심으로\n",
        "#{키:값, 키:값}\n",
        "#--> 미니데이터베이스 자료형 중 하나인 것, 코테에서 잘 활용하자\n",
        "# 간혹 HashTable 에 대한 면접질문 나올 수도 있음\n",
        "\n",
        "a_list=[1234,5678]\n",
        "a_list"
      ],
      "metadata": {
        "colab": {
          "base_uri": "https://localhost:8080/"
        },
        "id": "v9cepiE3m2tC",
        "outputId": "0120f290-3d2e-4f71-ec83-4ad052d97020"
      },
      "execution_count": 39,
      "outputs": [
        {
          "output_type": "execute_result",
          "data": {
            "text/plain": [
              "[1234, 5678]"
            ]
          },
          "metadata": {},
          "execution_count": 39
        }
      ]
    },
    {
      "cell_type": "code",
      "source": [
        "a_dict={\"a\":1234, \"b\":5678}\n",
        "a_dict"
      ],
      "metadata": {
        "colab": {
          "base_uri": "https://localhost:8080/"
        },
        "id": "WFB8msCgnVbu",
        "outputId": "b6982db1-4b8a-496e-bb81-f32ef81b0c61"
      },
      "execution_count": 40,
      "outputs": [
        {
          "output_type": "execute_result",
          "data": {
            "text/plain": [
              "{'a': 1234, 'b': 5678}"
            ]
          },
          "metadata": {},
          "execution_count": 40
        }
      ]
    },
    {
      "cell_type": "code",
      "source": [
        "a_dict[\"a\"]"
      ],
      "metadata": {
        "colab": {
          "base_uri": "https://localhost:8080/"
        },
        "id": "T4Wjhk6hneC8",
        "outputId": "86d65943-644e-4633-b338-31fd24d0419d"
      },
      "execution_count": 42,
      "outputs": [
        {
          "output_type": "execute_result",
          "data": {
            "text/plain": [
              "1234"
            ]
          },
          "metadata": {},
          "execution_count": 42
        }
      ]
    },
    {
      "cell_type": "code",
      "source": [
        "type(a_dict)"
      ],
      "metadata": {
        "colab": {
          "base_uri": "https://localhost:8080/"
        },
        "id": "8Qht7sainybG",
        "outputId": "a4292272-0121-4121-b4f2-db971feaafbd"
      },
      "execution_count": 43,
      "outputs": [
        {
          "output_type": "execute_result",
          "data": {
            "text/plain": [
              "dict"
            ]
          },
          "metadata": {},
          "execution_count": 43
        }
      ]
    },
    {
      "cell_type": "code",
      "source": [
        "#dict의 정보구성 : 각기 정보들만 보자\n",
        "#-> key들만, value 들만\n",
        "\n",
        "a_dict.keys()\n"
      ],
      "metadata": {
        "colab": {
          "base_uri": "https://localhost:8080/"
        },
        "id": "xJ5GGirOn5u3",
        "outputId": "09abe412-fff6-48e1-ae3d-bf0ab12b096c"
      },
      "execution_count": 47,
      "outputs": [
        {
          "output_type": "execute_result",
          "data": {
            "text/plain": [
              "dict_keys(['a', 'b'])"
            ]
          },
          "metadata": {},
          "execution_count": 47
        }
      ]
    },
    {
      "cell_type": "code",
      "source": [
        "a_dict.values()\n"
      ],
      "metadata": {
        "colab": {
          "base_uri": "https://localhost:8080/"
        },
        "id": "i3-p2UhFoIiP",
        "outputId": "190850fd-aa1b-43ab-e11c-4056a79a4ab4"
      },
      "execution_count": 46,
      "outputs": [
        {
          "output_type": "execute_result",
          "data": {
            "text/plain": [
              "dict_values([1234, 5678])"
            ]
          },
          "metadata": {},
          "execution_count": 46
        }
      ]
    },
    {
      "cell_type": "code",
      "source": [
        "#한번에 쌍으로 dict 돌리고 싶다면, dict.items()  활용 + for문\n",
        "# list : enumerate() 함수 활용해서 정수 인덱스 + 값 + for"
      ],
      "metadata": {
        "id": "BS0DaNIkoNqf"
      },
      "execution_count": null,
      "outputs": []
    },
    {
      "cell_type": "code",
      "source": [
        "#set\n",
        "a_set={1,1,1,2,2,2,3,3,3,4,4,4}\n",
        "a_set"
      ],
      "metadata": {
        "colab": {
          "base_uri": "https://localhost:8080/"
        },
        "id": "MuKBi9iEo_so",
        "outputId": "689f4050-6831-4765-83e9-e263995e7fe1"
      },
      "execution_count": 51,
      "outputs": [
        {
          "output_type": "execute_result",
          "data": {
            "text/plain": [
              "{1, 2, 3, 4}"
            ]
          },
          "metadata": {},
          "execution_count": 51
        }
      ]
    },
    {
      "cell_type": "code",
      "source": [
        "list(a_set)"
      ],
      "metadata": {
        "colab": {
          "base_uri": "https://localhost:8080/"
        },
        "id": "6Yf1BommpXo_",
        "outputId": "1f187b3a-2ca8-42e2-b72c-5b337a5b5b7c"
      },
      "execution_count": 49,
      "outputs": [
        {
          "output_type": "execute_result",
          "data": {
            "text/plain": [
              "[1, 2, 3, 4]"
            ]
          },
          "metadata": {},
          "execution_count": 49
        }
      ]
    },
    {
      "cell_type": "code",
      "source": [
        "a_list=[1,1,1,2,2,2,3,3,3]\n",
        "b_list= list(set(a_list))\n",
        "b_list"
      ],
      "metadata": {
        "colab": {
          "base_uri": "https://localhost:8080/"
        },
        "id": "ObZ196VCpjRO",
        "outputId": "280e37cb-62b1-48d9-fbfc-58e6a4fe6a9c"
      },
      "execution_count": 52,
      "outputs": [
        {
          "output_type": "execute_result",
          "data": {
            "text/plain": [
              "[1, 2, 3]"
            ]
          },
          "metadata": {},
          "execution_count": 52
        }
      ]
    },
    {
      "cell_type": "code",
      "source": [
        "#여기까지 기본적인 파이썬의 여러가지 자료형\n",
        "#코테를 위해서는 프로그램의 골격을 세우는 것 (반복문,조건문)"
      ],
      "metadata": {
        "id": "z-B0aW6Wp3Fl"
      },
      "execution_count": null,
      "outputs": []
    },
    {
      "cell_type": "markdown",
      "source": [
        "#조건문"
      ],
      "metadata": {
        "id": "jZvIZRlfrYGu"
      }
    },
    {
      "cell_type": "code",
      "source": [
        "#조건문 if\n",
        "\n",
        "a=10\n",
        "\n",
        "if a>0 :\n",
        "  #위의 조건 만족시\n",
        "  print(\"양수\")\n",
        "elif a<0:\n",
        "  print(\"음수이다\")\n",
        "else:\n",
        "  pass #에러발생 방지 위해\n"
      ],
      "metadata": {
        "colab": {
          "base_uri": "https://localhost:8080/"
        },
        "id": "m-_LMbl-rZKN",
        "outputId": "02d8bb83-ed2c-42a5-9192-cb87299418eb"
      },
      "execution_count": 53,
      "outputs": [
        {
          "output_type": "stream",
          "name": "stdout",
          "text": [
            "양수\n"
          ]
        }
      ]
    },
    {
      "cell_type": "markdown",
      "source": [
        "#반복문"
      ],
      "metadata": {
        "id": "XltQgldPydb0"
      }
    },
    {
      "cell_type": "code",
      "source": [
        "#for문은 그저 원소들 Rolling 해주는 역할이다.\n",
        "for i in [1,2,3,4,5]:\n",
        "  print(i)"
      ],
      "metadata": {
        "colab": {
          "base_uri": "https://localhost:8080/"
        },
        "id": "uebNSn9Xyco1",
        "outputId": "00e532fb-136f-45bb-8d1b-85fbc2b893fc"
      },
      "execution_count": 54,
      "outputs": [
        {
          "output_type": "stream",
          "name": "stdout",
          "text": [
            "1\n",
            "2\n",
            "3\n",
            "4\n",
            "5\n"
          ]
        }
      ]
    },
    {
      "cell_type": "code",
      "source": [
        "#range 함수 -> range(시작점, 끝점, 간격) -> 연속되거나 규칙적인 여러개의 숫자들\n",
        "for i in range(1,10,2):# 끝점은 빠짐\n",
        "  print(i)"
      ],
      "metadata": {
        "colab": {
          "base_uri": "https://localhost:8080/"
        },
        "id": "d8Ezz9oAz0P9",
        "outputId": "431891c5-3d14-4600-c772-562456079559"
      },
      "execution_count": 56,
      "outputs": [
        {
          "output_type": "stream",
          "name": "stdout",
          "text": [
            "1\n",
            "3\n",
            "5\n",
            "7\n",
            "9\n"
          ]
        }
      ]
    },
    {
      "cell_type": "code",
      "source": [
        "a_list=[\"a\",\"b\",\"cc\",20,30]\n",
        "a_list"
      ],
      "metadata": {
        "colab": {
          "base_uri": "https://localhost:8080/"
        },
        "id": "AcdX3LPK0j40",
        "outputId": "a7fdf078-0b39-45e7-9796-0f6ff4918961"
      },
      "execution_count": 60,
      "outputs": [
        {
          "output_type": "execute_result",
          "data": {
            "text/plain": [
              "5"
            ]
          },
          "metadata": {},
          "execution_count": 60
        }
      ]
    },
    {
      "cell_type": "code",
      "source": [
        "for i in a_list:\n",
        "  print(i)"
      ],
      "metadata": {
        "colab": {
          "base_uri": "https://localhost:8080/"
        },
        "id": "GdmNpKhr0rbq",
        "outputId": "70ed4e0d-5bfe-44cd-c583-88efaedbee6a"
      },
      "execution_count": 58,
      "outputs": [
        {
          "output_type": "stream",
          "name": "stdout",
          "text": [
            "a\n",
            "b\n",
            "cc\n",
            "20\n",
            "30\n"
          ]
        }
      ]
    },
    {
      "cell_type": "code",
      "source": [
        "for i in range(0,len(a_list),1):\n",
        "  print(a_list[i])"
      ],
      "metadata": {
        "colab": {
          "base_uri": "https://localhost:8080/"
        },
        "id": "z7yIkEWj1Yap",
        "outputId": "2873a4b8-04e7-4631-eb0b-1e8e27eb2c5b"
      },
      "execution_count": 59,
      "outputs": [
        {
          "output_type": "stream",
          "name": "stdout",
          "text": [
            "a\n",
            "b\n",
            "cc\n",
            "20\n",
            "30\n"
          ]
        }
      ]
    },
    {
      "cell_type": "code",
      "source": [
        "#두가지 방법 다 활용\n",
        "\n",
        "#참고) dict 돌려보자\n",
        "\n",
        "a_dict={\"a\":1234,\"b\":2345,\"c\":3456}\n",
        "a_dict"
      ],
      "metadata": {
        "colab": {
          "base_uri": "https://localhost:8080/"
        },
        "id": "6dU1JONe1w8X",
        "outputId": "42b8d13b-c6d1-4b3a-eff7-e3adf3df88a7"
      },
      "execution_count": 61,
      "outputs": [
        {
          "output_type": "execute_result",
          "data": {
            "text/plain": [
              "{'a': 1234, 'b': 2345, 'c': 3456}"
            ]
          },
          "metadata": {},
          "execution_count": 61
        }
      ]
    },
    {
      "cell_type": "code",
      "source": [
        "for i in a_dict:  # 키 값 가져옴\n",
        "  print(i)"
      ],
      "metadata": {
        "colab": {
          "base_uri": "https://localhost:8080/"
        },
        "id": "uwY064Kf2U0u",
        "outputId": "e82010d9-7bf7-4de0-f68f-8da230d36159"
      },
      "execution_count": 62,
      "outputs": [
        {
          "output_type": "stream",
          "name": "stdout",
          "text": [
            "a\n",
            "b\n",
            "c\n"
          ]
        }
      ]
    },
    {
      "cell_type": "code",
      "source": [
        "for i in a_dict.values():\n",
        "  print(i)"
      ],
      "metadata": {
        "colab": {
          "base_uri": "https://localhost:8080/"
        },
        "id": "uKFNl2Tr2jXR",
        "outputId": "36a8dd81-c767-4f86-ee4a-91a40135b5e4"
      },
      "execution_count": 63,
      "outputs": [
        {
          "output_type": "stream",
          "name": "stdout",
          "text": [
            "1234\n",
            "2345\n",
            "3456\n"
          ]
        }
      ]
    },
    {
      "cell_type": "code",
      "source": [
        "#키, 값 같이 돌리기\n",
        "for i in a_dict.items(): #i 에 (키,값) 이 튜플인 상태로 전달됨\n",
        "  print(i)"
      ],
      "metadata": {
        "colab": {
          "base_uri": "https://localhost:8080/"
        },
        "id": "WSvuAxeI256p",
        "outputId": "9a6178e2-c7a0-40ca-a8cc-638c62dbc666"
      },
      "execution_count": 64,
      "outputs": [
        {
          "output_type": "stream",
          "name": "stdout",
          "text": [
            "('a', 1234)\n",
            "('b', 2345)\n",
            "('c', 3456)\n"
          ]
        }
      ]
    },
    {
      "cell_type": "code",
      "source": [
        "for i in a_dict.items(): #i 에 (키,값) 이 튜플인 상태로 전달됨\n",
        "  print(i[0]) #키 값만"
      ],
      "metadata": {
        "colab": {
          "base_uri": "https://localhost:8080/"
        },
        "id": "Muk1mw-z3IE4",
        "outputId": "dc88ec85-8fdf-455c-d99b-7007577dcf3b"
      },
      "execution_count": 65,
      "outputs": [
        {
          "output_type": "stream",
          "name": "stdout",
          "text": [
            "a\n",
            "b\n",
            "c\n"
          ]
        }
      ]
    },
    {
      "cell_type": "code",
      "source": [
        "#파이썬의 멀티할당\n",
        "\n",
        "for k,v in a_dict.items():  # k에는 key, v에는 값이 들어감\n",
        "  print(k,v)"
      ],
      "metadata": {
        "colab": {
          "base_uri": "https://localhost:8080/"
        },
        "id": "s2WS4OXN3fmJ",
        "outputId": "a14fb546-8fc5-4db9-c303-73601b968692"
      },
      "execution_count": 67,
      "outputs": [
        {
          "output_type": "stream",
          "name": "stdout",
          "text": [
            "a 1234\n",
            "b 2345\n",
            "c 3456\n"
          ]
        }
      ]
    },
    {
      "cell_type": "code",
      "source": [
        "a_list"
      ],
      "metadata": {
        "colab": {
          "base_uri": "https://localhost:8080/"
        },
        "id": "eG8BGpOm4I_5",
        "outputId": "9ae44a87-8fef-4933-f437-9121318f1bb5"
      },
      "execution_count": 68,
      "outputs": [
        {
          "output_type": "execute_result",
          "data": {
            "text/plain": [
              "['a', 'b', 'cc', 20, 30]"
            ]
          },
          "metadata": {},
          "execution_count": 68
        }
      ]
    },
    {
      "cell_type": "code",
      "source": [
        "#그럼 리스트는? -> 인덱스 / 값 -> enumerate() 이용 -> (정수index,값)\n",
        "\n",
        "for i in enumerate(a_list): # i에 (정수index,값)인 튜플로 할당됨\n",
        "  print(i)"
      ],
      "metadata": {
        "colab": {
          "base_uri": "https://localhost:8080/"
        },
        "id": "yGK-dmAH359w",
        "outputId": "66d105e8-5064-4f2a-ce78-44171ae769b8"
      },
      "execution_count": 69,
      "outputs": [
        {
          "output_type": "stream",
          "name": "stdout",
          "text": [
            "(0, 'a')\n",
            "(1, 'b')\n",
            "(2, 'cc')\n",
            "(3, 20)\n",
            "(4, 30)\n"
          ]
        }
      ]
    },
    {
      "cell_type": "code",
      "source": [
        "for i in enumerate(a_list): # i에 (정수index,값)인 튜플로 할당됨\n",
        "  print(i[0],i[1]) # or 멀티할당 이용"
      ],
      "metadata": {
        "colab": {
          "base_uri": "https://localhost:8080/"
        },
        "id": "dA_nXKGz4ZJX",
        "outputId": "99830664-a42c-4455-c83f-87632f87c12f"
      },
      "execution_count": 70,
      "outputs": [
        {
          "output_type": "stream",
          "name": "stdout",
          "text": [
            "0 a\n",
            "1 b\n",
            "2 cc\n",
            "3 20\n",
            "4 30\n"
          ]
        }
      ]
    },
    {
      "cell_type": "code",
      "source": [
        "#Q) 국어 80, 수학 75, 영어 55, 사회 90 평균출력\n",
        "scores_dict={\"국어\":80,\"수학\":75,\"영어\":55,\"사회\":90}\n",
        "tot=0\n",
        "for i in scores_dict.values():\n",
        "  tot+=i\n",
        "avr=tot/len(scores_dict)\n",
        "avr\n",
        "#list 쓴다면 sum(list) 사용"
      ],
      "metadata": {
        "colab": {
          "base_uri": "https://localhost:8080/"
        },
        "id": "ZqYg6FHz5VXl",
        "outputId": "7dd95c39-6809-4e85-c6f1-6d26fad27eb0"
      },
      "execution_count": 93,
      "outputs": [
        {
          "output_type": "execute_result",
          "data": {
            "text/plain": [
              "75.0"
            ]
          },
          "metadata": {},
          "execution_count": 93
        }
      ]
    },
    {
      "cell_type": "code",
      "source": [
        "# 가변입력 받을 때: input() 함수\n",
        "#입력:키보드\n",
        "\n",
        "a=input(\"성적을 입력하세요\")\n",
        "a              # a에 문자열이 할당됨 주의 !! a=int(input(\"성적입력\"))"
      ],
      "metadata": {
        "colab": {
          "base_uri": "https://localhost:8080/",
          "height": 53
        },
        "id": "WJkaAKHCBmnG",
        "outputId": "55f1b397-b5f6-4bb2-ac8f-a2b0f21529dc"
      },
      "execution_count": 74,
      "outputs": [
        {
          "name": "stdout",
          "output_type": "stream",
          "text": [
            "성적을 입력하세요10\n"
          ]
        },
        {
          "output_type": "execute_result",
          "data": {
            "text/plain": [
              "'10'"
            ],
            "application/vnd.google.colaboratory.intrinsic+json": {
              "type": "string"
            }
          },
          "metadata": {},
          "execution_count": 74
        }
      ]
    },
    {
      "cell_type": "code",
      "source": [
        "# Q2) a=[\"one\",\"two\",\"three\",\"four\"] -> [\"one1\",\"two2\",\"three3\",\"four4\"] 변경\n",
        "\n",
        "a=[\"one\",\"two\",\"three\",\"four\"]\n",
        "b=[]\n",
        "for i in range(1,len(a)+1):\n",
        "  txt=a[i-1]+str(i)\n",
        "  b.append(txt)\n",
        "a=b\n",
        "a\n",
        ""
      ],
      "metadata": {
        "colab": {
          "base_uri": "https://localhost:8080/"
        },
        "id": "CWmhrnd2FRzx",
        "outputId": "28626766-1328-4479-8eec-c9828c9ecd5f"
      },
      "execution_count": 88,
      "outputs": [
        {
          "output_type": "execute_result",
          "data": {
            "text/plain": [
              "['one1', 'two2', 'three3', 'four4']"
            ]
          },
          "metadata": {},
          "execution_count": 88
        }
      ]
    },
    {
      "cell_type": "code",
      "source": [
        "#Q2 다른 방법\n",
        "a=[\"one\",\"two\",\"three\",\"four\"]\n"
      ],
      "metadata": {
        "id": "yG4KI8a-G7wp"
      },
      "execution_count": 94,
      "outputs": []
    },
    {
      "cell_type": "code",
      "source": [
        "sum = __builtins__.sum #빌트인 함수인 sum을 초기화 (위에서 잘못 오버라이딩 됨)\n"
      ],
      "metadata": {
        "id": "OgksfMmfJPym"
      },
      "execution_count": 97,
      "outputs": []
    },
    {
      "cell_type": "code",
      "source": [
        "subject=[\"국어\",\"수학\",\"영어\",\"과학\"]\n",
        "ss_list=[]\n",
        "for sub in subject:\n",
        "  txt=sub+\"점수를 입력하세요\"\n",
        "  sco=int(input(txt))\n",
        "  ss_list.append(sco)\n",
        "\n",
        "tots=sum(ss_list)/len(subject)\n",
        "tots\n"
      ],
      "metadata": {
        "colab": {
          "base_uri": "https://localhost:8080/"
        },
        "id": "Qcx3BL26DfYm",
        "outputId": "5e8342ab-9ac5-4703-c64a-3263ac945729"
      },
      "execution_count": 98,
      "outputs": [
        {
          "name": "stdout",
          "output_type": "stream",
          "text": [
            "국어점수를 입력하세요1\n",
            "수학점수를 입력하세요2\n",
            "영어점수를 입력하세요3\n",
            "과학점수를 입력하세요4\n"
          ]
        },
        {
          "output_type": "execute_result",
          "data": {
            "text/plain": [
              "2.5"
            ]
          },
          "metadata": {},
          "execution_count": 98
        }
      ]
    },
    {
      "cell_type": "code",
      "source": [
        "###참고 : 파이썬 계열에서 리스트컴프리헨션 많이 사용됨\n",
        "#리스트에서 for 값을 모으는 기능\n",
        "\n",
        "[i+\"aaa\" for i in a]"
      ],
      "metadata": {
        "colab": {
          "base_uri": "https://localhost:8080/"
        },
        "id": "K1M8mJBmIN5Q",
        "outputId": "f1984b3b-e601-438a-c611-b17870c4b4ca"
      },
      "execution_count": 95,
      "outputs": [
        {
          "output_type": "execute_result",
          "data": {
            "text/plain": [
              "['oneaaa', 'twoaaa', 'threeaaa', 'fouraaa']"
            ]
          },
          "metadata": {},
          "execution_count": 95
        }
      ]
    },
    {
      "cell_type": "code",
      "source": [
        "[a[i]+str(i+1) for i in range(len(a))]"
      ],
      "metadata": {
        "colab": {
          "base_uri": "https://localhost:8080/"
        },
        "id": "aqVxsXXsJkCW",
        "outputId": "c1de6443-f874-4089-e3ca-cb9ac2244e89"
      },
      "execution_count": 99,
      "outputs": [
        {
          "output_type": "execute_result",
          "data": {
            "text/plain": [
              "['one1', 'two2', 'three3', 'four4']"
            ]
          },
          "metadata": {},
          "execution_count": 99
        }
      ]
    },
    {
      "cell_type": "code",
      "source": [
        "#리스트필터링\n",
        "#Q3)a=[1,2,3,4,5] 리스트가 주어졌을 때 [1,3,5] 로 만들어라\n",
        "\n",
        "#sol1 : 기존 제거할 값에서 규칙이 있냐? yes 규칙: 홀수 or 짝수\n",
        "\n",
        "a=[1,2,3,4,5]\n",
        "b=[]\n",
        "for i in a:\n",
        "  if i%2==1:\n",
        "    b.append(i)\n",
        "\n",
        "b\n",
        "\n",
        ""
      ],
      "metadata": {
        "colab": {
          "base_uri": "https://localhost:8080/"
        },
        "id": "nc-_oCtjKBnW",
        "outputId": "11432072-b068-48c6-fcca-7a7f5530457d"
      },
      "execution_count": 100,
      "outputs": [
        {
          "output_type": "execute_result",
          "data": {
            "text/plain": [
              "[1, 3, 5]"
            ]
          },
          "metadata": {},
          "execution_count": 100
        }
      ]
    },
    {
      "cell_type": "code",
      "source": [
        "[i for i in a if i%2==1] # 리스트컴프리헨션에서 조건문은 뒤로 간다!"
      ],
      "metadata": {
        "colab": {
          "base_uri": "https://localhost:8080/"
        },
        "id": "CnYW4OzlLSgG",
        "outputId": "e7aa459a-609a-4424-f296-8f9180bda8f5"
      },
      "execution_count": 101,
      "outputs": [
        {
          "output_type": "execute_result",
          "data": {
            "text/plain": [
              "[1, 3, 5]"
            ]
          },
          "metadata": {},
          "execution_count": 101
        }
      ]
    },
    {
      "cell_type": "code",
      "source": [
        "[i*10 for i in a if i%2==1]"
      ],
      "metadata": {
        "colab": {
          "base_uri": "https://localhost:8080/"
        },
        "id": "iP9AJMP3LwVV",
        "outputId": "41e7f2c4-604e-4e02-dc76-b0d25d55b2ac"
      },
      "execution_count": 102,
      "outputs": [
        {
          "output_type": "execute_result",
          "data": {
            "text/plain": [
              "[10, 30, 50]"
            ]
          },
          "metadata": {},
          "execution_count": 102
        }
      ]
    }
  ]
}