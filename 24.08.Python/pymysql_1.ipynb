{
 "cells": [
  {
   "cell_type": "code",
   "execution_count": null,
   "id": "d4d23f0d-c199-4091-8ef8-e36a9f479173",
   "metadata": {},
   "outputs": [],
   "source": [
    "#!pip install pymysql\n",
    "# ==> 터미널에서 관리자 권한으로 pip install pymysql\n",
    "# ==> 주피터 노트북셀에서 하려면 !pip install pymysql"
   ]
  },
  {
   "cell_type": "code",
   "execution_count": 1,
   "id": "d3e2881a-a4fe-4040-bd9f-a953ca092817",
   "metadata": {},
   "outputs": [],
   "source": [
    "import pymysql"
   ]
  },
  {
   "cell_type": "code",
   "execution_count": 3,
   "id": "a7fb6316-eb08-4ae7-9c1e-f6f47d41bb1f",
   "metadata": {},
   "outputs": [],
   "source": [
    "mysql_con=pymysql.connect(\n",
    "    user=\"root\", #접속할 mysql 서버에 대한 계정이름\n",
    "    passwd=\"terry8624@\",\n",
    "    host=\"127.0.0.1\", # localhost\n",
    "    db=\"sqldb\",\n",
    "    charset='utf8'  #데이터에 한글 있을때 파이썬 쪽에서 처리하는 기준\n",
    ")"
   ]
  },
  {
   "cell_type": "code",
   "execution_count": 7,
   "id": "50a6f202-ed16-4266-83ed-0768811400cf",
   "metadata": {},
   "outputs": [],
   "source": [
    "my_cursor=mysql_con.cursor(pymysql.cursors.DictCursor)"
   ]
  },
  {
   "cell_type": "code",
   "execution_count": 9,
   "id": "47a6c138-66a4-46ce-8d18-3d5eee1d0288",
   "metadata": {},
   "outputs": [],
   "source": [
    "sql=\"select * from usertbl;\""
   ]
  },
  {
   "cell_type": "code",
   "execution_count": 11,
   "id": "130ffef4-036a-42fe-8ab1-8fa6b71c31c5",
   "metadata": {},
   "outputs": [
    {
     "data": {
      "text/plain": [
       "10"
      ]
     },
     "execution_count": 11,
     "metadata": {},
     "output_type": "execute_result"
    }
   ],
   "source": [
    "my_cursor.execute(sql)"
   ]
  },
  {
   "cell_type": "code",
   "execution_count": 13,
   "id": "8a7ff945-8dc6-4a5d-9d49-0c650b58b853",
   "metadata": {},
   "outputs": [
    {
     "data": {
      "text/plain": [
       "[{'userID': 'BBK',\n",
       "  'name': '바비킴',\n",
       "  'birthYear': 1973,\n",
       "  'addr': '서울',\n",
       "  'mobile1': '010',\n",
       "  'mobile2': '0000000',\n",
       "  'height': 176,\n",
       "  'mDate': datetime.date(2013, 5, 5)},\n",
       " {'userID': 'EJW',\n",
       "  'name': '은지원',\n",
       "  'birthYear': 1972,\n",
       "  'addr': '경북',\n",
       "  'mobile1': '011',\n",
       "  'mobile2': '8888888',\n",
       "  'height': 174,\n",
       "  'mDate': datetime.date(2014, 3, 3)},\n",
       " {'userID': 'JKW',\n",
       "  'name': '조관우',\n",
       "  'birthYear': 1965,\n",
       "  'addr': '경기',\n",
       "  'mobile1': '018',\n",
       "  'mobile2': '9999999',\n",
       "  'height': 172,\n",
       "  'mDate': datetime.date(2010, 10, 10)},\n",
       " {'userID': 'JYP',\n",
       "  'name': '조용필',\n",
       "  'birthYear': 1950,\n",
       "  'addr': '경기',\n",
       "  'mobile1': '011',\n",
       "  'mobile2': '4444444',\n",
       "  'height': 166,\n",
       "  'mDate': datetime.date(2009, 4, 4)},\n",
       " {'userID': 'KBS',\n",
       "  'name': '김범수',\n",
       "  'birthYear': 1979,\n",
       "  'addr': '경남',\n",
       "  'mobile1': '011',\n",
       "  'mobile2': '2222222',\n",
       "  'height': 173,\n",
       "  'mDate': datetime.date(2012, 4, 4)},\n",
       " {'userID': 'KKH',\n",
       "  'name': '김경호',\n",
       "  'birthYear': 1971,\n",
       "  'addr': '전남',\n",
       "  'mobile1': '019',\n",
       "  'mobile2': '3333333',\n",
       "  'height': 177,\n",
       "  'mDate': datetime.date(2007, 7, 7)},\n",
       " {'userID': 'LJB',\n",
       "  'name': '임재범',\n",
       "  'birthYear': 1963,\n",
       "  'addr': '서울',\n",
       "  'mobile1': '016',\n",
       "  'mobile2': '6666666',\n",
       "  'height': 182,\n",
       "  'mDate': datetime.date(2009, 9, 9)},\n",
       " {'userID': 'LSG',\n",
       "  'name': '이승기',\n",
       "  'birthYear': 1987,\n",
       "  'addr': '서울',\n",
       "  'mobile1': '011',\n",
       "  'mobile2': '1111111',\n",
       "  'height': 182,\n",
       "  'mDate': datetime.date(2008, 8, 8)},\n",
       " {'userID': 'SSK',\n",
       "  'name': '성시경',\n",
       "  'birthYear': 1979,\n",
       "  'addr': '서울',\n",
       "  'mobile1': None,\n",
       "  'mobile2': None,\n",
       "  'height': 186,\n",
       "  'mDate': datetime.date(2013, 12, 12)},\n",
       " {'userID': 'YJS',\n",
       "  'name': '윤종신',\n",
       "  'birthYear': 1969,\n",
       "  'addr': '경남',\n",
       "  'mobile1': None,\n",
       "  'mobile2': None,\n",
       "  'height': 170,\n",
       "  'mDate': datetime.date(2005, 5, 5)}]"
      ]
     },
     "execution_count": 13,
     "metadata": {},
     "output_type": "execute_result"
    }
   ],
   "source": [
    "result=my_cursor.fetchall()\n",
    "result"
   ]
  },
  {
   "cell_type": "code",
   "execution_count": 17,
   "id": "70fcf929-cd26-42cc-9cc6-997df542361e",
   "metadata": {},
   "outputs": [
    {
     "data": {
      "text/plain": [
       "list"
      ]
     },
     "execution_count": 17,
     "metadata": {},
     "output_type": "execute_result"
    }
   ],
   "source": [
    "type(result)"
   ]
  },
  {
   "cell_type": "code",
   "execution_count": 19,
   "id": "95f9e7a0-dd53-4d6d-9ac0-261ef454f1a1",
   "metadata": {},
   "outputs": [
    {
     "data": {
      "text/plain": [
       "{'userID': 'BBK',\n",
       " 'name': '바비킴',\n",
       " 'birthYear': 1973,\n",
       " 'addr': '서울',\n",
       " 'mobile1': '010',\n",
       " 'mobile2': '0000000',\n",
       " 'height': 176,\n",
       " 'mDate': datetime.date(2013, 5, 5)}"
      ]
     },
     "execution_count": 19,
     "metadata": {},
     "output_type": "execute_result"
    }
   ],
   "source": [
    "result[0]"
   ]
  },
  {
   "cell_type": "code",
   "execution_count": 21,
   "id": "7bcdce2b-5233-4e7a-afc1-a38d3cfce6aa",
   "metadata": {},
   "outputs": [],
   "source": [
    "import pandas as pd"
   ]
  },
  {
   "cell_type": "code",
   "execution_count": 23,
   "id": "cb8dd17d-3398-4988-b3bd-4f9f5c98591d",
   "metadata": {},
   "outputs": [
    {
     "data": {
      "text/html": [
       "<div>\n",
       "<style scoped>\n",
       "    .dataframe tbody tr th:only-of-type {\n",
       "        vertical-align: middle;\n",
       "    }\n",
       "\n",
       "    .dataframe tbody tr th {\n",
       "        vertical-align: top;\n",
       "    }\n",
       "\n",
       "    .dataframe thead th {\n",
       "        text-align: right;\n",
       "    }\n",
       "</style>\n",
       "<table border=\"1\" class=\"dataframe\">\n",
       "  <thead>\n",
       "    <tr style=\"text-align: right;\">\n",
       "      <th></th>\n",
       "      <th>userID</th>\n",
       "      <th>name</th>\n",
       "      <th>birthYear</th>\n",
       "      <th>addr</th>\n",
       "      <th>mobile1</th>\n",
       "      <th>mobile2</th>\n",
       "      <th>height</th>\n",
       "      <th>mDate</th>\n",
       "    </tr>\n",
       "  </thead>\n",
       "  <tbody>\n",
       "    <tr>\n",
       "      <th>0</th>\n",
       "      <td>BBK</td>\n",
       "      <td>바비킴</td>\n",
       "      <td>1973</td>\n",
       "      <td>서울</td>\n",
       "      <td>010</td>\n",
       "      <td>0000000</td>\n",
       "      <td>176</td>\n",
       "      <td>2013-05-05</td>\n",
       "    </tr>\n",
       "    <tr>\n",
       "      <th>1</th>\n",
       "      <td>EJW</td>\n",
       "      <td>은지원</td>\n",
       "      <td>1972</td>\n",
       "      <td>경북</td>\n",
       "      <td>011</td>\n",
       "      <td>8888888</td>\n",
       "      <td>174</td>\n",
       "      <td>2014-03-03</td>\n",
       "    </tr>\n",
       "    <tr>\n",
       "      <th>2</th>\n",
       "      <td>JKW</td>\n",
       "      <td>조관우</td>\n",
       "      <td>1965</td>\n",
       "      <td>경기</td>\n",
       "      <td>018</td>\n",
       "      <td>9999999</td>\n",
       "      <td>172</td>\n",
       "      <td>2010-10-10</td>\n",
       "    </tr>\n",
       "    <tr>\n",
       "      <th>3</th>\n",
       "      <td>JYP</td>\n",
       "      <td>조용필</td>\n",
       "      <td>1950</td>\n",
       "      <td>경기</td>\n",
       "      <td>011</td>\n",
       "      <td>4444444</td>\n",
       "      <td>166</td>\n",
       "      <td>2009-04-04</td>\n",
       "    </tr>\n",
       "    <tr>\n",
       "      <th>4</th>\n",
       "      <td>KBS</td>\n",
       "      <td>김범수</td>\n",
       "      <td>1979</td>\n",
       "      <td>경남</td>\n",
       "      <td>011</td>\n",
       "      <td>2222222</td>\n",
       "      <td>173</td>\n",
       "      <td>2012-04-04</td>\n",
       "    </tr>\n",
       "  </tbody>\n",
       "</table>\n",
       "</div>"
      ],
      "text/plain": [
       "  userID name  birthYear addr mobile1  mobile2  height       mDate\n",
       "0    BBK  바비킴       1973   서울     010  0000000     176  2013-05-05\n",
       "1    EJW  은지원       1972   경북     011  8888888     174  2014-03-03\n",
       "2    JKW  조관우       1965   경기     018  9999999     172  2010-10-10\n",
       "3    JYP  조용필       1950   경기     011  4444444     166  2009-04-04\n",
       "4    KBS  김범수       1979   경남     011  2222222     173  2012-04-04"
      ]
     },
     "execution_count": 23,
     "metadata": {},
     "output_type": "execute_result"
    }
   ],
   "source": [
    "result_df=pd.DataFrame(result)\n",
    "result_df.head()"
   ]
  },
  {
   "cell_type": "code",
   "execution_count": 25,
   "id": "81920403-89f7-4d57-9e7e-75ff9492e281",
   "metadata": {},
   "outputs": [
    {
     "data": {
      "text/html": [
       "<div>\n",
       "<style scoped>\n",
       "    .dataframe tbody tr th:only-of-type {\n",
       "        vertical-align: middle;\n",
       "    }\n",
       "\n",
       "    .dataframe tbody tr th {\n",
       "        vertical-align: top;\n",
       "    }\n",
       "\n",
       "    .dataframe thead th {\n",
       "        text-align: right;\n",
       "    }\n",
       "</style>\n",
       "<table border=\"1\" class=\"dataframe\">\n",
       "  <thead>\n",
       "    <tr style=\"text-align: right;\">\n",
       "      <th></th>\n",
       "      <th>name</th>\n",
       "      <th>birthYear</th>\n",
       "      <th>addr</th>\n",
       "      <th>mobile1</th>\n",
       "      <th>mobile2</th>\n",
       "      <th>height</th>\n",
       "      <th>mDate</th>\n",
       "    </tr>\n",
       "    <tr>\n",
       "      <th>userID</th>\n",
       "      <th></th>\n",
       "      <th></th>\n",
       "      <th></th>\n",
       "      <th></th>\n",
       "      <th></th>\n",
       "      <th></th>\n",
       "      <th></th>\n",
       "    </tr>\n",
       "  </thead>\n",
       "  <tbody>\n",
       "    <tr>\n",
       "      <th>BBK</th>\n",
       "      <td>바비킴</td>\n",
       "      <td>1973</td>\n",
       "      <td>서울</td>\n",
       "      <td>010</td>\n",
       "      <td>0000000</td>\n",
       "      <td>176</td>\n",
       "      <td>2013-05-05</td>\n",
       "    </tr>\n",
       "    <tr>\n",
       "      <th>EJW</th>\n",
       "      <td>은지원</td>\n",
       "      <td>1972</td>\n",
       "      <td>경북</td>\n",
       "      <td>011</td>\n",
       "      <td>8888888</td>\n",
       "      <td>174</td>\n",
       "      <td>2014-03-03</td>\n",
       "    </tr>\n",
       "    <tr>\n",
       "      <th>JKW</th>\n",
       "      <td>조관우</td>\n",
       "      <td>1965</td>\n",
       "      <td>경기</td>\n",
       "      <td>018</td>\n",
       "      <td>9999999</td>\n",
       "      <td>172</td>\n",
       "      <td>2010-10-10</td>\n",
       "    </tr>\n",
       "    <tr>\n",
       "      <th>JYP</th>\n",
       "      <td>조용필</td>\n",
       "      <td>1950</td>\n",
       "      <td>경기</td>\n",
       "      <td>011</td>\n",
       "      <td>4444444</td>\n",
       "      <td>166</td>\n",
       "      <td>2009-04-04</td>\n",
       "    </tr>\n",
       "    <tr>\n",
       "      <th>KBS</th>\n",
       "      <td>김범수</td>\n",
       "      <td>1979</td>\n",
       "      <td>경남</td>\n",
       "      <td>011</td>\n",
       "      <td>2222222</td>\n",
       "      <td>173</td>\n",
       "      <td>2012-04-04</td>\n",
       "    </tr>\n",
       "    <tr>\n",
       "      <th>KKH</th>\n",
       "      <td>김경호</td>\n",
       "      <td>1971</td>\n",
       "      <td>전남</td>\n",
       "      <td>019</td>\n",
       "      <td>3333333</td>\n",
       "      <td>177</td>\n",
       "      <td>2007-07-07</td>\n",
       "    </tr>\n",
       "    <tr>\n",
       "      <th>LJB</th>\n",
       "      <td>임재범</td>\n",
       "      <td>1963</td>\n",
       "      <td>서울</td>\n",
       "      <td>016</td>\n",
       "      <td>6666666</td>\n",
       "      <td>182</td>\n",
       "      <td>2009-09-09</td>\n",
       "    </tr>\n",
       "    <tr>\n",
       "      <th>LSG</th>\n",
       "      <td>이승기</td>\n",
       "      <td>1987</td>\n",
       "      <td>서울</td>\n",
       "      <td>011</td>\n",
       "      <td>1111111</td>\n",
       "      <td>182</td>\n",
       "      <td>2008-08-08</td>\n",
       "    </tr>\n",
       "    <tr>\n",
       "      <th>SSK</th>\n",
       "      <td>성시경</td>\n",
       "      <td>1979</td>\n",
       "      <td>서울</td>\n",
       "      <td>None</td>\n",
       "      <td>None</td>\n",
       "      <td>186</td>\n",
       "      <td>2013-12-12</td>\n",
       "    </tr>\n",
       "    <tr>\n",
       "      <th>YJS</th>\n",
       "      <td>윤종신</td>\n",
       "      <td>1969</td>\n",
       "      <td>경남</td>\n",
       "      <td>None</td>\n",
       "      <td>None</td>\n",
       "      <td>170</td>\n",
       "      <td>2005-05-05</td>\n",
       "    </tr>\n",
       "  </tbody>\n",
       "</table>\n",
       "</div>"
      ],
      "text/plain": [
       "       name  birthYear addr mobile1  mobile2  height       mDate\n",
       "userID                                                          \n",
       "BBK     바비킴       1973   서울     010  0000000     176  2013-05-05\n",
       "EJW     은지원       1972   경북     011  8888888     174  2014-03-03\n",
       "JKW     조관우       1965   경기     018  9999999     172  2010-10-10\n",
       "JYP     조용필       1950   경기     011  4444444     166  2009-04-04\n",
       "KBS     김범수       1979   경남     011  2222222     173  2012-04-04\n",
       "KKH     김경호       1971   전남     019  3333333     177  2007-07-07\n",
       "LJB     임재범       1963   서울     016  6666666     182  2009-09-09\n",
       "LSG     이승기       1987   서울     011  1111111     182  2008-08-08\n",
       "SSK     성시경       1979   서울    None     None     186  2013-12-12\n",
       "YJS     윤종신       1969   경남    None     None     170  2005-05-05"
      ]
     },
     "execution_count": 25,
     "metadata": {},
     "output_type": "execute_result"
    }
   ],
   "source": [
    "#mysql 상에서 userID 커럼이 PK 였다고 했을때  -> 같은 역할 Dataframe에서는 가로줄 index\n",
    "result_df.set_index(\"userID\")"
   ]
  }
 ],
 "metadata": {
  "kernelspec": {
   "display_name": "Python 3 (ipykernel)",
   "language": "python",
   "name": "python3"
  },
  "language_info": {
   "codemirror_mode": {
    "name": "ipython",
    "version": 3
   },
   "file_extension": ".py",
   "mimetype": "text/x-python",
   "name": "python",
   "nbconvert_exporter": "python",
   "pygments_lexer": "ipython3",
   "version": "3.12.4"
  }
 },
 "nbformat": 4,
 "nbformat_minor": 5
}
