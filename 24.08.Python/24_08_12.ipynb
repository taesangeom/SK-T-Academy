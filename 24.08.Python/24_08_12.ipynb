{
  "nbformat": 4,
  "nbformat_minor": 0,
  "metadata": {
    "colab": {
      "provenance": [],
      "authorship_tag": "ABX9TyP2n2UxcglIDIqG9L9OdGbo",
      "include_colab_link": true
    },
    "kernelspec": {
      "name": "python3",
      "display_name": "Python 3"
    },
    "language_info": {
      "name": "python"
    }
  },
  "cells": [
    {
      "cell_type": "markdown",
      "metadata": {
        "id": "view-in-github",
        "colab_type": "text"
      },
      "source": [
        "<a href=\"https://colab.research.google.com/github/taesangeom/SK-T-Academy/blob/main/24.08.Python/24_08_12.ipynb\" target=\"_parent\"><img src=\"https://colab.research.google.com/assets/colab-badge.svg\" alt=\"Open In Colab\"/></a>"
      ]
    },
    {
      "cell_type": "code",
      "execution_count": null,
      "metadata": {
        "id": "bC3rqGFE7dCi"
      },
      "outputs": [],
      "source": [
        "# 리뷰\n",
        "# 1. 파이썬의 여러가지 자료형!\n",
        "#    ==> 값 1개, 여러개의 값을\n",
        "#    ==> 여러 개 값 : 리스트/튜플/문자열, Dict(k-v), set\n",
        "# 2. 반복 : for --> 주어진 여러개의 값을 돌려주는 역할!!!\n",
        "#         : 필요한 값들을 만들어서 돌린다!!!\n",
        "# 3. 제어문 : if ~ else ~~ ( if~~elif ~~ elif ~~ else)\n",
        "#         ==> 하나의 덩어리!!!!( 각기 조건을 분할의 개념!)\n",
        "#         ==> 조건 작성에서 명확하게 작성!!!!!!"
      ]
    },
    {
      "cell_type": "code",
      "source": [
        "# 문제) [\"A\",\"B\",\"A\",\"O\",\"AB\",\"AB\",\"O\",\"A\",\"B\",\"AB\"]\n",
        "#       여러 사람들의 혈핵형의 정보를 수집하였습니다.\n",
        "#       ==> 각 혈행별로 몇 명의 인원이 있는지 구하고 싶다.\n",
        "#\n",
        "tot=[\"A\",\"B\",\"A\",\"O\",\"AB\",\"AB\",\"O\",\"A\",\"B\",\"AB\"]\n",
        "a=[i for i in tot if i==\"A\"]\n",
        "b=[i for i in tot if i==\"B\"]\n",
        "o=[i for i in tot if i==\"O\"]\n",
        "ab=[i for i in tot if i==\"AB\"]\n",
        "\n",
        "print(f\"A형 : {len(a)} / B형: {len(b)} / O형: {len(o)} / AB형: {len(ab)} \")"
      ],
      "metadata": {
        "colab": {
          "base_uri": "https://localhost:8080/"
        },
        "id": "ui4AzKJ98IaB",
        "outputId": "fe483406-b4f5-4f12-998c-6f7abf4ba018"
      },
      "execution_count": null,
      "outputs": [
        {
          "output_type": "stream",
          "name": "stdout",
          "text": [
            "A형 : 3 / B형: 2 / O형: 2 / AB형: 3 \n"
          ]
        }
      ]
    },
    {
      "cell_type": "markdown",
      "source": [
        "#반복문 패턴"
      ],
      "metadata": {
        "id": "UZ3sb_XqIdRM"
      }
    },
    {
      "cell_type": "code",
      "source": [
        "# 목적 : 코드적인 규칙을 잡는 생각하는 방식 훈련\n",
        "#      ==> 1. 규칙을 발견하는 부분\n",
        "#      ==> 2. 그 규칙을 코드화하는 연습\n",
        "# 참고) 규칙이 없으면,,그냥 다 하나씩....\n",
        "# ==> 수열 문제들을 푸는 것과 유사함!!!"
      ],
      "metadata": {
        "id": "GBXAdX4W8Nad"
      },
      "execution_count": null,
      "outputs": []
    },
    {
      "cell_type": "code",
      "source": [
        "# ex1) \"@@@@@\"를 출력하세요!!\n",
        "for _ in range(5):\n",
        "  print(\"@\",end=\"\") # 줄바꿈 안함\n"
      ],
      "metadata": {
        "colab": {
          "base_uri": "https://localhost:8080/"
        },
        "id": "zUXkiuPxIjBH",
        "outputId": "cab9d1dd-5c44-4c44-91ae-0d1e21377ed4"
      },
      "execution_count": null,
      "outputs": [
        {
          "output_type": "stream",
          "name": "stdout",
          "text": [
            "@@@@@"
          ]
        }
      ]
    },
    {
      "cell_type": "code",
      "source": [
        "for i in range(5):\n",
        "  print(\"@\"*5)"
      ],
      "metadata": {
        "colab": {
          "base_uri": "https://localhost:8080/"
        },
        "id": "uxsCpyvkItng",
        "outputId": "dd08576d-5e7b-4240-d6b0-89efa56af041"
      },
      "execution_count": null,
      "outputs": [
        {
          "output_type": "stream",
          "name": "stdout",
          "text": [
            "@@@@@\n",
            "@@@@@\n",
            "@@@@@\n",
            "@@@@@\n",
            "@@@@@\n"
          ]
        }
      ]
    },
    {
      "cell_type": "code",
      "source": [
        "for i in range(1,6):\n",
        "  print(\"@\"*i)"
      ],
      "metadata": {
        "colab": {
          "base_uri": "https://localhost:8080/"
        },
        "id": "HBO07dtRI0y4",
        "outputId": "426f9994-5143-4919-a085-b73b0f0346ba"
      },
      "execution_count": null,
      "outputs": [
        {
          "output_type": "stream",
          "name": "stdout",
          "text": [
            "@\n",
            "@@\n",
            "@@@\n",
            "@@@@\n",
            "@@@@@\n"
          ]
        }
      ]
    },
    {
      "cell_type": "code",
      "source": [
        "for i in range(5,0,-1):\n",
        "  print(\" \"*(5-i)+\"@\"*i)"
      ],
      "metadata": {
        "colab": {
          "base_uri": "https://localhost:8080/"
        },
        "id": "Fr7nzgeFI_if",
        "outputId": "db0630a0-0ca2-48fc-9fa3-5515518e3391"
      },
      "execution_count": null,
      "outputs": [
        {
          "output_type": "stream",
          "name": "stdout",
          "text": [
            "@@@@@\n",
            " @@@@\n",
            "  @@@\n",
            "   @@\n",
            "    @\n"
          ]
        }
      ]
    },
    {
      "cell_type": "code",
      "source": [
        "# sep 옵션\n",
        "\n",
        "print(\"@\", \"!\", \"$\",sep=\"\") #sep 는 , 사이의 값들을 sep을 간격으로 출력"
      ],
      "metadata": {
        "colab": {
          "base_uri": "https://localhost:8080/"
        },
        "id": "X3ZhUU8jKXJw",
        "outputId": "5270b506-0a41-49a5-d22c-4f0e1c84b7ae"
      },
      "execution_count": null,
      "outputs": [
        {
          "output_type": "stream",
          "name": "stdout",
          "text": [
            "@!$\n"
          ]
        }
      ]
    },
    {
      "cell_type": "code",
      "source": [
        "print(\"@\", \"!\", \"$\", sep=\"**\", end=\"?\")  #end 옵션으로 줄바꿈 안하고 마지막을 ? 로 끝냄"
      ],
      "metadata": {
        "colab": {
          "base_uri": "https://localhost:8080/"
        },
        "id": "07ODkZIsKvsA",
        "outputId": "67e12af2-c0c8-4236-8601-5d4f0dd4de30"
      },
      "execution_count": null,
      "outputs": [
        {
          "output_type": "stream",
          "name": "stdout",
          "text": [
            "@**!**$?"
          ]
        }
      ]
    },
    {
      "cell_type": "code",
      "source": [
        "for i in range(5):\n",
        "  print(\" \"*i + \"@\"*(9-2*i) + \" \"*i)"
      ],
      "metadata": {
        "colab": {
          "base_uri": "https://localhost:8080/"
        },
        "id": "eTJTBpWJK1F3",
        "outputId": "646ba01e-6442-45f6-9a4c-c87f6094e88a"
      },
      "execution_count": null,
      "outputs": [
        {
          "output_type": "stream",
          "name": "stdout",
          "text": [
            "@@@@@@@@@\n",
            " @@@@@@@ \n",
            "  @@@@@  \n",
            "   @@@   \n",
            "    @    \n"
          ]
        }
      ]
    },
    {
      "cell_type": "code",
      "source": [
        "for i in range(5):\n",
        "  print(\"X\"*i + \"@\"*(5-i))"
      ],
      "metadata": {
        "colab": {
          "base_uri": "https://localhost:8080/"
        },
        "id": "fOzIvWbpPWyM",
        "outputId": "dfbcf114-b2e7-4253-f588-c31afb73c069"
      },
      "execution_count": null,
      "outputs": [
        {
          "output_type": "stream",
          "name": "stdout",
          "text": [
            "@@@@@\n",
            "X@@@@\n",
            "XX@@@\n",
            "XXX@@\n",
            "XXXX@\n"
          ]
        }
      ]
    },
    {
      "cell_type": "code",
      "source": [
        "# ==> 이런 유형의 문제들의 목적 : 인덱스를 정확하게 사용!!\n",
        "#     --> 정렬 알고리즘을 구현할 때 인덱스 처리!!!!\n",
        "\n",
        "#     --> ******  요즈음 코테는 정렬 알고리즘은 거의 안 나옴!! *************\n",
        "\n",
        "#         대면 면접이나, 손으로 코드 작성하는 면접에서 사용"
      ],
      "metadata": {
        "id": "ciupWaM-Q1EF"
      },
      "execution_count": null,
      "outputs": []
    },
    {
      "cell_type": "code",
      "source": [
        "for i in range(5):\n",
        "  print(\"X\"*i + \"@\"*(9-2*i) + \" \"*i)"
      ],
      "metadata": {
        "colab": {
          "base_uri": "https://localhost:8080/"
        },
        "id": "F1cmjtT2Q8Zj",
        "outputId": "b25d3336-4ccf-46f1-a8af-2c82bc822760"
      },
      "execution_count": null,
      "outputs": [
        {
          "output_type": "stream",
          "name": "stdout",
          "text": [
            "@@@@@@@@@\n",
            "X@@@@@@@ \n",
            "XX@@@@@  \n",
            "XXX@@@   \n",
            "XXXX@    \n"
          ]
        }
      ]
    },
    {
      "cell_type": "code",
      "source": [
        "# 정리)\n",
        "# ===> 본인이 하면서 ctrl+c/v 꼭 코드를 효율적으로 수정!!!\n",
        "# ===> 처음에 잘 안 보이면, 꾸역꾸역해서 규칙이 있는지 체크!\n",
        "# ===> 그 규칙을 먼정 정확하게 성립!!!!! i / 2*(4-i) +1\n",
        "# ===> 고정적인 부분 / 가변적인 부분을 체크해서\n",
        "#      필요한 것들을 만들어서 규칙화!!\n",
        "\n",
        "\n",
        "# 참고) 더 연습이 필요하면\n",
        "# 피라미드 만들기나, 숫자로 패턴 만드는 것 등..\n",
        "# 여러 toy-example 문제들을 풀어보시면 됨!!!\n",
        "\n",
        "# 중요사항!!!)\n",
        "# ==> 규칙화를 하면서 인덱스 처리!! 정확하게 해야 함!"
      ],
      "metadata": {
        "id": "ym_iiAH_ZYo7"
      },
      "execution_count": null,
      "outputs": []
    },
    {
      "cell_type": "markdown",
      "source": [
        "#정규식 +노션 참고"
      ],
      "metadata": {
        "id": "Cj-AgBQ0ly8y"
      }
    },
    {
      "cell_type": "code",
      "source": [
        "# 사전 지식1) 정규식!\n",
        "# 목적 : 문자열에서 내가 원하는 패턴을 찾는 룰(규칙!!!)\n",
        "# --> 일반적인 모든 언어들이 다 존재!!!\n",
        "#     큰 틀에서는 정규식이 다 비슷하지만, 조금 언어별로 차이는 있음.\n",
        "# --> 파이썬 : re패키지( 코테 플랫폼 : 기본으로 쓸 수 있는 패키지)"
      ],
      "metadata": {
        "id": "-V41Mw3Fl1gX"
      },
      "execution_count": null,
      "outputs": []
    },
    {
      "cell_type": "code",
      "source": [
        "import re\n",
        "# --> anaconda 패키지에도 기본 설치가 되어 있고\n",
        "#     colab도 기본으로 설치가 되어 있음.\n",
        "# ==> 불러오기만 하면 됨!!!(단, 쌩 파이썬 이 패키지 다운로드 -> 불러와야 지만)"
      ],
      "metadata": {
        "id": "1it14zeYl2Eg"
      },
      "execution_count": 3,
      "outputs": []
    },
    {
      "cell_type": "code",
      "source": [
        "# 정규식의 규칙으로 작성된 문자열 vs 쌩파이썬의 문자열\n",
        "\"hello. 100$\" # -- 일반적인 문자열\n",
        "r\"hello. 100$\" # -- 일반문자열 앞에 r을 추가하면,\n",
        "# ==> 일반 문자열이 아니라 정규식으로 작성된 문자열!!!!\n",
        "\n",
        "# ==> . () \\ []* 기호들이 일반적인 특수문자로 동작을 하는것이 아니라\n",
        "#     정규식 패키지에서 정해놓은 룰을 나타내는 문자로 인식!!!"
      ],
      "metadata": {
        "id": "OYIFGEX3l4N4"
      },
      "execution_count": null,
      "outputs": []
    },
    {
      "cell_type": "code",
      "source": [
        "# 정규식 기본 룰\n",
        "# * vs + : 원하는 패턴 0번 이상 vs 1번 이상 ==> 출현 빈도!!!!\n",
        "# [문자들] : 여러문자들 중 하나라도.,.==> [Pp]ython\n",
        "# . : 줄바꿈을 빼고 뭐라고 1개의 문자/공백\n",
        "# {n} : 패턴 반복"
      ],
      "metadata": {
        "id": "57NCHU9sl5z4"
      },
      "execution_count": null,
      "outputs": []
    },
    {
      "cell_type": "code",
      "source": [
        "[0123456789] # 0~9까지 숫자 하나라고 체크!!!\n",
        "[0-9]\n",
        "\\d == [0-9] # 편하게 숫자 1자리 \\d but 구체적인 숫자는 컨트롤X\n",
        "# 예) 주민번호 XXXXXX -[1-4]XXXXXX"
      ],
      "metadata": {
        "id": "2DJexNq8l7YH"
      },
      "execution_count": null,
      "outputs": []
    },
    {
      "cell_type": "code",
      "source": [
        "# 정규식에서 특정 패턴을 찾을 때\n",
        "# ==> findall() 함수\n",
        "re.findall( 패턴-->규칙(정규식룰), 어디서)"
      ],
      "metadata": {
        "id": "0kLRVDkEmTxQ"
      },
      "execution_count": null,
      "outputs": []
    },
    {
      "cell_type": "code",
      "source": [
        "temp = \"Sssdasddasda8asdasdasd123232323****ssds1323.pfddfdfdfd\"\n",
        "temp"
      ],
      "metadata": {
        "colab": {
          "base_uri": "https://localhost:8080/",
          "height": 35
        },
        "id": "uLTzb7EHmaSu",
        "outputId": "59abfa8f-1c35-4e7b-c79f-20ffe1effce1"
      },
      "execution_count": 1,
      "outputs": [
        {
          "output_type": "execute_result",
          "data": {
            "text/plain": [
              "'Sssdasddasda8asdasdasd123232323****ssds1323.pfddfdfdfd'"
            ],
            "application/vnd.google.colaboratory.intrinsic+json": {
              "type": "string"
            }
          },
          "metadata": {},
          "execution_count": 1
        }
      ]
    },
    {
      "cell_type": "code",
      "source": [
        "# 숫자 1개 이상인 것들 모두 찾아주세요\n",
        "re.findall(r'\\d',temp)"
      ],
      "metadata": {
        "colab": {
          "base_uri": "https://localhost:8080/"
        },
        "id": "vlKwT8uXmbvt",
        "outputId": "998d3eca-4d74-4d6b-b42a-065ef0664cc5"
      },
      "execution_count": 5,
      "outputs": [
        {
          "output_type": "execute_result",
          "data": {
            "text/plain": [
              "['8', '1', '2', '3', '2', '3', '2', '3', '2', '3', '1', '3', '2', '3']"
            ]
          },
          "metadata": {},
          "execution_count": 5
        }
      ]
    },
    {
      "cell_type": "code",
      "source": [
        "# ex) 찾을 규칙 : 숫자1개 이상으로 연결되어 있는 것들 찾아주세요!!\n",
        "re.findall(r\"\\d+\", temp)"
      ],
      "metadata": {
        "colab": {
          "base_uri": "https://localhost:8080/"
        },
        "id": "FPsUr0GHnCRO",
        "outputId": "e15dcaa7-8a78-4b72-dab0-a1e099b2ffed"
      },
      "execution_count": 6,
      "outputs": [
        {
          "output_type": "execute_result",
          "data": {
            "text/plain": [
              "['8', '123232323', '1323']"
            ]
          },
          "metadata": {},
          "execution_count": 6
        }
      ]
    },
    {
      "cell_type": "code",
      "source": [
        "# \\d+ 규칙이 아니라 \\d*  # 숫자 0개도 포함이므로 불필요한 덩어리들까지 모두 산출\n",
        "re.findall(r\"\\d*\", temp)\n",
        "# ==> 꼭!!! 제대로 원하는 패턴들의 결과들이 잘 찾아지는지 체크!!!\n",
        "#     간단하게라도 테스트!!!"
      ],
      "metadata": {
        "colab": {
          "base_uri": "https://localhost:8080/"
        },
        "id": "sbLlAUWInRUE",
        "outputId": "ac532da7-c281-48f6-dfd8-a3e5d3588736"
      },
      "execution_count": 7,
      "outputs": [
        {
          "output_type": "execute_result",
          "data": {
            "text/plain": [
              "['',\n",
              " '',\n",
              " '',\n",
              " '',\n",
              " '',\n",
              " '',\n",
              " '',\n",
              " '',\n",
              " '',\n",
              " '',\n",
              " '',\n",
              " '',\n",
              " '8',\n",
              " '',\n",
              " '',\n",
              " '',\n",
              " '',\n",
              " '',\n",
              " '',\n",
              " '',\n",
              " '',\n",
              " '',\n",
              " '123232323',\n",
              " '',\n",
              " '',\n",
              " '',\n",
              " '',\n",
              " '',\n",
              " '',\n",
              " '',\n",
              " '',\n",
              " '1323',\n",
              " '',\n",
              " '',\n",
              " '',\n",
              " '',\n",
              " '',\n",
              " '',\n",
              " '',\n",
              " '',\n",
              " '',\n",
              " '',\n",
              " '',\n",
              " '']"
            ]
          },
          "metadata": {},
          "execution_count": 7
        }
      ]
    },
    {
      "cell_type": "code",
      "source": [
        "re.findall(r'[0-9]+',temp) # 0부터 9까지 숫자들 1개이상 이어져있는거 아무거나 다"
      ],
      "metadata": {
        "colab": {
          "base_uri": "https://localhost:8080/"
        },
        "id": "QqC-VkcQnqfd",
        "outputId": "9b4e7201-7866-4b19-df80-a379ff00aa76"
      },
      "execution_count": 19,
      "outputs": [
        {
          "output_type": "execute_result",
          "data": {
            "text/plain": [
              "['00321', '22323', '123']"
            ]
          },
          "metadata": {},
          "execution_count": 19
        }
      ]
    },
    {
      "cell_type": "code",
      "source": [
        "re.findall(r'[3-9]+',temp) # 3부터 9까지의 수로  1개이상 이어져있는 것"
      ],
      "metadata": {
        "colab": {
          "base_uri": "https://localhost:8080/"
        },
        "id": "rYQ7cz94n5iM",
        "outputId": "7fa1987f-5cec-4f48-db3c-9d65e7336aaf"
      },
      "execution_count": 9,
      "outputs": [
        {
          "output_type": "execute_result",
          "data": {
            "text/plain": [
              "['8', '3', '3', '3', '3', '3', '3']"
            ]
          },
          "metadata": {},
          "execution_count": 9
        }
      ]
    },
    {
      "cell_type": "code",
      "source": [
        "re.findall(r'[a-z]+',temp) #소문자 1개이상 패턴"
      ],
      "metadata": {
        "colab": {
          "base_uri": "https://localhost:8080/"
        },
        "id": "CeocYI20oIo-",
        "outputId": "dfd3dc6a-bd4f-45dd-c812-65d884444e40"
      },
      "execution_count": 18,
      "outputs": [
        {
          "output_type": "execute_result",
          "data": {
            "text/plain": [
              "['aaas', 'sdfddfdf', 'sddsrsr', 'pmngf']"
            ]
          },
          "metadata": {},
          "execution_count": 18
        }
      ]
    },
    {
      "cell_type": "code",
      "source": [
        "re.findall(r'[A-z]+',temp) #소,대문자 안가리고 알파벳 1개 이상 연속 패턴 , 단 [a-Z] 는 대소문제로 불가 a>Z"
      ],
      "metadata": {
        "id": "jOxb2Y3JoPJk"
      },
      "execution_count": null,
      "outputs": []
    },
    {
      "cell_type": "code",
      "source": [
        "# 사전지식2) 숫자앞에서 붙은 0을 어찌 처리할까요?\n",
        "# ===> 정렬 하기 위해서는 0이 제거된 숫자로 형이!!!!\n",
        "# 000034(문자) ---> 숫자 34   형변환 !!!\n",
        "int(\"000340\")"
      ],
      "metadata": {
        "colab": {
          "base_uri": "https://localhost:8080/"
        },
        "id": "BU4BcA93pX0V",
        "outputId": "b6b0dd3d-e1fe-457e-9c6a-baebb6a21528"
      },
      "execution_count": 10,
      "outputs": [
        {
          "output_type": "execute_result",
          "data": {
            "text/plain": [
              "340"
            ]
          },
          "metadata": {},
          "execution_count": 10
        }
      ]
    },
    {
      "cell_type": "code",
      "source": [
        "# 사전 지식 1~2 조합 : temp 문자열에서 처리..\n",
        "temp = \"SSSaaas00321sdfddfdfFDFD22323sddsrsr.***.pmngf123\"\n",
        "temp"
      ],
      "metadata": {
        "colab": {
          "base_uri": "https://localhost:8080/",
          "height": 35
        },
        "id": "eyk8Buo_p7YU",
        "outputId": "e72994a2-5de6-4209-bda5-01c0871842a9"
      },
      "execution_count": 11,
      "outputs": [
        {
          "output_type": "execute_result",
          "data": {
            "text/plain": [
              "'SSSaaas00321sdfddfdfFDFD22323sddsrsr.***.pmngf123'"
            ],
            "application/vnd.google.colaboratory.intrinsic+json": {
              "type": "string"
            }
          },
          "metadata": {},
          "execution_count": 11
        }
      ]
    },
    {
      "cell_type": "code",
      "source": [
        "re.findall(r\"\\d+\", temp)[0]"
      ],
      "metadata": {
        "colab": {
          "base_uri": "https://localhost:8080/",
          "height": 35
        },
        "id": "92M3Yk-tp8Md",
        "outputId": "16c6110a-82bd-4e71-c1a1-0e29dd77b6d9"
      },
      "execution_count": 12,
      "outputs": [
        {
          "output_type": "execute_result",
          "data": {
            "text/plain": [
              "'00321'"
            ],
            "application/vnd.google.colaboratory.intrinsic+json": {
              "type": "string"
            }
          },
          "metadata": {},
          "execution_count": 12
        }
      ]
    },
    {
      "cell_type": "code",
      "source": [
        "# 문자열/리스트 언디에 처음으로 위치하는지 위치인덱스 :.index()\n",
        "[1,3,3,3,5,5,4,4].index(3)"
      ],
      "metadata": {
        "colab": {
          "base_uri": "https://localhost:8080/"
        },
        "id": "WdFI6IttqDRr",
        "outputId": "093d0732-8f2b-475b-961a-e437c7e8cda6"
      },
      "execution_count": 13,
      "outputs": [
        {
          "output_type": "execute_result",
          "data": {
            "text/plain": [
              "1"
            ]
          },
          "metadata": {},
          "execution_count": 13
        }
      ]
    },
    {
      "cell_type": "code",
      "source": [
        "\"aaaabbdddsddddssss\".index(\"s\") # 문자열에도 index() 적용가능"
      ],
      "metadata": {
        "colab": {
          "base_uri": "https://localhost:8080/"
        },
        "id": "m_K0puWSqLyc",
        "outputId": "8d988cae-59fd-4c1d-f79a-bfe30028529d"
      },
      "execution_count": 14,
      "outputs": [
        {
          "output_type": "execute_result",
          "data": {
            "text/plain": [
              "9"
            ]
          },
          "metadata": {},
          "execution_count": 14
        }
      ]
    },
    {
      "cell_type": "code",
      "source": [
        "temp.index(re.findall(r'\\d+',temp)[0])\n"
      ],
      "metadata": {
        "colab": {
          "base_uri": "https://localhost:8080/"
        },
        "id": "QMdd7wvWqR5U",
        "outputId": "a0bd9c6a-790d-49c5-ef75-599833e460e0"
      },
      "execution_count": 15,
      "outputs": [
        {
          "output_type": "execute_result",
          "data": {
            "text/plain": [
              "7"
            ]
          },
          "metadata": {},
          "execution_count": 15
        }
      ]
    },
    {
      "cell_type": "code",
      "source": [
        "temp[:temp.index(re.findall(r'\\d+',temp)[0])]"
      ],
      "metadata": {
        "colab": {
          "base_uri": "https://localhost:8080/",
          "height": 35
        },
        "id": "-S5PmeIYqhrk",
        "outputId": "f4934765-fe04-4cb3-ff4f-756625b186d9"
      },
      "execution_count": 17,
      "outputs": [
        {
          "output_type": "execute_result",
          "data": {
            "text/plain": [
              "'SSSaaas'"
            ],
            "application/vnd.google.colaboratory.intrinsic+json": {
              "type": "string"
            }
          },
          "metadata": {},
          "execution_count": 17
        }
      ]
    },
    {
      "cell_type": "code",
      "source": [
        "#lower(),upper()  잘 사용하기. \"ㄴㅇㄴㅇ\".lower()"
      ],
      "metadata": {
        "id": "TJ7PBDRoqnZz"
      },
      "execution_count": null,
      "outputs": []
    }
  ]
}