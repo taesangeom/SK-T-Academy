{
  "nbformat": 4,
  "nbformat_minor": 0,
  "metadata": {
    "colab": {
      "provenance": [],
      "authorship_tag": "ABX9TyPBlTrfGPwMrf8jgMqHu4Hd",
      "include_colab_link": true
    },
    "kernelspec": {
      "name": "python3",
      "display_name": "Python 3"
    },
    "language_info": {
      "name": "python"
    }
  },
  "cells": [
    {
      "cell_type": "markdown",
      "metadata": {
        "id": "view-in-github",
        "colab_type": "text"
      },
      "source": [
        "<a href=\"https://colab.research.google.com/github/taesangeom/SK-T-Academy/blob/main/Coding_Test/11_%EA%B5%AC%ED%98%84_%EC%A3%BC%EC%B0%A8%EC%9A%94%EA%B8%88_%EC%B9%B4%EC%B9%B4%EC%98%A4.ipynb\" target=\"_parent\"><img src=\"https://colab.research.google.com/assets/colab-badge.svg\" alt=\"Open In Colab\"/></a>"
      ]
    },
    {
      "cell_type": "markdown",
      "source": [
        "## 초기 내 버전 (카카오 2022 Blind Recruitment LV2)"
      ],
      "metadata": {
        "id": "EpFaIm4yjG8d"
      }
    },
    {
      "cell_type": "code",
      "execution_count": null,
      "metadata": {
        "id": "1NIH7hVBOduf"
      },
      "outputs": [],
      "source": [
        "# 내가 해결한 버전 (성공)  -> 다만, datetime 등 시간처리는 gpt 참고함 -> 시간처리 잘 공부할 것 , 문제 푸는 시간 너무 많이 걸림\n",
        "import datetime\n",
        "import math\n",
        "\n",
        "def solution(fees, records):\n",
        "    record_list=[]\n",
        "    fee_dict={} # 초기에는 번호: 분  -> 나중에 번호: 돈\n",
        "    num_times={} # 번호:[시간, 시간]\n",
        "\n",
        "    for record in records:\n",
        "        time=record.split(\" \")[0]\n",
        "        number=int(record.split(\" \")[1])\n",
        "        if number not in fee_dict:\n",
        "            fee_dict[number]=0\n",
        "        if number not in num_times:\n",
        "            num_times[number]=[]\n",
        "            num_times[number].append(time)\n",
        "        else:\n",
        "            num_times[number].append(time)\n",
        "\n",
        "    for i in num_times:\n",
        "        if len(num_times[i])%2==1:  # len으로 하면 원소 수이므로 짝,홀수 주의\n",
        "            num_times[i].append(\"23:59\")\n",
        "        for j in range(0,len(num_times[i]),2):\n",
        "            time_in=datetime.datetime.strptime(num_times[i][j],\"%H:%M\")\n",
        "            time_out=datetime.datetime.strptime(num_times[i][j+1],\"%H:%M\")\n",
        "            time_diff=time_out-time_in\n",
        "            diff=time_diff.total_seconds()/60\n",
        "            fee_dict[i]+=int(diff)\n",
        "\n",
        "    for i in fee_dict:\n",
        "        if fee_dict[i]<=fees[0]:\n",
        "            fee_dict[i]=fees[1]\n",
        "        else:\n",
        "            fee_dict[i]=fees[1] + math.ceil((fee_dict[i]-fees[0])/fees[2])*fees[3]\n",
        "\n",
        "    answer=[money for num,money in sorted(fee_dict.items(),key = lambda x:+x[0])]\n",
        "    return answer\n",
        "\n",
        "\n",
        "\n",
        "\n",
        "\n",
        "\n",
        "\n",
        "\n",
        "\n",
        "\n",
        "\n",
        "\n"
      ]
    },
    {
      "cell_type": "code",
      "source": [
        "solution([180, 5000, 10, 600],[\"05:34 5961 IN\", \"06:00 0000 IN\", \"06:34 0000 OUT\", \"07:59 5961 OUT\", \"07:59 0148 IN\", \"18:59 0000 IN\", \"19:09 0148 OUT\", \"22:59 5961 IN\", \"23:00 5961 OUT\"])"
      ],
      "metadata": {
        "colab": {
          "base_uri": "https://localhost:8080/"
        },
        "id": "tPq-Zpj9jjDl",
        "outputId": "cdab06ee-0b8f-4576-d5d1-d31f506cf552"
      },
      "execution_count": null,
      "outputs": [
        {
          "output_type": "execute_result",
          "data": {
            "text/plain": [
              "[14600, 34400, 5000]"
            ]
          },
          "metadata": {},
          "execution_count": 12
        }
      ]
    },
    {
      "cell_type": "markdown",
      "source": [
        "##강사님 버전"
      ],
      "metadata": {
        "id": "dwXgSZljkWq0"
      }
    },
    {
      "cell_type": "code",
      "source": [
        "# ==> 코드 정리\n",
        "\n",
        "def convert_h_to_m( time_HHMM):\n",
        "    h_part, m_part = time_HHMM.split(\":\")\n",
        "    total_min = int(h_part) * 60 + int(m_part) # 산수+위해서 형변형\n",
        "    return total_min\n",
        "\n",
        "def solution(fees, records):\n",
        "    answer = []\n",
        "    base_time, base_cost, add_time, add_cost = fees\n",
        "    park_dict = {}\n",
        "    for record in records: # [\"01:23 0000 IN\", \"03:45 1111 IN\",,,]\n",
        "        park_time, car_id, status = record.split(\" \")\n",
        "        car_id = int(car_id) # key\n",
        "        park_time, car_id, status = record.split(\" \")\n",
        "        car_record = [convert_h_to_m(park_time), status ] # value\n",
        "        if car_id in park_dict:\n",
        "            park_dict[car_id].append( car_record ) # [90,\"OUT\"]\n",
        "        else:\n",
        "            park_dict[car_id] = [car_record]# [83,\"IN\"]  --> [ [83,IN] ]\n",
        "    car_dict = {} # 키: 차번호, 값: 요금\n",
        "    for car, logs in park_dict.items(): # k,v\n",
        "        out_time_list = [ m for m,sta in logs if sta==\"OUT\"]\n",
        "        in_time_list  = [m for m,sta in logs if sta==\"IN\"]\n",
        "        if len(logs) % 2 ==1: # 출차 정보가 없는 경우\n",
        "            out_time_list.append(convert_h_to_m(\"23:59\") )\n",
        "        total_min = sum(out_time_list) - sum(in_time_list)\n",
        "        if total_min <= base_time: # fees[0]\n",
        "            car_dict[car] = base_cost # fees[1]\n",
        "        else: # 추가 요금이 발생!!!!\n",
        "            cost = 0\n",
        "            cost += base_cost\n",
        "            total_min -= base_time # 누적시간 = 기존누적시간 - 기본 시간\n",
        "            over_time_base = -( total_min* (-1) // add_time )\n",
        "            cost += over_time_base * add_cost\n",
        "            car_dict[car] = cost\n",
        "    car_cost = dict(sorted(car_dict.items()))\n",
        "    answer = list(car_cost.values())\n",
        "    return answer"
      ],
      "metadata": {
        "id": "KinFghVNkrhy"
      },
      "execution_count": null,
      "outputs": []
    }
  ]
}