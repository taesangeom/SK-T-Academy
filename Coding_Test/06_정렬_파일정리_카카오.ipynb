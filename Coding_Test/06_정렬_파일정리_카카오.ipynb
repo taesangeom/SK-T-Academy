{
  "nbformat": 4,
  "nbformat_minor": 0,
  "metadata": {
    "colab": {
      "provenance": [],
      "authorship_tag": "ABX9TyNntXXtvF6/fdyxK7UKp9dn",
      "include_colab_link": true
    },
    "kernelspec": {
      "name": "python3",
      "display_name": "Python 3"
    },
    "language_info": {
      "name": "python"
    }
  },
  "cells": [
    {
      "cell_type": "markdown",
      "metadata": {
        "id": "view-in-github",
        "colab_type": "text"
      },
      "source": [
        "<a href=\"https://colab.research.google.com/github/taesangeom/SK-T-Academy/blob/main/Coding_Test/06_%EC%A0%95%EB%A0%AC_%ED%8C%8C%EC%9D%BC%EC%A0%95%EB%A6%AC_%EC%B9%B4%EC%B9%B4%EC%98%A4.ipynb\" target=\"_parent\"><img src=\"https://colab.research.google.com/assets/colab-badge.svg\" alt=\"Open In Colab\"/></a>"
      ]
    },
    {
      "cell_type": "markdown",
      "source": [
        "# 내 버전"
      ],
      "metadata": {
        "id": "xxBBnifeunPi"
      }
    },
    {
      "cell_type": "code",
      "execution_count": null,
      "metadata": {
        "id": "qm2wla0iWHqa"
      },
      "outputs": [],
      "source": [
        "#카카오는 정규식 필요  # 난항, 하지만 혼자 통과완료 -> 정규식에 대한 지식 이제는 획득, 슬라이싱 아이디어 참조(이게 문제였음)\n",
        "\n",
        "import re\n",
        "\n",
        "def solution(files):\n",
        "\n",
        "    temp_files=[]\n",
        "    cnt=0\n",
        "    for file in files:\n",
        "\n",
        "        temp_file=file.lower()\n",
        "\n",
        "        #head=re.findall(r'[a-zA-Z]+', temp_file)[0]\n",
        "        number=re.findall(r'\\d+',temp_file)[0] # 첫 숫자 문자열\n",
        "        head=temp_file[:temp_file.index(number[0])] # 첫 숫자 문자열의 첫 글자 위치까지 , 즉 숫자 전까지 추출\n",
        "\n",
        "        temp_files.append((file,head,int(number),cnt))\n",
        "        cnt+=1\n",
        "\n",
        "    answers=sorted(temp_files, key = lambda x : (x[1],x[2],x[3]))\n",
        "\n",
        "    result=[answer[0] for answer in answers]\n",
        "\n",
        "    return result"
      ]
    },
    {
      "cell_type": "code",
      "source": [
        "solution( [\"img12.png\", \"img10.png\", \"img02.png\", \"img1.png\", \"IMG01.GIF\", \"img2.JPG\", \"foo020bar3433.zip\",\"F-23 tt\"])"
      ],
      "metadata": {
        "colab": {
          "base_uri": "https://localhost:8080/"
        },
        "id": "T5VebOEdjVyP",
        "outputId": "d863fb4d-d428-4173-f637-3f1ff368046f"
      },
      "execution_count": null,
      "outputs": [
        {
          "output_type": "execute_result",
          "data": {
            "text/plain": [
              "[('F-23 tt', 'f-', 23, 7),\n",
              " ('foo020bar3433.zip', 'foo', 20, 6),\n",
              " ('img1.png', 'img', 1, 3),\n",
              " ('IMG01.GIF', 'img', 1, 4),\n",
              " ('img02.png', 'img', 2, 2),\n",
              " ('img2.JPG', 'img', 2, 5),\n",
              " ('img10.png', 'img', 10, 1),\n",
              " ('img12.png', 'img', 12, 0)]"
            ]
          },
          "metadata": {},
          "execution_count": 7
        }
      ]
    },
    {
      "cell_type": "code",
      "source": [],
      "metadata": {
        "colab": {
          "base_uri": "https://localhost:8080/"
        },
        "id": "nk4PpWdPH6S2",
        "outputId": "cb4420f9-bf79-4a2c-8cab-074ee2318ff7"
      },
      "execution_count": null,
      "outputs": [
        {
          "output_type": "execute_result",
          "data": {
            "text/plain": [
              "45"
            ]
          },
          "metadata": {},
          "execution_count": 11
        }
      ]
    },
    {
      "cell_type": "markdown",
      "source": [
        "# 강사님 버전"
      ],
      "metadata": {
        "id": "qbN8rxYGuqHp"
      }
    },
    {
      "cell_type": "code",
      "source": [
        "# 방법1) 리스트 사용해서 체크\n",
        "#        --> ( head: 소문자, number:숫자, 원본위치)\n",
        "#        --> (headm number, 원본위치, 원본 파일명,) [개인적 시도]"
      ],
      "metadata": {
        "id": "ZQnbcB_rurp7"
      },
      "execution_count": null,
      "outputs": []
    },
    {
      "cell_type": "code",
      "source": [
        "# 정리할 사항!!!\n",
        "# ---> 카카오 계열은 정규식 정도도 공부를 하고 가야 함..\n",
        "# ---> 정렬을 위한 정보들을 어떤 것들이 있는지 정의!!!-->스스로!\n",
        "#      ++ 정보들 구현/계산하는 과정이 좀 복잡/예외 처리\n",
        "#      (문제들을 정확하게 이해 & 분석!!! )\n",
        "# ---> 나는 파이썬의 어떤 자료형으로 이 정보들을 핸들링할지!!!!\n",
        "# ---> 정렬에 대한 나만의 기준 작성!!!\n",
        "# 참고) 최종 출력 양식까지 고민!!!!"
      ],
      "metadata": {
        "id": "7WmYXHRrM1Da"
      },
      "execution_count": null,
      "outputs": []
    },
    {
      "cell_type": "code",
      "source": [
        "#방법 2 딕셔너리 사용"
      ],
      "metadata": {
        "id": "c-5qdDNXL9nq"
      },
      "execution_count": null,
      "outputs": []
    },
    {
      "cell_type": "code",
      "source": [
        "def solution(files):\n",
        "    answer = []\n",
        "    #############################\n",
        "    # 세팅 :\n",
        "    my_files = {} # 모을내용 : key(원본파일명), v(H,N,( Idx))\n",
        "    # 개별 입력 파일명들에 대한 처리\n",
        "    for f in files:\n",
        "        p = re.findall(r\"\\d+\", f)[0]\n",
        "        head = f[:f.index(p)].lower()\n",
        "        number = int(p)\n",
        "        my_files[f] = (head, number)\n",
        "        # --> my_files : {\"aa01.png\":(\"aa\",1), \"a22.jpg\":(\"a\",2),,,,}\n",
        "    # ---> Dict에 필요한 정보들이 다 처리되어서 담김!!!\n",
        "    # 정렬!!!!\n",
        "    file_list = my_files.items()\n",
        "    # [ (\"aa01.png\", (\"aa\",1)), (\"a22.jpg\", (\"a\",2))  ,,,,]\n",
        "    # --> 원본 순서가 유지가 되면서 풀리는 것!!!!!\n",
        "    file_list = sorted(file_list, key=lambda x: (x[1][0], x[1][1])  )\n",
        "    answer = [ i[0] for i in file_list]\n",
        "    ########\n",
        "    return answer"
      ],
      "metadata": {
        "id": "Acsk6bAHMAhw"
      },
      "execution_count": null,
      "outputs": []
    }
  ]
}