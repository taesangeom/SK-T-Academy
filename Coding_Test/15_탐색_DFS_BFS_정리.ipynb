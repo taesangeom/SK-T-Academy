{
  "nbformat": 4,
  "nbformat_minor": 0,
  "metadata": {
    "colab": {
      "provenance": [],
      "authorship_tag": "ABX9TyNzKbr+RkpPIx7cCay34ZBM",
      "include_colab_link": true
    },
    "kernelspec": {
      "name": "python3",
      "display_name": "Python 3"
    },
    "language_info": {
      "name": "python"
    }
  },
  "cells": [
    {
      "cell_type": "markdown",
      "metadata": {
        "id": "view-in-github",
        "colab_type": "text"
      },
      "source": [
        "<a href=\"https://colab.research.google.com/github/taesangeom/SK-T-Academy/blob/main/Coding_Test/15_%ED%83%90%EC%83%89_DFS_BFS_%EC%A0%95%EB%A6%AC.ipynb\" target=\"_parent\"><img src=\"https://colab.research.google.com/assets/colab-badge.svg\" alt=\"Open In Colab\"/></a>"
      ]
    },
    {
      "cell_type": "code",
      "execution_count": null,
      "metadata": {
        "id": "rlJ3a2g7gkNd"
      },
      "outputs": [],
      "source": [
        "# 중요한 내용 : 탐색이라는 것을 어떻게 구현!!!!\n",
        "# ==> 변수들을 세팅을 해서( 해야할 목록, 한 목록)\n",
        "#     해야할 일을 다 할 때 까지...진행!!!!\n",
        "#     - 지금 할 일이 과거에 한 일이였나 체크\n",
        "#     - 새로운 과제 : 하고, 했다고      체크\n",
        "#       ==> 다시 새로운 과제들을 부여 받아서, 할 목록에 추가!!!\n",
        "# =======================================================\n",
        "# 할 일 : 이런 기본적인 패턴/ 내용에 대한 코드 작성에 대한 구조\n",
        "#          ==> 주어진 문제에 적용!!!!!\n",
        "#              기본 내용이 100프로 일치하는 경우는 거의 X\n",
        "#              기본적인 내용과 주어진 문제의 차별/ 적용을 어떻게 할지!!!!\n",
        "# 중요한 내용\n",
        "# - DFS : 해야할 일에 대한 관리 ==> Stack\n",
        "#                                   ( 할 일은 맨 뒤에 추가 )\n",
        "#                                   ( 선택은 맨 뒤에서 뽑아서 )\n",
        "# - BFS : 해야할 일에 대한 관리 ==> Queue\n",
        "#                                   ( 할 일은 맨 뒤에 추가 )\n",
        "#                                   ( 선택은 맨 앞에서 뽑아서 )\n",
        "# ==> 탐색의 스타일이 달라짐( DFS --> 꼬리에 꼬리를 물면서 깊이 중심 )\n",
        "#                             BFS --> 맨 앞부터 연결성 체크 : 시작점 중심 방사형.. 너비중심"
      ]
    },
    {
      "cell_type": "code",
      "source": [
        "# 참고) 주어진 이러한 탐색같은 경우에 대해서 \"지도상\"\n",
        "#       ==> 추상적인 지도를 어떻게 코드화할 것인가!!!!!\n",
        "#           - 인접행렬방식   : 파이썬 코드화(리스트) : 가로/세로 딱 맞춰서 행렬처럼\n",
        "#           - 인접리스트방식 : 파이썬 코드화(리스트/Dict) : 정수인덱스/키 연결성들을 리스트업\n",
        "#       ==> 모양이 딱 가로/세로로 맞춰진 케이스 : 행렬,\n",
        "#                                 값의 길이가 다른 케이스 : 리스트\n",
        "\n",
        "# 중요!!!) 지도만 탐색의 알고리즘을 사용하는 것은 아님!!!!!!****"
      ],
      "metadata": {
        "id": "802XXgQ6h5An"
      },
      "execution_count": null,
      "outputs": []
    },
    {
      "cell_type": "code",
      "source": [
        "# 참고) 파이썬으로 Queue을 운영하다가 보면 속도의 이슈가 무조건 생김!!!\n",
        "# ====> 파이썬 자체의 자료구조형인 리스트의 태생적 속도의 한계!!!!\n",
        "# ====> 코테에서는 거의 대부분 deque 자료형을 사용을 하면 해결이 됨!!!\n",
        "#       코테/알고리즘 대회 : deque 패키지\n",
        "#       (프로그래머스, leetcode etc)\n",
        "# 참고) 파이썬의 리스트/ numpy array 등을 쓰는데, 조금 이라도 빠르게 하겠다..\n",
        "#       ==> deque"
      ],
      "metadata": {
        "id": "AZPheWQNjjJT"
      },
      "execution_count": null,
      "outputs": []
    },
    {
      "cell_type": "code",
      "source": [
        "from collections import deque\n",
        "# ==> collections의 패키지의 여러 모듈 중에서 deque만 가지고 와서 사용할때"
      ],
      "metadata": {
        "id": "r1ccqt4qjkzS"
      },
      "execution_count": null,
      "outputs": []
    },
    {
      "cell_type": "code",
      "source": [
        "# 썡파이썬의 리스트 자료형\n",
        "a_list = [1,2,3]\n",
        "a_list"
      ],
      "metadata": {
        "colab": {
          "base_uri": "https://localhost:8080/"
        },
        "id": "v7W5N5f1joGi",
        "outputId": "e67af651-3dcd-4a46-aa68-298393cef760"
      },
      "execution_count": null,
      "outputs": [
        {
          "output_type": "execute_result",
          "data": {
            "text/plain": [
              "[1, 2, 3]"
            ]
          },
          "metadata": {},
          "execution_count": 2
        }
      ]
    },
    {
      "cell_type": "code",
      "source": [
        "a_list.pop(0) # == deque의 popleft()와 동일\n",
        "a_list"
      ],
      "metadata": {
        "colab": {
          "base_uri": "https://localhost:8080/"
        },
        "id": "YcNglh5pkr4C",
        "outputId": "b05af630-41e1-4c1e-ea4e-28582b05ed9d"
      },
      "execution_count": null,
      "outputs": [
        {
          "output_type": "execute_result",
          "data": {
            "text/plain": [
              "[2, 3]"
            ]
          },
          "metadata": {},
          "execution_count": 10
        }
      ]
    },
    {
      "cell_type": "code",
      "source": [
        "# 외부 패키지로 만든 자료형 deque\n",
        "a_dq = deque( [1,2,3] )\n",
        "a_dq"
      ],
      "metadata": {
        "colab": {
          "base_uri": "https://localhost:8080/"
        },
        "id": "KKz07QhNjqny",
        "outputId": "2ca351e8-8988-4aff-91fa-68406789b1ec"
      },
      "execution_count": null,
      "outputs": [
        {
          "output_type": "execute_result",
          "data": {
            "text/plain": [
              "deque([1, 2, 3])"
            ]
          },
          "metadata": {},
          "execution_count": 3
        }
      ]
    },
    {
      "cell_type": "code",
      "source": [
        "a_dq.appendleft(4)  # 처음으로 추가\n",
        "a_dq"
      ],
      "metadata": {
        "colab": {
          "base_uri": "https://localhost:8080/"
        },
        "id": "PiuOrLPLju4S",
        "outputId": "e3700173-ebe7-46fc-8dd9-6d072ee74a42"
      },
      "execution_count": null,
      "outputs": [
        {
          "output_type": "execute_result",
          "data": {
            "text/plain": [
              "deque([4, 1, 2, 3, 4])"
            ]
          },
          "metadata": {},
          "execution_count": 6
        }
      ]
    },
    {
      "cell_type": "code",
      "source": [
        "a_dq.pop()"
      ],
      "metadata": {
        "colab": {
          "base_uri": "https://localhost:8080/"
        },
        "id": "Y89v9iuCkDH2",
        "outputId": "e06eb202-9eec-41d6-fdc5-0c3b2f20188b"
      },
      "execution_count": null,
      "outputs": [
        {
          "output_type": "execute_result",
          "data": {
            "text/plain": [
              "4"
            ]
          },
          "metadata": {},
          "execution_count": 7
        }
      ]
    },
    {
      "cell_type": "code",
      "source": [
        "a_dq.popleft()"
      ],
      "metadata": {
        "colab": {
          "base_uri": "https://localhost:8080/"
        },
        "id": "xxWK7GFMkGiT",
        "outputId": "0861fffe-4bae-4dbd-88d7-cc881ed69997"
      },
      "execution_count": null,
      "outputs": [
        {
          "output_type": "execute_result",
          "data": {
            "text/plain": [
              "4"
            ]
          },
          "metadata": {},
          "execution_count": 8
        }
      ]
    },
    {
      "cell_type": "code",
      "source": [
        "a_dq"
      ],
      "metadata": {
        "colab": {
          "base_uri": "https://localhost:8080/"
        },
        "id": "StmoXhE2kIkC",
        "outputId": "23be146d-7704-4ed6-eccb-8b48c5bdca10"
      },
      "execution_count": null,
      "outputs": [
        {
          "output_type": "execute_result",
          "data": {
            "text/plain": [
              "deque([1, 2, 3])"
            ]
          },
          "metadata": {},
          "execution_count": 9
        }
      ]
    },
    {
      "cell_type": "code",
      "source": [
        "############# deque에 대한 속도 간단한 체크 ##########\n",
        "# 참고) 상황별로는 속도 차이가 있음!!!대략적인 정도!!!!\n",
        "# Stack 처럼 운용!!!\n",
        "from collections import deque\n",
        "import time\n",
        "\n",
        "N = 1000 # 초기에 넣어둘 원소의 갯수\n",
        "TIMES = 100 # 실험 횟수\n",
        "M = 1000 # M 번 pop, M번 append\n",
        "\n",
        "# 일단 2개의 자료형에 N 개의 원소들을 넣어두겠습니다.\n",
        "list_stack = list([i  for i in range(0,N)])\n",
        "deque_stack = deque([i  for i in range(0,N)])\n",
        "\n",
        "# List--> Stack\n",
        "s_time = time.time()\n",
        "for _ in range(0, TIMES):\n",
        "    # M개의 원소들을 append, pop\n",
        "    for i in range(0,M):\n",
        "        list_stack.append(i)\n",
        "        list_stack.pop()\n",
        "print(\"list\",time.time()- s_time)\n",
        "\n",
        "# deque--> Stack\n",
        "s_time = time.time()\n",
        "for _ in range(0, TIMES):\n",
        "    # M개의 원소들을 append, pop\n",
        "    for i in range(0,M):\n",
        "        deque_stack.append(i)\n",
        "        deque_stack.pop()\n",
        "print(\"deque\",time.time()- s_time)   # stack과 비교할시는 그렇게 유의미한 시간차이는 나타나지 않는다"
      ],
      "metadata": {
        "colab": {
          "base_uri": "https://localhost:8080/"
        },
        "id": "Q2j6IuHZmK1p",
        "outputId": "945a3486-5c2d-4716-ba5e-5d17b7b12b82"
      },
      "execution_count": null,
      "outputs": [
        {
          "output_type": "stream",
          "name": "stdout",
          "text": [
            "list 0.025537729263305664\n",
            "deque 0.02013707160949707\n"
          ]
        }
      ]
    },
    {
      "cell_type": "code",
      "source": [
        "### Queue 방식으로 실험\n",
        "############# deque에 대한 속도 간단한 체크 ##########\n",
        "# Queue 처럼 운용!!!\n",
        "from collections import deque\n",
        "import time\n",
        "\n",
        "N = 1000 # 초기에 넣어둘 원소의 갯수\n",
        "TIMES = 100 # 실험 횟수\n",
        "M = 1000 # M 번 pop, M번 append\n",
        "\n",
        "# 일단 2개의 자료형에 N 개의 원소들을 넣어두겠습니다.\n",
        "list_queue = list([i  for i in range(0,N)])\n",
        "deque_queue = deque([i  for i in range(0,N)])\n",
        "\n",
        "# List--> Queue\n",
        "s_time = time.time()\n",
        "for _ in range(0, TIMES):\n",
        "    # M개의 원소들을 append, pop\n",
        "    for i in range(0,M):\n",
        "        list_queue.append(i)\n",
        "        list_queue.pop(0)\n",
        "print(\"list\",time.time()- s_time)\n",
        "\n",
        "# deque--> Queue\n",
        "s_time = time.time()\n",
        "for _ in range(0, TIMES):\n",
        "    # M개의 원소들을 append, pop\n",
        "    for i in range(0,M):\n",
        "        deque_queue.append(i)\n",
        "        deque_queue.popleft()\n",
        "print(\"list\",time.time()- s_time)"
      ],
      "metadata": {
        "colab": {
          "base_uri": "https://localhost:8080/"
        },
        "id": "3BKRr0O6mYOu",
        "outputId": "e54eec72-dea3-45c1-a75d-532da93fd058"
      },
      "execution_count": null,
      "outputs": [
        {
          "output_type": "stream",
          "name": "stdout",
          "text": [
            "list 0.03641557693481445\n",
            "list 0.019191503524780273\n"
          ]
        }
      ]
    },
    {
      "cell_type": "code",
      "source": [
        "#파이썬을 가지고 큐 방식으로 스케쥴링 할 시 자료형만 deque로 바꿔서 쓰면 속도의 향상\n",
        "# stack 방식으로 한다면 deque로 해도 큰 속도향상 없음\n",
        "# 데이터가 아주 많아지면 deque가 조금 더 빠르다"
      ],
      "metadata": {
        "id": "DxUXs5FQm2iv"
      },
      "execution_count": null,
      "outputs": []
    },
    {
      "cell_type": "code",
      "source": [
        "#기존 DFS\n",
        "\n",
        "# 입력 : 지도, 시작점\n",
        "# 기능 : DFS방식으로 주어진 지도를 탐색/방문하세요!!!!  깊이 먼저\n",
        "# 출력 : 방문 기록을 제출\n",
        "\n",
        "#DFS\n",
        "\n",
        "def dfs_m1( graph, start):\n",
        "    need_visit = list() # TO do list\n",
        "    visited    = list() # 방문한 노드\n",
        "    need_visit.append( start ) # 시작노드 집어넣기\n",
        "\n",
        "    while need_visit: #while to_do_list를 다 지울 때까지\n",
        "        node = need_visit.pop()    # to_do_list 에서 맨 뒤꺼 빼기\n",
        "        if node not in visited: # <--- 신규 방문지 체크\n",
        "            visited.append(node)  #방문 노드에 삽입\n",
        "            need_visit.extend( sorted(graph[node],key = lambda x:-x)) # 해당 노드의 인접 노드들 조사해서 큰번호 먼저 스택에 집어넣음\n",
        "    return visited"
      ],
      "metadata": {
        "id": "vEr8ycB5nWOB"
      },
      "execution_count": null,
      "outputs": []
    },
    {
      "cell_type": "code",
      "source": [
        "#기존 BFS\n",
        "# BFS방식 ( DFS에서 pop 바꾸고, 인접 노드 조사 후 삽입시 작은거 순으로 삽입) 층 먼저\n",
        "\n",
        "# 입력 : 지도, 시작점\n",
        "# 기능 : DFS방식으로 주어진 지도를 탐색/방문하세요!!!!\n",
        "# 출력 : 방문 기록을 제출\n",
        "\n",
        "def bfs_m1( graph, start):\n",
        "    need_visit = list() # TO do list\n",
        "    visited    = list() # 방문한 노드\n",
        "    need_visit.append( start ) # 시작노드 집어넣기\n",
        "\n",
        "    while need_visit: #while to_do_list를 다 지울 때까지\n",
        "        node = need_visit.pop(0)    # to_do_list 에서 맨 앞꺼 빼기\n",
        "        if node not in visited: # <--- 신규 방문지 체크\n",
        "            visited.append(node)  #방문 노드에 삽입\n",
        "            need_visit.extend( sorted(graph[node],key = lambda x:+x)) # 해당 노드의 인접 노드들 조사해서 작은 번호 먼저 스택에 집어넣음\n",
        "    return visited"
      ],
      "metadata": {
        "id": "NT4ncEIunfVt"
      },
      "execution_count": null,
      "outputs": []
    },
    {
      "cell_type": "code",
      "source": [
        "# 기존 queue 방식 bfs를 deque를 사용하여 바꿈\n",
        "\n",
        "def bfs_m1( graph, start):\n",
        "    need_visit = deque([]) # TO do list\n",
        "    visited    = deque([]) # 방문한 노드\n",
        "    need_visit.append( start ) # 시작노드 집어넣기\n",
        "\n",
        "    while need_visit: #while to_do_list를 다 지울 때까지\n",
        "        node = need_visit.popleft()    # to_do_list 에서 맨 앞꺼 빼기\n",
        "        if node not in visited: # <--- 신규 방문지 체크\n",
        "            visited.append(node)  #방문 노드에 삽입\n",
        "            need_visit.extend( sorted(graph[node],key = lambda x:+x)) # 해당 노드의 인접 노드들 조사해서 작은 번호 먼저 스택에 집어넣음\n",
        "    return visited\n"
      ],
      "metadata": {
        "id": "4uFjkw5Mnk-d"
      },
      "execution_count": null,
      "outputs": []
    }
  ]
}