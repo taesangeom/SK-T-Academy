{
  "nbformat": 4,
  "nbformat_minor": 0,
  "metadata": {
    "colab": {
      "provenance": [],
      "authorship_tag": "ABX9TyOyTyHf6+SDFHnvmP97B0HF",
      "include_colab_link": true
    },
    "kernelspec": {
      "name": "python3",
      "display_name": "Python 3"
    },
    "language_info": {
      "name": "python"
    }
  },
  "cells": [
    {
      "cell_type": "markdown",
      "metadata": {
        "id": "view-in-github",
        "colab_type": "text"
      },
      "source": [
        "<a href=\"https://colab.research.google.com/github/taesangeom/SK-T-Academy/blob/main/Coding_Test/02_%EA%B5%AC%ED%98%84_L%EC%9E%90%EC%9D%B4%EB%8F%99.ipynb\" target=\"_parent\"><img src=\"https://colab.research.google.com/assets/colab-badge.svg\" alt=\"Open In Colab\"/></a>"
      ]
    },
    {
      "cell_type": "code",
      "execution_count": null,
      "metadata": {
        "id": "i3JNRc6jlhwx"
      },
      "outputs": [],
      "source": [
        "# L자 문제"
      ]
    },
    {
      "cell_type": "code",
      "source": [
        "def kingsdarden():\n",
        "  loc=list(input(\"위치입력하세요: \")) #그냥 list로 형변환하기\n",
        "  mapping={\"a\":1,\"b\":2,\"c\":3,\"d\":4,\"e\":5,\"f\":6,\"g\":7,\"h\":8}   # 아니면 ord(\"a\") 해서 1되게 빼줘도 됨\n",
        "  x=int(mapping[loc[0]]) #x가 알파벳\n",
        "  y=int(loc[1])\n",
        "\n",
        "  cnt=0\n",
        "\n",
        "  l_moves=[[2,1],[2,-1],[-2,1],[-2,-1],[1,2],[-1,2],[1,-2],[-1,-2]]   # if 많아질 것 같으면 이렇게 이중 리스트가 핵심 , 이동 가능한 경우의 수 총 8개\n",
        "\n",
        "  for move in l_moves:\n",
        "    nx=x+move[0]\n",
        "    ny=y+move[1]\n",
        "    if 1<=nx<=8 and 1<=ny<=8:\n",
        "      cnt+=1\n",
        "  print(cnt)\n",
        "\n",
        "\n",
        "\n",
        "\n"
      ],
      "metadata": {
        "id": "RmcmKAQbm_Uy"
      },
      "execution_count": null,
      "outputs": []
    },
    {
      "cell_type": "code",
      "source": [
        "kingsdarden()\n"
      ],
      "metadata": {
        "colab": {
          "base_uri": "https://localhost:8080/"
        },
        "id": "KQ2j9W2gtx7U",
        "outputId": "7d015a76-59cc-43af-e954-99a6b4729111"
      },
      "execution_count": null,
      "outputs": [
        {
          "output_type": "stream",
          "name": "stdout",
          "text": [
            "위치입력하세요: c2\n",
            "6\n"
          ]
        }
      ]
    }
  ]
}