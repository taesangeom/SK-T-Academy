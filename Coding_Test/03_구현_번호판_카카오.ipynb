{
  "nbformat": 4,
  "nbformat_minor": 0,
  "metadata": {
    "colab": {
      "provenance": [],
      "authorship_tag": "ABX9TyN7kgESkGEQbTfeOtfMYGJV",
      "include_colab_link": true
    },
    "kernelspec": {
      "name": "python3",
      "display_name": "Python 3"
    },
    "language_info": {
      "name": "python"
    }
  },
  "cells": [
    {
      "cell_type": "markdown",
      "metadata": {
        "id": "view-in-github",
        "colab_type": "text"
      },
      "source": [
        "<a href=\"https://colab.research.google.com/github/taesangeom/SK-T-Academy/blob/main/Coding_Test/03_%EA%B5%AC%ED%98%84_%EB%B2%88%ED%98%B8%ED%8C%90_%EC%B9%B4%EC%B9%B4%EC%98%A4.ipynb\" target=\"_parent\"><img src=\"https://colab.research.google.com/assets/colab-badge.svg\" alt=\"Open In Colab\"/></a>"
      ]
    },
    {
      "cell_type": "markdown",
      "source": [
        "# 내 버전"
      ],
      "metadata": {
        "id": "Q3sp587oQqFP"
      }
    },
    {
      "cell_type": "code",
      "execution_count": 9,
      "metadata": {
        "id": "uIyj1gaPLQYx"
      },
      "outputs": [],
      "source": [
        "def solution(numbers, hand):  #***내가 직접 다품 ㅎ 월요일에 내 버전 질문하기!!***\n",
        "    lefthand=[11] #초기값 설정, 왼손이 거쳐간 번호 기록\n",
        "    righthand=[12] # 동일\n",
        "    total={1:[0,3],2:[1,3],3:[2,3],4:[0,2],5:[1,2],6:[2,2],7:[0,1],8:[1,1],9:[2,1],0:[1,0],11:[0,0],12:[2,0]}   # 11은 별표, 12는 우물정자 , 별표를 원점으로 설정함\n",
        "    #**********거리는 좌표처리, 딕셔너리 라는 생각의 중요성 **********\n",
        "    result=[]\n",
        "    l=[1,4,7]\n",
        "    r=[3,6,9]\n",
        "    n=[0,2,5,8] # 중립\n",
        "    l_cnt=0  #기록 리스트 인덱스 관리\n",
        "    r_cnt=0\n",
        "\n",
        "    def distance(a,b):\n",
        "        #rst=((a[0]-b[0])**2 + (a[1]-b[1])**2)**0.5\n",
        "        rst=abs(a[0]-b[0])+abs(a[1]-b[1])  # 절댓값 L1 norm\n",
        "        return rst\n",
        "\n",
        "    for i in numbers:\n",
        "        if i in n:\n",
        "            l_dis=distance(total[lefthand[l_cnt]],total[i])\n",
        "            r_dis=distance(total[righthand[r_cnt]],total[i])\n",
        "            if l_dis>r_dis :\n",
        "                result.append(\"R\")\n",
        "                righthand.append(i)\n",
        "                r_cnt+=1\n",
        "            elif l_dis<r_dis:\n",
        "                result.append(\"L\")\n",
        "                lefthand.append(i)\n",
        "                l_cnt+=1\n",
        "            elif l_dis==r_dis :\n",
        "                if hand==\"left\":\n",
        "                    result.append(\"L\")\n",
        "                    lefthand.append(i)\n",
        "                    l_cnt+=1\n",
        "                else :\n",
        "                    result.append(\"R\")\n",
        "                    righthand.append(i)\n",
        "                    r_cnt+=1\n",
        "        elif i in l:\n",
        "            result.append(\"L\")\n",
        "            lefthand.append(i)\n",
        "            l_cnt+=1\n",
        "        elif i in r:\n",
        "            result.append(\"R\")\n",
        "            righthand.append(i)\n",
        "            r_cnt+=1\n",
        "\n",
        "    return \"\".join(result)   # \"\" 이건 간격 설정이고 join은 리스트를 문자열로 변환"
      ]
    },
    {
      "cell_type": "code",
      "source": [
        "solution([1, 3, 4, 5, 8, 2, 1, 4, 5, 9, 5],\"right\")"
      ],
      "metadata": {
        "colab": {
          "base_uri": "https://localhost:8080/",
          "height": 35
        },
        "id": "G7Lil2S9LXfT",
        "outputId": "552dfc88-42ee-4f20-9ac6-520b88704abf"
      },
      "execution_count": 10,
      "outputs": [
        {
          "output_type": "execute_result",
          "data": {
            "text/plain": [
              "'LRLLLRLLRRL'"
            ],
            "application/vnd.google.colaboratory.intrinsic+json": {
              "type": "string"
            }
          },
          "metadata": {},
          "execution_count": 10
        }
      ]
    },
    {
      "cell_type": "markdown",
      "source": [
        "#강사님 버전"
      ],
      "metadata": {
        "id": "1PDQRa87Qm6w"
      }
    },
    {
      "cell_type": "code",
      "source": [
        "# 문제 이해를 위한 정리!!!\n",
        "# - 엄지손가락만 사용한다!!!\n",
        "# - 특수문자는 주어진 입력에는 없음!!! only 숫자만!!!\n",
        "# - 초기 위치 : L --> \"*\", R --> \"#\" ( 초기값 설정 )\n",
        "# - 이동 경우 : LRUD, 1칸씩만 움직(단, 대각선X, 수직&수평)\n",
        "# - 버튼 종류에 따라서 : case by case ---> if\n",
        "#   1) 1, 4,7 : 무조건 왼손\n",
        "#   2) 3,6,9  : 무조건 오른손\n",
        "#   3) 2,5,8,0 : 거리가 가까운 손!!!! ??거리는어쩔?? if\n",
        "#      --> 3-1) 거리가 다를 때 : 거리가 가까운 손\n",
        "#      --> 3-2) 거리가 같을 떄 : hands 정보\n",
        "\n",
        "\n",
        "# 결국  solution 함수로\n",
        "# 입력 : numbers --> 누를 숫자(리스트)\n",
        "#        hand    --> 무슨손 잡이(문자 left, right)\n",
        "# 출력 : answer --> 입력변수 numbers에 해당하는 손을 문자열\n",
        "#                   numbers 정확하게 갯수가 일치 + 양식L/R +공백X\n",
        "#                   문자열\n",
        "\n",
        "# 거리 : 직교거리(가로로 얼마 + 세로로 얼마)\n",
        "#      ==> 대각선 거리X\n",
        "#      ==> 가로사이의 거리 + 세로사이의 거리\n",
        "# ---> 여러번 빈번하게 사용이 될 것이기에 : 함수!!!!\n",
        "\n",
        "# 세팅 : 위치pos & 거리도 계산\n",
        "# ==> 키패드 평면 : 좌표화"
      ],
      "metadata": {
        "id": "v8zj2ZoPQt3f"
      },
      "execution_count": null,
      "outputs": []
    },
    {
      "cell_type": "code",
      "source": [
        "# 큰 틀 : 눌러야하는 버튼을 돌리면 됨!!!!  # pseudo 코드\n",
        "for num in numbers:\n",
        "    if 1/4/7:\n",
        "        무조건 왼손\n",
        "    elif 3/6/9:\n",
        "        무조건 오른손\n",
        "    else/elif 2/5/80\n",
        "        ++ 양손에서의 이 버튼 사이의 거리!!!!!\n",
        "        ==> 여러번 사용될 듯...함수!!!\n",
        "        (입력: 손위치, 누를 번호) --> 출력 :직선거리\n",
        "        D_L, D_R\n",
        "        if 거리가 다를 때:\n",
        "            짧은 거리 손\n",
        "        else: # 거리가 같은\n",
        "            hands 정보를 사용...\n",
        "\n",
        "# ==> 거리는 어찌 ? 좌표 & 위치\n",
        "# 문제에서는 대 놓고 좌표/축/기준이 없음!!!!\n",
        "# ---> 없으면 본인 편한대로 만들면 됨!!!!!!(숫자로 좌표!!!)"
      ],
      "metadata": {
        "id": "184XRBJrQ5wX"
      },
      "execution_count": null,
      "outputs": []
    },
    {
      "cell_type": "code",
      "source": [
        "def get_distance(number, pos):\n",
        "    # number, pos변수 : 이 get_distance함수내에서만 생존!!\n",
        "    key_pad = {\"1\" : [0,0], \"2\":[0,1],\"3\":[0,2],\"4\" : [1,0], \"5\":[1,1],\"6\":[1,2],\"7\" : [2,0], \"8\":[2,1],\"9\":[2,2],\"*\" : [3,0] ,\"0\":[3,1],\"#\":[3,2]}\n",
        "    # 명시적으로 눌러야 할 버튼/위치 : 키값--> 문자\n",
        "    number = str(number)\n",
        "    pos = str(pos)\n",
        "    # 1) 눌러야 할 버튼의 좌표값 & 파이썬의 멀티할당\n",
        "    x_number, y_number = key_pad[number]\n",
        "    # x_number = key_pad[number][0]\n",
        "    # y_number = key_pad[number][1]\n",
        "    # number \"#\" --> key_pad[number] : [3,2]\n",
        "\n",
        "    # 2) 손의 위치에대한 좌표값\n",
        "    x_pos, y_pos = key_pad[pos]\n",
        "\n",
        "    # 3) 1하고 2의 수직거리계산 ==> 각 좌표의 차이의 절대값의 합\n",
        "    abs_distance = abs(x_number - x_pos ) + abs( y_number - y_pos)\n",
        "\n",
        "    # 최종 출력\n",
        "    return abs_distance"
      ],
      "metadata": {
        "id": "r2Elkm0ORB2f"
      },
      "execution_count": null,
      "outputs": []
    },
    {
      "cell_type": "code",
      "source": [
        "# --> 큰틀 : 입력받은 numbers를 돌아가면 for\n",
        "# case1) 1/4/7 : 왼손\n",
        "# case2) 3/6/9 : 오른손\n",
        "# case3) 2/5/8/0/ ==> 왼손과 거리, 오른손과 거리 : get_distance()\n",
        "#                    d_l = get_distance()\n",
        "#                    d_r = get_distance()\n",
        "#       case3-1) d_l == d_r : hands정보\n",
        "#       case3-2) d_1 != d_r : 가까운 손(부등식) 처리"
      ],
      "metadata": {
        "id": "qFyhDjShRO6P"
      },
      "execution_count": null,
      "outputs": []
    },
    {
      "cell_type": "code",
      "source": [
        "def solution(numbers, hand):\n",
        "    answer = ''\n",
        "    ##################\n",
        "    # 1-1) 필요한 변수들을 세팅!!!! --> 왼손위치, 오른손위치 변수\n",
        "    left_pos = \"*\"\n",
        "    right_pos = \"#\"\n",
        "    # 1-2) 필요한 변수들 세팅 : 무슨손 잡이 ==> 입력: left/right\n",
        "    #                                           출력:L,R\n",
        "    if hand ==\"right\":\n",
        "        hand = \"R\"\n",
        "    elif hand ==\"left\":\n",
        "        hand =\"L\"\n",
        "    #########################################\n",
        "    # 2) 본격적으로 눌러야할 버튼들을 롤링!!!!\n",
        "    for num in numbers:\n",
        "        # 2-1) 무조건 왼손 ; 1,4,7\n",
        "        if num in [1,4,7]:\n",
        "            answer +=\"L\"\n",
        "            # ++ 왼손의 위치를 변경/갱신!!!!!!!!\n",
        "            left_pos = num\n",
        "        # 2-2) 무조건 오른손 : 3,6,9\n",
        "        elif num in [3,6,9]:\n",
        "            answer += \"R\"\n",
        "            # ++ 오른손의 위치를 변경/갱신!!!!!\n",
        "            right_pos = num\n",
        "        # 2-3) 고민 2/5/8/0 --> else\n",
        "        elif num in [2,5,8,0]: # num==2 or num==5 or ``````\n",
        "            # 각 손과의 거리들을 계산!!!\n",
        "            dis_left = get_distance( num, left_pos)\n",
        "            dis_right = get_distance(num, right_pos)\n",
        "            # 2-3-1) 거리가 왼쪽이 짧을 때\n",
        "            if dis_left < dis_right:\n",
        "                answer +=\"L\"\n",
        "                left_pos = num\n",
        "            # 2-3-2) 거리가 오른쪽이 짧을 때\n",
        "            elif dis_left > dis_right:\n",
        "                answer += \"R\"\n",
        "                right_pos = num\n",
        "            # 2-3-3) 거리가 같을 대 else\n",
        "            elif dis_left == dis_right:\n",
        "                answer += hand\n",
        "                # --> 무슨손 잡이냐 따라서 갱신할 손 선택!!!\n",
        "                if hand ==\"R\":\n",
        "                    right_pos = num\n",
        "                elif hand==\"L\":\n",
        "                    left_pos = num\n",
        "    ##################\n",
        "    return answer"
      ],
      "metadata": {
        "id": "MbDUALQMRX9_"
      },
      "execution_count": null,
      "outputs": []
    },
    {
      "cell_type": "code",
      "source": [
        "a = [1, 3, 4, 5, 8, 2, 1, 4, 5, 9, 5]\n",
        "b = \"right\"\n",
        "solution(a,b) # \"LRLLLRLLRRL\""
      ],
      "metadata": {
        "id": "RfQ6vwYdU-I0"
      },
      "execution_count": null,
      "outputs": []
    }
  ]
}