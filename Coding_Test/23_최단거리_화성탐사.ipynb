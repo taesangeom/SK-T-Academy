{
  "nbformat": 4,
  "nbformat_minor": 0,
  "metadata": {
    "colab": {
      "provenance": [],
      "authorship_tag": "ABX9TyNPtW381GH/+KQCDM9efLPJ",
      "include_colab_link": true
    },
    "kernelspec": {
      "name": "python3",
      "display_name": "Python 3"
    },
    "language_info": {
      "name": "python"
    }
  },
  "cells": [
    {
      "cell_type": "markdown",
      "metadata": {
        "id": "view-in-github",
        "colab_type": "text"
      },
      "source": [
        "<a href=\"https://colab.research.google.com/github/taesangeom/SK-T-Academy/blob/main/Coding_Test/23_%EC%B5%9C%EB%8B%A8%EA%B1%B0%EB%A6%AC_%ED%99%94%EC%84%B1%ED%83%90%EC%82%AC.ipynb\" target=\"_parent\"><img src=\"https://colab.research.google.com/assets/colab-badge.svg\" alt=\"Open In Colab\"/></a>"
      ]
    },
    {
      "cell_type": "code",
      "execution_count": null,
      "metadata": {
        "id": "h9E54kKI7Xmz"
      },
      "outputs": [],
      "source": [
        "# 노션참고\n",
        "#강사님 버전"
      ]
    },
    {
      "cell_type": "code",
      "source": [
        "#강사님 버전\n",
        "import heapq\n",
        "\n",
        "INF=float(\"inf\")\n",
        "#이동전략이 LRUD -> 정수 인덱스 접근.\n",
        "moves={\"L\":(0,-1),\"R\":(0,+1),\"U\":(-1,0),\"D\":(+1,0)}\n",
        "\n",
        "for tc in range( int(input(\"테스트케이스수입력\"))):\n",
        "    # n by n의 크기입력\n",
        "    n = int(input(\"크기얼마?\"))\n",
        "    # 주어진 크기에 대한 케이스에 대한 지도를 세팅/받아야함\n",
        "    graph = []\n",
        "    for i in range(n):\n",
        "        graph.appned( list(map(int, input(\"{}번쨰줄\".format(i+1)).split())) ) # \"1 2 3\" --> [1,2,3] --> [ [1,2,3]]\n",
        "    # 1개  test-case에 대한 지도 입력 완료!!!!\n",
        "    # graph : [ [5,5,4], [3,9,1],[3,2,7]]\n",
        "\n",
        "    # 최단 거리를 계산 : 주어진 지도의 크기에 종속!! n by n\n",
        "\n",
        "#**** 여기부터 다익스트라 알고리즘 메인파트 시작 -설정파트\n",
        "# **********구조가 비슷하다 ************\n",
        "\n",
        "    distance = [ [INF]*n for _ in range(n)]  # 누적 거리 기록지\n",
        "    # graph가 실제 가중치\n",
        "\n",
        "    # 시작점에 위치\n",
        "    x, y = 0,0\n",
        "    # 시작점에 대한 우선순위 큐 + 거리 세팅!!\n",
        "    q = []\n",
        "    heapq.heappush(q,(graph[x][y],x,y)) #가중치,x,y 여기선 초기값\n",
        "    distance[x][y]=graph[x][y] #출발점에 대한 가중치 초기화\n",
        "    #가까운 거리부터 열심히 돈다.\n",
        "    while q:\n",
        "        #할일 중에서 꺼내기\n",
        "        dist,x,y=heapq.heappop(q)#5,0,0\n",
        "        if distance[x][y] < dist: #처리할 필요가 없는 경우 간 곳 다시 가는경우\n",
        "            continue\n",
        "        for move in moves:\n",
        "            nx=x+move[0]\n",
        "            ny=y+move[1]\n",
        "            if 0<=nx<n and 0<=ny<n: # 인바운드 체크\n",
        "                cost=dist+graph[nx][ny]\n",
        "                if cost<distance[nx][ny]:\n",
        "                    distance[nx][ny]=cost\n",
        "                    heapq.heappush(q,(cost,nx,ny))\n",
        "    print(distance[n-1][n-1])"
      ],
      "metadata": {
        "id": "Nn1hxal-7d5N"
      },
      "execution_count": null,
      "outputs": []
    },
    {
      "cell_type": "code",
      "source": [
        "#********************결국 다시 간곳 안가고 작은 수 찾아가는 경우이다*****************\n",
        "\n",
        "### 정리\n",
        "# 최단 거리에 대한 여러 유형중 : 다익스트라 알고리즘 :BFS\n",
        "# ---> heapq사용하는 구조에 대해서 반복 학습!!!!\n",
        "# 단, 문제 상황들은 앞에서 여러 유형에서 했던 것들하고 종합!!!\n",
        "# 기본적인 부분들을 정확하게 이해를 하고\n",
        "# + 새로운 내용을 적용을 해서 문제 해결력을 키워야 함!!!!\n",
        "# ==> 여러 유형을 풀어보셔야 함!!!!!!!"
      ],
      "metadata": {
        "id": "Rs9jkNek7iWc"
      },
      "execution_count": null,
      "outputs": []
    }
  ]
}