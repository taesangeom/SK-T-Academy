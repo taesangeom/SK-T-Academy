{
  "nbformat": 4,
  "nbformat_minor": 0,
  "metadata": {
    "colab": {
      "provenance": [],
      "authorship_tag": "ABX9TyO9EN+uh0p0HuFnGYwq5ofN",
      "include_colab_link": true
    },
    "kernelspec": {
      "name": "python3",
      "display_name": "Python 3"
    },
    "language_info": {
      "name": "python"
    }
  },
  "cells": [
    {
      "cell_type": "markdown",
      "metadata": {
        "id": "view-in-github",
        "colab_type": "text"
      },
      "source": [
        "<a href=\"https://colab.research.google.com/github/taesangeom/SK-T-Academy/blob/main/Coding_Test/05_%EC%A0%95%EB%A0%AC_%EC%8B%A4%ED%8C%A8%EC%9C%A8_%EC%B9%B4%EC%B9%B4%EC%98%A4.ipynb\" target=\"_parent\"><img src=\"https://colab.research.google.com/assets/colab-badge.svg\" alt=\"Open In Colab\"/></a>"
      ]
    },
    {
      "cell_type": "markdown",
      "source": [
        "# 내 버전"
      ],
      "metadata": {
        "id": "RPeHDlBqIU14"
      }
    },
    {
      "cell_type": "code",
      "execution_count": null,
      "metadata": {
        "id": "A4SzLFJsAwj3"
      },
      "outputs": [],
      "source": [
        "def solution(N, stages):                # 2019카카오 Blind recruit 실패율 문제 Lv1 *** 혼자 해결 완료( 사소한 조건들도 다 참조하기 ) *******\n",
        "    failure=[]\n",
        "\n",
        "    for stage in range(1,N+1):\n",
        "        son=0\n",
        "        mother=0\n",
        "\n",
        "        for j in stages:   # 반복문 대신 count = len(list(filter(lambda x: x > 5, my_list))) 이렇게 filter(lambda) 사용하거나\n",
        "            if j==stage:   # count = len([x for x in my_list if x > 5])   이렇게 리스트 컴프리헨션으로 해도 됨  -> 리스트 안에 특정 조건 만족하는 원소 수 구하기\n",
        "                son+=1 # 이건 count(stage) 써도 됨\n",
        "            if j>=stage:\n",
        "                mother+=1\n",
        "        if mother==0:\n",
        "            fail=0\n",
        "        else:\n",
        "            fail=son/mother\n",
        "        failure.append((stage,fail))  # 리스트에 튜플추가\n",
        "\n",
        "    failure_res=sorted(failure, key = lambda x : (-x[1],x[0]))     #정렬식에 람다 식\n",
        "    result=[i[0] for i in failure_res]  # 리스트 컴프리헨션으로 필요한거 빼오기\n",
        "\n",
        "    return result"
      ]
    },
    {
      "cell_type": "code",
      "source": [
        "# 보완 버전\n",
        "\n",
        "def solution(N, stages):                # 2019카카오 Blind recruit 실패율 문제 Lv1 *** 혼자 해결 완료( 사소한 조건들도 다 참조하기 ) *******\n",
        "    failure=[]\n",
        "\n",
        "    for stage in range(1,N+1):\n",
        "\n",
        "        son=stages.count(stage)                                 #반목문 대신 기능함수들 써서 간소화\n",
        "        mother=len([i for i in stages if i>=stage])\n",
        "\n",
        "        if mother==0:\n",
        "            fail=0\n",
        "        else:\n",
        "            fail=son/mother\n",
        "        failure.append((stage,fail))\n",
        "\n",
        "    failure_res=sorted(failure, key = lambda x : (-x[1],x[0]))\n",
        "    result=[i[0] for i in failure_res]\n",
        "\n",
        "    return result"
      ],
      "metadata": {
        "id": "3EufWozTKWcC"
      },
      "execution_count": null,
      "outputs": []
    },
    {
      "cell_type": "code",
      "source": [
        "solution(4,[4,4,4,4])"
      ],
      "metadata": {
        "colab": {
          "base_uri": "https://localhost:8080/"
        },
        "id": "tjaeiEpPA_Zu",
        "outputId": "1937eb34-24c5-4aa7-faf7-de8a70e2ec41"
      },
      "execution_count": null,
      "outputs": [
        {
          "output_type": "execute_result",
          "data": {
            "text/plain": [
              "[4, 1, 2, 3]"
            ]
          },
          "metadata": {},
          "execution_count": 31
        }
      ]
    },
    {
      "cell_type": "markdown",
      "source": [
        "# 강사님 버전"
      ],
      "metadata": {
        "id": "FetXQdrjIZca"
      }
    },
    {
      "cell_type": "code",
      "source": [
        "# 문제를 읽으면서 끄적\n",
        "# 문제의 핵심 : 실패율 구하는 코드작성\n",
        "# --> 실패율이 뭐냐?\n",
        "#     실패율 : 실패한 유저수 / 도전한 유저수\n",
        "#      --> case by case : 도전한 유저수 == 0 : 실패율 0\n",
        "#                         도전한 유저수 != 0 : 위의 공식 계산\n",
        "# 입력변수 : N --> 전체 스테이지의수\n",
        "#            stages --> 유저들이 지금 어디에 있는지 정보(리스트)\n",
        "# 최종 출력 : 실패율계산 --> 실패율 높은 순서대로(내림차순):정렬\n",
        "#              --> 스테이지번호 리스트\n",
        "#             ( 참고 : 정렬 기준 --> 실패율이 같으면 스테이지번호 낮은거)\n",
        "# 참고) stages : 1~N+1\n",
        "#       ==> 1은 1번 스테이지에 도전하는 사람\n",
        "#           N+1 : N 스테이지 모두 클리어한 사람\n",
        "#       ==> 인덱스가 0X--> 1부터??"
      ],
      "metadata": {
        "id": "qVCb3l2zIbE7"
      },
      "execution_count": null,
      "outputs": []
    },
    {
      "cell_type": "code",
      "source": [
        "# 사례1)\n",
        "# N = 5\n",
        "# stages = [2, 1, 2, 6, 2, 4, 3, 3]\n",
        "\n",
        "# 1stage\n",
        "# 도전자 : 8명\n",
        "# 실패자 : 1명 --> 값 1인 수\n",
        "# --> 1F = 1/8\n",
        "\n",
        "# 2stage\n",
        "# 도전자 : 7명 --> 8 - 1 (1stage 도전자 - 1stage실패자)\n",
        "# 실패자 : 3명 --> 값 2인 수\n",
        "# 2F = 3/7\n",
        "\n",
        "# 3stage\n",
        "# 도전자 : 7-3 = 4명 ( 2stage도전자 - 2stage실패자)\n",
        "# 실패자 : 2명 --> 값이 3인 수\n",
        "# 3F = 2/4\n",
        "\n",
        "# 4stage\n",
        "# 도전자 : 4-2 =2명( 3stage도전자 - 3stage실패자)\n",
        "# 실패자 : 1명 --> 값이 4인 수\n",
        "# 4F = 1/2\n",
        "\n",
        "# 5stage\n",
        "# 도전자 : 2 - 1 = 1명(4stage도전자 -4stage실패자)\n",
        "# 실패자 : 0명\n",
        "# 5F = 0/1\n",
        "\n",
        "#---------------------------------------\n",
        "# 스테이지별로 실패율 정렬(내림차순&동타있으면 작은순서)"
      ],
      "metadata": {
        "id": "aChv-G1_Ish6"
      },
      "execution_count": null,
      "outputs": []
    },
    {
      "cell_type": "code",
      "source": [
        "# 생각의 시작 : i번째 stage에서는 어찌될까 규칙!!\n",
        "\n",
        "# i-stage //3번스테이지\n",
        "# 도전자 : (i-1)stage도전자 -(i-1)stage실패자 // 3-1스테이지도전-실패\n",
        "# 실패자 : 값이 i인 갯수 //값이 3인 갯수\n",
        "# i_F = 실패자/도전자\n",
        "#      ==> 도전자의 수 ==0 : i_F =0\n",
        "#                      !=0 : 실패자/도전자\n",
        "\n",
        "# +++ 실패율 기준으로 내림차순 정렬 ==> 스테이지 번호만 출력!!"
      ],
      "metadata": {
        "id": "FnNge1jhIvDC"
      },
      "execution_count": null,
      "outputs": []
    },
    {
      "cell_type": "code",
      "source": [
        "# 중요 사항\n",
        "# ==> 출력에서 정렬을 사용을 함.\n",
        "# 1) 실패율 : 내림차순\n",
        "# 2) 스테이지 번호 : 오름차순\n",
        "# ===> 따로 따로 정렬 기준별로 정렬방향을 세팅!!!!!!!\n",
        "# + 내가 주어진대로 세팅할 수 있어야 하고!!!\n",
        "#  sorted()/.sort() + key + lambda + (+/-)\n",
        "# ==> 정렬에 필요한 정보 : 스테이지번호, 실패율\n",
        "# 기본 유형 : [ (이름,성적), (이름,성적),(이름,성적),,,,]\n",
        "#             [ (1,1_F), (2, 2_F), (3, 3_F),,,,,(N, N_F)]"
      ],
      "metadata": {
        "id": "IML07NgrIyQa"
      },
      "execution_count": null,
      "outputs": []
    },
    {
      "cell_type": "code",
      "source": [
        "# 정렬을 대한 것은 오로지 리스트자료형만 가능한가?\n",
        "# ==> No!!!!\n",
        "# Dict에서도 가능함!!!!"
      ],
      "metadata": {
        "id": "BDc53NCvI0va"
      },
      "execution_count": null,
      "outputs": []
    },
    {
      "cell_type": "code",
      "source": [
        "def solutionbyTeacher(N, stages):\n",
        "    answer = []\n",
        "    ##########################\n",
        "    # 1) 필요한 정보들을 세팅!!!!!!\n",
        "    # 1-1) 정렬을 위한 기본 세팅 : dict--> k:스테이지번호, v:실패율\n",
        "    fail_dict = {} # 스테이지별로 돌아가면서 추가하자!!!\n",
        "    # 1-2) 최초 도전자에 대한 수 : ==> 각 스테이지별로(갱신)\n",
        "    num_people = len(stages) # --> 갱신 : i_stage도전자수\n",
        "    # 처음은 1번 스테이지의 도전자 수에 대한 초기화!!!\n",
        "\n",
        "\n",
        "    # 2) 큰 구조 : 스테이지를 중심으로 돌려가면서 실패율\n",
        "    # ===> 1,2,3,....N 숫자로 돌리 : range(1, N+1)\n",
        "    for i_stage in range(1, N+1,1):\n",
        "        # 2-1) i번째 스테이지에서 할 일들을 기술\n",
        "        # 2-1-1) i번째 스테이지의 실패자 수 : 카운팅/ .count()\n",
        "        fail_num = stages.count(i_stage)\n",
        "        # len([ s for s in stages if s==i]) : 필터링&카운팅!\n",
        "        # 2-2-2) 실패율 : case by case\n",
        "        if num_people >0: # 1명 이상 참가자 --> 계산\n",
        "            fail_dict[i_stage] = fail_num / num_people\n",
        "        else : # 0명의 참가자 --> 계산X : 정의대로 0\n",
        "            fail_dict[i_stage] = 0\n",
        "        # 2-2-3) 다음 라우드에 참가자에 대한 정보 : 갱신\n",
        "        #num_people = num_people - fail_num\n",
        "        num_people -= fail_num\n",
        "    # ----> fail_dict = {1:1/8, 2:3/7, 3:2/4 ....}\n",
        "\n",
        "    # 3) 출력을 위한 정리/정렬!!!\n",
        "    # --> 정렬 1기준 : 실패율 * 내림차순\n",
        "    #     정렬 2기준 : 스테이지번호 * 오름차순'\n",
        "    # fail_dict.items() : [ (1, 1/8), (2, 3/7), (3, 2/4) ,,]\n",
        "    # --> x : (3, 2/4)\n",
        "    fail_list = sorted(fail_dict.items(), key = lambda x: (-x[1], x[0]) )\n",
        "    # [ (3, 2/4) , (2, 3/7),(1, 1/8),,,,, ]\n",
        "\n",
        "    # 4) 제출 양식 : stage 번호만 추려서 리스트로\n",
        "    answer = [fail_info[0] for fail_info in fail_list]\n",
        "    # [3,2,1]\n",
        "    ##########################\n",
        "    return answer"
      ],
      "metadata": {
        "id": "wTrbfaRZI476"
      },
      "execution_count": null,
      "outputs": []
    }
  ]
}