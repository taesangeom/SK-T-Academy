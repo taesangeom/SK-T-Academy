{
  "nbformat": 4,
  "nbformat_minor": 0,
  "metadata": {
    "colab": {
      "provenance": [],
      "authorship_tag": "ABX9TyPVo+zzTTuBWyjhDw+8SbYK",
      "include_colab_link": true
    },
    "kernelspec": {
      "name": "python3",
      "display_name": "Python 3"
    },
    "language_info": {
      "name": "python"
    }
  },
  "cells": [
    {
      "cell_type": "markdown",
      "metadata": {
        "id": "view-in-github",
        "colab_type": "text"
      },
      "source": [
        "<a href=\"https://colab.research.google.com/github/taesangeom/SK-T-Academy/blob/main/Coding_Test/07_%EC%A0%95%EB%A0%AC%EC%95%8C%EA%B3%A0%EB%A6%AC%EC%A6%98_%EA%B8%B0%EB%B3%B8%EA%B0%9C%EB%85%90.ipynb\" target=\"_parent\"><img src=\"https://colab.research.google.com/assets/colab-badge.svg\" alt=\"Open In Colab\"/></a>"
      ]
    },
    {
      "cell_type": "code",
      "execution_count": null,
      "metadata": {
        "id": "nOVnCYwwRqK4"
      },
      "outputs": [],
      "source": [
        "# 정렬의 가장 기본: swap\n",
        "\n",
        "# 파이썬의 멀티할당 ==> temp 필요없이 1줄로 가능"
      ]
    },
    {
      "cell_type": "code",
      "source": [
        "### 1) 선택정렬  # 노션도 참고\n",
        "#   ==> 호랑이가 제일 쎄면, 그 다음에 쎈 친구는 누가?\n",
        "#   ==> 제일 큰 것을 선택/결정\n",
        "#       제일 큰 것은 빼고, 남은 것들 중에서 제일 큰 것을 선택/결정\n",
        "# ....\n",
        "#  끝까지..."
      ],
      "metadata": {
        "id": "luMz4QhAWbV8"
      },
      "execution_count": null,
      "outputs": []
    },
    {
      "cell_type": "code",
      "source": [
        "#기준: 제일 작은 것을 선택 -> 제일 앞으로 세팅\n",
        "arr=[20,12,15,10,2]\n",
        "arr"
      ],
      "metadata": {
        "colab": {
          "base_uri": "https://localhost:8080/"
        },
        "id": "hK3BbEm1Wi88",
        "outputId": "212b1251-f4cc-4447-f47c-fe79b528d9a6"
      },
      "execution_count": null,
      "outputs": [
        {
          "output_type": "execute_result",
          "data": {
            "text/plain": [
              "[20, 12, 15, 10, 2]"
            ]
          },
          "metadata": {},
          "execution_count": 1
        }
      ]
    },
    {
      "cell_type": "code",
      "source": [
        "sorted(arr)"
      ],
      "metadata": {
        "colab": {
          "base_uri": "https://localhost:8080/"
        },
        "id": "W8lJTHoaWpCT",
        "outputId": "b6e27b0b-d964-4d34-af55-6f719c2056da"
      },
      "execution_count": null,
      "outputs": [
        {
          "output_type": "execute_result",
          "data": {
            "text/plain": [
              "[2, 10, 12, 15, 20]"
            ]
          },
          "metadata": {},
          "execution_count": 2
        }
      ]
    },
    {
      "cell_type": "markdown",
      "source": [
        "선택정렬"
      ],
      "metadata": {
        "id": "LW5-HDRdZTk8"
      }
    },
    {
      "cell_type": "code",
      "source": [
        "# 0번째 단계 : 전체 5개 중에서 제일 작은 것은 뽑겠다\n",
        "#     5개 중에서 제일 앞(0번째가) 제일 작다고 가정 : 1등 위치\n",
        "#          그 다음 1번째 부터 하나씩 뽑아서~~~ 맨 끝까지~~~\n",
        "#          지금 위치 값 vs 지금까지 제일 작은 값\n",
        "#               ==> 비교 : 기존 1등 보다 더 작은 친구가 나오면\n",
        "#                          1등 기록지를 갱신!!\n",
        "#          남은 것들을 다 비교가 끝날 때 까지...\n",
        "#          ==> 제일 작은 친구를 0번째 위치로 swap"
      ],
      "metadata": {
        "id": "F7VjG0JwXDDi"
      },
      "execution_count": null,
      "outputs": []
    },
    {
      "cell_type": "code",
      "source": [
        "# 1번째 단계 : 남은 4개 중에서 제일 작은 것을 뽑겠다..\n",
        "#      4개 중에서 제일 앞(1번째)제일 작다고 가정 : 1등(실제 2등)위치\n",
        "#           그 다음 2번째 부터 하나씩 뽑아서~~맨 끝까지~~~~\n",
        "#           지금 위치 값 vs 지금까지 제일 작은 값\n",
        "#                ==> 비교 : 기존 1등보다 더 작은 친구가 나오면\n",
        "#                           1등 기록지를 갱신!!!\n",
        "#           남은 것들을 다 비교가 끝날 때 까지..\n",
        "#           ==> 제일 작은 친구를 1번째 위치로 swap\n",
        "\n",
        "# 2번째 단계 : 남은 3개 중에서 제일 작은 것을 뽑겠다!!\n",
        "#      3개 중에서 제일 앞(2번째)제일 작다고 가정 : 1등(실제 3등)\n",
        "#          ~~~~~~~~~~\n",
        "#           ==> 제일 작은 친구를 2번째 위치로 swap\n",
        "\n",
        "# 3번째 단계 : 남은 2개 중에서 제일 작은 것을 뽑겠다!!!\n",
        "#          ~~~~~~~~\n",
        "#           ==> 제일 작은 친구를 3번째 위치로 swap\n",
        "\n",
        "# 4번째 단계 : 남은 1개 중에서 제일 작은 것을 뽑겠다.\n",
        "\n",
        "# 큰 틀 : 정렬해야하는 원소의 갯수에 좌우됨!!\n"
      ],
      "metadata": {
        "id": "ImGHhakUYJkr"
      },
      "execution_count": null,
      "outputs": []
    },
    {
      "cell_type": "code",
      "source": [
        "#i번째 단계: 남은 수 중에 제일 작은 값을 찾자\n",
        "# -> 초기 제일 작은 것의 위치 세팅 : i번째가 제일 작다고 비교할 선수들을 i+1의 위치의 값부터 끝까지 비교\n",
        "#-> 제일 작은 값 : 제일 작은 값의 위치 갱신\n",
        "#      ==> 찾은 제일 작은 값 & i번째 값 : swap"
      ],
      "metadata": {
        "id": "tQ_k2SF2ZrxT"
      },
      "execution_count": null,
      "outputs": []
    },
    {
      "cell_type": "code",
      "source": [
        "# 코드 정리 : 파이썬으로 구현하면 심플하게 구현이 됨!!\n",
        "# ==> 정확한 규칙을 찾을 수 있느냐...코드로 구현할 수있냐..\n",
        "for i_step in range( len(arr)):\n",
        "    min_step = i_step # --> 앞으로 비교하면서 갱신!!!!\n",
        "    for j in range( i_step+1, len(arr)):\n",
        "        if arr[j] < arr[min_step] : # 신규 출전선수가 더 작으면\n",
        "            min_step = j\n",
        "    arr[min_step], arr[i_step] = arr[i_step], arr[min_step]\n",
        "print(arr)"
      ],
      "metadata": {
        "id": "jhvxpbNnan5D"
      },
      "execution_count": null,
      "outputs": []
    },
    {
      "cell_type": "code",
      "source": [
        "# arr ==> 원소의 갯수 n개 --> 선택 정렬 :n^2\n",
        "# --> 컴퓨터가 원소가 많으면 랙!!!!!!\n",
        "\n",
        "# arr ==> 원소의 갯수 n개 --> 선택 정렬 :n^2\n",
        "# --> 컴퓨터가 원소가 많으면 랙!!!!!!\n",
        "#     아무리 최신 알고리즘으로 구현을 해도 : 오래 걸리는 작업\n",
        "# --> for문의 중첩을 최소화!!!!\n",
        "# 코테 : 3중 for문을 쓴다?? -> 본인 코드를 의심하자"
      ],
      "metadata": {
        "id": "uykx9uwAc2gR"
      },
      "execution_count": null,
      "outputs": []
    },
    {
      "cell_type": "markdown",
      "source": [
        "삽입정렬"
      ],
      "metadata": {
        "id": "HT64tR1Ui-BJ"
      }
    },
    {
      "cell_type": "code",
      "source": [
        "### 삽입정렬\n",
        "# 기본 컨셉 : 카드게임할 때 카드정리!!!\n",
        "# ==> 기존에 정렬이 되어있는 상태에서 중간에 꽂아 넣겠다(삽입)"
      ],
      "metadata": {
        "id": "xwgk-a7mi_Le"
      },
      "execution_count": null,
      "outputs": []
    },
    {
      "cell_type": "code",
      "source": [
        "# 예) [ 9 , 5, 1, 4, 3]\n",
        "\n",
        "# 0-step : 9     --> 정리 끝!!\n",
        "# 1-step : 9 (5) --> 정리된 9하고, 새로운 카드 5하고 비교!!!!\n",
        "#                    새로운 카드 5가 작은면 둘을 swap : 5, 9\n",
        "# 2-step : 5, 9, (1) --> 정리가 되어 있는 5,9하고 새로운 카드 1하고 비교!!!\n",
        "#                     : 정리된 9하고, 새로운 1하고 비교\n",
        "#                       --> new가 더 작아요!!!\n",
        "#                           1하고 9를 swap : 5, 1, 9\n",
        "#                     : 정리된 5하고, 새로운 1하고 비교\n",
        "#                       --> new가 더 작아요!!!\n",
        "#                            1하고 5를 swap : 1,5,9\n",
        "# 3-step : 1, 5, 9, (4) --> 정리된 1,5,9하고, 새로운 카드 4하고 비교\n",
        "#                     :정렬된 9하고, 새로운 4하고 비교\n",
        "#                       --> new가 더 작아요\n",
        "#                          9하고 4하고 swap : 1,5,4,9\n",
        "#                     : 정렬된 5하고, 새로운 4하고 비교\n",
        "#                       --> new가 더 작아요\n",
        "#                          5하고 4하고 swap : 1,4,5,9\n",
        "#                     : 정렬된 1하고, 새로운 4하고 비교\n",
        "#                       --> new가 더 커요!!\n",
        "#                          stop!\n",
        "# 4-step : 1, 4, 5, 9 (3) --> 정리된 1,4,5,9하고 새로운 3하고 비교\n",
        "#                     : 정렬된 9하고, new3 비교 : 작음 swap\n",
        "#                       1,4,5,3,9\n",
        "#                     : 정렬된 5하고 new 3 비교 : 작음 swap\n",
        "#                       1 4 3 5 9\n",
        "#                     : 정렬된 4하고 new 3 비교 : 작음 swap\n",
        "#                       1 3 4 5 9\n",
        "#                     : 정렬된 1하고 new3 비교  : 큼 stop\n",
        "# 1,3, 4, 5,9\n",
        "\n",
        "# 참고) 선택정렬하고 차이점 : 누가 작은지 기록지 필요X\n",
        "#       그냥 앞으로 갈 때 까지 계속 계속 swap하면서 전진!!!\n",
        "#                  못가면 stop!!"
      ],
      "metadata": {
        "id": "r3DbKeL7k-oU"
      },
      "execution_count": null,
      "outputs": []
    },
    {
      "cell_type": "code",
      "source": [
        "arr=[ 9 , 5, 1, 4, 3]\n",
        "arr"
      ],
      "metadata": {
        "colab": {
          "base_uri": "https://localhost:8080/"
        },
        "id": "3iVj6rPllCNk",
        "outputId": "461b57bc-b544-4cbb-c876-70adb60c8dd2"
      },
      "execution_count": null,
      "outputs": [
        {
          "output_type": "execute_result",
          "data": {
            "text/plain": [
              "[9, 5, 1, 4, 3]"
            ]
          },
          "metadata": {},
          "execution_count": 3
        }
      ]
    },
    {
      "cell_type": "code",
      "source": [
        "# 전체적인 돌리는 구조 : 새로운 카드를 뽑는 과정!!!\n",
        "# 1번째 부터 끝까지 돌리는 구조!!!!\n",
        "for step in range(1, len(arr)):\n",
        "    # 새로운 카드를 바탕으로 앞으로 앞으로 도장깨기!!!!!--> 역방향(앞으로)\n",
        "    for i in range(step, 0, -1):\n",
        "        if arr[i-1] > arr[i]: # new가 더 작으면,,\n",
        "            arr[i-1], arr[i]= arr[i],arr[i-1] # swap\n",
        "        # else, breaks --> 최악의 경우에는 break!!\n",
        "        # --> 알고리즘 상에서 시간의 복잡도는 영향X\n",
        "        #     코테를 하는 과정에서는 불필요한 공회전 처리를 해야함!!\n",
        "        #     ==> 주의 깊게 하셔야 하는 부분!!!!\n",
        "        #     실제 런닝 타임은 비효율을 제거하는 코드 추가!\n",
        "print(arr)"
      ],
      "metadata": {
        "colab": {
          "base_uri": "https://localhost:8080/"
        },
        "id": "9oWHaHhRmzO1",
        "outputId": "0998de5f-3348-4954-9e91-222f6a8aea46"
      },
      "execution_count": null,
      "outputs": [
        {
          "output_type": "stream",
          "name": "stdout",
          "text": [
            "[1, 3, 4, 5, 9]\n"
          ]
        }
      ]
    },
    {
      "cell_type": "markdown",
      "source": [
        "버블정렬"
      ],
      "metadata": {
        "id": "d46GzP4MnN6t"
      }
    },
    {
      "cell_type": "code",
      "source": [
        "### 버블정렬\n",
        "#   ==> 개념 : 컨베이어 벨트 : 계속 계속 뒤로 전달~~\n",
        "#   ==> 코드상 : 삽입정렬과 유사!!!\n",
        "#       개념상 : 선택정렬과 유사!! but 기록지가 없음!!\n",
        "#                 계속 swap 진행!!!! 선택 swap : 결정되고 나서 1번\n",
        "# 컨셉 : 서로 서로 다 비교하면서 뒤로 뒤로 이동합시다!!\n",
        "#        2개씩 비교하면서 (i-1, i) -> swap\n"
      ],
      "metadata": {
        "id": "XL3CX6Tfmz-0"
      },
      "execution_count": null,
      "outputs": []
    },
    {
      "cell_type": "code",
      "source": [
        "arr = [ -2, 45, 0, 11,-9]\n",
        "arr"
      ],
      "metadata": {
        "colab": {
          "base_uri": "https://localhost:8080/"
        },
        "id": "5CdmiT3NoVM9",
        "outputId": "d59118a4-af22-4d8b-f829-3f4bea96ca4f"
      },
      "execution_count": null,
      "outputs": [
        {
          "output_type": "execute_result",
          "data": {
            "text/plain": [
              "[-2, 45, 0, 11, -9]"
            ]
          },
          "metadata": {},
          "execution_count": 5
        }
      ]
    },
    {
      "cell_type": "code",
      "source": [
        "len(arr)\n",
        "(i, i+1)\n",
        "# 롤링을 각 단계별로 하기 위한 필요한 인덱스들!!\n",
        "0 --> 0/1, 1/2, 2/3, 3/4\n",
        "1 --> 0/1, 1/2, 2/3\n",
        "2 --> 0/1, 1/2\n",
        "3 --> 0/1"
      ],
      "metadata": {
        "id": "F4V886IEoakU"
      },
      "execution_count": null,
      "outputs": []
    },
    {
      "cell_type": "code",
      "source": [
        "# 기본적으로 정렬을 하고자 하는 수만큼 돌려야 함.\n",
        "for step in range( len(arr)):\n",
        "    # 앞에서 부터 2개씩 가지고 와서 비교 & 큰 것을 뒤로 swap\n",
        "    for i in range(0, len(arr)-step-1):\n",
        "        #print(step,i,i+1)\n",
        "        if arr[i] > arr[i+1]: # 큰 친구가 앞에 있다면 :뒤로 보내자\n",
        "            arr[i], arr[i+1] = arr[i+1], arr[i]\n",
        "print(arr)"
      ],
      "metadata": {
        "colab": {
          "base_uri": "https://localhost:8080/"
        },
        "id": "tyw7fqrio4id",
        "outputId": "9e50e856-ca86-46cf-fd56-eabc52b184e9"
      },
      "execution_count": null,
      "outputs": [
        {
          "output_type": "stream",
          "name": "stdout",
          "text": [
            "[-9, -2, 0, 11, 45]\n"
          ]
        }
      ]
    },
    {
      "cell_type": "code",
      "source": [],
      "metadata": {
        "id": "m8XDNzivqM92"
      },
      "execution_count": null,
      "outputs": []
    },
    {
      "cell_type": "code",
      "source": [
        "# 정리\n",
        "\n",
        "# 선택정렬 : 그 단계에서 누가 제일 잘하는지/대장 & 기록지!!!\n",
        "#            그 단계에서의 대장을 찾고, swap\n",
        "\n",
        "# 삽입정렬 : 카드정리 ==> 정리가 되어 있는 상태에서 1장씩 추가!!\n",
        "#            비교하면서 앞으로 도장깨기수행!!!\n",
        "#            기록지 필요가 없음!\n",
        "\n",
        "# 버블정렬 : 계속2개씩 비교하면서 뒤로 뒤로~~~~\n",
        "#            그 단계의 대장을 찾는 과점은 선택정렬과 유사\n",
        "#            but 매번 비교하면서 swap하기에 기록지가 필요가 X\n",
        "#            --> 계속2개씩 비교하면서 swap!!!\n",
        "\n",
        "# ===> 시간의 복잡도가 : N^2\n",
        "#      원소의 갯수가 많으면 상당한 무거운 작업!!!!!!\n",
        "\n",
        "# ===> 코드적으로 파이썬으로 구현을 하면 씸플 & 코드 짧음!\n",
        "#      인덱스에 대한 면접자의 이해도!!!!\n",
        "#      시간의 복잡도 효율성에 대해서 질문~~~\n",
        "#      직접 손으로 해보세요,,,말로 해보세요...\n",
        "#      정확하게 아는지 모르는지 파악이 용이한 주제!!!"
      ],
      "metadata": {
        "id": "7-3Zx5moqNq7"
      },
      "execution_count": null,
      "outputs": []
    }
  ]
}