{
  "nbformat": 4,
  "nbformat_minor": 0,
  "metadata": {
    "colab": {
      "provenance": [],
      "authorship_tag": "ABX9TyP4iIim943jJsEA7KTJ7cUa",
      "include_colab_link": true
    },
    "kernelspec": {
      "name": "python3",
      "display_name": "Python 3"
    },
    "language_info": {
      "name": "python"
    }
  },
  "cells": [
    {
      "cell_type": "markdown",
      "metadata": {
        "id": "view-in-github",
        "colab_type": "text"
      },
      "source": [
        "<a href=\"https://colab.research.google.com/github/taesangeom/SK-T-Academy/blob/main/Coding_Test/21_%EC%BD%94%ED%85%8C%EA%B0%9C%EB%85%90_%EC%B5%9C%EB%8B%A8%EA%B1%B0%EB%A6%AC.ipynb\" target=\"_parent\"><img src=\"https://colab.research.google.com/assets/colab-badge.svg\" alt=\"Open In Colab\"/></a>"
      ]
    },
    {
      "cell_type": "code",
      "execution_count": null,
      "metadata": {
        "colab": {
          "base_uri": "https://localhost:8080/"
        },
        "id": "viHCgIKnrJOK",
        "outputId": "3b7a7ed8-74fb-4df7-e6fa-762948fb1152"
      },
      "outputs": [
        {
          "output_type": "execute_result",
          "data": {
            "text/plain": [
              "[[],\n",
              " [(2, 2), (3, 5), (4, 1)],\n",
              " [(3, 3), (4, 2)],\n",
              " [(2, 3), (6, 5)],\n",
              " [(3, 5), (5, 1)],\n",
              " [(3, 1), (6, 2)],\n",
              " []]"
            ]
          },
          "metadata": {},
          "execution_count": 1
        }
      ],
      "source": [
        "#코테 : 탐색: 기본 탐색+최단거리 +경우의 수\n",
        "\n",
        "#최단거리: 다익스트라 알고리즘\n",
        "\n",
        "### 기본적인 최단거리 구하는 문제!!!\n",
        "# ---> 이 방식으로는 거의 사용하지 않음!!!\n",
        "#      탐색기반과 유사함!!!!\n",
        "\n",
        "# 기본방식\n",
        "# 입력부분\n",
        "INF = float(\"inf\")\n",
        "\n",
        "# 입력을 받는 부분은 지난 번에 했어서 skip\n",
        "n = 6 #도시의 숫자 ==node숫자\n",
        "m = 11 # 도로의 숫자 == edge 숫자 --> for : 어디,어디가,얼마\n",
        "start = 1 # 출발할 도시\n",
        "graph = [\n",
        "    [],  #0번도시 (도시,거리)\n",
        "    [(2,2),(3,5),(4,1)],\n",
        "    [(3,3),(4,2)],\n",
        "    [(2,3),(6,5)],\n",
        "    [(3,5),(5,1)],\n",
        "    [(3,1),(6,2)],\n",
        "    []  # 6번 도시\n",
        "]\n",
        "graph # -> 지도별로 근접리스트 방식으로"
      ]
    },
    {
      "cell_type": "code",
      "source": [
        "# 2) 필요한 기본 변수\n",
        "# 방문할 도시 리스트 ---> 방문 여부!!!!\n",
        "# 도시별로 최단 거리 모니터링 --> 거리 기록지!!!!\n",
        "distance = [INF] * (n+1) # 0번 도시도 포함되어서...n+1\n",
        "visited  = [False] * (n+1) # 방문 여부에 대한 것..\n",
        "print(distance)\n",
        "print(visited)"
      ],
      "metadata": {
        "colab": {
          "base_uri": "https://localhost:8080/"
        },
        "id": "g6m8V_wDM9vy",
        "outputId": "ecf4a30d-3965-4dda-f6ed-85f6e275a3a9"
      },
      "execution_count": null,
      "outputs": [
        {
          "output_type": "stream",
          "name": "stdout",
          "text": [
            "[inf, inf, inf, inf, inf, inf, inf]\n",
            "[False, False, False, False, False, False, False]\n"
          ]
        }
      ]
    },
    {
      "cell_type": "code",
      "source": [
        "def dijkstra(start): #그냥 priority queue 사용 안한 버전\n",
        "    # 시작점에 대해서 처리 : 거리//도장\n",
        "    visited[start] = True\n",
        "    distance[start] = 0  #기록지\n",
        "\n",
        "    def get_smallest_node():\n",
        "        #가장 거리가 짧은 거리정보 & 도시번호\n",
        "        min_value=INF\n",
        "        min_index=0\n",
        "        for node in range(n+1):\n",
        "            if(not visited[node]) & (distance[node]<min_value):\n",
        "                min_value=distance[node]\n",
        "                min_index=node\n",
        "        return min_index # 혹시 거리가 같다면 작은 애들 먼저 하는 상황이 발생\n",
        "\n",
        "    # 시작 도시부터 연결 도시들의 정보들을 가지고 오면 됨!!!\n",
        "    # ==> 시작 도시는 가중치 == 거리가 되어서..\n",
        "    for j in graph[start]:\n",
        "        # j : --> (도시, 거리)\n",
        "        distance[j[0]] = j[1]  # 기록지에 거리 갱신\n",
        "\n",
        "    # 시작 도시에 대한 처리는 완료!!!! => 남은 도시들을 꺼내가면서...\n",
        "    for _ in range(n-1): # n개 도시 중 출발 도시는 처리 했으니...\n",
        "        # 지금까지 제일 거리가 짧은 도시가 어딘지?\n",
        "        now = get_smallest_node()\n",
        "        visited[now]=True\n",
        "        #여기서 연결찬구들 거리 계산\n",
        "        for k in graph[now]:  #now에 연결된 친구들 조사\n",
        "            new_distance=distance[now]+k[1] # k[1]은 연결된(도시,거리) 중 거리\n",
        "            # 지금까지 거리 중 new_distance 더 짧은지 비교\n",
        "            if new_distance<distance[k[0]]:\n",
        "                distance[k[0]]=new_distance"
      ],
      "metadata": {
        "id": "qdATY2BSNcUw"
      },
      "execution_count": null,
      "outputs": []
    },
    {
      "cell_type": "code",
      "source": [
        "dijkstra(start)\n",
        "distance"
      ],
      "metadata": {
        "colab": {
          "base_uri": "https://localhost:8080/"
        },
        "id": "3S0QmiSqRl0a",
        "outputId": "9e1003ff-7520-4494-fcde-3acfe9e3cf46"
      },
      "execution_count": null,
      "outputs": [
        {
          "output_type": "execute_result",
          "data": {
            "text/plain": [
              "[inf, 0, 2, 3, 1, 2, 4]"
            ]
          },
          "metadata": {},
          "execution_count": 4
        }
      ]
    },
    {
      "cell_type": "code",
      "source": [
        "#우선순위 큐는 별도 패키지이지만, deque 처럼 굉장히 일반적임\n",
        "import heapq"
      ],
      "metadata": {
        "id": "5sETWqEjUGW_"
      },
      "execution_count": null,
      "outputs": []
    },
    {
      "cell_type": "code",
      "source": [
        "#거리변스 초기화'\n",
        "distance=[INF]*(n+1)"
      ],
      "metadata": {
        "id": "5GbUo24HUYdt"
      },
      "execution_count": null,
      "outputs": []
    },
    {
      "cell_type": "code",
      "source": [
        "def short_dis(start):  #우선순위 큐 사용 -> 정렬해서 가장 작은 노드 찾는 과정 줄어듬\n",
        "    q=[]\n",
        "    heapq.heappush(q,(0,start))  # (거리,도시) -> 우선순위\n",
        "    distance=[INF]*(n+1) # 기록지\n",
        "    distance[start]=0\n",
        "    #graph가 거리랑 도시 가중치\n",
        "    #q가 빌 때 까지 ㄱ\n",
        "    while q:\n",
        "        dis,now=heapq.heappop(q)  # 거리가 가장 작은거 꺼내줌 (거리,도시)\n",
        "        if distance[now]<dis:  #기존이 꺼낸거보다 작다면 그냥 놔두고\n",
        "            continue\n",
        "        for i in graph[now]: #꺼낸 도시랑 연결된 i[0]가 연결도시 , i[1]이 거리\n",
        "            cost=dis+i[1]\n",
        "            if cost<distance[i[0]]:\n",
        "                distance[i[0]]=cost\n",
        "                heapq.heappush(q,(cost,i[0])) #거리 갱신됐을때만 큐에 푸쉬"
      ],
      "metadata": {
        "id": "3WZXDeCYUhf8"
      },
      "execution_count": null,
      "outputs": []
    }
  ]
}