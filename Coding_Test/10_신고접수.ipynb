{
  "nbformat": 4,
  "nbformat_minor": 0,
  "metadata": {
    "colab": {
      "provenance": [],
      "authorship_tag": "ABX9TyPKM38cQKD6jxiixUfEXIEf",
      "include_colab_link": true
    },
    "kernelspec": {
      "name": "python3",
      "display_name": "Python 3"
    },
    "language_info": {
      "name": "python"
    }
  },
  "cells": [
    {
      "cell_type": "markdown",
      "metadata": {
        "id": "view-in-github",
        "colab_type": "text"
      },
      "source": [
        "<a href=\"https://colab.research.google.com/github/taesangeom/SK-T-Academy/blob/main/Coding_Test/10_%EC%8B%A0%EA%B3%A0%EC%A0%91%EC%88%98.ipynb\" target=\"_parent\"><img src=\"https://colab.research.google.com/assets/colab-badge.svg\" alt=\"Open In Colab\"/></a>"
      ]
    },
    {
      "cell_type": "markdown",
      "source": [
        "# 나의 초기버전, but 시간문제로 최적화필요\n"
      ],
      "metadata": {
        "id": "k1fFOoDZkQk0"
      }
    },
    {
      "cell_type": "code",
      "execution_count": 3,
      "metadata": {
        "id": "6wVBCdFhVbpA"
      },
      "outputs": [],
      "source": [
        "def solution(id_list, report, k):              # 내가 작성한 초기버전임. 성공이지만, 다만 몇몇 케이스들은 시간초과함. 즉, 최적화 필요\n",
        "\n",
        "    reported=[]\n",
        "    report=list(set(report)) # 중복제거\n",
        "    dict_ver_report=[]\n",
        "    people_who_reported=[]\n",
        "    people_and_mail={i:0 for i in id_list}\n",
        "    report_list=[]\n",
        "    reported_dict={}\n",
        "    for i in report:\n",
        "        a=i.split(\" \")[0]\n",
        "        b=i.split(\" \")[1]\n",
        "        people_who_reported.append(a)  #신고자리스트\n",
        "        report_list.append(b)   #가해자 리스트\n",
        "        dict_ver_report.append([a,b]) # a는 신고자,b는 가해자  [[신고자:가해자]...] 여기가 문제. 가해자가 중복됨\n",
        "\n",
        "\n",
        "    for i in report_list:\n",
        "        reported_dict[i]=report_list.count(i)  #reported_dict가 가해자:신고당한 횟수\n",
        "\n",
        "\n",
        "    for i in list(reported_dict.items()):  # i[0] 가해자 , i[1] 신고당한 횟수\n",
        "        if i[1]>=k:\n",
        "          for j in dict_ver_report:\n",
        "            if j[1]==i[0]:\n",
        "              people_and_mail[j[0]]+=1 # id : 메일받은 횟수\n",
        "\n",
        "    answer=[]\n",
        "    for i in id_list:\n",
        "        answer.append(people_and_mail[i])\n",
        "\n",
        "    return answer"
      ]
    },
    {
      "cell_type": "code",
      "source": [
        "solution([\"muzi\", \"frodo\", \"apeach\", \"neo\"],[\"muzi frodo\",\"apeach frodo\",\"frodo neo\",\"muzi neo\",\"apeach muzi\"],2)"
      ],
      "metadata": {
        "colab": {
          "base_uri": "https://localhost:8080/"
        },
        "id": "gKn6Q3jienjd",
        "outputId": "1d8a01da-a6de-459b-8b2d-4203befcbdf6"
      },
      "execution_count": 14,
      "outputs": [
        {
          "output_type": "execute_result",
          "data": {
            "text/plain": [
              "[2, 1, 1, 0]"
            ]
          },
          "metadata": {},
          "execution_count": 14
        }
      ]
    },
    {
      "cell_type": "markdown",
      "source": [
        "# 최적화 버전 -> 잘 공부하자"
      ],
      "metadata": {
        "id": "kDwJX_26kXMc"
      }
    },
    {
      "cell_type": "code",
      "source": [
        "def solution(id_list, report, k):             #최적화 버전 by gpt 잘 공부할것 , 깔끔하다\n",
        "    report = list(set(report))  # 중복 제거\n",
        "\n",
        "    # 신고 횟수를 기록할 딕셔너리와 각 유저가 받을 메일 수를 기록할 딕셔너리 초기화\n",
        "    reported_dict = {user: 0 for user in id_list}  #유저(전체유저 포함) : 신고당한 횟수 (0 초기값)\n",
        "    people_and_mail = {user: 0 for user in id_list} #전체유저 : 메일받은 횟수\n",
        "\n",
        "    # 신고자 및 신고된 사람을 분리하여 기록\n",
        "    for entry in report:\n",
        "        reporter, reported = entry.split()\n",
        "        reported_dict[reported] += 1   # 이렇게 하면 중복 제어 가능\n",
        "\n",
        "    # 신고 횟수가 k 이상인 유저들을 신고한 사람에게 메일 발송 횟수 추가\n",
        "    for entry in report:\n",
        "        reporter, reported = entry.split()\n",
        "        if reported_dict[reported] >= k:\n",
        "            people_and_mail[reporter] += 1\n",
        "\n",
        "    # 최종적으로 id_list 순서대로 메일 발송 횟수 반환\n",
        "    return [people_and_mail[user] for user in id_list]"
      ],
      "metadata": {
        "id": "rdBJaYY6e7sF"
      },
      "execution_count": 13,
      "outputs": []
    },
    {
      "cell_type": "markdown",
      "source": [
        "# 강사님 버전"
      ],
      "metadata": {
        "id": "kisc3-PXuKiA"
      }
    },
    {
      "cell_type": "code",
      "source": [
        "def solution(id_list, report, k):\n",
        "    answer = [0] * len( id_list)\n",
        "    reported_dict = {}\n",
        "    for id in id_list:\n",
        "        reported_dict[id] = set([]) # ******************\n",
        "    for report_pair in report: # \"A b\"\n",
        "        reporter = report_pair.split(\" \")[0] # \"A\"\n",
        "        reported = report_pair.split(\" \")[1] # \"b\"\n",
        "        reported_dict[reported].add(reporter) #**********\n",
        "    k_reported = []\n",
        "    for key_id, v in reported_dict.items():\n",
        "        if len(v) >=k:\n",
        "            k_reported.append( key_id)\n",
        "    for ban_id in k_reported:\n",
        "        # 정지먹은 id를 신고한 사람\"들\"\n",
        "        mail_res_ids = reported_dict[ban_id] # [\"muzi\",\"neo\"]\n",
        "        # 신고한 id들을 돌려가면서 메일 발송 : +1 갱신\n",
        "        for id in mail_res_ids:\n",
        "            id_index = id_list.index(id)\n",
        "            answer[id_index] += 1\n",
        "\n",
        "    return answer"
      ],
      "metadata": {
        "id": "IBw4_bpluMrq"
      },
      "execution_count": null,
      "outputs": []
    }
  ]
}