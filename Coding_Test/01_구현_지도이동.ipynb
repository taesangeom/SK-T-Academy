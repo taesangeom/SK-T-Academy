{
  "nbformat": 4,
  "nbformat_minor": 0,
  "metadata": {
    "colab": {
      "provenance": [],
      "authorship_tag": "ABX9TyPyQxTFNLh/7k3P0jlBDuDi",
      "include_colab_link": true
    },
    "kernelspec": {
      "name": "python3",
      "display_name": "Python 3"
    },
    "language_info": {
      "name": "python"
    }
  },
  "cells": [
    {
      "cell_type": "markdown",
      "metadata": {
        "id": "view-in-github",
        "colab_type": "text"
      },
      "source": [
        "<a href=\"https://colab.research.google.com/github/taesangeom/SK-T-Academy/blob/main/Coding_Test/01_%EA%B5%AC%ED%98%84_%EC%A7%80%EB%8F%84%EC%9D%B4%EB%8F%99.ipynb\" target=\"_parent\"><img src=\"https://colab.research.google.com/assets/colab-badge.svg\" alt=\"Open In Colab\"/></a>"
      ]
    },
    {
      "cell_type": "code",
      "execution_count": null,
      "metadata": {
        "id": "SvkIqeKcGjcW"
      },
      "outputs": [],
      "source": [
        "# 주제 : 구현\n",
        "# ---> 주어진 문제들을 코드로 작성하는 것이 핵심!! 구현!\n",
        "#      (특별한 알고리즘을 적용하지 않는 유형을 보통 구현)\n",
        "#      [ 넓게 보면 코테 문제가 다 구현!! ]\n",
        "# ---> 특정 유형은 잘 없음!!! 그냥 주어진 대로 풀면 됨!!!\n",
        "# ---> 유형 중 하나가 평면상 이동!! 여러 응용이 가능한,,\n",
        "#                                   탐색/ 최단거리\n",
        "\n",
        "# 문제 상황!!\n",
        "# 1) 좌표를 도입하면 편할 것!!\n",
        "#   --> 수학시간의 좌표세팅과는 조금 다르니,,\n",
        "#       문제에서 주어진 대로 하시면 어떨까....\n",
        "# 2) N크기의 정사각형 ==> (1,1)~~~(N,N)정해져 있는 in\n",
        "# 3) 이동에 대한 처리 : 종류 4가지 정해짐(LRUD)\n",
        "#    ==> 코드화 : 좌표상에서 이동에 대한 코드화!!!!\n",
        "#    임의의(x,y)에 있을 때\n",
        "#    L: (x, y-1)\n",
        "#    R: (x, y+1)\n",
        "#    U: (x-1, y)\n",
        "#    D: (x+1, y)\n",
        "# ==> 이 부분을 어떻게 파이썬으로 할지는 여러 스타일이 있음!\n",
        "# 4) 전체 흐름\n",
        "#    --> 주어진 지시사항을 다 수행을 해야함 ( for )\n",
        "#        ===> 체크 : 지시사항대로 움직인다면,,,IN존재 하느냐!!( if)\n",
        "#                   : Yes ==> 있는 위치의 좌표값을 갱신!!!\n",
        "#                             (단, 지시사항에 맞는 갱신!)\n",
        "#    --> 지시사항을 다 하고 나서, 있는 위치 좌표 출력!\n",
        "\n",
        "#    ==> 코드화 : 좌표상에서 이동에 대한 코드화!!!!\n",
        "#    임의의(x,y)에 있을 때\n",
        "#    L: (x, y-1)\n",
        "#    R: (x, y+1)\n",
        "#    U: (x-1, y)\n",
        "#    D: (x+1, y)\n",
        "# ---> 증감에 대한 갱신의 관점으로 다시 표현!!!!!!\n",
        "#      나중 = 지금 + 얼마 변해서  ( n = n + 1)\n",
        "# (x, y)  --> L (x,y) + (0,-1) = (x+0, y-1)\n",
        "#         --> R (x,y) + (0,+1) = (x+0, y+1)\n",
        "#         --> U (x,y) + (-1, 0) = (x-1, y+0)\n",
        "#         --> D (x,y) + (+1, 0) = (x+1, y+0)"
      ]
    },
    {
      "cell_type": "code",
      "source": [
        "# Style1) 이동에 대한 부분을 dict 자료형 코드화\n",
        "move_dict = {\n",
        "    \"L\" : [0,-1],\n",
        "    \"R\" : [0,1],\n",
        "    \"U\" :[-1,0],\n",
        "    \"D\" : [1,0]\n",
        "}\n",
        "move_dict"
      ],
      "metadata": {
        "colab": {
          "base_uri": "https://localhost:8080/"
        },
        "id": "AAKj0JFUIpSx",
        "outputId": "d3f34c9b-e73d-47ab-8257-c4a8bc062ab0"
      },
      "execution_count": null,
      "outputs": [
        {
          "output_type": "execute_result",
          "data": {
            "text/plain": [
              "{'L': [0, -1], 'R': [0, 1], 'U': [-1, 0], 'D': [1, 0]}"
            ]
          },
          "metadata": {},
          "execution_count": 1
        }
      ]
    },
    {
      "cell_type": "code",
      "source": [
        "# 지시사항을 key로 세팅을 했기에,,이동할 부분에 대한 정보..\n",
        "move_dict[\"L\"]"
      ],
      "metadata": {
        "colab": {
          "base_uri": "https://localhost:8080/"
        },
        "id": "nhTwYVMIIuPQ",
        "outputId": "ee00caf1-5d59-4d5b-e07d-4377b3835047"
      },
      "execution_count": null,
      "outputs": [
        {
          "output_type": "execute_result",
          "data": {
            "text/plain": [
              "[0, -1]"
            ]
          },
          "metadata": {},
          "execution_count": 2
        }
      ]
    },
    {
      "cell_type": "code",
      "source": [
        "# L자 이동에 대한 x, y의 변동사항..\n",
        "print( move_dict[\"L\"][0])\n",
        "print( move_dict[\"L\"][1])"
      ],
      "metadata": {
        "colab": {
          "base_uri": "https://localhost:8080/"
        },
        "id": "Zk5J-1QVIxUI",
        "outputId": "8140ce6c-f2a7-4d18-b227-a73a08909c26"
      },
      "execution_count": null,
      "outputs": [
        {
          "output_type": "stream",
          "name": "stdout",
          "text": [
            "0\n",
            "-1\n"
          ]
        }
      ]
    },
    {
      "cell_type": "code",
      "source": [
        "# 예) 지금(3,4)에 위치하고 있고,\n",
        "#     L지시항으로 이동을 하면 어디로 갈까요?\n",
        "#     (가정 : in)\n",
        "(3 +move_dict[\"L\"][0] ,4+move_dict[\"L\"][1])"
      ],
      "metadata": {
        "colab": {
          "base_uri": "https://localhost:8080/"
        },
        "id": "EOXQDZbLI--A",
        "outputId": "f02907c7-3618-4013-c680-be22e6b6e4b3"
      },
      "execution_count": null,
      "outputs": [
        {
          "output_type": "execute_result",
          "data": {
            "text/plain": [
              "(3, 3)"
            ]
          },
          "metadata": {},
          "execution_count": 4
        }
      ]
    },
    {
      "cell_type": "code",
      "source": [
        "### ==> 간단하게 큰 틀로 접근을 하겠습니다.\n",
        "# 1) 주어진 입력 사항에 대한 세팅!!!\n",
        "n = 5\n",
        "plans = [\"R\",\"R\",\"R\",\"U\",\"D\",\"D\"]\n",
        "\n",
        "# 2) 초기 값에 대한 세팅이 필요하면 해야 함!!!\n",
        "# ==> position (x,y)좌표 세팅 : (x,y) // x, y etc\n",
        "x, y = 1,1\n",
        "# pos = (1,1)\n",
        "# 참고) 1,1로 초기화 한 이유 : 시작 좌표가 (1,1)\n",
        "\n",
        "# 3) 이동에 대한 규칙화 --> dict / list / 여러 스타일...\n",
        "move_dict = {\"L\" : [0,-1], \"R\" : [0,1], \"U\" :[-1,0],\"D\" : [1,0]}\n",
        "# ---> 문제 상황 세팅 끝!!!\n",
        "\n",
        "# 4) 본격적인 문제 해결 단계 코드!!!\n",
        "# 이 문제의 가장 큰 틀 : 입력으로 받은 plans값들을 다 돌려가면서,,\n",
        "#                      --> 그 해당하는 plan으로 좌표를 이동을 해봐야 함!\n",
        "#                      --> but ) if 인 /아웃이냐 판별!!!\n",
        "#                                인바운드로 이동이 가능할 때만\n",
        "#                                     : 이동하는 룰에 따라서 좌표값 갱신!!!\n",
        "for plan in plans : # 지시사항대로 수행하기..\n",
        "    # 지금 위치에서 지시사항대로 움직인다면,,어디로 갈지 정보!\n",
        "    # 주의!!!) 바로 나의 위치 정보 갱신하면 X\n",
        "    next_x = x + move_dict[plan][0]\n",
        "    next_y = y + move_dict[plan][1]\n",
        "    # ==> 시킨대로 이동했을 때의 좌표값\n",
        "    # 잠시!!! 니가 이동이 가능한지 검사좀 하겠습니다!!!!! in/out\n",
        "    # ==> 찐으로 이동이 가능한지 여부 체크!!!!!!\n",
        "    # 연습용으로 아웃바운드로 체크..\n",
        "    if next_x <1 or next_x > n or next_y <1 or next_y>n:\n",
        "        # 아웃바운드!!!\n",
        "        continue # --> for문을 다음 값으로 롤링 해주세요!!!!!\n",
        "        # 다음 지시사항을 받기 위해서 사용...\n",
        "    else : # 인바운드 -=-> 이동이 가능한!!!!!!\n",
        "        # 할 일은 : 진짜 이동하면 됨!!!!\n",
        "        # => 좌표값을 룰에 맞춰서 갱신!!!!\n",
        "        x, y = next_x, next_y\n",
        "\n",
        "print(x,y)"
      ],
      "metadata": {
        "colab": {
          "base_uri": "https://localhost:8080/"
        },
        "id": "-ZimcLFqKXTe",
        "outputId": "38d71715-f112-427f-e250-78c716b5ce6a"
      },
      "execution_count": null,
      "outputs": [
        {
          "output_type": "stream",
          "name": "stdout",
          "text": [
            "3 4\n"
          ]
        }
      ]
    },
    {
      "cell_type": "code",
      "source": [
        "### 코드 정리 -> 딕셔너리 활용\n",
        "n = 5\n",
        "plans = [\"R\",\"R\",\"R\",\"U\",\"D\",\"D\"]\n",
        "x, y = 1,1\n",
        "move_dict = {\"L\" : [0,-1], \"R\" : [0,1], \"U\" :[-1,0],\"D\" : [1,0]}\n",
        "\n",
        "for plan in plans : # 지시사항대로 수행하기..\n",
        "    next_x = x + move_dict[plan][0]\n",
        "    next_y = y + move_dict[plan][1]\n",
        "    if next_x <1 or next_x > n or next_y <1 or next_y>n:\n",
        "        continue # --> for문을 다음 값으로 롤링 해주세요!!!!!\n",
        "    else : # 인바운드 -=-> 이동이 가능한!!!!!!\n",
        "        x, y = next_x, next_y\n",
        "print(x,y)"
      ],
      "metadata": {
        "colab": {
          "base_uri": "https://localhost:8080/"
        },
        "id": "ScgSyU0AeGAi",
        "outputId": "d54967be-8129-4442-c1a2-c5843e0c1cd2"
      },
      "execution_count": null,
      "outputs": [
        {
          "output_type": "stream",
          "name": "stdout",
          "text": [
            "3 4\n"
          ]
        }
      ]
    },
    {
      "cell_type": "code",
      "source": [
        "# 분해 방식 / 이동범위, dx, dy\n",
        "\n",
        "move_types = [\"L\",\"R\",\"U\",\"D\"]\n",
        "dx         = [0,   0, -1,  1]\n",
        "dy         = [-1,  1,  0,  0]"
      ],
      "metadata": {
        "id": "xizwRvf2fDjR"
      },
      "execution_count": null,
      "outputs": []
    },
    {
      "cell_type": "code",
      "source": [
        "idx = 1\n",
        "print(move_types[idx])\n",
        "print(dx[idx])\n",
        "print(dy[idx])"
      ],
      "metadata": {
        "colab": {
          "base_uri": "https://localhost:8080/"
        },
        "id": "J1m020clfTOP",
        "outputId": "fbc86551-620d-497e-9365-74fbaef48b24"
      },
      "execution_count": null,
      "outputs": [
        {
          "output_type": "stream",
          "name": "stdout",
          "text": [
            "R\n",
            "0\n",
            "1\n"
          ]
        }
      ]
    },
    {
      "cell_type": "code",
      "source": [
        "# ( 3,4)에 현재 위치하고 있다고 하면,,,\n",
        "# L로 이동을 한다면,,,,어디로 좌표가 움직일까요?\n",
        "# ---> L이 몇 번째 정수인덱스냐?\n",
        "idx = 0 # 내가 위에서 그렇게 순서대로 세팅을 했으니...\n",
        "3+dx[idx], 4+dy[idx]"
      ],
      "metadata": {
        "colab": {
          "base_uri": "https://localhost:8080/"
        },
        "id": "zE2fGPl-f8t2",
        "outputId": "e4faf8c2-516d-4588-856f-9f1f0eb45339"
      },
      "execution_count": null,
      "outputs": [
        {
          "output_type": "execute_result",
          "data": {
            "text/plain": [
              "(3, 3)"
            ]
          },
          "metadata": {},
          "execution_count": 9
        }
      ]
    },
    {
      "cell_type": "code",
      "source": [
        "# 참고) [\"L\",\"R\",\"U\",\"D\"] 원하는 리스트의 값을 중심으로\n",
        "#       위치 정보를 찾는 기능 : 파이썬이 --> 메서드\n",
        "# --> 중복된 원소들이 있다면,,가장 앞에 있는 인덱스만 반환!!\n",
        "[\"L\",\"R\",\"U\",\"D\"].index(\"L\")"
      ],
      "metadata": {
        "colab": {
          "base_uri": "https://localhost:8080/"
        },
        "id": "KxB-KDAvhxat",
        "outputId": "2c709599-458c-4ca9-c579-a645a159200a"
      },
      "execution_count": null,
      "outputs": [
        {
          "output_type": "execute_result",
          "data": {
            "text/plain": [
              "0"
            ]
          },
          "metadata": {},
          "execution_count": 10
        }
      ]
    },
    {
      "cell_type": "code",
      "source": [
        "# 구현\n",
        "### 코드 정리\n",
        "n = 5\n",
        "plans = [\"R\",\"R\",\"R\",\"U\",\"D\",\"D\"]\n",
        "x, y = 1,1\n",
        "#move_dict = {\"L\" : [0,-1], \"R\" : [0,1], \"U\" :[-1,0],\"D\" : [1,0]}\n",
        "move_types = [\"L\",\"R\",\"U\",\"D\"]\n",
        "dx         = [0,   0, -1,  1]\n",
        "dy         = [-1,  1,  0,  0]\n",
        "\n",
        "for plan in plans : # 지시사항대로 수행하기..\n",
        "    # +++ 지시사항에 대한 정수 인덱스를 찾아야!!!!\n",
        "    # m1) move_types.index(plan)\n",
        "    # m2) 그냥 탐색으로 돌리겠습니다..\n",
        "    for i in range( len(move_types)) : # 상수!!! 4개-->0,1,2,3\n",
        "        # 어떤 지시 사항인지 찾아야 함 == 필터링\n",
        "        if plan == move_types[i]: # for문의 인덱스로 값이 일치하는지 체크\n",
        "            next_x = x + dx[i]\n",
        "            next_y = y + dy[i]\n",
        "\n",
        "\n",
        "    # next_x = x + move_dict[plan][0]\n",
        "    # next_y = y + move_dict[plan][1]\n",
        "    if next_x <1 or next_x > n or next_y <1 or next_y>n:\n",
        "        continue # --> for문을 다음 값으로 롤링 해주세요!!!!!\n",
        "    else : # 인바운드 -=-> 이동이 가능한!!!!!!\n",
        "        x, y = next_x, next_y\n",
        "print(x,y)\n"
      ],
      "metadata": {
        "colab": {
          "base_uri": "https://localhost:8080/"
        },
        "id": "jOgFVj0chzl1",
        "outputId": "4fa71187-f25c-4ba6-bad7-17ca08a1ad5b"
      },
      "execution_count": null,
      "outputs": [
        {
          "output_type": "stream",
          "name": "stdout",
          "text": [
            "3 4\n"
          ]
        }
      ]
    },
    {
      "cell_type": "code",
      "source": [
        "# 두가지 방식-> dict,list 방식도 잘 알아두어라\n",
        "\n",
        "# 풀 코드 구현 (코테형)\n",
        "\n",
        "# ++ 입력부분에 대한 수정을 하겠습니다.\n",
        "n = int(input(\"지도 크기를 입력하세요 max=100, min=1\"))\n",
        "plans = input(\"지시사항을입력하세요\").split(\" \")\n",
        "\n",
        "# --> 위에 구현한 코드 그대로 가지고 와서 처리!!!!\n",
        "x, y = 1,1\n",
        "move_dict = {\"L\" : [0,-1], \"R\" : [0,1], \"U\" :[-1,0],\"D\" : [1,0]}\n",
        "\n",
        "for plan in plans:\n",
        "  next_x=x+move_dict[plan][0]\n",
        "  next_y-y+move_dict[plan][1]\n",
        "\n",
        "  if next_x <1 or next_x > n or next_y <1 or next_y>n:\n",
        "        continue # --> for문을 다음 값으로 롤링 해주세요!!!!!\n",
        "  else : # 인바운드 -=-> 이동이 가능한!!!!!!\n",
        "        x, y = next_x, next_y\n",
        "print(x,y)\n"
      ],
      "metadata": {
        "colab": {
          "base_uri": "https://localhost:8080/"
        },
        "id": "yWOVrnbdiE5t",
        "outputId": "d8dba687-031f-4363-da9b-ae378695cf04"
      },
      "execution_count": null,
      "outputs": [
        {
          "output_type": "stream",
          "name": "stdout",
          "text": [
            "지도 크기를 입력하세요 max=100, min=15\n",
            "지시사항을입력하세요R R D D L U L\n",
            "2 1\n"
          ]
        }
      ]
    },
    {
      "cell_type": "code",
      "source": [
        "#내 방식 (노가다)\n",
        "\n",
        "\n",
        "def mapmoving():\n",
        "  n=int(input(\"N값을 입력하세요\"))\n",
        "  way=input(\"이동방향을 공백을 기준으로 입력하세요\")\n",
        "  way=way.split()\n",
        "  if n<1 or n>100:\n",
        "    return\n",
        "  elif len(way)<1 or len(way)>100:\n",
        "    return\n",
        "  else:\n",
        "    pass\n",
        "\n",
        "  x=1\n",
        "  y=1\n",
        "\n",
        "  for i in way:\n",
        "    if i==\"R\":\n",
        "      if y+1<=n:\n",
        "        y+=1\n",
        "    elif i==\"L\":\n",
        "      if y-1>=1:\n",
        "        y-=1\n",
        "    elif i==\"U\":\n",
        "      if x-1>=1 :\n",
        "        x-=1\n",
        "    elif i==\"D\":\n",
        "      if x+1<=n:\n",
        "        x+=1\n",
        "    else:\n",
        "      pass\n",
        "\n",
        "  print(x,y)"
      ],
      "metadata": {
        "id": "uCDTzVsZGjyS"
      },
      "execution_count": null,
      "outputs": []
    },
    {
      "cell_type": "code",
      "source": [
        "mapmoving()"
      ],
      "metadata": {
        "colab": {
          "base_uri": "https://localhost:8080/"
        },
        "id": "chrz7FJHjIWd",
        "outputId": "416e2205-5fd3-44aa-a8e0-487fd58cf46b"
      },
      "execution_count": null,
      "outputs": [
        {
          "output_type": "stream",
          "name": "stdout",
          "text": [
            "N값을 입력하세요5\n",
            "이동방향을 공백을 기준으로 입력하세요R U D D L L D\n",
            "4 1\n"
          ]
        }
      ]
    },
    {
      "cell_type": "code",
      "source": [
        "# 1. 문제 상황을 이해!!!! + 분석!!!!\n",
        "# 2. 문제 주어진 조건들을 어떻게 표현할까!!!!\n",
        "#    => 파이썬 자료형, 세팅,\n",
        "#    => 세팅/자료형에 맞는 표현/규칙!!\n",
        "# 3. 코드의 큰 틀을 생각하면서 하나씩 구현!!!!\n",
        "#    + 하다보면 빠지거나 코드 수정하면서 완성해 나가시면 됨!!!\n",
        "#    + 파이썬의 여러 자료형들의 잡다한 기능을 알면\n",
        "#      코드가 편할 수 있다는 점!!!!\n",
        "# 4. 이런 평면에서 움직일 때 표현 방식 : 좌표도입!!!!!\n",
        "#    좌표도입 --> 숫자 표현 --> 수식을 사용해서 주어진 상황을 코드화/규칙화\n",
        "#    꼭은 아니지만..."
      ],
      "metadata": {
        "id": "DkB_l8vDkn1U"
      },
      "execution_count": null,
      "outputs": []
    },
    {
      "cell_type": "code",
      "source": [
        "# 수업시간에 한 내용 이해+코드적인 기능 체크\n",
        "# 본인스타일로 코드 수정/작성"
      ],
      "metadata": {
        "id": "wC5l1A4vkqUk"
      },
      "execution_count": null,
      "outputs": []
    }
  ]
}