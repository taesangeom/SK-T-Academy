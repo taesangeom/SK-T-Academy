{
  "nbformat": 4,
  "nbformat_minor": 0,
  "metadata": {
    "colab": {
      "provenance": [],
      "authorship_tag": "ABX9TyPFdE04pCVlz/wOJkxfiiR+",
      "include_colab_link": true
    },
    "kernelspec": {
      "name": "python3",
      "display_name": "Python 3"
    },
    "language_info": {
      "name": "python"
    }
  },
  "cells": [
    {
      "cell_type": "markdown",
      "metadata": {
        "id": "view-in-github",
        "colab_type": "text"
      },
      "source": [
        "<a href=\"https://colab.research.google.com/github/taesangeom/SK-T-Academy/blob/main/Coding_Test/16_BFS%EC%B5%9C%EB%8B%A8%EA%B1%B0%EB%A6%AC.ipynb\" target=\"_parent\"><img src=\"https://colab.research.google.com/assets/colab-badge.svg\" alt=\"Open In Colab\"/></a>"
      ]
    },
    {
      "cell_type": "code",
      "execution_count": null,
      "metadata": {
        "id": "TTuuF0P6oNcX"
      },
      "outputs": [],
      "source": [
        "N,M,K,X=4,4,2,1\n",
        "dict_road={i:[] for i in range(1,N+1)}\n",
        "for(i in range(0,M)):\n",
        "    start,end=map(int,input.split())\n",
        "    dict_road[start].append(end)\n",
        "\n",
        "cnt=0\n",
        "def func(X,K,dict_road):\n",
        "    if dict_road[X]:  #재귀함수 쓰려고 했는데 딕셔너리에서 하나의 키에 대응되는 값들이 리스트라서 엄청난 중첩 반복문이 사용될 것으로 보임..\n",
        "\n"
      ]
    },
    {
      "cell_type": "code",
      "source": [
        "# 1) 앞에서 봤던 지도들과 다른 점 : 연결의 방향성이 있다!!!!\n",
        "# 2) 도시 사이의 연결이 단순 연결이 아니라 : 거리 정보 ==> 모두 1로 같다!!!\n",
        "# 참고) 최단 거리 : 최단거리 알고리즘 여러개가 있음!!!!\n",
        "#                   ==> 대표저거인 최단거리 알고리즘만 이야기를!!\n",
        "#                       BFS를 기반으로 하는 Dij(다익스트라아 알고리즘..)"
      ],
      "metadata": {
        "id": "LXnZIH67xjO4"
      },
      "execution_count": null,
      "outputs": []
    },
    {
      "cell_type": "code",
      "source": [
        "# 문제를 분석!!!\n",
        "# ==> 왜 이 문제가 탐색의 문제, + 왜 최단거리 문제...\n",
        "#     DFS/ BFS / 다른 방식.,..,...\n",
        "# ==> 최단거리 관련된 / 지나온 경로에 대한 문제들은 BFS 방식!!!!\n",
        "#     출발점 중심으로 체계적으로 접근/탐색을 하는 BFS가 효율!!!!\n",
        "#     거리/요금 : DFS vs BFS ===> BFS\n",
        "# 참고) 문제를 푸는 방식은 굉장히 여러가지 있음!!!\n",
        "\n",
        "# 입력 2번째 : 도로 연결에 대한 정보들을 받아야 함!!!\n",
        "# ==> m 변수의 값에 종속!!!!!!\n",
        "#     도시별로 연결성 인접리스트방식 표현!!!! ==> 구현: 파이썬 리스트\n",
        "#     문제상 도시는        1,2,3,,,,n\n",
        "#     파이썬 정수indx   (0)1,2,3,,,,n\n",
        "\n",
        "#출발점을 중심으로 순차적으로 단계별 진행이 필요 -> BFS"
      ],
      "metadata": {
        "id": "s-XRHy3DzOnv"
      },
      "execution_count": null,
      "outputs": []
    },
    {
      "cell_type": "code",
      "source": [
        "# ==> 출발점을 중심으로 순차적으로 단계별로 진행을 해야 : BFS방식!!!\n",
        "# BFS 기본 아이디어 :\n",
        "# - 할 일에 대한 것 : 그 도시에서 연결된 정보,,,,,==> 기존과 동일할 듯...\n",
        "# - 한 일에 대한 것 : 그냥 단순 방문순서는 큰 의미는 X\n",
        "#                     거리에 대한 정보를 기록하면 될 듯!!!\n",
        "#                     distance = [inf(0), inf(1), inf(2), inf(3), inf(4)]\n",
        "#                     출발점 x = 1 // q=[1]\n",
        "#                     distance = [inf(0), 0, inf(2), inf(3), inf(4)]\n",
        "# ///////////////////////////////////// 탐색 ///////////\n",
        "# 갈 곳 : 1 --> 2번\n",
        "#                     갔던 곳인지/새로운 곳인지 :\n",
        "#                          New판단 : 그 곳의 거리가 inf 인지 체크!!!\n",
        "#                              할 일 : 거리를 갱신(기존거리 + 1)\n",
        "#                               distance = [inf(0), 0, 0+1, inf(3), inf(4)]\n",
        "#                                      또 거기서 갈 수 있는 도시  할 일에 추가\n",
        "#                                        q.appen/extend( 3/4)\n",
        "# .......... 할 일 없을 때 까지......\n",
        "# ===> distance = [inf(0), 0, 1, 1, 2]\n",
        "#      distance.index(k) : distance 중에서 값이 k인 것 ==> 여러개를 처리 X\n",
        "#      distance에서 k인 값들을 모두 필터링!!!!!!!!!==> index만 정리해서 출력!!\n",
        "#      ==> LC + enumerate( v:필터링, i:정수인덱스 모아서 출력,,,/갯수)"
      ],
      "metadata": {
        "id": "qEJd0fqS3r9Q"
      },
      "execution_count": null,
      "outputs": []
    },
    {
      "cell_type": "code",
      "source": [
        "from collections import deque\n",
        "from math import inf"
      ],
      "metadata": {
        "id": "u8ZLI5864alf"
      },
      "execution_count": null,
      "outputs": []
    },
    {
      "cell_type": "code",
      "source": [
        "n,m,k,x = map(int, input(\"도시수,도루수,거리,출발점\").split(\" \")) #입력 1\n",
        "graph = [ [] for _ in range(n+1)]\n",
        "for i in range(m):\n",
        "    s,e=map(int,input().split()) #입력2 도시정보를 각각 딕셔너리가 아닌 이중 리스트 형태로 담은 것 / 가상도시 0은 비워진 상태\n",
        "    graph[s].append(e)\n",
        "\n",
        "need_visit=deque() #할일 -> 그대로\n",
        "distance=[inf for i in range(n+1)] #한일 -> 방문한 도시 -> 거리로 수정\n",
        "need_visit.append(x)  #할일 초기화 -> 시작점 삽입\n",
        "distance[x]=0  #한일 초기화 -> 시작점 거리 0\n",
        "while need_visit:\n",
        "    now=need_visit.popleft()\n",
        "    for next_node in graph[now]:\n",
        "        if distance[next_node]==inf:\n",
        "            distance[next_node]=distance[now]+1\n",
        "            need_visit.append(next_node)\n",
        "dis_k=[(city,dis) for city,dis in enumerate(distance) if dis==k]\n",
        "if len(dis_k)==0:\n",
        "    print(-1)\n",
        "else:\n",
        "    print([i[0] for i in dis_k])\n",
        "\n",
        "\n"
      ],
      "metadata": {
        "colab": {
          "base_uri": "https://localhost:8080/"
        },
        "id": "GPt-MVBSzP97",
        "outputId": "36206cc9-0941-4103-fd89-534d1e9730e2"
      },
      "execution_count": null,
      "outputs": [
        {
          "output_type": "stream",
          "name": "stdout",
          "text": [
            "도시수,도루수,거리,출발점4 4 2 1\n",
            "1 2\n",
            "1 3\n",
            "2 3\n",
            "2 4\n",
            "[4]\n"
          ]
        }
      ]
    },
    {
      "cell_type": "code",
      "source": [],
      "metadata": {
        "id": "0Epl4Yg0zTR1"
      },
      "execution_count": null,
      "outputs": []
    }
  ]
}