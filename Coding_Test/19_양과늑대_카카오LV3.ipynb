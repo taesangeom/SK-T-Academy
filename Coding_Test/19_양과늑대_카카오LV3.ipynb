{
  "nbformat": 4,
  "nbformat_minor": 0,
  "metadata": {
    "colab": {
      "provenance": [],
      "authorship_tag": "ABX9TyM0fu6/qVwXGMMCiJwcZSwa",
      "include_colab_link": true
    },
    "kernelspec": {
      "name": "python3",
      "display_name": "Python 3"
    },
    "language_info": {
      "name": "python"
    }
  },
  "cells": [
    {
      "cell_type": "markdown",
      "metadata": {
        "id": "view-in-github",
        "colab_type": "text"
      },
      "source": [
        "<a href=\"https://colab.research.google.com/github/taesangeom/SK-T-Academy/blob/main/Coding_Test/19_%EC%96%91%EA%B3%BC%EB%8A%91%EB%8C%80_%EC%B9%B4%EC%B9%B4%EC%98%A4LV3.ipynb\" target=\"_parent\"><img src=\"https://colab.research.google.com/assets/colab-badge.svg\" alt=\"Open In Colab\"/></a>"
      ]
    },
    {
      "cell_type": "code",
      "source": [
        "# 실제 이 문제의 정답률 : 7.76% , 5번 문제 정도 (6,7번은 손 못댈듯)\n",
        "# ==> 그래도 좀 쉬운 문제가 조금 더 뒤에 있을 수 있으니..\n",
        "#     문제 전체적으로 파악을 하고 보시는 것이 어떨까.....\n",
        "\n",
        "# 저의 접근 기본 탐색을 활용을 하려고 함!!!\n",
        "# ==> 이진트리탐색알고리즘X\n",
        "# ==> 전체 모든 것들을 다 탐색해서 풀어도 됨!!!!\n",
        "\n",
        "# 의도\n",
        "# 1) 일반적인 탐색을 해도 되는 유형인 것 같음 : 일반 탐색을 해도 되는!!!\n",
        "# 2) 세팅에 대한 부분을 어떻게 할까!!!!!!\n",
        "#     ==> 탐색의 기본적인 상황을 녹일까!!!!!!!!\n",
        "#   ***** 여러 문제들을 풀어봐야 함!!! *****\n",
        "#   ( 구현할 때 : 주어진 상황을 여러 자료형으로 세팅!!! )\n",
        "#   한 일/ 할 일에 대한 세팅적인 부분을 고민을 해야함!!!!\n",
        "#   ==> 그 때 그 때 달라요!!!!!!!! *** 여러 유형& 문제 풀이를 해야함!!!"
      ],
      "metadata": {
        "id": "cCHVACXEHdZg"
      },
      "execution_count": null,
      "outputs": []
    },
    {
      "cell_type": "code",
      "source": [
        "from collections import deque"
      ],
      "metadata": {
        "id": "57gtlH5LPxxc"
      },
      "execution_count": null,
      "outputs": []
    },
    {
      "cell_type": "code",
      "execution_count": null,
      "metadata": {
        "id": "RgXiR2mIAvTT"
      },
      "outputs": [],
      "source": [
        "#내 틀 + 강사님 버전 -> 새로운 아이디어 -> 아직 이해 완전 안됨 -> 월요일에 다시 수정하고, 이해하고, 그때 깃에 push 하자, 현재 통과가 안됨.\n",
        "\n",
        "def solution(info, edges):\n",
        "    answer=0 # 지금까지 모인 양의 최댓값\n",
        "    edge_dict={i:[] for i in range(len(info))}\n",
        "    for edge in edges:\n",
        "        edge_dict[edge[0]].append(edge[1])\n",
        "    need=deque([[0,edge_dict[0],1,0]]) #할 일 / 하나의 원소가 [노드번호,[이동가능노드들],양,늑대]  , 세팅\n",
        "\n",
        "    while need:  #탐색의 구조\n",
        "        now_node,move_nodes,sheep,wolf=need.popleft()\n",
        "        #기존 양의 수보다 지금 경로의 양의 수가 많다면 갱신\n",
        "        if answer<sheep:\n",
        "            answer=sheep # 최고 숫자 갱신 (도장)\n",
        "        for i,node in enumerate(move_nodes):\n",
        "            if info[node]==1: #늑대가 있음\n",
        "                if sheep>wolf+1:\n",
        "                    need.append([node,move_nodes[:i]+move_nodes[i+1:]+edge_dict[node],sheep,wolf+1])  #move_nodes는 연결된 노드 집합, 즉 지금 node 빼고 다른 연결된 노드들과\n",
        "                                                                                                      # 지금 node에 연결된 다른 노드들 할일에 집어넣기\n",
        "                else:\n",
        "                    need.append([node,move_nodes[:i]+move_nodes[i+1:]+edge_dict[node],sheep+1,wolf])\n",
        "\n",
        "    return answer\n",
        "\n",
        "\n"
      ]
    },
    {
      "cell_type": "code",
      "source": [
        "solution([0,0,1,1,1,0,1,0,1,0,1,1],[[0,1],[1,2],[1,4],[0,8],[8,7],[9,10],[9,11],[4,3],[6,5],[4,6],[8,9]])\n"
      ],
      "metadata": {
        "colab": {
          "base_uri": "https://localhost:8080/"
        },
        "id": "Ww2MoucHMufc",
        "outputId": "4d0910da-2865-4ea8-fd71-47a3c3155de7"
      },
      "execution_count": null,
      "outputs": [
        {
          "output_type": "execute_result",
          "data": {
            "text/plain": [
              "2"
            ]
          },
          "metadata": {},
          "execution_count": 7
        }
      ]
    },
    {
      "cell_type": "code",
      "source": [
        "# ++++ 남은 대표 유형 중 하나가 : 수학적인 경우의 수 문제를 탐색으로 푸는 경우!!\n",
        "# ===:> 2022년 4번 문제(양궁 문제 )\n",
        "\n",
        "# ++ sql // 클래스 간단한 설명, 경우의 수 문제 , 최단거리(다익스트라 알고리즘)\n",
        "# ===> 주말에 꼭!!! 지금까지 했던 것들 리뷰!!!!\n",
        "#      (level_0문제들은 꼭!!!숙지하셔야 함!!!! )\n",
        "# ///////////////////////////////////////////////////////////////////////\n",
        "# ==> 코테들은 취업 하실려면 필요하기에,,,하실 수 있는 만큼 리뷰/복습하시면 좋을 것 같음!!!\n",
        "\n",
        "\n",
        "# 다음 주 : 월/화 파이썬 평가 문제(했던거)"
      ],
      "metadata": {
        "id": "hH5w4lcgYkvB"
      },
      "execution_count": null,
      "outputs": []
    }
  ]
}