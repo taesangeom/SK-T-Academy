{
  "nbformat": 4,
  "nbformat_minor": 0,
  "metadata": {
    "colab": {
      "provenance": [],
      "authorship_tag": "ABX9TyNHcNHamFdbdozg+UaoFhob",
      "include_colab_link": true
    },
    "kernelspec": {
      "name": "python3",
      "display_name": "Python 3"
    },
    "language_info": {
      "name": "python"
    }
  },
  "cells": [
    {
      "cell_type": "markdown",
      "metadata": {
        "id": "view-in-github",
        "colab_type": "text"
      },
      "source": [
        "<a href=\"https://colab.research.google.com/github/taesangeom/SK-T-Academy/blob/main/Coding_Test/17_%ED%83%90%EC%83%89_%EB%AF%B8%EB%A1%9C%ED%83%90%EC%83%89%EB%AC%B8%EC%A0%9C.ipynb\" target=\"_parent\"><img src=\"https://colab.research.google.com/assets/colab-badge.svg\" alt=\"Open In Colab\"/></a>"
      ]
    },
    {
      "cell_type": "code",
      "execution_count": null,
      "metadata": {
        "id": "nL_NjYVzDIEu"
      },
      "outputs": [],
      "source": [
        "# 문제 : 미로 탐색 문제\n",
        "\n",
        "# 문제 경로 : https://www.acmicpc.net/problem/2178\n",
        "\n",
        "# 기본적인DFS/BFS --> k거리도시문제 --> 미로 탐색 문제!!!\n",
        "\n",
        "# BFS 사용해됨 -> 최소거리 즉 DFS는 막히면 돌아가기 때문에 적절치 않음\n",
        "#        + 앞에서 했던 구현에서 평면상에서 LRUD에 대한 움직임!!!!\n",
        "#        + 다 해보기에 : 탐색에 대한 기본 내용!!\n",
        "#        + 제일 짧은 거리 : 최소 거리 문제 고민!!!!\n",
        "# ===> 판대기 : 지도가 아니라 2D 평면 미로판!!!!!\n",
        "#      할 일 // 한 일 세팅을 어찌할지에 대한 고민!!!!!\n",
        "\n",
        "# 분석 : 2차원에 평면상의 움직임 + 모든 경우에 수  + 최단거리\n",
        "# ===> 2차원 평면상의 움직임 : LRUD 구현에서 했던 방식!!!!!!\n",
        "#      ( in / out : 부등식을 사용하면 용이)\n",
        "# ===> 탐색 : 기존에 한 일에 대한 세팅 : 도시 최단거리 문제 스타일\n",
        "#                                        ++ 주어진 2차원에서 처리!!!!\n",
        "#                                        ++ 기존 지도에 갱신!!!!!!!!!\n",
        "#             + DFS(X) : 갔다가 오는 번거로운 일이 발생\n",
        "#             + BFS(0) : 순차적으로 출발점을 기준으로 한 걸음씩 진행!!!!\n",
        "#                      : 자료 처리 방식 queue사용 ==> deque\n"
      ]
    },
    {
      "cell_type": "code",
      "source": [
        "from collections import deque\n",
        "\n",
        "#0,0 부터 시작 n-1,m-1까지\n",
        "n,m=map(int,input().split(\" \"))\n",
        "mapp=[] #열림/닫힘 표\n",
        "for i in range(n):\n",
        "    row=list(map(int,input()))\n",
        "    mapp.append(row)\n",
        "move={\"L\":[0,-1],\"R\":[0,+1],\"U\":[-1,0],\"D\":[+1,0]}\n",
        "pos=deque() # 할일 -> 포지션\n",
        "dis=[[0 for i in range(m)] for j in range(n)] # 한일 거리로 갱신\n",
        "pos.append([0,0])  #초기값 초기화\n",
        "dis[0][0]=1\n",
        "\n",
        "while pos:  #할 일이 다 없을때까지\n",
        "    x,y=pos.popleft()  #bfs 아이디어 fifo\n",
        "    for i in move:\n",
        "        next_x=x+move[i][0]  #LRUD 이동문제에서 영감\n",
        "        next_y=y+move[i][1]\n",
        "        if 0<=next_x<n and 0<=next_y<m: #map 밖으로 벗어나지 않는다\n",
        "            if mapp[next_x][next_y]==1 and dis[next_x][next_y]==0: #열려있고, 아직 방문하지 않은 노드\n",
        "                pos.append([next_x,next_y])\n",
        "                dis[next_x][next_y]=dis[x][y]+1\n",
        "print(dis[n-1][m-1]) # 문제에서는 n,m 여기서는 1씩 땡김\n",
        "\n",
        "\n"
      ],
      "metadata": {
        "colab": {
          "base_uri": "https://localhost:8080/"
        },
        "id": "OI8V-xDhHDTq",
        "outputId": "73b236a7-1a64-42e6-fd1f-2e83f2b15769"
      },
      "execution_count": null,
      "outputs": [
        {
          "output_type": "stream",
          "name": "stdout",
          "text": [
            "4 6\n",
            "101111\n",
            "101010\n",
            "101011\n",
            "111011\n",
            "15\n"
          ]
        }
      ]
    },
    {
      "cell_type": "code",
      "source": [
        "# 정리\n",
        "# --> 기본적인 탐색 : DFS vs BFS\n",
        "# --> 기본이 되는 문제들 : 2차 평면상의 움직 지도 문제 + k도시 탐색(최단거리)\n",
        "# ==> 판대기를 2차원 평면!!!! : 판대기가 다양하게 세팅이 될 수 있구나!!!\n",
        "#                               ( 지도는 한 종류 중 하나임!! )\n",
        "# ==> 판대기에 맞춰서 할 일에 대한 세팅!! ( 여기서는 좌표 )\n",
        "#                     한 일에 대한 세팅!! (따로 기록, 판대기에 직접 기록 )\n",
        "#                                         case by case\n",
        "# ** 어려운 문제들은 잘 보일 수 있음!!!!!!!\n",
        "# ===> 여러 유형을 풀고// 스스로 유형별 정리 // 본인만의 기준!!!!"
      ],
      "metadata": {
        "id": "H-j7RBjqnoqW"
      },
      "execution_count": null,
      "outputs": []
    }
  ]
}