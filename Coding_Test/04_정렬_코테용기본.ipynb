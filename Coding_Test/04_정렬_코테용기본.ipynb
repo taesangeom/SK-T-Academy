{
  "nbformat": 4,
  "nbformat_minor": 0,
  "metadata": {
    "colab": {
      "provenance": [],
      "authorship_tag": "ABX9TyOkCnVjHJE+0GU2BTvn40Ls",
      "include_colab_link": true
    },
    "kernelspec": {
      "name": "python3",
      "display_name": "Python 3"
    },
    "language_info": {
      "name": "python"
    }
  },
  "cells": [
    {
      "cell_type": "markdown",
      "metadata": {
        "id": "view-in-github",
        "colab_type": "text"
      },
      "source": [
        "<a href=\"https://colab.research.google.com/github/taesangeom/SK-T-Academy/blob/main/Coding_Test/04_%EC%A0%95%EB%A0%AC_%EC%BD%94%ED%85%8C%EC%9A%A9%EA%B8%B0%EB%B3%B8.ipynb\" target=\"_parent\"><img src=\"https://colab.research.google.com/assets/colab-badge.svg\" alt=\"Open In Colab\"/></a>"
      ]
    },
    {
      "cell_type": "markdown",
      "source": [
        "#정렬"
      ],
      "metadata": {
        "id": "_L6-kjNTZlv4"
      }
    },
    {
      "cell_type": "code",
      "source": [
        "#코테 정렬은 마지막 1-2줄임\n",
        "\n",
        "# 주제 : 정렬\n",
        "# ==> 코테용 vs 실제 대면면접/기본 내용들과 차이점!!!\n",
        "# 코테용 : 정렬과 관련된 개별적인 알고리즘은 주된 내용을 아님!!\n",
        "#        ==> 정렬만의 문제는 별로 없음!!!!!\n",
        "#            맨 마지막의 출력용./ 중간에 필요한 정도\n",
        "#        ==> 핵심 : 내가 원하는 대로 정렬 규칙을 세팅!!!\n",
        "#                 + 필요한 자료형을 구성/설정!!!!\n",
        "#                 (정렬을 하기위한 필요한 정보들을 어떻게 세팅!)\n",
        "# 실제 대면 면접 : 기본적인 정렬 알고리즘의 차이& 코드 구현!!\n",
        "#       ==> 파이썬으로 구현하면 10줄 내외!!!!\n",
        "#       ==> for/index/ 규칙 : 코드의 기본 사항을 체크!!!\n",
        "#       ==> 알고리즘의 효율성이나 특징!!!\n",
        "# ----> 수업에서 하는 목적 : 파이썬을 가지고 꼼꼼하게 코드 구현\n"
      ],
      "metadata": {
        "id": "Jgcon8BvZnOf"
      },
      "execution_count": null,
      "outputs": []
    },
    {
      "cell_type": "code",
      "source": [
        "#### 파이썬을 가지고 정렬하는  기본 기능 #####\n",
        "# 파이썬을 가지고 정렬하는 경우 : 크게 2가지 방법!!!!\n",
        "# 1) 리스트.sort() 메서드 : 원본이 날라감!!!!\n",
        "# 2) 파이썬 자체의 sorted() 함수 : 원본은 유지가 됨!!!!\n",
        "#                                  변경된 결과는 따로 할당!!!\n",
        "# ===> 공통점 : 사용법이 동일!!!!\n",
        "\n",
        "# **** 중요한 점 ****\n",
        "# 위의 2가지 기능을 사용할 떄 : 문제에서 요구하는 대로 정렬 기준 작성!!!\n",
        "# ==> 특별한 정렬에 대한 기준 : lambda 함수로 규칙을 기술!!!!\n",
        "#      + 코테에서는 문제 상황/조건 각양각색 ==> 연습!!!\n",
        "# +++ 이러한 정렬을 하기 편한 자료형/값들을 주어진 문제에서\n",
        "#     어떻게 세팅할지!!!!  자료형/ 자료형의 값들의 구성...etc"
      ],
      "metadata": {
        "id": "Qs0Aa-QIaz_C"
      },
      "execution_count": null,
      "outputs": []
    },
    {
      "cell_type": "code",
      "source": [
        "# 정렬 : \"기준\"을 가지고, 기준에 맞춰서 순서들을 정리!!!\n",
        "# --> 기준 : 위치, 값의 크기, 알파벳, 문자순, 성적순.....\n",
        "\n",
        "# 단순 순서상 재배치 : reverse()메서드\n",
        "# ---> 주의!!!) 값의 크기 기준 X, 단순 위치!!!  -> 원본이 날아감!\n",
        "\n",
        "a = [15,22,8, 79,10]\n",
        "a.reverse()\n",
        "a"
      ],
      "metadata": {
        "colab": {
          "base_uri": "https://localhost:8080/"
        },
        "id": "NOPn946_b7h3",
        "outputId": "81bc262b-c0fe-4ad9-93b6-c19d830896f8"
      },
      "execution_count": null,
      "outputs": [
        {
          "output_type": "execute_result",
          "data": {
            "text/plain": [
              "[10, 79, 8, 22, 15]"
            ]
          },
          "metadata": {},
          "execution_count": 5
        }
      ]
    },
    {
      "cell_type": "code",
      "source": [
        "# 값을 기준으로 정렬 : .sort()메서드\n",
        "#                      sorted()파이썬 함수\n",
        "\n",
        "a.sort()   # 원본이 날아감. 직접 원본을 변경\n",
        "a"
      ],
      "metadata": {
        "colab": {
          "base_uri": "https://localhost:8080/"
        },
        "id": "cHFI5bcgdJmw",
        "outputId": "752d93a0-119a-4b19-8035-bfa9aa81d9da"
      },
      "execution_count": null,
      "outputs": [
        {
          "output_type": "execute_result",
          "data": {
            "text/plain": [
              "[8, 10, 15, 22, 79]"
            ]
          },
          "metadata": {},
          "execution_count": 7
        }
      ]
    },
    {
      "cell_type": "code",
      "source": [
        "b=sorted(a) # 원본 유지 -> 할당 필요\n",
        "b"
      ],
      "metadata": {
        "colab": {
          "base_uri": "https://localhost:8080/"
        },
        "id": "B8L3UYxddSPI",
        "outputId": "f73e3231-caf4-48ee-b06f-0bf2984339e9"
      },
      "execution_count": null,
      "outputs": [
        {
          "output_type": "execute_result",
          "data": {
            "text/plain": [
              "[8, 10, 15, 22, 79]"
            ]
          },
          "metadata": {},
          "execution_count": 8
        }
      ]
    },
    {
      "cell_type": "code",
      "source": [
        "# + option) 값에 대한 정렬 : 오름/ 내림차순\n",
        "# --> reverse =False : 오름\n",
        "#     reverse =True  : 내림\n",
        "# FM적인 방법"
      ],
      "metadata": {
        "id": "4AeLXUAXd4Iv"
      },
      "execution_count": null,
      "outputs": []
    },
    {
      "cell_type": "code",
      "source": [
        "a = [15,22,8, 79,10]\n",
        "a"
      ],
      "metadata": {
        "colab": {
          "base_uri": "https://localhost:8080/"
        },
        "id": "Ey4JwpIieJTV",
        "outputId": "ea5b9f4d-9fd4-43cf-c0eb-45bfcccd64e4"
      },
      "execution_count": null,
      "outputs": [
        {
          "output_type": "execute_result",
          "data": {
            "text/plain": [
              "[15, 22, 8, 79, 10]"
            ]
          },
          "metadata": {},
          "execution_count": 10
        }
      ]
    },
    {
      "cell_type": "code",
      "source": [
        "sorted(a,reverse=True) #A 값 기준 내림차"
      ],
      "metadata": {
        "colab": {
          "base_uri": "https://localhost:8080/"
        },
        "id": "SCfBcO40eNMF",
        "outputId": "10032f7f-cca6-4e1d-88e4-e585adf429b2"
      },
      "execution_count": null,
      "outputs": [
        {
          "output_type": "execute_result",
          "data": {
            "text/plain": [
              "[79, 22, 15, 10, 8]"
            ]
          },
          "metadata": {},
          "execution_count": 11
        }
      ]
    },
    {
      "cell_type": "code",
      "source": [
        "# 정리)\n",
        "# 포지션을 중심으로 뒤짚기 : reverse()메서드, reversed()함수\n",
        "# 값을 기준으로 정렬 오름/내림 : reverse파라미터--> sort(), sorted()"
      ],
      "metadata": {
        "id": "z6CdEO2-euTH"
      },
      "execution_count": null,
      "outputs": []
    },
    {
      "cell_type": "code",
      "source": [
        "# 목적: 내가 원하는 정렬 기준으로 만들자\n",
        "\n",
        "str_list=[\"좋은하루\", \"good morning\", \"굿모닝\", \"niceday\"]\n",
        "str_list"
      ],
      "metadata": {
        "colab": {
          "base_uri": "https://localhost:8080/"
        },
        "id": "XjnJICVfexov",
        "outputId": "4c68682b-2b47-4965-c5cb-571ee40c790c"
      },
      "execution_count": null,
      "outputs": [
        {
          "output_type": "execute_result",
          "data": {
            "text/plain": [
              "['좋은하루', 'good morning', '굿모닝', 'niceday']"
            ]
          },
          "metadata": {},
          "execution_count": 12
        }
      ]
    },
    {
      "cell_type": "code",
      "source": [
        "#참고) 수업 진행을 위해서 원본을 유지하는 sorted함수 계열만 하겠습니다.\n",
        "#      코드적으로는 동일함!!! .sort()완벽 동일함!!"
      ],
      "metadata": {
        "id": "twyFdDcWfIrf"
      },
      "execution_count": null,
      "outputs": []
    },
    {
      "cell_type": "code",
      "source": [
        "sorted(str_list)\n",
        "# 기본정렬 -> 값 & 오름차순 ********* 영어가 먼저 알파벳순 , 한글은 앞 초성 순 ******* 알파벳은  a>A 소문자가 더 크다"
      ],
      "metadata": {
        "colab": {
          "base_uri": "https://localhost:8080/"
        },
        "id": "jjyQhMDnfKs2",
        "outputId": "3ae64721-939f-4e93-e0be-ceaaf3e48454"
      },
      "execution_count": null,
      "outputs": [
        {
          "output_type": "execute_result",
          "data": {
            "text/plain": [
              "['good morning', 'niceday', '굿모닝', '좋은하루']"
            ]
          },
          "metadata": {},
          "execution_count": 14
        }
      ]
    },
    {
      "cell_type": "code",
      "source": [
        "sorted(str_list, reverse=True)"
      ],
      "metadata": {
        "colab": {
          "base_uri": "https://localhost:8080/"
        },
        "id": "fbkjxJq7fXMm",
        "outputId": "66626a9a-43ab-46aa-d509-bf70d50e7b8c"
      },
      "execution_count": null,
      "outputs": [
        {
          "output_type": "execute_result",
          "data": {
            "text/plain": [
              "['좋은하루', '굿모닝', 'niceday', 'good morning']"
            ]
          },
          "metadata": {},
          "execution_count": 18
        }
      ]
    },
    {
      "cell_type": "code",
      "source": [
        "##################################################\n",
        "# 원하는 대로 정렬 기준 작성 : key 파라미터 lambda 함수로 기술\n",
        "##################################################"
      ],
      "metadata": {
        "id": "MT1whlpwfpCf"
      },
      "execution_count": null,
      "outputs": []
    },
    {
      "cell_type": "code",
      "source": [
        "# ex) 글자의 앞글자 1개만 가지고 정렬을 하려고 함!!!\n",
        "#     ==> 그 외의 글자들은 신경을 안 쓸꼐요!!!!(그냥 원본 순서대로)\n",
        "\n",
        "sorted(str_list, key= lambda x:x[0]) # key가 각 리스트 문자열 하나씩이고, lambda x는 x[0] 앞 한글자만 기준으로 정렬하겠다"
      ],
      "metadata": {
        "colab": {
          "base_uri": "https://localhost:8080/"
        },
        "id": "99EwMeBhf2ZF",
        "outputId": "06cd9988-9864-476e-fe23-8e518634f041"
      },
      "execution_count": null,
      "outputs": [
        {
          "output_type": "execute_result",
          "data": {
            "text/plain": [
              "['good morning', 'niceday', '굿모닝', '좋은하루']"
            ]
          },
          "metadata": {},
          "execution_count": 20
        }
      ]
    },
    {
      "cell_type": "code",
      "source": [
        "# ex) 특이하게 글자의 2번째 글자 1개만 가지고 정렬을 하려고 함!!!\n",
        "#     ==> 그 외의 글자들은 신경을 안 쓸꼐요!!!!(그냥 원본 순서대로)\n",
        "\n",
        "# 내가 직접 핸드메이드 필요\n",
        "\n",
        "sorted(str_list, key= lambda x:x[1])"
      ],
      "metadata": {
        "colab": {
          "base_uri": "https://localhost:8080/"
        },
        "id": "LLpYJu8xgXr-",
        "outputId": "c7a88d92-572d-47f7-f0f2-38a98935dccf"
      },
      "execution_count": null,
      "outputs": [
        {
          "output_type": "execute_result",
          "data": {
            "text/plain": [
              "['niceday', 'good morning', '굿모닝', '좋은하루']"
            ]
          },
          "metadata": {},
          "execution_count": 21
        }
      ]
    },
    {
      "cell_type": "code",
      "source": [
        "# ex) 특별하게 글자의 길이순서대로 정렬해주세요!!!\n",
        "#  --> 이것도 특수 기준 : 내가 직접 만들어야 함!!!\n",
        "\n",
        "sorted(str_list, key= lambda x:len(x),reverse = False) # 길이 기준임 , 오름내림에 대한 기준지정 가능 -> reverse 는 FM 적인 방법"
      ],
      "metadata": {
        "colab": {
          "base_uri": "https://localhost:8080/"
        },
        "id": "rSNyQSktg6H2",
        "outputId": "93a1a5f2-87aa-445e-feb1-8547f817d829"
      },
      "execution_count": null,
      "outputs": [
        {
          "output_type": "execute_result",
          "data": {
            "text/plain": [
              "['굿모닝', '좋은하루', 'niceday', 'good morning']"
            ]
          },
          "metadata": {},
          "execution_count": 24
        }
      ]
    },
    {
      "cell_type": "code",
      "source": [
        "#내림차순 AM 적인 방법 : - 부호\n",
        "#오름차순 : +부호  -> 부호로 기준 기술\n",
        "\n",
        "# ********* 잘 파악해두어야 함, 나중에 reverse 만으로 컨트롤 어려워 질 수도 있음 , 조건이 여러개, 다른 오름/내림일때 *********\n",
        "\n",
        "sorted(str_list, key= lambda x: -len(x)) # 내림차순임"
      ],
      "metadata": {
        "colab": {
          "base_uri": "https://localhost:8080/"
        },
        "id": "C4OLZjdohevu",
        "outputId": "4fe7d2dc-b1d2-4686-bdcc-fef6175ed05e"
      },
      "execution_count": null,
      "outputs": [
        {
          "output_type": "execute_result",
          "data": {
            "text/plain": [
              "['good morning', 'niceday', '좋은하루', '굿모닝']"
            ]
          },
          "metadata": {},
          "execution_count": 26
        }
      ]
    },
    {
      "cell_type": "code",
      "source": [
        "# 구체적인 예 : 이름 ,성적 자료에 대한 정렬\n",
        "\n",
        "zum_list =[(\"A\",0),(\"B\",1),(\"C\",5),(\"D\",3),(\"E\",5)]\n",
        "zum_list"
      ],
      "metadata": {
        "colab": {
          "base_uri": "https://localhost:8080/"
        },
        "id": "hONQbNVriC-l",
        "outputId": "a8bf97ec-8952-4a12-cdeb-5fbca454c04a"
      },
      "execution_count": null,
      "outputs": [
        {
          "output_type": "execute_result",
          "data": {
            "text/plain": [
              "[('A', 0), ('B', 1), ('C', 5), ('D', 3), ('E', 5)]"
            ]
          },
          "metadata": {},
          "execution_count": 28
        }
      ]
    },
    {
      "cell_type": "code",
      "source": [
        "# 그냥 정렬하기\n",
        "sorted(zum_list)"
      ],
      "metadata": {
        "colab": {
          "base_uri": "https://localhost:8080/"
        },
        "id": "OxxPfEJ4ic7G",
        "outputId": "0f0f12c0-040b-4b9f-b772-fa8ce751d628"
      },
      "execution_count": null,
      "outputs": [
        {
          "output_type": "execute_result",
          "data": {
            "text/plain": [
              "[('A', 0), ('B', 1), ('C', 5), ('D', 3), ('E', 5)]"
            ]
          },
          "metadata": {},
          "execution_count": 29
        }
      ]
    },
    {
      "cell_type": "code",
      "source": [
        "#정렬기준 : 이름 중심으로 정렬하기\n",
        "sorted(zum_list, key= lambda x:x[0])"
      ],
      "metadata": {
        "colab": {
          "base_uri": "https://localhost:8080/"
        },
        "id": "1VPu42csij-4",
        "outputId": "0d323ea1-a4c6-4e5c-e14d-855b234ae896"
      },
      "execution_count": null,
      "outputs": [
        {
          "output_type": "execute_result",
          "data": {
            "text/plain": [
              "[('A', 0), ('B', 1), ('C', 5), ('D', 3), ('E', 5)]"
            ]
          },
          "metadata": {},
          "execution_count": 30
        }
      ]
    },
    {
      "cell_type": "code",
      "source": [
        "#정렬기준 : 성적 순 정렬\n",
        "sorted(zum_list, key= lambda x:x[1]) # x는 개별원소 , 즉 튜플\n",
        "\n",
        "# 중요 : ****  기준 지정 안 했을 시 동일한 조건이라면 !!원본의 순서를 그대로 유지한다!! ****"
      ],
      "metadata": {
        "colab": {
          "base_uri": "https://localhost:8080/"
        },
        "id": "r0uCYAGui4ku",
        "outputId": "7ec288c2-da72-4c61-e341-ede3a8b11cf4"
      },
      "execution_count": null,
      "outputs": [
        {
          "output_type": "execute_result",
          "data": {
            "text/plain": [
              "[('A', 0), ('B', 1), ('D', 3), ('C', 5), ('E', 5)]"
            ]
          },
          "metadata": {},
          "execution_count": 31
        }
      ]
    },
    {
      "cell_type": "code",
      "source": [
        "#성적 제일 높은 애들 앞부터 정렬\n",
        "\n",
        "sorted(zum_list, key= lambda x:-x[1]) # 성적 내림차순, 동차는 원본순서대로"
      ],
      "metadata": {
        "colab": {
          "base_uri": "https://localhost:8080/"
        },
        "id": "sd6p358YjjKN",
        "outputId": "55c50c4a-5b9f-47a5-ef8b-bc3ed3a6f494"
      },
      "execution_count": null,
      "outputs": [
        {
          "output_type": "execute_result",
          "data": {
            "text/plain": [
              "[('C', 5), ('E', 5), ('D', 3), ('B', 1), ('A', 0)]"
            ]
          },
          "metadata": {},
          "execution_count": 33
        }
      ]
    },
    {
      "cell_type": "code",
      "source": [
        "# 조금 더 유사한 값들이 있는 조건 : 이름- 성적\n",
        "zumsu_list =[\n",
        "    (\"A\",0), (\"B\",5),(\"AA\",3),\n",
        "    (\"C\",5), (\"B\",1),(\"Z\",5),\n",
        "    (\"D\",3),(\"E\",5)\n",
        "]\n",
        "zumsu_list"
      ],
      "metadata": {
        "colab": {
          "base_uri": "https://localhost:8080/"
        },
        "id": "0TZ0chdSkDVW",
        "outputId": "e4fdb02a-3628-42c6-fb2e-0a8eae71420b"
      },
      "execution_count": null,
      "outputs": [
        {
          "output_type": "execute_result",
          "data": {
            "text/plain": [
              "[('A', 0),\n",
              " ('B', 5),\n",
              " ('AA', 3),\n",
              " ('C', 5),\n",
              " ('B', 1),\n",
              " ('Z', 5),\n",
              " ('D', 3),\n",
              " ('E', 5)]"
            ]
          },
          "metadata": {},
          "execution_count": 43
        }
      ]
    },
    {
      "cell_type": "code",
      "source": [
        "# 그냥 정렬 -> 이름 순 오름차순 -> 이름이 같으면?? 아마 성적 기준 오름차순일것 -> 기준대로 다 오름차순으로 일괄정렬\n",
        "sorted(zumsu_list)"
      ],
      "metadata": {
        "colab": {
          "base_uri": "https://localhost:8080/"
        },
        "id": "3ho3CTfekXA0",
        "outputId": "9db61904-f480-4e25-eaab-6f5152c788ed"
      },
      "execution_count": null,
      "outputs": [
        {
          "output_type": "execute_result",
          "data": {
            "text/plain": [
              "[('A', 0),\n",
              " ('AA', 3),\n",
              " ('B', 1),\n",
              " ('B', 5),\n",
              " ('C', 5),\n",
              " ('D', 3),\n",
              " ('E', 5),\n",
              " ('Z', 5)]"
            ]
          },
          "metadata": {},
          "execution_count": 44
        }
      ]
    },
    {
      "cell_type": "code",
      "source": [
        "# 명확한 정렬기준 제시\n",
        "# 1기준 : 이름순 (혹, 이름이 같다면 원본순서대로)\n",
        "\n",
        "sorted(zumsu_list, key = lambda x:x[0])"
      ],
      "metadata": {
        "colab": {
          "base_uri": "https://localhost:8080/"
        },
        "id": "FiqCqKc_kxIF",
        "outputId": "f50f669a-be21-4c8a-d000-a209f0520a09"
      },
      "execution_count": null,
      "outputs": [
        {
          "output_type": "execute_result",
          "data": {
            "text/plain": [
              "[('A', 0),\n",
              " ('AA', 3),\n",
              " ('B', 5),\n",
              " ('B', 1),\n",
              " ('C', 5),\n",
              " ('D', 3),\n",
              " ('E', 5),\n",
              " ('Z', 5)]"
            ]
          },
          "metadata": {},
          "execution_count": 45
        }
      ]
    },
    {
      "cell_type": "code",
      "source": [
        "# 아무것도 안한 sorted 하고 동일하게\n",
        "# 1기준: 이름 오름차순\n",
        "# 2기준: 성적 오름차순\n",
        "\n",
        "#-> lambda 함수에 기준을 순서대로  작성하는게 기준 순서\n",
        "# 괄호로 지정/ 괄호에 작성하는 순서대로 기준\n",
        "\n",
        "sorted(zumsu_list, key = lambda x:(x[0],x[1]))"
      ],
      "metadata": {
        "colab": {
          "base_uri": "https://localhost:8080/"
        },
        "id": "KC00PHqglklV",
        "outputId": "5708daad-3f12-4573-fc77-ff15c4f77cd9"
      },
      "execution_count": null,
      "outputs": [
        {
          "output_type": "execute_result",
          "data": {
            "text/plain": [
              "[('A', 0),\n",
              " ('AA', 3),\n",
              " ('B', 1),\n",
              " ('B', 5),\n",
              " ('C', 5),\n",
              " ('D', 3),\n",
              " ('E', 5),\n",
              " ('Z', 5)]"
            ]
          },
          "metadata": {},
          "execution_count": 46
        }
      ]
    },
    {
      "cell_type": "code",
      "source": [
        "#보통 섞인 코테 기준\n",
        "# 1기준: 이름  오름차순\n",
        "# 2기준 :성적 내림차순\n",
        "# 3기준: 원본\n",
        "\n",
        "sorted(zumsu_list, key = lambda x:(x[0],-x[1],x))   # 따로따로 핸들링 가능"
      ],
      "metadata": {
        "colab": {
          "base_uri": "https://localhost:8080/"
        },
        "id": "nLYVKAHAmDV0",
        "outputId": "3a38d17d-d69b-4997-aa99-0bb965dab7bf"
      },
      "execution_count": null,
      "outputs": [
        {
          "output_type": "execute_result",
          "data": {
            "text/plain": [
              "[('A', 0),\n",
              " ('AA', 3),\n",
              " ('B', 5),\n",
              " ('B', 1),\n",
              " ('C', 5),\n",
              " ('D', 3),\n",
              " ('E', 5),\n",
              " ('Z', 5)]"
            ]
          },
          "metadata": {},
          "execution_count": 47
        }
      ]
    },
    {
      "cell_type": "code",
      "source": [
        "sorted_list = sorted(zumsu_list, key=lambda x: x[0][1] if len(x[0]) > 1 else '') # 이는 이름의 두번째 글자 기준, 다만 이름 글자수가 2이상인 것만 두번째 글자 추출"
      ],
      "metadata": {
        "id": "ESGLm5bfm4GM"
      },
      "execution_count": null,
      "outputs": []
    },
    {
      "cell_type": "code",
      "source": [
        "# 코테용 입장으로 정렬 : 위의 예제들에서  이름/성적 예시!!!\n",
        "# ==> 가장 기본적인 형식!!!!"
      ],
      "metadata": {
        "id": "xFAQSOz4nF-M"
      },
      "execution_count": null,
      "outputs": []
    }
  ]
}