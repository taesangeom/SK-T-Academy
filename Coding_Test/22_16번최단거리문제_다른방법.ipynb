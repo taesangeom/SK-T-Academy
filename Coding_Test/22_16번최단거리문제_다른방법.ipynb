{
  "nbformat": 4,
  "nbformat_minor": 0,
  "metadata": {
    "colab": {
      "provenance": [],
      "authorship_tag": "ABX9TyMp2eeN+R50bwirNkY4TaZi",
      "include_colab_link": true
    },
    "kernelspec": {
      "name": "python3",
      "display_name": "Python 3"
    },
    "language_info": {
      "name": "python"
    }
  },
  "cells": [
    {
      "cell_type": "markdown",
      "metadata": {
        "id": "view-in-github",
        "colab_type": "text"
      },
      "source": [
        "<a href=\"https://colab.research.google.com/github/taesangeom/SK-T-Academy/blob/main/Coding_Test/22_16%EB%B2%88%EC%B5%9C%EB%8B%A8%EA%B1%B0%EB%A6%AC%EB%AC%B8%EC%A0%9C_%EB%8B%A4%EB%A5%B8%EB%B0%A9%EB%B2%95.ipynb\" target=\"_parent\"><img src=\"https://colab.research.google.com/assets/colab-badge.svg\" alt=\"Open In Colab\"/></a>"
      ]
    },
    {
      "cell_type": "code",
      "execution_count": null,
      "metadata": {
        "id": "bhwrYOo0b_gT"
      },
      "outputs": [],
      "source": [
        "# ref : https://www.acmicpc.net/problem/18352\n",
        "# 참고"
      ]
    },
    {
      "cell_type": "code",
      "source": [
        "n,m,k,x = map(int, input(\"도시수,도루수,거리,출발점\").split(\" \"))\n",
        "print(n,m,k,x)"
      ],
      "metadata": {
        "colab": {
          "base_uri": "https://localhost:8080/"
        },
        "id": "w9_1n_ubcRun",
        "outputId": "ebe737f0-7db7-4412-8d08-50b280090c0d"
      },
      "execution_count": null,
      "outputs": [
        {
          "output_type": "stream",
          "name": "stdout",
          "text": [
            "도시수,도루수,거리,출발점4 4 2 1\n",
            "4 4 2 1\n"
          ]
        }
      ]
    },
    {
      "cell_type": "code",
      "source": [
        "graph = [ [] for _ in range(n+1)]\n",
        "graph"
      ],
      "metadata": {
        "colab": {
          "base_uri": "https://localhost:8080/"
        },
        "id": "VVsbT5NDcTFH",
        "outputId": "1b0bead8-1e6b-4631-d914-6342ccccd52f"
      },
      "execution_count": null,
      "outputs": [
        {
          "output_type": "execute_result",
          "data": {
            "text/plain": [
              "[[], [], [], [], []]"
            ]
          },
          "metadata": {},
          "execution_count": 3
        }
      ]
    },
    {
      "cell_type": "code",
      "source": [
        "for _ in range(m):\n",
        "    # 출발도시 s, 도착도시 e, ==> 그래프에 정리!!!!!\n",
        "    s, e = map( int ,input(\"S E 공백\").split(\" \") )\n",
        "    # graph[s].append(e) # 기존 BFS중심으로 할 때\n",
        "    graph[s].append( (e,1)) # 기존과 달라지는 부분 : 명시적으로 거리\n",
        "graph"
      ],
      "metadata": {
        "colab": {
          "base_uri": "https://localhost:8080/"
        },
        "id": "DRC7A8ezchym",
        "outputId": "192ada8d-9b77-4885-ec56-0936be3ff385"
      },
      "execution_count": null,
      "outputs": [
        {
          "name": "stdout",
          "output_type": "stream",
          "text": [
            "S E 공백1 2\n",
            "S E 공백1 3\n",
            "S E 공백2 3\n",
            "S E 공백2 4\n"
          ]
        },
        {
          "output_type": "execute_result",
          "data": {
            "text/plain": [
              "[[], [(2, 1), (3, 1)], [(3, 1), (4, 1)], [], []]"
            ]
          },
          "metadata": {},
          "execution_count": 4
        }
      ]
    },
    {
      "cell_type": "code",
      "source": [
        "#최단거리 다익스트라 알고리즘\n",
        "\n",
        "import heapq"
      ],
      "metadata": {
        "id": "iZFg6fVJdM4O"
      },
      "execution_count": null,
      "outputs": []
    },
    {
      "cell_type": "code",
      "source": [
        "# 거리 초기화\n",
        "INF = float(\"inf\")\n",
        "# 거리에 대한 정보 세팅\n",
        "distance = [INF] * (n+1) # 0번 도시 때\n",
        "\n",
        "# 최단거리 탐색 함수\n",
        "def dijk_city(start):\n",
        "    q = []\n",
        "    heapq.heappush( q, (0,start)) # 거리,도시 --> 우선순위가 앞에서,\n",
        "    distance[start] = 0\n",
        "\n",
        "    while q:\n",
        "        dist,now=heapq.heappop(q)\n",
        "        #이미 왔던 곳인지\n",
        "        if distance[now]<dist:\n",
        "            continue\n",
        "        else:\n",
        "            for i in graph[now]:\n",
        "                cost=dist + i[1] #거리\n",
        "                if cost < distance[i[0]]:\n",
        "                    distance[i[0]]=cost\n",
        "                    heapq.heappush(q,(cost,i[0]))\n",
        "        answer=len([ i for i,k in enumerate(distance) if k==2])\n",
        "        return answer\n",
        "\n"
      ],
      "metadata": {
        "id": "gvFvmseZdQJ9"
      },
      "execution_count": null,
      "outputs": []
    }
  ]
}