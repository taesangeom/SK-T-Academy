{
  "nbformat": 4,
  "nbformat_minor": 0,
  "metadata": {
    "colab": {
      "provenance": [],
      "authorship_tag": "ABX9TyNesv2fRNx2XKCrE91odMNg",
      "include_colab_link": true
    },
    "kernelspec": {
      "name": "python3",
      "display_name": "Python 3"
    },
    "language_info": {
      "name": "python"
    }
  },
  "cells": [
    {
      "cell_type": "markdown",
      "metadata": {
        "id": "view-in-github",
        "colab_type": "text"
      },
      "source": [
        "<a href=\"https://colab.research.google.com/github/taesangeom/SK-T-Academy/blob/main/Coding_Test/09_%EC%9E%90%EB%A3%8C%ED%98%95_%EB%A7%88%EB%9D%BC%ED%86%A4%EB%AC%B8%EC%A0%9C.ipynb\" target=\"_parent\"><img src=\"https://colab.research.google.com/assets/colab-badge.svg\" alt=\"Open In Colab\"/></a>"
      ]
    },
    {
      "cell_type": "markdown",
      "source": [
        "#초기 버전 (성공 , but 효율성 테스트에서 시간초과)"
      ],
      "metadata": {
        "id": "3zsF_iM-oFNk"
      }
    },
    {
      "cell_type": "code",
      "execution_count": null,
      "metadata": {
        "id": "f5klPYPTQUyk"
      },
      "outputs": [],
      "source": [
        "#participant=[\"mislav\", \"stanko\", \"mislav\", \"ana\"]\n",
        "#completion=[\"stanko\", \"ana\", \"mislav\"]\n",
        "\n",
        "def solution(participant, completion):\n",
        "    dict_part={ i : participant.count(i) for i in participant}\n",
        "    dict_comp={i:completion.count(i) for i in completion}\n",
        "    dict_answer={}\n",
        "    for i in dict_part:\n",
        "      if i not in dict_comp:\n",
        "        answer=i\n",
        "        break\n",
        "      else:\n",
        "        dict_answer[i]=dict_part[i]-dict_comp[i]\n",
        "        if dict_answer[i]==1:\n",
        "          answer=i\n",
        "          break\n",
        "    return answer\n",
        "\n",
        "\n"
      ]
    },
    {
      "cell_type": "code",
      "source": [
        "solution([\"marina\", \"josipa\", \"nikola\", \"vinko\", \"filipa\"], [\"josipa\", \"filipa\", \"marina\", \"nikola\"])"
      ],
      "metadata": {
        "colab": {
          "base_uri": "https://localhost:8080/",
          "height": 35
        },
        "id": "Mf7L0BB8Ukza",
        "outputId": "90325c41-2677-4e1e-9da5-c294a91105e8"
      },
      "execution_count": null,
      "outputs": [
        {
          "output_type": "execute_result",
          "data": {
            "text/plain": [
              "'vinko'"
            ],
            "application/vnd.google.colaboratory.intrinsic+json": {
              "type": "string"
            }
          },
          "metadata": {},
          "execution_count": 16
        }
      ]
    },
    {
      "cell_type": "markdown",
      "source": [
        "#최적화 버전 ( 성공, 여전히 효율성 테스트에서 시간초과)"
      ],
      "metadata": {
        "id": "I7m1NeWioMBB"
      }
    },
    {
      "cell_type": "code",
      "source": [
        "def solution(participant, completion):\n",
        "    dict_part={ i : participant.count(i) for i in participant}\n",
        "    for i in completion:\n",
        "      if i in dict_part:\n",
        "        dict_part[i]-=1\n",
        "    for i in dict_part:\n",
        "      if dict_part[i]>0:\n",
        "        return i\n"
      ],
      "metadata": {
        "id": "jAPAWKd1mX8z"
      },
      "execution_count": null,
      "outputs": []
    }
  ]
}