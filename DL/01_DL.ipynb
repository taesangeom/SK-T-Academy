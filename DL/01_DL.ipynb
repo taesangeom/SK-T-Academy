{
  "nbformat": 4,
  "nbformat_minor": 0,
  "metadata": {
    "colab": {
      "provenance": [],
      "gpuType": "T4",
      "include_colab_link": true
    },
    "kernelspec": {
      "name": "python3",
      "display_name": "Python 3"
    },
    "language_info": {
      "name": "python"
    },
    "accelerator": "GPU"
  },
  "cells": [
    {
      "cell_type": "markdown",
      "metadata": {
        "id": "view-in-github",
        "colab_type": "text"
      },
      "source": [
        "<a href=\"https://colab.research.google.com/github/taesangeom/SK-T-Academy/blob/main/DL/01_DL.ipynb\" target=\"_parent\"><img src=\"https://colab.research.google.com/assets/colab-badge.svg\" alt=\"Open In Colab\"/></a>"
      ]
    },
    {
      "cell_type": "code",
      "execution_count": null,
      "metadata": {
        "id": "LS7-0l5qxnWt"
      },
      "outputs": [],
      "source": [
        "# DL은 무조건 GPU가 있어야 함!!!!\n",
        "# ==> 실습은 colab에서 진행을 하겠습니다...\n",
        "# + T4를 사용해서 진행을 하시면 됩니다....\n",
        "# ( 조별로는  플젝에 따라서 클라우드에서 할 수 있음!! )"
      ]
    },
    {
      "cell_type": "code",
      "source": [
        "# 가장 근본 : python\n",
        "# EDA       : pandas\n",
        "# ML        : scikit-learn + pandasx + 시각화 + optuna\n",
        "# DL        : TensorFlow(Keras) 기본 모델... ***\n",
        "#             1.x, 2.x ---> 서로 다른 친구들!!!\n",
        "#           : 최근것을 하려면,,,,pyTorch!!!!!!\n",
        "#           : pytorch ( 최근 모델들은 거의 99.999% 토치 기반)\n",
        "#             + 버전이슈!!!!!!!( os버전, os종류, cuda 버전,,,,,,) : Try\n",
        "#             + 세팅!!!!! ( anconda + etc 다른 패키지....)\n",
        "#             + 클래스를 활용해서 코드를 작성해야 함!!!!"
      ],
      "metadata": {
        "id": "exPDVDF7x-59"
      },
      "execution_count": null,
      "outputs": []
    },
    {
      "cell_type": "code",
      "source": [
        "# TF 여러 모듈 중에서도...주로 처음에는 기본 모델에서는 keras를 중심!!!!"
      ],
      "metadata": {
        "id": "mxf74ccGx_Dc"
      },
      "execution_count": null,
      "outputs": []
    },
    {
      "cell_type": "code",
      "source": [],
      "metadata": {
        "id": "oLoB5ssmx_Fw"
      },
      "execution_count": null,
      "outputs": []
    },
    {
      "cell_type": "code",
      "source": [
        "# DL의 가장 기본적인 자료형!!!!\n",
        "# ==> numpy array가 가장 기본적인 자료형!!!\n",
        "# +++ 차원에 대한 개념!!!! + 모양!!!!!!!"
      ],
      "metadata": {
        "id": "_8NANReix_Id"
      },
      "execution_count": null,
      "outputs": []
    },
    {
      "cell_type": "code",
      "source": [
        "import numpy as np"
      ],
      "metadata": {
        "id": "0m9Dr4w4x_Lc"
      },
      "execution_count": null,
      "outputs": []
    },
    {
      "cell_type": "code",
      "source": [
        "# 0차원 : 스칼라"
      ],
      "metadata": {
        "id": "Y6HF5EPOzKZo"
      },
      "execution_count": null,
      "outputs": []
    },
    {
      "cell_type": "code",
      "source": [
        "arr = np.array(10)\n",
        "arr"
      ],
      "metadata": {
        "colab": {
          "base_uri": "https://localhost:8080/"
        },
        "id": "6lbyMps9zMpN",
        "outputId": "5189033a-749b-4720-8a7d-c621d37e228a"
      },
      "execution_count": null,
      "outputs": [
        {
          "output_type": "execute_result",
          "data": {
            "text/plain": [
              "array(10)"
            ]
          },
          "metadata": {},
          "execution_count": 3
        }
      ]
    },
    {
      "cell_type": "code",
      "source": [
        "arr.shape"
      ],
      "metadata": {
        "colab": {
          "base_uri": "https://localhost:8080/"
        },
        "id": "nHJwd4XdzO99",
        "outputId": "2bea46b4-ceb3-41fb-fb4c-61a28efcd6f9"
      },
      "execution_count": null,
      "outputs": [
        {
          "output_type": "execute_result",
          "data": {
            "text/plain": [
              "()"
            ]
          },
          "metadata": {},
          "execution_count": 4
        }
      ]
    },
    {
      "cell_type": "code",
      "source": [
        "arr.ndim"
      ],
      "metadata": {
        "colab": {
          "base_uri": "https://localhost:8080/"
        },
        "id": "s2g40fMjzRNY",
        "outputId": "f8f01a76-ff53-48c7-c002-574aa8819b91"
      },
      "execution_count": null,
      "outputs": [
        {
          "output_type": "execute_result",
          "data": {
            "text/plain": [
              "0"
            ]
          },
          "metadata": {},
          "execution_count": 5
        }
      ]
    },
    {
      "cell_type": "code",
      "source": [
        "# 1차원 : 벡터 --> 여러개의 스칼라값들을 1차원으로 묶어 둠!!!!\n",
        "# --> col vector/ row vector"
      ],
      "metadata": {
        "id": "rqDUJ9r9zT1A"
      },
      "execution_count": null,
      "outputs": []
    },
    {
      "cell_type": "code",
      "source": [
        "arr = np.array( [10])\n",
        "arr"
      ],
      "metadata": {
        "colab": {
          "base_uri": "https://localhost:8080/"
        },
        "id": "UOkhmHsWzflZ",
        "outputId": "91d219a5-20da-4940-b18b-bfdd33259707"
      },
      "execution_count": null,
      "outputs": [
        {
          "output_type": "execute_result",
          "data": {
            "text/plain": [
              "array([10])"
            ]
          },
          "metadata": {},
          "execution_count": 6
        }
      ]
    },
    {
      "cell_type": "code",
      "source": [
        "arr.shape"
      ],
      "metadata": {
        "colab": {
          "base_uri": "https://localhost:8080/"
        },
        "id": "TlfFZTPxzfn1",
        "outputId": "0c4a6552-74e0-4f5a-a821-fc04145a28c0"
      },
      "execution_count": null,
      "outputs": [
        {
          "output_type": "execute_result",
          "data": {
            "text/plain": [
              "(1,)"
            ]
          },
          "metadata": {},
          "execution_count": 7
        }
      ]
    },
    {
      "cell_type": "code",
      "source": [
        "arr.ndim"
      ],
      "metadata": {
        "colab": {
          "base_uri": "https://localhost:8080/"
        },
        "id": "1sRD29gzzlBz",
        "outputId": "1f805a86-ab97-4f74-d61c-5e30cef0e2ac"
      },
      "execution_count": null,
      "outputs": [
        {
          "output_type": "execute_result",
          "data": {
            "text/plain": [
              "1"
            ]
          },
          "metadata": {},
          "execution_count": 8
        }
      ]
    },
    {
      "cell_type": "code",
      "source": [
        "# 1차원 벡터에서...n개,,,,\n",
        "# ==> 3개의 스칼라 값을 가지는 1차원 벡터..\n",
        "arr = np.array( [1,3,5])\n",
        "arr"
      ],
      "metadata": {
        "colab": {
          "base_uri": "https://localhost:8080/"
        },
        "id": "5_xenYspznC_",
        "outputId": "186eea54-131a-4fbe-9147-a7cdb3af3270"
      },
      "execution_count": null,
      "outputs": [
        {
          "output_type": "execute_result",
          "data": {
            "text/plain": [
              "array([1, 3, 5])"
            ]
          },
          "metadata": {},
          "execution_count": 9
        }
      ]
    },
    {
      "cell_type": "code",
      "source": [
        "arr.shape"
      ],
      "metadata": {
        "colab": {
          "base_uri": "https://localhost:8080/"
        },
        "id": "wY-s0lLPzxOu",
        "outputId": "1c9ce804-b6c9-4cfd-f1af-e26cdf099ba2"
      },
      "execution_count": null,
      "outputs": [
        {
          "output_type": "execute_result",
          "data": {
            "text/plain": [
              "(3,)"
            ]
          },
          "metadata": {},
          "execution_count": 10
        }
      ]
    },
    {
      "cell_type": "code",
      "source": [
        "arr.ndim"
      ],
      "metadata": {
        "colab": {
          "base_uri": "https://localhost:8080/"
        },
        "id": "V_hvsxtQzzYb",
        "outputId": "7ff730ec-daa0-4f3d-8df7-77ddadec80d3"
      },
      "execution_count": null,
      "outputs": [
        {
          "output_type": "execute_result",
          "data": {
            "text/plain": [
              "1"
            ]
          },
          "metadata": {},
          "execution_count": 11
        }
      ]
    },
    {
      "cell_type": "code",
      "source": [
        "# 2차원 : matrix\n",
        "# ==> 가로, 세로에 대해서 명확하게 생성!!!!!!\n",
        "# ==> 파이썬으로 간접적으로 리스트를 활용해서 표현!!!! 가로/세로\n",
        "#     처음 코테에서 평면에 대한 구조 코드화......."
      ],
      "metadata": {
        "id": "s_LRHnTnz1IW"
      },
      "execution_count": null,
      "outputs": []
    },
    {
      "cell_type": "code",
      "source": [
        "# 파이썬의 리스트를 가지고 2차원을 간접표현\n",
        "[\n",
        "    [1,2,3],\n",
        "    [4,5,6],\n",
        "    [7,8,9]\n",
        "]"
      ],
      "metadata": {
        "id": "thQBsZHh0D82"
      },
      "execution_count": null,
      "outputs": []
    },
    {
      "cell_type": "code",
      "source": [
        "arr = np.array(\n",
        "    [\n",
        "    [1,2,3],\n",
        "    [4,5,6],\n",
        "    [7,8,9]\n",
        "]\n",
        ")\n",
        "arr"
      ],
      "metadata": {
        "colab": {
          "base_uri": "https://localhost:8080/"
        },
        "id": "nXxx5nrS0D_q",
        "outputId": "e8890894-461c-4af0-803d-c90ef1de2e38"
      },
      "execution_count": null,
      "outputs": [
        {
          "output_type": "execute_result",
          "data": {
            "text/plain": [
              "array([[1, 2, 3],\n",
              "       [4, 5, 6],\n",
              "       [7, 8, 9]])"
            ]
          },
          "metadata": {},
          "execution_count": 12
        }
      ]
    },
    {
      "cell_type": "code",
      "source": [
        "arr.ndim"
      ],
      "metadata": {
        "colab": {
          "base_uri": "https://localhost:8080/"
        },
        "id": "dIrX91cL0ECk",
        "outputId": "61599f33-8d24-468f-ecf3-c1d2027274cd"
      },
      "execution_count": null,
      "outputs": [
        {
          "output_type": "execute_result",
          "data": {
            "text/plain": [
              "2"
            ]
          },
          "metadata": {},
          "execution_count": 13
        }
      ]
    },
    {
      "cell_type": "code",
      "source": [
        "arr.shape"
      ],
      "metadata": {
        "colab": {
          "base_uri": "https://localhost:8080/"
        },
        "id": "DDaA-lr_0EFL",
        "outputId": "9f696e37-fa1c-4d60-a7e4-5d13e7b84177"
      },
      "execution_count": null,
      "outputs": [
        {
          "output_type": "execute_result",
          "data": {
            "text/plain": [
              "(3, 3)"
            ]
          },
          "metadata": {},
          "execution_count": 14
        }
      ]
    },
    {
      "cell_type": "code",
      "source": [
        "# 100이라는 값을 2차원 matrix --> 1 by 1\n",
        "arr = np.array(\n",
        "    [\n",
        "        [10]\n",
        "    ]\n",
        ")\n",
        "arr"
      ],
      "metadata": {
        "colab": {
          "base_uri": "https://localhost:8080/"
        },
        "id": "rqtTonyl0Uv2",
        "outputId": "59500356-f1dc-4cb2-df4c-fc74f67a9888"
      },
      "execution_count": null,
      "outputs": [
        {
          "output_type": "execute_result",
          "data": {
            "text/plain": [
              "array([[10]])"
            ]
          },
          "metadata": {},
          "execution_count": 16
        }
      ]
    },
    {
      "cell_type": "code",
      "source": [
        "arr.ndim"
      ],
      "metadata": {
        "colab": {
          "base_uri": "https://localhost:8080/"
        },
        "id": "YqPeVvl-0YXw",
        "outputId": "a317d8d9-326e-45cb-e91f-83a5afca8d38"
      },
      "execution_count": null,
      "outputs": [
        {
          "output_type": "execute_result",
          "data": {
            "text/plain": [
              "2"
            ]
          },
          "metadata": {},
          "execution_count": 17
        }
      ]
    },
    {
      "cell_type": "code",
      "source": [
        "arr.shape"
      ],
      "metadata": {
        "colab": {
          "base_uri": "https://localhost:8080/"
        },
        "id": "u11ifjmz0k-a",
        "outputId": "fecf704c-ebfb-4944-9182-ba77a3687c4c"
      },
      "execution_count": null,
      "outputs": [
        {
          "output_type": "execute_result",
          "data": {
            "text/plain": [
              "(1, 1)"
            ]
          },
          "metadata": {},
          "execution_count": 18
        }
      ]
    },
    {
      "cell_type": "code",
      "source": [
        "# 3차원의 텐서!!!\n",
        "# --> 컬러이미지 1장\n",
        "#     이미지 크기 : 2 by 3\n",
        "#     이미지의 채널(색상) : R/G/B\n",
        "# ==> 컬러이미지 1장의 데이터 : 3차원 데이터!!!!!!!"
      ],
      "metadata": {
        "id": "N-hUuAU60rSe"
      },
      "execution_count": null,
      "outputs": []
    },
    {
      "cell_type": "code",
      "source": [
        "[\n",
        "    [\n",
        "        [1,2,3],\n",
        "        [4,5,6]\n",
        "    ], # R\n",
        "    [\n",
        "        [9,8,7],\n",
        "        [6,5,4]\n",
        "    ], #g\n",
        "    [\n",
        "        [11,12,13],\n",
        "        [14,15,16]\n",
        "    ]\n",
        "]"
      ],
      "metadata": {
        "id": "fVl_-FjT06TI"
      },
      "execution_count": null,
      "outputs": []
    },
    {
      "cell_type": "code",
      "source": [
        "arr = np.array([\n",
        "    [\n",
        "        [1,2,3],\n",
        "        [4,5,6]\n",
        "    ], # R\n",
        "    [\n",
        "        [9,8,7],\n",
        "        [6,5,4]\n",
        "    ], #g\n",
        "    [\n",
        "        [11,12,13],\n",
        "        [14,15,16]\n",
        "    ]\n",
        "])\n",
        "arr"
      ],
      "metadata": {
        "colab": {
          "base_uri": "https://localhost:8080/"
        },
        "id": "CP3fVTBD06Vt",
        "outputId": "12001159-6334-48c2-fdf1-5a8ae37757d1"
      },
      "execution_count": null,
      "outputs": [
        {
          "output_type": "execute_result",
          "data": {
            "text/plain": [
              "array([[[ 1,  2,  3],\n",
              "        [ 4,  5,  6]],\n",
              "\n",
              "       [[ 9,  8,  7],\n",
              "        [ 6,  5,  4]],\n",
              "\n",
              "       [[11, 12, 13],\n",
              "        [14, 15, 16]]])"
            ]
          },
          "metadata": {},
          "execution_count": 19
        }
      ]
    },
    {
      "cell_type": "code",
      "source": [
        "arr.ndim"
      ],
      "metadata": {
        "colab": {
          "base_uri": "https://localhost:8080/"
        },
        "id": "mVOd8avG06Yx",
        "outputId": "b3dd7353-a5ad-4f90-d383-083879ccb946"
      },
      "execution_count": null,
      "outputs": [
        {
          "output_type": "execute_result",
          "data": {
            "text/plain": [
              "3"
            ]
          },
          "metadata": {},
          "execution_count": 21
        }
      ]
    },
    {
      "cell_type": "code",
      "source": [
        "arr.shape"
      ],
      "metadata": {
        "colab": {
          "base_uri": "https://localhost:8080/"
        },
        "id": "x53dc0Ed06bO",
        "outputId": "a545efd7-d952-4142-e918-8f743674f744"
      },
      "execution_count": null,
      "outputs": [
        {
          "output_type": "execute_result",
          "data": {
            "text/plain": [
              "(3, 2, 3)"
            ]
          },
          "metadata": {},
          "execution_count": 22
        }
      ]
    },
    {
      "cell_type": "code",
      "source": [],
      "metadata": {
        "id": "t5TFr6HT1guY"
      },
      "execution_count": null,
      "outputs": []
    },
    {
      "cell_type": "code",
      "source": [
        "#### TF\n",
        "import tensorflow as tf"
      ],
      "metadata": {
        "id": "ZQsB-Sjg1k1w"
      },
      "execution_count": null,
      "outputs": []
    },
    {
      "cell_type": "code",
      "source": [
        "tf.__version__\n",
        "# ==> colab에서 갑자기 버전업을 할 때가 있음;;;;;;;"
      ],
      "metadata": {
        "colab": {
          "base_uri": "https://localhost:8080/",
          "height": 36
        },
        "id": "1Q-cX5bk1k4U",
        "outputId": "b7c75210-77b8-4677-d21c-ee49708bb529"
      },
      "execution_count": null,
      "outputs": [
        {
          "output_type": "execute_result",
          "data": {
            "text/plain": [
              "'2.17.0'"
            ],
            "application/vnd.google.colaboratory.intrinsic+json": {
              "type": "string"
            }
          },
          "metadata": {},
          "execution_count": 24
        }
      ]
    },
    {
      "cell_type": "code",
      "source": [
        "# Tensorflow에서 기본이 되는 자료형 : tensor\n",
        "# python : list/ tuple\n",
        "# numpy ; array (차원, 모양, 벡터연산) --> np.array(~~~)\n",
        "# Tf    : tensor( 고차원에 대한 연산, DL에 대한 연동 자료형,,,,)"
      ],
      "metadata": {
        "id": "rwnLCZ5j1k67"
      },
      "execution_count": null,
      "outputs": []
    },
    {
      "cell_type": "code",
      "source": [
        "# 예) 쌩 파이썬의 리스트를 TF의 Tensor로 형변환!!!\n",
        "tf.constant( [1,2,3])"
      ],
      "metadata": {
        "colab": {
          "base_uri": "https://localhost:8080/"
        },
        "id": "7ceCJgYX1k9f",
        "outputId": "f46cea5e-2c9b-4072-827b-a1f0115af879"
      },
      "execution_count": null,
      "outputs": [
        {
          "output_type": "execute_result",
          "data": {
            "text/plain": [
              "<tf.Tensor: shape=(3,), dtype=int32, numpy=array([1, 2, 3], dtype=int32)>"
            ]
          },
          "metadata": {},
          "execution_count": 25
        }
      ]
    },
    {
      "cell_type": "code",
      "source": [
        "arr = np.array([1,2,3])\n",
        "arr"
      ],
      "metadata": {
        "colab": {
          "base_uri": "https://localhost:8080/"
        },
        "id": "BzHPl1v_2Mwi",
        "outputId": "63362057-7a6e-441b-d532-a17cfa21dbc8"
      },
      "execution_count": null,
      "outputs": [
        {
          "output_type": "execute_result",
          "data": {
            "text/plain": [
              "array([1, 2, 3])"
            ]
          },
          "metadata": {},
          "execution_count": 26
        }
      ]
    },
    {
      "cell_type": "code",
      "source": [
        "tensor_1 = tf.constant( arr)\n",
        "tensor_1"
      ],
      "metadata": {
        "colab": {
          "base_uri": "https://localhost:8080/"
        },
        "id": "efyuOM5Y2U1t",
        "outputId": "358cbb72-c8e3-45ed-b8c5-1511f135b666"
      },
      "execution_count": null,
      "outputs": [
        {
          "output_type": "execute_result",
          "data": {
            "text/plain": [
              "<tf.Tensor: shape=(3,), dtype=int64, numpy=array([1, 2, 3])>"
            ]
          },
          "metadata": {},
          "execution_count": 27
        }
      ]
    },
    {
      "cell_type": "code",
      "source": [
        "tensor_1.shape"
      ],
      "metadata": {
        "colab": {
          "base_uri": "https://localhost:8080/"
        },
        "id": "8IhJqj3G2XoB",
        "outputId": "20d6fc11-187a-4b60-d0fc-d0dd5fb15522"
      },
      "execution_count": null,
      "outputs": [
        {
          "output_type": "execute_result",
          "data": {
            "text/plain": [
              "TensorShape([3])"
            ]
          },
          "metadata": {},
          "execution_count": 28
        }
      ]
    },
    {
      "cell_type": "code",
      "source": [
        "tensor_1.dtype"
      ],
      "metadata": {
        "colab": {
          "base_uri": "https://localhost:8080/"
        },
        "id": "aislF18c2Zr4",
        "outputId": "f7b762c7-a0fb-4233-ac59-3bb7de5e835b"
      },
      "execution_count": null,
      "outputs": [
        {
          "output_type": "execute_result",
          "data": {
            "text/plain": [
              "tf.int64"
            ]
          },
          "metadata": {},
          "execution_count": 29
        }
      ]
    },
    {
      "cell_type": "code",
      "source": [
        "# numpy에서 한 것들과 유사하구나...\n",
        "t2 = tf.constant( [1,3,5], dtype=tf.float64)\n",
        "t2"
      ],
      "metadata": {
        "colab": {
          "base_uri": "https://localhost:8080/"
        },
        "id": "1DvK_KgB2dyd",
        "outputId": "11511363-a043-4e20-ae37-23444f3ab9a9"
      },
      "execution_count": null,
      "outputs": [
        {
          "output_type": "execute_result",
          "data": {
            "text/plain": [
              "<tf.Tensor: shape=(3,), dtype=float64, numpy=array([1., 3., 5.])>"
            ]
          },
          "metadata": {},
          "execution_count": 30
        }
      ]
    },
    {
      "cell_type": "code",
      "source": [
        "tf.cast(t2, dtype=tf.int16 )"
      ],
      "metadata": {
        "colab": {
          "base_uri": "https://localhost:8080/"
        },
        "id": "o8CjeiwL2xqM",
        "outputId": "86dff693-e504-42b7-fdd7-483ba504573b"
      },
      "execution_count": null,
      "outputs": [
        {
          "output_type": "execute_result",
          "data": {
            "text/plain": [
              "<tf.Tensor: shape=(3,), dtype=int16, numpy=array([1, 3, 5], dtype=int16)>"
            ]
          },
          "metadata": {},
          "execution_count": 31
        }
      ]
    },
    {
      "cell_type": "code",
      "source": [
        "#\n",
        "arr = np.array( [1,2,3], dtype=np.float32)\n",
        "arr"
      ],
      "metadata": {
        "colab": {
          "base_uri": "https://localhost:8080/"
        },
        "id": "SMWc6xxc23-6",
        "outputId": "595fafb7-4d93-4743-8a4e-11ec7f994d4c"
      },
      "execution_count": null,
      "outputs": [
        {
          "output_type": "execute_result",
          "data": {
            "text/plain": [
              "array([1., 2., 3.], dtype=float32)"
            ]
          },
          "metadata": {},
          "execution_count": 32
        }
      ]
    },
    {
      "cell_type": "code",
      "source": [
        "arr.astype( np.int16)"
      ],
      "metadata": {
        "colab": {
          "base_uri": "https://localhost:8080/"
        },
        "id": "jkBlLgbC2_7y",
        "outputId": "3cda958d-1849-47bc-a865-4b0edbe6e85f"
      },
      "execution_count": null,
      "outputs": [
        {
          "output_type": "execute_result",
          "data": {
            "text/plain": [
              "array([1, 2, 3], dtype=int16)"
            ]
          },
          "metadata": {},
          "execution_count": 33
        }
      ]
    },
    {
      "cell_type": "code",
      "source": [],
      "metadata": {
        "id": "kmKZrT-_3Cmr"
      },
      "execution_count": null,
      "outputs": []
    },
    {
      "cell_type": "code",
      "source": [
        "# 서로 형 변환 : TF <--> array"
      ],
      "metadata": {
        "id": "HfL68gcx3HwI"
      },
      "execution_count": null,
      "outputs": []
    },
    {
      "cell_type": "code",
      "source": [
        "t2"
      ],
      "metadata": {
        "colab": {
          "base_uri": "https://localhost:8080/"
        },
        "id": "u3YmWWmL3Hyt",
        "outputId": "cdfa67f1-6db9-4b0f-9de8-d343a711ccb0"
      },
      "execution_count": null,
      "outputs": [
        {
          "output_type": "execute_result",
          "data": {
            "text/plain": [
              "<tf.Tensor: shape=(3,), dtype=float64, numpy=array([1., 3., 5.])>"
            ]
          },
          "metadata": {},
          "execution_count": 34
        }
      ]
    },
    {
      "cell_type": "code",
      "source": [
        "t2.numpy() # TF ---> 가볍게 내부의 값 array"
      ],
      "metadata": {
        "colab": {
          "base_uri": "https://localhost:8080/"
        },
        "id": "JTrBgHu63H1N",
        "outputId": "d5d46924-add4-4807-fb7d-887587646641"
      },
      "execution_count": null,
      "outputs": [
        {
          "output_type": "execute_result",
          "data": {
            "text/plain": [
              "array([1., 3., 5.])"
            ]
          },
          "metadata": {},
          "execution_count": 35
        }
      ]
    },
    {
      "cell_type": "code",
      "source": [
        "np.array( t2) # numpy의 자료형으로 강제 형변환..."
      ],
      "metadata": {
        "colab": {
          "base_uri": "https://localhost:8080/"
        },
        "id": "GJJ_yKQf3N0B",
        "outputId": "b26c55b9-99f4-4eb8-87a9-974d90e62f1e"
      },
      "execution_count": null,
      "outputs": [
        {
          "output_type": "execute_result",
          "data": {
            "text/plain": [
              "array([1., 3., 5.])"
            ]
          },
          "metadata": {},
          "execution_count": 36
        }
      ]
    },
    {
      "cell_type": "code",
      "source": [],
      "metadata": {
        "id": "crbyWMJW3ch-"
      },
      "execution_count": null,
      "outputs": []
    },
    {
      "cell_type": "code",
      "source": [
        "#### TF + Keras 기본 흐름만...####"
      ],
      "metadata": {
        "id": "UBTdrN733ckk"
      },
      "execution_count": null,
      "outputs": []
    },
    {
      "cell_type": "code",
      "source": [
        "# 1) 데이터셋을 불러오기 + 수집한\n",
        "mnist = tf.keras.datasets.mnist\n",
        "mnist"
      ],
      "metadata": {
        "colab": {
          "base_uri": "https://localhost:8080/"
        },
        "id": "GyOX19LZ3cnQ",
        "outputId": "20eececf-ed4f-4618-a5cf-530a4be756f2"
      },
      "execution_count": null,
      "outputs": [
        {
          "output_type": "execute_result",
          "data": {
            "text/plain": [
              "<module 'keras.api.datasets.mnist' from '/usr/local/lib/python3.10/dist-packages/keras/api/datasets/mnist/__init__.py'>"
            ]
          },
          "metadata": {},
          "execution_count": 37
        }
      ]
    },
    {
      "cell_type": "code",
      "source": [
        "# scikit-learn에서 train/test split\n",
        "(X_train, y_train), (X_test, y_test) = mnist.load_data()"
      ],
      "metadata": {
        "colab": {
          "base_uri": "https://localhost:8080/"
        },
        "id": "iimM8K603cqb",
        "outputId": "b8449f89-0fc0-4ad1-b50c-0935ad3c6d62"
      },
      "execution_count": null,
      "outputs": [
        {
          "output_type": "stream",
          "name": "stdout",
          "text": [
            "Downloading data from https://storage.googleapis.com/tensorflow/tf-keras-datasets/mnist.npz\n",
            "\u001b[1m11490434/11490434\u001b[0m \u001b[32m━━━━━━━━━━━━━━━━━━━━\u001b[0m\u001b[37m\u001b[0m \u001b[1m2s\u001b[0m 0us/step\n"
          ]
        }
      ]
    },
    {
      "cell_type": "code",
      "source": [
        "X_train.shape\n",
        "# 1장 이미지 : 28 by 28 이루어진 흑백사진. --> 2D matrix\n",
        "# 60000장의 샘플을 쌓여 있음...==============> 3D Tensor\n",
        "# (60000,28,28)\n",
        "\n",
        "# 수집한 데이터 셋 : 3차원 (60000,28,28)\n",
        "\n",
        "# input_layer: 1개 샘플을 중심으로 설계!!!! ---> (28,28) 2D 입력층을 설계!!"
      ],
      "metadata": {
        "colab": {
          "base_uri": "https://localhost:8080/"
        },
        "id": "AbfREqkd3Vlt",
        "outputId": "c9d1e0be-9dc5-4d73-b071-77979b53e582"
      },
      "execution_count": null,
      "outputs": [
        {
          "output_type": "execute_result",
          "data": {
            "text/plain": [
              "(60000, 28, 28)"
            ]
          },
          "metadata": {},
          "execution_count": 39
        }
      ]
    },
    {
      "cell_type": "markdown",
      "source": [
        "![image.png](data:image/png;base64,iVBORw0KGgoAAAANSUhEUgAABDgAAAKiCAIAAAC8X/vHAAAgAElEQVR4Aey9f4wbaZrfV3aMuzojwPEP2yHsyZm4GQT0jGNwx0BAHWCgEgS7ROA9MMBOTGMWCbGDGJxFjBCbS7b3ggUXzgREbrEmFliDAy8ODHqjpbzKiJZPNg8dJYUVrKEA4YYdaCFCXi0KpzuFVEvd1S12s7rVrWa65+159KpYLNbvn9/F4u5l1fvjeT9P6e799vs+zyvM8R8QAAEQSB+B2Y8+3n7jLfbf41/cTx8AzBgEQAAEQAAEok5AiLqBsA8EQAAE/CGw/806EyrTDz70ZwT0CgIgAAIgAAIg4JwAhIpzdmgJAiAQawLHv7iPTZVYexDGgwAIgAAIJJsAhEqy/YvZgQAImBGYfvAhNlXMAOEdCIAACIAACIRHAEIlPPYYGQRAIGwC/KZK2LZgfBAAARAAARAAgdcIQKi8hgM/QAAE0kaATn+lbeKYLwiAAAiAAAhEnACESsQdBPNAAAT8JQCh4i9f9A4CIAACIAACTglAqDglh3YgAAKJIAChkgg3YhIgAAIgAAIJJAChkkCnYkogAALWCSwKlRfyz9VLEj1nBfWSdPCd77749I71nlETBEAABEAABEDADQEIFTf00BYEQCD2BEiQ0EwWVQrV2X7jLfVLl/a/WdfWf3ryy19RExRAAARAAARAAAQ8JwCh4jlSdAgCIBAnAjtvvsN0CO2W8JfW8xJlsax+6dKs+f3Tvb04TRi2ggAIgAAIgEBMCECoxMRRMBMEQMAfAnQ/vXpJOj08XDbI8S/uH3zvI8PNFvVLlw6v/9GyhngOAiAAAiAAAiDgjACEijNuaAUCIJAQAi+3tnbefpftlhx857srZ3Xyy19p6z+dfvAhtWJtn7/3Pg6DraSHCiAAAiAAAiBgnQCEinVWqAkCIJBMAoc/+4SJjZ0337F1juvw+h+pX7rEHwmb/ejjZDLCrEAABEAABEAgcAIQKoEjx4AgAAILBJYl2tLWf7pQ15cHe1/5KtMbx38ytDXA6d7erPl9XqtQrIutflAZBEAABEAABEBARwBCRQcEP0EABEIgYBj7wVb/wexRHHznu2w4Z9Lo5Je/IqljHusSAlwMCQIgAAIgAALxJAChEk+/wWoQSBYBk0RbO2++E8BctR93mFA5+N5HzoazG+vibBS0AgEQAAEQAIH0EIBQSY+vMVMQiBOB08NDShysXpIOf/aJr9a/kH/OhMrzr3/D8UAU67L9xlt+G+zYSDQEARAAARAAgbgQgFCJi6dgJwikjsDB9z5i4mH7jbf83ld5ubXFxlK/dMkN6OkHH7J+dt58x264i5tx0RYEQAAEQAAEkkcAQiV5PsWMQCAhBE4PD/e/9W3SKn7PijZw3Ax0eni4K335QvNckl5ubbnpDW1BAARAAARAIM0EIFTS7H3MHQRiQCAwoeLVQC//7M/pipW93/2aySWSMaAPE0EABEAABEAgPAIQKuGxx8ggAAIWCHilH1YO5eFALz69Q71ZuURypW2oAAIgAAIgAAIpJAChkkKnY8ogECcCtOL322hvB6I0YttvvHX8i/t+G4/+QQAEQAAEQCB5BCBUkudTzAgEEkXAW/1ggoZiVGxdTm/SIQXWTz/40KQaXoEACIAACIAACBgSgFAxxIKHIAACkSBAybi233jLb4P2fvdrTBS9kH/uyVjHv7hPKiusTZV+v5/L5QRByOVynU7Hk3mhExAAARAAARAIhgCESjCcMQoIgIATAnRh/N5XvuqkvZ02lA159qOP7bQzqxvupkqn08lkMsIX/xFFcTwem5mLdyAAAiAAAiAQJQIQKlHyBmwBARDgCMx+8EPakTj64w3ujS9Fuq7Rw5NaIW6qNBqNLxSK2f/O5XKSJFWr1Uaj0e12ZVmGmPHl80KnIAACIAAC9glAqNhnhhYgAAL+E+BVipvb4q1bSqJCvSRZb7WyZiibKjqVks/nzcSK0btCoVAqlZh6GQwGK6eJCiAAAiAAAiDgOQEIFc+RokMQAAG3BHQqJbCrSGgDx+0EuPakfwJL/8WrlFKppGnafD7v9XqFQsFIklh9Joqi1aqJq4cIH+6LRhEEQAAEgiMAoRIca4wEAiBghUBYKmU+n/shVObzeZCbKoYqxQS7oiiyLJ/F2TcajWq1KklSNptNnNDwYEKiKJpgxCsQAAEQAAE/CECo+EEVfYIACDghcLq3RxHt22+89fzr3whsL4WZ65NQCWZThRJ8sVU57aU48cR8PhqN+v1+o9GoVCrFYtGDlX78u3BGEq1AAARAAAQcE4BQcYwODUEABDwjcLq3N/vBD3fefpekQvAqxb8dlWA2VfidEJcqxTO/xr+jer3OFFahUIj/bDADEEgjAWV60nk4q97ey117KqxPDP+bu/a0/eAgjXQiP2cIlci7CAaCQHIJvPyzPz/82Sf73/o2L1FC2UthjEkmeY6c31Tx6kJJMrLT6bDLUtiSulKpsLgUqoCCMwKKolBkTq/Xc9YJWoEACHhLYLh93Ht02NicluVdE+1hKEjMH9buPB/PXnprLXpzSQBCxSVANAcBEHBCQFv/qXpJImFABfWSNPvBD198ekf7cWf2gx8+f+99w2pU37ygXpIOvvPdF5/esWgi9Waxvq1qdKGkt5c/8kEpgiBUKhVbVqGyCQE681YsFk2q4RUIgIB/BHhZUrixba403L8VLz9p3tv3bzro2S4BCBW7xFAfBEDALQE+XJ60ga8F9UuXZs3vr4x4IRvcztCo/f4366x/D++EabfbfOgH9lKMwDt81mw2GVtRFEejkcNe0AwEQMAOAT9kiXj5Semm2ry3P9h6YWiLdnJalnd5kdPYnBrWxMPgCUCoBM8cI4JAegm8kH/uZoeEhISzwq705eM/GZrQp25N6jh+NWt+n/Wv/bjjuBO+Yb/fp4vnEZTCk3Ff5g99NZtN9x2iBxAAAUZgtHtcvztdPLKVubLFSwWTcuHGdlnebWxOe48Oh9vHXoHtPTrkd2ygVbwC67IfCBWXANEcBEDABgErKkX90qXn771/8J3vnp8Bk3/u5qDU8S/uH3zvI92gsx99vMzinTffYVpiWQU3z7X1n7LOD773kZt+WFtVVfnoeQSluEfK91AulxFDzwNBGQRcElCPTtsPDnglYCJF+Fc+yRLD6Wgnp6WbKo0OrWJIKeCHECoBA8dwIJBqArMffUy7FlTYefOd51//xuxHH5tvd7gBd/izT/h4/WVahZl38J3vuhlrWdsX8s/ZlKcffLisjsXnvV6P9lIEQajVahYbopoVAv1+nw7Uvfvuu2eXzFhphTogAAKGBHqPDiu3XjtYRUpgsRCkLDG0VqdV6nen2smpYU08DIYAhEownDEKCIBAyARebm09f+99JhV23nwneGtOfvkrNvreV77qZvROp8OrlFKp5KY3tNUR0DQtn88zofIbv/EbgiDgqkcdIvwEgZUE1KPTrqJVb+9lrxoc6Krc2j1L27Wyk7Aq6LRK/vqzZcEtYVmYqnEhVFLlbkwWBFJN4PTwkLZxggdBo++8/a7j0XXR8/hjv2OSyxqura0xlcKrwWWV8RwEQIAnMNo9bt0/kDZ2FrdKhPVJ/vqz9oMD9SgGGxSL4fX1u1NkLuZ9HVgZQiUw1BgIBEAgfAIhCpX5fK5+6RIzwDEIPi4FJ74cY1zWkM/13Gq16ADYsvp4DgIgMNh60bp/ULm19EqT7NWt2p3no13Pot4DY955OOND/MXLTyBXAoNPA0GoEAoUQAAEkk8gZKHyxdUxzkDzy2hEzztjaNKKx8sO1EGomODCq9QSGM9e9h4drn02XbZzwrZT8tef1e9O+4+je8TLigfHs5d8eL2wPoFcscLNwzoQKh7CRFcgAAKRJsDf3xKKoZR/zMHo/DIatzo6AGjehN8/oVzPECrm0PA2PQTGs5cs5mQxrTB/yku8/KQs77YfHCjTEytw+o8PpY2dzsOZlcoh1pEnRzpVJl5+gpxgwXgEQiUYzhgFBEAgZAK8Stn/Zj0UaxwLFbp8UBAEWkaHMoVEDjoYDERRZLKExwuhkkh3Y1LWCfQfn++cmOcUzl7dKsu7JtcpmgzHQu3PFv0mdaLzalGulOXdWITcRIehA0sgVBxAQxMQAIGYEaDLFrffeOv517+x8op6n6bnQKioqlqpVGjFzC+jfTIybd2qqprL5RjhYrHIn6kj7GljgvmmmQALiC/dVMXLT/jdEr5c7G/X7067imZx52QZT+pzWYUIPtfJlfz1Z3EMv4kg2GUmQagsI4PnIAACSSBw8stf7f3u1yg0JUSVch5MbzNGZTgcUqpcQRAkSeKX0UlwTwTmQHc7iqI4Go14iyBUeBooJ5iAdnLae3RYu/PcMJswkxOFG9trn3kccxJHocI+g8bmlIzPXNmKcrbluH+3ECpx9yDsBwEQWEpA+3GHLpsPdy+FmWhLqDSbTTqPJAhCtVqFSlnqaacv+NCUxVzPECpOuaJdPAiMZy/bDw7K8u6yzZPctae1O8+7iubTASda68eD1+tW9h4d8jnBELLyOh7PfkGoeIYSHYEACESKAB+UsvPmO8tuow/SZotCRZZlfiMlk8ksrqGDNDupY/GhKdVqdXGaECqLTPAkAQSG28fNe/vLIk8yV7Yqt2wExLsBEmuhMp/PR7vH+evPaBYIWXHzMSxrC6GyjAyegwAIRJHAi0/vPH/v/cOffWJi3PEv7u9/69t03Gvvd7928stfmdQP7NXO2++a36MyHo/5iBRBEAqFgu48UmDWJnsgPjQln88b7lZBqCT7G0jV7JTpSefhrHp7b1narvz1Z2ufTYfbgd52Qkv8+PpCPToty7s0EYSseO5KCBXPkaJDEAABHwk8f+99ttY//sV93TCne3uzH/yQdi1YtXCDUnQWknbSPWc/W60Wfxt6JpNpNpuGNfHQPQGT0BTqHEKFUKAQRwIrxYmwPindVK1nE/YcAq3vPe854A4RsuIfcAgV/9iiZxAAAe8J7H+zzpb70w8+ZL0f/uwTnTghPRAplTKfz8mwRS78NSmCIFQqlfF4vFgNTzwhYB6aQkNAqBAKFOJCwIo4YYe7/Is8sc4qMUJlPp/rQlZqd54jG5j1L8GkJoSKCRy8AgEQiByB41/cp+X+soL6pUsH3/nui0/vRM16MlhnGK9S8vm8LMu6CvjpIYGVoSk0FoQKoUAhygSsiBNhfSJt7DQ2p4OtF9GZS5KEymLIirA+Kfa3Ow9n2slpdJjHzhIIldi5DAaDQNoJ8PEntPRnBfWSZB6+Ei47spY3g1cpuCaFJ+NHeTwe060py0JTaFwIFUKBQtQIWLwqnokTeXIUNfuZPQkTKuc56F8PWWETzFzZat0/iKYLom8VhEr0fQQLQQAEXiNwenio0yr736yHdYfja5at+qETKqqq1ut1Wg1Dpazi58F7SZIY8EwmoyiKeY/kGvNqeAsCwRDQTk77jw/rd1dcFR9xccKzSp5QYbMbbL2o3t7TJX3uPJzxc0fZIgEIFYugUA0EQAAE3BIgoaKqaqPR4EPnoVLcwrXQnt+86vV6K1tAqKxEhAoBEGDZhEs3VVrWLxZiJE54YjQR/mFiyurRafvBAeUvFi8/QdSKA+dCqDiAhiYgAAIg4IQACRVeogiCAJXihKbNNr1ej4RHo9Gw0prqW6mMOiDgIQEWdlK5tctfKUjLelYo9s+vio/ssS4rNGhGVirHtI56dEopofPXnyFexa4fIVTsEkN9EAABEHBIgIQKrYBzuRwuc3RI004zRVFIHJZKJYtNyU0W66MaCLgkMNw+rt+d0t/gaR1Phfz1Z/W7096jQ5+uindpv93mNC+7DeNVf7D1go6BVW/vxcv40K2FUAndBTAABEAgLQR4oQKJEpjXNU0rFotMdeRyubNzdxaHhlCxCArVXBJg+oT+7k7Ld1bIXt2q3t7rPJyNZy9dDhS15jTTqBnmuT2t+wc02cbm1PP+E9whhEqCnYupgQAIRIhAo9EgoYKzXkE6plarMckhiuJwOLQ+NISKdVao6YCAPDmq350a6pPMla2yvNt+cJDsqAZauzugF7sm/AX20CrW3QehYp0VaoIACICAQwLshkESKpqmOewIzWwSaLfbpDfsnrKjhjbHRHUQWEpAPTrtKtqy4JPs1a3aneexDjtZOnOjF6kSKtrJKZ8RYbh9bIQEz/QEIFT0RPAbBEAABLwl0Ol02JKXhIq3/aO3ZQSIvCAI9Xp9WbVlzyFUlpHBc7sElOlJ+8EBv06lNbqwPkmbPiF6BIGeJLugnZxKGzts1mV5N9mT9Wp2ECpekUQ/IAACIGBAgF8rQ6gYAPLtEU/e2Vk7CBXfnJOWjofbx2ufLQ2Oz117Wr8braviA3ZM2oTKfD4fbh+ncNZuvisIFTf00BYEQAAEzAjwa+VCoQChYgbL03c8eWcqZT6fQ6h46pO0dMYOd1Vv72WvbtGSlC8Ubmw37+0nO/jEorMJi8X6yaiWzlk79h2EimN0aAgCIAACZgT4tXKhUFBVFULFjJd373jyjlUKhIp3DklFT+xaxmJ/m5ahukLpptp+cJC8zF1uvEuI3HQSu7bpnLVjN0GoOEaHhiAAAiCwlAAfw81Uynw+h1BZysu7F16pFAgV73yS2J5Wbp5krmxVbu12FS0Z15547sh0LtnTOWvHHw+EimN0aAgCIAACxgTq9TqdGiKVAqFiDMvTpx6qFAgVTz2TqM5Gu8et+wcUFU3rTiqwaxn7jw8TNW0fJkPEfOg7ul2mc9aO/QGh4hgdGoIACICAnoCmaeVy2VClQKjoYXn9m+WAZvDdnPgiu8iP9ASF1BJQpiedh7Pq7T3Da0+E9Yl4+Qm7+USZnqSWkt2Jp3PJns5Z2/02qD6ECqFAAQRAAARcERiPx4VCgVa35XJZdwk6jn654mvaeG1tjch7olKwo2LKOxUvV4oTYX2CzRM3n0I6l+zpnLXj7wRCxTE6NAQBEACBVwSGw2Eul6O18uKtHSe//BUTKjtvv/uqGUpeEKhWq0TeK5UCoeKFZ2LZx1k8SWPT+MJ4tsTE5olXfk3nkj2ds3b8zUCoOEaHhiAAAiBwQaDX62UyGVort9vtRTSHP/uECZXpBx8uvsUTZwQ0TSuVSkTeQ5UCoeLMI7FuxSRK5opBWmHx8pPSTbV5b3+w9SLWc4yU8elcsqdz1o4/PAgVx+jQEARAAATOCfAB3JlMRpZlQy773/o2EyqzH/zQsAIe2iWgqmqxWCSVUq1W7fZgXp96Nq+GtwkgYChRIE789mw6l+zpnLXjbwlCxTE6NAQBEACB11RKLpcbjUbLoOxKX2ZC5cWnd5bVwXPrBBRFyefzpCUajYb1thZrUucW66NaHAkYSpTctaedh7M4TideNqdzyZ7OWTv+MiFUHKNDQxAAgbQT4PdS+DTEi1xO9/YuAlTefOf0EElLFwnZe6KLCDI8a2evR6PaoigyraJpmtF7PIsxAQqU1x30gkQJ0qnpXLKnc9aOvysIFcfo0BAEQCDVBKyrlPl8fvTHG0yo7H3lq6mm5sXkB4MBRQSJotjtdr3o1aAPyo6gKIrBazyKJ4GuohmmGIZECd6f6Vyyp3PWjr8uCBXH6NAQBEAgvQT4ZLjmeymM0cH3PmJC5eB7H6WXmhcz7/f7tNGRyWT6/b4XvRr3QUfLTE70GbfE06gS6Dyc0TKRCpAoYbmLXBCWAaGMm85ZO0YNoeIYHRqCAAikkYCmaZVKhaIXrKiU+Xz+/L33mVA5+uONNFLzaM78LlYmkxkOhx51bNyNJEnM0csSJBg3w9OoEuBVCgLlo+CldC7Z0zlrx98bhIpjdGgIAiCQOgKqqtLiVRCEUqmku9LRkMjp4eHOm+8wofJya8uwDh6uJMDvYuVyuQCOY1HiY1/3bVZOHBU8IcCrlNJNVTs59aRbdOKGQDqX7OmctePvBELFMTo0BAEQSBcBXZqpWq1mcf4vPr3DVIp6SbLYBNV4Apqm8Vc6FgqF8XjMV/CpTIN2Oh2fhkC3wRBoPzig1SFUSjDMrYxCTrFSOTF10jlrx+6DUHGMDg1BAARSRGA4HFIAtyAIzWbT+uS1H3eYUNn/1rett0JNRsDZLpYn9Gq1Gjv6BaHiCc9QOtFOTmt3ntPSEColFC8sG5T8sqxCIp+nc9aOXQmh4hgdGoIACKSFQK/XowBuB2mmph98yISKtv7TtCDzaJ6KohQKBYoI8vxKR3MzG40GG9qPS1rMh8ZbTwiMZy+L/W1aF0KleELVw07INR72Gf2u0jlrx36BUHGMDg1BAARSQUAXwD0YDOxOe+ftd5lQOf7Ffbtt01x/OBxms1lSKbZ2sTzh1mw2IVQ8IRlKJ/LkKHt1ixaFtTvPEZcSiiNMBiXvmNRJ3qt0ztqxHyFUHKNDQxAAgeQT4FWKswDuk1/+iqmUnbffTT4v72bY7/fprJ0oiqEcviLvB7yT4x3F9PbUuv8qKEW8/KT94CC9LCI883Qu2dM5a8efIYSKY3RoCAIgkHACtE4VBMFiGuJFIoc/+4QJlekHHy6+xRNDAu12mzZSMplMWNmBu90uMwNCxdBNkX3Y2JzSWjB7dWuw9SKypqbcMHJTqjikc9aOXQyh4hgdGoIACCSZgCcqZT6f73/r20yozH7wwyTz8mhuqqpSUmBBEHK5nN+XpZgYLssyEyqlUsmkGl5FigCvUor97fHsZaTMgzE8gXQu2dM5a97vtsoQKrZwoTIIgEAqCHilUubz+a70ZSZUXnx6JxXsXExSlmU+KCWwNMTLTB4MBkyoSBLySi+DFK3nvEpB6Hy0fGNkTTqX7OmctZH/LT2DULGECZVAAATSQ4A/d+T4xBfDdbq3dxGg8uY7p4eH6WFod6aapvH3OQqCUK/XNU2z24+39RVFYUIln8972zN684MAVIofVH3tM51L9nTO2vGHBKHiGJ2rhsL6xFV7NAYBEPCHQL1eZ2tTN3EpZNrRH28wobL3la/SQxR0BEajUbFYJOzZbDYiN8GPx2NmVS6X09mMn1EjAJUSNY9YsSedS/Z0ztrK92BYB0LFEIu/D/GN+ssXvYOAIwKappXLZVouu9xLYSYcfO8jJlQOvveRI6OS36jb7dIdNYIglEolVVWjM232PWQymeiYBEsWCeDi+UUmsXiSzuVQOmft+IOEUHGMzlVD7Ki4wofGIOA1gfF4zF8sWC6XPVkuP3/vfSZUjv54w2uTk9AfXVQiCIIoiu12O2qzIhEVNcNgDxEYz16Kl5+wxR/iUghLLArpXLKnc9aOP0gIFcfo0BAEQCAhBIbDYS6Xo72Uer3uycRODw933nyHCZWXW1ue9JmkTqrVKjEvFouj0SiCs6MPI4K2wSRGoH73Ihlx4cY2rnSM11eRziV7Omft+MuEUHGMDg1BAASSQKDX69HFgoIgePhH/Ref3mEqRb2EnFGvfSq6HMTlcjn0uPnX7ON+QKhwMKJY5LdTeo+QryKKPjKxibbCUpVFGkLF5JNYfAWhssgET0AABNJCoNVq0R/1Pb9YUPtxhwmV/W99Oy1ALcxTURT+lF2tVrPQKLQqECqhobc2ML+dYq0FakWIQOmmylbt7QcHETJrPpcnR9LGTufhzA+rIFRsUYVQsYULlUEABJJDoNFokErJ5XKeHz2afvAhEyra+k+TQ83dTHSn7JrNprv+fG8NoeI7YhcDYDvFBbxINO08nLFVu7SxEwmDPjeC/678sApCxRZVCBVbuFAZBEAgIQR4lVIsFj0JnefRnAeovP0uEyrHv7jPv0ptud/v0yk7URS73W70UUCoRNlH2E6Jsnes2KYendLpL/Xo1LxJ//Fh7tpTYX2Su/bUp70OZoDf3xWEirmjdW8hVHRA8BMEQCD5BHiVUiqV/AiQeCH/HAEq/JfEX6Pp+Sk7fiBvyxAq3vL0trfs1S225kN0irdgg+xN2tix6ERyt7A+ES8/8c9IGsin7wpCxZbvIFRs4UJlEACB2BPg41J8Uinz+Xz/W99mQmXW/H7skbmeAH+NZi6XGw6HrrsMqAMIlYBA2x9GnhyxBV/u2lP7rdEiKgTops7q7T0Tm4bbx7S+ZwWTyi5f0UAu+1nW3O/+l40b0+cQKjF1HMwGARBwQqDT6VBcin8q5bVzX38Sm0W5E6Cr2ixeozkej1c1itB7CJUIOeN1U6q399iCr353+vob/IoTASuCUzs5LdzYZu5mp79qd577N0m/hYTf/ftHJpSeIVRCwY5BQQAEQiDAqxRJkvw48cVmdXj9j9h2yq705RDmGZkhdddoRu3WeSucIFSsUAqlTubKxbkveXIUigFJGtTXJFfmoLST05ULd9p1ES8/Ge0em3fo/i2FzRh21X98KG3suElTtnK+huOm9iGESmpdj4mDQLoI8CqlUCh4Hj3P09z/Zv3i3NcPfsg/T1VZl+Ar4mmIl7kGQmUZmXCf05/hM1dwlaoHrmBRGb4GfphYScJguG0sQtguirA+ad7bN+nHk1fj2UsmJJZ9Wu6NgVCx5SkIFVu4UBkEQCCWBIJUKfyF9Ce//FUsebk2mk/wJQhCq9Vy3WU4HUCohMN91aj0J3bzwIZV3eD9OQE+/GOZVPCVVOXWLlu7l+XdxYHUo4stl2XKYbGJmye9R4fMmGUZkyknmGNdB6Fiy0EQKrZwoTIIgED8CPD5pvzeS5nP54c/+4Rtp+x95avxg+WFxbwsFEWx1+t50Ws4fWSzWRbU5N9BwXAmFvNRKWLB1zS1MYdk1fzW/QNaOhtKBasdOa3HK6XFPgZbL5h5xf724lvPn5AGXhb7ZOWsmrlVRNu8Gt4yAhAq+BJAAASSTIDPNxWASpnP58+//o2Lc18/+jjJZJfMTZZlURTZ4j6bzcYowZfhhGhHRVEUwwp4GDwBOpwjrE9WXr4RvHmxG7EsX2xosAV0KJsqTB4YyqT2gwsd5WsAPXmNaHQVjR7qCi6VhsvmOsB+2+EAACAASURBVGMS/xNCJfEuxgRBIKUEFvNN+RqXwiif7u3tvPkOEyov/+zP04ZeURTagigUCglY3BeLRSa6BoNB2rwZ2fnSdebB/Ik9shy8MozSErAFtKFa8GosB/3QUavW/YOVzelSSBIDusLKyyKJhknUPvW50h7DCi6bG/aZ4IcQKgl2LqYGAuklEFa+KTr39fy999NGX9M0WtZns9l4pSFe5qxSqcSESr/fX1YHzwMmQCENjU0kJvaAPa2bqeBBp951UbqpMsP6jw9X9kqR7jSXxYJ5bAnVNxnLSh3/mpv0nMhXECqJdCsmBQKpJhBivqnn773PtlO09Z+mzQfVapWt6UVRTMz+A02q0+mkzaGRnS/9zXuw9SKyRsbIMFp2UyE6xo9nLykn2Hj2UmdYV9GkjR1+p6V5b59msaxgfoSMWvUeHZLsyV17yucjpjo6eyz+dNnc4iiJqQahkhhXYiIgAALnBELMN/Vya4uplO033nq5la6sqc1mk6kUQRDa7XZivsW1tTU2r/gmLkuML2giWOcRCk8KxJMKnnTrSSd07qtwwyCSnmVVFtYnHu6tEQQSSPSEkiPTE2dzdNnc2aDxbQWhEl/fwXIQAAE9gXDzTWnrP2VC5fnXv6G3LNG/+YwFMb0vZZl/SIA1Go1ldfA8YAJY53kLnHhSwdv+3fRGUqT3SH/ui4Lsmdle5QBY1CeEhc6M0RNnU3PZ3Nmg8W0FoRJf38FyEACB1wjQH78FQQgl39Te736NCZXDn33ymmXJ/aHLWFAsFhOWxpekb7VaTa4bYzYzrPO8dRjxpDW6Mj3xdgjHvZFtuh74I2Gsjic5AC4Syv1kwvrMXt0az14u5iNeZpXOyGU/ifOyCnjOE4BQ4WmgDAIgEEsCmqZVKhU6ehRKvqmXf/bnTKXsvPnO6d5eLDnaNDqsjAU2zXRVvd/vs++qUqm46giNvSPgcpnonSEJ6Yl4Shs7rByd22nINh1rOhJGYSSe3FtPtz0K6xPx8hMWBEU3q5ydMWNmLLNKZ6ThT5I9tD9jWA0PiQCECqFAAQRAIJYEVFWlZFOCIJRKpQDSEC+Smv3oYyZUph98uPg2eU9CzFgQJExZlplQkSQpyHExlgkBN8tEk25T+4p40oq8ejsqf2oh23jv8NspvUeH1dt7rJr7pf9Xbl5INWF9wqLniYmwPqnc2mVmGFrFW2hSptstDaNuTBqm9hWESmpdj4mDQBIIjEYjupJPEIQQAyT2vvLVi3Nf1/8oCWRN5xBixgJTu7x/qSgKEyr5fN773tGjIwJulomOBkx4I+IpT45YOXftaUTmTLbx9tB2ClvrayendJjKTVS9PDn6937yhI34n/9f6nw+X/tsSgaUbqraySkzgx7yVlG5eW9f2thZtitFmzaenFWjQRNcgFBJsHMxNRBIOAFZljOZDJ34CjEv08kvf/Xq3NehPugzYW6gsA1BEERR7PV6CZsgPx1VVdkHlsvl+Ocoh0jAfJkYomExHZp40qkkOuMU+ozINrJEt53CnpN0cXwATJme/LWfbV0M95PJv/6zw2J/m0bnVcp8PqfnZBUrjHaPqVXminHiR0qgvPYZbgHS8TP+CaFizAVPQQAEIk6g0+mIosgWkaEvl2c/+CETKvvfrEecm0vzZFkm7KFkLHBpv4PmpIQdtEUTPwgsWyb6MVYa+uR58uUozF1nj3p0Std98kentJNTuhdSvPyEtj4sTkE7OSWBIaxP/sq/eEp39QjrE51KWSZUWvcPaGOHPyems6F25zmbFH8xi64OfvIEIFR4GiiDAAjEg0Cj0aDlYxSWy7vSl5lQeSH/PB4EHVmpKEo2m2XkQ8lY4Mhqt43obKHbjtDeIwK6xatHvaa3G54nX44CEbJnsaBLWKydXGgYBwE2FOWiG0W8/ITuTuFpUDX2UD065bd0lrVilSljgTw54vtEeRkBCJVlZPAcBEAgogRqtRqplCgsl4//ZHhx7uvtd0+Te+5L0zRKWpDNZsfjcUS/D6/NglDxmqjb/nTLRLfdpb49z5MvRwEMv0dBtrFdDkPzFm+vN6zGP9Tdx0KjFPvbo91jviaVqY56dNrYnPLbLyatWHO6GcaBqWRAqgoQKqlyNyYLAvEmoLu1I6wEXzqIs+b3mVA5+M53da+S9LNarTJ9KIriYDBI0tTM5wKhYs4n+Le0TAx+6ESOyPPky1GYLEV0kGG5a0+Xxak7MFg7OeVlBhtl5RBkjK7t4iExnUkUBeQ+QZmu5wT/hFBJsHMxNRBIFAFVVSVJor2USqUSkbsF1UvSxbmvT+8kijg3mVarReTb7Tb3JvlFCJWo+ZiWiVEzLKb28Dz5ckynY9FsthnCX8PC7k6xooKIEhVWahtmFXITW/QOXw1ChaeBMgiAQEQJKIpSKBRorVyvRyVmnc59qV+6FFF2rs3i03yFmADa9TwcdgCh4hCcb81odejbCOnqmOfJlxNJofNwphMnNGVhfaKLe1lGgD+QZlGisK6Qm3gZUpPnEComcPAKBEAgEgR0l6U0m81ImPW5EQff+e7Fua/vfRQdqzy0hFcppVIpIrtYHk5wZVeUAntlTVQIhgCtLIMZLvGj0LKbDiZFJz2xV/D7jw9N9An7opYlFF60gQ6kVW7t2sowRg2Rm3iR6rInECrLyOA5CIBAJAgMBgNaKYqi2Ol0ImHWF0Y8f+99JlSO/2T4xbPk/G+olPNUpF/8Jzl+jflMaGEd83lExXxawSvTk6SKQJojTfD1wvk9j9LGjt8uQW5iB4QhVBxAQxMQAIGACPT7fbq1QxTFfr8f0MCWh5n96OPtN96afvCh5RaxqQiVwlz1hU7B/7uMyqdLi86oGBRzO/iEubR8j/mc9ObTVga74UQ7OX09jH4srE/qd32/gZFHrTcRv5cQwP/lXQIGj0EABMIm0G63aY2YyWSGwwRuWYTNeOn4fPR8Ok98ERr6COkJCuESgFDxlj9dodhVtKQKlUVinYczNtm//NPz7RRhfdJVtMVq3j6hLGHITWwdLISKdVaoCQIgEByBer1OC8RcLqcoSnBjp34k/j7NlKsUHP2K4L8GCBVvnUKXFfI3ing7RAR7o6vo/9JPzlWKsD5ZdmuKh8anRwd6Cc3DvtAVCIAACLgnoLsspVAopOduQff03PcAlaJjSIJZ9xw/wyIAoeIt+cbmlC2gqZC8YHodMUoT/Bc+lyjC+qRwY1tXx4+fECoOqGJHxQE0NAEBEPCLgC4NcblcVlXVr8HQ7wIBqJQFJAimX0QS8hMIFW8dQIegqrf3UrKSpk0kYf383Jd4+UkA2ynn27Nf6CJvPZjs3iBUku1fzA4E4kRgOBxms1n6A3Z0LkuJE0QXtiIuxRAefZCGb/EweAIQKt4y7z8+ZAvosrybhpX0ePaSEscJ6+dh9FYuefSEeRrwegKK7wRChaeBMgiAQGgEer0eJfgSBCFt15+Hxv2LgQeDAfFHXMoXVM7/N4QKTyMKZRIqZ5eLR8GeuNtA56AobCPZR7902ynV23uBeXCZUDn7khubU/Zh27pBMjDLQxwIQiVE+BgaBEDggkCz2aTlYCaTkWUZaIIkoKoq3b9eLBZTeKujCW36Mk3q4FWQBEioKNOTIMeNxVj9x4fSxo6tLYLx7CVbQBPYBAuV8ezlr1++SPMlrE/y15/ZurHR5TdgKFQ6D2eUDYxVEC8/cTlQkppDqCTJm5gLCMSPgKZp1WqV1oK5XG40GsVvGjG3uFwuMxeIogj+OmfSx6l7jp9hEaDLKIKJKwhrms7GzV7dYkEXtprT+thwJW2rq4hX5rdTAgtNISY6vKPdY34Xi97W7jynJihAqOAbAAEQCI2AqqqSJNFCsFgsInQ+eGfwoSmdTid4AyI+Ip2Iw0ZTRDxFQkWeHEXEpOiYQYtdWyYxeUNtE7yj8u93X22n2Np3ssXTsLI8OWKEc9eejnaP63enXKjMBCe+DKGdH75d9gLPQQAEQMBXAqPRiI4bCYJQrVaxEPQVuGHnfGhKtVo1rJPyh/l8nmlp7DVF5EugCwr7jw8jYpKHZvDhCrxyENbP17L1u1PzuwKpiS2TFv+ub6t5XCrz+ZdZaIo8ObJ7Us7xZGt3njPv8PqEbX817+077jbxDSFUEu9iTBAEokhAluVMJkN7Kc1mM4pWJt0mPjQln89DKBo6vFQqsQ+13+8bVsDDgAlQFt2A/yIewDTlyZEuXIGEB1/IXXvafnBgaA9VM3y77CFpP2fNl3Ubqedrn11cF8PmqJ2c8um//Da19+hwcdtKWJ8U+9s4wWgOH0LFnA/eggAIeE+g3W7TcRpRFLvdrvdjoEcLBBCaYgHSvFarMaGCTHRWcAVQh8IM3AgVB0HnAUyNTrWRYDApGP4Znurbspbfagjs9kNbFrqpvCwUhFj5d9ujMj1Z+2xqKFEqt3Z7jxK4JejGU4ZtIVQMseAhCICAXwTq9TptpGSz2eFw6NdI6NeUAH+3I0JTTFBRSrq1tTWTangVGAFaVTc2p44HdRZ07ng4iw2b9/bZES9DDdZ7dFi4sU3La8PcUPTW4oisWlfRqKGwPknGAppp0dqd5/xRq7/4kwk/U1b2Y75dRSvdVBfHEtYn7QcHyKxt/fuEULHOCjVBAARcEVBVlU7RCIJQKBQURXHVIxo7JcCrFISmmFPsdrtMWgOUOSi/3/YfH/L5c/kloINAZGrut9nm/TvY2NFOTk2MN3llYslg6wU1TEwkvW4fQ7z8pHlvn0lBfrKlm6oJGbuvziKIGpsGWyi8MXb7THl9CJWUfwCYPggEREBRFApKFgShXC4jIiIg9AvD8Gm+cGvKAh79A1mWmVCRJEn/Dr8DJMAv9fiFJisbbi+YWEc9mNQJ4JWzjR0T401emUxHPXolfhIjVAgFuy/F71CQ0e5x9fYev3vDDCjdVLuK1n5wQPaYOAKvFglAqCwywRMQAAGPCehC53GExmO+drqjZbcgCLiB3go5RVGYUMnlclbqo45PBBaXgLTyE9Yndq+eoN7Mk2j5NBfqlqZAT6wUTFqZvDLvmYL4XQZssI0vB3tc5uY5eEso/D7MJk+OyvIuP5ywPsle3Vr7bMruJO0/PiS8lVu7DuaS5iYQKmn2PuYOAkEQ6Ha7CJ0PArSFMRRFyWaztD+ATS0LzM6rMGKCgP+PaRGYL9XYoZ3aned0H4WbQzsUP7AsfZYvc1jolFa3C2/MHpi0Mnll1uN8TivprqKZ1zR5y1+ybnePy6RbZ69Ii7r5TsyH7jyc8VFDDH6xv61jyB9Z1E5OzfvEWx0B/J9dHRD8BAEQ8JJAv98nlZLNZgeDgZe9oy87BDRNKxaLtDkwHo/ttE51XbrwB1FVUfgOSKhIGzuO7ek8nLFlpZtOHI9ODZ3pCpNWJq9o0MXCcPuYGtpVbssufrG7x7VolcsnpGxd9rPYfDx72by3v3gWsXJrd7D1YrE+BcaEzmTRtug/gVCJvo9gIQjElcBwOKTLUhA6H7oXq9UqUymiKEIx2nKHJEkMnSzLthqish8ERrsXq+r89WeO++ejMhx34r4hyQNbXZm0om0EdujIYret+68iKOp3V+dSG26fX6zObxSQSayQ1BW5PDlavHMmc+XVKS+LwFHNOgEIFeusUBMEQMAGAf6UUT6fV1UvM6vYsANVPyfAB9AjGbHdj4I0Hu78sYvOj/rK9ISthnPXnrrpn9bWbjpx2daZDSat6CYWwwTHy6zlQyxMDkqZJF4jkyq3dpN3ukk9Om0/OMhff0bTZAV282by5rvsOwnlOYRKKNgxKAgknAB/5Xkul8OBmXD9PRqN6ABerVYL15g4jk7ZnJvNZhztT5jNtBmSubLlZmq06HTTicu2zmwwaUWXzFRv71m0jb+gnUWBGzbkI8LJAFaIQui8oc3uH5rk8uo/xnWN7gGv7gFCZTUj1AABELBFQNO0QqHAjspkMhlc6WiLnueVNU2jxNBIRuwMb7vdZt8zZJ4zgJ63ooWym5496cSNAed5GtYv7h+01Y9JKwrgsb7dVL87pQ5ZwdAY/qBX9uoWy2pgWDMBD7WT087DWbH/6npNRiZzZat+9yKXVwKmGYspQKjEwk0wEgRiQ0DTNLrVURTFfr8fG9MTami9XqfQFGxtOXNyv99nDEulkrMe0MpbAhSJ4aZbWp276cRlWwc20J6J4YUn2skpwbESpqLbTmH2GKZsTklE+Hj2cu2zKeVAIwflrz/rPJzhlJfLD95BcwgVB9DQBARAYCkBOs0vCAIO9C/FFNQL/tYUhKY4pj4ajZhQKRQKjjtBQw8J0F/33fRJC3rDdbmbnq23pXWwxSa8Sll2I4etMBXaTinc2I5IymaLKDyvNth6sRgoL6xPluXy8twAdGhIAELFEAseggAIOCGwtrbG1nOCIOA0vxOCnrYZj8d0a0qlUvG073R1pmka+7AzmUy6Zh7V2XoiVKKwLrclVHiVUrqpLvvrPlVbGaainZzS1kHv0WFEUjYH/9F1FW3xlBe7sTFEERs8h2iOCKESTb/AKhCIHwEKOBYEoV6vx28CibO4XC6z5XUul0PWNZfuJcnnsh8094SAJ0IlCutyi0JFl27LRKXM53PrYSpEgAW0UJYCw0NlnjguUp2oR6eG16EUbmzbypkWqUklzxgIleT5FDMCgRAI8CqlXC6HYAGGfJ0AxX8LgoDbP15n4+QX3fnopDHaeE3ArlDpPz6UNnZ0q0/16FU4x9mthV7baKk/i0KFv1vQXKXM53M+TKWxaXYpCm0jNO/tM3PJHh0rS5OJT6XR7nHtznM6+0ezximvCPoQQiWCToFJIBAzArxKKZVKmqbFbAKJM3cwGFA+4kajkbj5hTAhCJUQoC8f0q5QYQt98fITXZcUztF7FE6qWVoi6wzT/aQltcVbSijy5GxvZJlWodvoxctP6IATDbTISmdSTH/2Hx/SkT+Cz25sJAgxnVpSzYZQSapnMS8QCIgAVEpAoC0PMx6PaVWNfMSWsa2oSEhX1MPrQAjYFSq0JNVZZz2cQ9fQq5/LDNP1zzJuWb/uXTs55ZfjhlqFxExZ3qXhKLVXwk5/aSfGNzYilxe5PrIFCJXIugaGgUAMCEClRM1JmqYVi0UWmpLNZsfjcdQsjKk9ECqRchwJFYtHtpbpAevhHD5Nf5lh7ofTaZXh9jHf52j3mDZPdBcX2hVFfLcRLJ99IY1Ng3TDZXlXN/EIGg+Tzu8aAgUQAAEQcEYAKsUZN19b1Wo1plJEURwMBr6OlarOIVQi5e7CjYub+HTr72VGLtMD2snpslfLuvL2ua+jayendLaN3zaZz+cUnVLsb3s7o+j0ZihRcGNjdBxk0RIIFYugUA0EQOA1AlApr+GIxg8+gL7dbkfDqIRYQVm/kD8tCh4ty7tsiW/xj+ImesDk1Xw+7zyc5a49zV172n5w4MfEzUd3PyIFogjrExJ17QcHbFzx8pPR7ms7Le5HjEIPhhKFOdHiFlwUZgEbGAEIFXwJIAACtglApdhG5n+DTqfD9lIEQajVav4PmK4R6EBdv99P18wjOdvanedsqW1RP5jogcVXbJlLp8uoAqXG8hAJnb9adimK+7FI1LFNFf4qej9m5N5gNz0skyjJTmLmhlj020KoRN9HsBAEokUAKiVa/vjcGl6lIPGaHw6q1+tMB+ImUz/w2u2TYr4Nw8QXeyOxsfJV+8EB3YFIrVjBj0RYJIeU6cmibZ484TdV+BkVbiTq0BckiidfSwQ7gVCJoFNgEghElwBUSgR9A5USgFMIMq4JCoD2yiHopsKVl6+zrmiBvtgzvVKPTikRFj0U1ieVWxfHzPxIhGU32GbRfitPqrf3+BmxclgZma0YbKsOJIotXLGrDKESO5fBYBAIjQBUSmjolw9MC2hBELCXspyT2zfD4ZDtqORyObd9ob1rApStS9rYsdIZLdMXK9MrfiMld+0pf1iIDmhZ3MBZHGXZEwp2lydHy+q4f66dnOq0Summ6r7b0HuARAndBQEYAKESAGQMAQJJIACVEkEvtlotikuBSvHbQXSHJuLp/Ua9sn9lesIERv76s5WVzzOcrk/Yfxcr0ysqLF79zu+0eBvXQds1XQX35C46Z+kTSJSlaBL3AkIlcS7FhEDABwJYEPsA1W2XkI5uCdpsXygUmCwcDoc2m6K6xwQorbDFuBESIYt20G6JsD7RbaRQZf5OEosjUlvzAm108Bs45k1S/hYSJW0fAIRK2jyO+YKAbQI4XGQbmf8NoFL8Z6wfoVwuM6GCxF96NGH8zl7dYvLjbOW6cnwToUJx+ZVbuyapt0gaCesTD0VFY3PKbPN2o2YlkNhV0E5Oe48Oq7f3+BN6JtoydhOEwcsIQKgsI4PnIAAC5wSgUiL4HUClhOIUukwTd9SEwl83KF1ZONh6oXu1+NNEqCxWXvaE9l483FQhmeR59MuyWcTruTI9aT84oAzL5EdIlHj50Y21ECpu6KEtCCScAFRKBB0MlRKWU5rNJttRaTQaYdmAcYmAratUaIFLzR0USFR4mP7LbvoyB2bHsclw+3jtsymlRCP3scKyE3pxnClsXkkAQmUlIlQAgZQSgEqJoOMRLBSiU+hfRLVaDdEMDM0ItO5fXK9evztdyYRWuitrmldgWqV257l5Netve48OmW0W8yxb7zl2Ncezl11Fq97eo0N95DVWKNzYXvtsOtw+jt3UYLAbAhAqbuihLQgklgCtyZD0Njo+7vf7yPEVojtkWWb8JUkK0QwMzQj0H18s8Yv91RcX0qmtqNGzm2c5ava7t6f/+NBk80RYn5Tl3faDA/8uxHQ/BfTgKwEIFV/xonMQiCUBqJQIum00GmUyGVooaxqSmQbtJUVRGP98Ph/02EkZr//48D/4Igie/Zk8d+1p+8GBg/mNZy9ZD5krWyube74TsnJEixVGu8dsFlbklsU+o19ttHvcun9QuqmSgGQQ6H9mr25Vb+/1Hh2apDeI/jRhoScEIFQ8wYhOQCA5BLrdLv5sHzV3qqqay+WYX3K5HO7xCMVBmqYxF4iiGIoBCRg0d+0pLUYXC3ZjDygB1Hj2MqZw6EKY3LWnMZ2CdbOH28e1O8+XnewS1ifF/nbz3j4Od1lHmoaaECpp8DLmCAJWCciyTLfa4QJBq9R8rqdpmiRJtETGJR4+8zbrPpvNMkeYVcI7IwLK9KTzcPZ3b2wv6hP+ia2EWnSte+/RodGY8XjGpp+9unpfKB7zWbByPHvZvLefv/6MdzSVc9ee1u48x+bJAjY8uCAAoYJPAQRA4ILAcDjE4aIIfg31ep0tjgVB6PV6EbQwPSbRvlZ6pux4pkyZVG/vLdtFmc/n2skp3XhIK1frI9KF8Vbi6a13G3BNOv4U8Lh+D6ednHYezko3VfIsFcTLT8rybuv+wWgXkfF++yH2/UOoxN6FmAAIeEJAURRahOXzeRwu8oSq+07a7TaplGaz6b5D9OCGAO2ojMdjN/0kte1KcUJL1cXEWfTKOhxKmSVt7FhvFbWaJOSs3FwZNeMN7ek/Pr+ZkQQYeVa8/KRyazfW21+G88VDXwlAqPiKF52DQDwIqKqaz+fZgjibzSqKEg+7k27laDSik3jlcjnp043B/EqlEvtnkuY7H+mOcFph00rUpCBeflK6qTbv7S+7n5HaWv8OKJ5evPwkvlHXdHNlfGMzhtvHZ/KjsTkty7uGISjSxk7n4SwxSsz6J4qa7glAqLhniB5AIN4E+BCITCaDEIjouLNYLLJlcT6fR5qvKPiFEuKlMEMxZWoiRWFeWKlMdA6l3nTPzX+SWIrvKp8Ov3WVeKTy42XJsjsZmTfz15817+0js7D5N4y35gQgVMz54C0IJJ9AuVxmq2FRFPv9fvInHJMZrq2tkV+gHiPiNFVVaY8rJU4Zbh/X705JD5CcMCzYFSe8W6lD/uHKcuXWLmvYuu8kx/HK/gOoQBfeN+/tBzCc9SGU6Yk8OTqTT43Naf3uVNrYMZcl5MHs1a3anefxlY7WEaFmAAQgVAKAjCFAILoE+EDtTqcTXUNTZlmj0WAqRRCERqORstlHerok7JN9GM9cn+SvP6vfnfYfe5lri5a5ttxP99NXbu3aahidyl1FY3MPawqDrRfy5OhM6TU2p5Vbu9LGjuHxLXLQYqFwY7ss7zY2p71Hh9An0fm0kmEJhEoy/IhZgIATAs1mk1bDCNR2QtCfNq1Wi/yCJNH+MHbe63A4JO847yV6LfnzPIb7J5krW5Vbu52HM58uLaHlry02w+2LCxPjew/JYOsFm3sAdz6OZy/lyREJEmJuqwBZYusTRWWXBCBUXAJEcxCIKwE6bS8IQq1Wi+s0Emf3cDikw0VQKRF0r6qqiREqZ8HNjc2p+XkedoznbHXrqy/aDw5orWxrIO3k1FlDW6P4Wlk9uphC5or3V6nIk6POw9naZ+cHt+h+TCJmXshffyZt7FRv7zU2p+0HB/LkCLslvn4J6NyQAISKIRY8BIGEE+j3+/xqOOGzjc/0NE0rFApsHVwsFhFAHzXXtdttumvo7FRe1Myzbg+TKCYr12D0CRlMZ40cHH+i1Tb1FrsCOcJZXiwWTMK2Shqb0+rtPWljZ9kFi4SLFcTLT6SNnbP8zo3NaWPz/DifPDlyZkbssMPgWBCI8f+djQVfGAkCESTAX+yI1XCkHEShKaIojkajSNkGY8g7TEmWSqU4MlkmUcI9z0OrZwdZhqltHN3BbKZNLfMtC3Zwq/3gPJikdFOVNnZo7hYL2atbTJN0Fc18rPjChOUJIwChkjCHYjogsIKAoih0aV0ul8PFjit4BfiaP/SFkKEAwVsailcpuVwuRpkn2J/bWaj04vmf3LWnnYczSwj8rESXAzoYhNpGLWuW9bmU5YvcZSw/wXD7mB3ZonRbdNeKRUFC1Qo3ts82qRqbU+yTWHcHakaKAIRKpNwBY0DAXwK42NFf00yeMAAAIABJREFUvi561x36ctETmnpMQFVVyvQlCEJcAoea9/bp7/S0bOULEZEozFssRe/idfVWfFm/O2XzEi8/sVI/9Drayak8OaLMv43N6Vu9Z8JPJuf/XXfy38KNbWljh+XdamxOu4omT46WXawZ+vRhAAjYIgChYgsXKoNAjAlomkYXCIqimJJbIOLiMPqDPQ59Rcplg8Egl8tR9LwkSdEPHFKmJ+Z/gI+URHHvbj6eXlif5K49PTsc5b5blz0s7opIGzu0+eNMkOSuPZU2dup3z4NJENru0kFoHhcCECpx8RTsBAG3BEqlEq23cLGjW5qetsehL09xetZZq9WinBOCIFSr1YirFMP4kzSsbq0LgNy1p/W7U4sZltWj862P3qPDxua0due5tLGzmLiZ4WXx6Ox/OhMhfCvWDxMknYczaBLP/kmjoxgSgFCJodNgMgjYJ1Cr1UilxOh4vf2Jxq8FDn1F0Ge6416iKEb8X82iRBEvP4lvzIbdT4Iud+eX+87KTHiYb0k565lakbZhUqSxOW2NLrIzn0W625076oNAsglAqCTbv5gdCJwToGNFuOY8gh/E2toa05A49BUR7+iOe+Xz+ShnYGNXyFN+W7YaLva3R7vHEeEZpBnayWn19h5JghALtnZFlOkJMzV//VmQuDAWCESfAIRK9H0EC0HAFQH+YsdqteqqLzT2mgCvIZHpy2u6Tvprt9vRP+6lTE86D2fV23uGJ5GikMXLCfpA2vQeHZrnGOC1TebKeTJfljWL3XioTE/8MJPCbOKSD8APCOgTBAwJQKgYYsFDEEgIAfprPctWlJBZJWUavEqJ6aUcSXHFxTzq9TqdkIzgcS9lerL22XRRnLC1dcJC5BP2aa2cDl15ubImKoBAqghAqKTK3ZhsighomlatVmnVVSgUIh4HnCLffD7VVqtF3olLxtsE+0jTND4HcdSOe3UVrXRT5f/YT+WAr5BP8DcQ7tRIf4ZrBkYHgagRgFCJmkdgDwh4QEBVVUmS+HUwLnb0AKt3XfBpvqBSvOPqsKfxeFwoFCL474XFn9Df2kmciJeflG6qzXv7uCvDocuj14yijKJnGiwCgTAJQKiESR9jg4AfBBRF4VddiEvxA7KbPnVpvrDT5Qam+7bD4ZC/KaVWq7nv02UPLIUX/Ymd9ImwPindVLuK5rJ/NI8gAfJyBG2DSSAQIgEIlRDhY2gQ8J7AcDjMZrP0t2HEZ3uP2HWPFJqCNF+uWbrtoN/vZzIZ+vfSarXc9mi/PbunvP/4/LKOtc+m0sYO/XGdFq+5a0+b9/Yt3v5h3wS0CJ8A+Tp8U2ABCESJAIRKlLwBW0DAHQF+1RXBUGB3k0tIa/7QF2RkuE5tt9skUURR7PV6ftujTE/kyVHr/kFj81yQrLysA/EnfnskOv1DqETHF7AkUgQgVCLlDhgDAs4J8KuuTCYjy7LzvtDSHwK6Q1/+DIJeLRHgE3xls9nhcGipmZ1KbKukeW+/cmvXekpctmBFCi87pJNQV7z8hLn+7OBfEuaDOYCARwQgVDwCiW5AIDwCmqbxF8/ncjk/Vl3hzS85I+PQVxR8qapqqVSivZRCoaAoiieG8cokf/0Z/Y3cvMAu6yjLu+c3lN8/kCdHw+003tXoiQvi2wl9MEiQEF8nwnI/CECo+EEVfYJAcARUVS0Wi/yqazweBzc8RrJMQJZlukkQh74sY/O4oqIo+Xye/r2Uy2XHyQyYLDm7XbGxOS3dVGmhaSJLslfPLxCs3Xne2Jz2Hx9CkHjs3Th3R+mn2w8O4jwP2A4CHhOAUPEYKLoDgSAJ6BIWVSoVx6uuIM1O4ViKolCSg2KxmEICUZiyLMt86Pza2pp1q1h4SfPefv2ucby7oT4p9rdrd563Hxzgz+TWUaezZu3Oc/YJ1e9O00kAswYBQwIQKoZY8BAEYkCg2+3SX+gFQWg0GjEwOpUmappGu17ZbBZbXqF8Be12m/69iKLY7XZ1ZrAdEnlydJb/t7E5bWxOK7d2rYS88xIFykRHFT8tEmhsTtmHVLqpWmyCaiCQBgIQKmnwMuaYQAJ8KHAmkwkgYVECIQY1pWq1ys4aiaI4GAyCGhbjXBDQBXH91b/17j/7f4aUekva2KE4Zl5yrCyLl59IGzvV23s4x4VPzT2BzsMZ++SyV7fc94YeQCAxBCBUEuNKTCQtBHShwPl8fjQapWXyMZxnq9WiiIh2ux3DGcTYZGV68sn98d/8R/+r8F/+nvD714SP/u+V8mNZhfz1Z9LGTmNz2n5wHu+O1Ewx/iwiabo8OaJvL5IGwigQCIcAhEo43DEqCDgjMBqNdKHAqopzAs5YBtFqNBrRcaMoXHkexJzDG2Ow9YKd2irLttMBC+uT3LWn0saOtLFzFiTAjn7JkyPk4ArPn+kaWZmeQKiky+WYrTUCECrWOKEWCESAQK/X40OBEZQSAZ+sMIFCU4rFIvIcrIBl5zWLJznLj8RuTsxde0qLvJUFJkiYGoEOsUMddX0koJ2c0qfr4zDoGgTiRgBCJW4eg71pJUBXcAiCYBgKnFYw0Z332toahabgeJ4bP41nL+XJkd2MW+fLvn96V/j9a7/+jT/4b/7lPWgSNy5A2wAIQKgEABlDxI4AhErsXAaDU0dA07RyuUxxDrjPMRZfAC8scWuKLZeNdo/7jw8bm9Pq7T1pY4dWbysLxf525dbu//Bvx//RP/zvhd/62+yfjIf3OdqaBSqDgF0C9IXbbYj6IJBgAhAqCXYuppYEAoqiFAoFUimSJCEoJfp+5VVKqVSKvsGhWMiObzFNsvbZ+eUkhRvbtFYzL7CMW+zmRHlypExP2BQGgwHdVyMIgh83C/X7fUmSOp1OKNAwaIIJ0Def4DliaiBglwCEil1iqA8CwRHQ3U9Xr9eDGxsjOSWgUykITVkUJMW+VUHClm7sQve1z6at+2YZt/ibUgRBaLVaTn1o1o4JIVEUzSrhHQjYJwChYp8ZWiSfAIRK8n2MGcaUQKfToY0UBKXExYlpVinuBQlbqOWvPzu7866xOe08nMmTIyuu192UkslkZFm20tBBHfpX6aAtmoCACQEIFRM4eJVaAhAqqXU9Jh5pArxKyWazw+Ew0ubCuM8JpESleCVIMle2pI2dsrzb2LzYKhluHzv4lMbjMWVXEwTB76AUCBUHPkITKwQgVKxQQp20EYBQSZvHMd8YEOBVSqFQGI/HMTA69SYmVaUwWdK8t1+5tWv3yBZbeHklSAw/sQCCUnTjQqjogOCnVwQgVLwiiX6SRABCJUnexFySQECnUhA6H32nqqrKp2UrlUqxjkvhlUn++jNaPK0ssAB3dmqreW8/gHTAwQSl6L5ACBUdEPz0igD9E/OqQ/QDAgkgAKGSACdiCskhAJUSO18OBoNcLkeLV0mSYqdS7CqTRUEy2HoRsOOCDErRTY18rXuOnyDgkgCEikuAaJ5IAhAqiXQrJhVLAlApsXNbp9MRRZFWrtVqNRYqxa4yKfa3a3eetx8cBC9IDD8JXVBKsVhUFMWwph8Pyd1+dI4+00wAQiXN3sfclxGAUFlGBs9BIFACUCmB4vZisOFwSCpFFMUoX6wRd2XCu0sXlFKr1QIWhxAqvDtQ9pCAePkJ0yoe9omuQCDuBCBU4u5B2J8EAlApsfOipml0EWc+nx+NRpGaQpKUCQ+WD0oRRbHdbvNvgylDqATDOYWjNO/tC+uTs2tMUzh3TBkElhGAUFlGBs9BICACUCkBgfZ0mLW1NbZgFUUxCipFnhx1Fa2xOS3dVK1EwEftNNdK56iqWqlUSCRks9nBYLCylR8VyAY/OkefIAACIAACPAEIFZ4GyiAQNIFWq0XrnkKhgBxfQTvA/ni6MO5ms2m/D1ctxrOX8uSodf9g7bOptLGTvbpFR9tNCrFTJjyj4XCYz+fpX0qxWAwxZzeZwVuIMgiAAAiAgB8EIFT8oIo+QcASAf7mDagUS8jCrqQL4y6VSn5bNNo97j8+bGxOq7f3pI0dOsVuoknYq1grE54qf9xLEIR6vR5wUApvzHw+h1DRAcFPEAABEPCPAISKf2zRMwiYEajVarTiKRaL2EsxgxWNdwGEcfMnuAo3tleqEaogbexUbp1f8d57dOjsfvdoMH7NCt1xr0wm0+12X6sRxg/6ZxvG4BgTBEAABNJFAEIlXf7GbCNCoFqt0nIn7vcD2kWqTE86D2fV23u5a09pnZ279rTzcGa3qyDrN5tNPseX+zBuZye4hPUJu+i9fnfKLlVUpidBcghsLN1xr0KhEIVYIOyoBPYBYCAQAAEQOP8/uaAAAiAQJAFN0/hbzCuVSrjnWDyZ+3D7uH53ygsPUiDWC+LlJ54Y43kno9GoWCySsHQWxu34BFf++jNpY6exOe08nMmTI+3k1PMJRrBDXhYKghB8DmITJqRXTergFQiAAAiAgCcEIFQ8wYhOQMASAU3TSqUSLXmr1aqlZpGpNNw+7j06j5coy7suZYmhgGne24/MXC8M0a2YLYZx86BwgsuWT3WyUBTFKBz3oimMx2P27zeTydBDFEAABEAABHwiAKHiE1h0CwJ6Aqqq0s0bgiCsra3pa4T9Wz06bWwab4xkrlhKLWUoP3QPxctPSjfV5r19uua8fnfK6kRqU2VxxbwswZczWZKSE1y2PmqdLIzgBTW9Xo8JFUmSbE0NlUEABEAABBwQgFBxAA1NQMA2AZ1KaTQatrvwp4Enp7ayV7dqd57LkyNnNmonpyRmnPXgeatWq0UnfARBKBaLfIAEyw5cubVrfbcknSe4rPtFJwuZko/gqUjK1Fev163PDjVBAARAAAScEYBQccYNrUDABgFFUXK5HJ346nQ6Nhp7WlWeHDXv7VduOTy4VbixXZZ9SS1FWXdDz1ilqiofRCSKYrPZHG4fdx7OaneeF/uWMnHlrz8r3VQbm9OuooU+I0+/IF86W9xICesyx5XTo28jUgfSVpqNCiAAAiAQUwIQKjF1HMyODYHRaEQqRRTF4FUK2zOx+Lf/sLJvVW7tsk2VMyEUomsHg8GFs/7KfygUy3+9/s/+k3/557Tbs6zAyxI6zxbiLGI0dFw2UhhSTdMymQz7iwO/wxYj4DAVBEAABOJFAEIlXv6CtTEjMBwOaWUjimK/3w9sAhbPdLk8teXVdIbbxyQDGptTr7q13s949vK/++ef/KX31oTf6wof/zsyxrCQv/6senuvdf8AssQ64cWauvN1+Xw+shspzPhOp8NUSi6XW5wOnoAACIAACHhOAELFc6ToEAQuCAwGA1IpmUxGlmVnaPr9viRJJlsxFjWJsD6RNnbqd6ftB1FcYVdv75EqCOa4lHZy2nt0WL299zc/WZEqIHt1i515S0+CYGffqsVWqqry6e8iG5Gimw5lqV6WVkFXHz9BAARAAARcEoBQcQkQzUHAmEC/36do7EwmMxwOjetZeJrNZgVBEEWxXq+Px2NqYVGfRGTPhMxeVtBOTqWNHaZVfD0ANto9bt0/KN1USRctFsTLT6SNnbXPzi96H89eLrMZzx0QkGWZfdJsd6JQKER8I4XNcTgcMoNFUeT/GToggCYgAAIgAAIWCUCoWASFaiBgg0C32yWVksvlXB5nZ8sj9j9//W+89bUfXtVd6764zhbWJ3HRJzxW/gAY/9yTsjw5WnErZeNfv/XRtX8+2gtmP8eTScWuk7W1Nf57rtfrEUztZUi1Xq8zy8vlsmEFPAQBEAABEPCcAISK50jRYdoJtNttWorlcjlFUVwS+fW/8Zbw9/6B8N/+UPindxOjSZYx8Tb9l3p02lW06u29ZffA/IU/uC28/78If+c/FQSh1WotswrP3RNQFIWOTgmCkMlkggzZcmk/H0YfI7NdzhrNQQAEQCB0AhAqobsABiSHgKZptVqNVEqhUFBV1fr0lOmJPDk6u43kLJq8sTmt3t6TNnZMLoCP457JShqepP9SpiftB0sPd2WubP0XNx69Wf194Tf/GnOWmwiilTNChfl83u12KV5LEARJkuJ1egph9PiMQQAEQCAUAhAqoWDHoAkkMB6P+T8YF4tFc5WiTE86D2dMjRjukxg//MM/PU9L9ff/cVLzTbk5/XV2ZKuxOV2WiDl//Vn97nSw9UKXbKpYLMZr0RyvfzyaplWrVVLvgiDEMRKd/mnH0fh4fTCwFgRAAAR4AhAqPA2UQcAhgcFgwMcH12o1w5P3JE5M9kkW9cmv/x+Tv/g//Qvh7/9j4c2/W6lUBEGo1WpkaL/fp3taaDmYy+Xa7TbViVeBCFgxeyXSwo3t5r390e4x641uFmf5CbDutALZcZ3hcJjP5+mzzGazsYib180XYfQ6IPgJAiAAAoERgFAJDDUGSiyBdrtNofOCIOgUwsqVNK3LCze2pY0dlga3sXmeb0qeHLHAbroPezGQd1Gl0Lowl8uZJDWOrD8oTGVZui0rSMvybvvBga4HXqUUi0WXSQ4iCzAihun+XZTLZfM9xoiYvWgGwugXmeAJCIAACARDAEIlGM4YJZkEdEEpLNRBmZ70Hx82Nqdleddk50S8/KR0U23e27dyiIv+pisIgi7TcbPZJGWyWBBFMXboKXFw+8EBb7x6dNrYnJogzVzZqt7e6yqadnLKN2RlXqWUSiXDLa/FVnjigIDu34Uoijr17qDPsJogjD4s8hgXBEAABObzOYQKPgMQcEjgVVDK3/od4T/7r/9q/ePiv/r/aDeA9kn4gi1xojPLZFNFV1MXFaB7G/2fnYczBk3a2GHWMolimLnLIlI+Ky5Uiq/fwKt/F5/r5nw+H+udK4TR+/q1oHMQAAEQMCcAoWLOB29BQE+AbZh8cGMkfvuK8L/9W16HGJYtrqT1wyz85jdVVl5y3+/3aXdloaeoP1CPTr/Qe+O//n8a3BlvC+loNKJIaEEQoFJ8db8uWKtSqcR954o+HoQz+frloHMQAAEQMCQAoWKIBQ9B4BUBeXLUfnBQvzuVNna+WEBPDDUJe5i5ssUuNe88nFk51vVqpFUlyp6Uy+XM1398ZP+qXqP4vizvGhLOXXvaeTizbjF/8yZUinVuzmrqglIScC8N/XUAt9E7+yTQCgRAAARcEoBQcQkQzRNIgGK189efGS6XdQ8LN7Yrt3Ybm1N5cqSL3vaWzng8JgXCJ/5aHIW2U8yrLTaMyBM+STGjbVeizOfz8XhMSQ5EUcRfxP1zri4oJTH30iCM3r9vBj2DAAiAgBUCECpWKKFO8gkMt49b9w8qt8zC3y/0ycf/Tvj9a8J/9T//1vv/47X/908DRtPtdkmE6KLqyRI+apwexq5AatCZ5aqqslTOgiDEPUzCGYHAWumCUgqFgqIogY3u30C80MVt9P5xRs8gAAIgYEIAQsUEDl4lmYB6dMpyc6080MU2TL5952nhH36T7jIvlUph5Vo1j6pvt9ukZCqVSnxdSKfsHGxSdTod/h70Xq8XXw4Rtzx5QSkEnP6hFQoFeogCCIAACIBAkAQgVIKkjbHCJDDcPu49usgabH6mazFWW1EU/t66Wq02nr2UJ0esQxa+Im3sSBs7f+fKQ/Gf/JvzLRfuv+I/+Tcf/O8bXk2ezs0vpirm/wYc96jxZUmKzTHqQudZXIp5E7x1TCB5QSmEgk9HEcdLKmkiKIAACIBArAlAqMTafTDemED/8SF/24ZhWls6WUQhEJVbu637BxT+Ptw+rt81u7VD18OKn3/o5SEx+lsvf/9jp9Ohyx8LhYJ5tL0xuCg9XUxSvNK6fr9PQSmCIMT0vsuV04xChaQGpTC2mqbRHyaq1WoUgMMGEAABEEgnAQiVdPo94bPOXjXIabsoJFhurt6jw/HspU7bLFZ2+6T6Bx5C5zdVWKpi/sSXIAjxPew0Ho87nU61Wv2t/H9MzC2io8UlQuctEnNWLalBKUSDLlHNZDLj8ZieowACIAACIBAwAQiVgIFjuCAIUHgDrXSF9UnhxnZZPs/N1Xt0ONw+Jjs6D2f89gvfxKScvXqeg5gl+2rdP5AnR3yf1Pn5papf/Id/6L5MkeJs84SygcXusNNwODyTVY1Go1wuk9K4YLZ+kQbaCi5VVb8gLcT6hkErkw2xToKDUhhVWZZpXy4BGZZD/FQwNAiAAAi4JwCh4p4heogcgea9fWF9Urvz3MSylfrkN9f/VKj+gfC3focdInKcyIhWzybGOHjFh6PQnXSCIETzxJeiKPLn/2l8/p9qtSpJUqFQIDjGBctCpdls8tHzDniiiRUCfFCKKIrJW8ePRiP6kIrFohUmqAMCIAACIOAfAQgV/9ii5ygSMNcnpG06nQ4tnYvFopsEX9SP5zharRZ1zgpRSPOlaZosy81ms1KpSJKks3DlT1EUS6XSxdmbP/xTtqm1bLdqPp8jet7z78qwQ1VVS6USuS+bzSYvxFxVVYryymazjv82YQgQD0EABEAABBwQgFBxAA1NYknAJAqlcmtXOzmlWfEqxX3uLFrbUf9eFTRN4zclwgqg55WJ/uwWTX55oVAonKUEaDQavV6PvxnmvMU3P2ZC5ezMniG0ZrNJp3QQPW+IyJOHsizzZwuLxWLyIjc0TSNdLYoi/yl6whCdgAAIgAAIOCAAoeIAGprEj0Dn4Wwx95dOn7BZeatS7Mao9Pt9SZI6nY5FxLVajSSA9VYWOzespqqqLMtnYzUajVKpZFGZ5PN5SZKYIGGaRJZl87Xg+bx+629TmJDuNhXDjZRoHnszxBiXh5qmra2t0TcmCMLa2loiOfP/lOKbiyIu3xXsBAEQAAGLBCBULIJCtRgTaGxOab0rrE8M9QmbnucqZTwe0yLPnGCv16NjJ6Iomldmb3WZvvhUxVaaW6kzGAxYpDs7x8VvX9C8FgvFYrFWq7XbbTengy66/b0u8137wQEZrNtIYfkDErl6pimHUtCpwWw2y1LMhWKMr4M2Gg36jJvNpq9joXMQAAEQAAHrBCBUrLNCzVgS0KkUikJZnIznKmU+n9frdbYAMr/cmo+MZ/UXzVt8wp/GYa3M9ygWe+CfjEYjFltSr9clSVrsnFZyiwVPlAlvzKudqL/3D5hQkTZ2DCNSoFJ03Lz62el0eF1aLpfdRGp5ZZUf/fAqBbem+EEYfYIACICAYwIQKo7RoWEMCPAqpXRT5QNRdNb7oVLm8zkt980Pk/DHTgRBqNVqOvMMf5JgoChn65sqfGAJH+hCfS4riKIoSdLZeq7RaPT7fTfSyHBS9PDCgL/8m7QbtriRIghCpVLBXgpB86Sgu8xRFMVgThV6YrzdTniV4j4gze7oqA8CIAACIGBOAELFnA/expWALruXuUrhz1B5uFiRZZmttnO5nCFH/i55VtNcz+g6IS3B3/+oq0M/eWViMbBEEIRisVgqlRqNRqfTkWU5SElAsyOh8urJ56WwkgcQ0kQWFEXhhWuxWEzwpTRQKYn8hjEpEACBJBGAUEmSNzGXcwKL2b1MVIruj8ceqpT5fF6tVtnaem1tbdE3/CKJVTuTBIvVTJ7Qwv3VQSnh1b9oFvXeaDQqlYoVZZLL5SRJqtfrzWZTluXQc7PS7JYJFVuizgQjXhGBXq9Ht4iwnb0gpSmZEUyB/wfo7T/8YOzHKCAAAiCQBgKvljVpmC3mmAYC2atbr5a2pqHz4/GYvyrR28UKv0ujiylXVZViV2g57uAIE7XlhQpLxkVHzqjOYsGPwBIPP7BXBn9x7eOrJ4JgV9R5aFhSu+K/SVEUu91uUmd6Ni+olAQ7F1MDARBIEgEIlSR5M+1z0R33MsnuNZ/PB4MBv5qv1Woe/vG43+/TX6bZkno4HNbrdcrrRWtuN+ro137t11g/v/3bv00dmhQirkx0n++ribwuVBwoOl3P+KkjoFPs+Xw+gse9Fs9JvvpCBCGXy7Xbbd28lv3kb0p18w9wWf94DgIgAAIg4BUBCBWvSKKfkAm0HxzoNlJMDOIzGomiaH2JY9In/4qXQPxySle2u0iSZbndbtdqNX4jSNcn/WRR7/V6vdPp6LZ0eFMjW6aJvHKrIOC4l+f+0l3mWKlUIpjdi98AefVhLJTq9frKPzf4lDbDc7+gQxAAARAAgfMDI6AAAgkg0H98yN/naL6XIssy5V3NZrN+LOKp/4Wl1MWDXC5nnklJURRZllutVqPRkCSJj29e1id7zq5TjOBfxO1+Zq+m+Yd/yrTK71T+kd1OUN+cQLPZJM6iKJ59b+b1Q3lrUaWwieTzeZN/0VApoXgQg4IACICAYwIQKo7RoWFUCOhUikkO4vl8rigKbXcUCoXxeOzHNPj1H1s/ZbPZWq1meF+eY02Sz+fffvttWmhaz2vsx5Q97/PVvL75MRMqZXnX81FS26GqqpTVWhAEnxS7e7x8rNeyHUhN08rl8qsPRhAML22ESnHvDvQAAiAAAgETgFAJGDiG854AHz1vcp/jfD7XNI0OTWWzWZ9UiskM6VJFu/skbBFWLBar1Wqr1Qo4U7DJjPx7RevOr33re3T6y7/hUtXzYDDgw6UkSYrgca/5fM5fhLpMpZDjOp0OBYYJgqC74ceK4KGuUAABEAABEIgIAQiViDgCZjgkwF/paK5S+HzBoiianA9xaMrrzWRZPguoaDQatVpNkiR+XUhLcJMCJQtuNBqyLOtWXa8PlcxfBOf8iOoX8fTJnGqws2q1WvzRxEajEez4NkajRGQW78zhswLQ5ae+piC3MRlUBQEQAAEQsE8AQsU+M7SIDAE+gL5ya8W5IP5Pqh5Gz4/HY1mWzwJOGo1GuVyWJIlfBdJq26QATWL4QRGx+XwuXn7CtIoyPTGsjIdWCKiqyh+RymQy/X7fSsOw6tApTetJFHSXn/LSRfg8q/XKaPuwJotxQQAEQAAEFglAqCwywZN4EFCPTunQl8mVjjQZuvRQFEV6aLfA3+9uPcCd1tz5fF6SpLP7H1O7T2IdOEGbz+fSxg4TKp2HM+s9oCZPQHfcq1h6Z1evAAAgAElEQVQshn6nJ2+eYZn/BgwrGD6kVr6mIDccGg9BAARAAAS8JQCh4i1P9BYQgfaDAz7Nl3kA/fl19f3+G2+8wVYwtVrNlpUs+1a1WiWpQyshk4IkSWc3qDQajXa7HYWL3m1NOQqVie2ZMXTAr3p7Lwq2xc4G3XEvb28N8onGeDzmvwHro1Ar2tv0IwW5dXtQEwRAAARAwDEBCBXH6NAwNAK0bGV/ZS/dVFeaws6QmOylDIdDWZbPTsKcHdlvNBrVatViUuBMJiNJUrVabTQa3W43DWHuK2l7UoGWm/P5XJ4cMV/nrj31pPP0dDIej/nsXplMJi5XzvMBKrb8RV8OK0Q2oZmtSaEyCIAACKSTAIRKOv0e41nzKiV37Sl/Fqjf79uNWdetaaz8jNf97vH1NPniPF3bySkTKsL6JL4zCt7yXq/HJ8KK5pXzy7A4CFBhXdGXIwhCPp8PPrnfshnhOQiAAAiAgF0CECp2iaF+mAR4lbIYl+KTSpEkid3vnsLUWyE6m5abzAYIFVu+UFW1Wq0SQ0EQ1tbW4hVHTsabT7zf70uSROkx+JwZgiBYj8I3HwVvQQAEQAAEQiEAoRIKdgzqhIC5SpnP54vXLNJaZ2WhWCxKklSpVNjRr16vl86kwE4c408bchnrHkLFOubBYMDHU2Wz2Yhn99KJjQuPf/EFmE/c5M8TZ0Fi5m3xFgRAAARAIOIEIFQi7iCYd0Ggdf+AlqqLeykrMX2x5sEHvxJVVCroXEbej4p9UbWj0WgQOkEQqtVqNC9zJH50q6MoivyN8jQLqmlYoFAWqk8Fw/p4CAIgAAIgECMCWLfFyFnpNXW4fUw3aThQKec3Bn7xn/RCjNvMv/DYxf+Nog8AV6ks8+RoNCoWi8Qtk8mcXe+zrHJ0nuuUBh2wpJxd5qZqmqY75EYEzBviLQiAAAiAQPQJQKhE30dpt1A7OS3c2GZ/UC/2t1dmIjbkhbWLIZYoP9S5DFepmDur2+3ycfOlUikuQeQUNM88TjfKs5OctpKJq6pKJ8GKxaI5MbwFARAAARCIPgEIlej7KO0Wrn02ZSpFvPxktHvsDIdu1eusE7QKkoDOZRShhKtUFr2wtrZGuHQHqBYrR+0JWU6FszgxZ0aWy2XWiSiKo9HIWSdoBQIgAAIgEB0CECrR8QUsMSBAy1NhfdK8t29Qw9ojWgNZq45a4RPQuQxXqRi6RFVVWp0LglAsFmO3QCdH8ye4+GAVw4kvPuSDc2Jx5m1xCngCAiAAAiCgIwChogOCnxEiwKsUK7c6mphOiyGTOngVKQI6l2knpwhT0TlIUZRCoUCgKpVKvBIQs+mQ/Zqm0d2UoihazwGgU2tnt6/qQOEnCIAACIBATAlAqMTUcck3W6dSnIWmECZaDNETFCJOYNFlpZsqOwToZm8t4rO2bp4sy3xQiuPjUtZH9Kkm72hN0yixssWUyoPBgOJSBEEoFApxVGs+sUW3IAACIBB3AhAqcfdgMu1vP3CVjHgRCr8YWnyLJxEksOiyzsMZ5VSIoMFBmtRsNikpliiK3W43yNG9HUvnaEoCZuX0V6vVIg4sFzNUirfeQW8gAAIgEC4BCJVw+WN0AwLj2Us65OMsGfFip7rF0GIFPIkagUWXqUenTKgI65OoWRuYPbocxNlsdjAYBDa6HwPpHN3pdNgTSv+1bFA+KEUURcSlLAOF5yAAAiAQXwIQKvH1XWItr9+9SPNVuOEwGfEiGt1iaLECnkSNgKHLUi5U2u02v4FQKBQURYma4+zaQzOq1Wrj8Xg4HDLX53I5k654lVIoFGKXQsBkangFAiAAAiBABCBUCAUKkSDA3+3Ye3TolU2Gq16vOkc/fhAwdFlqhYqmabVajZgIgrC2tpaMY0501oufnfVyqVRKBgc//hGhTxAAARCIOwEIlbh7MFH26+529HButO7xsE905SsBQ5elU6iMx2P+yvlCoRD34178l6NpGp9hmfxupQCVwpNEGQRAAASSRwBCJXk+jfGMPLnb0XD+tOgxfIuHESRg6LIUCpXBYMDf3V6r1RK5gdDr9fhUy+R9k0JM0zFH8N8aTAIBEACByBKAUImsa1JnGJ/py/P8s7TcSR3W2E7Y0GVpEyp8UIooiu12O7b+tGG4oetttEdVEAABEACBpBCAUEmKJ2M+D12mL89ng6WP50j97tDQZekRKqqqVioVgpCA7F7WPxiatfUmqAkCIAACIJBIAhAqiXRr/CblR6YvngKWPjyNWJQNXZYSoTIcDuneQ0EQisXieDyOhdc8MdLQ9Z70jE5AAARAAATiRQBCJV7+Sqy12atbbA3qYaYvHhaWPjyNWJQNXZYGocIf9xIEIalBKSYfoaHrTerjFQiAAAiAQFIJQKgk1bMxm5ffC1AsfWL2Qcznhi7z+zsJnRKfqzeTycT6ynnHMA1d77g3NAQBEAABEIgvAQiV+PouOZaPZy/9XoDSpXKqqiYHXKJnYrha9fs7CZGoLktvPp9P7SWGhq4P0TUYGgRAAARAICwCECphkce4rwjU7jxnC9DCje1XTz0t0TUUSbqAwlNCkevMcLWaVKEyHo/55LylUinKivrMtkajkcvlyEd8IZfLuclOJssy6838ZvrIfa8wCARAAARAwAcCECo+QEWXdgjwWYl9ClCZz+eUQCmdZ2nsOCQqdWntyxuUSKEyHA75RX+tVuOnHLVyu93OZDLknWWFRqPhzPJarcb6XFtbc9YDWoEACIAACCSGAIRKYlwZ14lQGH3ppo+HshqNBlv9OF4/xZVvbO2mFTA/A/HyE6ZV1KNT/nl8y/1+n1/3t1qtKM+F/h2Rd0wKDv6tjcdjOqWJzc8ofwmwDQRAAASCIQChEgxnjLKUAP2NXDvxcenZ7XbZiqpSqSw1BS+iRIBWwLxRxf42+2AGWy/45zEtN5tNmqYoir1eL8oTabfbZG0ul+t0OovWappWKpWoml2tQtsphUJhsXM8AQEQAAEQSBsBCJW0eTxy8yWh4qtlg8GALZ6KxaKvA6FzrwjQYpfvkMKZ2g8O+OexKw8GA4qbEgQhm80Oh8OIzyKbzTKnlEolTdOWWetYq/BCKOKabdnc8RwEQAAEQMBbAhAq3vJEb7YJBCNUVFVla6xMJmPbRDQInMB4PGb+ymaz/OCt+wfsg6nfnfLPY1RWVXVtbY1kmCAIhUJBUZToT4FsrtVq5hdQ6rSKFQ3GH/oqlUrRpwELQQAEQAAEAiAAoRIAZAxhRiAYoTKfzykSIMr5lMxIpendaDRiy+J8Ps/Pu//4kH0wvkY08SN6W+73+7QvIQiCKIrNZtNkd8Lb0V32RtEjpFj8KBQKhbgAcckTzUEABEAABFYSgFBZiQgV/CUQmFChkzYI0vXXo170TjlqJUni+6Mrd7JXt/jn0S+Px2M+eEMQhFKpFK+bUviIGj8kCusTh76i/zHDQhAAARAIjACESmCoMZAxgcCECsXpurnkwXgOeOo1AZPkB5T4y+sx/epPUZS1tTXa0GMRKYaR6H5Z4Gm/vV6Pv/LFW8WCQ1+e+gqdgQAIgEDsCUCoxN6FcZ9AYEKl1WqxRVW9Xo87tMTb3+l0mLMWLxUJ7INxD7nb7ep2UQRBqFar6Tl8SDLGPUz0AAIgAAIgkEICECopdHq0phzYurPf77NlE/5qG60vwMgauq9jMb9tYB+MkV1WnzWbTT4WhX14/z977xYbxbHv/462tCS/7C0e/cCWkOEBwtHZTo6OgnX+QvOShAcnQhAUxEWy8ANOHpAFB4G3Ejl/gWSJCMVIREayFO/DkWGLy0osb2FkiBwjgS0WiROWuSyWkQ/bLIjN3zMe32Y8xu6ToZwfRd+mL1Xd1d3fCK1V7qn61a8+Vd1d367b+vXrkzbtEELFaYtBPBAAARAAATMCECpmVHAtQAKB9TutNpIKsKzIyimBxsZG1sc1ztMLrME49fXNeA8ePKDVUNRN37Jly/nz59+MmIi/iEAiSotCggAIgAAIiCYAoSKaKOy5JBBkv5PWCSRn7o3L2lAlel1dHevjGvv3QTYYtzhaWlr4rbEqKyuPHj0qfOvhnp6edDqt/ioX+jSQSuFF47YpIT4IgAAIgECJAN4faAchEwiy30mfurGzUMi1Xi77dDrNhEpfX58ubpANRpe1zZ+6gRS277BNfD8/sUllFRUVfowEkJaGxXDMfAC0kQUIgAAIxJIAhEosqzVKhQqy30k9J+PKhyghS4CvJCmNG/gG2WAcktYNpGzatMnotkNTTqJFYj4Vf4Ajvgs4qVbEAQEQAAEQMBKAUDEywZVACQTZ76S9pLZu3RpoIZGZSwJr1qxh3XHjCei0PfHz+SWXVsVHD3IghbyPhFCh3cAxnEIVhwAIgAAIgIBbAhAqbokhvmAC8oRKT08P9Xepb8cC//Iv/yK4GDAnjkA+n2fVtGrVKqPVLdezrM20/W3O+GuQVwIeSKGiUWOmK/4DHR0d/M2yZs0aP2tgaNO2VCqF4RT/tQMLIAACIJBYAhAqia16VQouT6gY94elHl4qlfr3f/93VRDAjzcJDA0NsZoy/RjfMTLP2ky6N/NmuuD+CmUghYpHzZiueAvYKPlUKuV5DQwdWJRKpbAVuLeqQSoQAAEQAAFGAEIFLSFkApKESltbG/XnTAN/+tOf/HwzDplarLO3OZZe07TswjLN/souLAdM4vf94pqbm/mtvWSvSDEWkNqz8SdXV/ghFLLJBzws5RoaGiI4W7ZsyefzrlxCZBAAARAAARDgCUCo8DQQlk6APuKuWbOmpaWltPHc2d/YP7F503DKzp07ecu7d++mrpjpzCI+MsKhEGhpaWF1xFqI0YdNPZOszQxMFI2/SrrCJArtcM3GHKw8lOQDM0sN2GcuxJkMGgOutEo+n6+urmZGNm3aBJXis4KQHARAAARAAEIFbSBQArqPuKVJPnKECnW5+N5SR0fHn/70J/pJp2ECBYHMrAns3LmT1ZHxEBWWaOeNKdZszo8G8cHeKFFSqVTwAykEjBowXREVoNVBlEUqlWpoaDBuaWCaI+2qV1FRIXXfM9PccREEQAAEQCB+BCBU4lenSpdI9xF369atsoUK4eAnpaRSqX/+53+mnxBQigB9lR8aGjJ1rPmXGdZsmn+ZMY0g8GJHRwc/ipJKpXwuNPfvG6kI/6aMFsj4li1bKFxRUdHQ0GA804aSj46O0o7SqVQqlIEmcgYBEAABEACB2BCAUIlNVUapILRautQTkjyiwrjwk1L+6Z/+ifXAHH4njhLZWPhKixz40TC+ZOdH86zZ7LwxxV8XG85msyUhzf0XukRhBSSPxJZXZzyfz+uKn0qlKisrv/76az5f43ATFtDzfBAGARAAARDwQwBCxQ89pPVOgI4eD0aoHD16lHXvKioq/u3f/o2FsXGq9/qTlvL58+esdiorK60yGZgosmazqWfSKo7P6319fbTMSYVRFL44wQgVluN3331HA1yUr1WgoqICYyl8TSEMAiAAAiDgkwCEik+ASO6RwOuTFuSPqLzO69WkFJpJ72qhsMdyIplLAj09PawfbPNhPruwzITKqv+ccGm+fPR8Pk+ylnly9OhRq7Gd8uYkxCCdIMG2Zmp8aGiosbFRt8CMYrJAiIt2ZHCATRAAARAAARUIQKioUAtJ9KGvr2+loyNZqPAqhfV9cT69yg2OTuFobGy08XPVf04wrSJ2h2LdASmVlZU2CzNs3JP6EykEGbnYGM/n83V1dRSBAorMiJNBAzZBAARAAATCJQChEi7/5Ob+en8hyUKFulN0qgOtkLGZXJTcigm75DTepVsLofOr+r9WdigemlzU/eTtTzZoQMtjUqnU1q1bf1+A4c2a1FTUpGXkItW4DIdhEwRAAARAIMYEIFRiXLmqF22lSxSIUCGVwqBQf3R0dFR1TAnzjzab6unpsSn61r6VHYp7/lGwiVb2J9NJTRUVFSofBupNS/T09KTTafty8cOPZdEhAgiAAAiAAAjIJgChIpsw7FsSCEyo6FSKpmm0lN++32bpOn6QRoAWQtjvydYwOM2mfrX9bc6bL19//TXlRV3/cA9IcVgQ8tZhfBaN7Q1QUVFhlYom3aVSKRwxZEUJ10EABEAABIIkAKESJG3k9QYBeUKF/zBsVCm/O0ER6urq3vAJf4RNgAa77B1p+essEyoejlLp6elZv349dfdZoLKy0v6oEHt/gvyVPHeVqX2qBw8eEHnTW8ZVXogMAiAAAiAAAkIIQKgIwQgjXgis9JxET/0iEcLsm+7XREv516xZ48V1pJFDIJvNsloru3yoY2SeCZW6mznnvjx48ICmllFGUdEnVMyVGyfl7ultn4qOa6yurja9ZSh3BEAABEAABEAgMALuXnWBuYWMkkBgpeckVKjoVErKojOXz+fp+zGWqajT2EZHR1mrqK6utveq77cFJlTSvRn7mOzXbDZLy/RZFpWVlW1tbU7SqhbHXnJYeWuTqqWlhf1aUVExNDRkZQHXQQAEQAAEQCBgAhAqAQNHdq8JrPScxAkVo0qxEipYpvK6GlQK0UhXOp2292t05iUTKuu7/pd9TE3T2traVq1aRT31ioqKo0ePqrmjV9myaJr5USdlE1LxdTEHBgZItONkIR0c/AkCIAACIBAuAQiVcPknOnexQoVXKfz0HivEFB/LVKwQBX/9/PnzrFWUrZT8y5UzHys6x+39pIpmlrdu3Rr1MTQryWHPwTRVNpulHQUw6cseIH4FARAAARAIngCESvDMkeMKgZWek4gRFX7DIrYUmD4SW20eRR/vsUxFnRbZ1tbGWsXRo0fLelV5ceXMR5uYvEqprq5W8PRGG+etfjKVHFaR6bppqq1bt7Lrq1atevDgAUVGAARAAARAAARUIAChokItJNSHlZ6Tb6HCz12hDYtoUMVqHQK/TCW6s4Bi1nRIV7S0tJQt2po/v2Czv6xikrVUKkUNwypyhK6bSo6y/pN0p/ldvLz/7rvvylpABBAAARAAARAImACESsDAkd1rAkKECj93ZdOmTbRhUUdHB7Nvs9qBdjqyP1vwtccISSZQV1fHas3J+Tb2QiWuKsXzGhV+L4GhV/+RdGlsbJRcsTAPAiAAAiAAAl4IQKh4oYY0Qgis9JP8jajQ3JWKigp+7gptdGuznr6hoYF1i7/++mshJYIRnwSoNp3M0bISKvl8fufOnSsyOF5jKQwvFY2n3dfXZ3/wfD6fp3NOt2zZUl1dzezw8p43iDAIgAAIgAAIhE4AQiX0KkioA8+fP1/pb/kQKrSkIZVKGb/Bm/bneNyUHOdw81hCDNMYl5NNclf9p8kalefPn5ORmM34onoxNuznz5/T8AhFMwaGhoYoLQvo5L0xCa6AAAiAAAiAQIgEIFRChJ/orL/77ruVPpMPoVJZWcmMmG4SRX0yK9ADAwMsTtlTO6ws4LpYArQDldUWCHx2bIFK6uxvdHFgYICaRCqVamhooKmAFCcGAWPDpmldZVsy6RlmxMlaoBgQQxFAAARAAAQiSgBCJaIVF3m3Xy8h8CpUaNuuyspK0/6osT+no0bTwyoqKkwt6OLjT9kESKg4yUgnVFpaWqgXXlFRYbWJghPLiscxNmySZ2XXxNPZjkzIKV5SuAcCIAACIJBwAhAqCW8AoRWfViPoupvOHaIVJlZb2Rr7c0bj69evZ9GczDUyJscVsQS8CZUHDx7w070qKysHBgbEOqaUNWPDNl5RymE4AwIgAAIgAALeCECoeOOGVL4I8FPqPQsV+ops1St10nsjvXT+/HlfRUJiEQS8CRUaSEmlUps2bXIybUyEs6HZMDZs45XQnEPGIAACbggsjT0t3hrMt3fMnzw1vWN3tiY9uXpdov5la9Iz9Z/OnzxVvDW4nMu5gYe4iSAAoZKIalatkCQPSlsPeZ36VbZzVjaCpmlHjx5l0bBDqwqNxJtQYTVYUVGRkBUXxoZtvKJCbcIHEIgfgcXh+wtXe+dPnpqp/9SnqMi89U6iBEkohc3WpPNnz8WvHSaqRBAqiapuJQrb09ND/arScvZQhQqt6d+yZYsSdJLthEOh8vsBnaU1Tn+0HDaQwm9OHW+KdPtQMY1X6CcEQAAEPBPgZUnugw9D6WojUyEEsjXpwoXLnlsCEoZIAEIlRPhJzDqfz9OyELZVF3U37XFks9mWlhb+pIiynbOyETRNe/DgAYtWWVlp7wB+DYBAWaHCJMqqVatKtfaHUEnIQArxNzZs4xWKjAAIgIA9geVCoXhrkOZfzTV9Mb1jd2CyJFuTnt6xe+7L42zu0+LwfXtv4/fr4vD9woXLc18en96xW4gmsTKSWbsxfvSSUCIIlSTUskJlpE2HVq1axdYSUHfTysvR0dHGxsaVvumrHhmLWbZzVjYCs0MrHGK/tsGKsDrX7YXK119/zTeDsi1HnXKJ9cTYsI1XxOYIayAQaQJLY08LFy7PHjzic7LW5Op1uQ8+ZAsqFq72JlBURKsZLBcKsweP8LolWv7DW0YAQgUtITgCAwMDpAroMHib7ubQ0FBdXR11wliAjkyh61YFKBuBJaTjustu7WqVEa6LImAlVLLZLK1rYtVaivnHiIqo3KNix9iwjVeiUhb4CQKSCCxNTBS6uueavvAjTiBLJNVOwGYzazcyuTJ/8lTAWSM7/wQgVPwzhAVHBLLZLHVDN23aRGlMu5s9PT2kH6gTlk6neS1B18mULlA2AotPh+VhPb0OYPB/Ugvhsx4YGKDrqVRqzZo1HR0dmqaZthw+YVzDxoZtvBLXsqNcIGBFYPGnIVrmPpV+n/+Obh/OrN04vWP39I7d8y1fzZ88VbhwuXhrEKMlVpyjeH3uy+PUBqBVIleDECqRq7KoOkxfxFetWjU6OkrF0HU3Ozo6aBELdb927txp3IOYfiVTukDZCCw+radPp9M6C3H9s9jXP71jt4IrC0mQEPm2tjYahUulUnV1dXQ0p67lUJLYB4wN23gl9hBQQBCgCV1lZUlJiuzZN3/6zOJPQ+CWQALLhcL0nn2kVaBCo9UGIFSiVV9R9ZZ2AU6lUnRiyejoaOn6HxN4qLNFgYqKioaGBl7V8OWn/qvp2pLSrlB//MenMob58+mNv8bySvbtmsnV6xRcWcgLlXw+T2d6plKpiooKNpBCNUIth64kJEAt//etBViR/2jpeJ4npAkktJhs1fv86TOznzWWndAFcZLQVmJR7JJW+WOx/kz9pxaxcFlFAnixqVgrcfJJd2o4W2Fy/vz5LVu2rPSuzITK73twNTc3Uz/MFAhZaGtr00XgVcrOnTt1vxr/pP5xEs6nX5qYoA9LRhThXqGKeP78OX/Y/Pr16427D1d0jjOtMjrzMly3A86dyPT09LCsIVQCrgJkFySB5Vxu/uSpssMmU+n3S8MmJ08VurrxyTzICopKXovD9+ndhxYSlVorTfOOkK9wNXIEvv76a/r6y/pSW7dupRPlTYUKW4FA03tsitzR0cEs6KZs8Sply5YtTkzRkn1a4m+Tb9R/otm6uQ8+VK0stKkX30h27txpWonp3gwTKh0j86oVxK0/bFGWbsjIygitqqJ9mSFUrFjheqQJMIlidTAixkwiXbmhOD9T/ynTKhhUCYW/t0whVLxxQ6ryBHjBQB0pXaA0KvLHiEp5i2/GyGazOhVkNG7awX3TTOmvtrY2lpa2FDPGic0VNu9rcvW6hau9ShUqn8/rajCVStlIx+ZfZljjqbuZU6ogHpxhwqyiosJJWpLoW7duZfGJm5PkiAMCqhGg1SZlJ3TlPvp4rumL/NlzWG2iWiVGwh9+UAWr6iNRZRhRiUo1RczPnp4emsNDXSg+UFlZefToUbb4xLNQ0TSNX8PA20+lUg7HUhjZoaEhlnz9+vURY+3eXRr7dp9Ubgo6fJPVxapVq/r6+myy7PttgTWeNX9+YRMtEj9R63XiLTXXNWvWsPiukjvJAnFAQDYB5+JkcvU6HCsuuzqSY58/WQVaJRL1jhGVSFRTxJw0VSmbNm1qaGhoa2vT7d/lR6jk83matUV9tVQqZTVZyIYjTTqyWrtvkzZaPykrVA4ePEiVuGnTJtM9EnjU+ZfLfhoPbyrc8PPnz6ngDj2hscShoSEaD0yl8Dx3yA/RgibAJnGVHTChpxMFIFGCrqq454cdwCJXw3ixRa7KIuAwHT/Pn3ph5bcifU1amk/z/q0cjvp16gGoU5Dfd03gJwr+67/+q8M5e4o0Hp8kaWCwurraoSna7DudTpNocbJvhEP7iAYCogjYrzNhjyOsNhFFG3acEMAOYE4oqRMHQkWdukioJ4r0NWneP38YZSyrRDWh0tbWRsNZbGDh2LFjDskr0ngcemsajVdo/HmmppHpIs3+oqGY6upqh+qOjCAAAlIJ2EsUiBOp8GHcngAWq9jzUepXCBWlqiOJzijS1+SX5sd79pdSQoXvplOfm07aKXs/KNJ4yvppFYEv/pYtW6yimV6ngRTGzbnIMbWGiyAghEDhwmWr+V2YxCWEMIyIIvDGYpXTZ0SZhR3hBCBUhCOFQXcE1OlrJmT2lzpChe+mr1mzZv369azPrVvFZNOe1Gk8Nk6a/pTNZmmXYbd7PzCDfHKsTjGFjItBEij29UOiBAkcefkkwC9WyazdWLhw2adBJJdEAEJFEliYdUpAnb5mQmZ/qSBUTLvpdHZK2WX01LbUaTzkUtnA0NBQY2MjP9vN1Q51ZJ/fSaKhoYGuIwACoRAwVSkYRQmlLpCpQwLLhUJm7Ub2Tsys3egwFaIFTABCJWDgyE5PgM4Xzy4s638L9m9+9pfzvnKwPgrILVyh0tHRodsUjnXTR0dH2XAKbbnrpKgREipMn+jK7m0sxQkZxAGBgAnMnz7Dni2znzUuFwoB547sQMAbAWq3c01feLOAVLIJQKjIJgz7ZQhs6plk3c2ef4T/bkun07Gf8R+WUDE9XYcGE2iPXULRpj8AACAASURBVDrEsEy7efWz+kLFSp842RDPCQHEAQEQAAEQAIEYE4BQiXHlRqNojX9ZOV+85a+zoXtM8/4bGxtDd0aSA2EJFZrZRSMnHR0dVEbab9fmKHqKTAFlhcro6OjRo0eN4yepVKqysrKhocH+LEsqIAIgYEqg2Nc/vWM3ZtWbwsFFEACBOBGAUIlTbUayLB0j86y7ubVvKvQCfPfdd6wbnU6nQ3dGkgNhCRXapcr0OE6SMUNDQ84LrqBQOX/+PO3KwNoS+1/oE+fViphlCWTfrplcvQ6z6suCQgQQAIGoE4BQiXoNRt7/oclF1t1c8+cXoRcmm82ybmVFRUXozkhyICyhwo4BNV32nc/nvWFXR6iwKV4kt0iiQJ9IasaJMmscPwnrLk4UdhQWBEBABQIQKirUQtJ9UKe7qWkaTddx9Wk/QlWoYBeHji9cv369K5KhtxybJShbtmxxfiCMq1IjctIIGMdPFLyLk1YpKC8IgEAwBCBUguGMXOwIhN7d5J2rq6tjn8NdLZbgLSgeVrCLQzPuXK2k1zQtrJZjo0/WrFnT0tIS413jFG/esXTPeM8ar8Sy4CgUCIAACECooA2ETyCs7qZpyWn7qbq6OtMIUb+oYBeHzQpLpVJu9zAIrOWMjo729PQ0Nzdv3bqVxtxofheWyEf9plDcf+M9a7yieBHgHgiAAAh4IwCh4o0bUokkEFh304nTnqchOTGuQhwFuzgNDQ2s09/W1uYKkbyW09fX19bW1tjYmE6naRsAXpmwMJaguKovRPZGwHjPGq94s4xUIAACIKA4AQgVxSsoEe7RmY+jMy9VKDCdGh7LCTwKdnHo+JrfRy1cNQBRQuX58+e/7xfc3Ny8c+fO9evXGwWJ7gr0iatqQmSfBIz3rPGKzyyQHARAAATUJAChoma9JMurdG+G9Tg7RuZVKDltL+v2A78Kzpf1QcEujmdl6FmoPHjw4PeV7s3Nzel02rhVl06WpFKpVatWpdPpo0ePdnR0DAwMlIWMCCAgkIDxnjVeEZgdTIEACICAOgQgVNSpi+R60vzLypmPdTdzKlDo6OhgXdVYnqaiYBeHhIHb2ncuVPipXJSdTaC6unrnzp3Nzc19fX2xHFhzixrxQyRgvGeNV0J0D1mDAAiAgDwCECry2MKyUwJ9vy2wHqcKR6lompbNZmlZQvw2KVawi0OCwWmL+SOelVAZGhr67rvv2Nr36upqsm8VqKioSKfTjY2NGDD5Ay3+XyECxnvWeEUhd+EKCARLYLlQKN4anD99ZvazxmxNmu4OJ4FsTbpw4XKw/iI3dwQgVNzxQmwZBPIvl1VbprJ161bWqXW7Ya4MPmJt0rNbrFk/1kg/kJGenh7TzbUo5krg7G8rWuWPH2gW2R8XzP9/zZo1W7ZsaW5u7unpGR0dpXwRAAEFCRjvWeMVBd2GSyAgiQCvTKbS79Pt4C2QWbsRWkVSTQkxC6EiBCOM+CWg2jIV2vsrlUrFbFCFHuV+60xcehITZNKRSkmlaESFLFgFNm3aVFdX19LS0tfXl8/nKSMEQEB9AsZ71nhF/VLAQxDwQ2Bx+H7+7LnZg0f8KxO6fSiQWbvRj29IK5UAhIpUvDDulIBqy1Q0TYvroAo9mp3WjeR4tCIolXr9OKKTVayEx8p1w4gKu15dXf37UFhzc/N3330XM50puTZgXkUCxnvWeEVFv+ETCPggsDQxsXC1d77lq+kduzNrN1KbNw3kPvp4rumL/Nlziz8NOc9z/vQZsjZ/+ozzhIgZJIHXPYMgc0VeIKAjoNoyFU3T4jqoQs9lXRXI/nN0dLSjo6Ours5mtMStDzSi4jYh4oNAhAgY71nqty3nlNiAJEIw4arKBJbGnhYuXJ49eKTsUhNvysRY9rkvj7P7K+BBlfzZc9M7dkMdGWvEeAVCxcgEV0IgkH+5rGCnM5aDKsZOj9T6fvDgwdGjR23ECY2ZNDQ0uPVEwTbjtgiIL4lAsa9/esfuIKeeF/v6bXpX2Zp0/uw5D4VdHL6/0pF66x1KnvvoY3ax2NdPFxEAgSgScChOsjXp2c8a8+0drsZMygJZLhQCfidqmpY/e27lpsaUs7I1pGkQKg4gIUogBBTsdPKDKoEwCCKTYB7K2Wy2ra1t06ZNpENsAjt37vS2bkTBNhNEFSIPBwSyb9dMrl4X5FdSliPdX6aB+ZOnHPj+RpR8ewczNVP/Kf1An4HxRZaYIBAhAg7FSWnMoeWrhau9SxMT8kpH45OB3U38F43irUF5RYuHZQiVeNRjHEqhZqeT9ilubm6OA2VNo/6TpOL09PTs3LmTuJE+qaio2LJlS0tLi8ADE9VsM5LAwqwrArLbudEZytE+4FarzNR/ygzm2zso08KFy+wir17oVwRAQDUC/D5dfDddd7Nk1m6c3rNv/vQZscMm9jRI9k+uXidVEZEb8ydPUcGzNenlQoF+QsBIAELFyARXwiGgZqezsbGRutpr1qyJwVn19HwUVc38oSWmp7zv3Lmzp6dHVHa8HTXbDO8hwmEREN7OyxbEJsflQmF6zz6K4PzD7dLEBH3uXRy+Tz7QfLBsTZouIgAC6hDglYn9Pl2hiBMe1HKhQHMpvc3P5K05DM9+/j/pgTDX9IXDVLpobLpptibt/JGisxCJPyFUIlFNiXBSzU5nPp/fsmULaZXfd6aK+tAKPRy9tSpeltifpVhdXd3W1pbNZr1l5CSVmm3GieeII5uAz3buwT37HHmtklm70eE3VPrWm/vgQ51LJGBsvgEHv1BH5yT+TA6BxeH7pU26Tp6aqf/UXpmwOZnBj5zY1AUNUU7v2G0TTexPlGnpgeBpVwx+bIr/kCHWz9CtQaiEXgVwYIWAsp3OfD5fV1fHa5VUKhXd0RXqTvW9+u/3MaLfpVdzc3P61X82q94dnqVYWVnZ2Nj44MGDAFq2sm0mgLIjCxsCNOAwuXqdTTSxP5VVDsuFwuxnjZOr180ePOIwa1r3snC1V5eEhmhMvwEvDt+f+/J45q13Al6oo3MSf8aVAC9Lch98SK8Vm4CofbpkIF3O5crevzLyJXTeZAa/vbL9LNDChcu8qtFVU7YmPdf0hbKrZSBUZLQ92PRCQPFOp3FohUkX9RVLPp/v6+v7+uuv6+rq0uk0PaF00svznyEeWqJ4m/FyGyCNbwKliRx/9Jz476PGV7XnnbhMfbRXDpTEZgCE4lCA7la6QgH6HMuXcTmXmz95ytgjoVQIgIAHAvw8Lrq5qHFaBVRWJkYIDu9fY0I/V9iXi8nV64xfIhya5T/KMLVjv/2gVWWx69m3a/i1cA59kB0NQkU2Ydh3SqCic5z1O7MLy07TBBvPdGhFHbkyOjrKBknYCAmTJevXr9cpEHpO6a47/DNEWWKsbQgVIxNcoYWqmbUbX/79sVGf0C3AAq6Ugw1eU+VgE7/sT0sTE+SqMfJyLke/GpUJ/TS5ep3nGfDGTHElIQR4ZVJ2HhdrbFPp90uzuU6eKnR1B7kUXlSNCL9/nTg23/IVo+dHHtB+G2xQxf5pwD8ZrMJuN/xwUlI/cSBU/NBDWpEENvVMsn7nwERRpF0JtmwUi8PuvvNoa9asYZOybP7XubVUKkXPJmbw6NGjzc3NLS0tTOSMjo5KACbLJISKLLJRtkvTpeZPnyHRQs3eGDCdOuUBAD97JFuTztakfZ7iMtf0BfPWuEBF0zReqBgLlX27RuW5HB7wIolUAktjT4t9/Q5XmEyuXhd1WWKEyd+/S2NPjRFkXKEDVea+PO7ZPj+o8vLvj/n5YPyTYfazRqulcWymKK9w5r48bhXZs5+eE0KoeEaHhIIJNAxOs35n29/mBJuWZi5IxeJKjegib9q0qbGxsaOjY2hoiJ5c0qgEZxhCJTjWEcmJ3tmZtRtpJTq1ef5VLeMDKs0eYTn6OcWFejC6aSF0AAVbf0JFo4B/gRSRqoabvggUbw3mz56b+/L49I7dtDyDWpEx8HoeF7f7nC8P1EtM929gm2gV+/oZavsVJmVR0aCKH8HDb/jBtKgiI2MQKmUbACIERODr+3Os39n4l5mAshSUjSJypbq6Op1Ob926lU39On/+fF9fn/HQEnoDCSp9mGYgVMKkr2TedDwitfPJ1eum9+wzfh3kP6B6W8mqA1C4cFknHvzMuaJxIb4gVmGfQze6guDPWBJY/Gko394x+1mjw6lcr5XJT0MKAukfv7PrZtOlJ9cF+kYfL3IffSzQrI2pl39/zG5q01FTm4S6n0jwZN+uMT7rdJFt/lwuFEjzMMcC02w2XkGo2MDBT4ES6PlHgfU7t1yXuKFtoEVSMjPq6yjpnTunIFTc8UpAbN1b1kqlMBIU2efnTE3T+AEQusX86B8nH7kpowRULIromkBpgVZX99yXx+mQEGowxkDmrXfYMfCFC5cV+Y5uX+B3r+6t6qrd0L3NPpqrX/mPF8HM/louFFhdZN56x5Wrxsg0cavQ1W381dUV3TeX0LUKhIqr6kNkiQSezy+xfmflxQmJ2STeNL2iYkACQiUGlSiwCIWubr5/P5V+336ogeaJTa5e50dU6N7rNBjiR/9YTTTnT8ejwgpkCFPRJbCcy7F1JqXZXK92pqanvTGQ++DD2c8a50+eKt4aFLWfRJDoqrpq2T+xmQY/+4seFy///thPWeiJwW8D6Nng0sTE9I7d1GzCbSEQKp7rEQnFE1j1nxOs6zk0uSjeOiy+IkCPnhjwgFCJQSWKKgJ/iHtm7UaHXwH9D6roxlKWCwVR+qcsGdY18TPBrGwWiKAyAX5vLvqgTk94XWAq/f7swSP59o5IDJiUxS5JqAQ/+4seQX6Wl2iaxj8AfWoeBr+0z/tHH7NWJGrHkbLVahoBQsUUCy6GQ2DnjSnW9dzaNxWOBwnIld5eMSgrhEoMKlFIEYp9/fzM+/mWrxya9S8q6IMovxEwdT78DKo4LAKiJYcAr0z4Bk9PdT5Qms31ar/g4q1BbwefqwxWklAJfvbXwtVeVms+l5domkaPHZ+ah+qdZJuQURoy6zYAoeKWGOJLJDA0uUhdT2VPU5FY/kBM05sskNzkZkKtRW42sK42gcXh+zQJijVvV9+M6e3uTVTQDcWvYeX1j2qHEqhdmfBOY2qkeGuwcOHy/MlTbMvg6R27yyqT0oqsHbvnvjxe6OoOZolFiLUlSahomkZTngIbRqCPHT6XlwjUPKxmednmcIxaRpOAUJFBFTa9E4jQaSreCxlqSupXheqFmMwhVMRwjLIV/hx61rbdLkvlRYWH7p3VDTV78Aj9FOI7Psp1mwjfS9sEt3fMHjzicJtgalQsoPjeXPKqUJ5QocUe3r5ceCgyHffkf+BClOahUtBpTn42Wydr3gIQKt64IZUsAlE8TUUWCzl26T0nx3ygViFUAsWtZGb0jqeG7aF7Qd9Q7RffmwKgfHW/6g4lCHc1qs43/BkWAX7uVu6DD6nxOA8kVpnoqkyeUKEtgzNrN/LDpDoHBP65NDFBDcCnWXoe+tc8zBPal2xy9TqfvnlODqHiGR0SSiEQ3dNUpOCQYFTUA1GCa65NQqi4Rha7BPQFkRp2vr3DbSnp7T578IjbtJSvMaE6q1GNvuFKMAQWh+8vXO11fuL75Op12Zr09I7dbBIXm/pV7Osv3hp0NaExmNKFmIs8oaJpGu1MULw1GEwZbR4jrhzgNY+ohUmifHNVED4yhApPA+HwCeA0Fdl1EPpDR2ABIVQEwoyoKWrPtB+rh42Gi7cGmZ1sTdotB3LANKEiq1FNfcNF4QR4WeJwwGRlVcmFyx7arXD/I2RQqlCh+U7Ot+Xwic7+MeLKOG3VJUrZCvTNVUEoMoQKoUBACQI4TUV2NYT+0BFYQAgVgTAjaoraMwt4UBqaVlq+TMvx3X5DJQdMAfKrUdETNUUU6YuLw/fzZ8/NHjziUJZMrl73eu7W8P1Ilz1c5zd0b2NaZaKQEe4JrUr3eWC8c8fo+eNhmZwuF1JZojYDIN/CeoJBqOiqGH+GT4BOU3k+vxS+N7HzwL5fFaHi0uBb6uxvEXIbroolQO2ZBTx/AaW9v7I1aVcT08u+xcmyh8UzYlnBmn8CSxMTrw9VXLtR1/yMf06l32d7BBe6ukV94fZfihhYqBtoZkKlc/SK8OLwXy6EnElS1kM/y+R0xvPtHawditqkePazRmYwrCcYhIquivFn+AS2XM+yL+Vtf5sL35vYeUCv0kiXrOcfBRK0ECqRrkqfzlN7ZgHPfcHScWl/HObt6ghFeotP79lnqnD4XcXC+iTpE3KSky+NPWXKZKb+U1q6oGt19CdkSWBN5dKT60yo7LrZJCNT+r4gqrtv76SfZXI6y8W+ftYgp/fs0/3k7U/+CebNgs9UECo+ASK5eAIdI/NMqKR7xQ/pinc3ahbpnRo1x9/wt/LiBM37ahicfuM3/JEkAtSeS4dI+Hsx03oSVxtx8m/x3Ecfm87coE5PWJ8kk9Qi/Ja1tF/w2XNzXx53sl9wtiY9+1lj6bh3zOPyC95d+lxxVuoyFZr95f8cRicF87NMTmef1tNn367R/eT5T3rMerbgJyGEih96SCuFQHZhuaJznHVDMftLOOJwnzhCitP8ywxUihCSMTBCM6+sBjRcldHb3cEfmZJ5652Fq726THkxo/sJf8oj4GowZHL1OmpL1AxMA9M7ds+3fLVwtRdbTsurOyeWpQqV0t5fb9ewBuDzHEYnZeEnm5l+7HBihOLQ4LAo/Uw3AmURZABCJUjayMspAcz+ckrKfbxwnzju/V1JkV1Ybv5lZs2fX5BESZ39beeNKc8GkTAeBOa+PD65et1M/aem067cltHz3UEzN5gF42n0ni27LUKS47saDKEasQ9k3nqHKZPChcueJxYmuVLklV22UKGbWtSZJPYoBC5TofmoooZw6R6xL4KkXyFUJIGFWV8EMPvLFz7bxOE+cWxdM/9xaHKx8S8z/IoUplW2XM/mXy6bp8FVEPBEwM/dUbw1SJ9gJ1ev0+0e5seyp6LEP9FyLle8NTh/8tTsZ41T6feJsM9A7oMPZz9rnD95qnhrEGMmKjcj2UKF5lBNrl4XwJJ60kUeTnPSVRM/hOt/UIXnoMsomD8hVILhjFzcEeBnfw1NLrpLjNi2BOgtbhsr/B9Nh1BoOGXnjSmolPArKXYe+Lw7liYm6BAD3e5hPi3HjrSXAi2NPWWHJ07v2cdrQmKrC2AwxAvl6KSRLVQ0TaPVZQEsqRe4TIX33P+gChu1Lu2s/cGHobQOCJVQsCPT8gS29k2xXunWPkzvKY/LeQx6lztPEnBMJlGMQyhr/vyiY2Q+YGeQXaII+L87rHYP8285URXBCrs4fL9w4fJ8y1dO1rWzjhQGQ5LTTgIQKkEuqV8uFAQ+JfhBFT9NovRA+2MbbuPqOz+WnaeFUHHOCjEDJTA0uUifz/t+Wwg071hnJvBRKIrT6MzLvt8Wvr4/1/zLTLo3o5MolRcnGgan0QZE0YYdGwJC7g7aPWxy9TparCLEso3n8fiptMikvWOu6QsamCJuxkBm7cbXx7r/NBQPAiiFcwJSz3wkN2jsLoAl9dTIKXc/ASHWQh9O0TQNQsVPM0BauQRoUGXNn19gno8o1kIeXn6cGZpc/O6/C82/zGztm6r+r0mSo8YAhlD8cEZaDwRE3R00Y4QMUsCDV1FPsvjTEFMgbD3J9I7dxgNJ6KstgTIGsm/XlNa1nzy1cLU3gDUDUccee/+lnvlI9GjpSABL6qnNU+5+AnRPed5GTIXhFAgVP20AaaUTeD6/RB/XcVaGKNxiH4VOvHo+v3R+NN8wOG0vS3ihAoniBKwicYp9/dM7dhcuXFbEHz9u0N1RvDXop1DLhcL0nn1kjQ/4cU/xtKVT218dQjJ/8tT0nn20ixFffFfhqfT7M/WfYl274vUelnuyz3xk5eKXksuWx3R3CEFKN6Dnh7MKwykQKkIaA4xIJEDbf1V0jkvMJkmmxT4KrciNzrzsGJmvu5lb3/W/eAViGl7z5xfp3kzjX2aaf5np+20B2ydYUVXn+tLY0/mWr/jv4q4OSVSnIDpP6O6gj5G6CM7/XC4U+PNVmGVXZ947zyv4mDpN4mSmFrG1CeQ++nj24JF8e0fx1qCQ/aaDJ4McAyMg+8xHKggNkMpeUk+3BmXtJ0BjQd62EVsae0qPwbBWp7DiY+qXn2aAtEEQoK5tEJklIA+xj0IGLP9yue+3hba/rSwy0Z12QjXIAtX/Nfn7BgnNv8x8998FaJLItbjirUHapJ/aEgtErixGh3UlCmuXG6NjwVxhG/6ynbXmmr4wnaNFU/Z1rGz+nN6xmx1FMn/yVKGru7Tt79jTYEqEXOJNIID19JqmFfv6WfOWfUo93URCas3nNmL09SH30cdC/PFsBELFMzokDIgAnVKPTq0Q4v4fhQ+mFn9f2t78y0zD4LRx7btOlqTO/lbROb7lerblr7OoQSE1GIqR5UKhcOGyzWkV8RgroLuDBcL9jii7oheH7zNNMlP/KXVKdARc/ZmtSbPV7Wyylv8DHGQTgP2oE6D19GNzcudc0Oix1CX1dLsJqRf+tHu3k9bmW75izmTWbnSbVojzvBEIFZ4GwioS2HljZZ/idG/m+fySii5Gyicnj0I2QtL328L50XzzL6UZWTtvTKV7M84XmZA4GZgoRgoPnH1NYPGnoUJX9/zJUzP1n2beeodaDgvkPvrY89Tn13koFuLLGPXhlMXh+3NfHqcOFl80Y23yvzoJQ5Mo1nIT6s6um01sUOXSk+tSEcyfPsPuC6lL6unWE1UWb5PWaM5Yad/C02dEOePZDoSKZ3RIGBABfp/iis7xlr/OBpRxZLN5Pr/U99sC+8dkBttiK92bSfdm/q//2cP+sT91/0vjV8aBEfsr6d7MzhsrE7ogTiLadpZzuUJX9+zBIzYjJ5Or180ePLIY091gqaMwuXqd4sMpNjqEL4WrMDshkR1Fkj97DnO0InojJ8ft1oedTKgcHmqVWmp+/yt5ExfpbhVVFg+T1vJnz5Eb03v2ifLEjx0IFT/0kDYgAg2D09RLrugcj9+pf0OTpclUOmnR+JfSoSLO/1VenCBKUgNs7fvRn2e+vj/X99sChrkCug2kZbM4fH/+9Jmyk3+yb9fMnzy1NDEhzZHwDdMbWpHhlKWxp4ULl2cPHjEdGCFvvQVyH3zI9tRauNqLaVrhNz544J7A4Iu7TKhsvlbvPrW7FP430SqbH93IZWM6j0CPDieT1ng9Nr1nnyIbWkCoOK9uxAyTwHf/XaCP/RWd47+v2w7FG9rMyn69OOvK22sMewtSlUZZ4+Q/24mLbcaF/bhCaXKSMl0uFBau9s41fWGzNro0vWfPPrYAOiEdWRV2uRElTrJv18w1fVG8NSipCcEsCIROoLC0EMx6ek3TaEKUt020nLCSIVRcTVqba/qC+ZD74ENFVAq2J3bSchSNE6ezCxwibvnrrGkPe82fXwjXLeysdLZkvPmXmbqbuXRvRmVpwZPZ1DPJNBKbi8Vmf/X8o8BGbIb+t//BnkQOsSNanAi8/PvjfHuH1REfk6vXTaXfn/vyeLGvP06ldl4WtoQ0yAkPS2NP6TBE0122qO+iC0CHOK9WxIwxgcCEis9NtJxUAd3jApf/8efA2PiwnMvRqSmqTXzFiIpNxSn9E/sOGo+zC5yDttIqqbO/rfnzi8a/zNhPQ8ouLDf/MsPrDRo6oNEPvscfTLjy4gTlzkuLtr+VJlaxf6MzL51Tso9Jj0L7aPg1NgQWfxrKt3fMftZIcwCoDbBAZu3GmfpP82fPyZt7HRuYHgqyXCgUbw0Wbw2ynQnodPbcBx/qKsL4Z2btxtKg1ukzcV0U5IEnkoAATyAwocJvoiXpUUkjumK7dvRg4bmxcLGv3/heCPJLjdEl4xUIFSOTaFyxaXnRKIBXL/Mvl+tu5oKREMZcYrCZVWJbjtcWF710SxMTpW1nW76iSdVU6Xwg4YMnYut1RY309c+fPMXIT+/YTd0OHnvZMMSJ2KqBtXgTCEyoaJpGT1SBIx587fBjGvx1n2F6EOlm8Bb7+o0bAKqzNIVKDaFCKCIWoLddxPwW7a4k3VL9X6XZU+xcQnY0YWxWaKDliG6DSth7veakJk1VbAxg8MR/bS0O3y/eGpw/fWb+5KnpHbvLbkJgrAX+SvbtmtLZI01flM4e6evHyIn/CoKFRBEIUqjIXqayXCiw43Rn6j8VWIl0RK/OrG4sJVuTliTAfJYFQsUnwNCSk0RezuVCc0KljL/774KTUz7W/PlF/DYNc1UPaDmucCkeeWlionDhcumck7Ub+e4vH87WpGc/a8y3d6AT7Ko22THtbL7W7MEjpQUkb9fwYB2G2ZEjdBIiOwyxeGtQ93XTlW+IDAI+CdCMxHx7x/zJU3NNX0zv2K37p+vIOmzwAUcjocLny266+Zav5k+fKd4aFHVkYQDLVHxWq2nyxeH7BIePQOvsFT+uF0KFr7UohekzXmKXvfqsrYWrvdN79jnZsM9nRqolp5aDbqtqVePcn5d/f2yzoXBp7tCO3ewLfbx3E3ZOrGzMpYmJ0jjJyVOznzXSPUJv97IBdgIJ2+03394BHVIWOCL4J8DExvzpMzYr0Mo23ahHMBUqpoWaSr//ehtDTydBLRcKZNl/9QVpgb5kBZmpqLwgVESRDNoOzWVU4dzQoAvvOz86BUnskjXffgVhgPYfzJ89F0R+yEMcgeKtQauzxidXr8t98OF8y1f4Tu+Qd2mvrbPn5r48XlpM8tY71P8oG8h99DHTgexjLYA7BJ7waEwJlxaPnTzFWp3P4QvqepZtsfGO4FyoGDnwDLM1afahoXhr0GaiChmJVntmgyeKj5xYIYVQsSKj+vXChcvshtFNOvTgdzA7HRcuXDYdR87WpN32mNk+FR4SMjiLPw3R40m13S08VJ/bJPn2DtZy5r487jYtsDe5vQAAIABJREFU4gdPYLlQYKfFW3Wmp/fsw4ZdZetlcfg+6yPO1H86lX6fehs2AbZ6ZPbgEXaSjH33pawDiOCWAF9lpu8Om7rDT2UJsHHXkuRu+arUwi9cjugwIAkVvoG9/PvjlYVkr/YUcXjLl4XGR+CzQ1gqAQgVqXglGqdJh9matM9sZO90bLr/HX/DT65e52pciH9pOUxI2mb+9Bnq8GVr0gmcGEOjSQkUaT7vlCCTL01M5M+em6n/VHensD+zb9fMHjxS6OpW50yuIOHY56U7mcTJLsCTq9exuVvzLV8VLlzGIIk9YeOvZYcLXB0RQ49o08aPizyB3EcfzzV9kT97LrFTeU2FirGJappWUi+v9uXzNr2Txz65ep1pFrgogwCEigyqAdmk28ZnfqLsWLnB6wrKSxdwNQWLVoAxI07EhtGH7Ns1krZCt+KgyHU6/in7do0iLsENIrCy+MTihA22oXBieySMks3B7a46uLkPPpz9rJEtbXfyDKE6il+A7WNWuHDZalYSP0nJ+CzVPczxpymBlQG6V00Oq5gE3kTOhYp9povD9wsXLrNZeaY1yF+M6BwqewLK/gqhomzVaGVnZNFt47MMouxYuUG6YvazRt0HYP4EJYdjIyyX5UKBFrw6mTlGPrDCZt56J8kfTWnmm1WV4Xrx1uD0jt3B7NXIpijYLIfNffRxvr1D1MY1kajcxeH7Nqtx6JHlPOB/HW0kuNk7WTp38s2TXpwDDD5m7oMP2ZqBhau9SX5c29cpft3QvY1plbG5cdCIJQEIFXWrteyMLHpz+CyDKDve3KBdAVwNqmiaRqt0pnfsLpv1cqEwvWcflTThs56IQ1luiY1AB3tJ+tbOOuI2s5LYgSeFC5clOSCpZm2GO6jVyQ6wnUnnvjzORkuS0MdlQyIlHfJq47LSoZNvrtiWzvzVaTBshArDBZJuLpg1JbDrZhMTKpeeXDeNgItRJwChom4N0qvFysWyEawS6q6H+32dH1Rx1aVYzuXI87IJ6cAjgjZ/8pSOQ3L+JAjJKbLbkpKsdTJe59x42YECtvhk4WqvbuzReRYyYqogP6jRxvLgdjrUgh3bwnZJ5idcGcMCp2Ax40zaRXdRtYyWD5vqE2h92MmEyuGhVvW9hYceCECoeIAWUBJ6MVvlVzaCVULd9dD3rSMV4XYHM1pqbJ+QBm0mV6/jd/9wNdlMBy3Sf4pqOZGGYO+8q/E6e1OaptnrE3YUoGrLYcMVJ9m3a+aavijeGizLVvEI7NRINtaRP3uOjXXMv9qJiMkD+tpCd6WkAE56UbypwD1vBAZf3GVCZfO1em8WkEpxAhAq6lYQva6sXKQ3XNQXhdMOZm530nCSkHbjLe0tdvIUPwfM7WQzq4qI3PXYtBx55JdzubI3YNncbfSJgh1xG28JRdlALIc7ylb0671QT55akR9uDmYpS7VsBHa0y/SO3WzyFZNDxb5+JpAStbqpbGUhQswIFJYWsEwlZnWqKw6Eig6IQn/Sy8nKJ5pGH8ySXys3hFwvW1irXOwTFrq6KcLswSPMiOfJZlY+RO56nFqOPPjUctxmYdPjD1ifiBoVSab8MK13Wo8+1/SFqy13qTmZBti6Gja2tiIzXi04KTup1dRJXASBRBHAMpV4VzeEirr1S+8z3kW2FVi+vUPTtPmTp1gc6oLzMaMVNi2skyLQ4IBxHtfLvz+mX3Wr5z1PNnPikvpx4tRy/NPuH7+z+Vr95mv1urWY1HgcLmcPXZ+IkiXsZky4OGEHg7Ade2c/ayydXr92Iz2mnAdyH3zIxljYBlZMhCxc7cVYh/87FxZAgBHAMpV4twQIFXXrl96F5OLi8H32smRzloq3Blkc/2c+UhZhBYyFdegJrT/RzeMq7V/8x2EUuY8+1i1NdjJnzKEDUYwWp5bjn//ma/VsivOG7m28Nefr6Yu3Bk1XNgscP1nO5eZPnjLNhe4dnwGB3vIY1Q+zhexMk0zv2Uf7njvnydQIO+E7osd7q19N8BAErAhgmYoVmXhch1BxV49lzzZxZ842Nr0mWSy+58025F0uFHRxbO0p/aPnglhB4AWM6RoezzkqzdGZc1bQnKWOW6y2RxeZUKnqquXL5nw9PU2lY43KSY9f7OgHNWZdIOGjInxtUpidWz9/+gw72c3VGZGTq9dN79jNxkbyZ88Vbw2aPlsoLwRAAAQCIFBYWjB9hgeQNbIIgACEijvIZc82cWfONjb1OVis+Zav2JXM2o20OFIXx9ae0j/6KQhNyaDZXzRiMLl6ndUCHj85Ko3SmXMJL74OkulLzvl6ejaVTqdPFofvL1ztnT95aqb+U6kjIVSVkCWsWhd/GmITq+ZPn2FTrab37JvesdvVUMnKOeIHj8yfPMVmaulGZXVNCH+CAAiESMD0GR6iP8haIAEIFXcwqU/gLpmn2HxetKigtHXV6TNkj49DF6MYsCkIm/Ric0w4P3iiadrSxATTk5Or181+1mhFwyZHqyRxuh7R4hf7+nWd/mxNeu7L4w6XkVjVoNVLzjklfmqW24/0lIt9IFuTtlLdVuWK33UrEeJ5Dcnk6nUlgbdj9+wrTVLs68f69fg1G5Qo9gSsnuGxL3gSCgih4q6WqSfhLpmn2JQXr1J0i8IpjqccFEpkWhDW+eO7faYe87t4aZpGh6tka9LLuZxpEk3TTHO0ihy/6zQMFa1umU6lUCVm1m70c+yG1UuO7Fs1AKNwoiT2AYx+WCEtHTvzakhkZTBkx24/IsRYC1Pp96d37J4/eYrN3bJ5RNh4iJ9AAASUIkA7FE8UMko5Bmf8E4BQcceQXnvuknGxdT0bm6+k1JWkTKf37NNNP6CfuBwiFlzO5WhIhJ2jMn/6jGl/1OZURzqzMn/2HDGxOi2O6R+KFjFegtyN6L5nrKKp7oyB0vwrZwMsl55cp82+PAsV04aq82rham+01KCgJlbeDFsuwo5BnKn/tCRIfB8/wo41pJUkJUHS3oEttspXBmKAQJQJ1A00s8d45+iVKJcDvpsQgFAxgWJzibogNnHsfzL2bHTbVVFyvvteWsRpUClihwVWNj4+e44cCCCQP3uO75rkPvjQdB65jZzjnVyamCB1N3/yFP8TC7MNZPkc3R4xabQZ0Sux2fds4Wovbe9GtycFsjXpvFmTpu0sq7pq6VOcbjG9k/urrHCaa/oioi1EoNtsWy22YsfP8SM2IgRSUGB9wRQIRI7ApSfXmVDZdbMpcs7DYXsCECr2fPS/UgdI/4Pjv017NqaplwuF2YNHWI6znzXqxlJYEv/+UNakoPg1MPSrjAA/pY0Kogs4lCjMPZJ2uQ8+1OHKnz1HBeSzSHI/kjjIqNyAbdqcYaJb1qVp2rcj39MQCguQVhmbG+c9jxMivlySwsu5XPHWIBMk8y1fuV2/TrTZwSOlqV+nz2C3X0mVBbMgECcCueIsPcYx+ytONatpGoSKuwqlD/ZCdqWkF7M7J7jYr/2ZmOAuewlSL99qhMeLUes0/Bwt4sACmbUbvYklWkOvM2j805X+sS5EtH8hLNEuxpvemw6w8E363tRjep+990NDVVft579+Y3WwcSwRvQnMy18v//64eGtw5TDEg0emd+yeSr9PrJwH2HKRuS+PY2ctL9WANCAAAhwBzP7iYMQqCKHirjrpwAQh2+/QG92dE1xs52fScYnMg/ySdNN5U+bJvF616tnkPvqYNl92a5tkG4HVBXQbyLq1H7P4BEfBctns7etcZBqPiyksLdT+eICNomy/caiwtMDKTjPBDg+18jRURsT7KSnMb/LrZw3Jyla/nzXOnzxVuHC5dPyI7w8rkooMsyAAAhElgNlfEa24sm5DqJRF9EYEmq00e/DIGz94+sN/N8j5mXROHKRBlcnV62TP+Z5r+oIV33m/s2wRTKfVEWSr6XNlzcY1ApEJoIA2woPcYAHdCiLdrytx1m506DMlZ/FJkGzo3jYyM0ZGrA421iWn+LEJLA7fL6mRvn62xdbsq+ER+hxDxXcYyNakS/v8vhIkbE8t2Y+R2FQECgICIOCTAD/7K1ec9WkNydUhAKHiri7oJMFsTdpdSrPY9Po3+9HRteVcjoYR/PcJlgsF6qPYbLHlyDNEUp4ANT9vw4OLPw05OdDQifAgTxwGnK8sIoOaphWWFt69upcNp7Q9usjXj9XBxnxyPn5UwmzRSPHWINtZa/7kKbb8w2o8k8prH8h99PH0jt1sylahqxsjJFFpD/ATBOJNYPuNQ+wJ3z9+J94lTVTpIFTcVTc/P8r/7AXqDbhz4s3YdGyIEGnBbwYVwASwN4uCvwIlQBI3s3aj6dZYOm+Wxp4WLlyePXjEZzeXmr1NIPfBhzP1n7KlC34UOGWhaVrn6BX2Dqv98YCuaJqmsZ90G3/xyY1JVLjCNtQqSZH2jvmTp9ieWkIOHmHHIE7v2ccGW9g0MN0eFSoQgA8gAAIgwAgcG243/RQFPpEmAKHiuvpo/9yFq72uE3MJaBaZzx1yeWnBmfcepK3GJlevszqKxLt1pFSGgP1MOeqjCwmIEh5u4ZHzmqbR6pRLT64b7agsVNji9ZXdtE6emt6zb3rHbtNd7Ki8TgIrUuSPQ9nnT54q9vVjly1j28AVEACBSBCgZSr7bx+PhMNw0gkBCBUnlN6IQws5/Aw48HtezX7W+EYG7v+gTon7pCYp+AlgpcPdCwWTSLgUCwJ+tEppy6ZXn9sLXd1+Bj2kgqRbo/fZAJMi717dS2vo+axDFCrsIPbircH502dWjmN/JUVoHiaVwm2AbavFDmKns9iLtwZxHDtf9QiDAAjEg8C9qcfsSb75Wn08SoRSYHtiL22A1q97nmrFn0toeoyjW7eo++I2oVX8kod/HBHtfD2AlTVcV5kAf1wPNSTTQOkD/J5986fPLP40pHKJeN+oIPtvH2cvMN3qFIocgFDhdxQQMjtrcvU6tqEWSRG2YkRZ3Ui0EQABEAABGQRMn+QyMoLNwAhgRMU1appqlX27xnXiVwlowyvjuYTeDFJvzFty01SkxzJvvWMaARdBQH0C7Na4tWkje3tt6N5mdRYYHa7Cbxfj587iZUnugw/JlIcAW7w+e/AInYGIURH12x48BAEQCJ4AhErwzGXnCKHihTCtQnY7g6LY18/PLPe5yoVcJ3+8nZNIdnQBJqj8z0zTmcWfIBAMgaWJCaYKDv/f/4O9vY4Nt1tlTdvF/Jx5SHFIVNAVXcB0e19XsiTz1jtsJy62eUBpglZ7B1u57vlAIZ2T+BMEQAAEEkIAQiV+FQ2h4qVOaT29qzkwxb5+mk81uXrd9J59XvI2S0PLZjJrN3rbatbMKq6BQLQJsPvi0VvrN1yuZW+ve1OPrYr0+a/fsDido1coDgkVIYGwdhSg4iAAAiAAAvEmAKESv/qFUPFSpzR3y8mmrpQBP5Yi9vBBftPkjOOz8MgxBEAglgSyb9dMrl7Xsn8Te3XZ7wPz7cj3LBo/6kJjlR6ECmRJLBsVCgUCIKAyAZrEa/NZSmX/4ZuRAISKkUn5K/n2DtZxmfvSxRZ4tMOSjOXpZNznZsflC48YIKA8AX6O5f/5/25hCsT+CLD+8TssWt1AM5WPv61MtcrK6pFXZ7GzU1+wvS/RQwAEQAAEAiZw4M4JJ1+mAvYK2fkhAKHihV6xr5/1WgRO3/Lix5tpWKdKhgp6Mx/8BQKqE6DRy7/+7xvYS6v6yif2Tk8UMizmu1f32sfEryAAAiAAAmoSoB2Kq7pqMaiiZh259QpCxS2xUnxapOt54y8vuSINCICAMwI0EvL/bP8/jOMkVjaqr3zCIvMbf1lFxnUQAAEQAAEFCdBm9PbTfRX0HC6ZEoBQMcVS/iIti3e78Vd504gBAiAgiMCx4XamPVofdpY1uetmE4tsP0msrB1EAAEQAAEQCIsAP6iCr05h1YLAfCFUPMKkQ6NFbTHs0Q8kAwEQsCZQ++MB59qDVI3VoZDW+eAXEAABEAABVQjgq5MqNSHCDwgVjxTnT55aWU/f9IVHE0gGAiAgk0BhaYGplKquWiff1bqf9rP4mDAgs1pgGwRAAATkEsBXJ7l8g7UOoeKRd/HWIBMq2Zq0RxNIBgIgIJPA4Iu7THjU/njAST4jM2Ms/uZr9U7iIw4IgAAIgICCBPDVScFK8ewShIpHdPzRJUsTEx6tIBkIgIA0Am2PLjLhcXio1WEmWE/vEBSigQAIgICyBPDVSdmq8eAYhIoHaCtJ6Hx6LFPxDhEpQUAaAdr75dKT6w4zoTUtIzNjDpMgGgiAAAiAgGoE8NVJtRrx7A+Eimd02tyXx9nsr/mTp7xbQUoQAAEJBApLCx6OKK4baGaDMIMv7kpwCiZBAARAAASCILD9xiH2MP858zCI/JCHNAIQKt7RFi5cZkJlpv5T71aQEgRAQAKBb0e+Z28pVwc4Hh5qZamcD8JI8B0mQQAEQAAEfBH4/Ndv2MO8c/SKL0NIHDYBCBXvNbA4fH9lPf3bNd6tICUIgIAEAu/90MDeUt+OfO/cfOvDTpYKOxQ7h4aYIAACIKAaAfpWdWy4XTXf4I8rAhAqrnDpI2fWbmRaBcc+6tHgbxAIj0DvswGmNzZ0b5soZJw70jl6hSXEu805NMQEARAAAdUI9I/fYQ/zuoFm1XyDP64IQKi4wqWPTOvpi339+t/wNwiAQEgEaBn9579+48oFUjgH7pxwlRCRQQAEQAAE1CEwUcgwoeJq9q86/sMTIgChQii8BF6vpz99xkt6pAEBEBBNgDamrOqqvTf12JX5nzMP2btt180mVwkRGQRAAARAQCkCtPGX2xeBUqWAMxAqvtoA1tP7wofEICCBAJ1J7EFsjM2NM6GCMx8l1AxMggAIgEBwBA7cOcGe5/tvHw8uV+QkmgCEii+ir9fT43x6XyCRGASEEaCvaL3PBjwYZS+2Dd3bPKRFEhAAARAAAUUI3Jt6zJ7nHkbXFSkC3NA0DULFbzOg9fQ4n94vSqQHAd8E6M1UfeUTb8bevbqXvdtyxVlvFpAKBEAABEBABQK0XhGDKipUhzcfIFS8cXudanrHbrbxV+HC5ddXEQIBEAiDAG1J6fm1tOtmExMq/eN3wigB8gQBEAABEBBDgD5dVXXV4tuTGKaBW4FQ8Yt8/uQpJlRmDx7xawvpQQAE/BGg72eujk/h86QlLjhKhceCMAiAAAhEkQAdUY9vT1GsPkz9ElBrxVuDK8c+YpmKAJwwAQK+CNACFc/bvHQ/7WcjKp7HZHwVAIlBAARAAATEEcC3J3Esw7GEERW/3JcLBSZUJlev82sL6UEABHwQoFF+zwtUNE2j3Y2x8ZePqkBSEAABEFCCwKUn1/HtSYma8OoEhIpXclw6CBUOBoIgEBoB/wtUmOs0LIM5zaHVJTIGARAAAREE6AMWvj2JwBmCDQgVAdBJqGA9vQCaMAECXgn4X6DCcsacZq81gHQgAAIgoByBDd3bsJejcrXi2CEIFceorCPSDsWZtRutY+EXEAABuQRoJMTzAhXmH+Y0y60nWAcBEACBAAlgL8cAYYvPCkJFANP502doUEWAOZgAARBwT4DG9/0sUGHZYk6ze/xIAQIgAAKKEsC3J0UrxplbECrOOJWLxbTKXNMX5SLidxAAASkERC1Q0TSNNA/mNEupKhgFARAAgQAJYC/HAGGLzwpCRTxTWAQBEAiegKgFKsxzzGkOvgaRIwiAAAjIIIC9HGVQDcwmhEpgqJERCICARAKiFqgwF7GeXmJVwTQIgAAIBEuAXhAThUywOSM3vwQgVPwSRHoQAIHQCdBkLf8LVFhZMKc59DqFAyAAAiAgikDdQDPb+Ktz9Ioom7ATDAEIlWA4IxcQAAGJBAQuUGFeYj29xNqCaRAAARAIlgA90nfdbAo2Z+TmlwCEil+CSA8CIBA6AbELVLCePvQKhQMgAAIgIJBArjjLRlSqumoFmoWpAAhAqAQAGVmAAAjIJUDzj32eoMJ7ifX0PA2EQQAEQCDSBCBUIlp9ECoRrTi4DQIgsELg58xD9gYStUCF2aUzwnqfDYA1CIAACIBApAlAqES0+iBUIlpxcBsEQGCFQOvDTvYGOjzUKhAKrac/cf8/BJqFKRAAARAAgeAJQKgEz1xIjhAqQjDCCAiAQGgEaCvhS0+uC3Si99kAe7Fh8aVAqjAFAiAAAqEQoNm8Y3PjoTiATL0RgFDxxg2pQAAElCAwUcjQd7JccVagT2Nz48yy2BllAj2EKRAAARAAAYcEaIfitkcXHSZBNBUIQKioUAvwAQRAwCMB2nRy+41DHk1YJ3v36l6mVQSu0bfODb+AAAiAAAjIIiD1ZSHLadjVNAgVtAIQAIEIEzhw5wTTEq0PO4UXg3Y9FjupTLifMAgCIAACIGBPIFecxewve0Rq/gqhoma9wCsQAAFHBGhj4p8zDx0lcBOp7dFFpoI+//UbN+kQFwRAAARAQDkCtJcjvj0pVzfWDkGoWLPBLyAAAsoTYEJC0hlegy/uMvu1Px5QngQcBAEQAAEQsCNAW0QeG263i4ffVCIAoaJSbcAXEAABlwSkChX+MOPC0oJL1xAdBEAABEBAIQL49qRQZTh2BULFMSpEBAEQUI+AVKGiaVrtjwdYFoMv7qpXengEAiAAAiDglEBhaYGWqUwUMk6TIV6oBCBUQsWPzEEABPwRkC1UDg+1siy+Hfnen6dIDQIgAAIgEDIB2qS4c/RKyK4ge2cEIFSccUIsEAABJQnIFiqdo1dYFvtvH1cSAJwCARAAARBwSoA2KcZJvk6RhR0PQiXsGkD+IAACPgjQOL4PG3ZJ7009ZkJl87V6u3j4DQRAAARAQHkC/CbFYs8IVr7oUXUQQiWqNQe/QQAE6Fh6qYfHkxbCnGY0ORAAARCIOgHapLh//E7Uy5IE/yFUklDLKCMIxJNA77MBNtwhdRD/vR8aWC4jM2Px5IhSgQAIgEBiCBwbbmeP9LZHFxNT6AgXFEIlwpUH10Eg4QSC2RSfPr9h46+EtzcUHwRAIAYEup/2M6GClYeRqE0IlUhUE5wEARAwIbD/9nH2vul+2m/ys6BLB+6cCCAXQc7CDAiAAAiAgB2BkZkx9kjHykM7TMr8BqGiTFXAERAAAZcEqq98wt43Uidlff7rNyyXS0+uu3QQ0UEABEAABJQjQO+Osblx5ZyDQ28SgFB5kwf+AgEQiA4Bph+qumqlukwTzFofdkrNCMZBAARAAAQCIECnqWCZSgC0fWYBoeITIJKDAAiERiAYoUL77h8bbg+tqMgYBEAABEBAEAF6qm+/cUiQSZiRRQBCRRZZ2AUBEJBNIBihQnuLHR5qlV0i2AcBEAABEJBNgD9NBbO/ZNP2aR9CxSdAJAcBEAiNQDBCZfDFXZaR1E2QQ4OIjEEABEAgeQQw+ysqdQ6hEpWagp8gAAJ6AsEIlbG5cZZR7Y8H9B7gbxAAARAAgQgSwOyvqFQahEpUagp+ggAI6AkEI1RyxVmWEfay1FcA/gYBEACBaBLA7K+o1BuESlRqCn6CAAjoCQQjVDRNCywjfQnxNwiAAAiAgBwCdJhv5+gVOTnAqgACECoCIMIECIBAKAQC0w+br9WzvHLF2VBKikxBAARAAATEEmh7dJE92HFEvViwYq1BqIjlCWsgAALBEQhMqOy/fZzl1ftsILjiIScQAAEQAAFpBO5NPWYP9g3d2wpLC9LygWFfBCBUfOFDYhAAgRAJBCZUcOZjiLWMrEEABEBAEgEaLR98cVdSFjDrkwCEik+ASA4CIBAagcCESv/4HZYXdigOrbKRMQiAAAiIJnB4qJU923Ger2i0wuxBqAhDCUMgAAIBEwhMqNDGXxu6twVcRmQHAiAAAiAgiQCd5/veDw2SsoBZnwQgVHwCRHIQAIHQCAQmVDRNe++HBpbdvanHoRUYGYMACIAACIgjgE2KxbGUZQlCRRZZ2AUBEJBNYEP3NiYe2h5dlJ0XzRD4duR72XnBPgiAAAiAQDAEsElxMJw95wKh4hkdEoIACIRM4NhwOxMqAczI+nbke5bXgTsnQi42sgcBEAABEBBEAJsUCwIpywyEiiyysAsCICCbQGFpgYmHqq5a2XnRRpY4n142atgHARAAgcAI0LMdmxQHxtxVRhAqrnAhMgiAgFoEAhMqhaUFmmk2UcioRQHegAAIgAAIeCWATYq9kgsiHYRKEJSRBwiAgCQCgQkVTdNqfzzAsvs581BScWAWBEAABEAgYAKf//oNe7Zjk+KAyTvJDkLFCSXEAQEQUJQAjXIE4N+BOyfYy+zSk+sBZIcsQAAEQAAEAiCATYoDgOw5CwgVz+iQEARAIHwCbB3k579+E4ArJ+7/BxMqrQ87A8gOWYAACIAACARAgJ/ZOzY3HkCOyMI5AQgV56wQEwRAINEEup/2M6GCjb8S3Q5QeBAAgdgRoE2KMWCuWt1CqKhWI/AHBEBAUQI/Zx4yobL9xiFFXYRbIAACIAAC7gm0Puxkj/fDQ63uUyOFRAIQKhLhwjQIgECcCOSKs+xNVn3lkziVC2UBARAAgYQTGHxxlz3esQG9ai0BQkW1GoE/IAAC6hKovvIJe5nlirPqegnPQAAEQAAE3BDAMhU3tAKNC6ESKG5kBgIgEGkCNI+5f/xOpAsC50FAEoH+8Tu7bjZhor8kvDArjwA93tF65UH2YBlCxQM0JAEBEEgogWPD7WxEpe3RxYQiQLFBwJbAu1f3VnXVbujeZhsLP4KAcgSwTEW5KnnlEISKmvUCr0AABFQkQBt/7b99XEX/4BMIhE2AjjaaKGTC9gX5g4ALAlim4gJWgFEhVAKEjaxAAAQiTmBkZgwLLiNeh3BfLoG6gWZ2j3SOXpGbE6yDgFACWKYiFKcwYxAqwlDCEAiAQBIIYD19EmoZZfRM4NKT60yo7LrZ5NkIEoJAKARomQpkdij8TTOFUDHFgosgAAIgYE6A3mRYT28OCFe/hZoDAAAgAElEQVSTTYB28a7qqk02CZQ+egTaHl1kMhuTe9WpPAgVdeoCnoAACESAANbTR6CS4GKoBFhXD0Il1EpA5l4I3Jt6zFrvhu5thaUFLyaQRjQBCBXRRGEPBEAg1gSwnj7W1YvCCSAAoSIAIkyERGDztXrWgAdf3A3JBWT7BgEIlTdw4A8QAAEQsCeA9fT2fPCrVAL943eoI0V6YPO1+mPD7ersskWOSUUB4yAgg8DhoVbWgI8Nt8uwD5tuCUCouCWG+CAAAkkngPX0SW8B4ZXfqFJIFWzo3nbgzonO0SsjM2PhOVjKmVwK1w3kDgIeCPQ+G2AN+L0fGjwkRxLhBCBUhCOFQRAAgZgTwHr6mFewwsWjxb4kBkwD717dG+KZpHSUSuiSSeGahGuKEsgVZ6kBj82NK+plktyCUElSbaOsIAACIghgPb0IirAhjEDvs4HaHw8YFcv+28dzxVlh2Tg2tP/2ceaM6eSZXHG29WGnzdBQVVft5mv1l55cd5whIoKASAL0KQqbFIvE6tUWhIpXckgHAiCQVAJYT5/Umle63PemHn878v3+28dpamJVV+17PzQEP6xBk2fevbqXtk5yok94rYVtl5RubbF2jsYtsUmxCvUMoaJCLcAHEACBKBHAevoo1VYifW192Emd/uorn/Q+GwgYw7tX9zIHup/2a5o2+OIuL5/IN/vAez80/Jx5GLDnyA4E6AlffeUTUtrAEhYBCJWwyCNfEACBCBOgXpc6Wy1FmCZcl0Cg99kAtdKqrtqAl6yQUmLn09NcGqZM7Gd2fTvyPS9gAvZcQlXAZPQI0NREbFIceuVBqIReBXAABEAgegSo44WZ9NGrvMR4PDIz9t4PDdTpb33YGVjRJwoZyndsbpzNpbHXJ7xvl55c51UWOos8HIQDIEALEYO8awIoVxSzgFCJYq3BZxAAgZAJ0Afjw0OtIbuC7EHAmkCuOFs30Eya4dhwe2BTWXyK+YlCZvuNQ8zzzdfqA3PbmiV+SRCB/vE7rO3V/nggQcVWsqgQKkpWC5wCARBQm8Dgi7vUhVLbU3iXdAKFpQVeqwS28MO/mJ8oZGhc5fNfv0l6RaL8ARIoLC3QJsWhbJ0XYFlVzwpCRfUagn8gAAIKEuBfY9hrX8EKgks8gcLSAm0ZzAR2AAs/hIj5S0+uM4erumqxsJ6vU4RlE6ABPTQ82ajt7UOo2PPBryAAAiBgTsDnzBZzo7gKAtII6BZ+3Jt6LC2rkmFezPvZc4KGgzAJR2p9wbiOwIE7J5hIZjvX6X7Fn4ERgFAJDDUyAgEQiBUB/zNbYoUDhYkCAX7hRwBnRNA3aT/7I08UMjQJ59uR76OAGT7GgQA94bGePtzqhFAJlz9yBwEQiCoBITNbolp4+B1ZAvemHtNkKtmFELV1Eh3At6F7m5/BGdnlhf04EaCDfQ/cORGnckWuLBAqkasyOAwCIKAEAVEzW5QoDJxIEoHAhAqtMPE5elNYWqB9ltFrTFJTDbOsP2cesjtl+41DYfqR+LwhVBLfBAAABEDAKwEhM1u8Zo50IOCRAM2kkr1MhUZv3r2616OvfySjAcyqrlocXvQHFfy/RAK54iwTKtVXPpGYDUyXIwChUo4QfgcBEAABCwKiZrZYmMdlEJBCgFYJ+xzocOIciSL/U7YOD7WyjuOG7m0jM2NOckccEPBDgFqvHyNI65MAhIpPgEgOAiCQXAKiZrYklyBKHgYBGuio6qqVnb/AUUd+Ath7PzTgCEjZdQf7gU2SBGobAhAqNnDwEwiAAAjYEaAOn/+ZLXbZ4DcQEE0gsB6Y2FHHe1OP6SP34aFW0VRgDwTeIBDYbfJGrvjjTQIQKm/ywF8gAAIg4IYAdZtwerEbbIgbMoHAemDCRx2/HfmenMdZqyE3o7hnTy0t7gVVunwQKkpXD5wDARBQnADNbMHpxYrXFNzjCQTWA5Mx6kg3HVbV83WKsHACgd0mwj2Pk0EIlTjVJsoCAiDwmkD/+J1dN5s6R6+8viQh9Pmv37CXmeyMJPgOk8klEGQPjEYd/a+nZxVGJ/Fh9ldyW3AgJaemi7G7QHibZwKhYs4FV0EABBwSYHpAtU+bdJr1hu5tDgviLRpNRDk23O7NAlKBQPAEfAoVV3f9rptNLDtRTwnaqnjztfrg0SHH5BAQ3nSTg05gSSFUBMKEKRBIIoF3r+6t6qqVrQfckqUlvLL3Neofv8M6YXUDzW6dRHwQCIXARCHjU6i4uuuFD4DwZ63KPgomlApCpooQEN50FSlXtNyAUIlWfcFbEFCOgM8ej6TysI4U801SFsws9fmw8ZdUzjAukADJ+NofD3gz6+qulzEAsv/2ceZDAEfBeEOEVDEgQE3X850SAwihFwFCJfQqgAMgEG0CrrosgRWVvJI9oqJpGs1jDqx0yAgEPBOgWZFVXbW9zwa82aH7y0lyfgBE1Fx/WqMfwA3upIyIE0sCfNPFvo5hVTGESljkkS8IxISAqy5LYGUmrwLox1BegZUOGYGAZwK0/YPnj8Q0H8b5zSVjrj/uO89tAAmdE6Cm61nVO88LMU0JQKiYYsFFEAABpwTU7C6QV877Uk4LbIhHeRl+wQUQUIsArzE8dLxyxVmaNlbVVXvgzgmHxaN8Be7ThfvOIXxE80Og7dFF1tKwXYofjH7SQqj4oYe0IJB0AjQBo/rKJ0qxoE6M58/GzotDeTlPgpggEDwB2qGuqqvW7d4PueJs68PO6iufUGuvG2guLC04LAXN9Re4Txd54tAHRAMBDwToHRfAq8SDe0lIAqGShFpGGUFAFgHq+qi2pJU6MTafjfvH72y+Vr/5Wr3PXVMpL1mUYRcEfBP4OfOQFlM51BiFpYXBF3fbHl08cOcEL1GYznGuUjRN4+f6i1qmgvvOd6OAAUcEqPFjmYojXqIjQaiIJgp7IJAkArT3zrcj36tTbvp8az/va/O1etbX8bm3MjpM6lQ9PDElkCvOUmvffuNQWY3R9ujiez80UMPmA56Ffd1AM7PT9uiiqZNuL5JXbhMiPgi4IlD74wHW2EZmxlwlRGQhBCBUhGCEERBIKAH61BTYaQZOTpqj5cL2QoUmH9tHK1u19KFa1MHbZXNEBBBwRYA+KGzo3mbf2RqZGdt+4xBpAD7gWaIwVy89uc6sbb9xyJXzVpHJN6sIuA4CQgjQ7dM/fkeIQRhxRQBCxRUuRAYBEHiDQPB9BScnzTk8RIWOQPEpVOhTcefolTfo4A8QUIDAifv/Qfep1SxHmuJFqptExee/ftM5euXnzEOfRckVZ8kNn6ZYcrHWhLgEI7EkQF++rG6fWJZanUJBqKhTF/AEBKJHIPi+AuVopQr4eV+kQO5NPT423L7rZhP/pjk81Mqs+VwlSZ+Kd91sil4VwuP4EtANj+h23GI3BU1roTurqqt2Q/c2URO0eLqUBX/Rc1isNc9uJDmhk/HtGPChPetaH3bGoDiRKwKESuSqDA6DgEIEgu8r8F98TV8b9PWLfNMFNE3TdeBsFtw7YZ0rzpJXmP3lhBjiyCZQWFpoe3SRmmVVVy0tTWH6hJas6O4OFtN+ephn58kfzxb4hOQ5fxHhIAk4Gd8O0h9JedGnKJ3Ul5QdzOoIQKjogOBPEAABFwSC7yvwC0uqump1WoU/dZt84wP7bx//duR76jB52KfVlA5mf5liwcVQCAy+uMsvhWfDI/b6ZNfNpmPD7UKmeNkUmd28n//6jU0chz/RR24aNXWYENEEEqBHq0CbCpqiUXq3m3orWJYougShEsVag88goAqBUF5UhaUFEgbkgC7AL1Op6qp99+rez3/9ZvDFXb5/I3B+C31yw+wvVZpmIv2YKGQO3DnB3wvVVz6pG2g2HT+hmyJyqPi72Pmhk5Erpn+HZU/Nopbm31WVLYzMjLGSvvdDg8p+xtU3CJW41izKBQJBELB5UQ2+uKtbE8IcYqeXUMLN1+qdz4Znp87tutn0n//fVXutYjqbi+/fbL9xSOD8Fn72F/baD6LlIQ8DgbZHF2kXPrq/jIHo6hNW4s7RK1QohwfCGFAl5YLsqVk0NC3qbBw1K4b2gVDtXGM1cQn3CkJFOFIYBIEEEaAeg7HMu242sV91OxebftzVxTFa0zStf/wO3w8rLC3QanhygwVMB+hl92+ovNjC0rT6cFEeAd2aK93twP6Muj5h9Pi5nVApZVsUtYSyMb1FoIcev0mJN1OKp5JNUvHih+sehEq4/JE7CESbgM3jm6ag6A6t1y0yYRZ0cYxQ+A5KVVdt2fhGCySQJPVvjg23s7I4HyAyOokrIOCKwKUn16lh083IB+KhTxiTXHGWniq1Px4oe2ylK5KxjEwtQVLpaIw69qvMZZOUVEHxMAuhEo96RClAIBwCNo/ve1OP6VfjgAn9RAH7AtDgybtX93r7esfeqftvH5fUv+l+2s/K4kFE2Zcdv4KAKQF+kJDuI7Ztl6jDT0zzDf4im/PJD6iazu0M3jHFc6RW4c1Pq+m7ZI1WmW++Vk8XYxnwSTKWTAIrFIRKYKiREQjEkID945sO9DX23SkhBazkh25ai58OitS9g2nBZezf2TFsx9EsEr+1l7zDT8JlY5QoonbqC7dcweROT1dv2dHMLuOXJmawsLSQkGUqPkl6449UjACECloCCICAdwK6x/elJ9f5BfT8oIpOJFBCes/RFZuA6eIT796LTkllEW0Y9kDAhAB/ZJDYzSFMMgv2km7LDXombL5Wb/VFI1gHo5EbcfPmLk20M35pIoO0qUm8p7z6JEm4EPBAAELFAzQkAQEQWCFAj2++Y7GhextNr6LXmO4geUpoumSFfqWAwK2E5VUeeSsvC1gGgSQQMC68gUTxUO8+n0j8lyar3Gln9u03DlnFicF1nyRjQCDEIkCohAgfWYNA5AnQ45s/t4Q/2YBeY7oDRiihpmlltUpUvhbzhYp81aIAIBAeAf6ZAIniuR78P5HKWqCte+N98iaNlsd7I2bPLU1qQggVqXhhHARiToBeYxQ4cOcEDadommb1GqP4cQIUy0LFqYJQFhBIFAH/TyTqoOvm7vIY/efCW1MzTMt1MPMw+AqCUAmeOXIEgfgQoFcUBYxlo1cdrcicKGRs4hstROUKlRRnPkalyuAnCMSYgP/HrNXcXR6a/1x4a2qGk7MRs4L8IVQUrBS4BAKRIUCvKAoYXTeuyKRFwLU/HjDGj+6V7TcOMQ4/Zx5GtxTwHARAIB4EbB7LDgtoNXeXT+4/F96avLBurxdXGSVnI2ZXWIKJDKESDGfkAgLxJECvKAoYy8mvyKRoLOBnr2FjRqFfIQGm2zkgdMfgAAiAQAIJ0PPWc9mt5u7yBv3nwlsTGy4sLQy+uNv26CLtlc/v9eI8r+RsxOycSWAxIVQCQ42MQCCGBOgVRQHTQtJxjRQtlochfDvyPSvgseF2Uw64CAIgECSB/vE7u242JfbDAT1v/TAva6RsBD+5e07bOXpFd9AQ85Pf68WVcSxTcYVLYGQIFYEwYQoEEkeAXlEUMEVQWFrQaRXdmnvTVJG72D9+h3FQ/LyXyIGFwyDgjQBtcxzvUz6s4Ng/lq1S6a6XNVI2gs6g7D9zxVkaPyHfWGD/7eP8Xi+uPMEyFVe4BEaGUBEIE6ZAIHEEdK+BeO9QWbZ2aZOAd6/uLRsZEUAABGQTODbczp5RG7q3yc5LQfv0fPYzskRGrApYNoJVQhnXf848JHXKHNt+49Dnv37TOXrF59JBLFORUV9ObEKoOKGEOCAAAuYEaJ8rpd5V5r4GcrX6yicMBW1xFki2yAQEQMCEQGFpIcmPJio79d1bH3aaYLK9REasYtFbIMQzRnLF2e6n/YeHWsmZqq7aw0OtnsdPjIXll6lgX0cjH3lXIFTksYVlEIg/Af5ctqqu2s9//Sb+ZbYtoXGLM9vo+BEEQEAuAeq5euijy/VMvnXSGDSyVNVV65YDGbHyN8TFG/emHrc9ukjbLZKrG7q3yTjwhEoas21grGpWkesQKopUBNwAARCwJMDmLch48Vhm6fUHfoszDKp4pYh0ICCMgJ8+ujAnQjJEHffC0gKdiFLVVWt8NNls3UtGrAoR/OKNXHG29WHnu1f3km984L0fGkZmxqy89XOdSortUvxgdJsWQsUtMcQHARAImgB7IUVlljmt49x/+3jQpJAfCIDAmwTK9tHfjB6rv6j7rmlaYWmBBgR0j6bO0SsspunWvbwRUzpBLt5gEoVm2JJvVV217/3QcGy4vX/8jqmTQi5SSWN2ApgQOPKMQKjIYwvLIAACYghEa/IGP6gipvywAgIg4IOATR/dh9UIJKV+PPOVfzTRNmgThQw9YE237tUZMRabX7whb5mKqUTZ0L1t/+3jnaNX5OXLl5cvKZap8GSkhiFUpOKFcRAAAQEE+Mkbgy/uCrAo2UTZV7vk/GEeBEDgDQJ8H9048emNqDH6w/ggom3iaYCanq61Px4wXXpOMsaGG43VyJigaypRNl+rl5FX2cqnkmKZSllWoiJAqIgiCTsgAAKyCPAfRDdfqzd9m8rK25NdY//AkxkkAgEQEEYggXMyjQ8i3TZo/HCKVc/byQYhtHjj8FCrsArTNKUkCisXlRTLVARWtL0pCBV7PvgVBEBACQIThQzNS1Z/bzFj/0AJiHACBBJMIIGDKqYPIrp46cn1z3/9hv1ps+iC52bVfGjxxuZr9VZxnFwfmxsffHH325HvWx927rrZRM985mRYoyi851RSG2J8fIT9E4BQ8c8QFkAABIIgcOnJdXrFut1hMwj/uDzIT+4agiAAAiETSNqgiumDiKZy0a9VXbVWwymswiimVf3pBmqsopleZ8MmtT8eoFyMARUkCnOeX6YyUciYlggXxRKAUBHLE9ZAAAQkEqB+hofTACS6ZTBNL1rDL7gAAiAQGgF+cMBmxUVo/onO2PRBpDv8qqqrtm6g2T5nUzu6JKR/nHffTWd2UV4soI5EofLSRs+do1foIgLyCECoyGMLyyAAAoIJ6HYaVXaWML1rBZcf5kAABPwRoI8dui16/VlVNLXVg4jXKgfunCi76s/KDl9sV913K4my+Vr9rptNx4bbWx92Dr64q6aYpLH9XTebeAIISyIAoSIJLMyCAAhIIaDTKrtuNim4TaST97oUOjAKAiBgS4AfVFF8BqltORz9KOpBRKMlNrmW7b7fm3rc+2yg9WHn/tvHFVx8YlM03U+54iwBcT58pDOCP50TgFBxzgoxQQAElCBQWFqgz6LsnC9J5xB7Li1eY57RISEIyCZAW/QGM4O0f/zO5mv1VV21m6/VBzxZSJRQYSMw9ruY5IqzlJ0uoJMl/K8Kzuxy0vxcDR85MYg4NgQgVGzg4CcQAAF1CdA2kVVdtdVXPrFfDBpwMfAaCxg4sgMB5wR0o7Kyx1WYSqHeuezseA6UKX9RXpg+0FC+NoGIShRGr+zwkTzICbQMoZLASkeRQSAmBHqfDfDf6oLsAdgTxGvMng9+BYFwCQSpVfgFIazj/vmv3wQzZYh0QjC0jSUlB6q6amt/PLD/9vHWh529zwbUXHzinBI/+0vBucfOCxKJmBAqkagmOAkCIGBOYGRm7L0fGuh16GRhqLkhoVfxGhOKE8ZAQDwBnVaRfcy5LrsN3dtk56hpGj0YxeNLvMXtNw4xvD9nHiYehlwAECpy+cI6CICAbAK54iy/ZGX7jUMqfOLadbOJvcaUmpMmuy5gHwQiRIAXDxu6t8le6qZbXFfVVSt7YAFCRV5rPHDnBMPb/bRfXi6wrGkahAqaAQiAQBwIHBtup7fy5mv1svscZZHREprDQ61lIyMCCIBAKARyxVlaQ/LeDw1lN+r172TvswEaBK4baJaaIz0S/bsNCzoC9IRXZ8qxzsPY/AmhEpuqREFAIOkEOkev0Iu5+songy/uhkhk8MVd5szma/UhuoGsQQAE7An8nHlIq8AP3DlhH1nIr/wWye/90CBv7hA9D4W4DSM8ge6n/QxvMG2GzzppYQiVpNU4ygsCcSbQP36HX14f8GagPNnC0gJ6CTwQhEFAWQLfjnxPd+v+28cDmDv6+a/fUI5VXbVtjy7KgENZyDCecJs/Zx4yvNtvHEo4CtnFh1CRTRj2QQAEAiVwb+oxzeUI5pwEq+Khl2BFBtdBQDUCtOQgsKOZLj25zn9VkTECjEeQvGZG58ZUX/lEXi6wjDUqaAMgAAIxJDBRyNT+eIBe0mHNISYHYogYRQKB2BGgVQeBHc00UcjQ5lGbr9ULX6+CR5DURko6c2xuXGpGCTeOEZWENwAUHwTiSYDfzyescRWa+B76yv541jFKBQKiCeiOZjo23C77wJOJQob6u/ZHv7stK5bJuSXmNj4d7Ctp5p5bf+IaH0IlrjWLcoFA0gmErlVo0+Rjw+1JrwyUHwQiQkB3NNOG7m2y5QqdDyt2w2JaBnPi/n9EhH3E3KSKwzIVqTUHoSIVL4yDAAiESSBcrdL7bIBNvXj36l7hkzrCxIq8QSDWBHRHM1V11W7o3nbi/n/Iu4tp9HX/7eOi0L57dS97/sjbVUyUqxG1wx/si9lf8ioRQkUeW1gGARAIn0C4WoX6CjgULPymAA9AwA2B3mcD/FK3qq7a7TcOSeqP0mKSqq5aNz7axSWbdpHwmz8CmP3lj5+j1BAqjjAhEgiAQHQJhKhVaHnurptN0QUIz0EgsQR0cqX6yie9zwZ80hh8cXfXzaZLT66THRIVECrEJBIBzP4KoJogVAKAjCxAAARCJqDTKseG2+XN4uCLOlHIUBfk3tRj/ieEQQAEokKAvjiw27luoLn1Yefgi7veTlyhgVYqPj0lBAoVmk5GuSAgnABmfwlHajQIoWJkgisgAAIxJKDTKlIPhObx0ZJ6gbPPefsIgwAIBEBg8MVdEhi8rth8rX7/7ePOdYvpZly8QVFlaXt0saqrVuxOYqJ8i5MdzP6SXZsQKrIJwz4IgIAqBApLCyQbWM9A6gJZVux7U4+pF6IKCPgBAiDgnsBEIbPrZhPdzqaBzdfqP//1G5vTGw8PtdLDh1zgTdFFBCJBALO/ZFcThIpswrAPAiCgFgHdgdABDK1QL0QtEPAGBEDAPYF7U48vPbl+bLi9rGihG980wG/GxUdw7xFShEkAs79k04dQkU0Y9kEABJQjMFHI0Hg96yJIPSqBeiHKgYBDIAAC/gh40y11A818tvSIELhGhbePsFQCJFk7R69IzSiZxiFUklnvKDUIgICmG1qRd7Ib9UIAHQRAIN4E7k09PjbcvvlaPd31xsCBOyd0m3nwceLNJ5alY8uBqrpqsRBRRv1CqMigCpsgAALRIGAcWtnQva31YadY76kXItYsrIEACMSDAD0iMKISxQodmRljNVh95ROdBI1icVTzGUJFtRqBPyAAAkETYMca8H2F/bePe9t41NR12idU0mlxppniIgiAQFQI0CMCQiUqVabzk8bQbPZR0CXBnw4JQKg4BIVoIAACMSegkyvv/dAwMjMmpMw0g5k/4k2IZRgBARCIAQGaO4TdhCNam8eG29mnLuED8hEFItBtCBWBMGEKBEAg8gT4k92EnEKtaRrZPDzUGnlAKAAIgAAIgMCbBPrH7zChUvvjgTd/wV9+CUCo+CWI9CAAAjEj0PtsoPrKJzQTzP9ZK6ZHvMUMGooDAiAAAoklUFhaoPl7AqcNJ5YnX3AIFZ4GwiAAAiBQIjAyM/beDw2kVd69urf7ab9nNPw7DMtUPGNEQhAAARBQlsD2G4fYK4M/IUdZbyPkGIRKhCoLroIACARHIFec1R1jv/3GIc9vIDq2pe3RxeDKgJxAAARAAAQCIfD5r98woYLTVMTyhlARyxPWQAAEYkWgf/wOP7RS1VV74M6JiULGbSEvPbnO3mHbbxxymxbxQQAEQAAEFCfw7cj37CF/bLhdcVej5R6ESrTqC96CAAiEQODbke/5VSvsaEhXe4LlirM0gxmzv0KoQmQJAiAAAjIJ0Hr6uoFmmfkkzjaESuKqHAUGARDwQCBXnKUNKNlns6qu2u03Dl16ct3hCV+Y/eUBO5KAAAiAQCQITBQy7NXw7tW9kXA4Kk5CqESlpuAnCIBA+ARGZsZIb5Bcqb7yybHh9rLzwTD7K/z6gwcgAAIgII0ADbyXfR1IcyGGhiFUYlipKBIIgIBUAiMzY4eHWmkqF1MsbD6YzfspV5wlbSPVPRgHARAAARAIngB9xsJ6eoHwIVQEwoQpEACBBBHIFWc7R6/oltpv6N5ms68XhEqC2geKCgIgkDACNGy+62ZTwoousbgQKhLhwjQIgEASCPQ+G6j98QCJEApsvlZ/6cl1ngD9xF9EGARAAARAIAYE+E1TbEbXY1DSIIsAoRIkbeQFAiAQWwKmcmVD9za+wBAqPA2EQQAEQCBmBDD7S3iFQqgIRwqDIAACCSVQWFo4PNRKaoQFeBb0E38RYRAAARAAgXgQwOwv4fUIoSIcKQyCAAiAgNb26GJVV+3nv37Ds6D1967OYOEtIAwCIAACIKAsAWyaIrxqIFSEI4VBEAABEDAnsP/2cTaogqOLzQHhKgiAAAhEnABGzsVWIISKWJ6wBgIgAAKWBHqfDbB32LtX9zo8JtLSFn4AARAAARBQjwCEitg6gVARyxPWQAAEQMCOwLtX97LXWPfTfrt4+A0EQAAEQCCCBCBUxFYahIpYnrAGAiAAAnYEWh92stcYNtq3w4TfQAAEQCCaBCBUxNYbhIpYnrAGAiAAAnYEJgoZvMbsAOE3EAABEIgyATzhxdYehIpYnrAGAv9/e/fv2kQfxwH873Fzc3Nzc9JBCAiCg05dxCEgOOjUKYt0EB66ZGqHBwpF/AFWCA0iikFLKIqIImhAFH2gFQrP8IUPodbGJHfJ3TcvEDnb3I/P63O2eed73zsCBEYI+DU2Asi3CRAgUFsBP+GLbZ2gUqynrREgQGCEQNyk2KOLR+EQaWoAAAdySURBVEj5NgECBGYu8Prb21uv7p5+cDkix2QLMz/wPHcoqOTZV1URIFBZAY8urmxrHBgBAjkJvP729v6n7Va/feXp7emDx7hxJSfJOdYiqMwR364JEFhEAY8uXsSuq5kAgTIFvux97Q567XebrX770vbNs4+Xxs0Vxb7+0NN+yyw9820LKpk3WHkECFRNwKOLq9YRx0OAQC0EPvz3uTvodQe9Vr/d6revv2g1Os3zT64VmzFO3bt44+Wd7qBXC5PsD1JQyb7FCiRAoHIC8Wu1ckfmgAgQIDA/gdff3nYHva3Pz4ajSKPTjJ+ZYy2cfbx05entVr99/9P2629v51eWPU8uIKhMbmdNAgQITCYQv2snW91aBAgQqKZADHqkq7DS/JBGp3n8n+knkJx+cLnRad56dbfVb3cHPbGkmqfHBEclqEyAZhUCBAhMJSCoTMVnZQIEJhJ4/rWfLp3qDnobH7fSqEX6+9L2zSOzxPQRIn7cTb9w9vFSo9NMgyRpnEQmmehEqNNKgkqduuVYCRDIQyDuULyyu5ZHRaogQGBigb2D/ZQfIjwsPVs+Mjb8/sVKBYnpo8j5J9canebSs+UUn+5/2hZFJj6v8lhRUMmjj6ogQKBOArde3U2/0U9snKvTcTtWAgRGCaTbT/1p4OLWq7vDYSM+s5j+LX5FtnDm0dVU4PLOagobicK1WKNOHN8/WkBQOdrFVwkQIFCewN7BfryrKG8vtkyAwMQCkTfW3z9Mb7j/NMpRlzGNExvnhjNSBIlWv73xcSuS1ZsfHyZGsyKBwgUElcJJbZAAAQKjBeKTVFd/jcbyCgJFC7z58SG9Nf/nzb8ph6Q38YXf6zY+kjhmIU0Ej7ngaTq4S56K7rnt1VJAUKll2xw0AQJ1F3D1V9076PhnKRC5IqWLFC3S34cuppr7+EZc+3ToCqhWv72yuxYDF91Bz9jFLE8h+6qpgKBS08Y5bAIE6i3g6q9698/RFyGQHprRHfRiWOPK09vp/f2ZR1ePGYKYwbcib6Q73hrlKKLhtkFgbAFBZWwyKxAgQKAQgXizVcjWbITAfAUODXqs7K7FuMfyzurw7IiTmxfi5J/XQuSQNFUjxjqMcsz3LLJ3AocEBJVDIP5JgACBGQmYpjIj6Bx38/3Xz+GLiNJyPGIvEkKr3x5OCGl57hdHjRtOTt27OFxF3Ls2ldl+tzlMIWnkeL6raXEFBJXF7b3KCRCYr4BpKvP1r87eh1NHZIzhB/BFph33LX6VXx/xI4JHRA5hozonpyMhMF8BQWW+/vZOgMDiCgxPU1l//3BxIbKuPJ4FHtMw4i63c5+GUWyMSY/qS0MfkT1S7tr6/CwGPYSQrM93xREoWEBQKRjU5ggQIPD3AvFJuSc//j1aRV4ZUzLiaeJx+6myb3EbYxHHXBB15GVRKS2IChU5hRwGAQIjBQSVkUReQIAAgbIEVnbX4lPtVr9d1m5sd0yBY+5GVcZE8BiLuPHyTgoY6+8fChVjNs3LCRDIUEBQybCpSiJAoEYCMVMlJZbTDy7feHnHZ97ldXCWISQe5BeXQsXdpbqDXnk12jIBAgTyEBBU8uijKggQqKvA3sH+pe2bMa4SC+efXFt//3DvYL+uhc32uCN+dAe9mI8e12I1Os1iR0JObJyLy65idzET48ve19lWb28ECBDIU0BQybOvqiJAoEYCewf711+0IqIML5zcvNDoNJd3VtMn8Qs10jIye5R0m92YARLDIO5GVaP/TQ6VAIGcBASVnLqpFgIEai/w/Gv/+otWTLIfDi2xHM+qi2dmV3ZKw/CNd9Okixh/SAvxJPI0QFFS9gg6IaT2/0MUQIDAIgkIKovUbbUSIFATge+/frbfbU5z+9rha5PiIqXhhbIjQWSDGSykcadUXcxHb/Xbbolbk/PdYRIgQOBoAUHlaBdfJUCAQBUE0j1wV3bXlndWG53mNNFlBoGh2F2cfbyUssel7ZsxDhNjR91BzwSeKpyijoEAAQLlCQgq5dnaMgECBEoR+P0JHinGpLf1xc4anzJ7/D6ws7yzGqmj1W9vfNyKcY/uoLdQk3BKOTlslAABAhkJCCoZNVMpBAgQIECAAAECBHIREFRy6aQ6CBAgQIAAAQIECGQkIKhk1EylECBAgAABAgQIEMhFQFDJpZPqIECAAAECBAgQIJCRgKCSUTOVQoAAAQIECBAgQCAXAUEll06qgwABAgQIECBAgEBGAoJKRs1UCgECBAgQIECAAIFcBASVXDqpDgIECBAgQIAAAQIZCQgqGTVTKQQIECBAgAABAgRyERBUcumkOggQIECAAAECBAhkJCCoZNRMpRAgQIAAAQIECBDIRUBQyaWT6iBAgAABAgQIECCQkYCgklEzlUKAAAECBAgQIEAgFwFBJZdOqoMAAQIECBAgQIBARgKCSkbNVAoBAgQIECBAgACBXAQElVw6qQ4CBAgQIECAAAECGQkIKhk1UykECBAgQIAAAQIEchEQVHLppDoIECBAgAABAgQIZCQgqGTUTKUQIECAAAECBAgQyEXgf7UGMGQ7W+8MAAAAAElFTkSuQmCC)"
      ],
      "metadata": {
        "id": "36xA5gMN4tg-"
      }
    },
    {
      "cell_type": "code",
      "source": [
        "# 2) 전처리 : 정규화\n",
        "X_train, X_test = X_train/255.0, X_test/255.0\n",
        "# --> 파이썬의 멀티할당\n",
        "# --> array의 경우에는 벡터연산 -->\n",
        "# --> 0~1사이로 재조정!!!!!\n",
        "# 참고) Tree 픽셀의 값을 정규화를 안 해도 상관이 별로 없지만,,,\n",
        "#       DL에서는 중요한 역할 함!!!!!!"
      ],
      "metadata": {
        "id": "ouBL9fwe310h"
      },
      "execution_count": null,
      "outputs": []
    },
    {
      "cell_type": "code",
      "source": [
        "X_train.shape"
      ],
      "metadata": {
        "colab": {
          "base_uri": "https://localhost:8080/"
        },
        "id": "3KnKNZv65Kft",
        "outputId": "c6ec5b15-f115-427f-f33a-bd49bad52321"
      },
      "execution_count": null,
      "outputs": [
        {
          "output_type": "execute_result",
          "data": {
            "text/plain": [
              "(60000, 28, 28)"
            ]
          },
          "metadata": {},
          "execution_count": 41
        }
      ]
    },
    {
      "cell_type": "code",
      "source": [
        "X_train[0].shape"
      ],
      "metadata": {
        "colab": {
          "base_uri": "https://localhost:8080/"
        },
        "id": "q7W9Rm-p5Kij",
        "outputId": "87ac8c46-fe22-42a6-8355-b0b032db9dd5"
      },
      "execution_count": null,
      "outputs": [
        {
          "output_type": "execute_result",
          "data": {
            "text/plain": [
              "(28, 28)"
            ]
          },
          "metadata": {},
          "execution_count": 42
        }
      ]
    },
    {
      "cell_type": "code",
      "source": [
        "## 모델링을 하려고 함 : 스스로 설계 + 남의 모델을 가져다 튜닝!!!\n",
        "# ===> 다른 사람들이나 선행 연구들을 리서치해야 함!!!!!\n",
        "\n",
        "# TF의 keras는 블럭조립 설계방식!!!\n",
        "# 1) 쉽게 layer를 쌓는 적층 방식의 설계 : 장점은 심플\n",
        "#                                         feedback 구조는 사용을 못 함.\n",
        "# 2) 함수처럼 in/out 방식으로 엮어서 묶어서 연결!!!!!\n",
        "#    가독성은 별로,,,\n",
        "#    원하는 구조를 설계가 가능함!!!\n",
        "# ==> 당분간 기본 모형에서는 적층구조로 설계를 하겠습니다!!!!"
      ],
      "metadata": {
        "id": "7z77TJCd5Kle"
      },
      "execution_count": null,
      "outputs": []
    },
    {
      "cell_type": "code",
      "source": [
        "model = tf.keras.models.Sequential(\n",
        "    [\n",
        "        # 쌓는 구조 방향 : 입력부터 ---> 출력 방향으로 순서...\n",
        "        # 1번 층 : 기능은 입력을 받는 역할 input layer\n",
        "        #          + 모양은 1개 샘플에 대해서 어떻게 받을지 중심으로 설계!!!\n",
        "        # +++ input_layer 의 코드화에서는 input_shape이라는 파라미터로 퉁침!!!!!\n",
        "        tf.keras.layers.Flatten( input_shape = (28,28)),\n",
        "        tf.keras.layers.Dense( 128, activation=\"relu\"),\n",
        "        # ouput layer : 모델의 목적이 0~9까지 10종류 분류...\n",
        "        tf.keras.layers.Dense( 10, activation=\"softmax\")\n",
        "    ]\n",
        ")\n",
        "model"
      ],
      "metadata": {
        "colab": {
          "base_uri": "https://localhost:8080/"
        },
        "id": "UiIWY-jk5w8V",
        "outputId": "803314b0-670c-4346-bbc0-127dca4003e0"
      },
      "execution_count": null,
      "outputs": [
        {
          "output_type": "execute_result",
          "data": {
            "text/plain": [
              "<Sequential name=sequential_2, built=True>"
            ]
          },
          "metadata": {},
          "execution_count": 55
        }
      ]
    },
    {
      "cell_type": "markdown",
      "source": [
        "![image.png](data:image/png;base64,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)"
      ],
      "metadata": {
        "id": "Uoj_CnOD7oqE"
      }
    },
    {
      "cell_type": "code",
      "source": [
        "# 위의 설계도에 대한 모델을 어떻게 학습할지에 대한 내용!!!!\n",
        "# ==> compile  설정!!!\n",
        "# 학습 방법 : 어떤 최적화 방법으로 구조에 대한 weights들을 찾을까...\n",
        "#             GD//// adam\n",
        "# loss function : 무엇을 중심으로 최적화를 할지...mse. mae. entropy etc\n",
        "# 모니터링 ; 평가 -=-=> metrics : 여러개 지표에 대한 모니터링도\n",
        "model.compile(\n",
        "    optimizer =\"Adam\",\n",
        "    loss = \"sparse_categorical_crossentropy\",\n",
        "    metrics = [\"accuracy\"] # --> recall은 제외하겠습니다;;;\n",
        ")"
      ],
      "metadata": {
        "id": "Q4R9cnui5w-5"
      },
      "execution_count": null,
      "outputs": []
    },
    {
      "cell_type": "code",
      "source": [
        "# 실제 데이털르 밀어 넣으면서 학습..\n",
        "model.fit( X_train, y_train, epochs=3)"
      ],
      "metadata": {
        "colab": {
          "base_uri": "https://localhost:8080/"
        },
        "id": "ZVwrgT_25xBm",
        "outputId": "64a700e9-31fc-4168-defb-a38afd96514f"
      },
      "execution_count": null,
      "outputs": [
        {
          "output_type": "stream",
          "name": "stdout",
          "text": [
            "Epoch 1/3\n",
            "\u001b[1m1875/1875\u001b[0m \u001b[32m━━━━━━━━━━━━━━━━━━━━\u001b[0m\u001b[37m\u001b[0m \u001b[1m6s\u001b[0m 2ms/step - accuracy: 0.8787 - loss: 0.4327\n",
            "Epoch 2/3\n",
            "\u001b[1m1875/1875\u001b[0m \u001b[32m━━━━━━━━━━━━━━━━━━━━\u001b[0m\u001b[37m\u001b[0m \u001b[1m5s\u001b[0m 3ms/step - accuracy: 0.9645 - loss: 0.1185\n",
            "Epoch 3/3\n",
            "\u001b[1m1875/1875\u001b[0m \u001b[32m━━━━━━━━━━━━━━━━━━━━\u001b[0m\u001b[37m\u001b[0m \u001b[1m3s\u001b[0m 2ms/step - accuracy: 0.9763 - loss: 0.0788\n"
          ]
        },
        {
          "output_type": "execute_result",
          "data": {
            "text/plain": [
              "<keras.src.callbacks.history.History at 0x7c5ac012cc70>"
            ]
          },
          "metadata": {},
          "execution_count": 57
        }
      ]
    },
    {
      "cell_type": "code",
      "source": [
        "# 실제 평가를 진행!!!!!\n",
        "model.evaluate( X_test, y_test)"
      ],
      "metadata": {
        "colab": {
          "base_uri": "https://localhost:8080/"
        },
        "id": "6A6V1u-Q5xES",
        "outputId": "a15ab14b-41d2-4f57-d39f-46fee081cbec"
      },
      "execution_count": null,
      "outputs": [
        {
          "output_type": "stream",
          "name": "stdout",
          "text": [
            "\u001b[1m313/313\u001b[0m \u001b[32m━━━━━━━━━━━━━━━━━━━━\u001b[0m\u001b[37m\u001b[0m \u001b[1m1s\u001b[0m 3ms/step - accuracy: 0.9697 - loss: 0.0924\n"
          ]
        },
        {
          "output_type": "execute_result",
          "data": {
            "text/plain": [
              "[0.08135877549648285, 0.9742000102996826]"
            ]
          },
          "metadata": {},
          "execution_count": 58
        }
      ]
    },
    {
      "cell_type": "code",
      "source": [
        "# ---> mnist 가지고 열심히 해도.....\n",
        "# DL 대충 해도....1개만 HL에 해도,,,성능이 0.97?????\n",
        "# --> kaggele 100%"
      ],
      "metadata": {
        "colab": {
          "base_uri": "https://localhost:8080/"
        },
        "id": "3oAYdgbJ9cvh",
        "outputId": "47ab185f-0c82-488a-b8ea-e8158c4a2fba"
      },
      "execution_count": null,
      "outputs": [
        {
          "output_type": "execute_result",
          "data": {
            "text/plain": [
              "(60000,)"
            ]
          },
          "metadata": {},
          "execution_count": 53
        }
      ]
    },
    {
      "cell_type": "code",
      "source": [],
      "metadata": {
        "colab": {
          "base_uri": "https://localhost:8080/"
        },
        "id": "mvqjDaZ-9eNz",
        "outputId": "383f29ff-23e9-46c3-c356-17a9cdbcd27c"
      },
      "execution_count": null,
      "outputs": [
        {
          "output_type": "execute_result",
          "data": {
            "text/plain": [
              "5"
            ]
          },
          "metadata": {},
          "execution_count": 54
        }
      ]
    },
    {
      "cell_type": "code",
      "source": [
        "# 중요!!!\n",
        "# 1, 코드화 작업을 할 때 : 설계한 그림과 코드를 연결!!!!\n",
        "# 2. 입력에 대한 처리 & 개별 구조에 대한 처리 : 1개 샘플 중심으로 구현!!!!!\n",
        "# ------------------\n",
        "# 뒤에 내용, 조금 더 수식 표현, 코드를 조금 더 자세히....."
      ],
      "metadata": {
        "id": "tvpmXfrS9fn5"
      },
      "execution_count": null,
      "outputs": []
    }
  ]
}