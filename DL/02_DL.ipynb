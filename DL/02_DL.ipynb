{
  "nbformat": 4,
  "nbformat_minor": 0,
  "metadata": {
    "colab": {
      "provenance": [],
      "authorship_tag": "ABX9TyO2EkR1vTVMiPqO11WdwU6D",
      "include_colab_link": true
    },
    "kernelspec": {
      "name": "python3",
      "display_name": "Python 3"
    },
    "language_info": {
      "name": "python"
    }
  },
  "cells": [
    {
      "cell_type": "markdown",
      "metadata": {
        "id": "view-in-github",
        "colab_type": "text"
      },
      "source": [
        "<a href=\"https://colab.research.google.com/github/taesangeom/SK-T-Academy/blob/main/DL/02_DL.ipynb\" target=\"_parent\"><img src=\"https://colab.research.google.com/assets/colab-badge.svg\" alt=\"Open In Colab\"/></a>"
      ]
    },
    {
      "cell_type": "code",
      "execution_count": 1,
      "metadata": {
        "id": "_RpFgGOKjKDC"
      },
      "outputs": [],
      "source": [
        "# GPU를 사용해서 하시면 좋습니다!!!!\n",
        "# 이번 실습은 CPU로 해도,,,조금 느린 정도..\n",
        "# Conv에서 할 때는 무조건 GPU입니다!!!"
      ]
    },
    {
      "cell_type": "code",
      "source": [
        "# MNIST : 손글씨 데이터 셋 0~9까지 10개의 클래스에 대한 분류 데이터셋!!!\n",
        "# --> 1장 데이터  : 28 by 28 2D\n",
        "#     ML : 28*28 = 784 1차원 벡터.....\n",
        "#     TF : 굳이 내가 안풀고,,input_layer(input_shape) : 2D 그대로 처리를 하는!!!\n",
        "#          이미지라는 2D상의 문맥/ 데이터의 특징은 살리지 않음!!\n",
        "# --> 데이터 셋 : 60000, 28, 28 ==> 3D\n",
        "\n",
        "# FashionMNIST : 의상 관련된 이미지 분류 셋!!!!\n",
        "# --> 1장 : 28 by 28 ==> 2D 흑백\n",
        "# --> DL을 10가지 의상 분류 모델!!!!!\n",
        "#     데이터가 특성이 이미지 데이터 : CNN 계열을 사용해야 좋은데,,\n",
        "#                                     일반적인 NN구조로만 해보겠습니다.\n",
        "# ==> 구조 : 일반적인 Dense를 적층하는 구조를 사용해서 설계!!!!!\n",
        "# + CNN구조들로 설계 방식을 변경하겠다!!!!"
      ],
      "metadata": {
        "id": "WCWIBzVnkdx6"
      },
      "execution_count": 2,
      "outputs": []
    },
    {
      "cell_type": "code",
      "source": [
        "28*28"
      ],
      "metadata": {
        "colab": {
          "base_uri": "https://localhost:8080/"
        },
        "id": "NVE2o2vwkd0S",
        "outputId": "f28dc4ff-a668-4de3-b2f8-8b5ccdbf03f3"
      },
      "execution_count": 3,
      "outputs": [
        {
          "output_type": "execute_result",
          "data": {
            "text/plain": [
              "784"
            ]
          },
          "metadata": {},
          "execution_count": 3
        }
      ]
    },
    {
      "cell_type": "code",
      "source": [
        "import tensorflow as tf"
      ],
      "metadata": {
        "id": "Tr9iUz4AkgoR"
      },
      "execution_count": 4,
      "outputs": []
    },
    {
      "cell_type": "code",
      "source": [
        "# 나중에 데이터 핸들링이 필요하다면 pandas , numpy  사"
      ],
      "metadata": {
        "id": "dLqZDWibkspJ"
      },
      "execution_count": 5,
      "outputs": []
    },
    {
      "cell_type": "code",
      "source": [
        "# 데이터 셋 -> 수집\n",
        "fashion_mnist=tf.keras.datasets.fashion_mnist\n",
        "fashion_mnist"
      ],
      "metadata": {
        "colab": {
          "base_uri": "https://localhost:8080/"
        },
        "id": "5-LOobBxky1h",
        "outputId": "491bdf02-c6ef-4ab6-96f2-7b30bbe5f826"
      },
      "execution_count": 6,
      "outputs": [
        {
          "output_type": "execute_result",
          "data": {
            "text/plain": [
              "<module 'keras.api.datasets.fashion_mnist' from '/usr/local/lib/python3.10/dist-packages/keras/api/datasets/fashion_mnist/__init__.py'>"
            ]
          },
          "metadata": {},
          "execution_count": 6
        }
      ]
    },
    {
      "cell_type": "code",
      "source": [
        "(train_X, train_y), (test_X, test_y)=fashion_mnist.load_data()\n",
        "print(train_X.shape, train_y.shape)\n",
        "print(test_X.shape, test_y.shape)"
      ],
      "metadata": {
        "colab": {
          "base_uri": "https://localhost:8080/"
        },
        "id": "nYnEbz5Yk6D5",
        "outputId": "f4705670-3075-4aee-e334-ff11709ed2e8"
      },
      "execution_count": 7,
      "outputs": [
        {
          "output_type": "stream",
          "name": "stdout",
          "text": [
            "Downloading data from https://storage.googleapis.com/tensorflow/tf-keras-datasets/train-labels-idx1-ubyte.gz\n",
            "\u001b[1m29515/29515\u001b[0m \u001b[32m━━━━━━━━━━━━━━━━━━━━\u001b[0m\u001b[37m\u001b[0m \u001b[1m0s\u001b[0m 0us/step\n",
            "Downloading data from https://storage.googleapis.com/tensorflow/tf-keras-datasets/train-images-idx3-ubyte.gz\n",
            "\u001b[1m26421880/26421880\u001b[0m \u001b[32m━━━━━━━━━━━━━━━━━━━━\u001b[0m\u001b[37m\u001b[0m \u001b[1m0s\u001b[0m 0us/step\n",
            "Downloading data from https://storage.googleapis.com/tensorflow/tf-keras-datasets/t10k-labels-idx1-ubyte.gz\n",
            "\u001b[1m5148/5148\u001b[0m \u001b[32m━━━━━━━━━━━━━━━━━━━━\u001b[0m\u001b[37m\u001b[0m \u001b[1m0s\u001b[0m 0us/step\n",
            "Downloading data from https://storage.googleapis.com/tensorflow/tf-keras-datasets/t10k-images-idx3-ubyte.gz\n",
            "\u001b[1m4422102/4422102\u001b[0m \u001b[32m━━━━━━━━━━━━━━━━━━━━\u001b[0m\u001b[37m\u001b[0m \u001b[1m0s\u001b[0m 0us/step\n",
            "(60000, 28, 28) (60000,)\n",
            "(10000, 28, 28) (10000,)\n"
          ]
        }
      ]
    },
    {
      "cell_type": "code",
      "source": [
        "# 2. 전처리 + EDA\n",
        "#이미지에 대한 전처리 : openCV\n",
        "## + resize, crop, 색상변화 etc"
      ],
      "metadata": {
        "id": "GD_qqquvlLQQ"
      },
      "execution_count": 8,
      "outputs": []
    },
    {
      "cell_type": "code",
      "source": [
        "import matplotlib.pyplot as plt"
      ],
      "metadata": {
        "id": "ZRMOOiUyl3Cg"
      },
      "execution_count": 9,
      "outputs": []
    },
    {
      "cell_type": "code",
      "source": [
        "plt.imshow( train_X[0], cmap=\"gray\")\n",
        "plt.colorbar()\n",
        "print(train_y[0])"
      ],
      "metadata": {
        "colab": {
          "base_uri": "https://localhost:8080/",
          "height": 448
        },
        "id": "QmGpT9mll4UA",
        "outputId": "796eeddf-3515-4202-f22d-df889188e441"
      },
      "execution_count": 10,
      "outputs": [
        {
          "output_type": "stream",
          "name": "stdout",
          "text": [
            "9\n"
          ]
        },
        {
          "output_type": "display_data",
          "data": {
            "text/plain": [
              "<Figure size 640x480 with 2 Axes>"
            ],
            "image/png": "[encoded data removed]"
          },
          "metadata": {}
        }
      ]
    },
    {
      "cell_type": "code",
      "source": [
        "# 8비트 흑백 이미지\n",
        "# 값 재조정\n",
        "train_X=train_X/255.0\n",
        "test_X=test_X/255.0"
      ],
      "metadata": {
        "id": "6wednaiGmB0Q"
      },
      "execution_count": 11,
      "outputs": []
    },
    {
      "cell_type": "code",
      "source": [
        "plt.imshow( train_X[0], cmap=\"gray\")\n",
        "plt.colorbar()\n",
        "print(train_y[0])  # 0 에서 1 사이로 핸들링"
      ],
      "metadata": {
        "colab": {
          "base_uri": "https://localhost:8080/",
          "height": 453
        },
        "id": "MFzrMpDxmZHX",
        "outputId": "22b1bb17-fe8a-4a90-8b5d-0a8a464c9d36"
      },
      "execution_count": 12,
      "outputs": [
        {
          "output_type": "stream",
          "name": "stdout",
          "text": [
            "9\n"
          ]
        },
        {
          "output_type": "display_data",
          "data": {
            "text/plain": [
              "<Figure size 640x480 with 2 Axes>"
            ],
            "image/png": "[encoded data removed]"
          },
          "metadata": {}
        }
      ]
    },
    {
      "cell_type": "code",
      "source": [
        "# 3. 분류 모델 설계\n",
        "# 1개 샘플 기준으로 ㅣ train_X[0].shape : 28 28 2D\n",
        "\n",
        "# 설계 방식 : 전통적인 DNN 구조로 설계\n",
        "# DNN 으로 설계 : 입력 데이터를 1D 로 변환 -> Flatten + input_layer : 784개 노드 코드가 input_shape = (28,28)\n",
        "#        2) HL : 1개 층만 쌓아서 설계!!!!\n",
        "#                 node : 128, AF : reulu\n",
        "#        3) OL : 모델의 목적이 10개의 분류!!!!\n",
        "#                 node : 무조건 10개, AF : 확률로 출력 softmax\n",
        "# +++++++ 주의!!!!\n",
        "# 정답 train_y는 라벨인코딩!!! ===> DL 출력에 대한 정답 : 원핫인코딩!!!\n",
        "#              **** 지금 주어진 정답 : 라벨인코딩 1D\n",
        "#              **** 원래 OL에 대한 연결된 정답 : 원핫인코딩 2D"
      ],
      "metadata": {
        "id": "X_JOsPltmhhv"
      },
      "execution_count": 13,
      "outputs": []
    },
    {
      "cell_type": "code",
      "source": [
        " train_y[0]"
      ],
      "metadata": {
        "colab": {
          "base_uri": "https://localhost:8080/"
        },
        "id": "bk8M5re1oN0F",
        "outputId": "db0479fe-4d47-464f-c25d-e9b5633bebe8"
      },
      "execution_count": 14,
      "outputs": [
        {
          "output_type": "execute_result",
          "data": {
            "text/plain": [
              "9"
            ]
          },
          "metadata": {},
          "execution_count": 14
        }
      ]
    },
    {
      "cell_type": "code",
      "source": [
        "model=tf.keras.Sequential(   #설계도\n",
        "    [\n",
        "        tf.keras.layers.Flatten(input_shape=(28,28)),  # 쌓는 순서 입력 -> 출력 , 차원변경 2D -> 1D + input layer ( 입력층 )\n",
        "        tf.keras.layers.Dense(units=128, activation=\"relu\"),  # 은닉층  : 일반적인 Dense -> 128개 노드 , AF : relu\n",
        "        tf.keras.layers.Dense(units=10, activation=\"softmax\")       #출력층 : 모델의 목적 : 10개 분류\n",
        "    ]\n",
        ")\n",
        "model"
      ],
      "metadata": {
        "colab": {
          "base_uri": "https://localhost:8080/"
        },
        "id": "1povhow3oVsk",
        "outputId": "b9919a54-41db-47d8-fb28-9ec1f39434e1"
      },
      "execution_count": 15,
      "outputs": [
        {
          "output_type": "stream",
          "name": "stderr",
          "text": [
            "/usr/local/lib/python3.10/dist-packages/keras/src/layers/reshaping/flatten.py:37: UserWarning: Do not pass an `input_shape`/`input_dim` argument to a layer. When using Sequential models, prefer using an `Input(shape)` object as the first layer in the model instead.\n",
            "  super().__init__(**kwargs)\n"
          ]
        },
        {
          "output_type": "execute_result",
          "data": {
            "text/plain": [
              "<Sequential name=sequential, built=True>"
            ]
          },
          "metadata": {},
          "execution_count": 15
        }
      ]
    },
    {
      "cell_type": "code",
      "source": [
        "model.summary()\n",
        "#  본 그림에 대한 숫자, 왜 이렇게 나오는지 이해."
      ],
      "metadata": {
        "colab": {
          "base_uri": "https://localhost:8080/",
          "height": 225
        },
        "id": "w5a3ldfDpJwU",
        "outputId": "c5b6db63-2863-4dc0-d2fa-c787f2003258"
      },
      "execution_count": 16,
      "outputs": [
        {
          "output_type": "display_data",
          "data": {
            "text/plain": [
              "\u001b[1mModel: \"sequential\"\u001b[0m\n"
            ],
            "text/html": [
              "<pre style=\"white-space:pre;overflow-x:auto;line-height:normal;font-family:Menlo,'DejaVu Sans Mono',consolas,'Courier New',monospace\"><span style=\"font-weight: bold\">Model: \"sequential\"</span>\n",
              "</pre>\n"
            ]
          },
          "metadata": {}
        },
        {
          "output_type": "display_data",
          "data": {
            "text/plain": [
              "┏━━━━━━━━━━━━━━━━━━━━━━━━━━━━━━━━━━━━━━┳━━━━━━━━━━━━━━━━━━━━━━━━━━━━━┳━━━━━━━━━━━━━━━━━┓\n",
              "┃\u001b[1m \u001b[0m\u001b[1mLayer (type)                        \u001b[0m\u001b[1m \u001b[0m┃\u001b[1m \u001b[0m\u001b[1mOutput Shape               \u001b[0m\u001b[1m \u001b[0m┃\u001b[1m \u001b[0m\u001b[1m        Param #\u001b[0m\u001b[1m \u001b[0m┃\n",
              "┡━━━━━━━━━━━━━━━━━━━━━━━━━━━━━━━━━━━━━━╇━━━━━━━━━━━━━━━━━━━━━━━━━━━━━╇━━━━━━━━━━━━━━━━━┩\n",
              "│ flatten (\u001b[38;5;33mFlatten\u001b[0m)                    │ (\u001b[38;5;45mNone\u001b[0m, \u001b[38;5;34m784\u001b[0m)                 │               \u001b[38;5;34m0\u001b[0m │\n",
              "├──────────────────────────────────────┼─────────────────────────────┼─────────────────┤\n",
              "│ dense (\u001b[38;5;33mDense\u001b[0m)                        │ (\u001b[38;5;45mNone\u001b[0m, \u001b[38;5;34m128\u001b[0m)                 │         \u001b[38;5;34m100,480\u001b[0m │\n",
              "├──────────────────────────────────────┼─────────────────────────────┼─────────────────┤\n",
              "│ dense_1 (\u001b[38;5;33mDense\u001b[0m)                      │ (\u001b[38;5;45mNone\u001b[0m, \u001b[38;5;34m10\u001b[0m)                  │           \u001b[38;5;34m1,290\u001b[0m │\n",
              "└──────────────────────────────────────┴─────────────────────────────┴─────────────────┘\n"
            ],
            "text/html": [
              "<pre style=\"white-space:pre;overflow-x:auto;line-height:normal;font-family:Menlo,'DejaVu Sans Mono',consolas,'Courier New',monospace\">┏━━━━━━━━━━━━━━━━━━━━━━━━━━━━━━━━━━━━━━┳━━━━━━━━━━━━━━━━━━━━━━━━━━━━━┳━━━━━━━━━━━━━━━━━┓\n",
              "┃<span style=\"font-weight: bold\"> Layer (type)                         </span>┃<span style=\"font-weight: bold\"> Output Shape                </span>┃<span style=\"font-weight: bold\">         Param # </span>┃\n",
              "┡━━━━━━━━━━━━━━━━━━━━━━━━━━━━━━━━━━━━━━╇━━━━━━━━━━━━━━━━━━━━━━━━━━━━━╇━━━━━━━━━━━━━━━━━┩\n",
              "│ flatten (<span style=\"color: #0087ff; text-decoration-color: #0087ff\">Flatten</span>)                    │ (<span style=\"color: #00d7ff; text-decoration-color: #00d7ff\">None</span>, <span style=\"color: #00af00; text-decoration-color: #00af00\">784</span>)                 │               <span style=\"color: #00af00; text-decoration-color: #00af00\">0</span> │\n",
              "├──────────────────────────────────────┼─────────────────────────────┼─────────────────┤\n",
              "│ dense (<span style=\"color: #0087ff; text-decoration-color: #0087ff\">Dense</span>)                        │ (<span style=\"color: #00d7ff; text-decoration-color: #00d7ff\">None</span>, <span style=\"color: #00af00; text-decoration-color: #00af00\">128</span>)                 │         <span style=\"color: #00af00; text-decoration-color: #00af00\">100,480</span> │\n",
              "├──────────────────────────────────────┼─────────────────────────────┼─────────────────┤\n",
              "│ dense_1 (<span style=\"color: #0087ff; text-decoration-color: #0087ff\">Dense</span>)                      │ (<span style=\"color: #00d7ff; text-decoration-color: #00d7ff\">None</span>, <span style=\"color: #00af00; text-decoration-color: #00af00\">10</span>)                  │           <span style=\"color: #00af00; text-decoration-color: #00af00\">1,290</span> │\n",
              "└──────────────────────────────────────┴─────────────────────────────┴─────────────────┘\n",
              "</pre>\n"
            ]
          },
          "metadata": {}
        },
        {
          "output_type": "display_data",
          "data": {
            "text/plain": [
              "\u001b[1m Total params: \u001b[0m\u001b[38;5;34m101,770\u001b[0m (397.54 KB)\n"
            ],
            "text/html": [
              "<pre style=\"white-space:pre;overflow-x:auto;line-height:normal;font-family:Menlo,'DejaVu Sans Mono',consolas,'Courier New',monospace\"><span style=\"font-weight: bold\"> Total params: </span><span style=\"color: #00af00; text-decoration-color: #00af00\">101,770</span> (397.54 KB)\n",
              "</pre>\n"
            ]
          },
          "metadata": {}
        },
        {
          "output_type": "display_data",
          "data": {
            "text/plain": [
              "\u001b[1m Trainable params: \u001b[0m\u001b[38;5;34m101,770\u001b[0m (397.54 KB)\n"
            ],
            "text/html": [
              "<pre style=\"white-space:pre;overflow-x:auto;line-height:normal;font-family:Menlo,'DejaVu Sans Mono',consolas,'Courier New',monospace\"><span style=\"font-weight: bold\"> Trainable params: </span><span style=\"color: #00af00; text-decoration-color: #00af00\">101,770</span> (397.54 KB)\n",
              "</pre>\n"
            ]
          },
          "metadata": {}
        },
        {
          "output_type": "display_data",
          "data": {
            "text/plain": [
              "\u001b[1m Non-trainable params: \u001b[0m\u001b[38;5;34m0\u001b[0m (0.00 B)\n"
            ],
            "text/html": [
              "<pre style=\"white-space:pre;overflow-x:auto;line-height:normal;font-family:Menlo,'DejaVu Sans Mono',consolas,'Courier New',monospace\"><span style=\"font-weight: bold\"> Non-trainable params: </span><span style=\"color: #00af00; text-decoration-color: #00af00\">0</span> (0.00 B)\n",
              "</pre>\n"
            ]
          },
          "metadata": {}
        }
      ]
    },
    {
      "cell_type": "code",
      "source": [
        "784*128"
      ],
      "metadata": {
        "colab": {
          "base_uri": "https://localhost:8080/"
        },
        "id": "b5RB-JWSpn9S",
        "outputId": "e92e7098-0d0a-485e-9027-61030bc49f0e"
      },
      "execution_count": 17,
      "outputs": [
        {
          "output_type": "execute_result",
          "data": {
            "text/plain": [
              "100352"
            ]
          },
          "metadata": {},
          "execution_count": 17
        }
      ]
    },
    {
      "cell_type": "code",
      "source": [
        "(784+1)*128  # 바이어스 항 까지"
      ],
      "metadata": {
        "colab": {
          "base_uri": "https://localhost:8080/"
        },
        "id": "86zsR1PUpsKi",
        "outputId": "1a8401d2-401e-44c7-86d2-2a1bca2974d6"
      },
      "execution_count": 18,
      "outputs": [
        {
          "output_type": "execute_result",
          "data": {
            "text/plain": [
              "100480"
            ]
          },
          "metadata": {},
          "execution_count": 18
        }
      ]
    },
    {
      "cell_type": "code",
      "source": [
        "(128+1)*10"
      ],
      "metadata": {
        "colab": {
          "base_uri": "https://localhost:8080/"
        },
        "id": "7p8FOuyQqDPi",
        "outputId": "f8b4242b-4d53-4be5-f89d-ddb727b8a26d"
      },
      "execution_count": 19,
      "outputs": [
        {
          "output_type": "execute_result",
          "data": {
            "text/plain": [
              "1290"
            ]
          },
          "metadata": {},
          "execution_count": 19
        }
      ]
    },
    {
      "cell_type": "code",
      "source": [
        "# 이 모델에 대한 10만개의 가중치들을 어떻게 찾고, 학습할까\n",
        "model.compile(\n",
        "    loss=\"categorical_crossentropy\", #손실함수 , 정답은 one hot encoding 으로 해야함\n",
        "    optimizer=\"adam\", # or tf.keras.optimizers.Adam()\n",
        "    metrics=[\"accuracy\"] # 모니터링에 대한 지표\n",
        "\n",
        "    )"
      ],
      "metadata": {
        "id": "64Gl0lkRqYUC"
      },
      "execution_count": 20,
      "outputs": []
    },
    {
      "cell_type": "code",
      "source": [
        "train_y[0]\n",
        "# [0,0,0,0,0,0,0,0,1]  # 10종류 분류시 9의 값에 대한 표현\n",
        "\n",
        "# if 20종류에 대하 9 값 표현 :\n",
        "# [0,0,0,0,0,0,0,0,1,0,0,0,0,0,0,0,0,0,0]"
      ],
      "metadata": {
        "colab": {
          "base_uri": "https://localhost:8080/"
        },
        "id": "-iTRusx0raJC",
        "outputId": "6f4bb0f9-c12e-4496-b479-820346b81fce"
      },
      "execution_count": 21,
      "outputs": [
        {
          "output_type": "execute_result",
          "data": {
            "text/plain": [
              "9"
            ]
          },
          "metadata": {},
          "execution_count": 21
        }
      ]
    },
    {
      "cell_type": "code",
      "source": [
        "tf.keras.utils.to_categorical(train_y[0],num_classes=10)"
      ],
      "metadata": {
        "colab": {
          "base_uri": "https://localhost:8080/"
        },
        "id": "Gq8M7zGXrdlg",
        "outputId": "f1cfd9c7-7bcb-4b43-fd88-5dc4dc1e5644"
      },
      "execution_count": 22,
      "outputs": [
        {
          "output_type": "execute_result",
          "data": {
            "text/plain": [
              "array([0., 0., 0., 0., 0., 0., 0., 0., 0., 1.])"
            ]
          },
          "metadata": {},
          "execution_count": 22
        }
      ]
    },
    {
      "cell_type": "code",
      "source": [
        "tf.keras.utils.to_categorical(train_y[0],num_classes=20)"
      ],
      "metadata": {
        "colab": {
          "base_uri": "https://localhost:8080/"
        },
        "id": "DXnqxb43sDSw",
        "outputId": "9d1b4515-9e9f-4671-be3d-d2adfefe78ca"
      },
      "execution_count": 23,
      "outputs": [
        {
          "output_type": "execute_result",
          "data": {
            "text/plain": [
              "array([0., 0., 0., 0., 0., 0., 0., 0., 0., 1., 0., 0., 0., 0., 0., 0., 0.,\n",
              "       0., 0., 0.])"
            ]
          },
          "metadata": {},
          "execution_count": 23
        }
      ]
    },
    {
      "cell_type": "code",
      "source": [
        "#모델 학습\n",
        "history = model.fit(\n",
        "    train_X, # 문제지\n",
        "    tf.keras.utils.to_categorical(train_y,num_classes=10), # 이렇게 one hot encoding , 정답지  or 손실함수에 sparse 붙이거나 (모양 맞추기)\n",
        "    epochs=100 ,# 많이 돌리면 train  성능은 무조건 올라가지만. 과적합 가능성\n",
        "    batch_size=256 ,# HW spec  GPU의 RAM 과 연관 -> 176/176 이 숫자와 연관\n",
        "    validation_split=0.25 # 옵션\n",
        "\n",
        ")"
      ],
      "metadata": {
        "colab": {
          "base_uri": "https://localhost:8080/"
        },
        "id": "AQmELbzssTO2",
        "outputId": "c3be6bbe-0fb6-4fcb-bea8-8b0599e4686b"
      },
      "execution_count": 24,
      "outputs": [
        {
          "output_type": "stream",
          "name": "stdout",
          "text": [
            "Epoch 1/100\n",
            "\u001b[1m176/176\u001b[0m \u001b[32m━━━━━━━━━━━━━━━━━━━━\u001b[0m\u001b[37m\u001b[0m \u001b[1m4s\u001b[0m 13ms/step - accuracy: 0.6769 - loss: 0.9566 - val_accuracy: 0.8319 - val_loss: 0.4830\n",
            "Epoch 2/100\n",
            "\u001b[1m176/176\u001b[0m \u001b[32m━━━━━━━━━━━━━━━━━━━━\u001b[0m\u001b[37m\u001b[0m \u001b[1m2s\u001b[0m 8ms/step - accuracy: 0.8421 - loss: 0.4622 - val_accuracy: 0.8507 - val_loss: 0.4300\n",
            "Epoch 3/100\n",
            "\u001b[1m176/176\u001b[0m \u001b[32m━━━━━━━━━━━━━━━━━━━━\u001b[0m\u001b[37m\u001b[0m \u001b[1m1s\u001b[0m 7ms/step - accuracy: 0.8567 - loss: 0.4130 - val_accuracy: 0.8532 - val_loss: 0.4127\n",
            "Epoch 4/100\n",
            "\u001b[1m176/176\u001b[0m \u001b[32m━━━━━━━━━━━━━━━━━━━━\u001b[0m\u001b[37m\u001b[0m \u001b[1m3s\u001b[0m 8ms/step - accuracy: 0.8694 - loss: 0.3752 - val_accuracy: 0.8600 - val_loss: 0.4020\n",
            "Epoch 5/100\n",
            "\u001b[1m176/176\u001b[0m \u001b[32m━━━━━━━━━━━━━━━━━━━━\u001b[0m\u001b[37m\u001b[0m \u001b[1m3s\u001b[0m 9ms/step - accuracy: 0.8727 - loss: 0.3596 - val_accuracy: 0.8658 - val_loss: 0.3746\n",
            "Epoch 6/100\n",
            "\u001b[1m176/176\u001b[0m \u001b[32m━━━━━━━━━━━━━━━━━━━━\u001b[0m\u001b[37m\u001b[0m \u001b[1m1s\u001b[0m 8ms/step - accuracy: 0.8761 - loss: 0.3499 - val_accuracy: 0.8661 - val_loss: 0.3753\n",
            "Epoch 7/100\n",
            "\u001b[1m176/176\u001b[0m \u001b[32m━━━━━━━━━━━━━━━━━━━━\u001b[0m\u001b[37m\u001b[0m \u001b[1m3s\u001b[0m 11ms/step - accuracy: 0.8840 - loss: 0.3271 - val_accuracy: 0.8676 - val_loss: 0.3631\n",
            "Epoch 8/100\n",
            "\u001b[1m176/176\u001b[0m \u001b[32m━━━━━━━━━━━━━━━━━━━━\u001b[0m\u001b[37m\u001b[0m \u001b[1m2s\u001b[0m 6ms/step - accuracy: 0.8884 - loss: 0.3142 - val_accuracy: 0.8744 - val_loss: 0.3583\n",
            "Epoch 9/100\n",
            "\u001b[1m176/176\u001b[0m \u001b[32m━━━━━━━━━━━━━━━━━━━━\u001b[0m\u001b[37m\u001b[0m \u001b[1m2s\u001b[0m 9ms/step - accuracy: 0.8903 - loss: 0.3039 - val_accuracy: 0.8725 - val_loss: 0.3540\n",
            "Epoch 10/100\n",
            "\u001b[1m176/176\u001b[0m \u001b[32m━━━━━━━━━━━━━━━━━━━━\u001b[0m\u001b[37m\u001b[0m \u001b[1m2s\u001b[0m 8ms/step - accuracy: 0.8954 - loss: 0.2904 - val_accuracy: 0.8730 - val_loss: 0.3535\n",
            "Epoch 11/100\n",
            "\u001b[1m176/176\u001b[0m \u001b[32m━━━━━━━━━━━━━━━━━━━━\u001b[0m\u001b[37m\u001b[0m \u001b[1m1s\u001b[0m 7ms/step - accuracy: 0.8967 - loss: 0.2839 - val_accuracy: 0.8733 - val_loss: 0.3507\n",
            "Epoch 12/100\n",
            "\u001b[1m176/176\u001b[0m \u001b[32m━━━━━━━━━━━━━━━━━━━━\u001b[0m\u001b[37m\u001b[0m \u001b[1m3s\u001b[0m 8ms/step - accuracy: 0.8997 - loss: 0.2810 - val_accuracy: 0.8833 - val_loss: 0.3254\n",
            "Epoch 13/100\n",
            "\u001b[1m176/176\u001b[0m \u001b[32m━━━━━━━━━━━━━━━━━━━━\u001b[0m\u001b[37m\u001b[0m \u001b[1m2s\u001b[0m 12ms/step - accuracy: 0.9020 - loss: 0.2680 - val_accuracy: 0.8879 - val_loss: 0.3182\n",
            "Epoch 14/100\n",
            "\u001b[1m176/176\u001b[0m \u001b[32m━━━━━━━━━━━━━━━━━━━━\u001b[0m\u001b[37m\u001b[0m \u001b[1m2s\u001b[0m 9ms/step - accuracy: 0.9062 - loss: 0.2610 - val_accuracy: 0.8801 - val_loss: 0.3351\n",
            "Epoch 15/100\n",
            "\u001b[1m176/176\u001b[0m \u001b[32m━━━━━━━━━━━━━━━━━━━━\u001b[0m\u001b[37m\u001b[0m \u001b[1m2s\u001b[0m 7ms/step - accuracy: 0.9077 - loss: 0.2551 - val_accuracy: 0.8765 - val_loss: 0.3415\n",
            "Epoch 16/100\n",
            "\u001b[1m176/176\u001b[0m \u001b[32m━━━━━━━━━━━━━━━━━━━━\u001b[0m\u001b[37m\u001b[0m \u001b[1m1s\u001b[0m 6ms/step - accuracy: 0.9086 - loss: 0.2511 - val_accuracy: 0.8797 - val_loss: 0.3487\n",
            "Epoch 17/100\n",
            "\u001b[1m176/176\u001b[0m \u001b[32m━━━━━━━━━━━━━━━━━━━━\u001b[0m\u001b[37m\u001b[0m \u001b[1m1s\u001b[0m 7ms/step - accuracy: 0.9100 - loss: 0.2459 - val_accuracy: 0.8898 - val_loss: 0.3150\n",
            "Epoch 18/100\n",
            "\u001b[1m176/176\u001b[0m \u001b[32m━━━━━━━━━━━━━━━━━━━━\u001b[0m\u001b[37m\u001b[0m \u001b[1m1s\u001b[0m 6ms/step - accuracy: 0.9173 - loss: 0.2328 - val_accuracy: 0.8854 - val_loss: 0.3259\n",
            "Epoch 19/100\n",
            "\u001b[1m176/176\u001b[0m \u001b[32m━━━━━━━━━━━━━━━━━━━━\u001b[0m\u001b[37m\u001b[0m \u001b[1m1s\u001b[0m 8ms/step - accuracy: 0.9144 - loss: 0.2345 - val_accuracy: 0.8884 - val_loss: 0.3137\n",
            "Epoch 20/100\n",
            "\u001b[1m176/176\u001b[0m \u001b[32m━━━━━━━━━━━━━━━━━━━━\u001b[0m\u001b[37m\u001b[0m \u001b[1m3s\u001b[0m 8ms/step - accuracy: 0.9199 - loss: 0.2224 - val_accuracy: 0.8776 - val_loss: 0.3529\n",
            "Epoch 21/100\n",
            "\u001b[1m176/176\u001b[0m \u001b[32m━━━━━━━━━━━━━━━━━━━━\u001b[0m\u001b[37m\u001b[0m \u001b[1m3s\u001b[0m 10ms/step - accuracy: 0.9224 - loss: 0.2195 - val_accuracy: 0.8806 - val_loss: 0.3372\n",
            "Epoch 22/100\n",
            "\u001b[1m176/176\u001b[0m \u001b[32m━━━━━━━━━━━━━━━━━━━━\u001b[0m\u001b[37m\u001b[0m \u001b[1m1s\u001b[0m 8ms/step - accuracy: 0.9198 - loss: 0.2223 - val_accuracy: 0.8906 - val_loss: 0.3130\n",
            "Epoch 23/100\n",
            "\u001b[1m176/176\u001b[0m \u001b[32m━━━━━━━━━━━━━━━━━━━━\u001b[0m\u001b[37m\u001b[0m \u001b[1m3s\u001b[0m 8ms/step - accuracy: 0.9193 - loss: 0.2189 - val_accuracy: 0.8907 - val_loss: 0.3144\n",
            "Epoch 24/100\n",
            "\u001b[1m176/176\u001b[0m \u001b[32m━━━━━━━━━━━━━━━━━━━━\u001b[0m\u001b[37m\u001b[0m \u001b[1m2s\u001b[0m 8ms/step - accuracy: 0.9233 - loss: 0.2111 - val_accuracy: 0.8896 - val_loss: 0.3120\n",
            "Epoch 25/100\n",
            "\u001b[1m176/176\u001b[0m \u001b[32m━━━━━━━━━━━━━━━━━━━━\u001b[0m\u001b[37m\u001b[0m \u001b[1m1s\u001b[0m 7ms/step - accuracy: 0.9266 - loss: 0.2025 - val_accuracy: 0.8854 - val_loss: 0.3248\n",
            "Epoch 26/100\n",
            "\u001b[1m176/176\u001b[0m \u001b[32m━━━━━━━━━━━━━━━━━━━━\u001b[0m\u001b[37m\u001b[0m \u001b[1m3s\u001b[0m 10ms/step - accuracy: 0.9265 - loss: 0.2045 - val_accuracy: 0.8925 - val_loss: 0.3114\n",
            "Epoch 27/100\n",
            "\u001b[1m176/176\u001b[0m \u001b[32m━━━━━━━━━━━━━━━━━━━━\u001b[0m\u001b[37m\u001b[0m \u001b[1m2s\u001b[0m 11ms/step - accuracy: 0.9288 - loss: 0.1946 - val_accuracy: 0.8867 - val_loss: 0.3367\n",
            "Epoch 28/100\n",
            "\u001b[1m176/176\u001b[0m \u001b[32m━━━━━━━━━━━━━━━━━━━━\u001b[0m\u001b[37m\u001b[0m \u001b[1m2s\u001b[0m 7ms/step - accuracy: 0.9291 - loss: 0.1946 - val_accuracy: 0.8894 - val_loss: 0.3249\n",
            "Epoch 29/100\n",
            "\u001b[1m176/176\u001b[0m \u001b[32m━━━━━━━━━━━━━━━━━━━━\u001b[0m\u001b[37m\u001b[0m \u001b[1m1s\u001b[0m 7ms/step - accuracy: 0.9333 - loss: 0.1872 - val_accuracy: 0.8907 - val_loss: 0.3185\n",
            "Epoch 30/100\n",
            "\u001b[1m176/176\u001b[0m \u001b[32m━━━━━━━━━━━━━━━━━━━━\u001b[0m\u001b[37m\u001b[0m \u001b[1m1s\u001b[0m 6ms/step - accuracy: 0.9360 - loss: 0.1827 - val_accuracy: 0.8915 - val_loss: 0.3170\n",
            "Epoch 31/100\n",
            "\u001b[1m176/176\u001b[0m \u001b[32m━━━━━━━━━━━━━━━━━━━━\u001b[0m\u001b[37m\u001b[0m \u001b[1m2s\u001b[0m 8ms/step - accuracy: 0.9374 - loss: 0.1784 - val_accuracy: 0.8868 - val_loss: 0.3288\n",
            "Epoch 32/100\n",
            "\u001b[1m176/176\u001b[0m \u001b[32m━━━━━━━━━━━━━━━━━━━━\u001b[0m\u001b[37m\u001b[0m \u001b[1m2s\u001b[0m 7ms/step - accuracy: 0.9348 - loss: 0.1800 - val_accuracy: 0.8909 - val_loss: 0.3255\n",
            "Epoch 33/100\n",
            "\u001b[1m176/176\u001b[0m \u001b[32m━━━━━━━━━━━━━━━━━━━━\u001b[0m\u001b[37m\u001b[0m \u001b[1m1s\u001b[0m 7ms/step - accuracy: 0.9355 - loss: 0.1773 - val_accuracy: 0.8879 - val_loss: 0.3326\n",
            "Epoch 34/100\n",
            "\u001b[1m176/176\u001b[0m \u001b[32m━━━━━━━━━━━━━━━━━━━━\u001b[0m\u001b[37m\u001b[0m \u001b[1m1s\u001b[0m 8ms/step - accuracy: 0.9376 - loss: 0.1737 - val_accuracy: 0.8927 - val_loss: 0.3185\n",
            "Epoch 35/100\n",
            "\u001b[1m176/176\u001b[0m \u001b[32m━━━━━━━━━━━━━━━━━━━━\u001b[0m\u001b[37m\u001b[0m \u001b[1m3s\u001b[0m 8ms/step - accuracy: 0.9384 - loss: 0.1704 - val_accuracy: 0.8947 - val_loss: 0.3235\n",
            "Epoch 36/100\n",
            "\u001b[1m176/176\u001b[0m \u001b[32m━━━━━━━━━━━━━━━━━━━━\u001b[0m\u001b[37m\u001b[0m \u001b[1m2s\u001b[0m 8ms/step - accuracy: 0.9387 - loss: 0.1698 - val_accuracy: 0.8917 - val_loss: 0.3279\n",
            "Epoch 37/100\n",
            "\u001b[1m176/176\u001b[0m \u001b[32m━━━━━━━━━━━━━━━━━━━━\u001b[0m\u001b[37m\u001b[0m \u001b[1m1s\u001b[0m 7ms/step - accuracy: 0.9366 - loss: 0.1742 - val_accuracy: 0.8915 - val_loss: 0.3300\n",
            "Epoch 38/100\n",
            "\u001b[1m176/176\u001b[0m \u001b[32m━━━━━━━━━━━━━━━━━━━━\u001b[0m\u001b[37m\u001b[0m \u001b[1m3s\u001b[0m 7ms/step - accuracy: 0.9442 - loss: 0.1587 - val_accuracy: 0.8929 - val_loss: 0.3326\n",
            "Epoch 39/100\n",
            "\u001b[1m176/176\u001b[0m \u001b[32m━━━━━━━━━━━━━━━━━━━━\u001b[0m\u001b[37m\u001b[0m \u001b[1m3s\u001b[0m 8ms/step - accuracy: 0.9453 - loss: 0.1530 - val_accuracy: 0.8924 - val_loss: 0.3279\n",
            "Epoch 40/100\n",
            "\u001b[1m176/176\u001b[0m \u001b[32m━━━━━━━━━━━━━━━━━━━━\u001b[0m\u001b[37m\u001b[0m \u001b[1m3s\u001b[0m 12ms/step - accuracy: 0.9468 - loss: 0.1506 - val_accuracy: 0.8953 - val_loss: 0.3268\n",
            "Epoch 41/100\n",
            "\u001b[1m176/176\u001b[0m \u001b[32m━━━━━━━━━━━━━━━━━━━━\u001b[0m\u001b[37m\u001b[0m \u001b[1m2s\u001b[0m 6ms/step - accuracy: 0.9474 - loss: 0.1482 - val_accuracy: 0.8923 - val_loss: 0.3364\n",
            "Epoch 42/100\n",
            "\u001b[1m176/176\u001b[0m \u001b[32m━━━━━━━━━━━━━━━━━━━━\u001b[0m\u001b[37m\u001b[0m \u001b[1m1s\u001b[0m 7ms/step - accuracy: 0.9496 - loss: 0.1448 - val_accuracy: 0.8928 - val_loss: 0.3299\n",
            "Epoch 43/100\n",
            "\u001b[1m176/176\u001b[0m \u001b[32m━━━━━━━━━━━━━━━━━━━━\u001b[0m\u001b[37m\u001b[0m \u001b[1m1s\u001b[0m 6ms/step - accuracy: 0.9508 - loss: 0.1427 - val_accuracy: 0.8943 - val_loss: 0.3306\n",
            "Epoch 44/100\n",
            "\u001b[1m176/176\u001b[0m \u001b[32m━━━━━━━━━━━━━━━━━━━━\u001b[0m\u001b[37m\u001b[0m \u001b[1m1s\u001b[0m 6ms/step - accuracy: 0.9500 - loss: 0.1429 - val_accuracy: 0.8923 - val_loss: 0.3422\n",
            "Epoch 45/100\n",
            "\u001b[1m176/176\u001b[0m \u001b[32m━━━━━━━━━━━━━━━━━━━━\u001b[0m\u001b[37m\u001b[0m \u001b[1m1s\u001b[0m 6ms/step - accuracy: 0.9498 - loss: 0.1424 - val_accuracy: 0.8896 - val_loss: 0.3418\n",
            "Epoch 46/100\n",
            "\u001b[1m176/176\u001b[0m \u001b[32m━━━━━━━━━━━━━━━━━━━━\u001b[0m\u001b[37m\u001b[0m \u001b[1m2s\u001b[0m 8ms/step - accuracy: 0.9492 - loss: 0.1420 - val_accuracy: 0.8928 - val_loss: 0.3379\n",
            "Epoch 47/100\n",
            "\u001b[1m176/176\u001b[0m \u001b[32m━━━━━━━━━━━━━━━━━━━━\u001b[0m\u001b[37m\u001b[0m \u001b[1m2s\u001b[0m 8ms/step - accuracy: 0.9512 - loss: 0.1399 - val_accuracy: 0.8904 - val_loss: 0.3593\n",
            "Epoch 48/100\n",
            "\u001b[1m176/176\u001b[0m \u001b[32m━━━━━━━━━━━━━━━━━━━━\u001b[0m\u001b[37m\u001b[0m \u001b[1m3s\u001b[0m 9ms/step - accuracy: 0.9510 - loss: 0.1390 - val_accuracy: 0.8937 - val_loss: 0.3390\n",
            "Epoch 49/100\n",
            "\u001b[1m176/176\u001b[0m \u001b[32m━━━━━━━━━━━━━━━━━━━━\u001b[0m\u001b[37m\u001b[0m \u001b[1m1s\u001b[0m 6ms/step - accuracy: 0.9544 - loss: 0.1338 - val_accuracy: 0.8927 - val_loss: 0.3487\n",
            "Epoch 50/100\n",
            "\u001b[1m176/176\u001b[0m \u001b[32m━━━━━━━━━━━━━━━━━━━━\u001b[0m\u001b[37m\u001b[0m \u001b[1m1s\u001b[0m 6ms/step - accuracy: 0.9521 - loss: 0.1349 - val_accuracy: 0.8941 - val_loss: 0.3475\n",
            "Epoch 51/100\n",
            "\u001b[1m176/176\u001b[0m \u001b[32m━━━━━━━━━━━━━━━━━━━━\u001b[0m\u001b[37m\u001b[0m \u001b[1m1s\u001b[0m 6ms/step - accuracy: 0.9582 - loss: 0.1244 - val_accuracy: 0.8896 - val_loss: 0.3545\n",
            "Epoch 52/100\n",
            "\u001b[1m176/176\u001b[0m \u001b[32m━━━━━━━━━━━━━━━━━━━━\u001b[0m\u001b[37m\u001b[0m \u001b[1m1s\u001b[0m 7ms/step - accuracy: 0.9586 - loss: 0.1230 - val_accuracy: 0.8912 - val_loss: 0.3546\n",
            "Epoch 53/100\n",
            "\u001b[1m176/176\u001b[0m \u001b[32m━━━━━━━━━━━━━━━━━━━━\u001b[0m\u001b[37m\u001b[0m \u001b[1m1s\u001b[0m 8ms/step - accuracy: 0.9595 - loss: 0.1165 - val_accuracy: 0.8934 - val_loss: 0.3542\n",
            "Epoch 54/100\n",
            "\u001b[1m176/176\u001b[0m \u001b[32m━━━━━━━━━━━━━━━━━━━━\u001b[0m\u001b[37m\u001b[0m \u001b[1m1s\u001b[0m 6ms/step - accuracy: 0.9585 - loss: 0.1202 - val_accuracy: 0.8922 - val_loss: 0.3575\n",
            "Epoch 55/100\n",
            "\u001b[1m176/176\u001b[0m \u001b[32m━━━━━━━━━━━━━━━━━━━━\u001b[0m\u001b[37m\u001b[0m \u001b[1m1s\u001b[0m 6ms/step - accuracy: 0.9607 - loss: 0.1163 - val_accuracy: 0.8895 - val_loss: 0.3798\n",
            "Epoch 56/100\n",
            "\u001b[1m176/176\u001b[0m \u001b[32m━━━━━━━━━━━━━━━━━━━━\u001b[0m\u001b[37m\u001b[0m \u001b[1m2s\u001b[0m 13ms/step - accuracy: 0.9595 - loss: 0.1176 - val_accuracy: 0.8931 - val_loss: 0.3594\n",
            "Epoch 57/100\n",
            "\u001b[1m176/176\u001b[0m \u001b[32m━━━━━━━━━━━━━━━━━━━━\u001b[0m\u001b[37m\u001b[0m \u001b[1m2s\u001b[0m 11ms/step - accuracy: 0.9594 - loss: 0.1144 - val_accuracy: 0.8912 - val_loss: 0.3687\n",
            "Epoch 58/100\n",
            "\u001b[1m176/176\u001b[0m \u001b[32m━━━━━━━━━━━━━━━━━━━━\u001b[0m\u001b[37m\u001b[0m \u001b[1m1s\u001b[0m 7ms/step - accuracy: 0.9604 - loss: 0.1137 - val_accuracy: 0.8922 - val_loss: 0.3626\n",
            "Epoch 59/100\n",
            "\u001b[1m176/176\u001b[0m \u001b[32m━━━━━━━━━━━━━━━━━━━━\u001b[0m\u001b[37m\u001b[0m \u001b[1m1s\u001b[0m 6ms/step - accuracy: 0.9617 - loss: 0.1088 - val_accuracy: 0.8911 - val_loss: 0.3752\n",
            "Epoch 60/100\n",
            "\u001b[1m176/176\u001b[0m \u001b[32m━━━━━━━━━━━━━━━━━━━━\u001b[0m\u001b[37m\u001b[0m \u001b[1m1s\u001b[0m 7ms/step - accuracy: 0.9629 - loss: 0.1085 - val_accuracy: 0.8900 - val_loss: 0.3655\n",
            "Epoch 61/100\n",
            "\u001b[1m176/176\u001b[0m \u001b[32m━━━━━━━━━━━━━━━━━━━━\u001b[0m\u001b[37m\u001b[0m \u001b[1m3s\u001b[0m 7ms/step - accuracy: 0.9636 - loss: 0.1067 - val_accuracy: 0.8935 - val_loss: 0.3665\n",
            "Epoch 62/100\n",
            "\u001b[1m176/176\u001b[0m \u001b[32m━━━━━━━━━━━━━━━━━━━━\u001b[0m\u001b[37m\u001b[0m \u001b[1m3s\u001b[0m 7ms/step - accuracy: 0.9642 - loss: 0.1031 - val_accuracy: 0.8929 - val_loss: 0.3778\n",
            "Epoch 63/100\n",
            "\u001b[1m176/176\u001b[0m \u001b[32m━━━━━━━━━━━━━━━━━━━━\u001b[0m\u001b[37m\u001b[0m \u001b[1m1s\u001b[0m 6ms/step - accuracy: 0.9660 - loss: 0.0986 - val_accuracy: 0.8913 - val_loss: 0.3770\n",
            "Epoch 64/100\n",
            "\u001b[1m176/176\u001b[0m \u001b[32m━━━━━━━━━━━━━━━━━━━━\u001b[0m\u001b[37m\u001b[0m \u001b[1m2s\u001b[0m 10ms/step - accuracy: 0.9652 - loss: 0.1001 - val_accuracy: 0.8893 - val_loss: 0.3880\n",
            "Epoch 65/100\n",
            "\u001b[1m176/176\u001b[0m \u001b[32m━━━━━━━━━━━━━━━━━━━━\u001b[0m\u001b[37m\u001b[0m \u001b[1m2s\u001b[0m 7ms/step - accuracy: 0.9657 - loss: 0.0991 - val_accuracy: 0.8930 - val_loss: 0.3847\n",
            "Epoch 66/100\n",
            "\u001b[1m176/176\u001b[0m \u001b[32m━━━━━━━━━━━━━━━━━━━━\u001b[0m\u001b[37m\u001b[0m \u001b[1m1s\u001b[0m 6ms/step - accuracy: 0.9687 - loss: 0.0924 - val_accuracy: 0.8902 - val_loss: 0.4002\n",
            "Epoch 67/100\n",
            "\u001b[1m176/176\u001b[0m \u001b[32m━━━━━━━━━━━━━━━━━━━━\u001b[0m\u001b[37m\u001b[0m \u001b[1m1s\u001b[0m 7ms/step - accuracy: 0.9663 - loss: 0.0977 - val_accuracy: 0.8877 - val_loss: 0.3987\n",
            "Epoch 68/100\n",
            "\u001b[1m176/176\u001b[0m \u001b[32m━━━━━━━━━━━━━━━━━━━━\u001b[0m\u001b[37m\u001b[0m \u001b[1m1s\u001b[0m 7ms/step - accuracy: 0.9690 - loss: 0.0901 - val_accuracy: 0.8889 - val_loss: 0.3980\n",
            "Epoch 69/100\n",
            "\u001b[1m176/176\u001b[0m \u001b[32m━━━━━━━━━━━━━━━━━━━━\u001b[0m\u001b[37m\u001b[0m \u001b[1m3s\u001b[0m 7ms/step - accuracy: 0.9699 - loss: 0.0884 - val_accuracy: 0.8891 - val_loss: 0.4045\n",
            "Epoch 70/100\n",
            "\u001b[1m176/176\u001b[0m \u001b[32m━━━━━━━━━━━━━━━━━━━━\u001b[0m\u001b[37m\u001b[0m \u001b[1m1s\u001b[0m 6ms/step - accuracy: 0.9651 - loss: 0.0968 - val_accuracy: 0.8934 - val_loss: 0.3910\n",
            "Epoch 71/100\n",
            "\u001b[1m176/176\u001b[0m \u001b[32m━━━━━━━━━━━━━━━━━━━━\u001b[0m\u001b[37m\u001b[0m \u001b[1m1s\u001b[0m 6ms/step - accuracy: 0.9715 - loss: 0.0841 - val_accuracy: 0.8911 - val_loss: 0.4138\n",
            "Epoch 72/100\n",
            "\u001b[1m176/176\u001b[0m \u001b[32m━━━━━━━━━━━━━━━━━━━━\u001b[0m\u001b[37m\u001b[0m \u001b[1m2s\u001b[0m 10ms/step - accuracy: 0.9687 - loss: 0.0905 - val_accuracy: 0.8927 - val_loss: 0.4062\n",
            "Epoch 73/100\n",
            "\u001b[1m176/176\u001b[0m \u001b[32m━━━━━━━━━━━━━━━━━━━━\u001b[0m\u001b[37m\u001b[0m \u001b[1m2s\u001b[0m 9ms/step - accuracy: 0.9668 - loss: 0.0957 - val_accuracy: 0.8823 - val_loss: 0.4350\n",
            "Epoch 74/100\n",
            "\u001b[1m176/176\u001b[0m \u001b[32m━━━━━━━━━━━━━━━━━━━━\u001b[0m\u001b[37m\u001b[0m \u001b[1m2s\u001b[0m 6ms/step - accuracy: 0.9714 - loss: 0.0854 - val_accuracy: 0.8872 - val_loss: 0.4322\n",
            "Epoch 75/100\n",
            "\u001b[1m176/176\u001b[0m \u001b[32m━━━━━━━━━━━━━━━━━━━━\u001b[0m\u001b[37m\u001b[0m \u001b[1m1s\u001b[0m 7ms/step - accuracy: 0.9702 - loss: 0.0853 - val_accuracy: 0.8891 - val_loss: 0.4273\n",
            "Epoch 76/100\n",
            "\u001b[1m176/176\u001b[0m \u001b[32m━━━━━━━━━━━━━━━━━━━━\u001b[0m\u001b[37m\u001b[0m \u001b[1m1s\u001b[0m 8ms/step - accuracy: 0.9697 - loss: 0.0871 - val_accuracy: 0.8855 - val_loss: 0.4298\n",
            "Epoch 77/100\n",
            "\u001b[1m176/176\u001b[0m \u001b[32m━━━━━━━━━━━━━━━━━━━━\u001b[0m\u001b[37m\u001b[0m \u001b[1m1s\u001b[0m 6ms/step - accuracy: 0.9719 - loss: 0.0841 - val_accuracy: 0.8902 - val_loss: 0.4178\n",
            "Epoch 78/100\n",
            "\u001b[1m176/176\u001b[0m \u001b[32m━━━━━━━━━━━━━━━━━━━━\u001b[0m\u001b[37m\u001b[0m \u001b[1m1s\u001b[0m 6ms/step - accuracy: 0.9722 - loss: 0.0807 - val_accuracy: 0.8919 - val_loss: 0.4231\n",
            "Epoch 79/100\n",
            "\u001b[1m176/176\u001b[0m \u001b[32m━━━━━━━━━━━━━━━━━━━━\u001b[0m\u001b[37m\u001b[0m \u001b[1m1s\u001b[0m 7ms/step - accuracy: 0.9741 - loss: 0.0766 - val_accuracy: 0.8910 - val_loss: 0.4211\n",
            "Epoch 80/100\n",
            "\u001b[1m176/176\u001b[0m \u001b[32m━━━━━━━━━━━━━━━━━━━━\u001b[0m\u001b[37m\u001b[0m \u001b[1m2s\u001b[0m 9ms/step - accuracy: 0.9738 - loss: 0.0773 - val_accuracy: 0.8923 - val_loss: 0.4341\n",
            "Epoch 81/100\n",
            "\u001b[1m176/176\u001b[0m \u001b[32m━━━━━━━━━━━━━━━━━━━━\u001b[0m\u001b[37m\u001b[0m \u001b[1m2s\u001b[0m 8ms/step - accuracy: 0.9730 - loss: 0.0788 - val_accuracy: 0.8879 - val_loss: 0.4458\n",
            "Epoch 82/100\n",
            "\u001b[1m176/176\u001b[0m \u001b[32m━━━━━━━━━━━━━━━━━━━━\u001b[0m\u001b[37m\u001b[0m \u001b[1m1s\u001b[0m 6ms/step - accuracy: 0.9755 - loss: 0.0746 - val_accuracy: 0.8898 - val_loss: 0.4310\n",
            "Epoch 83/100\n",
            "\u001b[1m176/176\u001b[0m \u001b[32m━━━━━━━━━━━━━━━━━━━━\u001b[0m\u001b[37m\u001b[0m \u001b[1m1s\u001b[0m 7ms/step - accuracy: 0.9760 - loss: 0.0731 - val_accuracy: 0.8917 - val_loss: 0.4382\n",
            "Epoch 84/100\n",
            "\u001b[1m176/176\u001b[0m \u001b[32m━━━━━━━━━━━━━━━━━━━━\u001b[0m\u001b[37m\u001b[0m \u001b[1m1s\u001b[0m 7ms/step - accuracy: 0.9744 - loss: 0.0754 - val_accuracy: 0.8902 - val_loss: 0.4425\n",
            "Epoch 85/100\n",
            "\u001b[1m176/176\u001b[0m \u001b[32m━━━━━━━━━━━━━━━━━━━━\u001b[0m\u001b[37m\u001b[0m \u001b[1m1s\u001b[0m 6ms/step - accuracy: 0.9756 - loss: 0.0706 - val_accuracy: 0.8879 - val_loss: 0.4391\n",
            "Epoch 86/100\n",
            "\u001b[1m176/176\u001b[0m \u001b[32m━━━━━━━━━━━━━━━━━━━━\u001b[0m\u001b[37m\u001b[0m \u001b[1m1s\u001b[0m 6ms/step - accuracy: 0.9762 - loss: 0.0717 - val_accuracy: 0.8845 - val_loss: 0.4631\n",
            "Epoch 87/100\n",
            "\u001b[1m176/176\u001b[0m \u001b[32m━━━━━━━━━━━━━━━━━━━━\u001b[0m\u001b[37m\u001b[0m \u001b[1m1s\u001b[0m 6ms/step - accuracy: 0.9780 - loss: 0.0691 - val_accuracy: 0.8887 - val_loss: 0.4603\n",
            "Epoch 88/100\n",
            "\u001b[1m176/176\u001b[0m \u001b[32m━━━━━━━━━━━━━━━━━━━━\u001b[0m\u001b[37m\u001b[0m \u001b[1m1s\u001b[0m 7ms/step - accuracy: 0.9773 - loss: 0.0681 - val_accuracy: 0.8913 - val_loss: 0.4545\n",
            "Epoch 89/100\n",
            "\u001b[1m176/176\u001b[0m \u001b[32m━━━━━━━━━━━━━━━━━━━━\u001b[0m\u001b[37m\u001b[0m \u001b[1m3s\u001b[0m 11ms/step - accuracy: 0.9761 - loss: 0.0714 - val_accuracy: 0.8852 - val_loss: 0.4758\n",
            "Epoch 90/100\n",
            "\u001b[1m176/176\u001b[0m \u001b[32m━━━━━━━━━━━━━━━━━━━━\u001b[0m\u001b[37m\u001b[0m \u001b[1m2s\u001b[0m 7ms/step - accuracy: 0.9778 - loss: 0.0684 - val_accuracy: 0.8897 - val_loss: 0.4655\n",
            "Epoch 91/100\n",
            "\u001b[1m176/176\u001b[0m \u001b[32m━━━━━━━━━━━━━━━━━━━━\u001b[0m\u001b[37m\u001b[0m \u001b[1m1s\u001b[0m 6ms/step - accuracy: 0.9764 - loss: 0.0680 - val_accuracy: 0.8890 - val_loss: 0.4636\n",
            "Epoch 92/100\n",
            "\u001b[1m176/176\u001b[0m \u001b[32m━━━━━━━━━━━━━━━━━━━━\u001b[0m\u001b[37m\u001b[0m \u001b[1m1s\u001b[0m 8ms/step - accuracy: 0.9806 - loss: 0.0612 - val_accuracy: 0.8911 - val_loss: 0.4528\n",
            "Epoch 93/100\n",
            "\u001b[1m176/176\u001b[0m \u001b[32m━━━━━━━━━━━━━━━━━━━━\u001b[0m\u001b[37m\u001b[0m \u001b[1m2s\u001b[0m 7ms/step - accuracy: 0.9806 - loss: 0.0619 - val_accuracy: 0.8817 - val_loss: 0.5043\n",
            "Epoch 94/100\n",
            "\u001b[1m176/176\u001b[0m \u001b[32m━━━━━━━━━━━━━━━━━━━━\u001b[0m\u001b[37m\u001b[0m \u001b[1m1s\u001b[0m 6ms/step - accuracy: 0.9786 - loss: 0.0615 - val_accuracy: 0.8880 - val_loss: 0.4740\n",
            "Epoch 95/100\n",
            "\u001b[1m176/176\u001b[0m \u001b[32m━━━━━━━━━━━━━━━━━━━━\u001b[0m\u001b[37m\u001b[0m \u001b[1m1s\u001b[0m 6ms/step - accuracy: 0.9785 - loss: 0.0649 - val_accuracy: 0.8882 - val_loss: 0.4816\n",
            "Epoch 96/100\n",
            "\u001b[1m176/176\u001b[0m \u001b[32m━━━━━━━━━━━━━━━━━━━━\u001b[0m\u001b[37m\u001b[0m \u001b[1m1s\u001b[0m 7ms/step - accuracy: 0.9802 - loss: 0.0578 - val_accuracy: 0.8887 - val_loss: 0.4729\n",
            "Epoch 97/100\n",
            "\u001b[1m176/176\u001b[0m \u001b[32m━━━━━━━━━━━━━━━━━━━━\u001b[0m\u001b[37m\u001b[0m \u001b[1m3s\u001b[0m 9ms/step - accuracy: 0.9784 - loss: 0.0634 - val_accuracy: 0.8849 - val_loss: 0.4811\n",
            "Epoch 98/100\n",
            "\u001b[1m176/176\u001b[0m \u001b[32m━━━━━━━━━━━━━━━━━━━━\u001b[0m\u001b[37m\u001b[0m \u001b[1m2s\u001b[0m 6ms/step - accuracy: 0.9803 - loss: 0.0606 - val_accuracy: 0.8908 - val_loss: 0.4835\n",
            "Epoch 99/100\n",
            "\u001b[1m176/176\u001b[0m \u001b[32m━━━━━━━━━━━━━━━━━━━━\u001b[0m\u001b[37m\u001b[0m \u001b[1m1s\u001b[0m 7ms/step - accuracy: 0.9788 - loss: 0.0617 - val_accuracy: 0.8902 - val_loss: 0.4777\n",
            "Epoch 100/100\n",
            "\u001b[1m176/176\u001b[0m \u001b[32m━━━━━━━━━━━━━━━━━━━━\u001b[0m\u001b[37m\u001b[0m \u001b[1m2s\u001b[0m 6ms/step - accuracy: 0.9842 - loss: 0.0521 - val_accuracy: 0.8882 - val_loss: 0.4910\n"
          ]
        }
      ]
    },
    {
      "cell_type": "code",
      "source": [
        "# 위의 결과를 그래프로 그려보자!!!\n",
        "plt.subplot(1,2,1) # loss\n",
        "\n",
        "plt.plot(history.history[\"loss\"], \"b-\", label=\"train_loss\")\n",
        "plt.plot(history.history[\"val_loss\"], \"r-\", label=\"val_loss\")\n",
        "plt.xlabel(\"Epoch\")\n",
        "plt.legend()\n",
        "\n",
        "plt.subplot(1,2,2) # metrics : accuracy\n",
        "plt.plot(history.history[\"accuracy\"], \"b-\", label=\"train_accuracy\")\n",
        "plt.plot(history.history[\"val_accuracy\"], \"r-\", label=\"val_accuracy\")\n",
        "plt.xlabel(\"Epoch\")\n",
        "plt.legend()"
      ],
      "metadata": {
        "colab": {
          "base_uri": "https://localhost:8080/",
          "height": 467
        },
        "id": "TtYg5mcQz_sN",
        "outputId": "2b315ab8-4430-460b-bd60-6923d841c03f"
      },
      "execution_count": 25,
      "outputs": [
        {
          "output_type": "execute_result",
          "data": {
            "text/plain": [
              "<matplotlib.legend.Legend at 0x7bd1038ff550>"
            ]
          },
          "metadata": {},
          "execution_count": 25
        },
        {
          "output_type": "display_data",
          "data": {
            "text/plain": [
              "<Figure size 640x480 with 2 Axes>"
            ],
            "image/png": "[encoded data removed]"
          },
          "metadata": {}
        }
      ]
    },
    {
      "cell_type": "code",
      "source": [
        "# 실제 X_test에 대한 평가\n",
        "\n",
        "model.evaluate(test_X, tf.keras.utils.to_categorical(test_y,num_classes=10))"
      ],
      "metadata": {
        "colab": {
          "base_uri": "https://localhost:8080/"
        },
        "id": "6aWXpvqr0Bj0",
        "outputId": "82e4332d-78e7-4583-a902-d86398e9bed5"
      },
      "execution_count": 26,
      "outputs": [
        {
          "output_type": "stream",
          "name": "stdout",
          "text": [
            "\u001b[1m313/313\u001b[0m \u001b[32m━━━━━━━━━━━━━━━━━━━━\u001b[0m\u001b[37m\u001b[0m \u001b[1m0s\u001b[0m 2ms/step - accuracy: 0.8843 - loss: 0.5197\n"
          ]
        },
        {
          "output_type": "execute_result",
          "data": {
            "text/plain": [
              "[0.5301977396011353, 0.8820000290870667]"
            ]
          },
          "metadata": {},
          "execution_count": 26
        }
      ]
    },
    {
      "cell_type": "code",
      "source": [
        "#전체 데이터 셋에 대한 평가가 아니라 특정 데이터에 대한 예측값 뽑기 위해서는\n",
        "y_pred=model.predict(test_X)\n",
        "y_pred"
      ],
      "metadata": {
        "colab": {
          "base_uri": "https://localhost:8080/"
        },
        "id": "4xnUl0Qk0ZJE",
        "outputId": "ca962b73-02fb-47d9-f74e-20625208decc"
      },
      "execution_count": 27,
      "outputs": [
        {
          "output_type": "stream",
          "name": "stdout",
          "text": [
            "\u001b[1m313/313\u001b[0m \u001b[32m━━━━━━━━━━━━━━━━━━━━\u001b[0m\u001b[37m\u001b[0m \u001b[1m1s\u001b[0m 2ms/step\n"
          ]
        },
        {
          "output_type": "execute_result",
          "data": {
            "text/plain": [
              "array([[6.39035570e-18, 1.08288023e-18, 3.81312395e-16, ...,\n",
              "        1.51963479e-06, 1.07063414e-10, 9.99997914e-01],\n",
              "       [2.32012368e-07, 9.56651235e-27, 9.99886334e-01, ...,\n",
              "        1.65982866e-23, 1.04237747e-16, 2.52842165e-20],\n",
              "       [3.23356945e-17, 9.99999940e-01, 1.41835803e-20, ...,\n",
              "        1.63069429e-30, 3.78915136e-22, 1.01092235e-32],\n",
              "       ...,\n",
              "       [7.16203061e-08, 1.08661953e-17, 3.92305632e-11, ...,\n",
              "        3.69325699e-06, 9.99996126e-01, 9.35296345e-18],\n",
              "       [3.81529091e-13, 9.99999940e-01, 3.04839399e-14, ...,\n",
              "        3.01878646e-14, 6.59953169e-12, 5.79750923e-20],\n",
              "       [4.67282429e-14, 2.97511547e-14, 1.72564565e-14, ...,\n",
              "        1.26339010e-08, 5.14617758e-11, 2.46639428e-12]], dtype=float32)"
            ]
          },
          "metadata": {},
          "execution_count": 27
        }
      ]
    },
    {
      "cell_type": "code",
      "source": [
        "y_pred[0]"
      ],
      "metadata": {
        "colab": {
          "base_uri": "https://localhost:8080/"
        },
        "id": "PelkgWnT1AAT",
        "outputId": "3fe456ba-9fa4-4ffa-fab6-07c519f2e0f2"
      },
      "execution_count": 28,
      "outputs": [
        {
          "output_type": "execute_result",
          "data": {
            "text/plain": [
              "array([6.39035570e-18, 1.08288023e-18, 3.81312395e-16, 1.91230542e-15,\n",
              "       7.68630038e-12, 5.08037658e-07, 1.06487105e-13, 1.51963479e-06,\n",
              "       1.07063414e-10, 9.99997914e-01], dtype=float32)"
            ]
          },
          "metadata": {},
          "execution_count": 28
        }
      ]
    },
    {
      "cell_type": "code",
      "source": [
        "y_pred[0].sum()"
      ],
      "metadata": {
        "colab": {
          "base_uri": "https://localhost:8080/"
        },
        "id": "x1sefRKm1DBC",
        "outputId": "9ab1a299-2c30-43e3-8b28-ffe3e98828da"
      },
      "execution_count": 29,
      "outputs": [
        {
          "output_type": "execute_result",
          "data": {
            "text/plain": [
              "0.99999994"
            ]
          },
          "metadata": {},
          "execution_count": 29
        }
      ]
    },
    {
      "cell_type": "code",
      "source": [
        "y_pred[0].argmax()"
      ],
      "metadata": {
        "colab": {
          "base_uri": "https://localhost:8080/"
        },
        "id": "q-qM4jGt1HOS",
        "outputId": "d099dfac-0c08-4628-bb2a-8a7e1d05a43a"
      },
      "execution_count": 30,
      "outputs": [
        {
          "output_type": "execute_result",
          "data": {
            "text/plain": [
              "9"
            ]
          },
          "metadata": {},
          "execution_count": 30
        }
      ]
    },
    {
      "cell_type": "code",
      "source": [
        "# 내일 : 오늘 skip한 디테일한 부분을 내용\n",
        "# + 코드 : 좀 더 deep한 구조\n",
        "# + 테크니컬 : OF피하는 방법 중에서 dropout, 정규화...etc\n",
        "# ==> 모델의 구조를 변경하면서,,,최적의 모델을 찾아가는 것!!!!\n",
        "# + 중간에 모델들을 저장을 하는 callbacks : 모델 svae & load\n",
        "\n",
        "# 내용!!!\n",
        "# 네트워크 구조와 함수적인 관점 + 행렬적인 부분!!!!\n",
        "# 행렬의 표현!!!!!!!! 행렬의 곱\n",
        "# ==> 학습에 대한 부분이 어떻게 되는지..\n",
        "#     deep 경우에 잇어서,,,Loss & parameter 1개 어떻게 연결이 되는지...\n",
        "#     backpropagation & gradient vanishing!!!!\n",
        "#     ==> AF : relu\n",
        "# ==> optimizer : GD ---> adam\n",
        "# + 코드적에서 분류에서 아웃풋 레이어 설계 & loss function & 정답지 표현!!!!!\n",
        "\n",
        "# 꼭 손으로 그려가면서 이해를 해보시면 됩니다!!!!!\n",
        "# 이해가 안 되거나,,"
      ],
      "metadata": {
        "id": "vve6T9k428xo"
      },
      "execution_count": 31,
      "outputs": []
    },
    {
      "cell_type": "code",
      "source": [],
      "metadata": {
        "id": "pkyfOu8KzIit"
      },
      "execution_count": null,
      "outputs": []
    },
    {
      "cell_type": "code",
      "source": [
        "# 위 결과는 대충 0.88 - 0.90 정도 나오는 것 같다.\n",
        "# epoch 더 해봤자 과적합 걸린다'\n",
        "\n",
        "# 일반적인 NN 의 구조에서\n",
        "# 실험 1: 입력 - 은닉1 -출력\n",
        "# 실험 2 : 입력 -은닉 3 - 출력\n",
        "# -> 모델 구조 변경 -> 비선형성을 여러 레이어를 거치며 추구를 하겠다.\n",
        "\n",
        "# DL 같은 경우는 크게 좌우되는 경우가 모델의 구조-> 구조가 제일 중요하다\n",
        "# node 수, 활성함수 종류 , 파리미터 설정 -> 마이너한 부분이다\n",
        "# 선행연구 ㄱㄱ"
      ],
      "metadata": {
        "id": "GixS-xXgzIlU"
      },
      "execution_count": null,
      "outputs": []
    },
    {
      "cell_type": "code",
      "source": [
        "model2=tf.keras.Sequential(   #설계도\n",
        "    [\n",
        "        tf.keras.layers.Flatten(input_shape=(28,28)),  # 쌓는 순서 입력 -> 출력 , 차원변경 2D -> 1D + input layer ( 입력층 )\n",
        "\n",
        "        tf.keras.layers.Dense(units=128, activation=\"relu\"),  # 은닉층  : 일반적인 Dense -> 128개 노드 , AF : relu\n",
        "        tf.keras.layers.Dense(units=64, activation=\"relu\"),\n",
        "        tf.keras.layers.Dense(units=32, activation=\"relu\"), # 은닉층 3개로 수정 , 은닉층 노드 수 128->64->32 줄여나가볼게 (정답없음), 다 병렬로 해봐도 되고 실험임 다\n",
        "\n",
        "        tf.keras.layers.Dense(units=10, activation=\"softmax\")       #출력층 : 모델의 목적 : 10개 분류\n",
        "    ]\n",
        ")\n",
        "model2"
      ],
      "metadata": {
        "colab": {
          "base_uri": "https://localhost:8080/"
        },
        "id": "YXoggK4Kz-Nj",
        "outputId": "39b1d536-0384-4334-fd14-24d3510ad6e1"
      },
      "execution_count": 32,
      "outputs": [
        {
          "output_type": "stream",
          "name": "stderr",
          "text": [
            "/usr/local/lib/python3.10/dist-packages/keras/src/layers/reshaping/flatten.py:37: UserWarning: Do not pass an `input_shape`/`input_dim` argument to a layer. When using Sequential models, prefer using an `Input(shape)` object as the first layer in the model instead.\n",
            "  super().__init__(**kwargs)\n"
          ]
        },
        {
          "output_type": "execute_result",
          "data": {
            "text/plain": [
              "<Sequential name=sequential_1, built=True>"
            ]
          },
          "metadata": {},
          "execution_count": 32
        }
      ]
    },
    {
      "cell_type": "code",
      "source": [
        "model2.summary()"
      ],
      "metadata": {
        "colab": {
          "base_uri": "https://localhost:8080/",
          "height": 289
        },
        "id": "XBKQgKQ10arD",
        "outputId": "298166b9-6845-4335-a113-a368fce44512"
      },
      "execution_count": 33,
      "outputs": [
        {
          "output_type": "display_data",
          "data": {
            "text/plain": [
              "\u001b[1mModel: \"sequential_1\"\u001b[0m\n"
            ],
            "text/html": [
              "<pre style=\"white-space:pre;overflow-x:auto;line-height:normal;font-family:Menlo,'DejaVu Sans Mono',consolas,'Courier New',monospace\"><span style=\"font-weight: bold\">Model: \"sequential_1\"</span>\n",
              "</pre>\n"
            ]
          },
          "metadata": {}
        },
        {
          "output_type": "display_data",
          "data": {
            "text/plain": [
              "┏━━━━━━━━━━━━━━━━━━━━━━━━━━━━━━━━━━━━━━┳━━━━━━━━━━━━━━━━━━━━━━━━━━━━━┳━━━━━━━━━━━━━━━━━┓\n",
              "┃\u001b[1m \u001b[0m\u001b[1mLayer (type)                        \u001b[0m\u001b[1m \u001b[0m┃\u001b[1m \u001b[0m\u001b[1mOutput Shape               \u001b[0m\u001b[1m \u001b[0m┃\u001b[1m \u001b[0m\u001b[1m        Param #\u001b[0m\u001b[1m \u001b[0m┃\n",
              "┡━━━━━━━━━━━━━━━━━━━━━━━━━━━━━━━━━━━━━━╇━━━━━━━━━━━━━━━━━━━━━━━━━━━━━╇━━━━━━━━━━━━━━━━━┩\n",
              "│ flatten_1 (\u001b[38;5;33mFlatten\u001b[0m)                  │ (\u001b[38;5;45mNone\u001b[0m, \u001b[38;5;34m784\u001b[0m)                 │               \u001b[38;5;34m0\u001b[0m │\n",
              "├──────────────────────────────────────┼─────────────────────────────┼─────────────────┤\n",
              "│ dense_2 (\u001b[38;5;33mDense\u001b[0m)                      │ (\u001b[38;5;45mNone\u001b[0m, \u001b[38;5;34m128\u001b[0m)                 │         \u001b[38;5;34m100,480\u001b[0m │\n",
              "├──────────────────────────────────────┼─────────────────────────────┼─────────────────┤\n",
              "│ dense_3 (\u001b[38;5;33mDense\u001b[0m)                      │ (\u001b[38;5;45mNone\u001b[0m, \u001b[38;5;34m64\u001b[0m)                  │           \u001b[38;5;34m8,256\u001b[0m │\n",
              "├──────────────────────────────────────┼─────────────────────────────┼─────────────────┤\n",
              "│ dense_4 (\u001b[38;5;33mDense\u001b[0m)                      │ (\u001b[38;5;45mNone\u001b[0m, \u001b[38;5;34m32\u001b[0m)                  │           \u001b[38;5;34m2,080\u001b[0m │\n",
              "├──────────────────────────────────────┼─────────────────────────────┼─────────────────┤\n",
              "│ dense_5 (\u001b[38;5;33mDense\u001b[0m)                      │ (\u001b[38;5;45mNone\u001b[0m, \u001b[38;5;34m10\u001b[0m)                  │             \u001b[38;5;34m330\u001b[0m │\n",
              "└──────────────────────────────────────┴─────────────────────────────┴─────────────────┘\n"
            ],
            "text/html": [
              "<pre style=\"white-space:pre;overflow-x:auto;line-height:normal;font-family:Menlo,'DejaVu Sans Mono',consolas,'Courier New',monospace\">┏━━━━━━━━━━━━━━━━━━━━━━━━━━━━━━━━━━━━━━┳━━━━━━━━━━━━━━━━━━━━━━━━━━━━━┳━━━━━━━━━━━━━━━━━┓\n",
              "┃<span style=\"font-weight: bold\"> Layer (type)                         </span>┃<span style=\"font-weight: bold\"> Output Shape                </span>┃<span style=\"font-weight: bold\">         Param # </span>┃\n",
              "┡━━━━━━━━━━━━━━━━━━━━━━━━━━━━━━━━━━━━━━╇━━━━━━━━━━━━━━━━━━━━━━━━━━━━━╇━━━━━━━━━━━━━━━━━┩\n",
              "│ flatten_1 (<span style=\"color: #0087ff; text-decoration-color: #0087ff\">Flatten</span>)                  │ (<span style=\"color: #00d7ff; text-decoration-color: #00d7ff\">None</span>, <span style=\"color: #00af00; text-decoration-color: #00af00\">784</span>)                 │               <span style=\"color: #00af00; text-decoration-color: #00af00\">0</span> │\n",
              "├──────────────────────────────────────┼─────────────────────────────┼─────────────────┤\n",
              "│ dense_2 (<span style=\"color: #0087ff; text-decoration-color: #0087ff\">Dense</span>)                      │ (<span style=\"color: #00d7ff; text-decoration-color: #00d7ff\">None</span>, <span style=\"color: #00af00; text-decoration-color: #00af00\">128</span>)                 │         <span style=\"color: #00af00; text-decoration-color: #00af00\">100,480</span> │\n",
              "├──────────────────────────────────────┼─────────────────────────────┼─────────────────┤\n",
              "│ dense_3 (<span style=\"color: #0087ff; text-decoration-color: #0087ff\">Dense</span>)                      │ (<span style=\"color: #00d7ff; text-decoration-color: #00d7ff\">None</span>, <span style=\"color: #00af00; text-decoration-color: #00af00\">64</span>)                  │           <span style=\"color: #00af00; text-decoration-color: #00af00\">8,256</span> │\n",
              "├──────────────────────────────────────┼─────────────────────────────┼─────────────────┤\n",
              "│ dense_4 (<span style=\"color: #0087ff; text-decoration-color: #0087ff\">Dense</span>)                      │ (<span style=\"color: #00d7ff; text-decoration-color: #00d7ff\">None</span>, <span style=\"color: #00af00; text-decoration-color: #00af00\">32</span>)                  │           <span style=\"color: #00af00; text-decoration-color: #00af00\">2,080</span> │\n",
              "├──────────────────────────────────────┼─────────────────────────────┼─────────────────┤\n",
              "│ dense_5 (<span style=\"color: #0087ff; text-decoration-color: #0087ff\">Dense</span>)                      │ (<span style=\"color: #00d7ff; text-decoration-color: #00d7ff\">None</span>, <span style=\"color: #00af00; text-decoration-color: #00af00\">10</span>)                  │             <span style=\"color: #00af00; text-decoration-color: #00af00\">330</span> │\n",
              "└──────────────────────────────────────┴─────────────────────────────┴─────────────────┘\n",
              "</pre>\n"
            ]
          },
          "metadata": {}
        },
        {
          "output_type": "display_data",
          "data": {
            "text/plain": [
              "\u001b[1m Total params: \u001b[0m\u001b[38;5;34m111,146\u001b[0m (434.16 KB)\n"
            ],
            "text/html": [
              "<pre style=\"white-space:pre;overflow-x:auto;line-height:normal;font-family:Menlo,'DejaVu Sans Mono',consolas,'Courier New',monospace\"><span style=\"font-weight: bold\"> Total params: </span><span style=\"color: #00af00; text-decoration-color: #00af00\">111,146</span> (434.16 KB)\n",
              "</pre>\n"
            ]
          },
          "metadata": {}
        },
        {
          "output_type": "display_data",
          "data": {
            "text/plain": [
              "\u001b[1m Trainable params: \u001b[0m\u001b[38;5;34m111,146\u001b[0m (434.16 KB)\n"
            ],
            "text/html": [
              "<pre style=\"white-space:pre;overflow-x:auto;line-height:normal;font-family:Menlo,'DejaVu Sans Mono',consolas,'Courier New',monospace\"><span style=\"font-weight: bold\"> Trainable params: </span><span style=\"color: #00af00; text-decoration-color: #00af00\">111,146</span> (434.16 KB)\n",
              "</pre>\n"
            ]
          },
          "metadata": {}
        },
        {
          "output_type": "display_data",
          "data": {
            "text/plain": [
              "\u001b[1m Non-trainable params: \u001b[0m\u001b[38;5;34m0\u001b[0m (0.00 B)\n"
            ],
            "text/html": [
              "<pre style=\"white-space:pre;overflow-x:auto;line-height:normal;font-family:Menlo,'DejaVu Sans Mono',consolas,'Courier New',monospace\"><span style=\"font-weight: bold\"> Non-trainable params: </span><span style=\"color: #00af00; text-decoration-color: #00af00\">0</span> (0.00 B)\n",
              "</pre>\n"
            ]
          },
          "metadata": {}
        }
      ]
    },
    {
      "cell_type": "code",
      "source": [
        "(128+1)*64"
      ],
      "metadata": {
        "colab": {
          "base_uri": "https://localhost:8080/"
        },
        "id": "KyHcs_Rg0g5r",
        "outputId": "a3e467a1-a05d-4bf8-e1ba-c829ede7eb55"
      },
      "execution_count": 34,
      "outputs": [
        {
          "output_type": "execute_result",
          "data": {
            "text/plain": [
              "8256"
            ]
          },
          "metadata": {},
          "execution_count": 34
        }
      ]
    },
    {
      "cell_type": "code",
      "source": [
        "# 이 모델에 대한 10만개의 가중치들을 어떻게 찾고, 학습할까\n",
        "model2.compile(\n",
        "    loss=\"categorical_crossentropy\", #손실함수 , 정답은 one hot encoding 으로 해야함\n",
        "    optimizer=\"adam\", # or tf.keras.optimizers.Adam()\n",
        "    metrics=[\"accuracy\"] # 모니터링에 대한 지표\n",
        "\n",
        "    )"
      ],
      "metadata": {
        "id": "WGIB4qr20rp0"
      },
      "execution_count": 35,
      "outputs": []
    },
    {
      "cell_type": "code",
      "source": [
        "#모델 학습\n",
        "history2 = model2.fit(\n",
        "    train_X, # 문제지\n",
        "    tf.keras.utils.to_categorical(train_y,num_classes=10), # 이렇게 one hot encoding , 정답지  or 손실함수에 sparse 붙이거나 (모양 맞추기)\n",
        "    epochs=100 ,# 많이 돌리면 train  성능은 무조건 올라가지만. 과적합 가능성\n",
        "    batch_size=256 ,# HW spec  GPU의 RAM 과 연관 -> 176/176 이 숫자와 연관\n",
        "    validation_split=0.25 # 옵션\n",
        "\n",
        ")"
      ],
      "metadata": {
        "colab": {
          "base_uri": "https://localhost:8080/"
        },
        "id": "54CIdA68039d",
        "outputId": "18f13c18-b666-4a55-9e1f-daa81afe9b83"
      },
      "execution_count": 36,
      "outputs": [
        {
          "output_type": "stream",
          "name": "stdout",
          "text": [
            "Epoch 1/100\n",
            "\u001b[1m176/176\u001b[0m \u001b[32m━━━━━━━━━━━━━━━━━━━━\u001b[0m\u001b[37m\u001b[0m \u001b[1m4s\u001b[0m 14ms/step - accuracy: 0.6730 - loss: 1.0286 - val_accuracy: 0.8321 - val_loss: 0.4779\n",
            "Epoch 2/100\n",
            "\u001b[1m176/176\u001b[0m \u001b[32m━━━━━━━━━━━━━━━━━━━━\u001b[0m\u001b[37m\u001b[0m \u001b[1m1s\u001b[0m 8ms/step - accuracy: 0.8374 - loss: 0.4632 - val_accuracy: 0.8480 - val_loss: 0.4257\n",
            "Epoch 3/100\n",
            "\u001b[1m176/176\u001b[0m \u001b[32m━━━━━━━━━━━━━━━━━━━━\u001b[0m\u001b[37m\u001b[0m \u001b[1m3s\u001b[0m 8ms/step - accuracy: 0.8617 - loss: 0.3952 - val_accuracy: 0.8629 - val_loss: 0.3874\n",
            "Epoch 4/100\n",
            "\u001b[1m176/176\u001b[0m \u001b[32m━━━━━━━━━━━━━━━━━━━━\u001b[0m\u001b[37m\u001b[0m \u001b[1m1s\u001b[0m 7ms/step - accuracy: 0.8731 - loss: 0.3595 - val_accuracy: 0.8641 - val_loss: 0.3835\n",
            "Epoch 5/100\n",
            "\u001b[1m176/176\u001b[0m \u001b[32m━━━━━━━━━━━━━━━━━━━━\u001b[0m\u001b[37m\u001b[0m \u001b[1m1s\u001b[0m 7ms/step - accuracy: 0.8756 - loss: 0.3412 - val_accuracy: 0.8720 - val_loss: 0.3527\n",
            "Epoch 6/100\n",
            "\u001b[1m176/176\u001b[0m \u001b[32m━━━━━━━━━━━━━━━━━━━━\u001b[0m\u001b[37m\u001b[0m \u001b[1m3s\u001b[0m 8ms/step - accuracy: 0.8850 - loss: 0.3129 - val_accuracy: 0.8708 - val_loss: 0.3531\n",
            "Epoch 7/100\n",
            "\u001b[1m176/176\u001b[0m \u001b[32m━━━━━━━━━━━━━━━━━━━━\u001b[0m\u001b[37m\u001b[0m \u001b[1m3s\u001b[0m 12ms/step - accuracy: 0.8892 - loss: 0.3047 - val_accuracy: 0.8701 - val_loss: 0.3549\n",
            "Epoch 8/100\n",
            "\u001b[1m176/176\u001b[0m \u001b[32m━━━━━━━━━━━━━━━━━━━━\u001b[0m\u001b[37m\u001b[0m \u001b[1m2s\u001b[0m 11ms/step - accuracy: 0.8946 - loss: 0.2892 - val_accuracy: 0.8789 - val_loss: 0.3363\n",
            "Epoch 9/100\n",
            "\u001b[1m176/176\u001b[0m \u001b[32m━━━━━━━━━━━━━━━━━━━━\u001b[0m\u001b[37m\u001b[0m \u001b[1m3s\u001b[0m 13ms/step - accuracy: 0.9002 - loss: 0.2711 - val_accuracy: 0.8776 - val_loss: 0.3376\n",
            "Epoch 10/100\n",
            "\u001b[1m176/176\u001b[0m \u001b[32m━━━━━━━━━━━━━━━━━━━━\u001b[0m\u001b[37m\u001b[0m \u001b[1m2s\u001b[0m 10ms/step - accuracy: 0.8990 - loss: 0.2678 - val_accuracy: 0.8854 - val_loss: 0.3195\n",
            "Epoch 11/100\n",
            "\u001b[1m176/176\u001b[0m \u001b[32m━━━━━━━━━━━━━━━━━━━━\u001b[0m\u001b[37m\u001b[0m \u001b[1m3s\u001b[0m 12ms/step - accuracy: 0.9046 - loss: 0.2571 - val_accuracy: 0.8842 - val_loss: 0.3296\n",
            "Epoch 12/100\n",
            "\u001b[1m176/176\u001b[0m \u001b[32m━━━━━━━━━━━━━━━━━━━━\u001b[0m\u001b[37m\u001b[0m \u001b[1m3s\u001b[0m 14ms/step - accuracy: 0.9078 - loss: 0.2487 - val_accuracy: 0.8849 - val_loss: 0.3212\n",
            "Epoch 13/100\n",
            "\u001b[1m176/176\u001b[0m \u001b[32m━━━━━━━━━━━━━━━━━━━━\u001b[0m\u001b[37m\u001b[0m \u001b[1m3s\u001b[0m 15ms/step - accuracy: 0.9079 - loss: 0.2483 - val_accuracy: 0.8828 - val_loss: 0.3278\n",
            "Epoch 14/100\n",
            "\u001b[1m176/176\u001b[0m \u001b[32m━━━━━━━━━━━━━━━━━━━━\u001b[0m\u001b[37m\u001b[0m \u001b[1m4s\u001b[0m 8ms/step - accuracy: 0.9127 - loss: 0.2337 - val_accuracy: 0.8853 - val_loss: 0.3168\n",
            "Epoch 15/100\n",
            "\u001b[1m176/176\u001b[0m \u001b[32m━━━━━━━━━━━━━━━━━━━━\u001b[0m\u001b[37m\u001b[0m \u001b[1m3s\u001b[0m 8ms/step - accuracy: 0.9182 - loss: 0.2246 - val_accuracy: 0.8859 - val_loss: 0.3249\n",
            "Epoch 16/100\n",
            "\u001b[1m176/176\u001b[0m \u001b[32m━━━━━━━━━━━━━━━━━━━━\u001b[0m\u001b[37m\u001b[0m \u001b[1m3s\u001b[0m 11ms/step - accuracy: 0.9141 - loss: 0.2265 - val_accuracy: 0.8883 - val_loss: 0.3302\n",
            "Epoch 17/100\n",
            "\u001b[1m176/176\u001b[0m \u001b[32m━━━━━━━━━━━━━━━━━━━━\u001b[0m\u001b[37m\u001b[0m \u001b[1m2s\u001b[0m 12ms/step - accuracy: 0.9193 - loss: 0.2208 - val_accuracy: 0.8851 - val_loss: 0.3348\n",
            "Epoch 18/100\n",
            "\u001b[1m176/176\u001b[0m \u001b[32m━━━━━━━━━━━━━━━━━━━━\u001b[0m\u001b[37m\u001b[0m \u001b[1m1s\u001b[0m 8ms/step - accuracy: 0.9221 - loss: 0.2120 - val_accuracy: 0.8836 - val_loss: 0.3361\n",
            "Epoch 19/100\n",
            "\u001b[1m176/176\u001b[0m \u001b[32m━━━━━━━━━━━━━━━━━━━━\u001b[0m\u001b[37m\u001b[0m \u001b[1m3s\u001b[0m 8ms/step - accuracy: 0.9242 - loss: 0.2052 - val_accuracy: 0.8871 - val_loss: 0.3218\n",
            "Epoch 20/100\n",
            "\u001b[1m176/176\u001b[0m \u001b[32m━━━━━━━━━━━━━━━━━━━━\u001b[0m\u001b[37m\u001b[0m \u001b[1m3s\u001b[0m 8ms/step - accuracy: 0.9267 - loss: 0.1943 - val_accuracy: 0.8871 - val_loss: 0.3301\n",
            "Epoch 21/100\n",
            "\u001b[1m176/176\u001b[0m \u001b[32m━━━━━━━━━━━━━━━━━━━━\u001b[0m\u001b[37m\u001b[0m \u001b[1m2s\u001b[0m 7ms/step - accuracy: 0.9273 - loss: 0.1990 - val_accuracy: 0.8898 - val_loss: 0.3215\n",
            "Epoch 22/100\n",
            "\u001b[1m176/176\u001b[0m \u001b[32m━━━━━━━━━━━━━━━━━━━━\u001b[0m\u001b[37m\u001b[0m \u001b[1m4s\u001b[0m 14ms/step - accuracy: 0.9307 - loss: 0.1879 - val_accuracy: 0.8839 - val_loss: 0.3472\n",
            "Epoch 23/100\n",
            "\u001b[1m176/176\u001b[0m \u001b[32m━━━━━━━━━━━━━━━━━━━━\u001b[0m\u001b[37m\u001b[0m \u001b[1m2s\u001b[0m 12ms/step - accuracy: 0.9303 - loss: 0.1892 - val_accuracy: 0.8869 - val_loss: 0.3377\n",
            "Epoch 24/100\n",
            "\u001b[1m176/176\u001b[0m \u001b[32m━━━━━━━━━━━━━━━━━━━━\u001b[0m\u001b[37m\u001b[0m \u001b[1m2s\u001b[0m 8ms/step - accuracy: 0.9301 - loss: 0.1850 - val_accuracy: 0.8905 - val_loss: 0.3329\n",
            "Epoch 25/100\n",
            "\u001b[1m176/176\u001b[0m \u001b[32m━━━━━━━━━━━━━━━━━━━━\u001b[0m\u001b[37m\u001b[0m \u001b[1m2s\u001b[0m 9ms/step - accuracy: 0.9341 - loss: 0.1786 - val_accuracy: 0.8915 - val_loss: 0.3336\n",
            "Epoch 26/100\n",
            "\u001b[1m176/176\u001b[0m \u001b[32m━━━━━━━━━━━━━━━━━━━━\u001b[0m\u001b[37m\u001b[0m \u001b[1m2s\u001b[0m 8ms/step - accuracy: 0.9380 - loss: 0.1687 - val_accuracy: 0.8929 - val_loss: 0.3286\n",
            "Epoch 27/100\n",
            "\u001b[1m176/176\u001b[0m \u001b[32m━━━━━━━━━━━━━━━━━━━━\u001b[0m\u001b[37m\u001b[0m \u001b[1m3s\u001b[0m 8ms/step - accuracy: 0.9377 - loss: 0.1658 - val_accuracy: 0.8916 - val_loss: 0.3374\n",
            "Epoch 28/100\n",
            "\u001b[1m176/176\u001b[0m \u001b[32m━━━━━━━━━━━━━━━━━━━━\u001b[0m\u001b[37m\u001b[0m \u001b[1m3s\u001b[0m 10ms/step - accuracy: 0.9424 - loss: 0.1570 - val_accuracy: 0.8921 - val_loss: 0.3368\n",
            "Epoch 29/100\n",
            "\u001b[1m176/176\u001b[0m \u001b[32m━━━━━━━━━━━━━━━━━━━━\u001b[0m\u001b[37m\u001b[0m \u001b[1m3s\u001b[0m 12ms/step - accuracy: 0.9411 - loss: 0.1598 - val_accuracy: 0.8895 - val_loss: 0.3597\n",
            "Epoch 30/100\n",
            "\u001b[1m176/176\u001b[0m \u001b[32m━━━━━━━━━━━━━━━━━━━━\u001b[0m\u001b[37m\u001b[0m \u001b[1m2s\u001b[0m 11ms/step - accuracy: 0.9430 - loss: 0.1545 - val_accuracy: 0.8865 - val_loss: 0.3758\n",
            "Epoch 31/100\n",
            "\u001b[1m176/176\u001b[0m \u001b[32m━━━━━━━━━━━━━━━━━━━━\u001b[0m\u001b[37m\u001b[0m \u001b[1m2s\u001b[0m 9ms/step - accuracy: 0.9403 - loss: 0.1573 - val_accuracy: 0.8891 - val_loss: 0.3627\n",
            "Epoch 32/100\n",
            "\u001b[1m176/176\u001b[0m \u001b[32m━━━━━━━━━━━━━━━━━━━━\u001b[0m\u001b[37m\u001b[0m \u001b[1m1s\u001b[0m 8ms/step - accuracy: 0.9488 - loss: 0.1401 - val_accuracy: 0.8877 - val_loss: 0.3684\n",
            "Epoch 33/100\n",
            "\u001b[1m176/176\u001b[0m \u001b[32m━━━━━━━━━━━━━━━━━━━━\u001b[0m\u001b[37m\u001b[0m \u001b[1m3s\u001b[0m 8ms/step - accuracy: 0.9430 - loss: 0.1495 - val_accuracy: 0.8896 - val_loss: 0.3596\n",
            "Epoch 34/100\n",
            "\u001b[1m176/176\u001b[0m \u001b[32m━━━━━━━━━━━━━━━━━━━━\u001b[0m\u001b[37m\u001b[0m \u001b[1m1s\u001b[0m 8ms/step - accuracy: 0.9459 - loss: 0.1459 - val_accuracy: 0.8887 - val_loss: 0.3673\n",
            "Epoch 35/100\n",
            "\u001b[1m176/176\u001b[0m \u001b[32m━━━━━━━━━━━━━━━━━━━━\u001b[0m\u001b[37m\u001b[0m \u001b[1m3s\u001b[0m 11ms/step - accuracy: 0.9448 - loss: 0.1470 - val_accuracy: 0.8966 - val_loss: 0.3493\n",
            "Epoch 36/100\n",
            "\u001b[1m176/176\u001b[0m \u001b[32m━━━━━━━━━━━━━━━━━━━━\u001b[0m\u001b[37m\u001b[0m \u001b[1m2s\u001b[0m 9ms/step - accuracy: 0.9504 - loss: 0.1314 - val_accuracy: 0.8932 - val_loss: 0.3662\n",
            "Epoch 37/100\n",
            "\u001b[1m176/176\u001b[0m \u001b[32m━━━━━━━━━━━━━━━━━━━━\u001b[0m\u001b[37m\u001b[0m \u001b[1m2s\u001b[0m 9ms/step - accuracy: 0.9522 - loss: 0.1294 - val_accuracy: 0.8912 - val_loss: 0.3945\n",
            "Epoch 38/100\n",
            "\u001b[1m176/176\u001b[0m \u001b[32m━━━━━━━━━━━━━━━━━━━━\u001b[0m\u001b[37m\u001b[0m \u001b[1m2s\u001b[0m 7ms/step - accuracy: 0.9532 - loss: 0.1249 - val_accuracy: 0.8943 - val_loss: 0.3666\n",
            "Epoch 39/100\n",
            "\u001b[1m176/176\u001b[0m \u001b[32m━━━━━━━━━━━━━━━━━━━━\u001b[0m\u001b[37m\u001b[0m \u001b[1m1s\u001b[0m 8ms/step - accuracy: 0.9542 - loss: 0.1243 - val_accuracy: 0.8889 - val_loss: 0.4067\n",
            "Epoch 40/100\n",
            "\u001b[1m176/176\u001b[0m \u001b[32m━━━━━━━━━━━━━━━━━━━━\u001b[0m\u001b[37m\u001b[0m \u001b[1m3s\u001b[0m 9ms/step - accuracy: 0.9535 - loss: 0.1206 - val_accuracy: 0.8932 - val_loss: 0.3974\n",
            "Epoch 41/100\n",
            "\u001b[1m176/176\u001b[0m \u001b[32m━━━━━━━━━━━━━━━━━━━━\u001b[0m\u001b[37m\u001b[0m \u001b[1m3s\u001b[0m 12ms/step - accuracy: 0.9567 - loss: 0.1159 - val_accuracy: 0.8846 - val_loss: 0.4271\n",
            "Epoch 42/100\n",
            "\u001b[1m176/176\u001b[0m \u001b[32m━━━━━━━━━━━━━━━━━━━━\u001b[0m\u001b[37m\u001b[0m \u001b[1m2s\u001b[0m 8ms/step - accuracy: 0.9548 - loss: 0.1212 - val_accuracy: 0.8949 - val_loss: 0.4088\n",
            "Epoch 43/100\n",
            "\u001b[1m176/176\u001b[0m \u001b[32m━━━━━━━━━━━━━━━━━━━━\u001b[0m\u001b[37m\u001b[0m \u001b[1m1s\u001b[0m 8ms/step - accuracy: 0.9589 - loss: 0.1125 - val_accuracy: 0.8865 - val_loss: 0.4260\n",
            "Epoch 44/100\n",
            "\u001b[1m176/176\u001b[0m \u001b[32m━━━━━━━━━━━━━━━━━━━━\u001b[0m\u001b[37m\u001b[0m \u001b[1m3s\u001b[0m 9ms/step - accuracy: 0.9590 - loss: 0.1113 - val_accuracy: 0.8879 - val_loss: 0.4229\n",
            "Epoch 45/100\n",
            "\u001b[1m176/176\u001b[0m \u001b[32m━━━━━━━━━━━━━━━━━━━━\u001b[0m\u001b[37m\u001b[0m \u001b[1m1s\u001b[0m 8ms/step - accuracy: 0.9608 - loss: 0.1090 - val_accuracy: 0.8947 - val_loss: 0.4177\n",
            "Epoch 46/100\n",
            "\u001b[1m176/176\u001b[0m \u001b[32m━━━━━━━━━━━━━━━━━━━━\u001b[0m\u001b[37m\u001b[0m \u001b[1m1s\u001b[0m 8ms/step - accuracy: 0.9611 - loss: 0.1060 - val_accuracy: 0.8903 - val_loss: 0.4142\n",
            "Epoch 47/100\n",
            "\u001b[1m176/176\u001b[0m \u001b[32m━━━━━━━━━━━━━━━━━━━━\u001b[0m\u001b[37m\u001b[0m \u001b[1m4s\u001b[0m 14ms/step - accuracy: 0.9644 - loss: 0.0975 - val_accuracy: 0.8881 - val_loss: 0.4144\n",
            "Epoch 48/100\n",
            "\u001b[1m176/176\u001b[0m \u001b[32m━━━━━━━━━━━━━━━━━━━━\u001b[0m\u001b[37m\u001b[0m \u001b[1m1s\u001b[0m 8ms/step - accuracy: 0.9638 - loss: 0.0965 - val_accuracy: 0.8871 - val_loss: 0.4282\n",
            "Epoch 49/100\n",
            "\u001b[1m176/176\u001b[0m \u001b[32m━━━━━━━━━━━━━━━━━━━━\u001b[0m\u001b[37m\u001b[0m \u001b[1m2s\u001b[0m 9ms/step - accuracy: 0.9632 - loss: 0.1006 - val_accuracy: 0.8828 - val_loss: 0.4707\n",
            "Epoch 50/100\n",
            "\u001b[1m176/176\u001b[0m \u001b[32m━━━━━━━━━━━━━━━━━━━━\u001b[0m\u001b[37m\u001b[0m \u001b[1m2s\u001b[0m 8ms/step - accuracy: 0.9628 - loss: 0.0990 - val_accuracy: 0.8899 - val_loss: 0.4525\n",
            "Epoch 51/100\n",
            "\u001b[1m176/176\u001b[0m \u001b[32m━━━━━━━━━━━━━━━━━━━━\u001b[0m\u001b[37m\u001b[0m \u001b[1m2s\u001b[0m 9ms/step - accuracy: 0.9673 - loss: 0.0906 - val_accuracy: 0.8877 - val_loss: 0.4561\n",
            "Epoch 52/100\n",
            "\u001b[1m176/176\u001b[0m \u001b[32m━━━━━━━━━━━━━━━━━━━━\u001b[0m\u001b[37m\u001b[0m \u001b[1m2s\u001b[0m 8ms/step - accuracy: 0.9658 - loss: 0.0921 - val_accuracy: 0.8903 - val_loss: 0.4473\n",
            "Epoch 53/100\n",
            "\u001b[1m176/176\u001b[0m \u001b[32m━━━━━━━━━━━━━━━━━━━━\u001b[0m\u001b[37m\u001b[0m \u001b[1m3s\u001b[0m 13ms/step - accuracy: 0.9685 - loss: 0.0860 - val_accuracy: 0.8948 - val_loss: 0.4654\n",
            "Epoch 54/100\n",
            "\u001b[1m176/176\u001b[0m \u001b[32m━━━━━━━━━━━━━━━━━━━━\u001b[0m\u001b[37m\u001b[0m \u001b[1m2s\u001b[0m 9ms/step - accuracy: 0.9674 - loss: 0.0858 - val_accuracy: 0.8814 - val_loss: 0.4713\n",
            "Epoch 55/100\n",
            "\u001b[1m176/176\u001b[0m \u001b[32m━━━━━━━━━━━━━━━━━━━━\u001b[0m\u001b[37m\u001b[0m \u001b[1m2s\u001b[0m 8ms/step - accuracy: 0.9636 - loss: 0.0972 - val_accuracy: 0.8864 - val_loss: 0.4843\n",
            "Epoch 56/100\n",
            "\u001b[1m176/176\u001b[0m \u001b[32m━━━━━━━━━━━━━━━━━━━━\u001b[0m\u001b[37m\u001b[0m \u001b[1m3s\u001b[0m 8ms/step - accuracy: 0.9695 - loss: 0.0839 - val_accuracy: 0.8902 - val_loss: 0.4837\n",
            "Epoch 57/100\n",
            "\u001b[1m176/176\u001b[0m \u001b[32m━━━━━━━━━━━━━━━━━━━━\u001b[0m\u001b[37m\u001b[0m \u001b[1m2s\u001b[0m 9ms/step - accuracy: 0.9701 - loss: 0.0803 - val_accuracy: 0.8897 - val_loss: 0.4633\n",
            "Epoch 58/100\n",
            "\u001b[1m176/176\u001b[0m \u001b[32m━━━━━━━━━━━━━━━━━━━━\u001b[0m\u001b[37m\u001b[0m \u001b[1m3s\u001b[0m 11ms/step - accuracy: 0.9708 - loss: 0.0800 - val_accuracy: 0.8921 - val_loss: 0.4835\n",
            "Epoch 59/100\n",
            "\u001b[1m176/176\u001b[0m \u001b[32m━━━━━━━━━━━━━━━━━━━━\u001b[0m\u001b[37m\u001b[0m \u001b[1m3s\u001b[0m 14ms/step - accuracy: 0.9731 - loss: 0.0717 - val_accuracy: 0.8856 - val_loss: 0.5148\n",
            "Epoch 60/100\n",
            "\u001b[1m176/176\u001b[0m \u001b[32m━━━━━━━━━━━━━━━━━━━━\u001b[0m\u001b[37m\u001b[0m \u001b[1m3s\u001b[0m 14ms/step - accuracy: 0.9702 - loss: 0.0754 - val_accuracy: 0.8894 - val_loss: 0.4966\n",
            "Epoch 61/100\n",
            "\u001b[1m176/176\u001b[0m \u001b[32m━━━━━━━━━━━━━━━━━━━━\u001b[0m\u001b[37m\u001b[0m \u001b[1m5s\u001b[0m 15ms/step - accuracy: 0.9742 - loss: 0.0726 - val_accuracy: 0.8825 - val_loss: 0.5021\n",
            "Epoch 62/100\n",
            "\u001b[1m176/176\u001b[0m \u001b[32m━━━━━━━━━━━━━━━━━━━━\u001b[0m\u001b[37m\u001b[0m \u001b[1m6s\u001b[0m 17ms/step - accuracy: 0.9719 - loss: 0.0766 - val_accuracy: 0.8905 - val_loss: 0.5168\n",
            "Epoch 63/100\n",
            "\u001b[1m176/176\u001b[0m \u001b[32m━━━━━━━━━━━━━━━━━━━━\u001b[0m\u001b[37m\u001b[0m \u001b[1m3s\u001b[0m 14ms/step - accuracy: 0.9698 - loss: 0.0787 - val_accuracy: 0.8897 - val_loss: 0.5302\n",
            "Epoch 64/100\n",
            "\u001b[1m176/176\u001b[0m \u001b[32m━━━━━━━━━━━━━━━━━━━━\u001b[0m\u001b[37m\u001b[0m \u001b[1m2s\u001b[0m 13ms/step - accuracy: 0.9758 - loss: 0.0670 - val_accuracy: 0.8917 - val_loss: 0.5347\n",
            "Epoch 65/100\n",
            "\u001b[1m176/176\u001b[0m \u001b[32m━━━━━━━━━━━━━━━━━━━━\u001b[0m\u001b[37m\u001b[0m \u001b[1m2s\u001b[0m 11ms/step - accuracy: 0.9762 - loss: 0.0646 - val_accuracy: 0.8936 - val_loss: 0.5466\n",
            "Epoch 66/100\n",
            "\u001b[1m176/176\u001b[0m \u001b[32m━━━━━━━━━━━━━━━━━━━━\u001b[0m\u001b[37m\u001b[0m \u001b[1m1s\u001b[0m 8ms/step - accuracy: 0.9763 - loss: 0.0632 - val_accuracy: 0.8894 - val_loss: 0.5461\n",
            "Epoch 67/100\n",
            "\u001b[1m176/176\u001b[0m \u001b[32m━━━━━━━━━━━━━━━━━━━━\u001b[0m\u001b[37m\u001b[0m \u001b[1m3s\u001b[0m 12ms/step - accuracy: 0.9748 - loss: 0.0675 - val_accuracy: 0.8884 - val_loss: 0.5456\n",
            "Epoch 68/100\n",
            "\u001b[1m176/176\u001b[0m \u001b[32m━━━━━━━━━━━━━━━━━━━━\u001b[0m\u001b[37m\u001b[0m \u001b[1m2s\u001b[0m 12ms/step - accuracy: 0.9767 - loss: 0.0655 - val_accuracy: 0.8785 - val_loss: 0.6296\n",
            "Epoch 69/100\n",
            "\u001b[1m176/176\u001b[0m \u001b[32m━━━━━━━━━━━━━━━━━━━━\u001b[0m\u001b[37m\u001b[0m \u001b[1m2s\u001b[0m 8ms/step - accuracy: 0.9715 - loss: 0.0762 - val_accuracy: 0.8929 - val_loss: 0.5463\n",
            "Epoch 70/100\n",
            "\u001b[1m176/176\u001b[0m \u001b[32m━━━━━━━━━━━━━━━━━━━━\u001b[0m\u001b[37m\u001b[0m \u001b[1m1s\u001b[0m 8ms/step - accuracy: 0.9793 - loss: 0.0585 - val_accuracy: 0.8865 - val_loss: 0.5850\n",
            "Epoch 71/100\n",
            "\u001b[1m176/176\u001b[0m \u001b[32m━━━━━━━━━━━━━━━━━━━━\u001b[0m\u001b[37m\u001b[0m \u001b[1m3s\u001b[0m 9ms/step - accuracy: 0.9752 - loss: 0.0667 - val_accuracy: 0.8887 - val_loss: 0.5796\n",
            "Epoch 72/100\n",
            "\u001b[1m176/176\u001b[0m \u001b[32m━━━━━━━━━━━━━━━━━━━━\u001b[0m\u001b[37m\u001b[0m \u001b[1m2s\u001b[0m 8ms/step - accuracy: 0.9798 - loss: 0.0555 - val_accuracy: 0.8901 - val_loss: 0.5798\n",
            "Epoch 73/100\n",
            "\u001b[1m176/176\u001b[0m \u001b[32m━━━━━━━━━━━━━━━━━━━━\u001b[0m\u001b[37m\u001b[0m \u001b[1m1s\u001b[0m 8ms/step - accuracy: 0.9811 - loss: 0.0536 - val_accuracy: 0.8838 - val_loss: 0.6172\n",
            "Epoch 74/100\n",
            "\u001b[1m176/176\u001b[0m \u001b[32m━━━━━━━━━━━━━━━━━━━━\u001b[0m\u001b[37m\u001b[0m \u001b[1m3s\u001b[0m 12ms/step - accuracy: 0.9726 - loss: 0.0711 - val_accuracy: 0.8839 - val_loss: 0.5922\n",
            "Epoch 75/100\n",
            "\u001b[1m176/176\u001b[0m \u001b[32m━━━━━━━━━━━━━━━━━━━━\u001b[0m\u001b[37m\u001b[0m \u001b[1m2s\u001b[0m 9ms/step - accuracy: 0.9772 - loss: 0.0605 - val_accuracy: 0.8895 - val_loss: 0.6048\n",
            "Epoch 76/100\n",
            "\u001b[1m176/176\u001b[0m \u001b[32m━━━━━━━━━━━━━━━━━━━━\u001b[0m\u001b[37m\u001b[0m \u001b[1m2s\u001b[0m 8ms/step - accuracy: 0.9807 - loss: 0.0532 - val_accuracy: 0.8748 - val_loss: 0.6577\n",
            "Epoch 77/100\n",
            "\u001b[1m176/176\u001b[0m \u001b[32m━━━━━━━━━━━━━━━━━━━━\u001b[0m\u001b[37m\u001b[0m \u001b[1m3s\u001b[0m 8ms/step - accuracy: 0.9744 - loss: 0.0664 - val_accuracy: 0.8900 - val_loss: 0.5967\n",
            "Epoch 78/100\n",
            "\u001b[1m176/176\u001b[0m \u001b[32m━━━━━━━━━━━━━━━━━━━━\u001b[0m\u001b[37m\u001b[0m \u001b[1m2s\u001b[0m 7ms/step - accuracy: 0.9786 - loss: 0.0569 - val_accuracy: 0.8877 - val_loss: 0.6061\n",
            "Epoch 79/100\n",
            "\u001b[1m176/176\u001b[0m \u001b[32m━━━━━━━━━━━━━━━━━━━━\u001b[0m\u001b[37m\u001b[0m \u001b[1m2s\u001b[0m 9ms/step - accuracy: 0.9833 - loss: 0.0474 - val_accuracy: 0.8891 - val_loss: 0.6388\n",
            "Epoch 80/100\n",
            "\u001b[1m176/176\u001b[0m \u001b[32m━━━━━━━━━━━━━━━━━━━━\u001b[0m\u001b[37m\u001b[0m \u001b[1m3s\u001b[0m 10ms/step - accuracy: 0.9838 - loss: 0.0466 - val_accuracy: 0.8887 - val_loss: 0.6171\n",
            "Epoch 81/100\n",
            "\u001b[1m176/176\u001b[0m \u001b[32m━━━━━━━━━━━━━━━━━━━━\u001b[0m\u001b[37m\u001b[0m \u001b[1m1s\u001b[0m 8ms/step - accuracy: 0.9789 - loss: 0.0540 - val_accuracy: 0.8891 - val_loss: 0.6150\n",
            "Epoch 82/100\n",
            "\u001b[1m176/176\u001b[0m \u001b[32m━━━━━━━━━━━━━━━━━━━━\u001b[0m\u001b[37m\u001b[0m \u001b[1m1s\u001b[0m 8ms/step - accuracy: 0.9837 - loss: 0.0449 - val_accuracy: 0.8879 - val_loss: 0.6120\n",
            "Epoch 83/100\n",
            "\u001b[1m176/176\u001b[0m \u001b[32m━━━━━━━━━━━━━━━━━━━━\u001b[0m\u001b[37m\u001b[0m \u001b[1m3s\u001b[0m 9ms/step - accuracy: 0.9824 - loss: 0.0478 - val_accuracy: 0.8876 - val_loss: 0.6516\n",
            "Epoch 84/100\n",
            "\u001b[1m176/176\u001b[0m \u001b[32m━━━━━━━━━━━━━━━━━━━━\u001b[0m\u001b[37m\u001b[0m \u001b[1m1s\u001b[0m 8ms/step - accuracy: 0.9807 - loss: 0.0510 - val_accuracy: 0.8836 - val_loss: 0.6736\n",
            "Epoch 85/100\n",
            "\u001b[1m176/176\u001b[0m \u001b[32m━━━━━━━━━━━━━━━━━━━━\u001b[0m\u001b[37m\u001b[0m \u001b[1m3s\u001b[0m 8ms/step - accuracy: 0.9810 - loss: 0.0518 - val_accuracy: 0.8887 - val_loss: 0.6528\n",
            "Epoch 86/100\n",
            "\u001b[1m176/176\u001b[0m \u001b[32m━━━━━━━━━━━━━━━━━━━━\u001b[0m\u001b[37m\u001b[0m \u001b[1m3s\u001b[0m 12ms/step - accuracy: 0.9822 - loss: 0.0489 - val_accuracy: 0.8855 - val_loss: 0.6306\n",
            "Epoch 87/100\n",
            "\u001b[1m176/176\u001b[0m \u001b[32m━━━━━━━━━━━━━━━━━━━━\u001b[0m\u001b[37m\u001b[0m \u001b[1m1s\u001b[0m 8ms/step - accuracy: 0.9806 - loss: 0.0531 - val_accuracy: 0.8864 - val_loss: 0.6619\n",
            "Epoch 88/100\n",
            "\u001b[1m176/176\u001b[0m \u001b[32m━━━━━━━━━━━━━━━━━━━━\u001b[0m\u001b[37m\u001b[0m \u001b[1m3s\u001b[0m 8ms/step - accuracy: 0.9826 - loss: 0.0480 - val_accuracy: 0.8903 - val_loss: 0.6806\n",
            "Epoch 89/100\n",
            "\u001b[1m176/176\u001b[0m \u001b[32m━━━━━━━━━━━━━━━━━━━━\u001b[0m\u001b[37m\u001b[0m \u001b[1m2s\u001b[0m 8ms/step - accuracy: 0.9859 - loss: 0.0394 - val_accuracy: 0.8923 - val_loss: 0.6465\n",
            "Epoch 90/100\n",
            "\u001b[1m176/176\u001b[0m \u001b[32m━━━━━━━━━━━━━━━━━━━━\u001b[0m\u001b[37m\u001b[0m \u001b[1m1s\u001b[0m 8ms/step - accuracy: 0.9862 - loss: 0.0373 - val_accuracy: 0.8787 - val_loss: 0.7128\n",
            "Epoch 91/100\n",
            "\u001b[1m176/176\u001b[0m \u001b[32m━━━━━━━━━━━━━━━━━━━━\u001b[0m\u001b[37m\u001b[0m \u001b[1m1s\u001b[0m 8ms/step - accuracy: 0.9790 - loss: 0.0547 - val_accuracy: 0.8816 - val_loss: 0.7205\n",
            "Epoch 92/100\n",
            "\u001b[1m176/176\u001b[0m \u001b[32m━━━━━━━━━━━━━━━━━━━━\u001b[0m\u001b[37m\u001b[0m \u001b[1m2s\u001b[0m 9ms/step - accuracy: 0.9797 - loss: 0.0553 - val_accuracy: 0.8848 - val_loss: 0.6995\n",
            "Epoch 93/100\n",
            "\u001b[1m176/176\u001b[0m \u001b[32m━━━━━━━━━━━━━━━━━━━━\u001b[0m\u001b[37m\u001b[0m \u001b[1m3s\u001b[0m 12ms/step - accuracy: 0.9828 - loss: 0.0463 - val_accuracy: 0.8871 - val_loss: 0.7191\n",
            "Epoch 94/100\n",
            "\u001b[1m176/176\u001b[0m \u001b[32m━━━━━━━━━━━━━━━━━━━━\u001b[0m\u001b[37m\u001b[0m \u001b[1m2s\u001b[0m 8ms/step - accuracy: 0.9845 - loss: 0.0430 - val_accuracy: 0.8903 - val_loss: 0.7092\n",
            "Epoch 95/100\n",
            "\u001b[1m176/176\u001b[0m \u001b[32m━━━━━━━━━━━━━━━━━━━━\u001b[0m\u001b[37m\u001b[0m \u001b[1m1s\u001b[0m 7ms/step - accuracy: 0.9825 - loss: 0.0445 - val_accuracy: 0.8907 - val_loss: 0.6979\n",
            "Epoch 96/100\n",
            "\u001b[1m176/176\u001b[0m \u001b[32m━━━━━━━━━━━━━━━━━━━━\u001b[0m\u001b[37m\u001b[0m \u001b[1m1s\u001b[0m 8ms/step - accuracy: 0.9854 - loss: 0.0395 - val_accuracy: 0.8877 - val_loss: 0.6936\n",
            "Epoch 97/100\n",
            "\u001b[1m176/176\u001b[0m \u001b[32m━━━━━━━━━━━━━━━━━━━━\u001b[0m\u001b[37m\u001b[0m \u001b[1m3s\u001b[0m 9ms/step - accuracy: 0.9870 - loss: 0.0358 - val_accuracy: 0.8895 - val_loss: 0.7233\n",
            "Epoch 98/100\n",
            "\u001b[1m176/176\u001b[0m \u001b[32m━━━━━━━━━━━━━━━━━━━━\u001b[0m\u001b[37m\u001b[0m \u001b[1m1s\u001b[0m 8ms/step - accuracy: 0.9855 - loss: 0.0407 - val_accuracy: 0.8823 - val_loss: 0.7481\n",
            "Epoch 99/100\n",
            "\u001b[1m176/176\u001b[0m \u001b[32m━━━━━━━━━━━━━━━━━━━━\u001b[0m\u001b[37m\u001b[0m \u001b[1m4s\u001b[0m 13ms/step - accuracy: 0.9807 - loss: 0.0528 - val_accuracy: 0.8876 - val_loss: 0.7200\n",
            "Epoch 100/100\n",
            "\u001b[1m176/176\u001b[0m \u001b[32m━━━━━━━━━━━━━━━━━━━━\u001b[0m\u001b[37m\u001b[0m \u001b[1m2s\u001b[0m 8ms/step - accuracy: 0.9824 - loss: 0.0496 - val_accuracy: 0.8854 - val_loss: 0.7644\n"
          ]
        }
      ]
    },
    {
      "cell_type": "code",
      "source": [
        "# 위의 결과를 그래프로 그려보자!!!\n",
        "plt.subplot(1,2,1) # loss\n",
        "\n",
        "plt.plot(history2.history[\"loss\"], \"b-\", label=\"train_loss\")\n",
        "plt.plot(history2.history[\"val_loss\"], \"r-\", label=\"val_loss\")\n",
        "plt.xlabel(\"Epoch\")\n",
        "plt.legend()\n",
        "\n",
        "plt.subplot(1,2,2) # metrics : accuracy\n",
        "plt.plot(history2.history[\"accuracy\"], \"b-\", label=\"train_accuracy\")\n",
        "plt.plot(history2.history[\"val_accuracy\"], \"r-\", label=\"val_accuracy\")\n",
        "plt.xlabel(\"Epoch\")\n",
        "plt.legend()"
      ],
      "metadata": {
        "colab": {
          "base_uri": "https://localhost:8080/",
          "height": 473
        },
        "id": "dNxOXC-P0_w6",
        "outputId": "4602e444-afb5-46cf-b201-c9738bd1d29f"
      },
      "execution_count": 37,
      "outputs": [
        {
          "output_type": "execute_result",
          "data": {
            "text/plain": [
              "<matplotlib.legend.Legend at 0x7bd100c0e470>"
            ]
          },
          "metadata": {},
          "execution_count": 37
        },
        {
          "output_type": "display_data",
          "data": {
            "text/plain": [
              "<Figure size 640x480 with 2 Axes>"
            ],
            "image/png": "[encoded data removed]"
          },
          "metadata": {}
        }
      ]
    },
    {
      "cell_type": "code",
      "source": [
        "model2.evaluate(test_X, tf.keras.utils.to_categorical(test_y,num_classes=10))"
      ],
      "metadata": {
        "colab": {
          "base_uri": "https://localhost:8080/"
        },
        "id": "Bf4PGn1Q1chF",
        "outputId": "db0b5dd9-ff35-40f5-f218-989bc2f717f0"
      },
      "execution_count": 38,
      "outputs": [
        {
          "output_type": "stream",
          "name": "stdout",
          "text": [
            "\u001b[1m313/313\u001b[0m \u001b[32m━━━━━━━━━━━━━━━━━━━━\u001b[0m\u001b[37m\u001b[0m \u001b[1m1s\u001b[0m 3ms/step - accuracy: 0.8754 - loss: 0.8475\n"
          ]
        },
        {
          "output_type": "execute_result",
          "data": {
            "text/plain": [
              "[0.8583849668502808, 0.8772000074386597]"
            ]
          },
          "metadata": {},
          "execution_count": 38
        }
      ]
    },
    {
      "cell_type": "code",
      "source": [
        "# 여기까지 내용을 보면\n",
        "# DNN 구조를 사용을 해서 봤더니...\n",
        "# HL을 좀 더 쌓아서 했더니...\n",
        "# 비선형이 늘어서,,,,OF 빨리. 심하게 걸리는 것 같은데,,,,\n",
        "# 문제는 모델의 성능은 그닥;;;; 0.88~0.90 사이를 벗어나지 못하고 있음!!!!!!\n",
        "# OF 문제가 되는거 같다!!!!!\n",
        "\n",
        "# ===> 모델의 구조에서 OF을 좀 완하시키는 기술적인 방법\n",
        "#      + 다른 설계 방식 CNN 고려\n",
        "# + 드롭아웃 등"
      ],
      "metadata": {
        "id": "P0WlTASw111h"
      },
      "execution_count": null,
      "outputs": []
    },
    {
      "cell_type": "code",
      "source": [
        "model2=tf.keras.Sequential(   #설계도\n",
        "    [\n",
        "        tf.keras.layers.Flatten(input_shape=(28,28)),  # 쌓는 순서 입력 -> 출력 , 차원변경 2D -> 1D + input layer ( 입력층 )\n",
        "\n",
        "        tf.keras.layers.Dropout(0.1) , # 드롭 아웃 ,  10% 제거\n",
        "\n",
        "        tf.keras.layers.Dense(units=128, activation=\"relu\"),  # 은닉층  : 일반적인 Dense -> 128개 노드 , AF : relu\n",
        "        tf.keras.layers.Dropout(0.1) , # 드롭 아웃 ,  10% 제거\n",
        "        tf.keras.layers.Dense(units=64, activation=\"relu\"),\n",
        "        tf.keras.layers.Dropout(0.1) , # 드롭 아웃 ,  10% 제거\n",
        "        tf.keras.layers.Dense(units=32, activation=\"relu\"), # 은닉층 3개로 수정 , 은닉층 노드 수 128->64->32 줄여나가볼게 (정답없음), 다 병렬로 해봐도 되고 실험임 다\n",
        "\n",
        "        tf.keras.layers.Dropout(0.1) , # 드롭 아웃 ,  10% 제거\n",
        "\n",
        "        tf.keras.layers.Dense(units=10, activation=\"softmax\")       #출력층 : 모델의 목적 : 10개 분류\n",
        "    ]\n",
        ")\n",
        "model2"
      ],
      "metadata": {
        "colab": {
          "base_uri": "https://localhost:8080/"
        },
        "id": "_TIZOkVv3I71",
        "outputId": "8df57e44-1fca-451a-8380-f35553c3e516"
      },
      "execution_count": 39,
      "outputs": [
        {
          "output_type": "stream",
          "name": "stderr",
          "text": [
            "/usr/local/lib/python3.10/dist-packages/keras/src/layers/reshaping/flatten.py:37: UserWarning: Do not pass an `input_shape`/`input_dim` argument to a layer. When using Sequential models, prefer using an `Input(shape)` object as the first layer in the model instead.\n",
            "  super().__init__(**kwargs)\n"
          ]
        },
        {
          "output_type": "execute_result",
          "data": {
            "text/plain": [
              "<Sequential name=sequential_2, built=True>"
            ]
          },
          "metadata": {},
          "execution_count": 39
        }
      ]
    },
    {
      "cell_type": "code",
      "source": [
        "# 이 모델에 대한 10만개의 가중치들을 어떻게 찾고, 학습할까\n",
        "model2.compile(\n",
        "    loss=\"categorical_crossentropy\", #손실함수 , 정답은 one hot encoding 으로 해야함\n",
        "    optimizer=\"adam\", # or tf.keras.optimizers.Adam()\n",
        "    metrics=[\"accuracy\"] # 모니터링에 대한 지표\n",
        "\n",
        "    )"
      ],
      "metadata": {
        "id": "XpFc0HGF3f_j"
      },
      "execution_count": 40,
      "outputs": []
    },
    {
      "cell_type": "code",
      "source": [
        "#모델 학습\n",
        "history2 = model2.fit(\n",
        "    train_X, # 문제지\n",
        "    tf.keras.utils.to_categorical(train_y,num_classes=10), # 이렇게 one hot encoding , 정답지  or 손실함수에 sparse 붙이거나 (모양 맞추기)\n",
        "    epochs=100 ,# 많이 돌리면 train  성능은 무조건 올라가지만. 과적합 가능성\n",
        "    batch_size=256 ,# HW spec  GPU의 RAM 과 연관 -> 176/176 이 숫자와 연관\n",
        "    validation_split=0.25 # 옵션\n",
        "\n",
        ")"
      ],
      "metadata": {
        "colab": {
          "base_uri": "https://localhost:8080/"
        },
        "id": "n2-cFFje3ikJ",
        "outputId": "3a3a7d40-aee3-4e65-a8ef-3859d5d1d9bc"
      },
      "execution_count": 41,
      "outputs": [
        {
          "output_type": "stream",
          "name": "stdout",
          "text": [
            "Epoch 1/100\n",
            "\u001b[1m176/176\u001b[0m \u001b[32m━━━━━━━━━━━━━━━━━━━━\u001b[0m\u001b[37m\u001b[0m \u001b[1m4s\u001b[0m 12ms/step - accuracy: 0.5540 - loss: 1.2994 - val_accuracy: 0.8257 - val_loss: 0.4999\n",
            "Epoch 2/100\n",
            "\u001b[1m176/176\u001b[0m \u001b[32m━━━━━━━━━━━━━━━━━━━━\u001b[0m\u001b[37m\u001b[0m \u001b[1m2s\u001b[0m 11ms/step - accuracy: 0.7992 - loss: 0.5770 - val_accuracy: 0.8494 - val_loss: 0.4217\n",
            "Epoch 3/100\n",
            "\u001b[1m176/176\u001b[0m \u001b[32m━━━━━━━━━━━━━━━━━━━━\u001b[0m\u001b[37m\u001b[0m \u001b[1m2s\u001b[0m 11ms/step - accuracy: 0.8319 - loss: 0.4826 - val_accuracy: 0.8571 - val_loss: 0.3943\n",
            "Epoch 4/100\n",
            "\u001b[1m176/176\u001b[0m \u001b[32m━━━━━━━━━━━━━━━━━━━━\u001b[0m\u001b[37m\u001b[0m \u001b[1m3s\u001b[0m 17ms/step - accuracy: 0.8462 - loss: 0.4343 - val_accuracy: 0.8621 - val_loss: 0.3743\n",
            "Epoch 5/100\n",
            "\u001b[1m176/176\u001b[0m \u001b[32m━━━━━━━━━━━━━━━━━━━━\u001b[0m\u001b[37m\u001b[0m \u001b[1m5s\u001b[0m 18ms/step - accuracy: 0.8522 - loss: 0.4091 - val_accuracy: 0.8679 - val_loss: 0.3611\n",
            "Epoch 6/100\n",
            "\u001b[1m176/176\u001b[0m \u001b[32m━━━━━━━━━━━━━━━━━━━━\u001b[0m\u001b[37m\u001b[0m \u001b[1m5s\u001b[0m 19ms/step - accuracy: 0.8571 - loss: 0.3883 - val_accuracy: 0.8731 - val_loss: 0.3478\n",
            "Epoch 7/100\n",
            "\u001b[1m176/176\u001b[0m \u001b[32m━━━━━━━━━━━━━━━━━━━━\u001b[0m\u001b[37m\u001b[0m \u001b[1m5s\u001b[0m 25ms/step - accuracy: 0.8637 - loss: 0.3742 - val_accuracy: 0.8777 - val_loss: 0.3406\n",
            "Epoch 8/100\n",
            "\u001b[1m176/176\u001b[0m \u001b[32m━━━━━━━━━━━━━━━━━━━━\u001b[0m\u001b[37m\u001b[0m \u001b[1m3s\u001b[0m 19ms/step - accuracy: 0.8708 - loss: 0.3571 - val_accuracy: 0.8796 - val_loss: 0.3367\n",
            "Epoch 9/100\n",
            "\u001b[1m176/176\u001b[0m \u001b[32m━━━━━━━━━━━━━━━━━━━━\u001b[0m\u001b[37m\u001b[0m \u001b[1m5s\u001b[0m 20ms/step - accuracy: 0.8738 - loss: 0.3496 - val_accuracy: 0.8795 - val_loss: 0.3342\n",
            "Epoch 10/100\n",
            "\u001b[1m176/176\u001b[0m \u001b[32m━━━━━━━━━━━━━━━━━━━━\u001b[0m\u001b[37m\u001b[0m \u001b[1m4s\u001b[0m 22ms/step - accuracy: 0.8721 - loss: 0.3457 - val_accuracy: 0.8810 - val_loss: 0.3290\n",
            "Epoch 11/100\n",
            "\u001b[1m176/176\u001b[0m \u001b[32m━━━━━━━━━━━━━━━━━━━━\u001b[0m\u001b[37m\u001b[0m \u001b[1m4s\u001b[0m 19ms/step - accuracy: 0.8775 - loss: 0.3333 - val_accuracy: 0.8792 - val_loss: 0.3304\n",
            "Epoch 12/100\n",
            "\u001b[1m176/176\u001b[0m \u001b[32m━━━━━━━━━━━━━━━━━━━━\u001b[0m\u001b[37m\u001b[0m \u001b[1m3s\u001b[0m 11ms/step - accuracy: 0.8848 - loss: 0.3162 - val_accuracy: 0.8809 - val_loss: 0.3316\n",
            "Epoch 13/100\n",
            "\u001b[1m176/176\u001b[0m \u001b[32m━━━━━━━━━━━━━━━━━━━━\u001b[0m\u001b[37m\u001b[0m \u001b[1m2s\u001b[0m 12ms/step - accuracy: 0.8827 - loss: 0.3211 - val_accuracy: 0.8854 - val_loss: 0.3197\n",
            "Epoch 14/100\n",
            "\u001b[1m176/176\u001b[0m \u001b[32m━━━━━━━━━━━━━━━━━━━━\u001b[0m\u001b[37m\u001b[0m \u001b[1m2s\u001b[0m 10ms/step - accuracy: 0.8820 - loss: 0.3189 - val_accuracy: 0.8836 - val_loss: 0.3266\n",
            "Epoch 15/100\n",
            "\u001b[1m176/176\u001b[0m \u001b[32m━━━━━━━━━━━━━━━━━━━━\u001b[0m\u001b[37m\u001b[0m \u001b[1m3s\u001b[0m 18ms/step - accuracy: 0.8869 - loss: 0.3096 - val_accuracy: 0.8856 - val_loss: 0.3200\n",
            "Epoch 16/100\n",
            "\u001b[1m176/176\u001b[0m \u001b[32m━━━━━━━━━━━━━━━━━━━━\u001b[0m\u001b[37m\u001b[0m \u001b[1m5s\u001b[0m 17ms/step - accuracy: 0.8871 - loss: 0.3110 - val_accuracy: 0.8869 - val_loss: 0.3154\n",
            "Epoch 17/100\n",
            "\u001b[1m176/176\u001b[0m \u001b[32m━━━━━━━━━━━━━━━━━━━━\u001b[0m\u001b[37m\u001b[0m \u001b[1m2s\u001b[0m 10ms/step - accuracy: 0.8879 - loss: 0.3026 - val_accuracy: 0.8883 - val_loss: 0.3071\n",
            "Epoch 18/100\n",
            "\u001b[1m176/176\u001b[0m \u001b[32m━━━━━━━━━━━━━━━━━━━━\u001b[0m\u001b[37m\u001b[0m \u001b[1m3s\u001b[0m 11ms/step - accuracy: 0.8888 - loss: 0.2976 - val_accuracy: 0.8859 - val_loss: 0.3092\n",
            "Epoch 19/100\n",
            "\u001b[1m176/176\u001b[0m \u001b[32m━━━━━━━━━━━━━━━━━━━━\u001b[0m\u001b[37m\u001b[0m \u001b[1m3s\u001b[0m 14ms/step - accuracy: 0.8921 - loss: 0.2894 - val_accuracy: 0.8891 - val_loss: 0.3155\n",
            "Epoch 20/100\n",
            "\u001b[1m176/176\u001b[0m \u001b[32m━━━━━━━━━━━━━━━━━━━━\u001b[0m\u001b[37m\u001b[0m \u001b[1m3s\u001b[0m 16ms/step - accuracy: 0.8937 - loss: 0.2909 - val_accuracy: 0.8887 - val_loss: 0.3119\n",
            "Epoch 21/100\n",
            "\u001b[1m176/176\u001b[0m \u001b[32m━━━━━━━━━━━━━━━━━━━━\u001b[0m\u001b[37m\u001b[0m \u001b[1m2s\u001b[0m 11ms/step - accuracy: 0.8964 - loss: 0.2840 - val_accuracy: 0.8893 - val_loss: 0.3130\n",
            "Epoch 22/100\n",
            "\u001b[1m176/176\u001b[0m \u001b[32m━━━━━━━━━━━━━━━━━━━━\u001b[0m\u001b[37m\u001b[0m \u001b[1m2s\u001b[0m 10ms/step - accuracy: 0.8952 - loss: 0.2854 - val_accuracy: 0.8905 - val_loss: 0.3065\n",
            "Epoch 23/100\n",
            "\u001b[1m176/176\u001b[0m \u001b[32m━━━━━━━━━━━━━━━━━━━━\u001b[0m\u001b[37m\u001b[0m \u001b[1m2s\u001b[0m 10ms/step - accuracy: 0.8979 - loss: 0.2787 - val_accuracy: 0.8920 - val_loss: 0.3015\n",
            "Epoch 24/100\n",
            "\u001b[1m176/176\u001b[0m \u001b[32m━━━━━━━━━━━━━━━━━━━━\u001b[0m\u001b[37m\u001b[0m \u001b[1m3s\u001b[0m 11ms/step - accuracy: 0.8964 - loss: 0.2726 - val_accuracy: 0.8922 - val_loss: 0.3031\n",
            "Epoch 25/100\n",
            "\u001b[1m176/176\u001b[0m \u001b[32m━━━━━━━━━━━━━━━━━━━━\u001b[0m\u001b[37m\u001b[0m \u001b[1m3s\u001b[0m 16ms/step - accuracy: 0.9002 - loss: 0.2712 - val_accuracy: 0.8911 - val_loss: 0.3065\n",
            "Epoch 26/100\n",
            "\u001b[1m176/176\u001b[0m \u001b[32m━━━━━━━━━━━━━━━━━━━━\u001b[0m\u001b[37m\u001b[0m \u001b[1m2s\u001b[0m 14ms/step - accuracy: 0.9010 - loss: 0.2609 - val_accuracy: 0.8883 - val_loss: 0.3066\n",
            "Epoch 27/100\n",
            "\u001b[1m176/176\u001b[0m \u001b[32m━━━━━━━━━━━━━━━━━━━━\u001b[0m\u001b[37m\u001b[0m \u001b[1m2s\u001b[0m 10ms/step - accuracy: 0.9009 - loss: 0.2654 - val_accuracy: 0.8922 - val_loss: 0.3040\n",
            "Epoch 28/100\n",
            "\u001b[1m176/176\u001b[0m \u001b[32m━━━━━━━━━━━━━━━━━━━━\u001b[0m\u001b[37m\u001b[0m \u001b[1m2s\u001b[0m 10ms/step - accuracy: 0.9023 - loss: 0.2633 - val_accuracy: 0.8913 - val_loss: 0.3000\n",
            "Epoch 29/100\n",
            "\u001b[1m176/176\u001b[0m \u001b[32m━━━━━━━━━━━━━━━━━━━━\u001b[0m\u001b[37m\u001b[0m \u001b[1m2s\u001b[0m 11ms/step - accuracy: 0.8988 - loss: 0.2675 - val_accuracy: 0.8911 - val_loss: 0.3028\n",
            "Epoch 30/100\n",
            "\u001b[1m176/176\u001b[0m \u001b[32m━━━━━━━━━━━━━━━━━━━━\u001b[0m\u001b[37m\u001b[0m \u001b[1m3s\u001b[0m 11ms/step - accuracy: 0.9045 - loss: 0.2555 - val_accuracy: 0.8887 - val_loss: 0.3126\n",
            "Epoch 31/100\n",
            "\u001b[1m176/176\u001b[0m \u001b[32m━━━━━━━━━━━━━━━━━━━━\u001b[0m\u001b[37m\u001b[0m \u001b[1m4s\u001b[0m 18ms/step - accuracy: 0.9066 - loss: 0.2524 - val_accuracy: 0.8966 - val_loss: 0.2981\n",
            "Epoch 32/100\n",
            "\u001b[1m176/176\u001b[0m \u001b[32m━━━━━━━━━━━━━━━━━━━━\u001b[0m\u001b[37m\u001b[0m \u001b[1m2s\u001b[0m 13ms/step - accuracy: 0.9054 - loss: 0.2538 - val_accuracy: 0.8939 - val_loss: 0.2962\n",
            "Epoch 33/100\n",
            "\u001b[1m176/176\u001b[0m \u001b[32m━━━━━━━━━━━━━━━━━━━━\u001b[0m\u001b[37m\u001b[0m \u001b[1m2s\u001b[0m 10ms/step - accuracy: 0.9076 - loss: 0.2505 - val_accuracy: 0.8921 - val_loss: 0.3053\n",
            "Epoch 34/100\n",
            "\u001b[1m176/176\u001b[0m \u001b[32m━━━━━━━━━━━━━━━━━━━━\u001b[0m\u001b[37m\u001b[0m \u001b[1m2s\u001b[0m 10ms/step - accuracy: 0.9052 - loss: 0.2505 - val_accuracy: 0.8908 - val_loss: 0.3122\n",
            "Epoch 35/100\n",
            "\u001b[1m176/176\u001b[0m \u001b[32m━━━━━━━━━━━━━━━━━━━━\u001b[0m\u001b[37m\u001b[0m \u001b[1m3s\u001b[0m 11ms/step - accuracy: 0.9087 - loss: 0.2421 - val_accuracy: 0.8949 - val_loss: 0.3067\n",
            "Epoch 36/100\n",
            "\u001b[1m176/176\u001b[0m \u001b[32m━━━━━━━━━━━━━━━━━━━━\u001b[0m\u001b[37m\u001b[0m \u001b[1m4s\u001b[0m 17ms/step - accuracy: 0.9054 - loss: 0.2525 - val_accuracy: 0.8888 - val_loss: 0.3095\n",
            "Epoch 37/100\n",
            "\u001b[1m176/176\u001b[0m \u001b[32m━━━━━━━━━━━━━━━━━━━━\u001b[0m\u001b[37m\u001b[0m \u001b[1m4s\u001b[0m 11ms/step - accuracy: 0.9081 - loss: 0.2464 - val_accuracy: 0.8941 - val_loss: 0.3022\n",
            "Epoch 38/100\n",
            "\u001b[1m176/176\u001b[0m \u001b[32m━━━━━━━━━━━━━━━━━━━━\u001b[0m\u001b[37m\u001b[0m \u001b[1m2s\u001b[0m 10ms/step - accuracy: 0.9074 - loss: 0.2418 - val_accuracy: 0.8911 - val_loss: 0.3044\n",
            "Epoch 39/100\n",
            "\u001b[1m176/176\u001b[0m \u001b[32m━━━━━━━━━━━━━━━━━━━━\u001b[0m\u001b[37m\u001b[0m \u001b[1m2s\u001b[0m 12ms/step - accuracy: 0.9077 - loss: 0.2452 - val_accuracy: 0.8927 - val_loss: 0.3063\n",
            "Epoch 40/100\n",
            "\u001b[1m176/176\u001b[0m \u001b[32m━━━━━━━━━━━━━━━━━━━━\u001b[0m\u001b[37m\u001b[0m \u001b[1m2s\u001b[0m 11ms/step - accuracy: 0.9080 - loss: 0.2450 - val_accuracy: 0.8947 - val_loss: 0.3006\n",
            "Epoch 41/100\n",
            "\u001b[1m176/176\u001b[0m \u001b[32m━━━━━━━━━━━━━━━━━━━━\u001b[0m\u001b[37m\u001b[0m \u001b[1m3s\u001b[0m 18ms/step - accuracy: 0.9114 - loss: 0.2372 - val_accuracy: 0.8957 - val_loss: 0.2988\n",
            "Epoch 42/100\n",
            "\u001b[1m176/176\u001b[0m \u001b[32m━━━━━━━━━━━━━━━━━━━━\u001b[0m\u001b[37m\u001b[0m \u001b[1m2s\u001b[0m 11ms/step - accuracy: 0.9116 - loss: 0.2327 - val_accuracy: 0.8949 - val_loss: 0.3054\n",
            "Epoch 43/100\n",
            "\u001b[1m176/176\u001b[0m \u001b[32m━━━━━━━━━━━━━━━━━━━━\u001b[0m\u001b[37m\u001b[0m \u001b[1m3s\u001b[0m 16ms/step - accuracy: 0.9115 - loss: 0.2343 - val_accuracy: 0.8945 - val_loss: 0.3041\n",
            "Epoch 44/100\n",
            "\u001b[1m176/176\u001b[0m \u001b[32m━━━━━━━━━━━━━━━━━━━━\u001b[0m\u001b[37m\u001b[0m \u001b[1m4s\u001b[0m 12ms/step - accuracy: 0.9112 - loss: 0.2315 - val_accuracy: 0.8948 - val_loss: 0.3043\n",
            "Epoch 45/100\n",
            "\u001b[1m176/176\u001b[0m \u001b[32m━━━━━━━━━━━━━━━━━━━━\u001b[0m\u001b[37m\u001b[0m \u001b[1m2s\u001b[0m 13ms/step - accuracy: 0.9121 - loss: 0.2306 - val_accuracy: 0.8934 - val_loss: 0.3036\n",
            "Epoch 46/100\n",
            "\u001b[1m176/176\u001b[0m \u001b[32m━━━━━━━━━━━━━━━━━━━━\u001b[0m\u001b[37m\u001b[0m \u001b[1m3s\u001b[0m 16ms/step - accuracy: 0.9128 - loss: 0.2296 - val_accuracy: 0.8917 - val_loss: 0.3029\n",
            "Epoch 47/100\n",
            "\u001b[1m176/176\u001b[0m \u001b[32m━━━━━━━━━━━━━━━━━━━━\u001b[0m\u001b[37m\u001b[0m \u001b[1m4s\u001b[0m 11ms/step - accuracy: 0.9093 - loss: 0.2343 - val_accuracy: 0.8956 - val_loss: 0.2996\n",
            "Epoch 48/100\n",
            "\u001b[1m176/176\u001b[0m \u001b[32m━━━━━━━━━━━━━━━━━━━━\u001b[0m\u001b[37m\u001b[0m \u001b[1m2s\u001b[0m 11ms/step - accuracy: 0.9141 - loss: 0.2277 - val_accuracy: 0.8941 - val_loss: 0.3044\n",
            "Epoch 49/100\n",
            "\u001b[1m176/176\u001b[0m \u001b[32m━━━━━━━━━━━━━━━━━━━━\u001b[0m\u001b[37m\u001b[0m \u001b[1m2s\u001b[0m 10ms/step - accuracy: 0.9149 - loss: 0.2287 - val_accuracy: 0.8966 - val_loss: 0.3008\n",
            "Epoch 50/100\n",
            "\u001b[1m176/176\u001b[0m \u001b[32m━━━━━━━━━━━━━━━━━━━━\u001b[0m\u001b[37m\u001b[0m \u001b[1m4s\u001b[0m 18ms/step - accuracy: 0.9168 - loss: 0.2230 - val_accuracy: 0.8957 - val_loss: 0.3053\n",
            "Epoch 51/100\n",
            "\u001b[1m176/176\u001b[0m \u001b[32m━━━━━━━━━━━━━━━━━━━━\u001b[0m\u001b[37m\u001b[0m \u001b[1m2s\u001b[0m 12ms/step - accuracy: 0.9153 - loss: 0.2258 - val_accuracy: 0.8976 - val_loss: 0.2976\n",
            "Epoch 52/100\n",
            "\u001b[1m176/176\u001b[0m \u001b[32m━━━━━━━━━━━━━━━━━━━━\u001b[0m\u001b[37m\u001b[0m \u001b[1m2s\u001b[0m 12ms/step - accuracy: 0.9158 - loss: 0.2251 - val_accuracy: 0.8964 - val_loss: 0.3047\n",
            "Epoch 53/100\n",
            "\u001b[1m176/176\u001b[0m \u001b[32m━━━━━━━━━━━━━━━━━━━━\u001b[0m\u001b[37m\u001b[0m \u001b[1m2s\u001b[0m 11ms/step - accuracy: 0.9190 - loss: 0.2185 - val_accuracy: 0.8954 - val_loss: 0.3019\n",
            "Epoch 54/100\n",
            "\u001b[1m176/176\u001b[0m \u001b[32m━━━━━━━━━━━━━━━━━━━━\u001b[0m\u001b[37m\u001b[0m \u001b[1m2s\u001b[0m 11ms/step - accuracy: 0.9168 - loss: 0.2193 - val_accuracy: 0.8971 - val_loss: 0.3034\n",
            "Epoch 55/100\n",
            "\u001b[1m176/176\u001b[0m \u001b[32m━━━━━━━━━━━━━━━━━━━━\u001b[0m\u001b[37m\u001b[0m \u001b[1m3s\u001b[0m 14ms/step - accuracy: 0.9162 - loss: 0.2223 - val_accuracy: 0.8966 - val_loss: 0.3020\n",
            "Epoch 56/100\n",
            "\u001b[1m176/176\u001b[0m \u001b[32m━━━━━━━━━━━━━━━━━━━━\u001b[0m\u001b[37m\u001b[0m \u001b[1m3s\u001b[0m 15ms/step - accuracy: 0.9153 - loss: 0.2245 - val_accuracy: 0.8946 - val_loss: 0.3075\n",
            "Epoch 57/100\n",
            "\u001b[1m176/176\u001b[0m \u001b[32m━━━━━━━━━━━━━━━━━━━━\u001b[0m\u001b[37m\u001b[0m \u001b[1m4s\u001b[0m 10ms/step - accuracy: 0.9172 - loss: 0.2177 - val_accuracy: 0.8961 - val_loss: 0.3061\n",
            "Epoch 58/100\n",
            "\u001b[1m176/176\u001b[0m \u001b[32m━━━━━━━━━━━━━━━━━━━━\u001b[0m\u001b[37m\u001b[0m \u001b[1m3s\u001b[0m 11ms/step - accuracy: 0.9211 - loss: 0.2120 - val_accuracy: 0.8993 - val_loss: 0.3105\n",
            "Epoch 59/100\n",
            "\u001b[1m176/176\u001b[0m \u001b[32m━━━━━━━━━━━━━━━━━━━━\u001b[0m\u001b[37m\u001b[0m \u001b[1m2s\u001b[0m 10ms/step - accuracy: 0.9210 - loss: 0.2145 - val_accuracy: 0.8943 - val_loss: 0.3053\n",
            "Epoch 60/100\n",
            "\u001b[1m176/176\u001b[0m \u001b[32m━━━━━━━━━━━━━━━━━━━━\u001b[0m\u001b[37m\u001b[0m \u001b[1m6s\u001b[0m 28ms/step - accuracy: 0.9203 - loss: 0.2157 - val_accuracy: 0.8949 - val_loss: 0.3063\n",
            "Epoch 61/100\n",
            "\u001b[1m176/176\u001b[0m \u001b[32m━━━━━━━━━━━━━━━━━━━━\u001b[0m\u001b[37m\u001b[0m \u001b[1m2s\u001b[0m 13ms/step - accuracy: 0.9209 - loss: 0.2150 - val_accuracy: 0.8946 - val_loss: 0.3126\n",
            "Epoch 62/100\n",
            "\u001b[1m176/176\u001b[0m \u001b[32m━━━━━━━━━━━━━━━━━━━━\u001b[0m\u001b[37m\u001b[0m \u001b[1m2s\u001b[0m 12ms/step - accuracy: 0.9187 - loss: 0.2153 - val_accuracy: 0.8966 - val_loss: 0.3047\n",
            "Epoch 63/100\n",
            "\u001b[1m176/176\u001b[0m \u001b[32m━━━━━━━━━━━━━━━━━━━━\u001b[0m\u001b[37m\u001b[0m \u001b[1m2s\u001b[0m 11ms/step - accuracy: 0.9175 - loss: 0.2127 - val_accuracy: 0.8925 - val_loss: 0.3148\n",
            "Epoch 64/100\n",
            "\u001b[1m176/176\u001b[0m \u001b[32m━━━━━━━━━━━━━━━━━━━━\u001b[0m\u001b[37m\u001b[0m \u001b[1m2s\u001b[0m 11ms/step - accuracy: 0.9190 - loss: 0.2117 - val_accuracy: 0.8985 - val_loss: 0.3035\n",
            "Epoch 65/100\n",
            "\u001b[1m176/176\u001b[0m \u001b[32m━━━━━━━━━━━━━━━━━━━━\u001b[0m\u001b[37m\u001b[0m \u001b[1m3s\u001b[0m 15ms/step - accuracy: 0.9203 - loss: 0.2118 - val_accuracy: 0.8966 - val_loss: 0.3030\n",
            "Epoch 66/100\n",
            "\u001b[1m176/176\u001b[0m \u001b[32m━━━━━━━━━━━━━━━━━━━━\u001b[0m\u001b[37m\u001b[0m \u001b[1m4s\u001b[0m 11ms/step - accuracy: 0.9235 - loss: 0.2044 - val_accuracy: 0.8962 - val_loss: 0.3005\n",
            "Epoch 67/100\n",
            "\u001b[1m176/176\u001b[0m \u001b[32m━━━━━━━━━━━━━━━━━━━━\u001b[0m\u001b[37m\u001b[0m \u001b[1m3s\u001b[0m 13ms/step - accuracy: 0.9222 - loss: 0.2062 - val_accuracy: 0.8983 - val_loss: 0.3054\n",
            "Epoch 68/100\n",
            "\u001b[1m176/176\u001b[0m \u001b[32m━━━━━━━━━━━━━━━━━━━━\u001b[0m\u001b[37m\u001b[0m \u001b[1m2s\u001b[0m 12ms/step - accuracy: 0.9240 - loss: 0.2054 - val_accuracy: 0.8958 - val_loss: 0.3042\n",
            "Epoch 69/100\n",
            "\u001b[1m176/176\u001b[0m \u001b[32m━━━━━━━━━━━━━━━━━━━━\u001b[0m\u001b[37m\u001b[0m \u001b[1m3s\u001b[0m 14ms/step - accuracy: 0.9204 - loss: 0.2070 - val_accuracy: 0.8957 - val_loss: 0.3117\n",
            "Epoch 70/100\n",
            "\u001b[1m176/176\u001b[0m \u001b[32m━━━━━━━━━━━━━━━━━━━━\u001b[0m\u001b[37m\u001b[0m \u001b[1m5s\u001b[0m 11ms/step - accuracy: 0.9229 - loss: 0.2021 - val_accuracy: 0.8969 - val_loss: 0.3037\n",
            "Epoch 71/100\n",
            "\u001b[1m176/176\u001b[0m \u001b[32m━━━━━━━━━━━━━━━━━━━━\u001b[0m\u001b[37m\u001b[0m \u001b[1m3s\u001b[0m 11ms/step - accuracy: 0.9234 - loss: 0.2043 - val_accuracy: 0.8977 - val_loss: 0.3095\n",
            "Epoch 72/100\n",
            "\u001b[1m176/176\u001b[0m \u001b[32m━━━━━━━━━━━━━━━━━━━━\u001b[0m\u001b[37m\u001b[0m \u001b[1m3s\u001b[0m 11ms/step - accuracy: 0.9219 - loss: 0.2049 - val_accuracy: 0.8991 - val_loss: 0.3090\n",
            "Epoch 73/100\n",
            "\u001b[1m176/176\u001b[0m \u001b[32m━━━━━━━━━━━━━━━━━━━━\u001b[0m\u001b[37m\u001b[0m \u001b[1m3s\u001b[0m 16ms/step - accuracy: 0.9221 - loss: 0.1993 - val_accuracy: 0.8966 - val_loss: 0.3128\n",
            "Epoch 74/100\n",
            "\u001b[1m176/176\u001b[0m \u001b[32m━━━━━━━━━━━━━━━━━━━━\u001b[0m\u001b[37m\u001b[0m \u001b[1m4s\u001b[0m 11ms/step - accuracy: 0.9246 - loss: 0.2014 - val_accuracy: 0.8962 - val_loss: 0.3150\n",
            "Epoch 75/100\n",
            "\u001b[1m176/176\u001b[0m \u001b[32m━━━━━━━━━━━━━━━━━━━━\u001b[0m\u001b[37m\u001b[0m \u001b[1m2s\u001b[0m 11ms/step - accuracy: 0.9210 - loss: 0.2062 - val_accuracy: 0.8962 - val_loss: 0.3148\n",
            "Epoch 76/100\n",
            "\u001b[1m176/176\u001b[0m \u001b[32m━━━━━━━━━━━━━━━━━━━━\u001b[0m\u001b[37m\u001b[0m \u001b[1m3s\u001b[0m 11ms/step - accuracy: 0.9245 - loss: 0.2008 - val_accuracy: 0.8962 - val_loss: 0.3188\n",
            "Epoch 77/100\n",
            "\u001b[1m176/176\u001b[0m \u001b[32m━━━━━━━━━━━━━━━━━━━━\u001b[0m\u001b[37m\u001b[0m \u001b[1m3s\u001b[0m 13ms/step - accuracy: 0.9265 - loss: 0.1960 - val_accuracy: 0.8983 - val_loss: 0.3046\n",
            "Epoch 78/100\n",
            "\u001b[1m176/176\u001b[0m \u001b[32m━━━━━━━━━━━━━━━━━━━━\u001b[0m\u001b[37m\u001b[0m \u001b[1m3s\u001b[0m 16ms/step - accuracy: 0.9245 - loss: 0.2006 - val_accuracy: 0.8961 - val_loss: 0.3094\n",
            "Epoch 79/100\n",
            "\u001b[1m176/176\u001b[0m \u001b[32m━━━━━━━━━━━━━━━━━━━━\u001b[0m\u001b[37m\u001b[0m \u001b[1m4s\u001b[0m 12ms/step - accuracy: 0.9252 - loss: 0.2025 - val_accuracy: 0.8970 - val_loss: 0.3230\n",
            "Epoch 80/100\n",
            "\u001b[1m176/176\u001b[0m \u001b[32m━━━━━━━━━━━━━━━━━━━━\u001b[0m\u001b[37m\u001b[0m \u001b[1m2s\u001b[0m 11ms/step - accuracy: 0.9250 - loss: 0.2023 - val_accuracy: 0.8963 - val_loss: 0.3246\n",
            "Epoch 81/100\n",
            "\u001b[1m176/176\u001b[0m \u001b[32m━━━━━━━━━━━━━━━━━━━━\u001b[0m\u001b[37m\u001b[0m \u001b[1m2s\u001b[0m 12ms/step - accuracy: 0.9250 - loss: 0.2019 - val_accuracy: 0.8963 - val_loss: 0.3085\n",
            "Epoch 82/100\n",
            "\u001b[1m176/176\u001b[0m \u001b[32m━━━━━━━━━━━━━━━━━━━━\u001b[0m\u001b[37m\u001b[0m \u001b[1m3s\u001b[0m 16ms/step - accuracy: 0.9237 - loss: 0.2030 - val_accuracy: 0.8977 - val_loss: 0.3093\n",
            "Epoch 83/100\n",
            "\u001b[1m176/176\u001b[0m \u001b[32m━━━━━━━━━━━━━━━━━━━━\u001b[0m\u001b[37m\u001b[0m \u001b[1m5s\u001b[0m 12ms/step - accuracy: 0.9243 - loss: 0.1983 - val_accuracy: 0.8991 - val_loss: 0.3132\n",
            "Epoch 84/100\n",
            "\u001b[1m176/176\u001b[0m \u001b[32m━━━━━━━━━━━━━━━━━━━━\u001b[0m\u001b[37m\u001b[0m \u001b[1m3s\u001b[0m 12ms/step - accuracy: 0.9224 - loss: 0.2002 - val_accuracy: 0.9000 - val_loss: 0.3063\n",
            "Epoch 85/100\n",
            "\u001b[1m176/176\u001b[0m \u001b[32m━━━━━━━━━━━━━━━━━━━━\u001b[0m\u001b[37m\u001b[0m \u001b[1m2s\u001b[0m 12ms/step - accuracy: 0.9269 - loss: 0.1942 - val_accuracy: 0.8989 - val_loss: 0.3172\n",
            "Epoch 86/100\n",
            "\u001b[1m176/176\u001b[0m \u001b[32m━━━━━━━━━━━━━━━━━━━━\u001b[0m\u001b[37m\u001b[0m \u001b[1m3s\u001b[0m 13ms/step - accuracy: 0.9261 - loss: 0.1954 - val_accuracy: 0.9007 - val_loss: 0.3042\n",
            "Epoch 87/100\n",
            "\u001b[1m176/176\u001b[0m \u001b[32m━━━━━━━━━━━━━━━━━━━━\u001b[0m\u001b[37m\u001b[0m \u001b[1m3s\u001b[0m 17ms/step - accuracy: 0.9250 - loss: 0.1959 - val_accuracy: 0.8991 - val_loss: 0.3127\n",
            "Epoch 88/100\n",
            "\u001b[1m176/176\u001b[0m \u001b[32m━━━━━━━━━━━━━━━━━━━━\u001b[0m\u001b[37m\u001b[0m \u001b[1m4s\u001b[0m 11ms/step - accuracy: 0.9273 - loss: 0.1909 - val_accuracy: 0.8999 - val_loss: 0.3086\n",
            "Epoch 89/100\n",
            "\u001b[1m176/176\u001b[0m \u001b[32m━━━━━━━━━━━━━━━━━━━━\u001b[0m\u001b[37m\u001b[0m \u001b[1m3s\u001b[0m 12ms/step - accuracy: 0.9281 - loss: 0.1915 - val_accuracy: 0.8980 - val_loss: 0.3116\n",
            "Epoch 90/100\n",
            "\u001b[1m176/176\u001b[0m \u001b[32m━━━━━━━━━━━━━━━━━━━━\u001b[0m\u001b[37m\u001b[0m \u001b[1m2s\u001b[0m 12ms/step - accuracy: 0.9294 - loss: 0.1865 - val_accuracy: 0.8993 - val_loss: 0.3094\n",
            "Epoch 91/100\n",
            "\u001b[1m176/176\u001b[0m \u001b[32m━━━━━━━━━━━━━━━━━━━━\u001b[0m\u001b[37m\u001b[0m \u001b[1m4s\u001b[0m 20ms/step - accuracy: 0.9265 - loss: 0.1921 - val_accuracy: 0.8975 - val_loss: 0.3094\n",
            "Epoch 92/100\n",
            "\u001b[1m176/176\u001b[0m \u001b[32m━━━━━━━━━━━━━━━━━━━━\u001b[0m\u001b[37m\u001b[0m \u001b[1m4s\u001b[0m 12ms/step - accuracy: 0.9265 - loss: 0.1930 - val_accuracy: 0.9000 - val_loss: 0.3099\n",
            "Epoch 93/100\n",
            "\u001b[1m176/176\u001b[0m \u001b[32m━━━━━━━━━━━━━━━━━━━━\u001b[0m\u001b[37m\u001b[0m \u001b[1m3s\u001b[0m 12ms/step - accuracy: 0.9264 - loss: 0.1946 - val_accuracy: 0.9006 - val_loss: 0.3127\n",
            "Epoch 94/100\n",
            "\u001b[1m176/176\u001b[0m \u001b[32m━━━━━━━━━━━━━━━━━━━━\u001b[0m\u001b[37m\u001b[0m \u001b[1m2s\u001b[0m 12ms/step - accuracy: 0.9290 - loss: 0.1865 - val_accuracy: 0.8982 - val_loss: 0.3125\n",
            "Epoch 95/100\n",
            "\u001b[1m176/176\u001b[0m \u001b[32m━━━━━━━━━━━━━━━━━━━━\u001b[0m\u001b[37m\u001b[0m \u001b[1m3s\u001b[0m 17ms/step - accuracy: 0.9310 - loss: 0.1828 - val_accuracy: 0.8969 - val_loss: 0.3107\n",
            "Epoch 96/100\n",
            "\u001b[1m176/176\u001b[0m \u001b[32m━━━━━━━━━━━━━━━━━━━━\u001b[0m\u001b[37m\u001b[0m \u001b[1m4s\u001b[0m 13ms/step - accuracy: 0.9260 - loss: 0.1990 - val_accuracy: 0.8981 - val_loss: 0.3143\n",
            "Epoch 97/100\n",
            "\u001b[1m176/176\u001b[0m \u001b[32m━━━━━━━━━━━━━━━━━━━━\u001b[0m\u001b[37m\u001b[0m \u001b[1m2s\u001b[0m 11ms/step - accuracy: 0.9288 - loss: 0.1877 - val_accuracy: 0.8988 - val_loss: 0.3102\n",
            "Epoch 98/100\n",
            "\u001b[1m176/176\u001b[0m \u001b[32m━━━━━━━━━━━━━━━━━━━━\u001b[0m\u001b[37m\u001b[0m \u001b[1m2s\u001b[0m 12ms/step - accuracy: 0.9325 - loss: 0.1849 - val_accuracy: 0.8979 - val_loss: 0.3139\n",
            "Epoch 99/100\n",
            "\u001b[1m176/176\u001b[0m \u001b[32m━━━━━━━━━━━━━━━━━━━━\u001b[0m\u001b[37m\u001b[0m \u001b[1m2s\u001b[0m 12ms/step - accuracy: 0.9287 - loss: 0.1859 - val_accuracy: 0.8965 - val_loss: 0.3224\n",
            "Epoch 100/100\n",
            "\u001b[1m176/176\u001b[0m \u001b[32m━━━━━━━━━━━━━━━━━━━━\u001b[0m\u001b[37m\u001b[0m \u001b[1m3s\u001b[0m 19ms/step - accuracy: 0.9286 - loss: 0.1857 - val_accuracy: 0.8965 - val_loss: 0.3199\n"
          ]
        }
      ]
    },
    {
      "cell_type": "code",
      "source": [
        "# 위의 결과를 그래프로 그려보자!!!\n",
        "plt.subplot(1,2,1) # loss\n",
        "\n",
        "plt.plot(history2.history[\"loss\"], \"b-\", label=\"train_loss\")\n",
        "plt.plot(history2.history[\"val_loss\"], \"r-\", label=\"val_loss\")\n",
        "plt.xlabel(\"Epoch\")\n",
        "plt.legend()\n",
        "\n",
        "plt.subplot(1,2,2) # metrics : accuracy\n",
        "plt.plot(history2.history[\"accuracy\"], \"b-\", label=\"train_accuracy\")\n",
        "plt.plot(history2.history[\"val_accuracy\"], \"r-\", label=\"val_accuracy\")\n",
        "plt.xlabel(\"Epoch\")\n",
        "plt.legend()"
      ],
      "metadata": {
        "colab": {
          "base_uri": "https://localhost:8080/",
          "height": 467
        },
        "id": "fsTmxw8H3lfC",
        "outputId": "587cc66d-5b37-4f11-b471-673dd86c1caf"
      },
      "execution_count": 42,
      "outputs": [
        {
          "output_type": "execute_result",
          "data": {
            "text/plain": [
              "<matplotlib.legend.Legend at 0x7bd0e3981e10>"
            ]
          },
          "metadata": {},
          "execution_count": 42
        },
        {
          "output_type": "display_data",
          "data": {
            "text/plain": [
              "<Figure size 640x480 with 2 Axes>"
            ],
            "image/png": "[encoded data removed]"
          },
          "metadata": {}
        }
      ]
    },
    {
      "cell_type": "code",
      "source": [
        "model2.evaluate(test_X,tf.keras.utils.to_categorical(test_y))"
      ],
      "metadata": {
        "colab": {
          "base_uri": "https://localhost:8080/"
        },
        "id": "GrWZMWUr3mWU",
        "outputId": "0fb547fd-e78c-4e9e-d73a-eef333ba9429"
      },
      "execution_count": 43,
      "outputs": [
        {
          "output_type": "stream",
          "name": "stdout",
          "text": [
            "\u001b[1m313/313\u001b[0m \u001b[32m━━━━━━━━━━━━━━━━━━━━\u001b[0m\u001b[37m\u001b[0m \u001b[1m1s\u001b[0m 2ms/step - accuracy: 0.8915 - loss: 0.3497\n"
          ]
        },
        {
          "output_type": "execute_result",
          "data": {
            "text/plain": [
              "[0.34277403354644775, 0.8935999870300293]"
            ]
          },
          "metadata": {},
          "execution_count": 43
        }
      ]
    },
    {
      "cell_type": "code",
      "source": [
        "# **** 기본적으로 모델의 구조 & 모델의 구적적인 설정\n",
        "# ==> 학습의 방향성이나 성능을 좌우하게 된다!!!!!!!!!"
      ],
      "metadata": {
        "id": "7pJV1RyX4XyB"
      },
      "execution_count": null,
      "outputs": []
    },
    {
      "cell_type": "code",
      "source": [],
      "metadata": {
        "id": "CMxQ6Yw2-Vab"
      },
      "execution_count": null,
      "outputs": []
    },
    {
      "cell_type": "code",
      "source": [
        "#모델 저장\n",
        "import os\n",
        "# 1. 모델의 구조(설계도)\n",
        "# 2. 내부의 가중치 값\n"
      ],
      "metadata": {
        "id": "x2Th_Uui-VgR"
      },
      "execution_count": 44,
      "outputs": []
    },
    {
      "cell_type": "code",
      "source": [
        "# ==> 학습하는 과정에서 모델별로 weights 저장을 하고 싶다!!!!\n",
        "# 1) callback : 학습 과정의 epoch가 끝나면,,,그 때의 모델을 저장하고 싶다.\n",
        "#               ==> 과거의 적당한 epoch 들을 불러와서 사용하고 싶을 때...\n",
        "checkpoint_path = \"training2/cp-{epoch:04d}.weights.h5\" # --> cp에 대한 메뉴얼 참고 : 파일명 뒤에.\n",
        "checkpoint_dir  = os.path.dirname(checkpoint_path)\n",
        "# ==> 각 epoch 마다 저장할 폴더 경로 & 저장할 파일명 양식\n",
        "\n",
        "# -- callback 에 대한 세팅!!!!\n",
        "cp_callback = tf.keras.callbacks.ModelCheckpoint(\n",
        "    checkpoint_path,\n",
        "    verbose = 1,\n",
        "    save_weights_only = True\n",
        "    #save_best_only=True  # 이건 베스트에 기준이 모호하므로 일단 다 저장하는게 방법 , 숫자와 괴리가 크다\n",
        ") # --> CP에 대한 원하는 저장에 대한 옵션들을 지정할 수 있음!!!!!\n",
        "# --> 매 번 epoch마다 모델의 weights만 저장하도록 한 것!!!#\n",
        "\n",
        "\n",
        "# 2) callback : 모델을 학습 하는 과정에서 중간에 때려칠 용기를 부여!!!\n",
        "#                earlystopping\n",
        "#    ==> 무엇을 기준으로 때려칠 것인가!!!!!!!! ( 꼭은 아니지만, 주로 val )\n",
        "#    ==> 몇 번의 기회를 줄 것인가!!!!!!!\n",
        "es_callback = tf.keras.callbacks.EarlyStopping(\n",
        "    monitor=\"val_loss\",\n",
        "    patience = 5\n",
        ") # -- 예 : val_loss를 기준을 삼아서,,,5번까지 내에서 더이상의 0.00000001이라도 개선이 없으면\n",
        "# epoch 아무리 많이 남아 있어도,,,더이상의 학습의 개선은 없다고 판단해서 때려치겠다!!!!"
      ],
      "metadata": {
        "id": "IJXcGM8a-x_T"
      },
      "execution_count": 52,
      "outputs": []
    },
    {
      "cell_type": "code",
      "source": [
        "model2=tf.keras.Sequential(   #설계도\n",
        "    [\n",
        "        tf.keras.layers.Flatten(input_shape=(28,28)),  # 쌓는 순서 입력 -> 출력 , 차원변경 2D -> 1D + input layer ( 입력층 )\n",
        "\n",
        "        tf.keras.layers.Dropout(0.1) , # 드롭 아웃 ,  10% 제거\n",
        "\n",
        "        tf.keras.layers.Dense(units=128, activation=\"relu\"),  # 은닉층  : 일반적인 Dense -> 128개 노드 , AF : relu\n",
        "        tf.keras.layers.Dropout(0.1) , # 드롭 아웃 ,  10% 제거\n",
        "        tf.keras.layers.Dense(units=64, activation=\"relu\"),\n",
        "        tf.keras.layers.Dropout(0.1) , # 드롭 아웃 ,  10% 제거\n",
        "        tf.keras.layers.Dense(units=32, activation=\"relu\"), # 은닉층 3개로 수정 , 은닉층 노드 수 128->64->32 줄여나가볼게 (정답없음), 다 병렬로 해봐도 되고 실험임 다\n",
        "\n",
        "        tf.keras.layers.Dropout(0.1) , # 드롭 아웃 ,  10% 제거\n",
        "\n",
        "        tf.keras.layers.Dense(units=10, activation=\"softmax\")       #출력층 : 모델의 목적 : 10개 분류\n",
        "    ]\n",
        ")\n",
        "\n",
        "# 이 모델에 대한 10만개의 가중치들을 어떻게 찾고, 학습할까\n",
        "model2.compile(\n",
        "    loss=\"categorical_crossentropy\", #손실함수 , 정답은 one hot encoding 으로 해야함\n",
        "    optimizer=\"adam\", # or tf.keras.optimizers.Adam()\n",
        "    metrics=[\"accuracy\"] # 모니터링에 대한 지표\n",
        "\n",
        "    )\n",
        "\n",
        "\n",
        "#모델 학습\n",
        "history2 = model2.fit(\n",
        "    train_X, # 문제지\n",
        "    tf.keras.utils.to_categorical(train_y,num_classes=10), # 이렇게 one hot encoding , 정답지  or 손실함수에 sparse 붙이거나 (모양 맞추기)\n",
        "    epochs=100 ,# 많이 돌리면 train  성능은 무조건 올라가지만. 과적합 가능성\n",
        "    batch_size=256 ,# HW spec  GPU의 RAM 과 연관 -> 176/176 이 숫자와 연관\n",
        "    validation_split=0.25, # 옵션\n",
        "\n",
        "\n",
        "    #callbacks !!!!!!!!!!!!!!!!!!!!!!!!!!!!\n",
        "    #  사전에 원하는 callbacks에 대하여 세팅\n",
        "    callbacks=[es_callback , cp_callback]\n",
        "\n",
        ")"
      ],
      "metadata": {
        "colab": {
          "base_uri": "https://localhost:8080/"
        },
        "id": "DXy2YDc7BOyi",
        "outputId": "30d9f7ca-4f59-4de5-aa88-a71fa4db420d"
      },
      "execution_count": 53,
      "outputs": [
        {
          "output_type": "stream",
          "name": "stderr",
          "text": [
            "/usr/local/lib/python3.10/dist-packages/keras/src/layers/reshaping/flatten.py:37: UserWarning: Do not pass an `input_shape`/`input_dim` argument to a layer. When using Sequential models, prefer using an `Input(shape)` object as the first layer in the model instead.\n",
            "  super().__init__(**kwargs)\n"
          ]
        },
        {
          "output_type": "stream",
          "name": "stdout",
          "text": [
            "Epoch 1/100\n",
            "\u001b[1m176/176\u001b[0m \u001b[32m━━━━━━━━━━━━━━━━━━━━\u001b[0m\u001b[37m\u001b[0m \u001b[1m0s\u001b[0m 15ms/step - accuracy: 0.5618 - loss: 1.2494\n",
            "Epoch 1: saving model to training2/cp-0001.weights.h5\n",
            "\u001b[1m176/176\u001b[0m \u001b[32m━━━━━━━━━━━━━━━━━━━━\u001b[0m\u001b[37m\u001b[0m \u001b[1m5s\u001b[0m 19ms/step - accuracy: 0.5625 - loss: 1.2474 - val_accuracy: 0.8245 - val_loss: 0.5051\n",
            "Epoch 2/100\n",
            "\u001b[1m173/176\u001b[0m \u001b[32m━━━━━━━━━━━━━━━━━━━\u001b[0m\u001b[37m━\u001b[0m \u001b[1m0s\u001b[0m 9ms/step - accuracy: 0.8065 - loss: 0.5636\n",
            "Epoch 2: saving model to training2/cp-0002.weights.h5\n",
            "\u001b[1m176/176\u001b[0m \u001b[32m━━━━━━━━━━━━━━━━━━━━\u001b[0m\u001b[37m\u001b[0m \u001b[1m2s\u001b[0m 11ms/step - accuracy: 0.8067 - loss: 0.5630 - val_accuracy: 0.8489 - val_loss: 0.4215\n",
            "Epoch 3/100\n",
            "\u001b[1m175/176\u001b[0m \u001b[32m━━━━━━━━━━━━━━━━━━━\u001b[0m\u001b[37m━\u001b[0m \u001b[1m0s\u001b[0m 9ms/step - accuracy: 0.8344 - loss: 0.4728\n",
            "Epoch 3: saving model to training2/cp-0003.weights.h5\n",
            "\u001b[1m176/176\u001b[0m \u001b[32m━━━━━━━━━━━━━━━━━━━━\u001b[0m\u001b[37m\u001b[0m \u001b[1m2s\u001b[0m 11ms/step - accuracy: 0.8344 - loss: 0.4727 - val_accuracy: 0.8585 - val_loss: 0.3912\n",
            "Epoch 4/100\n",
            "\u001b[1m175/176\u001b[0m \u001b[32m━━━━━━━━━━━━━━━━━━━\u001b[0m\u001b[37m━\u001b[0m \u001b[1m0s\u001b[0m 11ms/step - accuracy: 0.8444 - loss: 0.4393\n",
            "Epoch 4: saving model to training2/cp-0004.weights.h5\n",
            "\u001b[1m176/176\u001b[0m \u001b[32m━━━━━━━━━━━━━━━━━━━━\u001b[0m\u001b[37m\u001b[0m \u001b[1m3s\u001b[0m 13ms/step - accuracy: 0.8444 - loss: 0.4393 - val_accuracy: 0.8663 - val_loss: 0.3782\n",
            "Epoch 5/100\n",
            "\u001b[1m175/176\u001b[0m \u001b[32m━━━━━━━━━━━━━━━━━━━\u001b[0m\u001b[37m━\u001b[0m \u001b[1m0s\u001b[0m 10ms/step - accuracy: 0.8561 - loss: 0.4135\n",
            "Epoch 5: saving model to training2/cp-0005.weights.h5\n",
            "\u001b[1m176/176\u001b[0m \u001b[32m━━━━━━━━━━━━━━━━━━━━\u001b[0m\u001b[37m\u001b[0m \u001b[1m2s\u001b[0m 11ms/step - accuracy: 0.8561 - loss: 0.4135 - val_accuracy: 0.8718 - val_loss: 0.3569\n",
            "Epoch 6/100\n",
            "\u001b[1m174/176\u001b[0m \u001b[32m━━━━━━━━━━━━━━━━━━━\u001b[0m\u001b[37m━\u001b[0m \u001b[1m0s\u001b[0m 15ms/step - accuracy: 0.8600 - loss: 0.3889\n",
            "Epoch 6: saving model to training2/cp-0006.weights.h5\n",
            "\u001b[1m176/176\u001b[0m \u001b[32m━━━━━━━━━━━━━━━━━━━━\u001b[0m\u001b[37m\u001b[0m \u001b[1m4s\u001b[0m 17ms/step - accuracy: 0.8600 - loss: 0.3890 - val_accuracy: 0.8766 - val_loss: 0.3463\n",
            "Epoch 7/100\n",
            "\u001b[1m172/176\u001b[0m \u001b[32m━━━━━━━━━━━━━━━━━━━\u001b[0m\u001b[37m━\u001b[0m \u001b[1m0s\u001b[0m 12ms/step - accuracy: 0.8659 - loss: 0.3717\n",
            "Epoch 7: saving model to training2/cp-0007.weights.h5\n",
            "\u001b[1m176/176\u001b[0m \u001b[32m━━━━━━━━━━━━━━━━━━━━\u001b[0m\u001b[37m\u001b[0m \u001b[1m2s\u001b[0m 13ms/step - accuracy: 0.8659 - loss: 0.3718 - val_accuracy: 0.8755 - val_loss: 0.3462\n",
            "Epoch 8/100\n",
            "\u001b[1m173/176\u001b[0m \u001b[32m━━━━━━━━━━━━━━━━━━━\u001b[0m\u001b[37m━\u001b[0m \u001b[1m0s\u001b[0m 9ms/step - accuracy: 0.8702 - loss: 0.3684\n",
            "Epoch 8: saving model to training2/cp-0008.weights.h5\n",
            "\u001b[1m176/176\u001b[0m \u001b[32m━━━━━━━━━━━━━━━━━━━━\u001b[0m\u001b[37m\u001b[0m \u001b[1m2s\u001b[0m 10ms/step - accuracy: 0.8702 - loss: 0.3683 - val_accuracy: 0.8759 - val_loss: 0.3507\n",
            "Epoch 9/100\n",
            "\u001b[1m173/176\u001b[0m \u001b[32m━━━━━━━━━━━━━━━━━━━\u001b[0m\u001b[37m━\u001b[0m \u001b[1m0s\u001b[0m 9ms/step - accuracy: 0.8729 - loss: 0.3513\n",
            "Epoch 9: saving model to training2/cp-0009.weights.h5\n",
            "\u001b[1m176/176\u001b[0m \u001b[32m━━━━━━━━━━━━━━━━━━━━\u001b[0m\u001b[37m\u001b[0m \u001b[1m3s\u001b[0m 10ms/step - accuracy: 0.8729 - loss: 0.3513 - val_accuracy: 0.8815 - val_loss: 0.3336\n",
            "Epoch 10/100\n",
            "\u001b[1m174/176\u001b[0m \u001b[32m━━━━━━━━━━━━━━━━━━━\u001b[0m\u001b[37m━\u001b[0m \u001b[1m0s\u001b[0m 10ms/step - accuracy: 0.8771 - loss: 0.3410\n",
            "Epoch 10: saving model to training2/cp-0010.weights.h5\n",
            "\u001b[1m176/176\u001b[0m \u001b[32m━━━━━━━━━━━━━━━━━━━━\u001b[0m\u001b[37m\u001b[0m \u001b[1m2s\u001b[0m 12ms/step - accuracy: 0.8771 - loss: 0.3410 - val_accuracy: 0.8815 - val_loss: 0.3287\n",
            "Epoch 11/100\n",
            "\u001b[1m175/176\u001b[0m \u001b[32m━━━━━━━━━━━━━━━━━━━\u001b[0m\u001b[37m━\u001b[0m \u001b[1m0s\u001b[0m 12ms/step - accuracy: 0.8776 - loss: 0.3360\n",
            "Epoch 11: saving model to training2/cp-0011.weights.h5\n",
            "\u001b[1m176/176\u001b[0m \u001b[32m━━━━━━━━━━━━━━━━━━━━\u001b[0m\u001b[37m\u001b[0m \u001b[1m3s\u001b[0m 16ms/step - accuracy: 0.8776 - loss: 0.3361 - val_accuracy: 0.8770 - val_loss: 0.3427\n",
            "Epoch 12/100\n",
            "\u001b[1m171/176\u001b[0m \u001b[32m━━━━━━━━━━━━━━━━━━━\u001b[0m\u001b[37m━\u001b[0m \u001b[1m0s\u001b[0m 14ms/step - accuracy: 0.8810 - loss: 0.3280\n",
            "Epoch 12: saving model to training2/cp-0012.weights.h5\n",
            "\u001b[1m176/176\u001b[0m \u001b[32m━━━━━━━━━━━━━━━━━━━━\u001b[0m\u001b[37m\u001b[0m \u001b[1m3s\u001b[0m 15ms/step - accuracy: 0.8809 - loss: 0.3280 - val_accuracy: 0.8866 - val_loss: 0.3195\n",
            "Epoch 13/100\n",
            "\u001b[1m175/176\u001b[0m \u001b[32m━━━━━━━━━━━━━━━━━━━\u001b[0m\u001b[37m━\u001b[0m \u001b[1m0s\u001b[0m 9ms/step - accuracy: 0.8852 - loss: 0.3184\n",
            "Epoch 13: saving model to training2/cp-0013.weights.h5\n",
            "\u001b[1m176/176\u001b[0m \u001b[32m━━━━━━━━━━━━━━━━━━━━\u001b[0m\u001b[37m\u001b[0m \u001b[1m2s\u001b[0m 10ms/step - accuracy: 0.8851 - loss: 0.3184 - val_accuracy: 0.8851 - val_loss: 0.3200\n",
            "Epoch 14/100\n",
            "\u001b[1m174/176\u001b[0m \u001b[32m━━━━━━━━━━━━━━━━━━━\u001b[0m\u001b[37m━\u001b[0m \u001b[1m0s\u001b[0m 10ms/step - accuracy: 0.8841 - loss: 0.3160\n",
            "Epoch 14: saving model to training2/cp-0014.weights.h5\n",
            "\u001b[1m176/176\u001b[0m \u001b[32m━━━━━━━━━━━━━━━━━━━━\u001b[0m\u001b[37m\u001b[0m \u001b[1m3s\u001b[0m 12ms/step - accuracy: 0.8842 - loss: 0.3159 - val_accuracy: 0.8850 - val_loss: 0.3193\n",
            "Epoch 15/100\n",
            "\u001b[1m172/176\u001b[0m \u001b[32m━━━━━━━━━━━━━━━━━━━\u001b[0m\u001b[37m━\u001b[0m \u001b[1m0s\u001b[0m 10ms/step - accuracy: 0.8866 - loss: 0.3062\n",
            "Epoch 15: saving model to training2/cp-0015.weights.h5\n",
            "\u001b[1m176/176\u001b[0m \u001b[32m━━━━━━━━━━━━━━━━━━━━\u001b[0m\u001b[37m\u001b[0m \u001b[1m2s\u001b[0m 11ms/step - accuracy: 0.8866 - loss: 0.3063 - val_accuracy: 0.8865 - val_loss: 0.3158\n",
            "Epoch 16/100\n",
            "\u001b[1m175/176\u001b[0m \u001b[32m━━━━━━━━━━━━━━━━━━━\u001b[0m\u001b[37m━\u001b[0m \u001b[1m0s\u001b[0m 10ms/step - accuracy: 0.8883 - loss: 0.2980\n",
            "Epoch 16: saving model to training2/cp-0016.weights.h5\n",
            "\u001b[1m176/176\u001b[0m \u001b[32m━━━━━━━━━━━━━━━━━━━━\u001b[0m\u001b[37m\u001b[0m \u001b[1m3s\u001b[0m 12ms/step - accuracy: 0.8883 - loss: 0.2980 - val_accuracy: 0.8887 - val_loss: 0.3098\n",
            "Epoch 17/100\n",
            "\u001b[1m176/176\u001b[0m \u001b[32m━━━━━━━━━━━━━━━━━━━━\u001b[0m\u001b[37m\u001b[0m \u001b[1m0s\u001b[0m 16ms/step - accuracy: 0.8907 - loss: 0.3003\n",
            "Epoch 17: saving model to training2/cp-0017.weights.h5\n",
            "\u001b[1m176/176\u001b[0m \u001b[32m━━━━━━━━━━━━━━━━━━━━\u001b[0m\u001b[37m\u001b[0m \u001b[1m3s\u001b[0m 18ms/step - accuracy: 0.8907 - loss: 0.3003 - val_accuracy: 0.8871 - val_loss: 0.3137\n",
            "Epoch 18/100\n",
            "\u001b[1m172/176\u001b[0m \u001b[32m━━━━━━━━━━━━━━━━━━━\u001b[0m\u001b[37m━\u001b[0m \u001b[1m0s\u001b[0m 11ms/step - accuracy: 0.8876 - loss: 0.3019\n",
            "Epoch 18: saving model to training2/cp-0018.weights.h5\n",
            "\u001b[1m176/176\u001b[0m \u001b[32m━━━━━━━━━━━━━━━━━━━━\u001b[0m\u001b[37m\u001b[0m \u001b[1m2s\u001b[0m 12ms/step - accuracy: 0.8877 - loss: 0.3017 - val_accuracy: 0.8867 - val_loss: 0.3152\n",
            "Epoch 19/100\n",
            "\u001b[1m176/176\u001b[0m \u001b[32m━━━━━━━━━━━━━━━━━━━━\u001b[0m\u001b[37m\u001b[0m \u001b[1m0s\u001b[0m 9ms/step - accuracy: 0.8951 - loss: 0.2861\n",
            "Epoch 19: saving model to training2/cp-0019.weights.h5\n",
            "\u001b[1m176/176\u001b[0m \u001b[32m━━━━━━━━━━━━━━━━━━━━\u001b[0m\u001b[37m\u001b[0m \u001b[1m2s\u001b[0m 10ms/step - accuracy: 0.8951 - loss: 0.2861 - val_accuracy: 0.8911 - val_loss: 0.3054\n",
            "Epoch 20/100\n",
            "\u001b[1m172/176\u001b[0m \u001b[32m━━━━━━━━━━━━━━━━━━━\u001b[0m\u001b[37m━\u001b[0m \u001b[1m0s\u001b[0m 10ms/step - accuracy: 0.8921 - loss: 0.2923\n",
            "Epoch 20: saving model to training2/cp-0020.weights.h5\n",
            "\u001b[1m176/176\u001b[0m \u001b[32m━━━━━━━━━━━━━━━━━━━━\u001b[0m\u001b[37m\u001b[0m \u001b[1m3s\u001b[0m 11ms/step - accuracy: 0.8921 - loss: 0.2921 - val_accuracy: 0.8911 - val_loss: 0.3032\n",
            "Epoch 21/100\n",
            "\u001b[1m174/176\u001b[0m \u001b[32m━━━━━━━━━━━━━━━━━━━\u001b[0m\u001b[37m━\u001b[0m \u001b[1m0s\u001b[0m 10ms/step - accuracy: 0.8962 - loss: 0.2778\n",
            "Epoch 21: saving model to training2/cp-0021.weights.h5\n",
            "\u001b[1m176/176\u001b[0m \u001b[32m━━━━━━━━━━━━━━━━━━━━\u001b[0m\u001b[37m\u001b[0m \u001b[1m3s\u001b[0m 12ms/step - accuracy: 0.8962 - loss: 0.2779 - val_accuracy: 0.8885 - val_loss: 0.3065\n",
            "Epoch 22/100\n",
            "\u001b[1m173/176\u001b[0m \u001b[32m━━━━━━━━━━━━━━━━━━━\u001b[0m\u001b[37m━\u001b[0m \u001b[1m0s\u001b[0m 13ms/step - accuracy: 0.8981 - loss: 0.2768\n",
            "Epoch 22: saving model to training2/cp-0022.weights.h5\n",
            "\u001b[1m176/176\u001b[0m \u001b[32m━━━━━━━━━━━━━━━━━━━━\u001b[0m\u001b[37m\u001b[0m \u001b[1m3s\u001b[0m 16ms/step - accuracy: 0.8981 - loss: 0.2769 - val_accuracy: 0.8887 - val_loss: 0.3056\n",
            "Epoch 23/100\n",
            "\u001b[1m173/176\u001b[0m \u001b[32m━━━━━━━━━━━━━━━━━━━\u001b[0m\u001b[37m━\u001b[0m \u001b[1m0s\u001b[0m 12ms/step - accuracy: 0.8987 - loss: 0.2739\n",
            "Epoch 23: saving model to training2/cp-0023.weights.h5\n",
            "\u001b[1m176/176\u001b[0m \u001b[32m━━━━━━━━━━━━━━━━━━━━\u001b[0m\u001b[37m\u001b[0m \u001b[1m2s\u001b[0m 13ms/step - accuracy: 0.8987 - loss: 0.2739 - val_accuracy: 0.8915 - val_loss: 0.2975\n",
            "Epoch 24/100\n",
            "\u001b[1m173/176\u001b[0m \u001b[32m━━━━━━━━━━━━━━━━━━━\u001b[0m\u001b[37m━\u001b[0m \u001b[1m0s\u001b[0m 10ms/step - accuracy: 0.8973 - loss: 0.2741\n",
            "Epoch 24: saving model to training2/cp-0024.weights.h5\n",
            "\u001b[1m176/176\u001b[0m \u001b[32m━━━━━━━━━━━━━━━━━━━━\u001b[0m\u001b[37m\u001b[0m \u001b[1m2s\u001b[0m 12ms/step - accuracy: 0.8973 - loss: 0.2741 - val_accuracy: 0.8903 - val_loss: 0.3030\n",
            "Epoch 25/100\n",
            "\u001b[1m171/176\u001b[0m \u001b[32m━━━━━━━━━━━━━━━━━━━\u001b[0m\u001b[37m━\u001b[0m \u001b[1m0s\u001b[0m 9ms/step - accuracy: 0.8947 - loss: 0.2790\n",
            "Epoch 25: saving model to training2/cp-0025.weights.h5\n",
            "\u001b[1m176/176\u001b[0m \u001b[32m━━━━━━━━━━━━━━━━━━━━\u001b[0m\u001b[37m\u001b[0m \u001b[1m2s\u001b[0m 10ms/step - accuracy: 0.8948 - loss: 0.2788 - val_accuracy: 0.8911 - val_loss: 0.3048\n",
            "Epoch 26/100\n",
            "\u001b[1m172/176\u001b[0m \u001b[32m━━━━━━━━━━━━━━━━━━━\u001b[0m\u001b[37m━\u001b[0m \u001b[1m0s\u001b[0m 9ms/step - accuracy: 0.9055 - loss: 0.2590\n",
            "Epoch 26: saving model to training2/cp-0026.weights.h5\n",
            "\u001b[1m176/176\u001b[0m \u001b[32m━━━━━━━━━━━━━━━━━━━━\u001b[0m\u001b[37m\u001b[0m \u001b[1m3s\u001b[0m 11ms/step - accuracy: 0.9054 - loss: 0.2593 - val_accuracy: 0.8937 - val_loss: 0.3009\n",
            "Epoch 27/100\n",
            "\u001b[1m175/176\u001b[0m \u001b[32m━━━━━━━━━━━━━━━━━━━\u001b[0m\u001b[37m━\u001b[0m \u001b[1m0s\u001b[0m 24ms/step - accuracy: 0.9037 - loss: 0.2568\n",
            "Epoch 27: saving model to training2/cp-0027.weights.h5\n",
            "\u001b[1m176/176\u001b[0m \u001b[32m━━━━━━━━━━━━━━━━━━━━\u001b[0m\u001b[37m\u001b[0m \u001b[1m6s\u001b[0m 29ms/step - accuracy: 0.9036 - loss: 0.2569 - val_accuracy: 0.8924 - val_loss: 0.2940\n",
            "Epoch 28/100\n",
            "\u001b[1m176/176\u001b[0m \u001b[32m━━━━━━━━━━━━━━━━━━━━\u001b[0m\u001b[37m\u001b[0m \u001b[1m0s\u001b[0m 11ms/step - accuracy: 0.9064 - loss: 0.2553\n",
            "Epoch 28: saving model to training2/cp-0028.weights.h5\n",
            "\u001b[1m176/176\u001b[0m \u001b[32m━━━━━━━━━━━━━━━━━━━━\u001b[0m\u001b[37m\u001b[0m \u001b[1m7s\u001b[0m 14ms/step - accuracy: 0.9064 - loss: 0.2553 - val_accuracy: 0.8960 - val_loss: 0.2936\n",
            "Epoch 29/100\n",
            "\u001b[1m176/176\u001b[0m \u001b[32m━━━━━━━━━━━━━━━━━━━━\u001b[0m\u001b[37m\u001b[0m \u001b[1m0s\u001b[0m 13ms/step - accuracy: 0.9027 - loss: 0.2587\n",
            "Epoch 29: saving model to training2/cp-0029.weights.h5\n",
            "\u001b[1m176/176\u001b[0m \u001b[32m━━━━━━━━━━━━━━━━━━━━\u001b[0m\u001b[37m\u001b[0m \u001b[1m3s\u001b[0m 18ms/step - accuracy: 0.9027 - loss: 0.2587 - val_accuracy: 0.8937 - val_loss: 0.2955\n",
            "Epoch 30/100\n",
            "\u001b[1m176/176\u001b[0m \u001b[32m━━━━━━━━━━━━━━━━━━━━\u001b[0m\u001b[37m\u001b[0m \u001b[1m0s\u001b[0m 13ms/step - accuracy: 0.9029 - loss: 0.2568\n",
            "Epoch 30: saving model to training2/cp-0030.weights.h5\n",
            "\u001b[1m176/176\u001b[0m \u001b[32m━━━━━━━━━━━━━━━━━━━━\u001b[0m\u001b[37m\u001b[0m \u001b[1m5s\u001b[0m 16ms/step - accuracy: 0.9029 - loss: 0.2568 - val_accuracy: 0.8944 - val_loss: 0.2933\n",
            "Epoch 31/100\n",
            "\u001b[1m174/176\u001b[0m \u001b[32m━━━━━━━━━━━━━━━━━━━\u001b[0m\u001b[37m━\u001b[0m \u001b[1m0s\u001b[0m 12ms/step - accuracy: 0.9044 - loss: 0.2538\n",
            "Epoch 31: saving model to training2/cp-0031.weights.h5\n",
            "\u001b[1m176/176\u001b[0m \u001b[32m━━━━━━━━━━━━━━━━━━━━\u001b[0m\u001b[37m\u001b[0m \u001b[1m3s\u001b[0m 14ms/step - accuracy: 0.9044 - loss: 0.2538 - val_accuracy: 0.8927 - val_loss: 0.3014\n",
            "Epoch 32/100\n",
            "\u001b[1m174/176\u001b[0m \u001b[32m━━━━━━━━━━━━━━━━━━━\u001b[0m\u001b[37m━\u001b[0m \u001b[1m0s\u001b[0m 19ms/step - accuracy: 0.9064 - loss: 0.2517\n",
            "Epoch 32: saving model to training2/cp-0032.weights.h5\n",
            "\u001b[1m176/176\u001b[0m \u001b[32m━━━━━━━━━━━━━━━━━━━━\u001b[0m\u001b[37m\u001b[0m \u001b[1m4s\u001b[0m 21ms/step - accuracy: 0.9064 - loss: 0.2518 - val_accuracy: 0.8940 - val_loss: 0.2961\n",
            "Epoch 33/100\n",
            "\u001b[1m175/176\u001b[0m \u001b[32m━━━━━━━━━━━━━━━━━━━\u001b[0m\u001b[37m━\u001b[0m \u001b[1m0s\u001b[0m 22ms/step - accuracy: 0.9055 - loss: 0.2520\n",
            "Epoch 33: saving model to training2/cp-0033.weights.h5\n",
            "\u001b[1m176/176\u001b[0m \u001b[32m━━━━━━━━━━━━━━━━━━━━\u001b[0m\u001b[37m\u001b[0m \u001b[1m5s\u001b[0m 26ms/step - accuracy: 0.9055 - loss: 0.2520 - val_accuracy: 0.8941 - val_loss: 0.2989\n",
            "Epoch 34/100\n",
            "\u001b[1m176/176\u001b[0m \u001b[32m━━━━━━━━━━━━━━━━━━━━\u001b[0m\u001b[37m\u001b[0m \u001b[1m0s\u001b[0m 21ms/step - accuracy: 0.9074 - loss: 0.2445\n",
            "Epoch 34: saving model to training2/cp-0034.weights.h5\n",
            "\u001b[1m176/176\u001b[0m \u001b[32m━━━━━━━━━━━━━━━━━━━━\u001b[0m\u001b[37m\u001b[0m \u001b[1m5s\u001b[0m 25ms/step - accuracy: 0.9074 - loss: 0.2445 - val_accuracy: 0.8948 - val_loss: 0.2979\n",
            "Epoch 35/100\n",
            "\u001b[1m174/176\u001b[0m \u001b[32m━━━━━━━━━━━━━━━━━━━\u001b[0m\u001b[37m━\u001b[0m \u001b[1m0s\u001b[0m 20ms/step - accuracy: 0.9091 - loss: 0.2399\n",
            "Epoch 35: saving model to training2/cp-0035.weights.h5\n",
            "\u001b[1m176/176\u001b[0m \u001b[32m━━━━━━━━━━━━━━━━━━━━\u001b[0m\u001b[37m\u001b[0m \u001b[1m4s\u001b[0m 22ms/step - accuracy: 0.9091 - loss: 0.2400 - val_accuracy: 0.8957 - val_loss: 0.2957\n"
          ]
        }
      ]
    },
    {
      "cell_type": "code",
      "source": [
        "# 위의 결과를 그래프로 그려보자!!!\n",
        "plt.subplot(1,2,1) # loss\n",
        "\n",
        "plt.plot(history2.history[\"loss\"], \"b-\", label=\"train_loss\")\n",
        "plt.plot(history2.history[\"val_loss\"], \"r-\", label=\"val_loss\")\n",
        "plt.xlabel(\"Epoch\")\n",
        "plt.legend()\n",
        "\n",
        "plt.subplot(1,2,2) # metrics : accuracy\n",
        "plt.plot(history2.history[\"accuracy\"], \"b-\", label=\"train_accuracy\")\n",
        "plt.plot(history2.history[\"val_accuracy\"], \"r-\", label=\"val_accuracy\")\n",
        "plt.xlabel(\"Epoch\")\n",
        "plt.legend()"
      ],
      "metadata": {
        "colab": {
          "base_uri": "https://localhost:8080/",
          "height": 467
        },
        "id": "0LJQLX6mBSYo",
        "outputId": "1f88c73e-b4af-4476-f755-c8ae64a7718b"
      },
      "execution_count": 50,
      "outputs": [
        {
          "output_type": "execute_result",
          "data": {
            "text/plain": [
              "<matplotlib.legend.Legend at 0x7bd0d2163130>"
            ]
          },
          "metadata": {},
          "execution_count": 50
        },
        {
          "output_type": "display_data",
          "data": {
            "text/plain": [
              "<Figure size 640x480 with 2 Axes>"
            ],
            "image/png": "[encoded data removed]"
          },
          "metadata": {}
        }
      ]
    },
    {
      "cell_type": "code",
      "source": [
        "model2.evaluate(test_X,tf.keras.utils.to_categorical(test_y))"
      ],
      "metadata": {
        "colab": {
          "base_uri": "https://localhost:8080/"
        },
        "id": "7D9J47XhCkiq",
        "outputId": "287ffc24-fae9-43ea-a54a-aff8390f9c81"
      },
      "execution_count": 51,
      "outputs": [
        {
          "output_type": "stream",
          "name": "stdout",
          "text": [
            "\u001b[1m313/313\u001b[0m \u001b[32m━━━━━━━━━━━━━━━━━━━━\u001b[0m\u001b[37m\u001b[0m \u001b[1m1s\u001b[0m 3ms/step - accuracy: 0.8835 - loss: 0.3266\n"
          ]
        },
        {
          "output_type": "execute_result",
          "data": {
            "text/plain": [
              "[0.3364129066467285, 0.8834999799728394]"
            ]
          },
          "metadata": {},
          "execution_count": 51
        }
      ]
    },
    {
      "cell_type": "code",
      "source": [
        "###  ===> 기본적으로 설계 방식을 평범함 인공신경망구조를 사용을 하면,,,\n",
        "###       0.88~0.90 사이 정도의 한계가 있는거 같다!!!!!!\n",
        "###  ===> 이 방식에서 구체적인 설계를 변경을 하면 성능의 개선의 한계가 존재!!!!\n",
        "###       +++ 기본 설계 방식에 대한 고민!!!!!!\n",
        "###       +++ CNN으로 처리하면,,,기본 베이스가 0.9X...\n",
        "### 그래서 DL에서는 최근에 나오거 해당하는 주제에 대한 좋은 설계방식을 차용!!!!\n",
        "###  + 내 데이터에 맞는 최적의 설계를 완성을 해야함!!!!!\n",
        "###  + 근본적인 성능의 개선을 위해서는 설계 방식에 많이 기대고 있음!!!!! + 논문조사!!!"
      ],
      "metadata": {
        "id": "7LpNq_9fEP7a"
      },
      "execution_count": null,
      "outputs": []
    },
    {
      "cell_type": "code",
      "source": [],
      "metadata": {
        "id": "2SKZGPG5K9dB"
      },
      "execution_count": null,
      "outputs": []
    },
    {
      "cell_type": "code",
      "source": [
        "## +++ 내가 학습 하는 과정에서 미리 저장해둔 모델의 weights 를 불러와서\n",
        "## 적당한 epoch때의 모델을 사용하고 싶다!!!!!\n",
        "\n",
        "load_cp_weights='/content/training2/cp-0023.weights.h5'\n",
        "#껍데기\n",
        "model_bc=tf.keras.Sequential(   #설계도\n",
        "    [\n",
        "        tf.keras.layers.Flatten(input_shape=(28,28)),  # 쌓는 순서 입력 -> 출력 , 차원변경 2D -> 1D + input layer ( 입력층 )\n",
        "\n",
        "        tf.keras.layers.Dropout(0.1) , # 드롭 아웃 ,  10% 제거\n",
        "\n",
        "        tf.keras.layers.Dense(units=128, activation=\"relu\"),  # 은닉층  : 일반적인 Dense -> 128개 노드 , AF : relu\n",
        "        tf.keras.layers.Dropout(0.1) , # 드롭 아웃 ,  10% 제거\n",
        "        tf.keras.layers.Dense(units=64, activation=\"relu\"),\n",
        "        tf.keras.layers.Dropout(0.1) , # 드롭 아웃 ,  10% 제거\n",
        "        tf.keras.layers.Dense(units=32, activation=\"relu\"), # 은닉층 3개로 수정 , 은닉층 노드 수 128->64->32 줄여나가볼게 (정답없음), 다 병렬로 해봐도 되고 실험임 다\n",
        "\n",
        "        tf.keras.layers.Dropout(0.1) , # 드롭 아웃 ,  10% 제거\n",
        "\n",
        "        tf.keras.layers.Dense(units=10, activation=\"softmax\")       #출력층 : 모델의 목적 : 10개 분류\n",
        "    ]\n",
        ")\n",
        "\n",
        "# 이 모델에 대한 10만개의 가중치들을 어떻게 찾고, 학습할까\n",
        "model_bc.compile(\n",
        "    loss=\"categorical_crossentropy\", #손실함수 , 정답은 one hot encoding 으로 해야함\n",
        "    optimizer=\"adam\", # or tf.keras.optimizers.Adam()\n",
        "    metrics=[\"accuracy\"] # 모니터링에 대한 지표\n",
        "\n",
        "    )\n"
      ],
      "metadata": {
        "colab": {
          "base_uri": "https://localhost:8080/"
        },
        "id": "bx3uMGtJK9ln",
        "outputId": "652f40f3-dc3f-4900-db89-7db430be6bed"
      },
      "execution_count": 54,
      "outputs": [
        {
          "output_type": "stream",
          "name": "stderr",
          "text": [
            "/usr/local/lib/python3.10/dist-packages/keras/src/layers/reshaping/flatten.py:37: UserWarning: Do not pass an `input_shape`/`input_dim` argument to a layer. When using Sequential models, prefer using an `Input(shape)` object as the first layer in the model instead.\n",
            "  super().__init__(**kwargs)\n"
          ]
        }
      ]
    },
    {
      "cell_type": "code",
      "source": [
        "model_bc.load_weights(load_cp_weights)"
      ],
      "metadata": {
        "colab": {
          "base_uri": "https://localhost:8080/"
        },
        "id": "_i0QV-a4LMPw",
        "outputId": "c70af61e-5ea2-452d-ebcd-fd61ba1ef806"
      },
      "execution_count": 55,
      "outputs": [
        {
          "output_type": "stream",
          "name": "stderr",
          "text": [
            "/usr/local/lib/python3.10/dist-packages/keras/src/saving/saving_lib.py:576: UserWarning: Skipping variable loading for optimizer 'adam', because it has 2 variables whereas the saved optimizer has 18 variables. \n",
            "  saveable.load_own_variables(weights_store.get(inner_path))\n"
          ]
        }
      ]
    },
    {
      "cell_type": "code",
      "source": [
        "model_bc.evaluate(test_X,tf.keras.utils.to_categorical(test_y,num_classes=10))"
      ],
      "metadata": {
        "colab": {
          "base_uri": "https://localhost:8080/"
        },
        "id": "4z7NkBzcLVlq",
        "outputId": "cbd48612-2a1b-4d86-986d-6e6f6884c397"
      },
      "execution_count": 57,
      "outputs": [
        {
          "output_type": "stream",
          "name": "stdout",
          "text": [
            "\u001b[1m313/313\u001b[0m \u001b[32m━━━━━━━━━━━━━━━━━━━━\u001b[0m\u001b[37m\u001b[0m \u001b[1m1s\u001b[0m 2ms/step - accuracy: 0.8857 - loss: 0.3253\n"
          ]
        },
        {
          "output_type": "execute_result",
          "data": {
            "text/plain": [
              "[0.32771241664886475, 0.8841000199317932]"
            ]
          },
          "metadata": {},
          "execution_count": 57
        }
      ]
    },
    {
      "cell_type": "code",
      "source": [],
      "metadata": {
        "id": "uELwn-BcMXEh"
      },
      "execution_count": null,
      "outputs": []
    }
  ]
}