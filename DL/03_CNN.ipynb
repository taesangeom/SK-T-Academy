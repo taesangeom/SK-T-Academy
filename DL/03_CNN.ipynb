{
  "nbformat": 4,
  "nbformat_minor": 0,
  "metadata": {
    "colab": {
      "provenance": [],
      "gpuType": "T4",
      "include_colab_link": true
    },
    "kernelspec": {
      "name": "python3",
      "display_name": "Python 3"
    },
    "language_info": {
      "name": "python"
    },
    "accelerator": "GPU"
  },
  "cells": [
    {
      "cell_type": "markdown",
      "metadata": {
        "id": "view-in-github",
        "colab_type": "text"
      },
      "source": [
        "<a href=\"https://colab.research.google.com/github/taesangeom/SK-T-Academy/blob/main/DL/03_CNN.ipynb\" target=\"_parent\"><img src=\"https://colab.research.google.com/assets/colab-badge.svg\" alt=\"Open In Colab\"/></a>"
      ]
    },
    {
      "cell_type": "code",
      "execution_count": null,
      "metadata": {
        "id": "LvhQf1IQGoaA"
      },
      "outputs": [],
      "source": [
        "# GPU는 무조건 세팅을 하고 T4라도 하고 진행을 해야함!!!!!"
      ]
    },
    {
      "cell_type": "code",
      "source": [
        "# VGG 논문\n",
        "https://arxiv.org/pdf/1409.1556"
      ],
      "metadata": {
        "id": "r49lNPs0GwTq"
      },
      "execution_count": null,
      "outputs": []
    },
    {
      "cell_type": "code",
      "source": [
        "import tensorflow as tf"
      ],
      "metadata": {
        "id": "VSQgauZOGwWZ"
      },
      "execution_count": null,
      "outputs": []
    },
    {
      "cell_type": "code",
      "source": [
        "# 3차원의 이미지를 대상으로 CNN 구조를 만들 때!!!\n",
        "# ==> 집중의 대상을 2차원으로 하려고 할 때!!!!!!\n",
        "#     ( 채널의 수는 니가 알아서 좀 연동을 해줘!!!!!)"
      ],
      "metadata": {
        "id": "ow_6qjXXGwZF"
      },
      "execution_count": null,
      "outputs": []
    },
    {
      "cell_type": "code",
      "source": [
        "# 1) conv2D 레이어 : ==> 3차원의 채널은 내가 신경안 쓸께!!!!\n",
        "# - kernel_size : 필터/커널에 대한 사이즈 2D\n",
        "#                 3*3, 5*5, 7*7,\n",
        "#                 ++ 채널은 입력에 따라서 코드가 알아서 해주세요!!!\n",
        "# - filters : 몇 개의 커널/필터를 사용할지....\n",
        "#           : 몇 장의 FM을 쌓을것인가!!!!!!\n",
        "#           : output으로 나오는 FM의 Channel의 수!!!!\n",
        "# ---------------------\n",
        "# - stride : 가로 step, 세로 step : 스캔의 디테일을 정하게 됨!!!\n",
        "#          : FM의 W/H에 대한 size가 연동!!\n",
        "# - padding : 테두리에 대해서 처리\n",
        "#     valid : 그냥 테두리 사용하지 말고 그냥 해줘!!!\n",
        "#     same  : 입력으로 들어오는 것과 동일한 크기WH로 FM의 크기를 보존해줘!!!!\n",
        "# ----------------------\n",
        "# ++ AF:cnn초기 논문/모델들은 거의 사용X\n",
        "#       vgg 논문 부터는 주로 사용을 함!!!!!"
      ],
      "metadata": {
        "id": "x8OvVfGvGwbb"
      },
      "execution_count": null,
      "outputs": []
    },
    {
      "cell_type": "code",
      "source": [
        "conv1 = tf.keras.layers.Conv2D(\n",
        "    # 우리가 신경 쓸 부분은 오로지 2D\n",
        "    # 나머지 channel은 니가 알아서 해줘!!!!\n",
        "    kernel_size = ( 5,5),\n",
        "    filters = 4,\n",
        "    strides = (2,2),\n",
        "    padding = \"same\"\n",
        "    # +++ activation\n",
        ")"
      ],
      "metadata": {
        "colab": {
          "base_uri": "https://localhost:8080/",
          "height": 188
        },
        "id": "e_8y4U_HIOMv",
        "outputId": "6614ffd4-fe88-41e1-9396-b2e4db355d10"
      },
      "execution_count": null,
      "outputs": [
        {
          "output_type": "error",
          "ename": "TypeError",
          "evalue": "Conv2D.__init__() missing 2 required positional arguments: 'filters' and 'kernel_size'",
          "traceback": [
            "\u001b[0;31m---------------------------------------------------------------------------\u001b[0m",
            "\u001b[0;31mTypeError\u001b[0m                                 Traceback (most recent call last)",
            "\u001b[0;32m<ipython-input-2-76c323cea193>\u001b[0m in \u001b[0;36m<cell line: 1>\u001b[0;34m()\u001b[0m\n\u001b[0;32m----> 1\u001b[0;31m conv1 = tf.keras.layers.Conv2D(\n\u001b[0m\u001b[1;32m      2\u001b[0m     \u001b[0;31m# 우리가 신경 쓸 부분은 오로지 2D\u001b[0m\u001b[0;34m\u001b[0m\u001b[0;34m\u001b[0m\u001b[0m\n\u001b[1;32m      3\u001b[0m )\n",
            "\u001b[0;31mTypeError\u001b[0m: Conv2D.__init__() missing 2 required positional arguments: 'filters' and 'kernel_size'"
          ]
        }
      ]
    },
    {
      "cell_type": "code",
      "source": [
        "#### Fashion-MNIST  DNN 설계 스타일로 여러번 실험!!!!\n",
        "# ===> 설계 방식을 CNN을 기본을 해보자!!!"
      ],
      "metadata": {
        "id": "MATlGNGVIOPi"
      },
      "execution_count": null,
      "outputs": []
    },
    {
      "cell_type": "code",
      "source": [
        "fashion_mnist = tf.keras.datasets.fashion_mnist\n",
        "(train_X, train_y), ( test_X, test_y) = fashion_mnist.load_data()\n",
        "print(train_X.shape)\n",
        "print(train_y.shape)\n",
        "print(test_X.shape)\n",
        "print(test_y.shape)"
      ],
      "metadata": {
        "colab": {
          "base_uri": "https://localhost:8080/"
        },
        "id": "7Meq4n__IOR1",
        "outputId": "812d376a-a4c7-4aca-fea5-aa1fb2c77bf8"
      },
      "execution_count": null,
      "outputs": [
        {
          "output_type": "stream",
          "name": "stdout",
          "text": [
            "Downloading data from https://storage.googleapis.com/tensorflow/tf-keras-datasets/train-labels-idx1-ubyte.gz\n",
            "\u001b[1m29515/29515\u001b[0m \u001b[32m━━━━━━━━━━━━━━━━━━━━\u001b[0m\u001b[37m\u001b[0m \u001b[1m0s\u001b[0m 0us/step\n",
            "Downloading data from https://storage.googleapis.com/tensorflow/tf-keras-datasets/train-images-idx3-ubyte.gz\n",
            "\u001b[1m26421880/26421880\u001b[0m \u001b[32m━━━━━━━━━━━━━━━━━━━━\u001b[0m\u001b[37m\u001b[0m \u001b[1m1s\u001b[0m 0us/step\n",
            "Downloading data from https://storage.googleapis.com/tensorflow/tf-keras-datasets/t10k-labels-idx1-ubyte.gz\n",
            "\u001b[1m5148/5148\u001b[0m \u001b[32m━━━━━━━━━━━━━━━━━━━━\u001b[0m\u001b[37m\u001b[0m \u001b[1m0s\u001b[0m 0us/step\n",
            "Downloading data from https://storage.googleapis.com/tensorflow/tf-keras-datasets/t10k-images-idx3-ubyte.gz\n",
            "\u001b[1m4422102/4422102\u001b[0m \u001b[32m━━━━━━━━━━━━━━━━━━━━\u001b[0m\u001b[37m\u001b[0m \u001b[1m1s\u001b[0m 0us/step\n",
            "(60000, 28, 28)\n",
            "(60000,)\n",
            "(10000, 28, 28)\n",
            "(10000,)\n"
          ]
        }
      ]
    },
    {
      "cell_type": "code",
      "source": [
        "# 전처리\n",
        "train_X = train_X /255.0\n",
        "test_X  = test_X / 255.0"
      ],
      "metadata": {
        "id": "rYycLt6ZIOUm"
      },
      "execution_count": null,
      "outputs": []
    },
    {
      "cell_type": "code",
      "source": [
        "# ==> 간단하게 하기 위해서 보통 흑백 이미지를 사용을 함!!!\n",
        "#     단점은 색상이 중요한 경우에는 이 중요한 정보를 소실!!!!!\n",
        "# ==> 이미지 처리를 해야하면,,opencv + 이미지 처리 패키지를"
      ],
      "metadata": {
        "id": "FIMslVACJhjb"
      },
      "execution_count": null,
      "outputs": []
    },
    {
      "cell_type": "code",
      "source": [],
      "metadata": {
        "id": "Pudv8Ws1Jwb7"
      },
      "execution_count": null,
      "outputs": []
    },
    {
      "cell_type": "code",
      "source": [
        "# 1. 입력에 대한 데이터 처리!!!!\n",
        "# ==> 1장에 대해서 중심으로 바라봐야 함!!!!\n",
        "#     n장에 대해서는 TF/Torch 알아서 처리!!!!\n",
        "# ==> 1장에 대해서 신경을 쓰면 됨!!!!!"
      ],
      "metadata": {
        "id": "MLly2_y6Jwef"
      },
      "execution_count": null,
      "outputs": []
    },
    {
      "cell_type": "code",
      "source": [
        "train_X.shape # 3D"
      ],
      "metadata": {
        "colab": {
          "base_uri": "https://localhost:8080/"
        },
        "id": "aHV9y0lhJwhF",
        "outputId": "8149bec1-c27b-4a8a-d9bb-36df9782edc5"
      },
      "execution_count": null,
      "outputs": [
        {
          "output_type": "execute_result",
          "data": {
            "text/plain": [
              "(60000, 28, 28)"
            ]
          },
          "metadata": {},
          "execution_count": 5
        }
      ]
    },
    {
      "cell_type": "code",
      "source": [
        "train_X[0].shape # 2D"
      ],
      "metadata": {
        "colab": {
          "base_uri": "https://localhost:8080/"
        },
        "id": "0S5KhrSxJ9io",
        "outputId": "760b877e-2fcf-4a98-f160-1ba0c63bc64b"
      },
      "execution_count": null,
      "outputs": [
        {
          "output_type": "execute_result",
          "data": {
            "text/plain": [
              "(28, 28)"
            ]
          },
          "metadata": {},
          "execution_count": 6
        }
      ]
    },
    {
      "cell_type": "code",
      "source": [],
      "metadata": {
        "id": "4h_7zDcKJ_z8"
      },
      "execution_count": null,
      "outputs": []
    },
    {
      "cell_type": "code",
      "source": [
        "# 코드의 주된 흐름은 일반적인 컬러이미지를 가정하고 진행을 하려고 함!!!\n",
        "# ==> 1장 입력 데이터의 차원은 3D\n",
        "# ==> conv 하는 과정에서 channel은 신경 안 쓰고 : Conv2D\n",
        "# ==> To Do List\n",
        "#     1. 1장에 데이터의 차원을 2D --> 3D로 변경!!!!!!( 채널은 신경X)\n",
        "#        now : (28, 28) 2D\n",
        "#        pred : (28,28,1) 3D\n",
        "#     2. 전체 데이터셋을 3D --------> 4D으로 변경!!!!!\n",
        "#        now : (60000, 28,28) 3D\n",
        "#        pred : (60000, 28,28,1) 4D\n",
        "# ===> 데이터 셋의 모양/차원을 변경을 해야함!!!!!!!\n",
        "#      주의!!! 채널은 뒤로 돌림!!!!!(28,28,1) , (1,28,28) 메뉴얼!!!\n",
        "#      (데이터의 수, 가로, 세로, 채널) : Conv2D로 사용이 가능함!!"
      ],
      "metadata": {
        "id": "bmlOTxtZKR0w"
      },
      "execution_count": null,
      "outputs": []
    },
    {
      "cell_type": "code",
      "source": [
        "print(train_X.shape)\n",
        "print(train_X[0].shape)\n",
        "#train_X = train_X.reshape(60000, 28, 28,1)\n",
        "train_X = train_X.reshape(-1, 28, 28,1) # 3d -- >4d\n",
        "test_X = test_X.reshape(-1, 28,28,1)\n",
        "print(train_X.shape)\n",
        "print(train_X[0].shape)"
      ],
      "metadata": {
        "colab": {
          "base_uri": "https://localhost:8080/"
        },
        "id": "TwCb68kpKR3M",
        "outputId": "b8989dca-bb63-41d3-f274-433dbee5c44d"
      },
      "execution_count": null,
      "outputs": [
        {
          "output_type": "stream",
          "name": "stdout",
          "text": [
            "(60000, 28, 28)\n",
            "(28, 28)\n",
            "(60000, 28, 28, 1)\n",
            "(28, 28, 1)\n"
          ]
        }
      ]
    },
    {
      "cell_type": "code",
      "source": [
        "# ==> 데이터/ 데이터셋에 대한 차원과 모양은 본인이 설계하는\n",
        "#     네트워크의 구조에 따라서 자유롭게 변형을 할 수 있어야 함!!!"
      ],
      "metadata": {
        "id": "hChAAdVuKR5n"
      },
      "execution_count": null,
      "outputs": []
    },
    {
      "cell_type": "code",
      "source": [
        "### 가장 간단한 CNN을 만들어 보겠습니다.\n",
        "model = tf.keras.Sequential(\n",
        "    [\n",
        "        # step1) 입력 이미지 + 특징 추출 : Conv\n",
        "        # 입력 : 1장 데이터 ---> 28,28,1  // 60000,28,28,1\n",
        "        # + conv1\n",
        "        tf.keras.layers.Conv2D( input_shape=(28,28,1),\n",
        "                               kernel_size=(3,3), filters=16),\n",
        "        tf.keras.layers.Conv2D( kernel_size=(3,3), filters=32),\n",
        "        tf.keras.layers.Conv2D( kernel_size=(3,3), filters=64),\n",
        "        # ===> 이미지가 가진 주된 특징을 잘 뽑았다고 가정!!!\n",
        "        # ------------------- FM 추출\n",
        "\n",
        "        # 분류에 대한 네트워크!!!\n",
        "        tf.keras.layers.Flatten(), # 3D ---> 1D\n",
        "        # 분류를 위한 HL : Dense....\n",
        "        tf.keras.layers.Dense( units = 128, activation=\"relu\"),\n",
        "        # .......추가할 수 있겠죠...\n",
        "\n",
        "        # 출력!!!!\n",
        "        tf.keras.layers.Dense( units = 10, activation=\"softmax\")\n",
        "\n",
        "    ]\n",
        ")\n",
        "model"
      ],
      "metadata": {
        "colab": {
          "base_uri": "https://localhost:8080/"
        },
        "id": "psM6r-sHKR7_",
        "outputId": "0b273079-3fe2-4e8d-f964-e141af9494b9"
      },
      "execution_count": null,
      "outputs": [
        {
          "output_type": "stream",
          "name": "stderr",
          "text": [
            "/usr/local/lib/python3.10/dist-packages/keras/src/layers/convolutional/base_conv.py:107: UserWarning: Do not pass an `input_shape`/`input_dim` argument to a layer. When using Sequential models, prefer using an `Input(shape)` object as the first layer in the model instead.\n",
            "  super().__init__(activity_regularizer=activity_regularizer, **kwargs)\n"
          ]
        },
        {
          "output_type": "execute_result",
          "data": {
            "text/plain": [
              "<Sequential name=sequential, built=True>"
            ]
          },
          "metadata": {},
          "execution_count": 5
        }
      ]
    },
    {
      "cell_type": "code",
      "source": [
        "model.summary()"
      ],
      "metadata": {
        "colab": {
          "base_uri": "https://localhost:8080/",
          "height": 339
        },
        "id": "Cvbalt3wMWCk",
        "outputId": "b7db4b15-5b3f-4b5f-bb41-db6a331100db"
      },
      "execution_count": null,
      "outputs": [
        {
          "output_type": "display_data",
          "data": {
            "text/plain": [
              "\u001b[1mModel: \"sequential\"\u001b[0m\n"
            ],
            "text/html": [
              "<pre style=\"white-space:pre;overflow-x:auto;line-height:normal;font-family:Menlo,'DejaVu Sans Mono',consolas,'Courier New',monospace\"><span style=\"font-weight: bold\">Model: \"sequential\"</span>\n",
              "</pre>\n"
            ]
          },
          "metadata": {}
        },
        {
          "output_type": "display_data",
          "data": {
            "text/plain": [
              "┏━━━━━━━━━━━━━━━━━━━━━━━━━━━━━━━━━━━━━━┳━━━━━━━━━━━━━━━━━━━━━━━━━━━━━┳━━━━━━━━━━━━━━━━━┓\n",
              "┃\u001b[1m \u001b[0m\u001b[1mLayer (type)                        \u001b[0m\u001b[1m \u001b[0m┃\u001b[1m \u001b[0m\u001b[1mOutput Shape               \u001b[0m\u001b[1m \u001b[0m┃\u001b[1m \u001b[0m\u001b[1m        Param #\u001b[0m\u001b[1m \u001b[0m┃\n",
              "┡━━━━━━━━━━━━━━━━━━━━━━━━━━━━━━━━━━━━━━╇━━━━━━━━━━━━━━━━━━━━━━━━━━━━━╇━━━━━━━━━━━━━━━━━┩\n",
              "│ conv2d_3 (\u001b[38;5;33mConv2D\u001b[0m)                    │ (\u001b[38;5;45mNone\u001b[0m, \u001b[38;5;34m26\u001b[0m, \u001b[38;5;34m26\u001b[0m, \u001b[38;5;34m16\u001b[0m)          │             \u001b[38;5;34m160\u001b[0m │\n",
              "├──────────────────────────────────────┼─────────────────────────────┼─────────────────┤\n",
              "│ conv2d_4 (\u001b[38;5;33mConv2D\u001b[0m)                    │ (\u001b[38;5;45mNone\u001b[0m, \u001b[38;5;34m24\u001b[0m, \u001b[38;5;34m24\u001b[0m, \u001b[38;5;34m32\u001b[0m)          │           \u001b[38;5;34m4,640\u001b[0m │\n",
              "├──────────────────────────────────────┼─────────────────────────────┼─────────────────┤\n",
              "│ conv2d_5 (\u001b[38;5;33mConv2D\u001b[0m)                    │ (\u001b[38;5;45mNone\u001b[0m, \u001b[38;5;34m22\u001b[0m, \u001b[38;5;34m22\u001b[0m, \u001b[38;5;34m64\u001b[0m)          │          \u001b[38;5;34m18,496\u001b[0m │\n",
              "├──────────────────────────────────────┼─────────────────────────────┼─────────────────┤\n",
              "│ flatten_1 (\u001b[38;5;33mFlatten\u001b[0m)                  │ (\u001b[38;5;45mNone\u001b[0m, \u001b[38;5;34m30976\u001b[0m)               │               \u001b[38;5;34m0\u001b[0m │\n",
              "├──────────────────────────────────────┼─────────────────────────────┼─────────────────┤\n",
              "│ dense_2 (\u001b[38;5;33mDense\u001b[0m)                      │ (\u001b[38;5;45mNone\u001b[0m, \u001b[38;5;34m128\u001b[0m)                 │       \u001b[38;5;34m3,965,056\u001b[0m │\n",
              "├──────────────────────────────────────┼─────────────────────────────┼─────────────────┤\n",
              "│ dense_3 (\u001b[38;5;33mDense\u001b[0m)                      │ (\u001b[38;5;45mNone\u001b[0m, \u001b[38;5;34m10\u001b[0m)                  │           \u001b[38;5;34m1,290\u001b[0m │\n",
              "└──────────────────────────────────────┴─────────────────────────────┴─────────────────┘\n"
            ],
            "text/html": [
              "<pre style=\"white-space:pre;overflow-x:auto;line-height:normal;font-family:Menlo,'DejaVu Sans Mono',consolas,'Courier New',monospace\">┏━━━━━━━━━━━━━━━━━━━━━━━━━━━━━━━━━━━━━━┳━━━━━━━━━━━━━━━━━━━━━━━━━━━━━┳━━━━━━━━━━━━━━━━━┓\n",
              "┃<span style=\"font-weight: bold\"> Layer (type)                         </span>┃<span style=\"font-weight: bold\"> Output Shape                </span>┃<span style=\"font-weight: bold\">         Param # </span>┃\n",
              "┡━━━━━━━━━━━━━━━━━━━━━━━━━━━━━━━━━━━━━━╇━━━━━━━━━━━━━━━━━━━━━━━━━━━━━╇━━━━━━━━━━━━━━━━━┩\n",
              "│ conv2d_3 (<span style=\"color: #0087ff; text-decoration-color: #0087ff\">Conv2D</span>)                    │ (<span style=\"color: #00d7ff; text-decoration-color: #00d7ff\">None</span>, <span style=\"color: #00af00; text-decoration-color: #00af00\">26</span>, <span style=\"color: #00af00; text-decoration-color: #00af00\">26</span>, <span style=\"color: #00af00; text-decoration-color: #00af00\">16</span>)          │             <span style=\"color: #00af00; text-decoration-color: #00af00\">160</span> │\n",
              "├──────────────────────────────────────┼─────────────────────────────┼─────────────────┤\n",
              "│ conv2d_4 (<span style=\"color: #0087ff; text-decoration-color: #0087ff\">Conv2D</span>)                    │ (<span style=\"color: #00d7ff; text-decoration-color: #00d7ff\">None</span>, <span style=\"color: #00af00; text-decoration-color: #00af00\">24</span>, <span style=\"color: #00af00; text-decoration-color: #00af00\">24</span>, <span style=\"color: #00af00; text-decoration-color: #00af00\">32</span>)          │           <span style=\"color: #00af00; text-decoration-color: #00af00\">4,640</span> │\n",
              "├──────────────────────────────────────┼─────────────────────────────┼─────────────────┤\n",
              "│ conv2d_5 (<span style=\"color: #0087ff; text-decoration-color: #0087ff\">Conv2D</span>)                    │ (<span style=\"color: #00d7ff; text-decoration-color: #00d7ff\">None</span>, <span style=\"color: #00af00; text-decoration-color: #00af00\">22</span>, <span style=\"color: #00af00; text-decoration-color: #00af00\">22</span>, <span style=\"color: #00af00; text-decoration-color: #00af00\">64</span>)          │          <span style=\"color: #00af00; text-decoration-color: #00af00\">18,496</span> │\n",
              "├──────────────────────────────────────┼─────────────────────────────┼─────────────────┤\n",
              "│ flatten_1 (<span style=\"color: #0087ff; text-decoration-color: #0087ff\">Flatten</span>)                  │ (<span style=\"color: #00d7ff; text-decoration-color: #00d7ff\">None</span>, <span style=\"color: #00af00; text-decoration-color: #00af00\">30976</span>)               │               <span style=\"color: #00af00; text-decoration-color: #00af00\">0</span> │\n",
              "├──────────────────────────────────────┼─────────────────────────────┼─────────────────┤\n",
              "│ dense_2 (<span style=\"color: #0087ff; text-decoration-color: #0087ff\">Dense</span>)                      │ (<span style=\"color: #00d7ff; text-decoration-color: #00d7ff\">None</span>, <span style=\"color: #00af00; text-decoration-color: #00af00\">128</span>)                 │       <span style=\"color: #00af00; text-decoration-color: #00af00\">3,965,056</span> │\n",
              "├──────────────────────────────────────┼─────────────────────────────┼─────────────────┤\n",
              "│ dense_3 (<span style=\"color: #0087ff; text-decoration-color: #0087ff\">Dense</span>)                      │ (<span style=\"color: #00d7ff; text-decoration-color: #00d7ff\">None</span>, <span style=\"color: #00af00; text-decoration-color: #00af00\">10</span>)                  │           <span style=\"color: #00af00; text-decoration-color: #00af00\">1,290</span> │\n",
              "└──────────────────────────────────────┴─────────────────────────────┴─────────────────┘\n",
              "</pre>\n"
            ]
          },
          "metadata": {}
        },
        {
          "output_type": "display_data",
          "data": {
            "text/plain": [
              "\u001b[1m Total params: \u001b[0m\u001b[38;5;34m3,989,642\u001b[0m (15.22 MB)\n"
            ],
            "text/html": [
              "<pre style=\"white-space:pre;overflow-x:auto;line-height:normal;font-family:Menlo,'DejaVu Sans Mono',consolas,'Courier New',monospace\"><span style=\"font-weight: bold\"> Total params: </span><span style=\"color: #00af00; text-decoration-color: #00af00\">3,989,642</span> (15.22 MB)\n",
              "</pre>\n"
            ]
          },
          "metadata": {}
        },
        {
          "output_type": "display_data",
          "data": {
            "text/plain": [
              "\u001b[1m Trainable params: \u001b[0m\u001b[38;5;34m3,989,642\u001b[0m (15.22 MB)\n"
            ],
            "text/html": [
              "<pre style=\"white-space:pre;overflow-x:auto;line-height:normal;font-family:Menlo,'DejaVu Sans Mono',consolas,'Courier New',monospace\"><span style=\"font-weight: bold\"> Trainable params: </span><span style=\"color: #00af00; text-decoration-color: #00af00\">3,989,642</span> (15.22 MB)\n",
              "</pre>\n"
            ]
          },
          "metadata": {}
        },
        {
          "output_type": "display_data",
          "data": {
            "text/plain": [
              "\u001b[1m Non-trainable params: \u001b[0m\u001b[38;5;34m0\u001b[0m (0.00 B)\n"
            ],
            "text/html": [
              "<pre style=\"white-space:pre;overflow-x:auto;line-height:normal;font-family:Menlo,'DejaVu Sans Mono',consolas,'Courier New',monospace\"><span style=\"font-weight: bold\"> Non-trainable params: </span><span style=\"color: #00af00; text-decoration-color: #00af00\">0</span> (0.00 B)\n",
              "</pre>\n"
            ]
          },
          "metadata": {}
        }
      ]
    },
    {
      "cell_type": "code",
      "source": [
        "(3*3*1 + 1) * 16"
      ],
      "metadata": {
        "colab": {
          "base_uri": "https://localhost:8080/"
        },
        "id": "Be2K3JDCMWFB",
        "outputId": "1fc94ad8-f7b4-474e-8760-a6d3d28905e8"
      },
      "execution_count": null,
      "outputs": [
        {
          "output_type": "execute_result",
          "data": {
            "text/plain": [
              "160"
            ]
          },
          "metadata": {},
          "execution_count": 14
        }
      ]
    },
    {
      "cell_type": "code",
      "source": [
        "(3*3*16 + 1) * 32"
      ],
      "metadata": {
        "colab": {
          "base_uri": "https://localhost:8080/"
        },
        "id": "Re8QpCq6MWHe",
        "outputId": "e1aef208-22bc-41ee-d0b5-e15277120126"
      },
      "execution_count": null,
      "outputs": [
        {
          "output_type": "execute_result",
          "data": {
            "text/plain": [
              "4640"
            ]
          },
          "metadata": {},
          "execution_count": 15
        }
      ]
    },
    {
      "cell_type": "code",
      "source": [
        "# 잠시 쉬었다가 보겠습니다!!!!"
      ],
      "metadata": {
        "id": "omrh0cU7MWKD"
      },
      "execution_count": null,
      "outputs": []
    },
    {
      "cell_type": "code",
      "source": [
        "train_y"
      ],
      "metadata": {
        "colab": {
          "base_uri": "https://localhost:8080/"
        },
        "id": "nMmj35kHMWMg",
        "outputId": "20aa9e2e-3b76-4c2e-ffc3-8ab76b1ddcff"
      },
      "execution_count": null,
      "outputs": [
        {
          "output_type": "execute_result",
          "data": {
            "text/plain": [
              "array([9, 0, 0, ..., 3, 0, 5], dtype=uint8)"
            ]
          },
          "metadata": {},
          "execution_count": 16
        }
      ]
    },
    {
      "cell_type": "code",
      "source": [
        "model.compile(\n",
        "    # 정답을 있는 라벨인코딩값을 그대로 사용 : loss --> sparse\n",
        "    loss = \"sparse_categorical_crossentropy\",\n",
        "    optimizer = tf.keras.optimizers.Adam(),\n",
        "    metrics = [\"accuracy\"]\n",
        ")"
      ],
      "metadata": {
        "id": "0si46Ax6TOFU"
      },
      "execution_count": null,
      "outputs": []
    },
    {
      "cell_type": "code",
      "source": [
        "history = model.fit(\n",
        "    train_X, train_y,\n",
        "    # ===> 굳이 to_categorical()사용을 안 한 이유 : loss에서 처리!!!!\n",
        "    epochs = 20,\n",
        "    validation_split = 0.25,\n",
        "    batch_size = 128\n",
        ")"
      ],
      "metadata": {
        "colab": {
          "base_uri": "https://localhost:8080/"
        },
        "id": "ToPs1kMeTkxx",
        "outputId": "2d101359-70f1-4e4c-b775-4c24095661a6"
      },
      "execution_count": null,
      "outputs": [
        {
          "output_type": "stream",
          "name": "stdout",
          "text": [
            "Epoch 1/20\n",
            "\u001b[1m352/352\u001b[0m \u001b[32m━━━━━━━━━━━━━━━━━━━━\u001b[0m\u001b[37m\u001b[0m \u001b[1m10s\u001b[0m 15ms/step - accuracy: 0.7618 - loss: 0.6765 - val_accuracy: 0.8635 - val_loss: 0.3827\n",
            "Epoch 2/20\n",
            "\u001b[1m352/352\u001b[0m \u001b[32m━━━━━━━━━━━━━━━━━━━━\u001b[0m\u001b[37m\u001b[0m \u001b[1m3s\u001b[0m 8ms/step - accuracy: 0.8766 - loss: 0.3415 - val_accuracy: 0.8705 - val_loss: 0.3607\n",
            "Epoch 3/20\n",
            "\u001b[1m352/352\u001b[0m \u001b[32m━━━━━━━━━━━━━━━━━━━━\u001b[0m\u001b[37m\u001b[0m \u001b[1m5s\u001b[0m 8ms/step - accuracy: 0.8990 - loss: 0.2774 - val_accuracy: 0.8762 - val_loss: 0.3456\n",
            "Epoch 4/20\n",
            "\u001b[1m352/352\u001b[0m \u001b[32m━━━━━━━━━━━━━━━━━━━━\u001b[0m\u001b[37m\u001b[0m \u001b[1m3s\u001b[0m 7ms/step - accuracy: 0.9170 - loss: 0.2282 - val_accuracy: 0.8767 - val_loss: 0.3745\n",
            "Epoch 5/20\n",
            "\u001b[1m352/352\u001b[0m \u001b[32m━━━━━━━━━━━━━━━━━━━━\u001b[0m\u001b[37m\u001b[0m \u001b[1m3s\u001b[0m 7ms/step - accuracy: 0.9301 - loss: 0.1917 - val_accuracy: 0.8693 - val_loss: 0.3973\n",
            "Epoch 6/20\n",
            "\u001b[1m352/352\u001b[0m \u001b[32m━━━━━━━━━━━━━━━━━━━━\u001b[0m\u001b[37m\u001b[0m \u001b[1m3s\u001b[0m 8ms/step - accuracy: 0.9392 - loss: 0.1684 - val_accuracy: 0.8731 - val_loss: 0.4177\n",
            "Epoch 7/20\n",
            "\u001b[1m352/352\u001b[0m \u001b[32m━━━━━━━━━━━━━━━━━━━━\u001b[0m\u001b[37m\u001b[0m \u001b[1m5s\u001b[0m 7ms/step - accuracy: 0.9477 - loss: 0.1395 - val_accuracy: 0.8648 - val_loss: 0.4830\n",
            "Epoch 8/20\n",
            "\u001b[1m352/352\u001b[0m \u001b[32m━━━━━━━━━━━━━━━━━━━━\u001b[0m\u001b[37m\u001b[0m \u001b[1m5s\u001b[0m 8ms/step - accuracy: 0.9525 - loss: 0.1251 - val_accuracy: 0.8731 - val_loss: 0.5150\n",
            "Epoch 9/20\n",
            "\u001b[1m352/352\u001b[0m \u001b[32m━━━━━━━━━━━━━━━━━━━━\u001b[0m\u001b[37m\u001b[0m \u001b[1m5s\u001b[0m 8ms/step - accuracy: 0.9618 - loss: 0.1068 - val_accuracy: 0.8593 - val_loss: 0.6380\n",
            "Epoch 10/20\n",
            "\u001b[1m352/352\u001b[0m \u001b[32m━━━━━━━━━━━━━━━━━━━━\u001b[0m\u001b[37m\u001b[0m \u001b[1m2s\u001b[0m 7ms/step - accuracy: 0.9641 - loss: 0.0982 - val_accuracy: 0.8649 - val_loss: 0.6275\n",
            "Epoch 11/20\n",
            "\u001b[1m352/352\u001b[0m \u001b[32m━━━━━━━━━━━━━━━━━━━━\u001b[0m\u001b[37m\u001b[0m \u001b[1m3s\u001b[0m 7ms/step - accuracy: 0.9661 - loss: 0.0916 - val_accuracy: 0.8588 - val_loss: 0.6788\n",
            "Epoch 12/20\n",
            "\u001b[1m352/352\u001b[0m \u001b[32m━━━━━━━━━━━━━━━━━━━━\u001b[0m\u001b[37m\u001b[0m \u001b[1m3s\u001b[0m 9ms/step - accuracy: 0.9704 - loss: 0.0798 - val_accuracy: 0.8645 - val_loss: 0.7179\n",
            "Epoch 13/20\n",
            "\u001b[1m352/352\u001b[0m \u001b[32m━━━━━━━━━━━━━━━━━━━━\u001b[0m\u001b[37m\u001b[0m \u001b[1m5s\u001b[0m 7ms/step - accuracy: 0.9751 - loss: 0.0697 - val_accuracy: 0.8703 - val_loss: 0.6984\n",
            "Epoch 14/20\n",
            "\u001b[1m352/352\u001b[0m \u001b[32m━━━━━━━━━━━━━━━━━━━━\u001b[0m\u001b[37m\u001b[0m \u001b[1m5s\u001b[0m 7ms/step - accuracy: 0.9756 - loss: 0.0648 - val_accuracy: 0.8627 - val_loss: 0.7543\n",
            "Epoch 15/20\n",
            "\u001b[1m352/352\u001b[0m \u001b[32m━━━━━━━━━━━━━━━━━━━━\u001b[0m\u001b[37m\u001b[0m \u001b[1m3s\u001b[0m 9ms/step - accuracy: 0.9777 - loss: 0.0616 - val_accuracy: 0.8615 - val_loss: 0.9535\n",
            "Epoch 16/20\n",
            "\u001b[1m352/352\u001b[0m \u001b[32m━━━━━━━━━━━━━━━━━━━━\u001b[0m\u001b[37m\u001b[0m \u001b[1m5s\u001b[0m 7ms/step - accuracy: 0.9804 - loss: 0.0548 - val_accuracy: 0.8665 - val_loss: 0.8431\n",
            "Epoch 17/20\n",
            "\u001b[1m352/352\u001b[0m \u001b[32m━━━━━━━━━━━━━━━━━━━━\u001b[0m\u001b[37m\u001b[0m \u001b[1m5s\u001b[0m 7ms/step - accuracy: 0.9775 - loss: 0.0628 - val_accuracy: 0.8661 - val_loss: 0.9515\n",
            "Epoch 18/20\n",
            "\u001b[1m352/352\u001b[0m \u001b[32m━━━━━━━━━━━━━━━━━━━━\u001b[0m\u001b[37m\u001b[0m \u001b[1m5s\u001b[0m 8ms/step - accuracy: 0.9834 - loss: 0.0479 - val_accuracy: 0.8618 - val_loss: 0.9129\n",
            "Epoch 19/20\n",
            "\u001b[1m352/352\u001b[0m \u001b[32m━━━━━━━━━━━━━━━━━━━━\u001b[0m\u001b[37m\u001b[0m \u001b[1m3s\u001b[0m 7ms/step - accuracy: 0.9813 - loss: 0.0521 - val_accuracy: 0.8617 - val_loss: 0.9502\n",
            "Epoch 20/20\n",
            "\u001b[1m352/352\u001b[0m \u001b[32m━━━━━━━━━━━━━━━━━━━━\u001b[0m\u001b[37m\u001b[0m \u001b[1m3s\u001b[0m 7ms/step - accuracy: 0.9848 - loss: 0.0413 - val_accuracy: 0.8655 - val_loss: 1.0045\n"
          ]
        }
      ]
    },
    {
      "cell_type": "code",
      "source": [
        "# 정확한 상황은 다를 수있지만,,\n",
        "# ==> 거의 overfit 걸린 것을 볼 수 있음!!!!!!\n",
        "# ==> conv : stride\n",
        "#     pool : 대표화!!\n",
        "# +++ DNN : dropout\n",
        "#------------- OF을 좀 피해볼까.. 모델의 복잡도를 좀 낮추자!!!\n",
        "# 초기 cnn 논문 : c - p - c- p etc\n",
        "#      vgg 논문 : c-c-p, c-c-c-p etc"
      ],
      "metadata": {
        "id": "m5T1ahzFT3Eo"
      },
      "execution_count": null,
      "outputs": []
    },
    {
      "cell_type": "code",
      "source": [
        "# 시도1) cnn 초기 버전을 참조!!!!!\n",
        "### 가장 간단한 CNN을 만들어 보겠습니다.\n",
        "model = tf.keras.Sequential(\n",
        "    [\n",
        "        tf.keras.layers.Conv2D( input_shape=(28,28,1), kernel_size=(3,3), filters=16),\n",
        "        tf.keras.layers.MaxPooling2D( pool_size=(2,2), strides=(2,2)),\n",
        "        tf.keras.layers.Conv2D( kernel_size=(3,3), filters=32),\n",
        "        tf.keras.layers.MaxPooling2D( pool_size=(2,2), strides=(2,2)),\n",
        "        tf.keras.layers.Conv2D( kernel_size=(3,3), filters=64),\n",
        "\n",
        "        tf.keras.layers.Flatten(), # 3D ---> 1D\n",
        "        tf.keras.layers.Dropout(rate = 0.2),\n",
        "        tf.keras.layers.Dense( units = 128, activation=\"relu\"),\n",
        "        tf.keras.layers.Dropout(rate = 0.2),\n",
        "        tf.keras.layers.Dense( units = 10, activation=\"softmax\")\n",
        "\n",
        "    ]\n",
        ")\n",
        "model"
      ],
      "metadata": {
        "colab": {
          "base_uri": "https://localhost:8080/"
        },
        "id": "J6K5CjGcUwwR",
        "outputId": "ba76c0c6-ccbc-4c35-cc41-4f5c07388b76"
      },
      "execution_count": null,
      "outputs": [
        {
          "output_type": "execute_result",
          "data": {
            "text/plain": [
              "<Sequential name=sequential_3, built=True>"
            ]
          },
          "metadata": {},
          "execution_count": 23
        }
      ]
    },
    {
      "cell_type": "code",
      "source": [
        "model.summary()"
      ],
      "metadata": {
        "colab": {
          "base_uri": "https://localhost:8080/",
          "height": 474
        },
        "id": "6je6aPDYUwy-",
        "outputId": "ec17776c-818d-4206-a4a6-b993f33415c2"
      },
      "execution_count": null,
      "outputs": [
        {
          "output_type": "display_data",
          "data": {
            "text/plain": [
              "\u001b[1mModel: \"sequential_3\"\u001b[0m\n"
            ],
            "text/html": [
              "<pre style=\"white-space:pre;overflow-x:auto;line-height:normal;font-family:Menlo,'DejaVu Sans Mono',consolas,'Courier New',monospace\"><span style=\"font-weight: bold\">Model: \"sequential_3\"</span>\n",
              "</pre>\n"
            ]
          },
          "metadata": {}
        },
        {
          "output_type": "display_data",
          "data": {
            "text/plain": [
              "┏━━━━━━━━━━━━━━━━━━━━━━━━━━━━━━━━━━━━━━┳━━━━━━━━━━━━━━━━━━━━━━━━━━━━━┳━━━━━━━━━━━━━━━━━┓\n",
              "┃\u001b[1m \u001b[0m\u001b[1mLayer (type)                        \u001b[0m\u001b[1m \u001b[0m┃\u001b[1m \u001b[0m\u001b[1mOutput Shape               \u001b[0m\u001b[1m \u001b[0m┃\u001b[1m \u001b[0m\u001b[1m        Param #\u001b[0m\u001b[1m \u001b[0m┃\n",
              "┡━━━━━━━━━━━━━━━━━━━━━━━━━━━━━━━━━━━━━━╇━━━━━━━━━━━━━━━━━━━━━━━━━━━━━╇━━━━━━━━━━━━━━━━━┩\n",
              "│ conv2d_12 (\u001b[38;5;33mConv2D\u001b[0m)                   │ (\u001b[38;5;45mNone\u001b[0m, \u001b[38;5;34m26\u001b[0m, \u001b[38;5;34m26\u001b[0m, \u001b[38;5;34m16\u001b[0m)          │             \u001b[38;5;34m160\u001b[0m │\n",
              "├──────────────────────────────────────┼─────────────────────────────┼─────────────────┤\n",
              "│ max_pooling2d_7 (\u001b[38;5;33mMaxPooling2D\u001b[0m)       │ (\u001b[38;5;45mNone\u001b[0m, \u001b[38;5;34m13\u001b[0m, \u001b[38;5;34m13\u001b[0m, \u001b[38;5;34m16\u001b[0m)          │               \u001b[38;5;34m0\u001b[0m │\n",
              "├──────────────────────────────────────┼─────────────────────────────┼─────────────────┤\n",
              "│ conv2d_13 (\u001b[38;5;33mConv2D\u001b[0m)                   │ (\u001b[38;5;45mNone\u001b[0m, \u001b[38;5;34m11\u001b[0m, \u001b[38;5;34m11\u001b[0m, \u001b[38;5;34m32\u001b[0m)          │           \u001b[38;5;34m4,640\u001b[0m │\n",
              "├──────────────────────────────────────┼─────────────────────────────┼─────────────────┤\n",
              "│ max_pooling2d_8 (\u001b[38;5;33mMaxPooling2D\u001b[0m)       │ (\u001b[38;5;45mNone\u001b[0m, \u001b[38;5;34m5\u001b[0m, \u001b[38;5;34m5\u001b[0m, \u001b[38;5;34m32\u001b[0m)            │               \u001b[38;5;34m0\u001b[0m │\n",
              "├──────────────────────────────────────┼─────────────────────────────┼─────────────────┤\n",
              "│ conv2d_14 (\u001b[38;5;33mConv2D\u001b[0m)                   │ (\u001b[38;5;45mNone\u001b[0m, \u001b[38;5;34m3\u001b[0m, \u001b[38;5;34m3\u001b[0m, \u001b[38;5;34m64\u001b[0m)            │          \u001b[38;5;34m18,496\u001b[0m │\n",
              "├──────────────────────────────────────┼─────────────────────────────┼─────────────────┤\n",
              "│ flatten_4 (\u001b[38;5;33mFlatten\u001b[0m)                  │ (\u001b[38;5;45mNone\u001b[0m, \u001b[38;5;34m576\u001b[0m)                 │               \u001b[38;5;34m0\u001b[0m │\n",
              "├──────────────────────────────────────┼─────────────────────────────┼─────────────────┤\n",
              "│ dropout_4 (\u001b[38;5;33mDropout\u001b[0m)                  │ (\u001b[38;5;45mNone\u001b[0m, \u001b[38;5;34m576\u001b[0m)                 │               \u001b[38;5;34m0\u001b[0m │\n",
              "├──────────────────────────────────────┼─────────────────────────────┼─────────────────┤\n",
              "│ dense_8 (\u001b[38;5;33mDense\u001b[0m)                      │ (\u001b[38;5;45mNone\u001b[0m, \u001b[38;5;34m128\u001b[0m)                 │          \u001b[38;5;34m73,856\u001b[0m │\n",
              "├──────────────────────────────────────┼─────────────────────────────┼─────────────────┤\n",
              "│ dropout_5 (\u001b[38;5;33mDropout\u001b[0m)                  │ (\u001b[38;5;45mNone\u001b[0m, \u001b[38;5;34m128\u001b[0m)                 │               \u001b[38;5;34m0\u001b[0m │\n",
              "├──────────────────────────────────────┼─────────────────────────────┼─────────────────┤\n",
              "│ dense_9 (\u001b[38;5;33mDense\u001b[0m)                      │ (\u001b[38;5;45mNone\u001b[0m, \u001b[38;5;34m10\u001b[0m)                  │           \u001b[38;5;34m1,290\u001b[0m │\n",
              "└──────────────────────────────────────┴─────────────────────────────┴─────────────────┘\n"
            ],
            "text/html": [
              "<pre style=\"white-space:pre;overflow-x:auto;line-height:normal;font-family:Menlo,'DejaVu Sans Mono',consolas,'Courier New',monospace\">┏━━━━━━━━━━━━━━━━━━━━━━━━━━━━━━━━━━━━━━┳━━━━━━━━━━━━━━━━━━━━━━━━━━━━━┳━━━━━━━━━━━━━━━━━┓\n",
              "┃<span style=\"font-weight: bold\"> Layer (type)                         </span>┃<span style=\"font-weight: bold\"> Output Shape                </span>┃<span style=\"font-weight: bold\">         Param # </span>┃\n",
              "┡━━━━━━━━━━━━━━━━━━━━━━━━━━━━━━━━━━━━━━╇━━━━━━━━━━━━━━━━━━━━━━━━━━━━━╇━━━━━━━━━━━━━━━━━┩\n",
              "│ conv2d_12 (<span style=\"color: #0087ff; text-decoration-color: #0087ff\">Conv2D</span>)                   │ (<span style=\"color: #00d7ff; text-decoration-color: #00d7ff\">None</span>, <span style=\"color: #00af00; text-decoration-color: #00af00\">26</span>, <span style=\"color: #00af00; text-decoration-color: #00af00\">26</span>, <span style=\"color: #00af00; text-decoration-color: #00af00\">16</span>)          │             <span style=\"color: #00af00; text-decoration-color: #00af00\">160</span> │\n",
              "├──────────────────────────────────────┼─────────────────────────────┼─────────────────┤\n",
              "│ max_pooling2d_7 (<span style=\"color: #0087ff; text-decoration-color: #0087ff\">MaxPooling2D</span>)       │ (<span style=\"color: #00d7ff; text-decoration-color: #00d7ff\">None</span>, <span style=\"color: #00af00; text-decoration-color: #00af00\">13</span>, <span style=\"color: #00af00; text-decoration-color: #00af00\">13</span>, <span style=\"color: #00af00; text-decoration-color: #00af00\">16</span>)          │               <span style=\"color: #00af00; text-decoration-color: #00af00\">0</span> │\n",
              "├──────────────────────────────────────┼─────────────────────────────┼─────────────────┤\n",
              "│ conv2d_13 (<span style=\"color: #0087ff; text-decoration-color: #0087ff\">Conv2D</span>)                   │ (<span style=\"color: #00d7ff; text-decoration-color: #00d7ff\">None</span>, <span style=\"color: #00af00; text-decoration-color: #00af00\">11</span>, <span style=\"color: #00af00; text-decoration-color: #00af00\">11</span>, <span style=\"color: #00af00; text-decoration-color: #00af00\">32</span>)          │           <span style=\"color: #00af00; text-decoration-color: #00af00\">4,640</span> │\n",
              "├──────────────────────────────────────┼─────────────────────────────┼─────────────────┤\n",
              "│ max_pooling2d_8 (<span style=\"color: #0087ff; text-decoration-color: #0087ff\">MaxPooling2D</span>)       │ (<span style=\"color: #00d7ff; text-decoration-color: #00d7ff\">None</span>, <span style=\"color: #00af00; text-decoration-color: #00af00\">5</span>, <span style=\"color: #00af00; text-decoration-color: #00af00\">5</span>, <span style=\"color: #00af00; text-decoration-color: #00af00\">32</span>)            │               <span style=\"color: #00af00; text-decoration-color: #00af00\">0</span> │\n",
              "├──────────────────────────────────────┼─────────────────────────────┼─────────────────┤\n",
              "│ conv2d_14 (<span style=\"color: #0087ff; text-decoration-color: #0087ff\">Conv2D</span>)                   │ (<span style=\"color: #00d7ff; text-decoration-color: #00d7ff\">None</span>, <span style=\"color: #00af00; text-decoration-color: #00af00\">3</span>, <span style=\"color: #00af00; text-decoration-color: #00af00\">3</span>, <span style=\"color: #00af00; text-decoration-color: #00af00\">64</span>)            │          <span style=\"color: #00af00; text-decoration-color: #00af00\">18,496</span> │\n",
              "├──────────────────────────────────────┼─────────────────────────────┼─────────────────┤\n",
              "│ flatten_4 (<span style=\"color: #0087ff; text-decoration-color: #0087ff\">Flatten</span>)                  │ (<span style=\"color: #00d7ff; text-decoration-color: #00d7ff\">None</span>, <span style=\"color: #00af00; text-decoration-color: #00af00\">576</span>)                 │               <span style=\"color: #00af00; text-decoration-color: #00af00\">0</span> │\n",
              "├──────────────────────────────────────┼─────────────────────────────┼─────────────────┤\n",
              "│ dropout_4 (<span style=\"color: #0087ff; text-decoration-color: #0087ff\">Dropout</span>)                  │ (<span style=\"color: #00d7ff; text-decoration-color: #00d7ff\">None</span>, <span style=\"color: #00af00; text-decoration-color: #00af00\">576</span>)                 │               <span style=\"color: #00af00; text-decoration-color: #00af00\">0</span> │\n",
              "├──────────────────────────────────────┼─────────────────────────────┼─────────────────┤\n",
              "│ dense_8 (<span style=\"color: #0087ff; text-decoration-color: #0087ff\">Dense</span>)                      │ (<span style=\"color: #00d7ff; text-decoration-color: #00d7ff\">None</span>, <span style=\"color: #00af00; text-decoration-color: #00af00\">128</span>)                 │          <span style=\"color: #00af00; text-decoration-color: #00af00\">73,856</span> │\n",
              "├──────────────────────────────────────┼─────────────────────────────┼─────────────────┤\n",
              "│ dropout_5 (<span style=\"color: #0087ff; text-decoration-color: #0087ff\">Dropout</span>)                  │ (<span style=\"color: #00d7ff; text-decoration-color: #00d7ff\">None</span>, <span style=\"color: #00af00; text-decoration-color: #00af00\">128</span>)                 │               <span style=\"color: #00af00; text-decoration-color: #00af00\">0</span> │\n",
              "├──────────────────────────────────────┼─────────────────────────────┼─────────────────┤\n",
              "│ dense_9 (<span style=\"color: #0087ff; text-decoration-color: #0087ff\">Dense</span>)                      │ (<span style=\"color: #00d7ff; text-decoration-color: #00d7ff\">None</span>, <span style=\"color: #00af00; text-decoration-color: #00af00\">10</span>)                  │           <span style=\"color: #00af00; text-decoration-color: #00af00\">1,290</span> │\n",
              "└──────────────────────────────────────┴─────────────────────────────┴─────────────────┘\n",
              "</pre>\n"
            ]
          },
          "metadata": {}
        },
        {
          "output_type": "display_data",
          "data": {
            "text/plain": [
              "\u001b[1m Total params: \u001b[0m\u001b[38;5;34m98,442\u001b[0m (384.54 KB)\n"
            ],
            "text/html": [
              "<pre style=\"white-space:pre;overflow-x:auto;line-height:normal;font-family:Menlo,'DejaVu Sans Mono',consolas,'Courier New',monospace\"><span style=\"font-weight: bold\"> Total params: </span><span style=\"color: #00af00; text-decoration-color: #00af00\">98,442</span> (384.54 KB)\n",
              "</pre>\n"
            ]
          },
          "metadata": {}
        },
        {
          "output_type": "display_data",
          "data": {
            "text/plain": [
              "\u001b[1m Trainable params: \u001b[0m\u001b[38;5;34m98,442\u001b[0m (384.54 KB)\n"
            ],
            "text/html": [
              "<pre style=\"white-space:pre;overflow-x:auto;line-height:normal;font-family:Menlo,'DejaVu Sans Mono',consolas,'Courier New',monospace\"><span style=\"font-weight: bold\"> Trainable params: </span><span style=\"color: #00af00; text-decoration-color: #00af00\">98,442</span> (384.54 KB)\n",
              "</pre>\n"
            ]
          },
          "metadata": {}
        },
        {
          "output_type": "display_data",
          "data": {
            "text/plain": [
              "\u001b[1m Non-trainable params: \u001b[0m\u001b[38;5;34m0\u001b[0m (0.00 B)\n"
            ],
            "text/html": [
              "<pre style=\"white-space:pre;overflow-x:auto;line-height:normal;font-family:Menlo,'DejaVu Sans Mono',consolas,'Courier New',monospace\"><span style=\"font-weight: bold\"> Non-trainable params: </span><span style=\"color: #00af00; text-decoration-color: #00af00\">0</span> (0.00 B)\n",
              "</pre>\n"
            ]
          },
          "metadata": {}
        }
      ]
    },
    {
      "cell_type": "code",
      "source": [
        "# 이거 그러면 어떤 조합이 best냐!!!!!!!\n",
        "# ==> 실험!!!!! + optuna etc"
      ],
      "metadata": {
        "id": "7_R6ZSEOUw13"
      },
      "execution_count": null,
      "outputs": []
    },
    {
      "cell_type": "code",
      "source": [
        "\n",
        "model.compile(\n",
        "    # 정답을 있는 라벨인코딩값을 그대로 사용 : loss --> sparse\n",
        "    loss = \"sparse_categorical_crossentropy\",\n",
        "    optimizer = tf.keras.optimizers.Adam(),\n",
        "    metrics = [\"accuracy\"]\n",
        ")\n",
        "history = model.fit(\n",
        "    train_X, train_y,\n",
        "    # ===> 굳이 to_categorical()사용을 안 한 이유 : loss에서 처리!!!!\n",
        "    epochs = 20,\n",
        "    validation_split = 0.25,\n",
        "    batch_size = 128\n",
        ")\n"
      ],
      "metadata": {
        "colab": {
          "base_uri": "https://localhost:8080/"
        },
        "id": "1DqK5V8TUw82",
        "outputId": "ac8f6092-ed4a-4c3f-a808-f8e82160ad77"
      },
      "execution_count": null,
      "outputs": [
        {
          "output_type": "stream",
          "name": "stdout",
          "text": [
            "Epoch 1/20\n",
            "\u001b[1m352/352\u001b[0m \u001b[32m━━━━━━━━━━━━━━━━━━━━\u001b[0m\u001b[37m\u001b[0m \u001b[1m9s\u001b[0m 14ms/step - accuracy: 0.6750 - loss: 0.9104 - val_accuracy: 0.8361 - val_loss: 0.4485\n",
            "Epoch 2/20\n",
            "\u001b[1m352/352\u001b[0m \u001b[32m━━━━━━━━━━━━━━━━━━━━\u001b[0m\u001b[37m\u001b[0m \u001b[1m4s\u001b[0m 4ms/step - accuracy: 0.8354 - loss: 0.4560 - val_accuracy: 0.8605 - val_loss: 0.3767\n",
            "Epoch 3/20\n",
            "\u001b[1m352/352\u001b[0m \u001b[32m━━━━━━━━━━━━━━━━━━━━\u001b[0m\u001b[37m\u001b[0m \u001b[1m2s\u001b[0m 3ms/step - accuracy: 0.8601 - loss: 0.3829 - val_accuracy: 0.8639 - val_loss: 0.3646\n",
            "Epoch 4/20\n",
            "\u001b[1m352/352\u001b[0m \u001b[32m━━━━━━━━━━━━━━━━━━━━\u001b[0m\u001b[37m\u001b[0m \u001b[1m1s\u001b[0m 3ms/step - accuracy: 0.8704 - loss: 0.3557 - val_accuracy: 0.8754 - val_loss: 0.3338\n",
            "Epoch 5/20\n",
            "\u001b[1m352/352\u001b[0m \u001b[32m━━━━━━━━━━━━━━━━━━━━\u001b[0m\u001b[37m\u001b[0m \u001b[1m1s\u001b[0m 3ms/step - accuracy: 0.8803 - loss: 0.3287 - val_accuracy: 0.8847 - val_loss: 0.3171\n",
            "Epoch 6/20\n",
            "\u001b[1m352/352\u001b[0m \u001b[32m━━━━━━━━━━━━━━━━━━━━\u001b[0m\u001b[37m\u001b[0m \u001b[1m1s\u001b[0m 3ms/step - accuracy: 0.8861 - loss: 0.3119 - val_accuracy: 0.8883 - val_loss: 0.3071\n",
            "Epoch 7/20\n",
            "\u001b[1m352/352\u001b[0m \u001b[32m━━━━━━━━━━━━━━━━━━━━\u001b[0m\u001b[37m\u001b[0m \u001b[1m1s\u001b[0m 4ms/step - accuracy: 0.8928 - loss: 0.2935 - val_accuracy: 0.8898 - val_loss: 0.2997\n",
            "Epoch 8/20\n",
            "\u001b[1m352/352\u001b[0m \u001b[32m━━━━━━━━━━━━━━━━━━━━\u001b[0m\u001b[37m\u001b[0m \u001b[1m2s\u001b[0m 4ms/step - accuracy: 0.8958 - loss: 0.2826 - val_accuracy: 0.8919 - val_loss: 0.2994\n",
            "Epoch 9/20\n",
            "\u001b[1m352/352\u001b[0m \u001b[32m━━━━━━━━━━━━━━━━━━━━\u001b[0m\u001b[37m\u001b[0m \u001b[1m2s\u001b[0m 3ms/step - accuracy: 0.9002 - loss: 0.2715 - val_accuracy: 0.8929 - val_loss: 0.2924\n",
            "Epoch 10/20\n",
            "\u001b[1m352/352\u001b[0m \u001b[32m━━━━━━━━━━━━━━━━━━━━\u001b[0m\u001b[37m\u001b[0m \u001b[1m1s\u001b[0m 3ms/step - accuracy: 0.9039 - loss: 0.2563 - val_accuracy: 0.8925 - val_loss: 0.2928\n",
            "Epoch 11/20\n",
            "\u001b[1m352/352\u001b[0m \u001b[32m━━━━━━━━━━━━━━━━━━━━\u001b[0m\u001b[37m\u001b[0m \u001b[1m1s\u001b[0m 3ms/step - accuracy: 0.9039 - loss: 0.2558 - val_accuracy: 0.8974 - val_loss: 0.2800\n",
            "Epoch 12/20\n",
            "\u001b[1m352/352\u001b[0m \u001b[32m━━━━━━━━━━━━━━━━━━━━\u001b[0m\u001b[37m\u001b[0m \u001b[1m1s\u001b[0m 3ms/step - accuracy: 0.9074 - loss: 0.2450 - val_accuracy: 0.8997 - val_loss: 0.2796\n",
            "Epoch 13/20\n",
            "\u001b[1m352/352\u001b[0m \u001b[32m━━━━━━━━━━━━━━━━━━━━\u001b[0m\u001b[37m\u001b[0m \u001b[1m1s\u001b[0m 3ms/step - accuracy: 0.9116 - loss: 0.2370 - val_accuracy: 0.8989 - val_loss: 0.2779\n",
            "Epoch 14/20\n",
            "\u001b[1m352/352\u001b[0m \u001b[32m━━━━━━━━━━━━━━━━━━━━\u001b[0m\u001b[37m\u001b[0m \u001b[1m1s\u001b[0m 3ms/step - accuracy: 0.9152 - loss: 0.2305 - val_accuracy: 0.8983 - val_loss: 0.2837\n",
            "Epoch 15/20\n",
            "\u001b[1m352/352\u001b[0m \u001b[32m━━━━━━━━━━━━━━━━━━━━\u001b[0m\u001b[37m\u001b[0m \u001b[1m2s\u001b[0m 4ms/step - accuracy: 0.9156 - loss: 0.2255 - val_accuracy: 0.9009 - val_loss: 0.2784\n",
            "Epoch 16/20\n",
            "\u001b[1m352/352\u001b[0m \u001b[32m━━━━━━━━━━━━━━━━━━━━\u001b[0m\u001b[37m\u001b[0m \u001b[1m2s\u001b[0m 4ms/step - accuracy: 0.9177 - loss: 0.2195 - val_accuracy: 0.8965 - val_loss: 0.2969\n",
            "Epoch 17/20\n",
            "\u001b[1m352/352\u001b[0m \u001b[32m━━━━━━━━━━━━━━━━━━━━\u001b[0m\u001b[37m\u001b[0m \u001b[1m1s\u001b[0m 4ms/step - accuracy: 0.9188 - loss: 0.2171 - val_accuracy: 0.9016 - val_loss: 0.2765\n",
            "Epoch 18/20\n",
            "\u001b[1m352/352\u001b[0m \u001b[32m━━━━━━━━━━━━━━━━━━━━\u001b[0m\u001b[37m\u001b[0m \u001b[1m1s\u001b[0m 3ms/step - accuracy: 0.9254 - loss: 0.2022 - val_accuracy: 0.9015 - val_loss: 0.2795\n",
            "Epoch 19/20\n",
            "\u001b[1m352/352\u001b[0m \u001b[32m━━━━━━━━━━━━━━━━━━━━\u001b[0m\u001b[37m\u001b[0m \u001b[1m1s\u001b[0m 3ms/step - accuracy: 0.9246 - loss: 0.1969 - val_accuracy: 0.9028 - val_loss: 0.2799\n",
            "Epoch 20/20\n",
            "\u001b[1m352/352\u001b[0m \u001b[32m━━━━━━━━━━━━━━━━━━━━\u001b[0m\u001b[37m\u001b[0m \u001b[1m1s\u001b[0m 4ms/step - accuracy: 0.9273 - loss: 0.1945 - val_accuracy: 0.8937 - val_loss: 0.3013\n"
          ]
        }
      ]
    },
    {
      "cell_type": "code",
      "source": [
        "### 모델링에서 중요한 기본적인 부분 : Bais - Variance!!!!\n",
        "#   underFit ~~~  적당한 Fit   ~~~~ overFIt\n",
        "\n",
        "# 기존 ml : hpt 중심으로 해당하는 모델의 성능/파라미터!!!\n",
        "#           max_depth ,,,.\n",
        "# DL      : 모델의 구조를 통해서 조절!!!!!\n",
        "#           연결성을 중심으로 조절!!! 구조중심으로 !!!"
      ],
      "metadata": {
        "id": "_fDe1btzWscx"
      },
      "execution_count": null,
      "outputs": []
    },
    {
      "cell_type": "code",
      "source": [],
      "metadata": {
        "id": "q6dzEprgWsfX"
      },
      "execution_count": null,
      "outputs": []
    },
    {
      "cell_type": "code",
      "source": [
        "# ==> 모델을 조금 경량화를 했더니..학습이 전 보다 잘 된다...\n",
        "# ++ 더 학습을 해봐도( epoch를 더 늘려봐도,,,)\n",
        "# ++ epohc를 더 걸게 되면,, 마지막 EP : OF\n",
        "# ===> 중간에 모델들을 저장!!!!!! callback!!!!!!!\n",
        "# ++ 중간에 모델을 저장 & ES"
      ],
      "metadata": {
        "id": "q62oU49yWsh7"
      },
      "execution_count": null,
      "outputs": []
    },
    {
      "cell_type": "code",
      "source": [
        "import os"
      ],
      "metadata": {
        "id": "-HRhqe2_Wske"
      },
      "execution_count": null,
      "outputs": []
    },
    {
      "cell_type": "code",
      "source": [
        "# --> epochs를 일단 크게 세팅을 하고,,,\n",
        "#     ES : 더 이상 성능 개선이 없으면 중지!!!!!\n",
        "#     중간중간 weights 저장!!!(모델)"
      ],
      "metadata": {
        "id": "W65hSafbWsmx"
      },
      "execution_count": null,
      "outputs": []
    },
    {
      "cell_type": "code",
      "source": [
        "cp_path =\"training/cp-{epoch:04d}.weights.h5\"\n",
        "cp_dir = os.path.dirname(cp_path)\n",
        "cp_callback = tf.keras.callbacks.ModelCheckpoint(\n",
        "    cp_path,\n",
        "    verbose= 1,\n",
        "    save_weights_only=True\n",
        ")\n",
        "es_callback = tf.keras.callbacks.EarlyStopping(\n",
        "    monitor=\"val_loss\",\n",
        "    patience = 10,\n",
        ")\n",
        "history = model.fit(\n",
        "    train_X, train_y,\n",
        "    # ===> 굳이 to_categorical()사용을 안 한 이유 : loss에서 처리!!!!\n",
        "    epochs = 200,\n",
        "    validation_split = 0.25,\n",
        "    batch_size = 128,\n",
        "    # +++ callback\n",
        "    callbacks = [cp_callback,es_callback ]\n",
        ")"
      ],
      "metadata": {
        "colab": {
          "base_uri": "https://localhost:8080/"
        },
        "id": "9Mw9efkdX2FX",
        "outputId": "78ea86ac-29c8-4b78-b1ec-9fd7e16ef741"
      },
      "execution_count": null,
      "outputs": [
        {
          "output_type": "stream",
          "name": "stdout",
          "text": [
            "Epoch 1/200\n",
            "\u001b[1m338/352\u001b[0m \u001b[32m━━━━━━━━━━━━━━━━━━━\u001b[0m\u001b[37m━\u001b[0m \u001b[1m0s\u001b[0m 3ms/step - accuracy: 0.9282 - loss: 0.1909\n",
            "Epoch 1: saving model to training/cp-0001.weights.h5\n",
            "\u001b[1m352/352\u001b[0m \u001b[32m━━━━━━━━━━━━━━━━━━━━\u001b[0m\u001b[37m\u001b[0m \u001b[1m1s\u001b[0m 4ms/step - accuracy: 0.9282 - loss: 0.1910 - val_accuracy: 0.9023 - val_loss: 0.2781\n",
            "Epoch 2/200\n",
            "\u001b[1m337/352\u001b[0m \u001b[32m━━━━━━━━━━━━━━━━━━━\u001b[0m\u001b[37m━\u001b[0m \u001b[1m0s\u001b[0m 3ms/step - accuracy: 0.9297 - loss: 0.1888\n",
            "Epoch 2: saving model to training/cp-0002.weights.h5\n",
            "\u001b[1m352/352\u001b[0m \u001b[32m━━━━━━━━━━━━━━━━━━━━\u001b[0m\u001b[37m\u001b[0m \u001b[1m1s\u001b[0m 4ms/step - accuracy: 0.9296 - loss: 0.1888 - val_accuracy: 0.9019 - val_loss: 0.2961\n",
            "Epoch 3/200\n",
            "\u001b[1m338/352\u001b[0m \u001b[32m━━━━━━━━━━━━━━━━━━━\u001b[0m\u001b[37m━\u001b[0m \u001b[1m0s\u001b[0m 3ms/step - accuracy: 0.9292 - loss: 0.1883\n",
            "Epoch 3: saving model to training/cp-0003.weights.h5\n",
            "\u001b[1m352/352\u001b[0m \u001b[32m━━━━━━━━━━━━━━━━━━━━\u001b[0m\u001b[37m\u001b[0m \u001b[1m3s\u001b[0m 4ms/step - accuracy: 0.9292 - loss: 0.1883 - val_accuracy: 0.9053 - val_loss: 0.2818\n",
            "Epoch 4/200\n",
            "\u001b[1m336/352\u001b[0m \u001b[32m━━━━━━━━━━━━━━━━━━━\u001b[0m\u001b[37m━\u001b[0m \u001b[1m0s\u001b[0m 3ms/step - accuracy: 0.9304 - loss: 0.1812\n",
            "Epoch 4: saving model to training/cp-0004.weights.h5\n",
            "\u001b[1m352/352\u001b[0m \u001b[32m━━━━━━━━━━━━━━━━━━━━\u001b[0m\u001b[37m\u001b[0m \u001b[1m3s\u001b[0m 4ms/step - accuracy: 0.9304 - loss: 0.1813 - val_accuracy: 0.9031 - val_loss: 0.2882\n",
            "Epoch 5/200\n",
            "\u001b[1m346/352\u001b[0m \u001b[32m━━━━━━━━━━━━━━━━━━━\u001b[0m\u001b[37m━\u001b[0m \u001b[1m0s\u001b[0m 3ms/step - accuracy: 0.9301 - loss: 0.1797\n",
            "Epoch 5: saving model to training/cp-0005.weights.h5\n",
            "\u001b[1m352/352\u001b[0m \u001b[32m━━━━━━━━━━━━━━━━━━━━\u001b[0m\u001b[37m\u001b[0m \u001b[1m2s\u001b[0m 3ms/step - accuracy: 0.9302 - loss: 0.1797 - val_accuracy: 0.9044 - val_loss: 0.2881\n",
            "Epoch 6/200\n",
            "\u001b[1m341/352\u001b[0m \u001b[32m━━━━━━━━━━━━━━━━━━━\u001b[0m\u001b[37m━\u001b[0m \u001b[1m0s\u001b[0m 3ms/step - accuracy: 0.9380 - loss: 0.1686\n",
            "Epoch 6: saving model to training/cp-0006.weights.h5\n",
            "\u001b[1m352/352\u001b[0m \u001b[32m━━━━━━━━━━━━━━━━━━━━\u001b[0m\u001b[37m\u001b[0m \u001b[1m1s\u001b[0m 4ms/step - accuracy: 0.9379 - loss: 0.1688 - val_accuracy: 0.9037 - val_loss: 0.2917\n",
            "Epoch 7/200\n",
            "\u001b[1m343/352\u001b[0m \u001b[32m━━━━━━━━━━━━━━━━━━━\u001b[0m\u001b[37m━\u001b[0m \u001b[1m0s\u001b[0m 3ms/step - accuracy: 0.9357 - loss: 0.1699\n",
            "Epoch 7: saving model to training/cp-0007.weights.h5\n",
            "\u001b[1m352/352\u001b[0m \u001b[32m━━━━━━━━━━━━━━━━━━━━\u001b[0m\u001b[37m\u001b[0m \u001b[1m3s\u001b[0m 4ms/step - accuracy: 0.9356 - loss: 0.1699 - val_accuracy: 0.9024 - val_loss: 0.3009\n",
            "Epoch 8/200\n",
            "\u001b[1m347/352\u001b[0m \u001b[32m━━━━━━━━━━━━━━━━━━━\u001b[0m\u001b[37m━\u001b[0m \u001b[1m0s\u001b[0m 3ms/step - accuracy: 0.9399 - loss: 0.1585\n",
            "Epoch 8: saving model to training/cp-0008.weights.h5\n",
            "\u001b[1m352/352\u001b[0m \u001b[32m━━━━━━━━━━━━━━━━━━━━\u001b[0m\u001b[37m\u001b[0m \u001b[1m1s\u001b[0m 3ms/step - accuracy: 0.9399 - loss: 0.1587 - val_accuracy: 0.9039 - val_loss: 0.2991\n",
            "Epoch 9/200\n",
            "\u001b[1m347/352\u001b[0m \u001b[32m━━━━━━━━━━━━━━━━━━━\u001b[0m\u001b[37m━\u001b[0m \u001b[1m0s\u001b[0m 3ms/step - accuracy: 0.9402 - loss: 0.1557\n",
            "Epoch 9: saving model to training/cp-0009.weights.h5\n",
            "\u001b[1m352/352\u001b[0m \u001b[32m━━━━━━━━━━━━━━━━━━━━\u001b[0m\u001b[37m\u001b[0m \u001b[1m1s\u001b[0m 3ms/step - accuracy: 0.9401 - loss: 0.1558 - val_accuracy: 0.9065 - val_loss: 0.2939\n",
            "Epoch 10/200\n",
            "\u001b[1m343/352\u001b[0m \u001b[32m━━━━━━━━━━━━━━━━━━━\u001b[0m\u001b[37m━\u001b[0m \u001b[1m0s\u001b[0m 3ms/step - accuracy: 0.9410 - loss: 0.1566\n",
            "Epoch 10: saving model to training/cp-0010.weights.h5\n",
            "\u001b[1m352/352\u001b[0m \u001b[32m━━━━━━━━━━━━━━━━━━━━\u001b[0m\u001b[37m\u001b[0m \u001b[1m2s\u001b[0m 4ms/step - accuracy: 0.9409 - loss: 0.1567 - val_accuracy: 0.9029 - val_loss: 0.3018\n",
            "Epoch 11/200\n",
            "\u001b[1m344/352\u001b[0m \u001b[32m━━━━━━━━━━━━━━━━━━━\u001b[0m\u001b[37m━\u001b[0m \u001b[1m0s\u001b[0m 4ms/step - accuracy: 0.9398 - loss: 0.1552\n",
            "Epoch 11: saving model to training/cp-0011.weights.h5\n",
            "\u001b[1m352/352\u001b[0m \u001b[32m━━━━━━━━━━━━━━━━━━━━\u001b[0m\u001b[37m\u001b[0m \u001b[1m2s\u001b[0m 4ms/step - accuracy: 0.9398 - loss: 0.1553 - val_accuracy: 0.9050 - val_loss: 0.3035\n"
          ]
        }
      ]
    },
    {
      "cell_type": "code",
      "source": [
        "# 참고) 위의 코드는 처음 epoch 20을 돌고 나서 200번을 시도!!\n",
        "#     ===> 시작점이 앞에서와 다르게 높이 시작을 함!!!!"
      ],
      "metadata": {
        "id": "aipCPx4EX2H7"
      },
      "execution_count": null,
      "outputs": []
    },
    {
      "cell_type": "code",
      "source": [
        "model # --> 맨 마지막 eopoch의 w!!!\n",
        "model.evaluate(test_X, test_y)"
      ],
      "metadata": {
        "colab": {
          "base_uri": "https://localhost:8080/"
        },
        "id": "8jI9a2uwX2Kh",
        "outputId": "c9d06b9d-1f8f-4568-c769-cdade9055683"
      },
      "execution_count": null,
      "outputs": [
        {
          "output_type": "stream",
          "name": "stdout",
          "text": [
            "\u001b[1m313/313\u001b[0m \u001b[32m━━━━━━━━━━━━━━━━━━━━\u001b[0m\u001b[37m\u001b[0m \u001b[1m2s\u001b[0m 3ms/step - accuracy: 0.9051 - loss: 0.3146\n"
          ]
        },
        {
          "output_type": "execute_result",
          "data": {
            "text/plain": [
              "[0.30805540084838867, 0.9028000235557556]"
            ]
          },
          "metadata": {},
          "execution_count": 29
        }
      ]
    },
    {
      "cell_type": "code",
      "source": [
        "# 지나온 eopoch 에 있던 모델을 가지고 평가!!/사용!!!\n",
        "load_cp_weights= \"training/cp-0003.weights.h5\"\n",
        "\n",
        "# 모델의 굴조 : model변수!!!!!!!\n",
        "model.load_weights(load_cp_weights )\n",
        "\n",
        "# epoch 3인 모델을 불러와서 평가!!!\n",
        "model.evaluate(test_X, test_y)"
      ],
      "metadata": {
        "colab": {
          "base_uri": "https://localhost:8080/"
        },
        "id": "SnTBN20VZeXK",
        "outputId": "861e9222-30ca-4f8b-c124-26eac0edfa91"
      },
      "execution_count": null,
      "outputs": [
        {
          "output_type": "stream",
          "name": "stdout",
          "text": [
            "\u001b[1m313/313\u001b[0m \u001b[32m━━━━━━━━━━━━━━━━━━━━\u001b[0m\u001b[37m\u001b[0m \u001b[1m0s\u001b[0m 1ms/step - accuracy: 0.9010 - loss: 0.2992\n"
          ]
        },
        {
          "output_type": "execute_result",
          "data": {
            "text/plain": [
              "[0.29420435428619385, 0.9014999866485596]"
            ]
          },
          "metadata": {},
          "execution_count": 30
        }
      ]
    },
    {
      "cell_type": "code",
      "source": [
        "### ===> DNN으로는 0.87~0.88~0.89\n",
        "###      CNN설계   0.9X...\n",
        "\n",
        "# 최적화 방법중 1.\n",
        "### +++ 최적화를 하고 싶다!!!!! 구조에 대한 최적화!!!\n",
        "#       : 필터의 수, 필터의 사이즈,\n",
        "#       : c, p 레이어의 수,,,etc\n",
        "#       : optua 실험을 할 수 있지만,,,,시간!!!!!비용!!!!\n",
        "#       ===> 다음에 체크!!!!"
      ],
      "metadata": {
        "id": "CIhl09kDaNQP"
      },
      "execution_count": null,
      "outputs": []
    },
    {
      "cell_type": "code",
      "source": [
        "# 대안1\n",
        "# --> 논문, 다른 사람의 리포트,,,,,\n",
        "# --> 잘 되는 모델의 구조, 설계 방식을 사전 조사!!!!\n",
        "#     ++ 데이터 보강!!!!\n",
        "\n",
        "# 대안2\n",
        "# ==> 잘 되는 모델 가져다고 사용하자!!!! + 튜닝!!!!"
      ],
      "metadata": {
        "id": "CJXF_syNaRz6"
      },
      "execution_count": null,
      "outputs": []
    },
    {
      "cell_type": "code",
      "source": [],
      "metadata": {
        "id": "3AmtnUcPaR2X"
      },
      "execution_count": null,
      "outputs": []
    },
    {
      "cell_type": "code",
      "source": [
        "# +++ CNN ----> VGG  ----> etc\n",
        "# cnn : (Conv+ Pool)\n",
        "# vgg : (Conv+Conv+Pool) or (Conv-Conv-Conv-Pool)"
      ],
      "metadata": {
        "id": "EzgRXUmiaR49"
      },
      "execution_count": null,
      "outputs": []
    },
    {
      "cell_type": "code",
      "source": [
        "# VGG선형 연구 결과를 참조"
      ],
      "metadata": {
        "id": "gQB39Pibbn4L"
      },
      "execution_count": null,
      "outputs": []
    },
    {
      "cell_type": "markdown",
      "source": [
        "<img src=\"https://neurohive.io/wp-content/uploads/2018/11/vgg16.png\">"
      ],
      "metadata": {
        "id": "28x0fM68br4I"
      }
    },
    {
      "cell_type": "code",
      "source": [
        "https://arxiv.org/pdf/1409.1556"
      ],
      "metadata": {
        "id": "H3i2E9mgbn6y"
      },
      "execution_count": null,
      "outputs": []
    },
    {
      "cell_type": "code",
      "source": [
        "# --> 의의 : c-p구조 대신에 ccp, cccp  구조도 괜찮아1!!\n",
        "#            성능 기존 대비 잘 나오더라...."
      ],
      "metadata": {
        "id": "YaRy2Rd3bn9H"
      },
      "execution_count": null,
      "outputs": []
    },
    {
      "cell_type": "code",
      "source": [
        "# 의의 : 작은 conv을 가지고 DNN처럼 CNN을 Deep하게 해보자!!!!\n",
        "#       ==> deep(16~19 Layer)\n",
        "#       ==> 실제 이미지분류에 대한 대회에 참가했더니 우수했다!!!!\n",
        "# *** Conv에 대한 layer로 Deep하게 하고 싶다!!!!"
      ],
      "metadata": {
        "id": "HocsYUCewRqz"
      },
      "execution_count": null,
      "outputs": []
    },
    {
      "cell_type": "code",
      "source": [
        "# paper 2.1 Architecture\n",
        "# 224 * 224 * RGB : input( 224,224, 3)"
      ],
      "metadata": {
        "id": "r7uhs_79wRtA"
      },
      "execution_count": null,
      "outputs": []
    },
    {
      "cell_type": "markdown",
      "source": [
        "![image.png](data:image/png;base64,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)"
      ],
      "metadata": {
        "id": "LtiFd8jHywMa"
      }
    },
    {
      "cell_type": "code",
      "source": [
        "# ===> 3 by 3 작은 conv을 여러번 돌려가면서 동일한 FeatureMap을 얻을려고 하는데..\n",
        "#      결과물은 같은데,,,,연산을 해보면,,,,\n",
        "#      conv (3*3) X 3 경우라고 하며나,,, ( 3*3*C*C)* 3\n",
        "# ===> 필요한 파라미터의 수를 비교\n",
        "#      7 by 7 : 7 * 7 * C * C\n",
        "#      (3by3)*3 : (3*3*C*C)*3\n",
        "# ===> 27 / 49 ~~ 1/2\n",
        "# ===> 결론 : 동일한 FM을 추출하는 과정에서,,,\n",
        "#             conv의 사이즈에 대해서 줄이면 (3)\n",
        "#             conv레이어를 더 많이 통과해도 된다!! (3개 )\n",
        "#             but 연산량 : 1번 하는 것 보다 연산량이 줄더라!!!\n",
        "#     제안 : conv(3*3) -conv(3*3) // - conv(3*3) -- pooling!!!!\n",
        "# +++ conv에 대한 층을 16~~19층 등등 쌓아도 되더라!!!!!!!\n",
        "# ===> 공헌 : 이미지에 대한 특징 추출 네트워크\n",
        "#             기존에 DNN처럼 Deep하게 특징들을 추출을 해도\n",
        "#             모델의 크기가 아주 커지지 않을 수 있다!!!\n",
        "#             : conv 필터를 어찌해서 효율성!!!\n",
        "#             : deep 진짜 해보자!!!!\n",
        "#             ===> inception v1~v3/4"
      ],
      "metadata": {
        "id": "4C5nCjYlwRvT"
      },
      "execution_count": null,
      "outputs": []
    },
    {
      "cell_type": "code",
      "source": [],
      "metadata": {
        "id": "kT-4IJ39wRxm"
      },
      "execution_count": null,
      "outputs": []
    },
    {
      "cell_type": "code",
      "source": [
        "# 코드가 조금 길어지니까...모듈을 간단히 불러오겠습니다.\n",
        "from tensorflow.keras.layers import Conv2D, MaxPool2D, Flatten, Dense, Dropout"
      ],
      "metadata": {
        "id": "A9Ql7k_B2_qx"
      },
      "execution_count": null,
      "outputs": []
    },
    {
      "cell_type": "code",
      "source": [
        "# 시도 : 기본적인 VGG 설계 방식을 차용!!!!\n",
        "# but : 입력 데이터의 모양이 다름!!!!\n",
        "#       논문 : 224,224, 3\n",
        "#       나의 데이터 : 28, 28 --> 28, 28, 1"
      ],
      "metadata": {
        "id": "kwBxTjYJ2_tX"
      },
      "execution_count": null,
      "outputs": []
    },
    {
      "cell_type": "code",
      "source": [
        "model_vgg_org = tf.keras.Sequential(\n",
        "    [\n",
        "        # 원본 입력을 기준으로 설계 : 224 224 RGB --> (224,224,3)\n",
        "        Conv2D( input_shape=(224,224,3), kernel_size=(3,3),\n",
        "               filters = 64, padding=\"same\", activation=\"relu\"),\n",
        "        Conv2D(  kernel_size=(3,3),\n",
        "               filters = 64, padding=\"same\", activation=\"relu\"),\n",
        "        MaxPool2D( pool_size=(2,2), strides=(2,2)),\n",
        "\n",
        "        Conv2D(  kernel_size=(3,3),\n",
        "               filters = 128, padding=\"same\", activation=\"relu\"),\n",
        "        Conv2D(  kernel_size=(3,3),\n",
        "               filters = 128, padding=\"same\", activation=\"relu\"),\n",
        "        MaxPool2D( pool_size=(2,2), strides=(2,2)),\n",
        "\n",
        "        Conv2D(  kernel_size=(3,3),\n",
        "               filters = 256, padding=\"same\", activation=\"relu\"),\n",
        "        Conv2D(  kernel_size=(3,3),\n",
        "               filters = 256, padding=\"same\", activation=\"relu\"),\n",
        "        Conv2D(  kernel_size=(3,3),\n",
        "               filters = 256, padding=\"same\", activation=\"relu\"),\n",
        "        MaxPool2D( pool_size=(2,2), strides=(2,2)),\n",
        "\n",
        "        Conv2D(  kernel_size=(3,3),\n",
        "               filters = 512, padding=\"same\", activation=\"relu\"),\n",
        "        Conv2D(  kernel_size=(3,3),\n",
        "               filters = 512, padding=\"same\", activation=\"relu\"),\n",
        "        Conv2D(  kernel_size=(3,3),\n",
        "               filters = 512, padding=\"same\", activation=\"relu\"),\n",
        "        MaxPool2D( pool_size=(2,2), strides=(2,2)),\n",
        "\n",
        "        Conv2D(  kernel_size=(3,3),\n",
        "               filters = 512, padding=\"same\", activation=\"relu\"),\n",
        "        Conv2D(  kernel_size=(3,3),\n",
        "               filters = 512, padding=\"same\", activation=\"relu\"),\n",
        "        Conv2D(  kernel_size=(3,3),\n",
        "               filters = 512, padding=\"same\", activation=\"relu\"),\n",
        "        MaxPool2D( pool_size=(2,2), strides=(2,2)),\n",
        "        ##====> 기본적인 이미지가 가지고 있는 특징 추출!!!!\n",
        "\n",
        "        # 분류를 위한 NN\n",
        "        # 1) 특징 추출 네트워크와 분류 네트워크 연결 : Flatten\n",
        "        Flatten(),\n",
        "        # 2) 분류를 위한 HL\n",
        "        Dense( units = 4096, activation=\"relu\"),\n",
        "        Dense( units = 4096, activation=\"relu\"),\n",
        "        # 3) 출력용으로 대회가 1000가지 분류.,...\n",
        "        Dense( units = 1000, activation=\"softmax\"),\n",
        "    ]\n",
        ")\n",
        "model_vgg_org"
      ],
      "metadata": {
        "colab": {
          "base_uri": "https://localhost:8080/"
        },
        "id": "97mjBvvd2_vz",
        "outputId": "60115109-aa6b-4571-cd29-76c5fa10a8fd"
      },
      "execution_count": null,
      "outputs": [
        {
          "output_type": "stream",
          "name": "stderr",
          "text": [
            "/usr/local/lib/python3.10/dist-packages/keras/src/layers/convolutional/base_conv.py:107: UserWarning: Do not pass an `input_shape`/`input_dim` argument to a layer. When using Sequential models, prefer using an `Input(shape)` object as the first layer in the model instead.\n",
            "  super().__init__(activity_regularizer=activity_regularizer, **kwargs)\n"
          ]
        },
        {
          "output_type": "execute_result",
          "data": {
            "text/plain": [
              "<Sequential name=sequential_1, built=True>"
            ]
          },
          "metadata": {},
          "execution_count": 9
        }
      ]
    },
    {
      "cell_type": "code",
      "source": [
        "model_vgg_org.summary()"
      ],
      "metadata": {
        "colab": {
          "base_uri": "https://localhost:8080/",
          "height": 880
        },
        "id": "1RcXhDou2_yW",
        "outputId": "b79ccde3-65bf-4c57-c79d-f3cd84710b57"
      },
      "execution_count": null,
      "outputs": [
        {
          "output_type": "display_data",
          "data": {
            "text/plain": [
              "\u001b[1mModel: \"sequential_1\"\u001b[0m\n"
            ],
            "text/html": [
              "<pre style=\"white-space:pre;overflow-x:auto;line-height:normal;font-family:Menlo,'DejaVu Sans Mono',consolas,'Courier New',monospace\"><span style=\"font-weight: bold\">Model: \"sequential_1\"</span>\n",
              "</pre>\n"
            ]
          },
          "metadata": {}
        },
        {
          "output_type": "display_data",
          "data": {
            "text/plain": [
              "┏━━━━━━━━━━━━━━━━━━━━━━━━━━━━━━━━━━━━━━┳━━━━━━━━━━━━━━━━━━━━━━━━━━━━━┳━━━━━━━━━━━━━━━━━┓\n",
              "┃\u001b[1m \u001b[0m\u001b[1mLayer (type)                        \u001b[0m\u001b[1m \u001b[0m┃\u001b[1m \u001b[0m\u001b[1mOutput Shape               \u001b[0m\u001b[1m \u001b[0m┃\u001b[1m \u001b[0m\u001b[1m        Param #\u001b[0m\u001b[1m \u001b[0m┃\n",
              "┡━━━━━━━━━━━━━━━━━━━━━━━━━━━━━━━━━━━━━━╇━━━━━━━━━━━━━━━━━━━━━━━━━━━━━╇━━━━━━━━━━━━━━━━━┩\n",
              "│ conv2d_3 (\u001b[38;5;33mConv2D\u001b[0m)                    │ (\u001b[38;5;45mNone\u001b[0m, \u001b[38;5;34m224\u001b[0m, \u001b[38;5;34m224\u001b[0m, \u001b[38;5;34m64\u001b[0m)        │           \u001b[38;5;34m1,792\u001b[0m │\n",
              "├──────────────────────────────────────┼─────────────────────────────┼─────────────────┤\n",
              "│ conv2d_4 (\u001b[38;5;33mConv2D\u001b[0m)                    │ (\u001b[38;5;45mNone\u001b[0m, \u001b[38;5;34m224\u001b[0m, \u001b[38;5;34m224\u001b[0m, \u001b[38;5;34m64\u001b[0m)        │          \u001b[38;5;34m36,928\u001b[0m │\n",
              "├──────────────────────────────────────┼─────────────────────────────┼─────────────────┤\n",
              "│ max_pooling2d (\u001b[38;5;33mMaxPooling2D\u001b[0m)         │ (\u001b[38;5;45mNone\u001b[0m, \u001b[38;5;34m112\u001b[0m, \u001b[38;5;34m112\u001b[0m, \u001b[38;5;34m64\u001b[0m)        │               \u001b[38;5;34m0\u001b[0m │\n",
              "├──────────────────────────────────────┼─────────────────────────────┼─────────────────┤\n",
              "│ conv2d_5 (\u001b[38;5;33mConv2D\u001b[0m)                    │ (\u001b[38;5;45mNone\u001b[0m, \u001b[38;5;34m112\u001b[0m, \u001b[38;5;34m112\u001b[0m, \u001b[38;5;34m128\u001b[0m)       │          \u001b[38;5;34m73,856\u001b[0m │\n",
              "├──────────────────────────────────────┼─────────────────────────────┼─────────────────┤\n",
              "│ conv2d_6 (\u001b[38;5;33mConv2D\u001b[0m)                    │ (\u001b[38;5;45mNone\u001b[0m, \u001b[38;5;34m112\u001b[0m, \u001b[38;5;34m112\u001b[0m, \u001b[38;5;34m128\u001b[0m)       │         \u001b[38;5;34m147,584\u001b[0m │\n",
              "├──────────────────────────────────────┼─────────────────────────────┼─────────────────┤\n",
              "│ max_pooling2d_1 (\u001b[38;5;33mMaxPooling2D\u001b[0m)       │ (\u001b[38;5;45mNone\u001b[0m, \u001b[38;5;34m56\u001b[0m, \u001b[38;5;34m56\u001b[0m, \u001b[38;5;34m128\u001b[0m)         │               \u001b[38;5;34m0\u001b[0m │\n",
              "├──────────────────────────────────────┼─────────────────────────────┼─────────────────┤\n",
              "│ conv2d_7 (\u001b[38;5;33mConv2D\u001b[0m)                    │ (\u001b[38;5;45mNone\u001b[0m, \u001b[38;5;34m56\u001b[0m, \u001b[38;5;34m56\u001b[0m, \u001b[38;5;34m256\u001b[0m)         │         \u001b[38;5;34m295,168\u001b[0m │\n",
              "├──────────────────────────────────────┼─────────────────────────────┼─────────────────┤\n",
              "│ conv2d_8 (\u001b[38;5;33mConv2D\u001b[0m)                    │ (\u001b[38;5;45mNone\u001b[0m, \u001b[38;5;34m56\u001b[0m, \u001b[38;5;34m56\u001b[0m, \u001b[38;5;34m256\u001b[0m)         │         \u001b[38;5;34m590,080\u001b[0m │\n",
              "├──────────────────────────────────────┼─────────────────────────────┼─────────────────┤\n",
              "│ conv2d_9 (\u001b[38;5;33mConv2D\u001b[0m)                    │ (\u001b[38;5;45mNone\u001b[0m, \u001b[38;5;34m56\u001b[0m, \u001b[38;5;34m56\u001b[0m, \u001b[38;5;34m256\u001b[0m)         │         \u001b[38;5;34m590,080\u001b[0m │\n",
              "├──────────────────────────────────────┼─────────────────────────────┼─────────────────┤\n",
              "│ max_pooling2d_2 (\u001b[38;5;33mMaxPooling2D\u001b[0m)       │ (\u001b[38;5;45mNone\u001b[0m, \u001b[38;5;34m28\u001b[0m, \u001b[38;5;34m28\u001b[0m, \u001b[38;5;34m256\u001b[0m)         │               \u001b[38;5;34m0\u001b[0m │\n",
              "├──────────────────────────────────────┼─────────────────────────────┼─────────────────┤\n",
              "│ conv2d_10 (\u001b[38;5;33mConv2D\u001b[0m)                   │ (\u001b[38;5;45mNone\u001b[0m, \u001b[38;5;34m28\u001b[0m, \u001b[38;5;34m28\u001b[0m, \u001b[38;5;34m512\u001b[0m)         │       \u001b[38;5;34m1,180,160\u001b[0m │\n",
              "├──────────────────────────────────────┼─────────────────────────────┼─────────────────┤\n",
              "│ conv2d_11 (\u001b[38;5;33mConv2D\u001b[0m)                   │ (\u001b[38;5;45mNone\u001b[0m, \u001b[38;5;34m28\u001b[0m, \u001b[38;5;34m28\u001b[0m, \u001b[38;5;34m512\u001b[0m)         │       \u001b[38;5;34m2,359,808\u001b[0m │\n",
              "├──────────────────────────────────────┼─────────────────────────────┼─────────────────┤\n",
              "│ conv2d_12 (\u001b[38;5;33mConv2D\u001b[0m)                   │ (\u001b[38;5;45mNone\u001b[0m, \u001b[38;5;34m28\u001b[0m, \u001b[38;5;34m28\u001b[0m, \u001b[38;5;34m512\u001b[0m)         │       \u001b[38;5;34m2,359,808\u001b[0m │\n",
              "├──────────────────────────────────────┼─────────────────────────────┼─────────────────┤\n",
              "│ max_pooling2d_3 (\u001b[38;5;33mMaxPooling2D\u001b[0m)       │ (\u001b[38;5;45mNone\u001b[0m, \u001b[38;5;34m14\u001b[0m, \u001b[38;5;34m14\u001b[0m, \u001b[38;5;34m512\u001b[0m)         │               \u001b[38;5;34m0\u001b[0m │\n",
              "├──────────────────────────────────────┼─────────────────────────────┼─────────────────┤\n",
              "│ conv2d_13 (\u001b[38;5;33mConv2D\u001b[0m)                   │ (\u001b[38;5;45mNone\u001b[0m, \u001b[38;5;34m14\u001b[0m, \u001b[38;5;34m14\u001b[0m, \u001b[38;5;34m512\u001b[0m)         │       \u001b[38;5;34m2,359,808\u001b[0m │\n",
              "├──────────────────────────────────────┼─────────────────────────────┼─────────────────┤\n",
              "│ conv2d_14 (\u001b[38;5;33mConv2D\u001b[0m)                   │ (\u001b[38;5;45mNone\u001b[0m, \u001b[38;5;34m14\u001b[0m, \u001b[38;5;34m14\u001b[0m, \u001b[38;5;34m512\u001b[0m)         │       \u001b[38;5;34m2,359,808\u001b[0m │\n",
              "├──────────────────────────────────────┼─────────────────────────────┼─────────────────┤\n",
              "│ conv2d_15 (\u001b[38;5;33mConv2D\u001b[0m)                   │ (\u001b[38;5;45mNone\u001b[0m, \u001b[38;5;34m14\u001b[0m, \u001b[38;5;34m14\u001b[0m, \u001b[38;5;34m512\u001b[0m)         │       \u001b[38;5;34m2,359,808\u001b[0m │\n",
              "├──────────────────────────────────────┼─────────────────────────────┼─────────────────┤\n",
              "│ max_pooling2d_4 (\u001b[38;5;33mMaxPooling2D\u001b[0m)       │ (\u001b[38;5;45mNone\u001b[0m, \u001b[38;5;34m7\u001b[0m, \u001b[38;5;34m7\u001b[0m, \u001b[38;5;34m512\u001b[0m)           │               \u001b[38;5;34m0\u001b[0m │\n",
              "├──────────────────────────────────────┼─────────────────────────────┼─────────────────┤\n",
              "│ flatten_1 (\u001b[38;5;33mFlatten\u001b[0m)                  │ (\u001b[38;5;45mNone\u001b[0m, \u001b[38;5;34m25088\u001b[0m)               │               \u001b[38;5;34m0\u001b[0m │\n",
              "├──────────────────────────────────────┼─────────────────────────────┼─────────────────┤\n",
              "│ dense_2 (\u001b[38;5;33mDense\u001b[0m)                      │ (\u001b[38;5;45mNone\u001b[0m, \u001b[38;5;34m4096\u001b[0m)                │     \u001b[38;5;34m102,764,544\u001b[0m │\n",
              "├──────────────────────────────────────┼─────────────────────────────┼─────────────────┤\n",
              "│ dense_3 (\u001b[38;5;33mDense\u001b[0m)                      │ (\u001b[38;5;45mNone\u001b[0m, \u001b[38;5;34m4096\u001b[0m)                │      \u001b[38;5;34m16,781,312\u001b[0m │\n",
              "├──────────────────────────────────────┼─────────────────────────────┼─────────────────┤\n",
              "│ dense_4 (\u001b[38;5;33mDense\u001b[0m)                      │ (\u001b[38;5;45mNone\u001b[0m, \u001b[38;5;34m1000\u001b[0m)                │       \u001b[38;5;34m4,097,000\u001b[0m │\n",
              "└──────────────────────────────────────┴─────────────────────────────┴─────────────────┘\n"
            ],
            "text/html": [
              "<pre style=\"white-space:pre;overflow-x:auto;line-height:normal;font-family:Menlo,'DejaVu Sans Mono',consolas,'Courier New',monospace\">┏━━━━━━━━━━━━━━━━━━━━━━━━━━━━━━━━━━━━━━┳━━━━━━━━━━━━━━━━━━━━━━━━━━━━━┳━━━━━━━━━━━━━━━━━┓\n",
              "┃<span style=\"font-weight: bold\"> Layer (type)                         </span>┃<span style=\"font-weight: bold\"> Output Shape                </span>┃<span style=\"font-weight: bold\">         Param # </span>┃\n",
              "┡━━━━━━━━━━━━━━━━━━━━━━━━━━━━━━━━━━━━━━╇━━━━━━━━━━━━━━━━━━━━━━━━━━━━━╇━━━━━━━━━━━━━━━━━┩\n",
              "│ conv2d_3 (<span style=\"color: #0087ff; text-decoration-color: #0087ff\">Conv2D</span>)                    │ (<span style=\"color: #00d7ff; text-decoration-color: #00d7ff\">None</span>, <span style=\"color: #00af00; text-decoration-color: #00af00\">224</span>, <span style=\"color: #00af00; text-decoration-color: #00af00\">224</span>, <span style=\"color: #00af00; text-decoration-color: #00af00\">64</span>)        │           <span style=\"color: #00af00; text-decoration-color: #00af00\">1,792</span> │\n",
              "├──────────────────────────────────────┼─────────────────────────────┼─────────────────┤\n",
              "│ conv2d_4 (<span style=\"color: #0087ff; text-decoration-color: #0087ff\">Conv2D</span>)                    │ (<span style=\"color: #00d7ff; text-decoration-color: #00d7ff\">None</span>, <span style=\"color: #00af00; text-decoration-color: #00af00\">224</span>, <span style=\"color: #00af00; text-decoration-color: #00af00\">224</span>, <span style=\"color: #00af00; text-decoration-color: #00af00\">64</span>)        │          <span style=\"color: #00af00; text-decoration-color: #00af00\">36,928</span> │\n",
              "├──────────────────────────────────────┼─────────────────────────────┼─────────────────┤\n",
              "│ max_pooling2d (<span style=\"color: #0087ff; text-decoration-color: #0087ff\">MaxPooling2D</span>)         │ (<span style=\"color: #00d7ff; text-decoration-color: #00d7ff\">None</span>, <span style=\"color: #00af00; text-decoration-color: #00af00\">112</span>, <span style=\"color: #00af00; text-decoration-color: #00af00\">112</span>, <span style=\"color: #00af00; text-decoration-color: #00af00\">64</span>)        │               <span style=\"color: #00af00; text-decoration-color: #00af00\">0</span> │\n",
              "├──────────────────────────────────────┼─────────────────────────────┼─────────────────┤\n",
              "│ conv2d_5 (<span style=\"color: #0087ff; text-decoration-color: #0087ff\">Conv2D</span>)                    │ (<span style=\"color: #00d7ff; text-decoration-color: #00d7ff\">None</span>, <span style=\"color: #00af00; text-decoration-color: #00af00\">112</span>, <span style=\"color: #00af00; text-decoration-color: #00af00\">112</span>, <span style=\"color: #00af00; text-decoration-color: #00af00\">128</span>)       │          <span style=\"color: #00af00; text-decoration-color: #00af00\">73,856</span> │\n",
              "├──────────────────────────────────────┼─────────────────────────────┼─────────────────┤\n",
              "│ conv2d_6 (<span style=\"color: #0087ff; text-decoration-color: #0087ff\">Conv2D</span>)                    │ (<span style=\"color: #00d7ff; text-decoration-color: #00d7ff\">None</span>, <span style=\"color: #00af00; text-decoration-color: #00af00\">112</span>, <span style=\"color: #00af00; text-decoration-color: #00af00\">112</span>, <span style=\"color: #00af00; text-decoration-color: #00af00\">128</span>)       │         <span style=\"color: #00af00; text-decoration-color: #00af00\">147,584</span> │\n",
              "├──────────────────────────────────────┼─────────────────────────────┼─────────────────┤\n",
              "│ max_pooling2d_1 (<span style=\"color: #0087ff; text-decoration-color: #0087ff\">MaxPooling2D</span>)       │ (<span style=\"color: #00d7ff; text-decoration-color: #00d7ff\">None</span>, <span style=\"color: #00af00; text-decoration-color: #00af00\">56</span>, <span style=\"color: #00af00; text-decoration-color: #00af00\">56</span>, <span style=\"color: #00af00; text-decoration-color: #00af00\">128</span>)         │               <span style=\"color: #00af00; text-decoration-color: #00af00\">0</span> │\n",
              "├──────────────────────────────────────┼─────────────────────────────┼─────────────────┤\n",
              "│ conv2d_7 (<span style=\"color: #0087ff; text-decoration-color: #0087ff\">Conv2D</span>)                    │ (<span style=\"color: #00d7ff; text-decoration-color: #00d7ff\">None</span>, <span style=\"color: #00af00; text-decoration-color: #00af00\">56</span>, <span style=\"color: #00af00; text-decoration-color: #00af00\">56</span>, <span style=\"color: #00af00; text-decoration-color: #00af00\">256</span>)         │         <span style=\"color: #00af00; text-decoration-color: #00af00\">295,168</span> │\n",
              "├──────────────────────────────────────┼─────────────────────────────┼─────────────────┤\n",
              "│ conv2d_8 (<span style=\"color: #0087ff; text-decoration-color: #0087ff\">Conv2D</span>)                    │ (<span style=\"color: #00d7ff; text-decoration-color: #00d7ff\">None</span>, <span style=\"color: #00af00; text-decoration-color: #00af00\">56</span>, <span style=\"color: #00af00; text-decoration-color: #00af00\">56</span>, <span style=\"color: #00af00; text-decoration-color: #00af00\">256</span>)         │         <span style=\"color: #00af00; text-decoration-color: #00af00\">590,080</span> │\n",
              "├──────────────────────────────────────┼─────────────────────────────┼─────────────────┤\n",
              "│ conv2d_9 (<span style=\"color: #0087ff; text-decoration-color: #0087ff\">Conv2D</span>)                    │ (<span style=\"color: #00d7ff; text-decoration-color: #00d7ff\">None</span>, <span style=\"color: #00af00; text-decoration-color: #00af00\">56</span>, <span style=\"color: #00af00; text-decoration-color: #00af00\">56</span>, <span style=\"color: #00af00; text-decoration-color: #00af00\">256</span>)         │         <span style=\"color: #00af00; text-decoration-color: #00af00\">590,080</span> │\n",
              "├──────────────────────────────────────┼─────────────────────────────┼─────────────────┤\n",
              "│ max_pooling2d_2 (<span style=\"color: #0087ff; text-decoration-color: #0087ff\">MaxPooling2D</span>)       │ (<span style=\"color: #00d7ff; text-decoration-color: #00d7ff\">None</span>, <span style=\"color: #00af00; text-decoration-color: #00af00\">28</span>, <span style=\"color: #00af00; text-decoration-color: #00af00\">28</span>, <span style=\"color: #00af00; text-decoration-color: #00af00\">256</span>)         │               <span style=\"color: #00af00; text-decoration-color: #00af00\">0</span> │\n",
              "├──────────────────────────────────────┼─────────────────────────────┼─────────────────┤\n",
              "│ conv2d_10 (<span style=\"color: #0087ff; text-decoration-color: #0087ff\">Conv2D</span>)                   │ (<span style=\"color: #00d7ff; text-decoration-color: #00d7ff\">None</span>, <span style=\"color: #00af00; text-decoration-color: #00af00\">28</span>, <span style=\"color: #00af00; text-decoration-color: #00af00\">28</span>, <span style=\"color: #00af00; text-decoration-color: #00af00\">512</span>)         │       <span style=\"color: #00af00; text-decoration-color: #00af00\">1,180,160</span> │\n",
              "├──────────────────────────────────────┼─────────────────────────────┼─────────────────┤\n",
              "│ conv2d_11 (<span style=\"color: #0087ff; text-decoration-color: #0087ff\">Conv2D</span>)                   │ (<span style=\"color: #00d7ff; text-decoration-color: #00d7ff\">None</span>, <span style=\"color: #00af00; text-decoration-color: #00af00\">28</span>, <span style=\"color: #00af00; text-decoration-color: #00af00\">28</span>, <span style=\"color: #00af00; text-decoration-color: #00af00\">512</span>)         │       <span style=\"color: #00af00; text-decoration-color: #00af00\">2,359,808</span> │\n",
              "├──────────────────────────────────────┼─────────────────────────────┼─────────────────┤\n",
              "│ conv2d_12 (<span style=\"color: #0087ff; text-decoration-color: #0087ff\">Conv2D</span>)                   │ (<span style=\"color: #00d7ff; text-decoration-color: #00d7ff\">None</span>, <span style=\"color: #00af00; text-decoration-color: #00af00\">28</span>, <span style=\"color: #00af00; text-decoration-color: #00af00\">28</span>, <span style=\"color: #00af00; text-decoration-color: #00af00\">512</span>)         │       <span style=\"color: #00af00; text-decoration-color: #00af00\">2,359,808</span> │\n",
              "├──────────────────────────────────────┼─────────────────────────────┼─────────────────┤\n",
              "│ max_pooling2d_3 (<span style=\"color: #0087ff; text-decoration-color: #0087ff\">MaxPooling2D</span>)       │ (<span style=\"color: #00d7ff; text-decoration-color: #00d7ff\">None</span>, <span style=\"color: #00af00; text-decoration-color: #00af00\">14</span>, <span style=\"color: #00af00; text-decoration-color: #00af00\">14</span>, <span style=\"color: #00af00; text-decoration-color: #00af00\">512</span>)         │               <span style=\"color: #00af00; text-decoration-color: #00af00\">0</span> │\n",
              "├──────────────────────────────────────┼─────────────────────────────┼─────────────────┤\n",
              "│ conv2d_13 (<span style=\"color: #0087ff; text-decoration-color: #0087ff\">Conv2D</span>)                   │ (<span style=\"color: #00d7ff; text-decoration-color: #00d7ff\">None</span>, <span style=\"color: #00af00; text-decoration-color: #00af00\">14</span>, <span style=\"color: #00af00; text-decoration-color: #00af00\">14</span>, <span style=\"color: #00af00; text-decoration-color: #00af00\">512</span>)         │       <span style=\"color: #00af00; text-decoration-color: #00af00\">2,359,808</span> │\n",
              "├──────────────────────────────────────┼─────────────────────────────┼─────────────────┤\n",
              "│ conv2d_14 (<span style=\"color: #0087ff; text-decoration-color: #0087ff\">Conv2D</span>)                   │ (<span style=\"color: #00d7ff; text-decoration-color: #00d7ff\">None</span>, <span style=\"color: #00af00; text-decoration-color: #00af00\">14</span>, <span style=\"color: #00af00; text-decoration-color: #00af00\">14</span>, <span style=\"color: #00af00; text-decoration-color: #00af00\">512</span>)         │       <span style=\"color: #00af00; text-decoration-color: #00af00\">2,359,808</span> │\n",
              "├──────────────────────────────────────┼─────────────────────────────┼─────────────────┤\n",
              "│ conv2d_15 (<span style=\"color: #0087ff; text-decoration-color: #0087ff\">Conv2D</span>)                   │ (<span style=\"color: #00d7ff; text-decoration-color: #00d7ff\">None</span>, <span style=\"color: #00af00; text-decoration-color: #00af00\">14</span>, <span style=\"color: #00af00; text-decoration-color: #00af00\">14</span>, <span style=\"color: #00af00; text-decoration-color: #00af00\">512</span>)         │       <span style=\"color: #00af00; text-decoration-color: #00af00\">2,359,808</span> │\n",
              "├──────────────────────────────────────┼─────────────────────────────┼─────────────────┤\n",
              "│ max_pooling2d_4 (<span style=\"color: #0087ff; text-decoration-color: #0087ff\">MaxPooling2D</span>)       │ (<span style=\"color: #00d7ff; text-decoration-color: #00d7ff\">None</span>, <span style=\"color: #00af00; text-decoration-color: #00af00\">7</span>, <span style=\"color: #00af00; text-decoration-color: #00af00\">7</span>, <span style=\"color: #00af00; text-decoration-color: #00af00\">512</span>)           │               <span style=\"color: #00af00; text-decoration-color: #00af00\">0</span> │\n",
              "├──────────────────────────────────────┼─────────────────────────────┼─────────────────┤\n",
              "│ flatten_1 (<span style=\"color: #0087ff; text-decoration-color: #0087ff\">Flatten</span>)                  │ (<span style=\"color: #00d7ff; text-decoration-color: #00d7ff\">None</span>, <span style=\"color: #00af00; text-decoration-color: #00af00\">25088</span>)               │               <span style=\"color: #00af00; text-decoration-color: #00af00\">0</span> │\n",
              "├──────────────────────────────────────┼─────────────────────────────┼─────────────────┤\n",
              "│ dense_2 (<span style=\"color: #0087ff; text-decoration-color: #0087ff\">Dense</span>)                      │ (<span style=\"color: #00d7ff; text-decoration-color: #00d7ff\">None</span>, <span style=\"color: #00af00; text-decoration-color: #00af00\">4096</span>)                │     <span style=\"color: #00af00; text-decoration-color: #00af00\">102,764,544</span> │\n",
              "├──────────────────────────────────────┼─────────────────────────────┼─────────────────┤\n",
              "│ dense_3 (<span style=\"color: #0087ff; text-decoration-color: #0087ff\">Dense</span>)                      │ (<span style=\"color: #00d7ff; text-decoration-color: #00d7ff\">None</span>, <span style=\"color: #00af00; text-decoration-color: #00af00\">4096</span>)                │      <span style=\"color: #00af00; text-decoration-color: #00af00\">16,781,312</span> │\n",
              "├──────────────────────────────────────┼─────────────────────────────┼─────────────────┤\n",
              "│ dense_4 (<span style=\"color: #0087ff; text-decoration-color: #0087ff\">Dense</span>)                      │ (<span style=\"color: #00d7ff; text-decoration-color: #00d7ff\">None</span>, <span style=\"color: #00af00; text-decoration-color: #00af00\">1000</span>)                │       <span style=\"color: #00af00; text-decoration-color: #00af00\">4,097,000</span> │\n",
              "└──────────────────────────────────────┴─────────────────────────────┴─────────────────┘\n",
              "</pre>\n"
            ]
          },
          "metadata": {}
        },
        {
          "output_type": "display_data",
          "data": {
            "text/plain": [
              "\u001b[1m Total params: \u001b[0m\u001b[38;5;34m138,357,544\u001b[0m (527.79 MB)\n"
            ],
            "text/html": [
              "<pre style=\"white-space:pre;overflow-x:auto;line-height:normal;font-family:Menlo,'DejaVu Sans Mono',consolas,'Courier New',monospace\"><span style=\"font-weight: bold\"> Total params: </span><span style=\"color: #00af00; text-decoration-color: #00af00\">138,357,544</span> (527.79 MB)\n",
              "</pre>\n"
            ]
          },
          "metadata": {}
        },
        {
          "output_type": "display_data",
          "data": {
            "text/plain": [
              "\u001b[1m Trainable params: \u001b[0m\u001b[38;5;34m138,357,544\u001b[0m (527.79 MB)\n"
            ],
            "text/html": [
              "<pre style=\"white-space:pre;overflow-x:auto;line-height:normal;font-family:Menlo,'DejaVu Sans Mono',consolas,'Courier New',monospace\"><span style=\"font-weight: bold\"> Trainable params: </span><span style=\"color: #00af00; text-decoration-color: #00af00\">138,357,544</span> (527.79 MB)\n",
              "</pre>\n"
            ]
          },
          "metadata": {}
        },
        {
          "output_type": "display_data",
          "data": {
            "text/plain": [
              "\u001b[1m Non-trainable params: \u001b[0m\u001b[38;5;34m0\u001b[0m (0.00 B)\n"
            ],
            "text/html": [
              "<pre style=\"white-space:pre;overflow-x:auto;line-height:normal;font-family:Menlo,'DejaVu Sans Mono',consolas,'Courier New',monospace\"><span style=\"font-weight: bold\"> Non-trainable params: </span><span style=\"color: #00af00; text-decoration-color: #00af00\">0</span> (0.00 B)\n",
              "</pre>\n"
            ]
          },
          "metadata": {}
        }
      ]
    },
    {
      "cell_type": "code",
      "source": [
        "# ===> vgg 16 D모델의 경우에는 1억 4천만개의 파라미터들을 최적화!!!!"
      ],
      "metadata": {
        "id": "NAOTehW56ZG_"
      },
      "execution_count": null,
      "outputs": []
    },
    {
      "cell_type": "code",
      "source": [],
      "metadata": {
        "id": "jT-_UGbq6ujb"
      },
      "execution_count": null,
      "outputs": []
    },
    {
      "cell_type": "code",
      "source": [
        "### 우리의 목적 : FashinMNIST 분류!!!\n",
        "#  224 * 224 * 3 ===> 28 * 28 * 1\n",
        "#  +++ MP : FM의 W/H가 1/2\n",
        "# 28 --> MP ---> 14 --> MP --> 7 ---> MP 3.5??? --> MP //////////\n",
        "# 내 데이터에서 ,,,너무 깊게 하면,,,좀..........."
      ],
      "metadata": {
        "id": "wX_MAADq6ulx"
      },
      "execution_count": null,
      "outputs": []
    },
    {
      "cell_type": "code",
      "source": [
        "model_vgg_fashion = tf.keras.Sequential(\n",
        "    [\n",
        "        # 원본 입력을 기준으로 설계 : 224 224 RGB --> (224,224,3)\n",
        "        # ==> 28 , 28 , 1\n",
        "        Conv2D( input_shape=(28,28,1), kernel_size=(3,3),\n",
        "               filters = 64, padding=\"same\", activation=\"relu\"),\n",
        "        Conv2D(  kernel_size=(3,3),\n",
        "               filters = 64, padding=\"same\", activation=\"relu\"),\n",
        "        MaxPool2D( pool_size=(2,2), strides=(2,2)),\n",
        "\n",
        "        Conv2D(  kernel_size=(3,3),\n",
        "               filters = 128, padding=\"same\", activation=\"relu\"),\n",
        "        Conv2D(  kernel_size=(3,3),\n",
        "               filters = 128, padding=\"same\", activation=\"relu\"),\n",
        "        MaxPool2D( pool_size=(2,2), strides=(2,2)),\n",
        "\n",
        "        Conv2D(  kernel_size=(3,3),\n",
        "               filters = 256, padding=\"same\", activation=\"relu\"),\n",
        "        Conv2D(  kernel_size=(3,3),\n",
        "               filters = 256, padding=\"same\", activation=\"relu\"),\n",
        "        Conv2D(  kernel_size=(3,3),\n",
        "               filters = 256, padding=\"same\", activation=\"relu\"),\n",
        "        MaxPool2D( pool_size=(2,2), strides=(2,2)),\n",
        "\n",
        "        # Conv2D(  kernel_size=(3,3),\n",
        "        #        filters = 512, padding=\"same\", activation=\"relu\"),\n",
        "        # Conv2D(  kernel_size=(3,3),\n",
        "        #        filters = 512, padding=\"same\", activation=\"relu\"),\n",
        "        # Conv2D(  kernel_size=(3,3),\n",
        "        #        filters = 512, padding=\"same\", activation=\"relu\"),\n",
        "        # MaxPool2D( pool_size=(2,2), strides=(2,2)),\n",
        "\n",
        "        # Conv2D(  kernel_size=(3,3),\n",
        "        #        filters = 512, padding=\"same\", activation=\"relu\"),\n",
        "        # Conv2D(  kernel_size=(3,3),\n",
        "        #        filters = 512, padding=\"same\", activation=\"relu\"),\n",
        "        # Conv2D(  kernel_size=(3,3),\n",
        "        #        filters = 512, padding=\"same\", activation=\"relu\"),\n",
        "        # MaxPool2D( pool_size=(2,2), strides=(2,2)),\n",
        "        ##====> 기본적인 이미지가 가지고 있는 특징 추출!!!!\n",
        "\n",
        "        # 분류를 위한 NN\n",
        "        # 1) 특징 추출 네트워크와 분류 네트워크 연결 : Flatten\n",
        "        Flatten(),\n",
        "        # 2) 분류를 위한 HL\n",
        "        Dense( units = 4096, activation=\"relu\"),\n",
        "        Dense( units = 4096, activation=\"relu\"),\n",
        "        # 3) 출력용으로 대회가 1000가지 분류.,...\n",
        "        Dense( units = 1000, activation=\"softmax\"),\n",
        "    ]\n",
        ")\n",
        "model_vgg_fashion"
      ],
      "metadata": {
        "colab": {
          "base_uri": "https://localhost:8080/"
        },
        "id": "FcbeOER-7KyC",
        "outputId": "b488ff03-2190-4e88-b4e3-4c4a433c829e"
      },
      "execution_count": null,
      "outputs": [
        {
          "output_type": "execute_result",
          "data": {
            "text/plain": [
              "<Sequential name=sequential_4, built=True>"
            ]
          },
          "metadata": {},
          "execution_count": 16
        }
      ]
    },
    {
      "cell_type": "code",
      "source": [
        "model_vgg_fashion.summary()"
      ],
      "metadata": {
        "colab": {
          "base_uri": "https://localhost:8080/",
          "height": 609
        },
        "id": "wnXFAccN7K0d",
        "outputId": "15147cf1-a9dc-4f07-ecc4-02f4f5cfafd4"
      },
      "execution_count": null,
      "outputs": [
        {
          "output_type": "display_data",
          "data": {
            "text/plain": [
              "\u001b[1mModel: \"sequential_4\"\u001b[0m\n"
            ],
            "text/html": [
              "<pre style=\"white-space:pre;overflow-x:auto;line-height:normal;font-family:Menlo,'DejaVu Sans Mono',consolas,'Courier New',monospace\"><span style=\"font-weight: bold\">Model: \"sequential_4\"</span>\n",
              "</pre>\n"
            ]
          },
          "metadata": {}
        },
        {
          "output_type": "display_data",
          "data": {
            "text/plain": [
              "┏━━━━━━━━━━━━━━━━━━━━━━━━━━━━━━━━━━━━━━┳━━━━━━━━━━━━━━━━━━━━━━━━━━━━━┳━━━━━━━━━━━━━━━━━┓\n",
              "┃\u001b[1m \u001b[0m\u001b[1mLayer (type)                        \u001b[0m\u001b[1m \u001b[0m┃\u001b[1m \u001b[0m\u001b[1mOutput Shape               \u001b[0m\u001b[1m \u001b[0m┃\u001b[1m \u001b[0m\u001b[1m        Param #\u001b[0m\u001b[1m \u001b[0m┃\n",
              "┡━━━━━━━━━━━━━━━━━━━━━━━━━━━━━━━━━━━━━━╇━━━━━━━━━━━━━━━━━━━━━━━━━━━━━╇━━━━━━━━━━━━━━━━━┩\n",
              "│ conv2d_36 (\u001b[38;5;33mConv2D\u001b[0m)                   │ (\u001b[38;5;45mNone\u001b[0m, \u001b[38;5;34m28\u001b[0m, \u001b[38;5;34m28\u001b[0m, \u001b[38;5;34m64\u001b[0m)          │             \u001b[38;5;34m640\u001b[0m │\n",
              "├──────────────────────────────────────┼─────────────────────────────┼─────────────────┤\n",
              "│ conv2d_37 (\u001b[38;5;33mConv2D\u001b[0m)                   │ (\u001b[38;5;45mNone\u001b[0m, \u001b[38;5;34m28\u001b[0m, \u001b[38;5;34m28\u001b[0m, \u001b[38;5;34m64\u001b[0m)          │          \u001b[38;5;34m36,928\u001b[0m │\n",
              "├──────────────────────────────────────┼─────────────────────────────┼─────────────────┤\n",
              "│ max_pooling2d_13 (\u001b[38;5;33mMaxPooling2D\u001b[0m)      │ (\u001b[38;5;45mNone\u001b[0m, \u001b[38;5;34m14\u001b[0m, \u001b[38;5;34m14\u001b[0m, \u001b[38;5;34m64\u001b[0m)          │               \u001b[38;5;34m0\u001b[0m │\n",
              "├──────────────────────────────────────┼─────────────────────────────┼─────────────────┤\n",
              "│ conv2d_38 (\u001b[38;5;33mConv2D\u001b[0m)                   │ (\u001b[38;5;45mNone\u001b[0m, \u001b[38;5;34m14\u001b[0m, \u001b[38;5;34m14\u001b[0m, \u001b[38;5;34m128\u001b[0m)         │          \u001b[38;5;34m73,856\u001b[0m │\n",
              "├──────────────────────────────────────┼─────────────────────────────┼─────────────────┤\n",
              "│ conv2d_39 (\u001b[38;5;33mConv2D\u001b[0m)                   │ (\u001b[38;5;45mNone\u001b[0m, \u001b[38;5;34m14\u001b[0m, \u001b[38;5;34m14\u001b[0m, \u001b[38;5;34m128\u001b[0m)         │         \u001b[38;5;34m147,584\u001b[0m │\n",
              "├──────────────────────────────────────┼─────────────────────────────┼─────────────────┤\n",
              "│ max_pooling2d_14 (\u001b[38;5;33mMaxPooling2D\u001b[0m)      │ (\u001b[38;5;45mNone\u001b[0m, \u001b[38;5;34m7\u001b[0m, \u001b[38;5;34m7\u001b[0m, \u001b[38;5;34m128\u001b[0m)           │               \u001b[38;5;34m0\u001b[0m │\n",
              "├──────────────────────────────────────┼─────────────────────────────┼─────────────────┤\n",
              "│ conv2d_40 (\u001b[38;5;33mConv2D\u001b[0m)                   │ (\u001b[38;5;45mNone\u001b[0m, \u001b[38;5;34m7\u001b[0m, \u001b[38;5;34m7\u001b[0m, \u001b[38;5;34m256\u001b[0m)           │         \u001b[38;5;34m295,168\u001b[0m │\n",
              "├──────────────────────────────────────┼─────────────────────────────┼─────────────────┤\n",
              "│ conv2d_41 (\u001b[38;5;33mConv2D\u001b[0m)                   │ (\u001b[38;5;45mNone\u001b[0m, \u001b[38;5;34m7\u001b[0m, \u001b[38;5;34m7\u001b[0m, \u001b[38;5;34m256\u001b[0m)           │         \u001b[38;5;34m590,080\u001b[0m │\n",
              "├──────────────────────────────────────┼─────────────────────────────┼─────────────────┤\n",
              "│ conv2d_42 (\u001b[38;5;33mConv2D\u001b[0m)                   │ (\u001b[38;5;45mNone\u001b[0m, \u001b[38;5;34m7\u001b[0m, \u001b[38;5;34m7\u001b[0m, \u001b[38;5;34m256\u001b[0m)           │         \u001b[38;5;34m590,080\u001b[0m │\n",
              "├──────────────────────────────────────┼─────────────────────────────┼─────────────────┤\n",
              "│ max_pooling2d_15 (\u001b[38;5;33mMaxPooling2D\u001b[0m)      │ (\u001b[38;5;45mNone\u001b[0m, \u001b[38;5;34m3\u001b[0m, \u001b[38;5;34m3\u001b[0m, \u001b[38;5;34m256\u001b[0m)           │               \u001b[38;5;34m0\u001b[0m │\n",
              "├──────────────────────────────────────┼─────────────────────────────┼─────────────────┤\n",
              "│ flatten_4 (\u001b[38;5;33mFlatten\u001b[0m)                  │ (\u001b[38;5;45mNone\u001b[0m, \u001b[38;5;34m2304\u001b[0m)                │               \u001b[38;5;34m0\u001b[0m │\n",
              "├──────────────────────────────────────┼─────────────────────────────┼─────────────────┤\n",
              "│ dense_11 (\u001b[38;5;33mDense\u001b[0m)                     │ (\u001b[38;5;45mNone\u001b[0m, \u001b[38;5;34m4096\u001b[0m)                │       \u001b[38;5;34m9,441,280\u001b[0m │\n",
              "├──────────────────────────────────────┼─────────────────────────────┼─────────────────┤\n",
              "│ dense_12 (\u001b[38;5;33mDense\u001b[0m)                     │ (\u001b[38;5;45mNone\u001b[0m, \u001b[38;5;34m4096\u001b[0m)                │      \u001b[38;5;34m16,781,312\u001b[0m │\n",
              "├──────────────────────────────────────┼─────────────────────────────┼─────────────────┤\n",
              "│ dense_13 (\u001b[38;5;33mDense\u001b[0m)                     │ (\u001b[38;5;45mNone\u001b[0m, \u001b[38;5;34m1000\u001b[0m)                │       \u001b[38;5;34m4,097,000\u001b[0m │\n",
              "└──────────────────────────────────────┴─────────────────────────────┴─────────────────┘\n"
            ],
            "text/html": [
              "<pre style=\"white-space:pre;overflow-x:auto;line-height:normal;font-family:Menlo,'DejaVu Sans Mono',consolas,'Courier New',monospace\">┏━━━━━━━━━━━━━━━━━━━━━━━━━━━━━━━━━━━━━━┳━━━━━━━━━━━━━━━━━━━━━━━━━━━━━┳━━━━━━━━━━━━━━━━━┓\n",
              "┃<span style=\"font-weight: bold\"> Layer (type)                         </span>┃<span style=\"font-weight: bold\"> Output Shape                </span>┃<span style=\"font-weight: bold\">         Param # </span>┃\n",
              "┡━━━━━━━━━━━━━━━━━━━━━━━━━━━━━━━━━━━━━━╇━━━━━━━━━━━━━━━━━━━━━━━━━━━━━╇━━━━━━━━━━━━━━━━━┩\n",
              "│ conv2d_36 (<span style=\"color: #0087ff; text-decoration-color: #0087ff\">Conv2D</span>)                   │ (<span style=\"color: #00d7ff; text-decoration-color: #00d7ff\">None</span>, <span style=\"color: #00af00; text-decoration-color: #00af00\">28</span>, <span style=\"color: #00af00; text-decoration-color: #00af00\">28</span>, <span style=\"color: #00af00; text-decoration-color: #00af00\">64</span>)          │             <span style=\"color: #00af00; text-decoration-color: #00af00\">640</span> │\n",
              "├──────────────────────────────────────┼─────────────────────────────┼─────────────────┤\n",
              "│ conv2d_37 (<span style=\"color: #0087ff; text-decoration-color: #0087ff\">Conv2D</span>)                   │ (<span style=\"color: #00d7ff; text-decoration-color: #00d7ff\">None</span>, <span style=\"color: #00af00; text-decoration-color: #00af00\">28</span>, <span style=\"color: #00af00; text-decoration-color: #00af00\">28</span>, <span style=\"color: #00af00; text-decoration-color: #00af00\">64</span>)          │          <span style=\"color: #00af00; text-decoration-color: #00af00\">36,928</span> │\n",
              "├──────────────────────────────────────┼─────────────────────────────┼─────────────────┤\n",
              "│ max_pooling2d_13 (<span style=\"color: #0087ff; text-decoration-color: #0087ff\">MaxPooling2D</span>)      │ (<span style=\"color: #00d7ff; text-decoration-color: #00d7ff\">None</span>, <span style=\"color: #00af00; text-decoration-color: #00af00\">14</span>, <span style=\"color: #00af00; text-decoration-color: #00af00\">14</span>, <span style=\"color: #00af00; text-decoration-color: #00af00\">64</span>)          │               <span style=\"color: #00af00; text-decoration-color: #00af00\">0</span> │\n",
              "├──────────────────────────────────────┼─────────────────────────────┼─────────────────┤\n",
              "│ conv2d_38 (<span style=\"color: #0087ff; text-decoration-color: #0087ff\">Conv2D</span>)                   │ (<span style=\"color: #00d7ff; text-decoration-color: #00d7ff\">None</span>, <span style=\"color: #00af00; text-decoration-color: #00af00\">14</span>, <span style=\"color: #00af00; text-decoration-color: #00af00\">14</span>, <span style=\"color: #00af00; text-decoration-color: #00af00\">128</span>)         │          <span style=\"color: #00af00; text-decoration-color: #00af00\">73,856</span> │\n",
              "├──────────────────────────────────────┼─────────────────────────────┼─────────────────┤\n",
              "│ conv2d_39 (<span style=\"color: #0087ff; text-decoration-color: #0087ff\">Conv2D</span>)                   │ (<span style=\"color: #00d7ff; text-decoration-color: #00d7ff\">None</span>, <span style=\"color: #00af00; text-decoration-color: #00af00\">14</span>, <span style=\"color: #00af00; text-decoration-color: #00af00\">14</span>, <span style=\"color: #00af00; text-decoration-color: #00af00\">128</span>)         │         <span style=\"color: #00af00; text-decoration-color: #00af00\">147,584</span> │\n",
              "├──────────────────────────────────────┼─────────────────────────────┼─────────────────┤\n",
              "│ max_pooling2d_14 (<span style=\"color: #0087ff; text-decoration-color: #0087ff\">MaxPooling2D</span>)      │ (<span style=\"color: #00d7ff; text-decoration-color: #00d7ff\">None</span>, <span style=\"color: #00af00; text-decoration-color: #00af00\">7</span>, <span style=\"color: #00af00; text-decoration-color: #00af00\">7</span>, <span style=\"color: #00af00; text-decoration-color: #00af00\">128</span>)           │               <span style=\"color: #00af00; text-decoration-color: #00af00\">0</span> │\n",
              "├──────────────────────────────────────┼─────────────────────────────┼─────────────────┤\n",
              "│ conv2d_40 (<span style=\"color: #0087ff; text-decoration-color: #0087ff\">Conv2D</span>)                   │ (<span style=\"color: #00d7ff; text-decoration-color: #00d7ff\">None</span>, <span style=\"color: #00af00; text-decoration-color: #00af00\">7</span>, <span style=\"color: #00af00; text-decoration-color: #00af00\">7</span>, <span style=\"color: #00af00; text-decoration-color: #00af00\">256</span>)           │         <span style=\"color: #00af00; text-decoration-color: #00af00\">295,168</span> │\n",
              "├──────────────────────────────────────┼─────────────────────────────┼─────────────────┤\n",
              "│ conv2d_41 (<span style=\"color: #0087ff; text-decoration-color: #0087ff\">Conv2D</span>)                   │ (<span style=\"color: #00d7ff; text-decoration-color: #00d7ff\">None</span>, <span style=\"color: #00af00; text-decoration-color: #00af00\">7</span>, <span style=\"color: #00af00; text-decoration-color: #00af00\">7</span>, <span style=\"color: #00af00; text-decoration-color: #00af00\">256</span>)           │         <span style=\"color: #00af00; text-decoration-color: #00af00\">590,080</span> │\n",
              "├──────────────────────────────────────┼─────────────────────────────┼─────────────────┤\n",
              "│ conv2d_42 (<span style=\"color: #0087ff; text-decoration-color: #0087ff\">Conv2D</span>)                   │ (<span style=\"color: #00d7ff; text-decoration-color: #00d7ff\">None</span>, <span style=\"color: #00af00; text-decoration-color: #00af00\">7</span>, <span style=\"color: #00af00; text-decoration-color: #00af00\">7</span>, <span style=\"color: #00af00; text-decoration-color: #00af00\">256</span>)           │         <span style=\"color: #00af00; text-decoration-color: #00af00\">590,080</span> │\n",
              "├──────────────────────────────────────┼─────────────────────────────┼─────────────────┤\n",
              "│ max_pooling2d_15 (<span style=\"color: #0087ff; text-decoration-color: #0087ff\">MaxPooling2D</span>)      │ (<span style=\"color: #00d7ff; text-decoration-color: #00d7ff\">None</span>, <span style=\"color: #00af00; text-decoration-color: #00af00\">3</span>, <span style=\"color: #00af00; text-decoration-color: #00af00\">3</span>, <span style=\"color: #00af00; text-decoration-color: #00af00\">256</span>)           │               <span style=\"color: #00af00; text-decoration-color: #00af00\">0</span> │\n",
              "├──────────────────────────────────────┼─────────────────────────────┼─────────────────┤\n",
              "│ flatten_4 (<span style=\"color: #0087ff; text-decoration-color: #0087ff\">Flatten</span>)                  │ (<span style=\"color: #00d7ff; text-decoration-color: #00d7ff\">None</span>, <span style=\"color: #00af00; text-decoration-color: #00af00\">2304</span>)                │               <span style=\"color: #00af00; text-decoration-color: #00af00\">0</span> │\n",
              "├──────────────────────────────────────┼─────────────────────────────┼─────────────────┤\n",
              "│ dense_11 (<span style=\"color: #0087ff; text-decoration-color: #0087ff\">Dense</span>)                     │ (<span style=\"color: #00d7ff; text-decoration-color: #00d7ff\">None</span>, <span style=\"color: #00af00; text-decoration-color: #00af00\">4096</span>)                │       <span style=\"color: #00af00; text-decoration-color: #00af00\">9,441,280</span> │\n",
              "├──────────────────────────────────────┼─────────────────────────────┼─────────────────┤\n",
              "│ dense_12 (<span style=\"color: #0087ff; text-decoration-color: #0087ff\">Dense</span>)                     │ (<span style=\"color: #00d7ff; text-decoration-color: #00d7ff\">None</span>, <span style=\"color: #00af00; text-decoration-color: #00af00\">4096</span>)                │      <span style=\"color: #00af00; text-decoration-color: #00af00\">16,781,312</span> │\n",
              "├──────────────────────────────────────┼─────────────────────────────┼─────────────────┤\n",
              "│ dense_13 (<span style=\"color: #0087ff; text-decoration-color: #0087ff\">Dense</span>)                     │ (<span style=\"color: #00d7ff; text-decoration-color: #00d7ff\">None</span>, <span style=\"color: #00af00; text-decoration-color: #00af00\">1000</span>)                │       <span style=\"color: #00af00; text-decoration-color: #00af00\">4,097,000</span> │\n",
              "└──────────────────────────────────────┴─────────────────────────────┴─────────────────┘\n",
              "</pre>\n"
            ]
          },
          "metadata": {}
        },
        {
          "output_type": "display_data",
          "data": {
            "text/plain": [
              "\u001b[1m Total params: \u001b[0m\u001b[38;5;34m32,053,928\u001b[0m (122.28 MB)\n"
            ],
            "text/html": [
              "<pre style=\"white-space:pre;overflow-x:auto;line-height:normal;font-family:Menlo,'DejaVu Sans Mono',consolas,'Courier New',monospace\"><span style=\"font-weight: bold\"> Total params: </span><span style=\"color: #00af00; text-decoration-color: #00af00\">32,053,928</span> (122.28 MB)\n",
              "</pre>\n"
            ]
          },
          "metadata": {}
        },
        {
          "output_type": "display_data",
          "data": {
            "text/plain": [
              "\u001b[1m Trainable params: \u001b[0m\u001b[38;5;34m32,053,928\u001b[0m (122.28 MB)\n"
            ],
            "text/html": [
              "<pre style=\"white-space:pre;overflow-x:auto;line-height:normal;font-family:Menlo,'DejaVu Sans Mono',consolas,'Courier New',monospace\"><span style=\"font-weight: bold\"> Trainable params: </span><span style=\"color: #00af00; text-decoration-color: #00af00\">32,053,928</span> (122.28 MB)\n",
              "</pre>\n"
            ]
          },
          "metadata": {}
        },
        {
          "output_type": "display_data",
          "data": {
            "text/plain": [
              "\u001b[1m Non-trainable params: \u001b[0m\u001b[38;5;34m0\u001b[0m (0.00 B)\n"
            ],
            "text/html": [
              "<pre style=\"white-space:pre;overflow-x:auto;line-height:normal;font-family:Menlo,'DejaVu Sans Mono',consolas,'Courier New',monospace\"><span style=\"font-weight: bold\"> Non-trainable params: </span><span style=\"color: #00af00; text-decoration-color: #00af00\">0</span> (0.00 B)\n",
              "</pre>\n"
            ]
          },
          "metadata": {}
        }
      ]
    },
    {
      "cell_type": "code",
      "source": [
        "cp_path =\"training/cp-{epoch:04d}.weights.h5\"\n",
        "cp_dir = os.path.dirname(cp_path)\n",
        "cp_callback = tf.keras.callbacks.ModelCheckpoint(\n",
        "    cp_path,\n",
        "    verbose= 1,\n",
        "    save_weights_only=True\n",
        ")\n",
        "es_callback = tf.keras.callbacks.EarlyStopping(\n",
        "    monitor=\"val_loss\",\n",
        "    patience = 10,\n",
        ")\n",
        "\n",
        "model_vgg_fashion.compile(\n",
        "    # 정답을 있는 라벨인코딩값을 그대로 사용 : loss --> sparse\n",
        "    loss = \"sparse_categorical_crossentropy\",\n",
        "    optimizer = tf.keras.optimizers.Adam(),\n",
        "    metrics = [\"accuracy\"]\n",
        ")\n",
        "\n",
        "history = model_vgg_fashion.fit(\n",
        "    train_X, train_y,\n",
        "    # ===> 굳이 to_categorical()사용을 안 한 이유 : loss에서 처리!!!!\n",
        "    epochs = 200,\n",
        "    validation_split = 0.25,\n",
        "    batch_size = 128,\n",
        "    # +++ callback\n",
        "    callbacks = [cp_callback,es_callback ]\n",
        ")"
      ],
      "metadata": {
        "colab": {
          "base_uri": "https://localhost:8080/"
        },
        "id": "OdkY8_m36uoQ",
        "outputId": "d47edc19-2815-4df3-ce05-f98c6ec2a502"
      },
      "execution_count": null,
      "outputs": [
        {
          "output_type": "stream",
          "name": "stdout",
          "text": [
            "Epoch 1/200\n",
            "\u001b[1m352/352\u001b[0m \u001b[32m━━━━━━━━━━━━━━━━━━━━\u001b[0m\u001b[37m\u001b[0m \u001b[1m0s\u001b[0m 48ms/step - accuracy: 0.4704 - loss: 1.6964\n",
            "Epoch 1: saving model to training/cp-0001.weights.h5\n",
            "\u001b[1m352/352\u001b[0m \u001b[32m━━━━━━━━━━━━━━━━━━━━\u001b[0m\u001b[37m\u001b[0m \u001b[1m37s\u001b[0m 81ms/step - accuracy: 0.4710 - loss: 1.6941 - val_accuracy: 0.8604 - val_loss: 0.3712\n",
            "Epoch 2/200\n",
            "\u001b[1m352/352\u001b[0m \u001b[32m━━━━━━━━━━━━━━━━━━━━\u001b[0m\u001b[37m\u001b[0m \u001b[1m0s\u001b[0m 36ms/step - accuracy: 0.8738 - loss: 0.3384\n",
            "Epoch 2: saving model to training/cp-0002.weights.h5\n",
            "\u001b[1m352/352\u001b[0m \u001b[32m━━━━━━━━━━━━━━━━━━━━\u001b[0m\u001b[37m\u001b[0m \u001b[1m21s\u001b[0m 43ms/step - accuracy: 0.8738 - loss: 0.3384 - val_accuracy: 0.8875 - val_loss: 0.3011\n",
            "Epoch 3/200\n",
            "\u001b[1m351/352\u001b[0m \u001b[32m━━━━━━━━━━━━━━━━━━━\u001b[0m\u001b[37m━\u001b[0m \u001b[1m0s\u001b[0m 36ms/step - accuracy: 0.9000 - loss: 0.2714\n",
            "Epoch 3: saving model to training/cp-0003.weights.h5\n",
            "\u001b[1m352/352\u001b[0m \u001b[32m━━━━━━━━━━━━━━━━━━━━\u001b[0m\u001b[37m\u001b[0m \u001b[1m21s\u001b[0m 43ms/step - accuracy: 0.9000 - loss: 0.2713 - val_accuracy: 0.9069 - val_loss: 0.2590\n",
            "Epoch 4/200\n",
            "\u001b[1m351/352\u001b[0m \u001b[32m━━━━━━━━━━━━━━━━━━━\u001b[0m\u001b[37m━\u001b[0m \u001b[1m0s\u001b[0m 37ms/step - accuracy: 0.9190 - loss: 0.2232\n",
            "Epoch 4: saving model to training/cp-0004.weights.h5\n",
            "\u001b[1m352/352\u001b[0m \u001b[32m━━━━━━━━━━━━━━━━━━━━\u001b[0m\u001b[37m\u001b[0m \u001b[1m15s\u001b[0m 44ms/step - accuracy: 0.9190 - loss: 0.2233 - val_accuracy: 0.9129 - val_loss: 0.2372\n",
            "Epoch 5/200\n",
            "\u001b[1m351/352\u001b[0m \u001b[32m━━━━━━━━━━━━━━━━━━━\u001b[0m\u001b[37m━\u001b[0m \u001b[1m0s\u001b[0m 36ms/step - accuracy: 0.9276 - loss: 0.1955\n",
            "Epoch 5: saving model to training/cp-0005.weights.h5\n",
            "\u001b[1m352/352\u001b[0m \u001b[32m━━━━━━━━━━━━━━━━━━━━\u001b[0m\u001b[37m\u001b[0m \u001b[1m20s\u001b[0m 43ms/step - accuracy: 0.9276 - loss: 0.1955 - val_accuracy: 0.9179 - val_loss: 0.2350\n",
            "Epoch 6/200\n",
            "\u001b[1m352/352\u001b[0m \u001b[32m━━━━━━━━━━━━━━━━━━━━\u001b[0m\u001b[37m\u001b[0m \u001b[1m0s\u001b[0m 36ms/step - accuracy: 0.9358 - loss: 0.1682\n",
            "Epoch 6: saving model to training/cp-0006.weights.h5\n",
            "\u001b[1m352/352\u001b[0m \u001b[32m━━━━━━━━━━━━━━━━━━━━\u001b[0m\u001b[37m\u001b[0m \u001b[1m20s\u001b[0m 42ms/step - accuracy: 0.9357 - loss: 0.1683 - val_accuracy: 0.9222 - val_loss: 0.2214\n",
            "Epoch 7/200\n",
            "\u001b[1m352/352\u001b[0m \u001b[32m━━━━━━━━━━━━━━━━━━━━\u001b[0m\u001b[37m\u001b[0m \u001b[1m0s\u001b[0m 36ms/step - accuracy: 0.9424 - loss: 0.1533\n",
            "Epoch 7: saving model to training/cp-0007.weights.h5\n",
            "\u001b[1m352/352\u001b[0m \u001b[32m━━━━━━━━━━━━━━━━━━━━\u001b[0m\u001b[37m\u001b[0m \u001b[1m22s\u001b[0m 46ms/step - accuracy: 0.9424 - loss: 0.1533 - val_accuracy: 0.9153 - val_loss: 0.2459\n",
            "Epoch 8/200\n",
            "\u001b[1m352/352\u001b[0m \u001b[32m━━━━━━━━━━━━━━━━━━━━\u001b[0m\u001b[37m\u001b[0m \u001b[1m0s\u001b[0m 36ms/step - accuracy: 0.9469 - loss: 0.1406\n",
            "Epoch 8: saving model to training/cp-0008.weights.h5\n",
            "\u001b[1m352/352\u001b[0m \u001b[32m━━━━━━━━━━━━━━━━━━━━\u001b[0m\u001b[37m\u001b[0m \u001b[1m19s\u001b[0m 43ms/step - accuracy: 0.9469 - loss: 0.1406 - val_accuracy: 0.9236 - val_loss: 0.2292\n",
            "Epoch 9/200\n",
            "\u001b[1m351/352\u001b[0m \u001b[32m━━━━━━━━━━━━━━━━━━━\u001b[0m\u001b[37m━\u001b[0m \u001b[1m0s\u001b[0m 36ms/step - accuracy: 0.9557 - loss: 0.1199\n",
            "Epoch 9: saving model to training/cp-0009.weights.h5\n",
            "\u001b[1m352/352\u001b[0m \u001b[32m━━━━━━━━━━━━━━━━━━━━\u001b[0m\u001b[37m\u001b[0m \u001b[1m20s\u001b[0m 42ms/step - accuracy: 0.9557 - loss: 0.1199 - val_accuracy: 0.9209 - val_loss: 0.2346\n",
            "Epoch 10/200\n",
            "\u001b[1m351/352\u001b[0m \u001b[32m━━━━━━━━━━━━━━━━━━━\u001b[0m\u001b[37m━\u001b[0m \u001b[1m0s\u001b[0m 36ms/step - accuracy: 0.9605 - loss: 0.1060\n",
            "Epoch 10: saving model to training/cp-0010.weights.h5\n",
            "\u001b[1m352/352\u001b[0m \u001b[32m━━━━━━━━━━━━━━━━━━━━\u001b[0m\u001b[37m\u001b[0m \u001b[1m21s\u001b[0m 44ms/step - accuracy: 0.9605 - loss: 0.1061 - val_accuracy: 0.9260 - val_loss: 0.2448\n",
            "Epoch 11/200\n",
            "\u001b[1m351/352\u001b[0m \u001b[32m━━━━━━━━━━━━━━━━━━━\u001b[0m\u001b[37m━\u001b[0m \u001b[1m0s\u001b[0m 36ms/step - accuracy: 0.9640 - loss: 0.0937\n",
            "Epoch 11: saving model to training/cp-0011.weights.h5\n",
            "\u001b[1m352/352\u001b[0m \u001b[32m━━━━━━━━━━━━━━━━━━━━\u001b[0m\u001b[37m\u001b[0m \u001b[1m15s\u001b[0m 44ms/step - accuracy: 0.9640 - loss: 0.0937 - val_accuracy: 0.9233 - val_loss: 0.2490\n",
            "Epoch 12/200\n",
            "\u001b[1m351/352\u001b[0m \u001b[32m━━━━━━━━━━━━━━━━━━━\u001b[0m\u001b[37m━\u001b[0m \u001b[1m0s\u001b[0m 36ms/step - accuracy: 0.9680 - loss: 0.0845\n",
            "Epoch 12: saving model to training/cp-0012.weights.h5\n",
            "\u001b[1m352/352\u001b[0m \u001b[32m━━━━━━━━━━━━━━━━━━━━\u001b[0m\u001b[37m\u001b[0m \u001b[1m15s\u001b[0m 42ms/step - accuracy: 0.9680 - loss: 0.0846 - val_accuracy: 0.9135 - val_loss: 0.2873\n",
            "Epoch 13/200\n",
            "\u001b[1m351/352\u001b[0m \u001b[32m━━━━━━━━━━━━━━━━━━━\u001b[0m\u001b[37m━\u001b[0m \u001b[1m0s\u001b[0m 35ms/step - accuracy: 0.9727 - loss: 0.0750\n",
            "Epoch 13: saving model to training/cp-0013.weights.h5\n",
            "\u001b[1m352/352\u001b[0m \u001b[32m━━━━━━━━━━━━━━━━━━━━\u001b[0m\u001b[37m\u001b[0m \u001b[1m26s\u001b[0m 56ms/step - accuracy: 0.9727 - loss: 0.0750 - val_accuracy: 0.9258 - val_loss: 0.2929\n",
            "Epoch 14/200\n",
            "\u001b[1m351/352\u001b[0m \u001b[32m━━━━━━━━━━━━━━━━━━━\u001b[0m\u001b[37m━\u001b[0m \u001b[1m0s\u001b[0m 36ms/step - accuracy: 0.9765 - loss: 0.0651\n",
            "Epoch 14: saving model to training/cp-0014.weights.h5\n",
            "\u001b[1m352/352\u001b[0m \u001b[32m━━━━━━━━━━━━━━━━━━━━\u001b[0m\u001b[37m\u001b[0m \u001b[1m16s\u001b[0m 45ms/step - accuracy: 0.9765 - loss: 0.0652 - val_accuracy: 0.9231 - val_loss: 0.3339\n",
            "Epoch 15/200\n",
            "\u001b[1m351/352\u001b[0m \u001b[32m━━━━━━━━━━━━━━━━━━━\u001b[0m\u001b[37m━\u001b[0m \u001b[1m0s\u001b[0m 36ms/step - accuracy: 0.9766 - loss: 0.0637\n",
            "Epoch 15: saving model to training/cp-0015.weights.h5\n",
            "\u001b[1m352/352\u001b[0m \u001b[32m━━━━━━━━━━━━━━━━━━━━\u001b[0m\u001b[37m\u001b[0m \u001b[1m15s\u001b[0m 43ms/step - accuracy: 0.9766 - loss: 0.0637 - val_accuracy: 0.9237 - val_loss: 0.3176\n",
            "Epoch 16/200\n",
            "\u001b[1m351/352\u001b[0m \u001b[32m━━━━━━━━━━━━━━━━━━━\u001b[0m\u001b[37m━\u001b[0m \u001b[1m0s\u001b[0m 36ms/step - accuracy: 0.9815 - loss: 0.0514\n",
            "Epoch 16: saving model to training/cp-0016.weights.h5\n",
            "\u001b[1m352/352\u001b[0m \u001b[32m━━━━━━━━━━━━━━━━━━━━\u001b[0m\u001b[37m\u001b[0m \u001b[1m20s\u001b[0m 56ms/step - accuracy: 0.9815 - loss: 0.0514 - val_accuracy: 0.9232 - val_loss: 0.3269\n"
          ]
        }
      ]
    },
    {
      "cell_type": "code",
      "source": [
        "model_vgg_fashion.evaluate(test_X, test_y)"
      ],
      "metadata": {
        "colab": {
          "base_uri": "https://localhost:8080/"
        },
        "id": "10PQLUI26uqy",
        "outputId": "542b0a2b-58c7-49f9-b582-a3287378e45c"
      },
      "execution_count": null,
      "outputs": [
        {
          "output_type": "stream",
          "name": "stdout",
          "text": [
            "\u001b[1m313/313\u001b[0m \u001b[32m━━━━━━━━━━━━━━━━━━━━\u001b[0m\u001b[37m\u001b[0m \u001b[1m4s\u001b[0m 7ms/step - accuracy: 0.9179 - loss: 0.3703\n"
          ]
        },
        {
          "output_type": "execute_result",
          "data": {
            "text/plain": [
              "[0.3630956709384918, 0.91839998960495]"
            ]
          },
          "metadata": {},
          "execution_count": 19
        }
      ]
    },
    {
      "cell_type": "code",
      "source": [
        "# DNN : 0.87~0.89\n",
        "# CNN : 0.90~0.91\n",
        "# VGG : 0.91~????\n",
        "# ===> 네트워크 설계 방식과 구체적인 구조를 변경!!!!!!\n",
        "#      DL에서는 네트워크의 구조를 가지고 뭔가!!!!!!!\n",
        "# ===> BaseLine 바뀌는 부분 기본적인 설계방식!!!!!!"
      ],
      "metadata": {
        "id": "sumMHQYY6utY"
      },
      "execution_count": null,
      "outputs": []
    },
    {
      "cell_type": "code",
      "source": [],
      "metadata": {
        "id": "aIpfQkdz93g7"
      },
      "execution_count": null,
      "outputs": []
    },
    {
      "cell_type": "code",
      "source": [
        "# 실습 과제 : 조별 활동을 하시면서,,개인적으로 실험을 해보세요!!!\n",
        "#           : VGG 구조를 활용해서 FashionMNIST 데이터 셋의 성능을 올려보세요!!!\n",
        "# 목표 : test_X에 대해서 0.93정도까지 한 번 올려봐보세요!!!!!\n",
        "# ++ 모델의 구조 : dropout\n",
        "# ++ conv필터의 사이즈\n",
        "# ++ conv필터의 갯수\n",
        "# ++ 분류에 대한 Dense 레이어의 깊이, 노드수, AF etc+ dropout\n",
        "# ===> 실험을 해보시라는 의미!!!!!\n",
        "# 목적 : 코드와 코드가 의미하는 네트워크 구조가 머리속에 그림을 그려보세요!!\n",
        "#        + 여러 실험에 대한 옵션을 체크!!! batch_size , epochs 조절해보시면서\n",
        "#                                          GPU의 메모리, HDD용량, RAM etc\n",
        "\n",
        "# 다음 주 월까지...."
      ],
      "metadata": {
        "id": "TtMInT4m93kG"
      },
      "execution_count": null,
      "outputs": []
    },
    {
      "cell_type": "code",
      "source": [],
      "metadata": {
        "id": "RbDCKbRd93mi"
      },
      "execution_count": null,
      "outputs": []
    },
    {
      "cell_type": "code",
      "source": [],
      "metadata": {
        "id": "6VH956RF93ps"
      },
      "execution_count": null,
      "outputs": []
    }
  ]
}